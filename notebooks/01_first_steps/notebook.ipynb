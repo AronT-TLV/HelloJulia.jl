{
 "cells": [
  {
   "cell_type": "markdown",
   "source": [
    "# Tutorial 1"
   ],
   "metadata": {}
  },
  {
   "cell_type": "markdown",
   "source": [
    "Notebook from [HelloJulia.jl](https://github.com/ablaom/HelloJulia.jl)"
   ],
   "metadata": {}
  },
  {
   "cell_type": "markdown",
   "source": [
    "Crash course in Julia basics:"
   ],
   "metadata": {}
  },
  {
   "cell_type": "markdown",
   "source": [
    "Arithmetic, arrays, tuples, strings, dictionaries, functions,\n",
    "iteration, random numbers, package loading, plotting"
   ],
   "metadata": {}
  },
  {
   "cell_type": "markdown",
   "source": [
    "(40 min)"
   ],
   "metadata": {}
  },
  {
   "cell_type": "markdown",
   "source": [
    "## Setup"
   ],
   "metadata": {}
  },
  {
   "cell_type": "markdown",
   "source": [
    "The following block of code installs some third-party Julia packges. Beginners do not need\n",
    "to understand it."
   ],
   "metadata": {}
  },
  {
   "outputs": [
    {
     "name": "stdout",
     "output_type": "stream",
     "text": [
      "  Activating project at `~/GoogleDrive/Julia/HelloJulia`\n"
     ]
    }
   ],
   "cell_type": "code",
   "source": [
    "using Pkg\n",
    "Pkg.activate(joinpath(@__DIR__, \"..\", \"..\"))\n",
    "Pkg.instantiate()"
   ],
   "metadata": {},
   "execution_count": 1
  },
  {
   "cell_type": "markdown",
   "source": [
    "## Julia is a calculator:"
   ],
   "metadata": {}
  },
  {
   "outputs": [
    {
     "output_type": "execute_result",
     "data": {
      "text/plain": "9"
     },
     "metadata": {},
     "execution_count": 2
    }
   ],
   "cell_type": "code",
   "source": [
    "1 + 2^3"
   ],
   "metadata": {},
   "execution_count": 2
  },
  {
   "outputs": [
    {
     "output_type": "execute_result",
     "data": {
      "text/plain": "3.0"
     },
     "metadata": {},
     "execution_count": 3
    }
   ],
   "cell_type": "code",
   "source": [
    "sqrt(1 + 2^3) # do `sqrt(ans)` in REPL"
   ],
   "metadata": {},
   "execution_count": 3
  },
  {
   "outputs": [
    {
     "output_type": "execute_result",
     "data": {
      "text/plain": "0.0"
     },
     "metadata": {},
     "execution_count": 4
    }
   ],
   "cell_type": "code",
   "source": [
    "sin(pi)"
   ],
   "metadata": {},
   "execution_count": 4
  },
  {
   "cell_type": "markdown",
   "source": [
    "Query a function's document:"
   ],
   "metadata": {}
  },
  {
   "outputs": [
    {
     "output_type": "execute_result",
     "data": {
      "text/plain": "\u001b[36m  sin(x)\u001b[39m\n\n  Compute sine of \u001b[36mx\u001b[39m, where \u001b[36mx\u001b[39m is in radians.\n\n  See also [\u001b[36msind\u001b[39m], [\u001b[36msinpi\u001b[39m], [\u001b[36msincos\u001b[39m], [\u001b[36mcis\u001b[39m].\n\n\u001b[36m  sin(A::AbstractMatrix)\u001b[39m\n\n  Compute the matrix sine of a square matrix \u001b[36mA\u001b[39m.\n\n  If \u001b[36mA\u001b[39m is symmetric or Hermitian, its eigendecomposition (\u001b[36meigen\u001b[39m) is used to compute the\n  sine. Otherwise, the sine is determined by calling \u001b[36mexp\u001b[39m.\n\n\u001b[1m  Examples\u001b[22m\n\u001b[1m  ≡≡≡≡≡≡≡≡≡≡\u001b[22m\n\n\u001b[36m  julia> sin(fill(1.0, (2,2)))\u001b[39m\n\u001b[36m  2×2 Matrix{Float64}:\u001b[39m\n\u001b[36m   0.454649  0.454649\u001b[39m\n\u001b[36m   0.454649  0.454649\u001b[39m",
      "text/markdown": "```\nsin(x)\n```\n\nCompute sine of `x`, where `x` is in radians.\n\nSee also [`sind`], [`sinpi`], [`sincos`], [`cis`].\n\n```\nsin(A::AbstractMatrix)\n```\n\nCompute the matrix sine of a square matrix `A`.\n\nIf `A` is symmetric or Hermitian, its eigendecomposition ([`eigen`](@ref)) is used to compute the sine. Otherwise, the sine is determined by calling [`exp`](@ref).\n\n# Examples\n\n```jldoctest\njulia> sin(fill(1.0, (2,2)))\n2×2 Matrix{Float64}:\n 0.454649  0.454649\n 0.454649  0.454649\n```\n"
     },
     "metadata": {},
     "execution_count": 5
    }
   ],
   "cell_type": "code",
   "source": [
    "@doc sin"
   ],
   "metadata": {},
   "execution_count": 5
  },
  {
   "cell_type": "markdown",
   "source": [
    "At the REPL, you can instead do `?sin`. And you can search for all\n",
    "doc-strings referring to \"sine\" with `apropos(\"sine\")`."
   ],
   "metadata": {}
  },
  {
   "cell_type": "markdown",
   "source": [
    "## Arrays"
   ],
   "metadata": {}
  },
  {
   "cell_type": "markdown",
   "source": [
    "One dimensional vectors:"
   ],
   "metadata": {}
  },
  {
   "outputs": [
    {
     "output_type": "execute_result",
     "data": {
      "text/plain": "3-element Vector{Int64}:\n 3\n 5\n 7"
     },
     "metadata": {},
     "execution_count": 6
    }
   ],
   "cell_type": "code",
   "source": [
    "v = [3, 5, 7]"
   ],
   "metadata": {},
   "execution_count": 6
  },
  {
   "outputs": [
    {
     "output_type": "execute_result",
     "data": {
      "text/plain": "3"
     },
     "metadata": {},
     "execution_count": 7
    }
   ],
   "cell_type": "code",
   "source": [
    "length(v)"
   ],
   "metadata": {},
   "execution_count": 7
  },
  {
   "cell_type": "markdown",
   "source": [
    "A \"row vector\" is a 1 x n array:"
   ],
   "metadata": {}
  },
  {
   "outputs": [
    {
     "output_type": "execute_result",
     "data": {
      "text/plain": "1×3 Matrix{Int64}:\n 3  5  7"
     },
     "metadata": {},
     "execution_count": 8
    }
   ],
   "cell_type": "code",
   "source": [
    "row = [3 5 7]"
   ],
   "metadata": {},
   "execution_count": 8
  },
  {
   "cell_type": "markdown",
   "source": [
    "Multiple row vectors separated by semicolons or new lines define matrices:"
   ],
   "metadata": {}
  },
  {
   "outputs": [
    {
     "output_type": "execute_result",
     "data": {
      "text/plain": "3×3 Matrix{Int64}:\n 3  5  7\n 2  4  6\n 1  3  5"
     },
     "metadata": {},
     "execution_count": 9
    }
   ],
   "cell_type": "code",
   "source": [
    "A = [3 5 7\n",
    "     2 4 6\n",
    "     1 3 5]"
   ],
   "metadata": {},
   "execution_count": 9
  },
  {
   "outputs": [
    {
     "output_type": "execute_result",
     "data": {
      "text/plain": "(3, 3)"
     },
     "metadata": {},
     "execution_count": 10
    }
   ],
   "cell_type": "code",
   "source": [
    "size(A)"
   ],
   "metadata": {},
   "execution_count": 10
  },
  {
   "outputs": [
    {
     "output_type": "execute_result",
     "data": {
      "text/plain": "9"
     },
     "metadata": {},
     "execution_count": 11
    }
   ],
   "cell_type": "code",
   "source": [
    "length(A)"
   ],
   "metadata": {},
   "execution_count": 11
  },
  {
   "cell_type": "markdown",
   "source": [
    "Accessing elements (Julia indices start at 1 not 0):"
   ],
   "metadata": {}
  },
  {
   "outputs": [
    {
     "output_type": "execute_result",
     "data": {
      "text/plain": "5"
     },
     "metadata": {},
     "execution_count": 12
    }
   ],
   "cell_type": "code",
   "source": [
    "A[1, 2]"
   ],
   "metadata": {},
   "execution_count": 12
  },
  {
   "cell_type": "markdown",
   "source": [
    "Get the second column:"
   ],
   "metadata": {}
  },
  {
   "outputs": [
    {
     "output_type": "execute_result",
     "data": {
      "text/plain": "3-element Vector{Int64}:\n 5\n 4\n 3"
     },
     "metadata": {},
     "execution_count": 13
    }
   ],
   "cell_type": "code",
   "source": [
    "A[:, 2] # 2nd column"
   ],
   "metadata": {},
   "execution_count": 13
  },
  {
   "cell_type": "markdown",
   "source": [
    "Changing elements:"
   ],
   "metadata": {}
  },
  {
   "outputs": [
    {
     "output_type": "execute_result",
     "data": {
      "text/plain": "42"
     },
     "metadata": {},
     "execution_count": 14
    }
   ],
   "cell_type": "code",
   "source": [
    "A[1, 1] = 42"
   ],
   "metadata": {},
   "execution_count": 14
  },
  {
   "cell_type": "markdown",
   "source": [
    "Matrices can also be indexed as if columns where concatenated into a\n",
    "single vector (which is how they are stored internally):"
   ],
   "metadata": {}
  },
  {
   "outputs": [
    {
     "output_type": "execute_result",
     "data": {
      "text/plain": "true"
     },
     "metadata": {},
     "execution_count": 15
    }
   ],
   "cell_type": "code",
   "source": [
    "A[2, 3] == A[8]"
   ],
   "metadata": {},
   "execution_count": 15
  },
  {
   "outputs": [
    {
     "output_type": "execute_result",
     "data": {
      "text/plain": "3×3 Matrix{Float64}:\n  0.025641   -0.0512821   0.025641\n -0.0512821   2.60256    -3.05128\n  0.025641   -1.55128     2.02564"
     },
     "metadata": {},
     "execution_count": 16
    }
   ],
   "cell_type": "code",
   "source": [
    "inv(A) # inverse"
   ],
   "metadata": {},
   "execution_count": 16
  },
  {
   "outputs": [
    {
     "output_type": "execute_result",
     "data": {
      "text/plain": "true"
     },
     "metadata": {},
     "execution_count": 17
    }
   ],
   "cell_type": "code",
   "source": [
    "isapprox(inv(A)*v, A\\v) # but RHS more efficient"
   ],
   "metadata": {},
   "execution_count": 17
  },
  {
   "cell_type": "markdown",
   "source": [
    "## \"Variables\" in Julia *point* to objects"
   ],
   "metadata": {}
  },
  {
   "cell_type": "markdown",
   "source": [
    "Corollary: all passing of function arguments is pass by reference."
   ],
   "metadata": {}
  },
  {
   "cell_type": "markdown",
   "source": [
    "Like Python; Unlike R, C or FORTRAN."
   ],
   "metadata": {}
  },
  {
   "outputs": [
    {
     "output_type": "execute_result",
     "data": {
      "text/plain": "3-element Vector{Int64}:\n 3\n 5\n 7"
     },
     "metadata": {},
     "execution_count": 18
    }
   ],
   "cell_type": "code",
   "source": [
    "u = [3, 5, 7]\n",
    "\n",
    "w = u"
   ],
   "metadata": {},
   "execution_count": 18
  },
  {
   "outputs": [
    {
     "output_type": "execute_result",
     "data": {
      "text/plain": "3-element Vector{Int64}:\n 3\n 5\n 7"
     },
     "metadata": {},
     "execution_count": 19
    }
   ],
   "cell_type": "code",
   "source": [
    "w"
   ],
   "metadata": {},
   "execution_count": 19
  },
  {
   "outputs": [
    {
     "output_type": "execute_result",
     "data": {
      "text/plain": "42"
     },
     "metadata": {},
     "execution_count": 20
    }
   ],
   "cell_type": "code",
   "source": [
    "u[1] = 42"
   ],
   "metadata": {},
   "execution_count": 20
  },
  {
   "outputs": [
    {
     "output_type": "execute_result",
     "data": {
      "text/plain": "3-element Vector{Int64}:\n 42\n  5\n  7"
     },
     "metadata": {},
     "execution_count": 21
    }
   ],
   "cell_type": "code",
   "source": [
    "u"
   ],
   "metadata": {},
   "execution_count": 21
  },
  {
   "outputs": [
    {
     "output_type": "execute_result",
     "data": {
      "text/plain": "3-element Vector{Int64}:\n 42\n  5\n  7"
     },
     "metadata": {},
     "execution_count": 22
    }
   ],
   "cell_type": "code",
   "source": [
    "w"
   ],
   "metadata": {},
   "execution_count": 22
  },
  {
   "cell_type": "markdown",
   "source": [
    "## Tuples"
   ],
   "metadata": {}
  },
  {
   "cell_type": "markdown",
   "source": [
    "Similar to vectors but of fixed length and immutable (cannot be changed)"
   ],
   "metadata": {}
  },
  {
   "outputs": [
    {
     "output_type": "execute_result",
     "data": {
      "text/plain": "Tuple{Int64, Float64, String}"
     },
     "metadata": {},
     "execution_count": 23
    }
   ],
   "cell_type": "code",
   "source": [
    "t1 = (1, 2.0, \"cat\")\n",
    "typeof(t1)"
   ],
   "metadata": {},
   "execution_count": 23
  },
  {
   "outputs": [
    {
     "output_type": "execute_result",
     "data": {
      "text/plain": "\"cat\""
     },
     "metadata": {},
     "execution_count": 24
    }
   ],
   "cell_type": "code",
   "source": [
    "t1[3]"
   ],
   "metadata": {},
   "execution_count": 24
  },
  {
   "cell_type": "markdown",
   "source": [
    "Tuples also come in a *named* variety:"
   ],
   "metadata": {}
  },
  {
   "outputs": [
    {
     "output_type": "execute_result",
     "data": {
      "text/plain": "(i = 1, x = 2.0, animal = \"cat\")"
     },
     "metadata": {},
     "execution_count": 25
    }
   ],
   "cell_type": "code",
   "source": [
    "t2 = (i = 1, x = 2.0, animal=\"cat\")"
   ],
   "metadata": {},
   "execution_count": 25
  },
  {
   "outputs": [
    {
     "output_type": "execute_result",
     "data": {
      "text/plain": "2.0"
     },
     "metadata": {},
     "execution_count": 26
    }
   ],
   "cell_type": "code",
   "source": [
    "t2.x"
   ],
   "metadata": {},
   "execution_count": 26
  },
  {
   "cell_type": "markdown",
   "source": [
    "## Strings and relatives"
   ],
   "metadata": {}
  },
  {
   "outputs": [
    {
     "output_type": "execute_result",
     "data": {
      "text/plain": ":t"
     },
     "metadata": {},
     "execution_count": 27
    }
   ],
   "cell_type": "code",
   "source": [
    "a_string = \"the cat\"\n",
    "a_character = 't'\n",
    "a_symbol = :t"
   ],
   "metadata": {},
   "execution_count": 27
  },
  {
   "outputs": [
    {
     "output_type": "execute_result",
     "data": {
      "text/plain": "true"
     },
     "metadata": {},
     "execution_count": 28
    }
   ],
   "cell_type": "code",
   "source": [
    "a_string[1] == a_character"
   ],
   "metadata": {},
   "execution_count": 28
  },
  {
   "cell_type": "markdown",
   "source": [
    "A `Symbol` is string-like but\n",
    "[interned](https://en.wikipedia.org/wiki/String_interning). Generally use `String` for\n",
    "ordinary textual data, but use `Symbol` for language reflection (metaprogramming) - for\n",
    "example when referring to the *name* of a variable, as opposed to its value:"
   ],
   "metadata": {}
  },
  {
   "outputs": [
    {
     "output_type": "execute_result",
     "data": {
      "text/plain": "(:i, :x, :animal)"
     },
     "metadata": {},
     "execution_count": 29
    }
   ],
   "cell_type": "code",
   "source": [
    "names = keys(t2)"
   ],
   "metadata": {},
   "execution_count": 29
  },
  {
   "outputs": [
    {
     "output_type": "execute_result",
     "data": {
      "text/plain": "true"
     },
     "metadata": {},
     "execution_count": 30
    }
   ],
   "cell_type": "code",
   "source": [
    ":x in names"
   ],
   "metadata": {},
   "execution_count": 30
  },
  {
   "outputs": [
    {
     "output_type": "execute_result",
     "data": {
      "text/plain": "false"
     },
     "metadata": {},
     "execution_count": 31
    }
   ],
   "cell_type": "code",
   "source": [
    "isdefined(@__MODULE__, :z)"
   ],
   "metadata": {},
   "execution_count": 31
  },
  {
   "outputs": [
    {
     "output_type": "execute_result",
     "data": {
      "text/plain": "1 + 2im"
     },
     "metadata": {},
     "execution_count": 32
    }
   ],
   "cell_type": "code",
   "source": [
    "z = 1 + 2im"
   ],
   "metadata": {},
   "execution_count": 32
  },
  {
   "outputs": [
    {
     "output_type": "execute_result",
     "data": {
      "text/plain": "true"
     },
     "metadata": {},
     "execution_count": 33
    }
   ],
   "cell_type": "code",
   "source": [
    "isdefined(@__MODULE__, :z)"
   ],
   "metadata": {},
   "execution_count": 33
  },
  {
   "cell_type": "markdown",
   "source": [
    "Symbols are generalized by *expressions*:"
   ],
   "metadata": {}
  },
  {
   "outputs": [
    {
     "output_type": "execute_result",
     "data": {
      "text/plain": ":(z == 3)"
     },
     "metadata": {},
     "execution_count": 34
    }
   ],
   "cell_type": "code",
   "source": [
    "ex = :(z == 3)"
   ],
   "metadata": {},
   "execution_count": 34
  },
  {
   "outputs": [
    {
     "output_type": "execute_result",
     "data": {
      "text/plain": "false"
     },
     "metadata": {},
     "execution_count": 35
    }
   ],
   "cell_type": "code",
   "source": [
    "eval(ex)"
   ],
   "metadata": {},
   "execution_count": 35
  },
  {
   "cell_type": "markdown",
   "source": [
    "If this is confusing, forget it for now."
   ],
   "metadata": {}
  },
  {
   "cell_type": "markdown",
   "source": [
    "## Dictionaries"
   ],
   "metadata": {}
  },
  {
   "outputs": [
    {
     "output_type": "execute_result",
     "data": {
      "text/plain": "Dict{Char, String} with 2 entries:\n  'a' => \"ant\"\n  'z' => \"zebra\""
     },
     "metadata": {},
     "execution_count": 36
    }
   ],
   "cell_type": "code",
   "source": [
    "d = Dict('a' => \"ant\", 'z' => \"zebra\")"
   ],
   "metadata": {},
   "execution_count": 36
  },
  {
   "outputs": [
    {
     "output_type": "execute_result",
     "data": {
      "text/plain": "\"ant\""
     },
     "metadata": {},
     "execution_count": 37
    }
   ],
   "cell_type": "code",
   "source": [
    "d['a']"
   ],
   "metadata": {},
   "execution_count": 37
  },
  {
   "outputs": [
    {
     "output_type": "execute_result",
     "data": {
      "text/plain": "Dict{Char, String} with 3 entries:\n  'a' => \"ant\"\n  'z' => \"zebra\"\n  'b' => \"bat\""
     },
     "metadata": {},
     "execution_count": 38
    }
   ],
   "cell_type": "code",
   "source": [
    "d['b'] = \"bat\"\n",
    "d"
   ],
   "metadata": {},
   "execution_count": 38
  },
  {
   "outputs": [
    {
     "output_type": "execute_result",
     "data": {
      "text/plain": "KeySet for a Dict{Char, String} with 3 entries. Keys:\n  'a'\n  'z'\n  'b'"
     },
     "metadata": {},
     "execution_count": 39
    }
   ],
   "cell_type": "code",
   "source": [
    "keys(d)"
   ],
   "metadata": {},
   "execution_count": 39
  },
  {
   "cell_type": "markdown",
   "source": [
    "The expression 'a' => \"ant\" is itself a stand-alone object called a *pair*:"
   ],
   "metadata": {}
  },
  {
   "outputs": [
    {
     "output_type": "execute_result",
     "data": {
      "text/plain": "'a': ASCII/Unicode U+0061 (category Ll: Letter, lowercase)"
     },
     "metadata": {},
     "execution_count": 40
    }
   ],
   "cell_type": "code",
   "source": [
    "pair = 'a' => \"ant\"\n",
    "first(pair)"
   ],
   "metadata": {},
   "execution_count": 40
  },
  {
   "cell_type": "markdown",
   "source": [
    "## Functions"
   ],
   "metadata": {}
  },
  {
   "cell_type": "markdown",
   "source": [
    "Three ways to define a generic function:"
   ],
   "metadata": {}
  },
  {
   "outputs": [
    {
     "output_type": "execute_result",
     "data": {
      "text/plain": "9"
     },
     "metadata": {},
     "execution_count": 41
    }
   ],
   "cell_type": "code",
   "source": [
    "foo(x) = x^2 # METHOD 1 (inline)\n",
    "foo(3)"
   ],
   "metadata": {},
   "execution_count": 41
  },
  {
   "cell_type": "markdown",
   "source": [
    "or"
   ],
   "metadata": {}
  },
  {
   "outputs": [
    {
     "output_type": "execute_result",
     "data": {
      "text/plain": "9"
     },
     "metadata": {},
     "execution_count": 42
    }
   ],
   "cell_type": "code",
   "source": [
    "3 |> foo"
   ],
   "metadata": {},
   "execution_count": 42
  },
  {
   "cell_type": "markdown",
   "source": [
    "or"
   ],
   "metadata": {}
  },
  {
   "outputs": [
    {
     "output_type": "execute_result",
     "data": {
      "text/plain": "9"
     },
     "metadata": {},
     "execution_count": 43
    }
   ],
   "cell_type": "code",
   "source": [
    "3 |> x -> x^2 # METHOD 2 (anonymous)"
   ],
   "metadata": {},
   "execution_count": 43
  },
  {
   "cell_type": "markdown",
   "source": [
    "or"
   ],
   "metadata": {}
  },
  {
   "outputs": [
    {
     "output_type": "execute_result",
     "data": {
      "text/plain": "9"
     },
     "metadata": {},
     "execution_count": 44
    }
   ],
   "cell_type": "code",
   "source": [
    "function foo2(x) # METHOD 3 (verbose)\n",
    "    y = x\n",
    "    z = y\n",
    "    w = z\n",
    "    return w^2\n",
    "end\n",
    "\n",
    "foo2(3)"
   ],
   "metadata": {},
   "execution_count": 44
  },
  {
   "cell_type": "markdown",
   "source": [
    "## Basic iteration"
   ],
   "metadata": {}
  },
  {
   "cell_type": "markdown",
   "source": [
    "Here are four ways to square the integers from 1 to 10."
   ],
   "metadata": {}
  },
  {
   "cell_type": "markdown",
   "source": [
    "METHOD 1 (explicit loop):"
   ],
   "metadata": {}
  },
  {
   "outputs": [
    {
     "output_type": "execute_result",
     "data": {
      "text/plain": "10-element Vector{Any}:\n   1\n   4\n   9\n  16\n  25\n  36\n  49\n  64\n  81\n 100"
     },
     "metadata": {},
     "execution_count": 45
    }
   ],
   "cell_type": "code",
   "source": [
    "squares = [] # or Int[] if performance matters\n",
    "for x in 1:10\n",
    "    push!(squares, x^2)\n",
    "end\n",
    "\n",
    "squares"
   ],
   "metadata": {},
   "execution_count": 45
  },
  {
   "cell_type": "markdown",
   "source": [
    "METHOD 2 (comprehension):"
   ],
   "metadata": {}
  },
  {
   "outputs": [
    {
     "output_type": "execute_result",
     "data": {
      "text/plain": "10-element Vector{Int64}:\n   1\n   4\n   9\n  16\n  25\n  36\n  49\n  64\n  81\n 100"
     },
     "metadata": {},
     "execution_count": 46
    }
   ],
   "cell_type": "code",
   "source": [
    "[x^2 for x in 1:10]"
   ],
   "metadata": {},
   "execution_count": 46
  },
  {
   "cell_type": "markdown",
   "source": [
    "METHOD 3 (map):"
   ],
   "metadata": {}
  },
  {
   "outputs": [
    {
     "output_type": "execute_result",
     "data": {
      "text/plain": "10-element Vector{Int64}:\n   1\n   4\n   9\n  16\n  25\n  36\n  49\n  64\n  81\n 100"
     },
     "metadata": {},
     "execution_count": 47
    }
   ],
   "cell_type": "code",
   "source": [
    "map(x -> x^2, 1:10)"
   ],
   "metadata": {},
   "execution_count": 47
  },
  {
   "cell_type": "markdown",
   "source": [
    "METHOD 4 (broadcasting with dot syntax):"
   ],
   "metadata": {}
  },
  {
   "outputs": [
    {
     "output_type": "execute_result",
     "data": {
      "text/plain": "10-element Vector{Int64}:\n   1\n   4\n   9\n  16\n  25\n  36\n  49\n  64\n  81\n 100"
     },
     "metadata": {},
     "execution_count": 48
    }
   ],
   "cell_type": "code",
   "source": [
    "(1:10) .^ 2"
   ],
   "metadata": {},
   "execution_count": 48
  },
  {
   "cell_type": "markdown",
   "source": [
    "## Random numbers"
   ],
   "metadata": {}
  },
  {
   "outputs": [
    {
     "output_type": "execute_result",
     "data": {
      "text/plain": "Int64"
     },
     "metadata": {},
     "execution_count": 49
    }
   ],
   "cell_type": "code",
   "source": [
    "typeof(2)"
   ],
   "metadata": {},
   "execution_count": 49
  },
  {
   "outputs": [
    {
     "output_type": "execute_result",
     "data": {
      "text/plain": "0.35259808227972644"
     },
     "metadata": {},
     "execution_count": 50
    }
   ],
   "cell_type": "code",
   "source": [
    "rand() # sample a Float64 uniformly from interval [0, 1]"
   ],
   "metadata": {},
   "execution_count": 50
  },
  {
   "outputs": [
    {
     "output_type": "execute_result",
     "data": {
      "text/plain": "3×4 Matrix{Float64}:\n 0.616999  0.1235    0.901526   0.747087\n 0.587598  0.162656  0.0576074  0.50164\n 0.684672  0.851614  0.707966   0.955474"
     },
     "metadata": {},
     "execution_count": 51
    }
   ],
   "cell_type": "code",
   "source": [
    "rand(3, 4) # do that 12 times and put in a 3 x 4 array"
   ],
   "metadata": {},
   "execution_count": 51
  },
  {
   "outputs": [
    {
     "output_type": "execute_result",
     "data": {
      "text/plain": "3×4 Matrix{Float64}:\n -0.650812  1.68022    0.92638   -0.010082\n -0.570684  0.766793   0.180178  -1.14266\n -1.50707   0.270458  -1.45054   -0.0743169"
     },
     "metadata": {},
     "execution_count": 52
    }
   ],
   "cell_type": "code",
   "source": [
    "randn(3, 4) # use normal distribution instead"
   ],
   "metadata": {},
   "execution_count": 52
  },
  {
   "outputs": [
    {
     "output_type": "execute_result",
     "data": {
      "text/plain": "-4"
     },
     "metadata": {},
     "execution_count": 53
    }
   ],
   "cell_type": "code",
   "source": [
    "rand(Int8) # random elment of type Int8"
   ],
   "metadata": {},
   "execution_count": 53
  },
  {
   "outputs": [
    {
     "output_type": "execute_result",
     "data": {
      "text/plain": "10-element Vector{Char}:\n 'c': ASCII/Unicode U+0063 (category Ll: Letter, lowercase)\n 'a': ASCII/Unicode U+0061 (category Ll: Letter, lowercase)\n 'c': ASCII/Unicode U+0063 (category Ll: Letter, lowercase)\n 'c': ASCII/Unicode U+0063 (category Ll: Letter, lowercase)\n 'b': ASCII/Unicode U+0062 (category Ll: Letter, lowercase)\n 'a': ASCII/Unicode U+0061 (category Ll: Letter, lowercase)\n 'b': ASCII/Unicode U+0062 (category Ll: Letter, lowercase)\n 'a': ASCII/Unicode U+0061 (category Ll: Letter, lowercase)\n 'b': ASCII/Unicode U+0062 (category Ll: Letter, lowercase)\n 'c': ASCII/Unicode U+0063 (category Ll: Letter, lowercase)"
     },
     "metadata": {},
     "execution_count": 54
    }
   ],
   "cell_type": "code",
   "source": [
    "rand(['a', 'b', 'c'], 10) # 10 random elements from a vector"
   ],
   "metadata": {},
   "execution_count": 54
  },
  {
   "cell_type": "markdown",
   "source": [
    "Some standard libraries are needed to do more, for example:"
   ],
   "metadata": {}
  },
  {
   "outputs": [],
   "cell_type": "code",
   "source": [
    "using Random"
   ],
   "metadata": {},
   "execution_count": 55
  },
  {
   "outputs": [
    {
     "output_type": "execute_result",
     "data": {
      "text/plain": "\"l26hIJ7wuY9pqYkLSiRB228rv8kcTh\""
     },
     "metadata": {},
     "execution_count": 56
    }
   ],
   "cell_type": "code",
   "source": [
    "randstring(30)"
   ],
   "metadata": {},
   "execution_count": 56
  },
  {
   "outputs": [],
   "cell_type": "code",
   "source": [
    "using Statistics"
   ],
   "metadata": {},
   "execution_count": 57
  },
  {
   "outputs": [
    {
     "output_type": "execute_result",
     "data": {
      "text/plain": "0.49831713579083736"
     },
     "metadata": {},
     "execution_count": 58
    }
   ],
   "cell_type": "code",
   "source": [
    "y = rand(30)\n",
    "mean(y)"
   ],
   "metadata": {},
   "execution_count": 58
  },
  {
   "outputs": [
    {
     "output_type": "execute_result",
     "data": {
      "text/plain": "0.7406627182068711"
     },
     "metadata": {},
     "execution_count": 59
    }
   ],
   "cell_type": "code",
   "source": [
    "quantile(y, 0.75)"
   ],
   "metadata": {},
   "execution_count": 59
  },
  {
   "cell_type": "markdown",
   "source": [
    "## Probability distributions"
   ],
   "metadata": {}
  },
  {
   "cell_type": "markdown",
   "source": [
    "For sampling from more general distributions we need\n",
    "Distributions.jl package which is not part of the standard library."
   ],
   "metadata": {}
  },
  {
   "outputs": [],
   "cell_type": "code",
   "source": [
    "using Distributions\n",
    "\n",
    "N = 1000\n",
    "samples = rand(Normal(), N);   # equivalent to Julia's built-in `randn(d)`\n",
    "samples = (samples).^2;        # square element-wise"
   ],
   "metadata": {},
   "execution_count": 60
  },
  {
   "outputs": [
    {
     "output_type": "execute_result",
     "data": {
      "text/plain": "Distributions.Gamma{Float64}(α=0.5194139402375357, θ=1.899238465096497)"
     },
     "metadata": {},
     "execution_count": 61
    }
   ],
   "cell_type": "code",
   "source": [
    "g = fit(Gamma, samples)"
   ],
   "metadata": {},
   "execution_count": 61
  },
  {
   "outputs": [
    {
     "output_type": "execute_result",
     "data": {
      "text/plain": "0.986490934606461"
     },
     "metadata": {},
     "execution_count": 62
    }
   ],
   "cell_type": "code",
   "source": [
    "mean(g)"
   ],
   "metadata": {},
   "execution_count": 62
  },
  {
   "outputs": [
    {
     "output_type": "execute_result",
     "data": {
      "text/plain": "0.46386191925502357"
     },
     "metadata": {},
     "execution_count": 63
    }
   ],
   "cell_type": "code",
   "source": [
    "median(g)"
   ],
   "metadata": {},
   "execution_count": 63
  },
  {
   "outputs": [
    {
     "output_type": "execute_result",
     "data": {
      "text/plain": "0.24786725610670027"
     },
     "metadata": {},
     "execution_count": 64
    }
   ],
   "cell_type": "code",
   "source": [
    "pdf(g, 1)"
   ],
   "metadata": {},
   "execution_count": 64
  },
  {
   "outputs": [],
   "cell_type": "code",
   "source": [
    "using PkgOnlineHelp"
   ],
   "metadata": {},
   "execution_count": 65
  },
  {
   "cell_type": "markdown",
   "source": [
    "Uncomment and execute the next line to launch Distribution documentation in your browser:"
   ],
   "metadata": {}
  },
  {
   "outputs": [],
   "cell_type": "code",
   "source": [
    "#@docs Distributions"
   ],
   "metadata": {},
   "execution_count": 66
  },
  {
   "cell_type": "markdown",
   "source": [
    "## Plotting"
   ],
   "metadata": {}
  },
  {
   "outputs": [],
   "cell_type": "code",
   "source": [
    "using CairoMakie\n",
    "CairoMakie.activate!(type = \"png\")"
   ],
   "metadata": {},
   "execution_count": 67
  },
  {
   "outputs": [
    {
     "output_type": "execute_result",
     "data": {
      "text/plain": "Figure()",
      "image/png": "[encoded data removed]"
     },
     "metadata": {},
     "execution_count": 68
    }
   ],
   "cell_type": "code",
   "source": [
    "f(x) = pdf(g, x)\n",
    "\n",
    "xs = 0:0.1:4 # floats from 0 to 4 in steps of 0.1\n",
    "ys = f.(xs)  # apply f element-wise to xs\n",
    "\n",
    "fig = lines(xs, ys)\n",
    "hist!(samples, normalization=:pdf, bins=40, alpha=0.4)\n",
    "current_figure()"
   ],
   "metadata": {},
   "execution_count": 68
  },
  {
   "outputs": [
    {
     "output_type": "execute_result",
     "data": {
      "text/plain": "CairoMakie.Screen{IMAGE}\n"
     },
     "metadata": {},
     "execution_count": 69
    }
   ],
   "cell_type": "code",
   "source": [
    "save(\"my_first_plot.png\", fig)"
   ],
   "metadata": {},
   "execution_count": 69
  },
  {
   "cell_type": "markdown",
   "source": [
    "# Exercises"
   ],
   "metadata": {}
  },
  {
   "cell_type": "markdown",
   "source": [
    "## Exercise 1"
   ],
   "metadata": {}
  },
  {
   "cell_type": "markdown",
   "source": [
    "Write a function named `total` that adds the elements of its vector input."
   ],
   "metadata": {}
  },
  {
   "cell_type": "markdown",
   "source": [
    "## Exercise 2"
   ],
   "metadata": {}
  },
  {
   "cell_type": "markdown",
   "source": [
    "Generate a 1000 random samples from the standard normal\n",
    "distribution. Create a second such sample, and add the two samples\n",
    "point-wise.  Compute the (sample) mean and variance of the combined\n",
    "samples. In the same\n",
    "plot, show a frequency-normalized histogram of the combined samples\n",
    "and a plot of the pdf for normal distribution with zero mean and\n",
    "variance `2`."
   ],
   "metadata": {}
  },
  {
   "cell_type": "markdown",
   "source": [
    "You can use `std` to compute the standard deviation and `sqrt` to\n",
    "compute square roots."
   ],
   "metadata": {}
  },
  {
   "cell_type": "markdown",
   "source": [
    "## Exercise 3"
   ],
   "metadata": {}
  },
  {
   "cell_type": "markdown",
   "source": [
    "The following shows that named tuples share some behaviour with dictionaries:"
   ],
   "metadata": {}
  },
  {
   "outputs": [
    {
     "output_type": "execute_result",
     "data": {
      "text/plain": "(:x, :y, :z)"
     },
     "metadata": {},
     "execution_count": 70
    }
   ],
   "cell_type": "code",
   "source": [
    "t = (x = 1, y = \"cat\", z = 4.5)\n",
    "keys(t)"
   ],
   "metadata": {},
   "execution_count": 70
  },
  {
   "outputs": [
    {
     "output_type": "execute_result",
     "data": {
      "text/plain": "\"cat\""
     },
     "metadata": {},
     "execution_count": 71
    }
   ],
   "cell_type": "code",
   "source": [
    "t[:y]"
   ],
   "metadata": {},
   "execution_count": 71
  },
  {
   "cell_type": "markdown",
   "source": [
    "Write a function called `dict` that converts a named tuple to an\n",
    "actual dictionary. You can create an empty dictionary using `Dict()`."
   ],
   "metadata": {}
  },
  {
   "cell_type": "markdown",
   "source": [
    "---\n",
    "\n",
    "*This notebook was generated using [Literate.jl](https://github.com/fredrikekre/Literate.jl).*"
   ],
   "metadata": {}
  }
 ],
 "nbformat_minor": 3,
 "metadata": {
  "language_info": {
   "file_extension": ".jl",
   "mimetype": "application/julia",
   "name": "julia",
   "version": "1.8.2"
  },
  "kernelspec": {
   "name": "julia-1.8",
   "display_name": "Julia 1.8.2",
   "language": "julia"
  }
 },
 "nbformat": 4
}
