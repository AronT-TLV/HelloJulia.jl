{
 "cells": [
  {
   "cell_type": "markdown",
   "source": [
    "# Tutorial 1"
   ],
   "metadata": {}
  },
  {
   "cell_type": "markdown",
   "source": [
    "Crash course in Julia basics:"
   ],
   "metadata": {}
  },
  {
   "cell_type": "markdown",
   "source": [
    "Arithmetic, arrays, tuples, strings, dictionaries, functions,\n",
    "iteration, random numbers, package loading, plotting"
   ],
   "metadata": {}
  },
  {
   "cell_type": "markdown",
   "source": [
    "(40 min)"
   ],
   "metadata": {}
  },
  {
   "cell_type": "markdown",
   "source": [
    "## Setup"
   ],
   "metadata": {}
  },
  {
   "cell_type": "markdown",
   "source": [
    "The following block of code installs some third-party Julia packges. Beginners do not need\n",
    "to understand them."
   ],
   "metadata": {}
  },
  {
   "outputs": [
    {
     "name": "stdout",
     "output_type": "stream",
     "text": [
      "  Activating project at `~/GoogleDrive/Julia/HelloJulia`\n"
     ]
    }
   ],
   "cell_type": "code",
   "source": [
    "using Pkg\n",
    "Pkg.activate(joinpath(@__DIR__, \"..\", \"..\"))\n",
    "Pkg.instantiate()"
   ],
   "metadata": {},
   "execution_count": 1
  },
  {
   "cell_type": "markdown",
   "source": [
    "## Julia is a calculator:"
   ],
   "metadata": {}
  },
  {
   "outputs": [
    {
     "output_type": "execute_result",
     "data": {
      "text/plain": "9"
     },
     "metadata": {},
     "execution_count": 2
    }
   ],
   "cell_type": "code",
   "source": [
    "1 + 2^3"
   ],
   "metadata": {},
   "execution_count": 2
  },
  {
   "outputs": [
    {
     "output_type": "execute_result",
     "data": {
      "text/plain": "3.0"
     },
     "metadata": {},
     "execution_count": 3
    }
   ],
   "cell_type": "code",
   "source": [
    "sqrt(1 + 2^3) # do `sqrt(ans)` in REPL"
   ],
   "metadata": {},
   "execution_count": 3
  },
  {
   "outputs": [
    {
     "output_type": "execute_result",
     "data": {
      "text/plain": "1.2246467991473532e-16"
     },
     "metadata": {},
     "execution_count": 4
    }
   ],
   "cell_type": "code",
   "source": [
    "sin(pi)"
   ],
   "metadata": {},
   "execution_count": 4
  },
  {
   "cell_type": "markdown",
   "source": [
    "Query a function's document:"
   ],
   "metadata": {}
  },
  {
   "outputs": [
    {
     "output_type": "execute_result",
     "data": {
      "text/plain": "\u001b[36m  sin(x)\u001b[39m\n\n  Compute sine of \u001b[36mx\u001b[39m, where \u001b[36mx\u001b[39m is in radians.\n\n  See also [\u001b[36msind\u001b[39m], [\u001b[36msinpi\u001b[39m], [\u001b[36msincos\u001b[39m], [\u001b[36mcis\u001b[39m].\n\n\u001b[36m  sin(A::AbstractMatrix)\u001b[39m\n\n  Compute the matrix sine of a square matrix \u001b[36mA\u001b[39m.\n\n  If \u001b[36mA\u001b[39m is symmetric or Hermitian, its eigendecomposition (\u001b[36meigen\u001b[39m) is used to compute the sine. Otherwise, the sine is determined by calling \u001b[36mexp\u001b[39m.\n\n\u001b[1m  Examples\u001b[22m\n\u001b[1m  ≡≡≡≡≡≡≡≡≡≡\u001b[22m\n\n\u001b[36m  julia> sin(fill(1.0, (2,2)))\u001b[39m\n\u001b[36m  2×2 Matrix{Float64}:\u001b[39m\n\u001b[36m   0.454649  0.454649\u001b[39m\n\u001b[36m   0.454649  0.454649\u001b[39m",
      "text/markdown": "```\nsin(x)\n```\n\nCompute sine of `x`, where `x` is in radians.\n\nSee also [`sind`], [`sinpi`], [`sincos`], [`cis`].\n\n```\nsin(A::AbstractMatrix)\n```\n\nCompute the matrix sine of a square matrix `A`.\n\nIf `A` is symmetric or Hermitian, its eigendecomposition ([`eigen`](@ref)) is used to compute the sine. Otherwise, the sine is determined by calling [`exp`](@ref).\n\n# Examples\n\n```jldoctest\njulia> sin(fill(1.0, (2,2)))\n2×2 Matrix{Float64}:\n 0.454649  0.454649\n 0.454649  0.454649\n```\n"
     },
     "metadata": {},
     "execution_count": 5
    }
   ],
   "cell_type": "code",
   "source": [
    "@doc sin"
   ],
   "metadata": {},
   "execution_count": 5
  },
  {
   "cell_type": "markdown",
   "source": [
    "At the REPL, you can instead do `?sin`. And you can search for all\n",
    "doc-strings referring to \"sine\" with `apropos(\"sine\")`."
   ],
   "metadata": {}
  },
  {
   "cell_type": "markdown",
   "source": [
    "## Arrays"
   ],
   "metadata": {}
  },
  {
   "cell_type": "markdown",
   "source": [
    "One dimensional vectors:"
   ],
   "metadata": {}
  },
  {
   "outputs": [
    {
     "output_type": "execute_result",
     "data": {
      "text/plain": "3-element Vector{Int64}:\n 3\n 5\n 7"
     },
     "metadata": {},
     "execution_count": 6
    }
   ],
   "cell_type": "code",
   "source": [
    "v = [3, 5, 7]"
   ],
   "metadata": {},
   "execution_count": 6
  },
  {
   "outputs": [
    {
     "output_type": "execute_result",
     "data": {
      "text/plain": "3"
     },
     "metadata": {},
     "execution_count": 7
    }
   ],
   "cell_type": "code",
   "source": [
    "length(v)"
   ],
   "metadata": {},
   "execution_count": 7
  },
  {
   "cell_type": "markdown",
   "source": [
    "A \"row vector\" is a 1 x n array:"
   ],
   "metadata": {}
  },
  {
   "outputs": [
    {
     "output_type": "execute_result",
     "data": {
      "text/plain": "1×3 Matrix{Int64}:\n 3  5  7"
     },
     "metadata": {},
     "execution_count": 8
    }
   ],
   "cell_type": "code",
   "source": [
    "row = [3 5 7]"
   ],
   "metadata": {},
   "execution_count": 8
  },
  {
   "cell_type": "markdown",
   "source": [
    "Multiple row vectors separated by semicolons or new lines define matrices:"
   ],
   "metadata": {}
  },
  {
   "outputs": [
    {
     "output_type": "execute_result",
     "data": {
      "text/plain": "3×3 Matrix{Int64}:\n 3  5  7\n 2  4  6\n 1  3  5"
     },
     "metadata": {},
     "execution_count": 9
    }
   ],
   "cell_type": "code",
   "source": [
    "A = [3 5 7\n",
    "     2 4 6\n",
    "     1 3 5]"
   ],
   "metadata": {},
   "execution_count": 9
  },
  {
   "outputs": [
    {
     "output_type": "execute_result",
     "data": {
      "text/plain": "(3, 3)"
     },
     "metadata": {},
     "execution_count": 10
    }
   ],
   "cell_type": "code",
   "source": [
    "size(A)"
   ],
   "metadata": {},
   "execution_count": 10
  },
  {
   "outputs": [
    {
     "output_type": "execute_result",
     "data": {
      "text/plain": "9"
     },
     "metadata": {},
     "execution_count": 11
    }
   ],
   "cell_type": "code",
   "source": [
    "length(A)"
   ],
   "metadata": {},
   "execution_count": 11
  },
  {
   "cell_type": "markdown",
   "source": [
    "Accessing elements (Julia indices start at 1 not 0):"
   ],
   "metadata": {}
  },
  {
   "outputs": [
    {
     "output_type": "execute_result",
     "data": {
      "text/plain": "5"
     },
     "metadata": {},
     "execution_count": 12
    }
   ],
   "cell_type": "code",
   "source": [
    "A[1, 2]"
   ],
   "metadata": {},
   "execution_count": 12
  },
  {
   "cell_type": "markdown",
   "source": [
    "Get the second column:"
   ],
   "metadata": {}
  },
  {
   "outputs": [
    {
     "output_type": "execute_result",
     "data": {
      "text/plain": "3-element Vector{Int64}:\n 5\n 4\n 3"
     },
     "metadata": {},
     "execution_count": 13
    }
   ],
   "cell_type": "code",
   "source": [
    "A[:, 2] # 2nd column"
   ],
   "metadata": {},
   "execution_count": 13
  },
  {
   "cell_type": "markdown",
   "source": [
    "Changing elements:"
   ],
   "metadata": {}
  },
  {
   "outputs": [
    {
     "output_type": "execute_result",
     "data": {
      "text/plain": "42"
     },
     "metadata": {},
     "execution_count": 14
    }
   ],
   "cell_type": "code",
   "source": [
    "A[1, 1] = 42"
   ],
   "metadata": {},
   "execution_count": 14
  },
  {
   "cell_type": "markdown",
   "source": [
    "Matrices can also be indexed as if columns where concatenated into a\n",
    "single vector (which is how they are stored internally):"
   ],
   "metadata": {}
  },
  {
   "outputs": [
    {
     "output_type": "execute_result",
     "data": {
      "text/plain": "true"
     },
     "metadata": {},
     "execution_count": 15
    }
   ],
   "cell_type": "code",
   "source": [
    "A[2, 3] == A[8]"
   ],
   "metadata": {},
   "execution_count": 15
  },
  {
   "outputs": [
    {
     "output_type": "execute_result",
     "data": {
      "text/plain": "3×3 Matrix{Float64}:\n  0.025641   -0.0512821   0.025641\n -0.0512821   2.60256    -3.05128\n  0.025641   -1.55128     2.02564"
     },
     "metadata": {},
     "execution_count": 16
    }
   ],
   "cell_type": "code",
   "source": [
    "inv(A) # inverse"
   ],
   "metadata": {},
   "execution_count": 16
  },
  {
   "outputs": [
    {
     "output_type": "execute_result",
     "data": {
      "text/plain": "true"
     },
     "metadata": {},
     "execution_count": 17
    }
   ],
   "cell_type": "code",
   "source": [
    "isapprox(inv(A)*v, A\\v) # but RHS more efficient"
   ],
   "metadata": {},
   "execution_count": 17
  },
  {
   "cell_type": "markdown",
   "source": [
    "## \"Variables\" in Julia *point* to objects"
   ],
   "metadata": {}
  },
  {
   "cell_type": "markdown",
   "source": [
    "Corollary: all passing of function arguments is pass by reference."
   ],
   "metadata": {}
  },
  {
   "cell_type": "markdown",
   "source": [
    "Like Python; Unlike R, C or FORTRAN."
   ],
   "metadata": {}
  },
  {
   "outputs": [
    {
     "output_type": "execute_result",
     "data": {
      "text/plain": "3-element Vector{Int64}:\n 3\n 5\n 7"
     },
     "metadata": {},
     "execution_count": 18
    }
   ],
   "cell_type": "code",
   "source": [
    "u = [3, 5, 7]\n",
    "\n",
    "w = u"
   ],
   "metadata": {},
   "execution_count": 18
  },
  {
   "outputs": [
    {
     "output_type": "execute_result",
     "data": {
      "text/plain": "3-element Vector{Int64}:\n 3\n 5\n 7"
     },
     "metadata": {},
     "execution_count": 19
    }
   ],
   "cell_type": "code",
   "source": [
    "w"
   ],
   "metadata": {},
   "execution_count": 19
  },
  {
   "outputs": [
    {
     "output_type": "execute_result",
     "data": {
      "text/plain": "42"
     },
     "metadata": {},
     "execution_count": 20
    }
   ],
   "cell_type": "code",
   "source": [
    "u[1] = 42"
   ],
   "metadata": {},
   "execution_count": 20
  },
  {
   "outputs": [
    {
     "output_type": "execute_result",
     "data": {
      "text/plain": "3-element Vector{Int64}:\n 42\n  5\n  7"
     },
     "metadata": {},
     "execution_count": 21
    }
   ],
   "cell_type": "code",
   "source": [
    "u"
   ],
   "metadata": {},
   "execution_count": 21
  },
  {
   "outputs": [
    {
     "output_type": "execute_result",
     "data": {
      "text/plain": "3-element Vector{Int64}:\n 42\n  5\n  7"
     },
     "metadata": {},
     "execution_count": 22
    }
   ],
   "cell_type": "code",
   "source": [
    "w"
   ],
   "metadata": {},
   "execution_count": 22
  },
  {
   "cell_type": "markdown",
   "source": [
    "## Tuples"
   ],
   "metadata": {}
  },
  {
   "cell_type": "markdown",
   "source": [
    "Similar to vectors but of fixed length and immutable (cannot be changed)"
   ],
   "metadata": {}
  },
  {
   "outputs": [
    {
     "output_type": "execute_result",
     "data": {
      "text/plain": "Tuple{Int64, Float64, String}"
     },
     "metadata": {},
     "execution_count": 23
    }
   ],
   "cell_type": "code",
   "source": [
    "t1 = (1, 2.0, \"cat\")\n",
    "typeof(t1)"
   ],
   "metadata": {},
   "execution_count": 23
  },
  {
   "outputs": [
    {
     "output_type": "execute_result",
     "data": {
      "text/plain": "\"cat\""
     },
     "metadata": {},
     "execution_count": 24
    }
   ],
   "cell_type": "code",
   "source": [
    "t1[3]"
   ],
   "metadata": {},
   "execution_count": 24
  },
  {
   "cell_type": "markdown",
   "source": [
    "Tuples also come in a *named* variety:"
   ],
   "metadata": {}
  },
  {
   "outputs": [
    {
     "output_type": "execute_result",
     "data": {
      "text/plain": "(i = 1, x = 2.0, animal = \"cat\")"
     },
     "metadata": {},
     "execution_count": 25
    }
   ],
   "cell_type": "code",
   "source": [
    "t2 = (i = 1, x = 2.0, animal=\"cat\")"
   ],
   "metadata": {},
   "execution_count": 25
  },
  {
   "outputs": [
    {
     "output_type": "execute_result",
     "data": {
      "text/plain": "2.0"
     },
     "metadata": {},
     "execution_count": 26
    }
   ],
   "cell_type": "code",
   "source": [
    "t2.x"
   ],
   "metadata": {},
   "execution_count": 26
  },
  {
   "cell_type": "markdown",
   "source": [
    "## Strings and relatives"
   ],
   "metadata": {}
  },
  {
   "outputs": [
    {
     "output_type": "execute_result",
     "data": {
      "text/plain": ":t"
     },
     "metadata": {},
     "execution_count": 27
    }
   ],
   "cell_type": "code",
   "source": [
    "a_string = \"the cat\"\n",
    "a_character = 't'\n",
    "a_symbol = :t"
   ],
   "metadata": {},
   "execution_count": 27
  },
  {
   "outputs": [
    {
     "output_type": "execute_result",
     "data": {
      "text/plain": "true"
     },
     "metadata": {},
     "execution_count": 28
    }
   ],
   "cell_type": "code",
   "source": [
    "a_string[1] == a_character"
   ],
   "metadata": {},
   "execution_count": 28
  },
  {
   "cell_type": "markdown",
   "source": [
    "A `Symbol` is string-like but\n",
    "[interned](https://en.wikipedia.org/wiki/String_interning). Generally use `String` for\n",
    "ordinary textual data, but use `Symbol` for language reflection (metaprogramming) - for\n",
    "example when referring to the *name* of a variable, as opposed to its value:"
   ],
   "metadata": {}
  },
  {
   "outputs": [
    {
     "output_type": "execute_result",
     "data": {
      "text/plain": "(:i, :x, :animal)"
     },
     "metadata": {},
     "execution_count": 29
    }
   ],
   "cell_type": "code",
   "source": [
    "names = keys(t2)"
   ],
   "metadata": {},
   "execution_count": 29
  },
  {
   "outputs": [
    {
     "output_type": "execute_result",
     "data": {
      "text/plain": "true"
     },
     "metadata": {},
     "execution_count": 30
    }
   ],
   "cell_type": "code",
   "source": [
    ":x in names"
   ],
   "metadata": {},
   "execution_count": 30
  },
  {
   "outputs": [
    {
     "output_type": "execute_result",
     "data": {
      "text/plain": "false"
     },
     "metadata": {},
     "execution_count": 31
    }
   ],
   "cell_type": "code",
   "source": [
    "isdefined(Main, :z)"
   ],
   "metadata": {},
   "execution_count": 31
  },
  {
   "outputs": [
    {
     "output_type": "execute_result",
     "data": {
      "text/plain": "1 + 2im"
     },
     "metadata": {},
     "execution_count": 32
    }
   ],
   "cell_type": "code",
   "source": [
    "z = 1 + 2im"
   ],
   "metadata": {},
   "execution_count": 32
  },
  {
   "outputs": [
    {
     "output_type": "execute_result",
     "data": {
      "text/plain": "false"
     },
     "metadata": {},
     "execution_count": 33
    }
   ],
   "cell_type": "code",
   "source": [
    "isdefined(Main, :z)"
   ],
   "metadata": {},
   "execution_count": 33
  },
  {
   "cell_type": "markdown",
   "source": [
    "Symbols are generalized by *expressions*:"
   ],
   "metadata": {}
  },
  {
   "outputs": [
    {
     "output_type": "execute_result",
     "data": {
      "text/plain": "false"
     },
     "metadata": {},
     "execution_count": 34
    }
   ],
   "cell_type": "code",
   "source": [
    "ex = :(z == 3)\n",
    "eval(ex)"
   ],
   "metadata": {},
   "execution_count": 34
  },
  {
   "cell_type": "markdown",
   "source": [
    "If this is confusing, forget it for now."
   ],
   "metadata": {}
  },
  {
   "cell_type": "markdown",
   "source": [
    "## Dictionaries"
   ],
   "metadata": {}
  },
  {
   "outputs": [
    {
     "output_type": "execute_result",
     "data": {
      "text/plain": "Dict{Char, String} with 2 entries:\n  'a' => \"ant\"\n  'z' => \"zebra\""
     },
     "metadata": {},
     "execution_count": 35
    }
   ],
   "cell_type": "code",
   "source": [
    "d = Dict('a' => \"ant\", 'z' => \"zebra\")"
   ],
   "metadata": {},
   "execution_count": 35
  },
  {
   "outputs": [
    {
     "output_type": "execute_result",
     "data": {
      "text/plain": "\"ant\""
     },
     "metadata": {},
     "execution_count": 36
    }
   ],
   "cell_type": "code",
   "source": [
    "d['a']"
   ],
   "metadata": {},
   "execution_count": 36
  },
  {
   "outputs": [
    {
     "output_type": "execute_result",
     "data": {
      "text/plain": "Dict{Char, String} with 3 entries:\n  'a' => \"ant\"\n  'z' => \"zebra\"\n  'b' => \"bat\""
     },
     "metadata": {},
     "execution_count": 37
    }
   ],
   "cell_type": "code",
   "source": [
    "d['b'] = \"bat\"\n",
    "d"
   ],
   "metadata": {},
   "execution_count": 37
  },
  {
   "outputs": [
    {
     "output_type": "execute_result",
     "data": {
      "text/plain": "KeySet for a Dict{Char, String} with 3 entries. Keys:\n  'a'\n  'z'\n  'b'"
     },
     "metadata": {},
     "execution_count": 38
    }
   ],
   "cell_type": "code",
   "source": [
    "keys(d)"
   ],
   "metadata": {},
   "execution_count": 38
  },
  {
   "cell_type": "markdown",
   "source": [
    "The expression 'a' => \"ant\" is itself a stand-alone object:"
   ],
   "metadata": {}
  },
  {
   "outputs": [
    {
     "output_type": "execute_result",
     "data": {
      "text/plain": "'a': ASCII/Unicode U+0061 (category Ll: Letter, lowercase)"
     },
     "metadata": {},
     "execution_count": 39
    }
   ],
   "cell_type": "code",
   "source": [
    "pair = 'a' => \"ant\"\n",
    "first(pair)"
   ],
   "metadata": {},
   "execution_count": 39
  },
  {
   "cell_type": "markdown",
   "source": [
    "## Functions"
   ],
   "metadata": {}
  },
  {
   "cell_type": "markdown",
   "source": [
    "Three ways to define a generic function:"
   ],
   "metadata": {}
  },
  {
   "outputs": [
    {
     "output_type": "execute_result",
     "data": {
      "text/plain": "9"
     },
     "metadata": {},
     "execution_count": 40
    }
   ],
   "cell_type": "code",
   "source": [
    "foo(x) = x^2 # METHOD 1 (inline)\n",
    "foo(3)"
   ],
   "metadata": {},
   "execution_count": 40
  },
  {
   "cell_type": "markdown",
   "source": [
    "or"
   ],
   "metadata": {}
  },
  {
   "outputs": [
    {
     "output_type": "execute_result",
     "data": {
      "text/plain": "9"
     },
     "metadata": {},
     "execution_count": 41
    }
   ],
   "cell_type": "code",
   "source": [
    "3 |> foo"
   ],
   "metadata": {},
   "execution_count": 41
  },
  {
   "cell_type": "markdown",
   "source": [
    "or"
   ],
   "metadata": {}
  },
  {
   "outputs": [
    {
     "output_type": "execute_result",
     "data": {
      "text/plain": "9"
     },
     "metadata": {},
     "execution_count": 42
    }
   ],
   "cell_type": "code",
   "source": [
    "3 |> x -> x^2 # METHOD 2 (anonymous)"
   ],
   "metadata": {},
   "execution_count": 42
  },
  {
   "cell_type": "markdown",
   "source": [
    "or"
   ],
   "metadata": {}
  },
  {
   "outputs": [
    {
     "output_type": "execute_result",
     "data": {
      "text/plain": "9"
     },
     "metadata": {},
     "execution_count": 43
    }
   ],
   "cell_type": "code",
   "source": [
    "function foo2(x) # METHOD 3 (verbose)\n",
    "    y = x\n",
    "    z = y\n",
    "    w = z\n",
    "    return w^2\n",
    "end\n",
    "\n",
    "foo2(3)"
   ],
   "metadata": {},
   "execution_count": 43
  },
  {
   "cell_type": "markdown",
   "source": [
    "## Basic iteration"
   ],
   "metadata": {}
  },
  {
   "cell_type": "markdown",
   "source": [
    "Here are four ways to square the integers from 1 to 10."
   ],
   "metadata": {}
  },
  {
   "cell_type": "markdown",
   "source": [
    "METHOD 1 (explicit loop):"
   ],
   "metadata": {}
  },
  {
   "outputs": [
    {
     "output_type": "execute_result",
     "data": {
      "text/plain": "10-element Vector{Any}:\n   1\n   4\n   9\n  16\n   ⋮\n  64\n  81\n 100"
     },
     "metadata": {},
     "execution_count": 44
    }
   ],
   "cell_type": "code",
   "source": [
    "squares = [] # or Int[] if performance matters\n",
    "for x in 1:10\n",
    "    push!(squares, x^2)\n",
    "end\n",
    "\n",
    "squares"
   ],
   "metadata": {},
   "execution_count": 44
  },
  {
   "cell_type": "markdown",
   "source": [
    "METHOD 2 (comprehension):"
   ],
   "metadata": {}
  },
  {
   "outputs": [
    {
     "output_type": "execute_result",
     "data": {
      "text/plain": "10-element Vector{Int64}:\n   1\n   4\n   9\n  16\n   ⋮\n  64\n  81\n 100"
     },
     "metadata": {},
     "execution_count": 45
    }
   ],
   "cell_type": "code",
   "source": [
    "[x^2 for x in 1:10]"
   ],
   "metadata": {},
   "execution_count": 45
  },
  {
   "cell_type": "markdown",
   "source": [
    "METHOD 3 (map):"
   ],
   "metadata": {}
  },
  {
   "outputs": [
    {
     "output_type": "execute_result",
     "data": {
      "text/plain": "10-element Vector{Int64}:\n   1\n   4\n   9\n  16\n   ⋮\n  64\n  81\n 100"
     },
     "metadata": {},
     "execution_count": 46
    }
   ],
   "cell_type": "code",
   "source": [
    "map(x -> x^2, 1:10)"
   ],
   "metadata": {},
   "execution_count": 46
  },
  {
   "cell_type": "markdown",
   "source": [
    "METHOD 4 (broadcasting with dot syntax):"
   ],
   "metadata": {}
  },
  {
   "outputs": [
    {
     "output_type": "execute_result",
     "data": {
      "text/plain": "10-element Vector{Int64}:\n   1\n   4\n   9\n  16\n   ⋮\n  64\n  81\n 100"
     },
     "metadata": {},
     "execution_count": 47
    }
   ],
   "cell_type": "code",
   "source": [
    "(1:10) .^ 2"
   ],
   "metadata": {},
   "execution_count": 47
  },
  {
   "cell_type": "markdown",
   "source": [
    "## Random numbers"
   ],
   "metadata": {}
  },
  {
   "outputs": [
    {
     "output_type": "execute_result",
     "data": {
      "text/plain": "Int64"
     },
     "metadata": {},
     "execution_count": 48
    }
   ],
   "cell_type": "code",
   "source": [
    "typeof(2)"
   ],
   "metadata": {},
   "execution_count": 48
  },
  {
   "outputs": [
    {
     "output_type": "execute_result",
     "data": {
      "text/plain": "0.0644372591610679"
     },
     "metadata": {},
     "execution_count": 49
    }
   ],
   "cell_type": "code",
   "source": [
    "rand() # sample a Float64 uniformly from interval [0, 1]"
   ],
   "metadata": {},
   "execution_count": 49
  },
  {
   "outputs": [
    {
     "output_type": "execute_result",
     "data": {
      "text/plain": "3×4 Matrix{Float64}:\n 0.413911  0.660542   0.888702  0.35804\n 0.177667  0.130368   0.603459  0.310474\n 0.697879  0.0118226  0.791589  0.104761"
     },
     "metadata": {},
     "execution_count": 50
    }
   ],
   "cell_type": "code",
   "source": [
    "rand(3, 4) # do that 12 times and put in a 3 x 4 array"
   ],
   "metadata": {},
   "execution_count": 50
  },
  {
   "outputs": [
    {
     "output_type": "execute_result",
     "data": {
      "text/plain": "3×4 Matrix{Float64}:\n 1.87537   -0.750863   0.0795579   0.556903\n 0.355968  -0.442547   0.00454166  1.04458\n 0.878651  -0.885542  -1.39998     0.617828"
     },
     "metadata": {},
     "execution_count": 51
    }
   ],
   "cell_type": "code",
   "source": [
    "randn(3, 4) # use normal distribution instead"
   ],
   "metadata": {},
   "execution_count": 51
  },
  {
   "outputs": [
    {
     "output_type": "execute_result",
     "data": {
      "text/plain": "14"
     },
     "metadata": {},
     "execution_count": 52
    }
   ],
   "cell_type": "code",
   "source": [
    "rand(Int8) # random elment of type Int8"
   ],
   "metadata": {},
   "execution_count": 52
  },
  {
   "outputs": [
    {
     "output_type": "execute_result",
     "data": {
      "text/plain": "10-element Vector{Char}:\n 'b': ASCII/Unicode U+0062 (category Ll: Letter, lowercase)\n 'a': ASCII/Unicode U+0061 (category Ll: Letter, lowercase)\n 'c': ASCII/Unicode U+0063 (category Ll: Letter, lowercase)\n 'c': ASCII/Unicode U+0063 (category Ll: Letter, lowercase)\n ⋮\n 'b': ASCII/Unicode U+0062 (category Ll: Letter, lowercase)\n 'b': ASCII/Unicode U+0062 (category Ll: Letter, lowercase)\n 'c': ASCII/Unicode U+0063 (category Ll: Letter, lowercase)"
     },
     "metadata": {},
     "execution_count": 53
    }
   ],
   "cell_type": "code",
   "source": [
    "rand(['a', 'b', 'c'], 10) # 10 random elements from a vector"
   ],
   "metadata": {},
   "execution_count": 53
  },
  {
   "cell_type": "markdown",
   "source": [
    "Some standard libraries are needed to do more, for example:"
   ],
   "metadata": {}
  },
  {
   "outputs": [],
   "cell_type": "code",
   "source": [
    "using Random"
   ],
   "metadata": {},
   "execution_count": 54
  },
  {
   "outputs": [
    {
     "output_type": "execute_result",
     "data": {
      "text/plain": "\"akJfuqFcNIi1AheRTBZYq6BJ4mfYpx\""
     },
     "metadata": {},
     "execution_count": 55
    }
   ],
   "cell_type": "code",
   "source": [
    "randstring(30)"
   ],
   "metadata": {},
   "execution_count": 55
  },
  {
   "outputs": [],
   "cell_type": "code",
   "source": [
    "using Statistics"
   ],
   "metadata": {},
   "execution_count": 56
  },
  {
   "outputs": [
    {
     "output_type": "execute_result",
     "data": {
      "text/plain": "0.5119755977776277"
     },
     "metadata": {},
     "execution_count": 57
    }
   ],
   "cell_type": "code",
   "source": [
    "y = rand(30)\n",
    "mean(y)"
   ],
   "metadata": {},
   "execution_count": 57
  },
  {
   "outputs": [],
   "cell_type": "code",
   "source": [
    "quantile(y, 0.75);"
   ],
   "metadata": {},
   "execution_count": 58
  },
  {
   "cell_type": "markdown",
   "source": [
    "## Probability distributions"
   ],
   "metadata": {}
  },
  {
   "cell_type": "markdown",
   "source": [
    "For sampling from more general distributions we need\n",
    "Distributions.jl package which is not part of the standard library."
   ],
   "metadata": {}
  },
  {
   "outputs": [],
   "cell_type": "code",
   "source": [
    "using Distributions\n",
    "\n",
    "N = 1000\n",
    "samples = rand(Normal(), N);   # equivalent to Julia's built-in `randn(d)`\n",
    "samples = (samples).^2;        # square element-wise"
   ],
   "metadata": {},
   "execution_count": 59
  },
  {
   "outputs": [
    {
     "output_type": "execute_result",
     "data": {
      "text/plain": "Distributions.Gamma{Float64}(α=0.5139072701670105, θ=1.9024004818597686)"
     },
     "metadata": {},
     "execution_count": 60
    }
   ],
   "cell_type": "code",
   "source": [
    "g = fit(Gamma, samples)"
   ],
   "metadata": {},
   "execution_count": 60
  },
  {
   "outputs": [
    {
     "output_type": "execute_result",
     "data": {
      "text/plain": "0.9776574383969592"
     },
     "metadata": {},
     "execution_count": 61
    }
   ],
   "cell_type": "code",
   "source": [
    "mean(g)"
   ],
   "metadata": {},
   "execution_count": 61
  },
  {
   "outputs": [
    {
     "output_type": "execute_result",
     "data": {
      "text/plain": "0.4555473996023335"
     },
     "metadata": {},
     "execution_count": 62
    }
   ],
   "cell_type": "code",
   "source": [
    "median(g)"
   ],
   "metadata": {},
   "execution_count": 62
  },
  {
   "outputs": [
    {
     "output_type": "execute_result",
     "data": {
      "text/plain": "0.24618262802147253"
     },
     "metadata": {},
     "execution_count": 63
    }
   ],
   "cell_type": "code",
   "source": [
    "pdf(g, 1)"
   ],
   "metadata": {},
   "execution_count": 63
  },
  {
   "outputs": [],
   "cell_type": "code",
   "source": [
    "using PkgOnlineHelp"
   ],
   "metadata": {},
   "execution_count": 64
  },
  {
   "cell_type": "markdown",
   "source": [
    "Uncomment and execute the next line to launch Distribution documentation in your browser:"
   ],
   "metadata": {}
  },
  {
   "outputs": [],
   "cell_type": "code",
   "source": [
    "#@docs Distributions"
   ],
   "metadata": {},
   "execution_count": 65
  },
  {
   "cell_type": "markdown",
   "source": [
    "## Plotting"
   ],
   "metadata": {}
  },
  {
   "outputs": [
    {
     "name": "stdout",
     "output_type": "stream",
     "text": [
      "[ Info: Precompiling CairoMakie [13f3f980-e62b-5c42-98c6-ff1f3baf88f0]\n"
     ]
    }
   ],
   "cell_type": "code",
   "source": [
    "using CairoMakie\n",
    "CairoMakie.activate!(type = \"svg\")"
   ],
   "metadata": {},
   "execution_count": 66
  },
  {
   "outputs": [
    {
     "output_type": "execute_result",
     "data": {
      "text/plain": "Figure()",
      "image/svg+xml": [
       "<?xml version=\"1.0\" encoding=\"UTF-8\"?>\n",
       "<svg xmlns=\"http://www.w3.org/2000/svg\" xmlns:xlink=\"http://www.w3.org/1999/xlink\" width=\"600pt\" height=\"450pt\" viewBox=\"0 0 600 450\" version=\"1.1\">\n",
       "<defs>\n",
       "<g>\n",
       "<symbol overflow=\"visible\" id=\"glyph0-0-3clN9iK2\">\n",
       "<path style=\"stroke:none;\" d=\"M 0.234375 -8.75 C 0.234375 -8.75 0.234375 0 0.234375 0 C 0.234375 0 5.640625 0 5.640625 0 C 5.640625 0 5.640625 -8.75 5.640625 -8.75 C 5.640625 -8.75 0.234375 -8.75 0.234375 -8.75 Z M 0.859375 -0.625 C 0.859375 -0.625 0.859375 -8.125 0.859375 -8.125 C 0.859375 -8.125 5.015625 -8.125 5.015625 -8.125 C 5.015625 -8.125 5.015625 -0.625 5.015625 -0.625 C 5.015625 -0.625 0.859375 -0.625 0.859375 -0.625 Z M 0.859375 -0.625 \"/>\n",
       "</symbol>\n",
       "<symbol overflow=\"visible\" id=\"glyph0-1-3clN9iK2\">\n",
       "<path style=\"stroke:none;\" d=\"M 6.078125 -4.09375 C 6.078125 -1.296875 5.09375 0.1875 3.296875 0.1875 C 1.46875 0.1875 0.515625 -1.296875 0.515625 -4.15625 C 0.515625 -7.015625 1.46875 -8.515625 3.296875 -8.515625 C 5.140625 -8.515625 6.078125 -7.046875 6.078125 -4.09375 Z M 5 -4.1875 C 5 -6.46875 4.4375 -7.578125 3.296875 -7.578125 C 2.15625 -7.578125 1.59375 -6.484375 1.59375 -4.15625 C 1.59375 -1.828125 2.15625 -0.703125 3.28125 -0.703125 C 4.453125 -0.703125 5 -1.78125 5 -4.1875 Z M 5 -4.1875 \"/>\n",
       "</symbol>\n",
       "<symbol overflow=\"visible\" id=\"glyph1-0-3clN9iK2\">\n",
       "<path style=\"stroke:none;\" d=\"M 0.234375 -8.75 C 0.234375 -8.75 0.234375 0 0.234375 0 C 0.234375 0 5.640625 0 5.640625 0 C 5.640625 0 5.640625 -8.75 5.640625 -8.75 C 5.640625 -8.75 0.234375 -8.75 0.234375 -8.75 Z M 0.859375 -0.625 C 0.859375 -0.625 0.859375 -8.125 0.859375 -8.125 C 0.859375 -8.125 5.015625 -8.125 5.015625 -8.125 C 5.015625 -8.125 5.015625 -0.625 5.015625 -0.625 C 5.015625 -0.625 0.859375 -0.625 0.859375 -0.625 Z M 0.859375 -0.625 \"/>\n",
       "</symbol>\n",
       "<symbol overflow=\"visible\" id=\"glyph1-1-3clN9iK2\">\n",
       "<path style=\"stroke:none;\" d=\"M 6.15625 -2.8125 C 6.15625 -1.015625 4.953125 0.1875 3.234375 0.1875 C 1.734375 0.1875 0.765625 -0.484375 0.421875 -2.1875 C 0.421875 -2.1875 1.46875 -2.1875 1.46875 -2.1875 C 1.734375 -1.21875 2.296875 -0.75 3.21875 -0.75 C 4.375 -0.75 5.078125 -1.453125 5.078125 -2.671875 C 5.078125 -3.9375 4.359375 -4.671875 3.21875 -4.671875 C 2.5625 -4.671875 2.140625 -4.46875 1.65625 -3.875 C 1.65625 -3.875 0.6875 -3.875 0.6875 -3.875 C 0.6875 -3.875 1.3125 -8.328125 1.3125 -8.328125 C 1.3125 -8.328125 5.71875 -8.328125 5.71875 -8.328125 C 5.71875 -8.328125 5.71875 -7.28125 5.71875 -7.28125 C 5.71875 -7.28125 2.171875 -7.28125 2.171875 -7.28125 C 2.171875 -7.28125 1.84375 -5.09375 1.84375 -5.09375 C 2.328125 -5.453125 2.8125 -5.609375 3.40625 -5.609375 C 5.046875 -5.609375 6.15625 -4.5 6.15625 -2.8125 Z M 6.15625 -2.8125 \"/>\n",
       "</symbol>\n",
       "<symbol overflow=\"visible\" id=\"glyph2-0-3clN9iK2\">\n",
       "<path style=\"stroke:none;\" d=\"M 0.234375 -8.75 C 0.234375 -8.75 0.234375 0 0.234375 0 C 0.234375 0 5.640625 0 5.640625 0 C 5.640625 0 5.640625 -8.75 5.640625 -8.75 C 5.640625 -8.75 0.234375 -8.75 0.234375 -8.75 Z M 0.859375 -0.625 C 0.859375 -0.625 0.859375 -8.125 0.859375 -8.125 C 0.859375 -8.125 5.015625 -8.125 5.015625 -8.125 C 5.015625 -8.125 5.015625 -0.625 5.015625 -0.625 C 5.015625 -0.625 0.859375 -0.625 0.859375 -0.625 Z M 0.859375 -0.625 \"/>\n",
       "</symbol>\n",
       "<symbol overflow=\"visible\" id=\"glyph2-1-3clN9iK2\">\n",
       "<path style=\"stroke:none;\" d=\"M 4.15625 0 C 4.15625 0 3.109375 0 3.109375 0 C 3.109375 0 3.109375 -6.0625 3.109375 -6.0625 C 3.109375 -6.0625 1.21875 -6.0625 1.21875 -6.0625 C 1.21875 -6.0625 1.21875 -6.8125 1.21875 -6.8125 C 2.859375 -7.015625 3.09375 -7.203125 3.46875 -8.515625 C 3.46875 -8.515625 4.15625 -8.515625 4.15625 -8.515625 C 4.15625 -8.515625 4.15625 0 4.15625 0 Z M 4.15625 0 \"/>\n",
       "</symbol>\n",
       "<symbol overflow=\"visible\" id=\"glyph3-0-3clN9iK2\">\n",
       "<path style=\"stroke:none;\" d=\"M 0.234375 -8.75 C 0.234375 -8.75 0.234375 0 0.234375 0 C 0.234375 0 5.640625 0 5.640625 0 C 5.640625 0 5.640625 -8.75 5.640625 -8.75 C 5.640625 -8.75 0.234375 -8.75 0.234375 -8.75 Z M 0.859375 -0.625 C 0.859375 -0.625 0.859375 -8.125 0.859375 -8.125 C 0.859375 -8.125 5.015625 -8.125 5.015625 -8.125 C 5.015625 -8.125 5.015625 -0.625 5.015625 -0.625 C 5.015625 -0.625 0.859375 -0.625 0.859375 -0.625 Z M 0.859375 -0.625 \"/>\n",
       "</symbol>\n",
       "<symbol overflow=\"visible\" id=\"glyph3-1-3clN9iK2\">\n",
       "<path style=\"stroke:none;\" d=\"M 6.078125 -4.09375 C 6.078125 -1.296875 5.09375 0.1875 3.296875 0.1875 C 1.46875 0.1875 0.515625 -1.296875 0.515625 -4.15625 C 0.515625 -7.015625 1.46875 -8.515625 3.296875 -8.515625 C 5.140625 -8.515625 6.078125 -7.046875 6.078125 -4.09375 Z M 5 -4.1875 C 5 -6.46875 4.4375 -7.578125 3.296875 -7.578125 C 2.15625 -7.578125 1.59375 -6.484375 1.59375 -4.15625 C 1.59375 -1.828125 2.15625 -0.703125 3.28125 -0.703125 C 4.453125 -0.703125 5 -1.78125 5 -4.1875 Z M 5 -4.1875 \"/>\n",
       "</symbol>\n",
       "<symbol overflow=\"visible\" id=\"glyph4-0-3clN9iK2\">\n",
       "<path style=\"stroke:none;\" d=\"M 0.234375 -8.75 C 0.234375 -8.75 0.234375 0 0.234375 0 C 0.234375 0 5.640625 0 5.640625 0 C 5.640625 0 5.640625 -8.75 5.640625 -8.75 C 5.640625 -8.75 0.234375 -8.75 0.234375 -8.75 Z M 0.859375 -0.625 C 0.859375 -0.625 0.859375 -8.125 0.859375 -8.125 C 0.859375 -8.125 5.015625 -8.125 5.015625 -8.125 C 5.015625 -8.125 5.015625 -0.625 5.015625 -0.625 C 5.015625 -0.625 0.859375 -0.625 0.859375 -0.625 Z M 0.859375 -0.625 \"/>\n",
       "</symbol>\n",
       "<symbol overflow=\"visible\" id=\"glyph4-1-3clN9iK2\">\n",
       "<path style=\"stroke:none;\" d=\"M 6.078125 -4.09375 C 6.078125 -1.296875 5.09375 0.1875 3.296875 0.1875 C 1.46875 0.1875 0.515625 -1.296875 0.515625 -4.15625 C 0.515625 -7.015625 1.46875 -8.515625 3.296875 -8.515625 C 5.140625 -8.515625 6.078125 -7.046875 6.078125 -4.09375 Z M 5 -4.1875 C 5 -6.46875 4.4375 -7.578125 3.296875 -7.578125 C 2.15625 -7.578125 1.59375 -6.484375 1.59375 -4.15625 C 1.59375 -1.828125 2.15625 -0.703125 3.28125 -0.703125 C 4.453125 -0.703125 5 -1.78125 5 -4.1875 Z M 5 -4.1875 \"/>\n",
       "</symbol>\n",
       "<symbol overflow=\"visible\" id=\"glyph5-0-3clN9iK2\">\n",
       "<path style=\"stroke:none;\" d=\"M 0.234375 -8.75 C 0.234375 -8.75 0.234375 0 0.234375 0 C 0.234375 0 5.640625 0 5.640625 0 C 5.640625 0 5.640625 -8.75 5.640625 -8.75 C 5.640625 -8.75 0.234375 -8.75 0.234375 -8.75 Z M 0.859375 -0.625 C 0.859375 -0.625 0.859375 -8.125 0.859375 -8.125 C 0.859375 -8.125 5.015625 -8.125 5.015625 -8.125 C 5.015625 -8.125 5.015625 -0.625 5.015625 -0.625 C 5.015625 -0.625 0.859375 -0.625 0.859375 -0.625 Z M 0.859375 -0.625 \"/>\n",
       "</symbol>\n",
       "<symbol overflow=\"visible\" id=\"glyph5-1-3clN9iK2\">\n",
       "<path style=\"stroke:none;\" d=\"M 2.296875 0 C 2.296875 0 1.046875 0 1.046875 0 C 1.046875 0 1.046875 -1.25 1.046875 -1.25 C 1.046875 -1.25 2.296875 -1.25 2.296875 -1.25 C 2.296875 -1.25 2.296875 0 2.296875 0 Z M 2.296875 0 \"/>\n",
       "</symbol>\n",
       "<symbol overflow=\"visible\" id=\"glyph6-0-3clN9iK2\">\n",
       "<path style=\"stroke:none;\" d=\"M 0.234375 -8.75 C 0.234375 -8.75 0.234375 0 0.234375 0 C 0.234375 0 5.640625 0 5.640625 0 C 5.640625 0 5.640625 -8.75 5.640625 -8.75 C 5.640625 -8.75 0.234375 -8.75 0.234375 -8.75 Z M 0.859375 -0.625 C 0.859375 -0.625 0.859375 -8.125 0.859375 -8.125 C 0.859375 -8.125 5.015625 -8.125 5.015625 -8.125 C 5.015625 -8.125 5.015625 -0.625 5.015625 -0.625 C 5.015625 -0.625 0.859375 -0.625 0.859375 -0.625 Z M 0.859375 -0.625 \"/>\n",
       "</symbol>\n",
       "<symbol overflow=\"visible\" id=\"glyph6-1-3clN9iK2\">\n",
       "<path style=\"stroke:none;\" d=\"M 6.078125 -4.09375 C 6.078125 -1.296875 5.09375 0.1875 3.296875 0.1875 C 1.46875 0.1875 0.515625 -1.296875 0.515625 -4.15625 C 0.515625 -7.015625 1.46875 -8.515625 3.296875 -8.515625 C 5.140625 -8.515625 6.078125 -7.046875 6.078125 -4.09375 Z M 5 -4.1875 C 5 -6.46875 4.4375 -7.578125 3.296875 -7.578125 C 2.15625 -7.578125 1.59375 -6.484375 1.59375 -4.15625 C 1.59375 -1.828125 2.15625 -0.703125 3.28125 -0.703125 C 4.453125 -0.703125 5 -1.78125 5 -4.1875 Z M 5 -4.1875 \"/>\n",
       "</symbol>\n",
       "<symbol overflow=\"visible\" id=\"glyph6-2-3clN9iK2\">\n",
       "<path style=\"stroke:none;\" d=\"M 6.15625 -2.8125 C 6.15625 -1.015625 4.953125 0.1875 3.234375 0.1875 C 1.734375 0.1875 0.765625 -0.484375 0.421875 -2.1875 C 0.421875 -2.1875 1.46875 -2.1875 1.46875 -2.1875 C 1.734375 -1.21875 2.296875 -0.75 3.21875 -0.75 C 4.375 -0.75 5.078125 -1.453125 5.078125 -2.671875 C 5.078125 -3.9375 4.359375 -4.671875 3.21875 -4.671875 C 2.5625 -4.671875 2.140625 -4.46875 1.65625 -3.875 C 1.65625 -3.875 0.6875 -3.875 0.6875 -3.875 C 0.6875 -3.875 1.3125 -8.328125 1.3125 -8.328125 C 1.3125 -8.328125 5.71875 -8.328125 5.71875 -8.328125 C 5.71875 -8.328125 5.71875 -7.28125 5.71875 -7.28125 C 5.71875 -7.28125 2.171875 -7.28125 2.171875 -7.28125 C 2.171875 -7.28125 1.84375 -5.09375 1.84375 -5.09375 C 2.328125 -5.453125 2.8125 -5.609375 3.40625 -5.609375 C 5.046875 -5.609375 6.15625 -4.5 6.15625 -2.8125 Z M 6.15625 -2.8125 \"/>\n",
       "</symbol>\n",
       "<symbol overflow=\"visible\" id=\"glyph7-0-3clN9iK2\">\n",
       "<path style=\"stroke:none;\" d=\"M 0.234375 -8.75 C 0.234375 -8.75 0.234375 0 0.234375 0 C 0.234375 0 5.640625 0 5.640625 0 C 5.640625 0 5.640625 -8.75 5.640625 -8.75 C 5.640625 -8.75 0.234375 -8.75 0.234375 -8.75 Z M 0.859375 -0.625 C 0.859375 -0.625 0.859375 -8.125 0.859375 -8.125 C 0.859375 -8.125 5.015625 -8.125 5.015625 -8.125 C 5.015625 -8.125 5.015625 -0.625 5.015625 -0.625 C 5.015625 -0.625 0.859375 -0.625 0.859375 -0.625 Z M 0.859375 -0.625 \"/>\n",
       "</symbol>\n",
       "<symbol overflow=\"visible\" id=\"glyph7-1-3clN9iK2\">\n",
       "<path style=\"stroke:none;\" d=\"M 2.296875 0 C 2.296875 0 1.046875 0 1.046875 0 C 1.046875 0 1.046875 -1.25 1.046875 -1.25 C 1.046875 -1.25 2.296875 -1.25 2.296875 -1.25 C 2.296875 -1.25 2.296875 0 2.296875 0 Z M 2.296875 0 \"/>\n",
       "</symbol>\n",
       "<symbol overflow=\"visible\" id=\"glyph8-0-3clN9iK2\">\n",
       "<path style=\"stroke:none;\" d=\"M 0.234375 -8.75 C 0.234375 -8.75 0.234375 0 0.234375 0 C 0.234375 0 5.640625 0 5.640625 0 C 5.640625 0 5.640625 -8.75 5.640625 -8.75 C 5.640625 -8.75 0.234375 -8.75 0.234375 -8.75 Z M 0.859375 -0.625 C 0.859375 -0.625 0.859375 -8.125 0.859375 -8.125 C 0.859375 -8.125 5.015625 -8.125 5.015625 -8.125 C 5.015625 -8.125 5.015625 -0.625 5.015625 -0.625 C 5.015625 -0.625 0.859375 -0.625 0.859375 -0.625 Z M 0.859375 -0.625 \"/>\n",
       "</symbol>\n",
       "<symbol overflow=\"visible\" id=\"glyph8-1-3clN9iK2\">\n",
       "<path style=\"stroke:none;\" d=\"M 4.15625 0 C 4.15625 0 3.109375 0 3.109375 0 C 3.109375 0 3.109375 -6.0625 3.109375 -6.0625 C 3.109375 -6.0625 1.21875 -6.0625 1.21875 -6.0625 C 1.21875 -6.0625 1.21875 -6.8125 1.21875 -6.8125 C 2.859375 -7.015625 3.09375 -7.203125 3.46875 -8.515625 C 3.46875 -8.515625 4.15625 -8.515625 4.15625 -8.515625 C 4.15625 -8.515625 4.15625 0 4.15625 0 Z M 4.15625 0 \"/>\n",
       "</symbol>\n",
       "<symbol overflow=\"visible\" id=\"glyph8-2-3clN9iK2\">\n",
       "<path style=\"stroke:none;\" d=\"M 6.078125 -4.09375 C 6.078125 -1.296875 5.09375 0.1875 3.296875 0.1875 C 1.46875 0.1875 0.515625 -1.296875 0.515625 -4.15625 C 0.515625 -7.015625 1.46875 -8.515625 3.296875 -8.515625 C 5.140625 -8.515625 6.078125 -7.046875 6.078125 -4.09375 Z M 5 -4.1875 C 5 -6.46875 4.4375 -7.578125 3.296875 -7.578125 C 2.15625 -7.578125 1.59375 -6.484375 1.59375 -4.15625 C 1.59375 -1.828125 2.15625 -0.703125 3.28125 -0.703125 C 4.453125 -0.703125 5 -1.78125 5 -4.1875 Z M 5 -4.1875 \"/>\n",
       "</symbol>\n",
       "<symbol overflow=\"visible\" id=\"glyph9-0-3clN9iK2\">\n",
       "<path style=\"stroke:none;\" d=\"M 0.234375 -8.75 C 0.234375 -8.75 0.234375 0 0.234375 0 C 0.234375 0 5.640625 0 5.640625 0 C 5.640625 0 5.640625 -8.75 5.640625 -8.75 C 5.640625 -8.75 0.234375 -8.75 0.234375 -8.75 Z M 0.859375 -0.625 C 0.859375 -0.625 0.859375 -8.125 0.859375 -8.125 C 0.859375 -8.125 5.015625 -8.125 5.015625 -8.125 C 5.015625 -8.125 5.015625 -0.625 5.015625 -0.625 C 5.015625 -0.625 0.859375 -0.625 0.859375 -0.625 Z M 0.859375 -0.625 \"/>\n",
       "</symbol>\n",
       "<symbol overflow=\"visible\" id=\"glyph9-1-3clN9iK2\">\n",
       "<path style=\"stroke:none;\" d=\"M 2.296875 0 C 2.296875 0 1.046875 0 1.046875 0 C 1.046875 0 1.046875 -1.25 1.046875 -1.25 C 1.046875 -1.25 2.296875 -1.25 2.296875 -1.25 C 2.296875 -1.25 2.296875 0 2.296875 0 Z M 2.296875 0 \"/>\n",
       "</symbol>\n",
       "<symbol overflow=\"visible\" id=\"glyph10-0-3clN9iK2\">\n",
       "<path style=\"stroke:none;\" d=\"M 0.234375 -8.75 C 0.234375 -8.75 0.234375 0 0.234375 0 C 0.234375 0 5.640625 0 5.640625 0 C 5.640625 0 5.640625 -8.75 5.640625 -8.75 C 5.640625 -8.75 0.234375 -8.75 0.234375 -8.75 Z M 0.859375 -0.625 C 0.859375 -0.625 0.859375 -8.125 0.859375 -8.125 C 0.859375 -8.125 5.015625 -8.125 5.015625 -8.125 C 5.015625 -8.125 5.015625 -0.625 5.015625 -0.625 C 5.015625 -0.625 0.859375 -0.625 0.859375 -0.625 Z M 0.859375 -0.625 \"/>\n",
       "</symbol>\n",
       "<symbol overflow=\"visible\" id=\"glyph10-1-3clN9iK2\">\n",
       "<path style=\"stroke:none;\" d=\"M 4.15625 0 C 4.15625 0 3.109375 0 3.109375 0 C 3.109375 0 3.109375 -6.0625 3.109375 -6.0625 C 3.109375 -6.0625 1.21875 -6.0625 1.21875 -6.0625 C 1.21875 -6.0625 1.21875 -6.8125 1.21875 -6.8125 C 2.859375 -7.015625 3.09375 -7.203125 3.46875 -8.515625 C 3.46875 -8.515625 4.15625 -8.515625 4.15625 -8.515625 C 4.15625 -8.515625 4.15625 0 4.15625 0 Z M 4.15625 0 \"/>\n",
       "</symbol>\n",
       "<symbol overflow=\"visible\" id=\"glyph10-2-3clN9iK2\">\n",
       "<path style=\"stroke:none;\" d=\"M 6.15625 -2.8125 C 6.15625 -1.015625 4.953125 0.1875 3.234375 0.1875 C 1.734375 0.1875 0.765625 -0.484375 0.421875 -2.1875 C 0.421875 -2.1875 1.46875 -2.1875 1.46875 -2.1875 C 1.734375 -1.21875 2.296875 -0.75 3.21875 -0.75 C 4.375 -0.75 5.078125 -1.453125 5.078125 -2.671875 C 5.078125 -3.9375 4.359375 -4.671875 3.21875 -4.671875 C 2.5625 -4.671875 2.140625 -4.46875 1.65625 -3.875 C 1.65625 -3.875 0.6875 -3.875 0.6875 -3.875 C 0.6875 -3.875 1.3125 -8.328125 1.3125 -8.328125 C 1.3125 -8.328125 5.71875 -8.328125 5.71875 -8.328125 C 5.71875 -8.328125 5.71875 -7.28125 5.71875 -7.28125 C 5.71875 -7.28125 2.171875 -7.28125 2.171875 -7.28125 C 2.171875 -7.28125 1.84375 -5.09375 1.84375 -5.09375 C 2.328125 -5.453125 2.8125 -5.609375 3.40625 -5.609375 C 5.046875 -5.609375 6.15625 -4.5 6.15625 -2.8125 Z M 6.15625 -2.8125 \"/>\n",
       "</symbol>\n",
       "<symbol overflow=\"visible\" id=\"glyph11-0-3clN9iK2\">\n",
       "<path style=\"stroke:none;\" d=\"M 0.234375 -8.75 C 0.234375 -8.75 0.234375 0 0.234375 0 C 0.234375 0 5.640625 0 5.640625 0 C 5.640625 0 5.640625 -8.75 5.640625 -8.75 C 5.640625 -8.75 0.234375 -8.75 0.234375 -8.75 Z M 0.859375 -0.625 C 0.859375 -0.625 0.859375 -8.125 0.859375 -8.125 C 0.859375 -8.125 5.015625 -8.125 5.015625 -8.125 C 5.015625 -8.125 5.015625 -0.625 5.015625 -0.625 C 5.015625 -0.625 0.859375 -0.625 0.859375 -0.625 Z M 0.859375 -0.625 \"/>\n",
       "</symbol>\n",
       "<symbol overflow=\"visible\" id=\"glyph11-1-3clN9iK2\">\n",
       "<path style=\"stroke:none;\" d=\"M 2.296875 0 C 2.296875 0 1.046875 0 1.046875 0 C 1.046875 0 1.046875 -1.25 1.046875 -1.25 C 1.046875 -1.25 2.296875 -1.25 2.296875 -1.25 C 2.296875 -1.25 2.296875 0 2.296875 0 Z M 2.296875 0 \"/>\n",
       "</symbol>\n",
       "</g>\n",
       "</defs>\n",
       "<g id=\"surface1-3clN9iK2\">\n",
       "<rect x=\"0\" y=\"0\" width=\"600\" height=\"450\" style=\"fill:rgb(100%,100%,100%);fill-opacity:1;stroke:none;\"/>\n",
       "<path style=\" stroke:none;fill-rule:nonzero;fill:rgb(100%,100%,100%);fill-opacity:1;\" d=\"M 36 417.75 L 588 417.75 L 588 12 L 36 12 Z M 36 417.75 \"/>\n",
       "<path style=\"fill:none;stroke-width:1;stroke-linecap:butt;stroke-linejoin:miter;stroke:rgb(0%,0%,0%);stroke-opacity:0.12;stroke-miterlimit:2;\" d=\"M 81.453125 557 L 81.453125 16 \" transform=\"matrix(0.75,0,0,0.75,0,0)\"/>\n",
       "<path style=\"fill:none;stroke-width:1;stroke-linecap:butt;stroke-linejoin:miter;stroke:rgb(0%,0%,0%);stroke-opacity:0.12;stroke-miterlimit:2;\" d=\"M 405.260417 557 L 405.260417 16 \" transform=\"matrix(0.75,0,0,0.75,0,0)\"/>\n",
       "<path style=\"fill:none;stroke-width:1;stroke-linecap:butt;stroke-linejoin:miter;stroke:rgb(0%,0%,0%);stroke-opacity:0.12;stroke-miterlimit:2;\" d=\"M 729.067708 557 L 729.067708 16 \" transform=\"matrix(0.75,0,0,0.75,0,0)\"/>\n",
       "<path style=\"fill:none;stroke-width:1;stroke-linecap:butt;stroke-linejoin:miter;stroke:rgb(0%,0%,0%);stroke-opacity:0.12;stroke-miterlimit:2;\" d=\"M 48 532.411458 L 784 532.411458 \" transform=\"matrix(0.75,0,0,0.75,0,0)\"/>\n",
       "<path style=\"fill:none;stroke-width:1;stroke-linecap:butt;stroke-linejoin:miter;stroke:rgb(0%,0%,0%);stroke-opacity:0.12;stroke-miterlimit:2;\" d=\"M 48 367.859375 L 784 367.859375 \" transform=\"matrix(0.75,0,0,0.75,0,0)\"/>\n",
       "<path style=\"fill:none;stroke-width:1;stroke-linecap:butt;stroke-linejoin:miter;stroke:rgb(0%,0%,0%);stroke-opacity:0.12;stroke-miterlimit:2;\" d=\"M 48 203.307292 L 784 203.307292 \" transform=\"matrix(0.75,0,0,0.75,0,0)\"/>\n",
       "<path style=\"fill:none;stroke-width:1;stroke-linecap:butt;stroke-linejoin:miter;stroke:rgb(0%,0%,0%);stroke-opacity:0.12;stroke-miterlimit:2;\" d=\"M 48 38.760417 L 784 38.760417 \" transform=\"matrix(0.75,0,0,0.75,0,0)\"/>\n",
       "<g style=\"fill:rgb(0%,0%,0%);fill-opacity:1;\">\n",
       "  <use xlink:href=\"#glyph0-1-3clN9iK2\" x=\"57.753906\" y=\"435.863281\"/>\n",
       "</g>\n",
       "<g style=\"fill:rgb(0%,0%,0%);fill-opacity:1;\">\n",
       "  <use xlink:href=\"#glyph1-1-3clN9iK2\" x=\"300.609375\" y=\"435.863281\"/>\n",
       "</g>\n",
       "<g style=\"fill:rgb(0%,0%,0%);fill-opacity:1;\">\n",
       "  <use xlink:href=\"#glyph2-1-3clN9iK2\" x=\"540.128906\" y=\"435.863281\"/>\n",
       "</g>\n",
       "<g style=\"fill:rgb(0%,0%,0%);fill-opacity:1;\">\n",
       "  <use xlink:href=\"#glyph3-1-3clN9iK2\" x=\"546.800781\" y=\"435.863281\"/>\n",
       "</g>\n",
       "<g style=\"fill:rgb(0%,0%,0%);fill-opacity:1;\">\n",
       "  <use xlink:href=\"#glyph4-1-3clN9iK2\" x=\"11.070312\" y=\"403.679687\"/>\n",
       "</g>\n",
       "<g style=\"fill:rgb(0%,0%,0%);fill-opacity:1;\">\n",
       "  <use xlink:href=\"#glyph5-1-3clN9iK2\" x=\"17.742188\" y=\"403.679687\"/>\n",
       "</g>\n",
       "<g style=\"fill:rgb(0%,0%,0%);fill-opacity:1;\">\n",
       "  <use xlink:href=\"#glyph4-1-3clN9iK2\" x=\"21.078125\" y=\"403.679687\"/>\n",
       "</g>\n",
       "<g style=\"fill:rgb(0%,0%,0%);fill-opacity:1;\">\n",
       "  <use xlink:href=\"#glyph6-1-3clN9iK2\" x=\"11.070312\" y=\"280.269531\"/>\n",
       "</g>\n",
       "<g style=\"fill:rgb(0%,0%,0%);fill-opacity:1;\">\n",
       "  <use xlink:href=\"#glyph7-1-3clN9iK2\" x=\"17.742188\" y=\"280.269531\"/>\n",
       "</g>\n",
       "<g style=\"fill:rgb(0%,0%,0%);fill-opacity:1;\">\n",
       "  <use xlink:href=\"#glyph6-2-3clN9iK2\" x=\"21.078125\" y=\"280.269531\"/>\n",
       "</g>\n",
       "<g style=\"fill:rgb(0%,0%,0%);fill-opacity:1;\">\n",
       "  <use xlink:href=\"#glyph8-1-3clN9iK2\" x=\"11.070312\" y=\"156.855469\"/>\n",
       "</g>\n",
       "<g style=\"fill:rgb(0%,0%,0%);fill-opacity:1;\">\n",
       "  <use xlink:href=\"#glyph9-1-3clN9iK2\" x=\"17.742188\" y=\"156.855469\"/>\n",
       "</g>\n",
       "<g style=\"fill:rgb(0%,0%,0%);fill-opacity:1;\">\n",
       "  <use xlink:href=\"#glyph8-2-3clN9iK2\" x=\"21.078125\" y=\"156.855469\"/>\n",
       "</g>\n",
       "<g style=\"fill:rgb(0%,0%,0%);fill-opacity:1;\">\n",
       "  <use xlink:href=\"#glyph10-1-3clN9iK2\" x=\"11.070312\" y=\"33.445312\"/>\n",
       "</g>\n",
       "<g style=\"fill:rgb(0%,0%,0%);fill-opacity:1;\">\n",
       "  <use xlink:href=\"#glyph11-1-3clN9iK2\" x=\"17.742188\" y=\"33.445312\"/>\n",
       "</g>\n",
       "<g style=\"fill:rgb(0%,0%,0%);fill-opacity:1;\">\n",
       "  <use xlink:href=\"#glyph10-2-3clN9iK2\" x=\"21.078125\" y=\"33.445312\"/>\n",
       "</g>\n",
       "<path style=\"fill:none;stroke-width:1.5;stroke-linecap:butt;stroke-linejoin:miter;stroke:rgb(0%,44.705883%,69.803923%);stroke-opacity:1;stroke-miterlimit:2;\" d=\"M 87.932292 134.177083 L 94.40625 262.645833 L 100.885417 322.25 L 107.359375 359.03125 L 113.833333 384.817708 L 120.3125 404.255208 L 126.786458 419.59375 L 133.265625 432.098958 L 139.739583 442.53125 L 146.213542 451.390625 L 152.692708 459.020833 L 159.166667 465.661458 L 165.645833 471.494792 L 172.119792 476.661458 L 178.598958 481.260417 L 185.072917 485.375 L 191.546875 489.083333 L 198.026042 492.427083 L 204.5 495.458333 L 210.979167 498.213542 L 217.453125 500.723958 L 223.927083 503.020833 L 230.40625 505.119792 L 236.880208 507.046875 L 243.359375 508.817708 L 249.833333 510.447917 L 256.3125 511.953125 L 262.786458 513.338542 L 269.260417 514.625 L 275.739583 515.8125 L 282.213542 516.911458 L 288.692708 517.927083 L 295.166667 518.875 L 301.640625 519.75 L 308.119792 520.567708 L 314.59375 521.328125 L 321.072917 522.03125 L 327.546875 522.692708 L 334.026042 523.307292 L 340.5 523.875 \" transform=\"matrix(0.75,0,0,0.75,0,0)\"/>\n",
       "<path style=\" stroke:none;fill-rule:nonzero;fill:rgb(0%,44.705883%,69.803923%);fill-opacity:0.8;\" d=\"M 61.089844 399.308594 L 73.636719 399.308594 L 73.636719 30.445312 L 61.089844 30.445312 Z M 61.089844 399.308594 \"/>\n",
       "<path style=\" stroke:none;fill-rule:nonzero;fill:rgb(0%,44.705883%,69.803923%);fill-opacity:0.8;\" d=\"M 73.636719 399.308594 L 86.183594 399.308594 L 86.183594 263.613281 L 73.636719 263.613281 Z M 73.636719 399.308594 \"/>\n",
       "<path style=\" stroke:none;fill-rule:nonzero;fill:rgb(0%,44.705883%,69.803923%);fill-opacity:0.8;\" d=\"M 86.183594 399.308594 L 98.730469 399.308594 L 98.730469 301.835938 L 86.183594 301.835938 Z M 86.183594 399.308594 \"/>\n",
       "<path style=\" stroke:none;fill-rule:nonzero;fill:rgb(0%,44.705883%,69.803923%);fill-opacity:0.8;\" d=\"M 98.726562 399.308594 L 111.273438 399.308594 L 111.273438 327.636719 L 98.726562 327.636719 Z M 98.726562 399.308594 \"/>\n",
       "<path style=\" stroke:none;fill-rule:nonzero;fill:rgb(0%,44.705883%,69.803923%);fill-opacity:0.8;\" d=\"M 111.273438 399.308594 L 123.820312 399.308594 L 123.820312 356.304688 L 111.273438 356.304688 Z M 111.273438 399.308594 \"/>\n",
       "<path style=\" stroke:none;fill-rule:nonzero;fill:rgb(0%,44.705883%,69.803923%);fill-opacity:0.8;\" d=\"M 123.816406 399.308594 L 136.363281 399.308594 L 136.363281 354.394531 L 123.816406 354.394531 Z M 123.816406 399.308594 \"/>\n",
       "<path style=\" stroke:none;fill-rule:nonzero;fill:rgb(0%,44.705883%,69.803923%);fill-opacity:0.8;\" d=\"M 136.363281 399.308594 L 148.910156 399.308594 L 148.910156 379.242188 L 136.363281 379.242188 Z M 136.363281 399.308594 \"/>\n",
       "<path style=\" stroke:none;fill-rule:nonzero;fill:rgb(0%,44.705883%,69.803923%);fill-opacity:0.8;\" d=\"M 148.910156 399.308594 L 161.457031 399.308594 L 161.457031 370.640625 L 148.910156 370.640625 Z M 148.910156 399.308594 \"/>\n",
       "<path style=\" stroke:none;fill-rule:nonzero;fill:rgb(0%,44.705883%,69.803923%);fill-opacity:0.8;\" d=\"M 161.453125 399.308594 L 174 399.308594 L 174 371.597656 L 161.453125 371.597656 Z M 161.453125 399.308594 \"/>\n",
       "<path style=\" stroke:none;fill-rule:nonzero;fill:rgb(0%,44.705883%,69.803923%);fill-opacity:0.8;\" d=\"M 174 399.308594 L 186.546875 399.308594 L 186.546875 383.0625 L 174 383.0625 Z M 174 399.308594 \"/>\n",
       "<path style=\" stroke:none;fill-rule:nonzero;fill:rgb(0%,44.705883%,69.803923%);fill-opacity:0.8;\" d=\"M 186.546875 399.308594 L 199.09375 399.308594 L 199.09375 389.753906 L 186.546875 389.753906 Z M 186.546875 399.308594 \"/>\n",
       "<path style=\" stroke:none;fill-rule:nonzero;fill:rgb(0%,44.705883%,69.803923%);fill-opacity:0.8;\" d=\"M 199.089844 399.308594 L 211.636719 399.308594 L 211.636719 384.972656 L 199.089844 384.972656 Z M 199.089844 399.308594 \"/>\n",
       "<path style=\" stroke:none;fill-rule:nonzero;fill:rgb(0%,44.705883%,69.803923%);fill-opacity:0.8;\" d=\"M 211.636719 399.308594 L 224.183594 399.308594 L 224.183594 384.019531 L 211.636719 384.019531 Z M 211.636719 399.308594 \"/>\n",
       "<path style=\" stroke:none;fill-rule:nonzero;fill:rgb(0%,44.705883%,69.803923%);fill-opacity:0.8;\" d=\"M 224.183594 399.308594 L 236.730469 399.308594 L 236.730469 387.839844 L 224.183594 387.839844 Z M 224.183594 399.308594 \"/>\n",
       "<path style=\" stroke:none;fill-rule:nonzero;fill:rgb(0%,44.705883%,69.803923%);fill-opacity:0.8;\" d=\"M 236.726562 399.308594 L 249.273438 399.308594 L 249.273438 389.753906 L 236.726562 389.753906 Z M 236.726562 399.308594 \"/>\n",
       "<path style=\" stroke:none;fill-rule:nonzero;fill:rgb(0%,44.705883%,69.803923%);fill-opacity:0.8;\" d=\"M 249.273438 399.308594 L 261.820312 399.308594 L 261.820312 392.621094 L 249.273438 392.621094 Z M 249.273438 399.308594 \"/>\n",
       "<path style=\" stroke:none;fill-rule:nonzero;fill:rgb(0%,44.705883%,69.803923%);fill-opacity:0.8;\" d=\"M 261.816406 399.308594 L 274.363281 399.308594 L 274.363281 393.574219 L 261.816406 393.574219 Z M 261.816406 399.308594 \"/>\n",
       "<path style=\" stroke:none;fill-rule:nonzero;fill:rgb(0%,44.705883%,69.803923%);fill-opacity:0.8;\" d=\"M 274.363281 399.308594 L 286.910156 399.308594 L 286.910156 396.441406 L 274.363281 396.441406 Z M 274.363281 399.308594 \"/>\n",
       "<path style=\" stroke:none;fill-rule:nonzero;fill:rgb(0%,44.705883%,69.803923%);fill-opacity:0.8;\" d=\"M 286.910156 399.308594 L 299.457031 399.308594 L 299.457031 396.441406 L 286.910156 396.441406 Z M 286.910156 399.308594 \"/>\n",
       "<path style=\" stroke:none;fill-rule:nonzero;fill:rgb(0%,44.705883%,69.803923%);fill-opacity:0.8;\" d=\"M 299.453125 399.308594 L 312 399.308594 L 312 397.398438 L 299.453125 397.398438 Z M 299.453125 399.308594 \"/>\n",
       "<path style=\" stroke:none;fill-rule:nonzero;fill:rgb(0%,44.705883%,69.803923%);fill-opacity:0.8;\" d=\"M 312 399.308594 L 324.546875 399.308594 L 324.546875 397.398438 L 312 397.398438 Z M 312 399.308594 \"/>\n",
       "<path style=\" stroke:none;fill-rule:nonzero;fill:rgb(0%,44.705883%,69.803923%);fill-opacity:0.8;\" d=\"M 324.546875 399.308594 L 337.09375 399.308594 L 337.09375 397.398438 L 324.546875 397.398438 Z M 324.546875 399.308594 \"/>\n",
       "<path style=\" stroke:none;fill-rule:nonzero;fill:rgb(0%,44.705883%,69.803923%);fill-opacity:0.8;\" d=\"M 337.089844 399.308594 L 349.636719 399.308594 L 349.636719 397.398438 L 337.089844 397.398438 Z M 337.089844 399.308594 \"/>\n",
       "<path style=\" stroke:none;fill-rule:nonzero;fill:rgb(0%,44.705883%,69.803923%);fill-opacity:0.8;\" d=\"M 349.636719 399.308594 L 362.183594 399.308594 L 362.183594 398.351562 L 349.636719 398.351562 Z M 349.636719 399.308594 \"/>\n",
       "<path style=\" stroke:none;fill-rule:nonzero;fill:rgb(0%,44.705883%,69.803923%);fill-opacity:0.8;\" d=\"M 362.183594 399.308594 L 374.730469 399.308594 L 374.730469 395.484375 L 362.183594 395.484375 Z M 362.183594 399.308594 \"/>\n",
       "<path style=\" stroke:none;fill-rule:nonzero;fill:rgb(0%,44.705883%,69.803923%);fill-opacity:0.8;\" d=\"M 374.726562 399.308594 L 387.273438 399.308594 L 387.273438 396.441406 L 374.726562 396.441406 Z M 374.726562 399.308594 \"/>\n",
       "<path style=\" stroke:none;fill-rule:nonzero;fill:rgb(0%,44.705883%,69.803923%);fill-opacity:0.8;\" d=\"M 387.273438 399.308594 L 399.820312 399.308594 L 399.820312 397.398438 L 387.273438 397.398438 Z M 387.273438 399.308594 \"/>\n",
       "<path style=\" stroke:none;fill-rule:nonzero;fill:rgb(0%,44.705883%,69.803923%);fill-opacity:0.8;\" d=\"M 399.816406 399.308594 L 412.363281 399.308594 L 412.363281 398.351562 L 399.816406 398.351562 Z M 399.816406 399.308594 \"/>\n",
       "<path style=\" stroke:none;fill-rule:nonzero;fill:rgb(0%,44.705883%,69.803923%);fill-opacity:0.8;\" d=\"M 412.363281 399.308594 L 424.910156 399.308594 L 424.910156 398.351562 L 412.363281 398.351562 Z M 412.363281 399.308594 \"/>\n",
       "<path style=\" stroke:none;fill-rule:nonzero;fill:rgb(0%,44.705883%,69.803923%);fill-opacity:0.8;\" d=\"M 437.453125 399.308594 L 450 399.308594 L 450 398.351562 L 437.453125 398.351562 Z M 437.453125 399.308594 \"/>\n",
       "<path style=\" stroke:none;fill-rule:nonzero;fill:rgb(0%,44.705883%,69.803923%);fill-opacity:0.8;\" d=\"M 475.089844 399.308594 L 487.636719 399.308594 L 487.636719 398.351562 L 475.089844 398.351562 Z M 475.089844 399.308594 \"/>\n",
       "<path style=\" stroke:none;fill-rule:nonzero;fill:rgb(0%,44.705883%,69.803923%);fill-opacity:0.8;\" d=\"M 537.816406 399.308594 L 550.363281 399.308594 L 550.363281 398.351562 L 537.816406 398.351562 Z M 537.816406 399.308594 \"/>\n",
       "<path style=\" stroke:none;fill-rule:nonzero;fill:rgb(0%,44.705883%,69.803923%);fill-opacity:0.8;\" d=\"M 550.363281 399.308594 L 562.910156 399.308594 L 562.910156 398.351562 L 550.363281 398.351562 Z M 550.363281 399.308594 \"/>\n",
       "<path style=\"fill:none;stroke-width:1;stroke-linecap:butt;stroke-linejoin:miter;stroke:rgb(0%,0%,0%);stroke-opacity:1;stroke-miterlimit:2;\" d=\"M 81.453125 557.5 L 81.453125 563.5 \" transform=\"matrix(0.75,0,0,0.75,0,0)\"/>\n",
       "<path style=\"fill:none;stroke-width:1;stroke-linecap:butt;stroke-linejoin:miter;stroke:rgb(0%,0%,0%);stroke-opacity:1;stroke-miterlimit:2;\" d=\"M 405.260417 557.5 L 405.260417 563.5 \" transform=\"matrix(0.75,0,0,0.75,0,0)\"/>\n",
       "<path style=\"fill:none;stroke-width:1;stroke-linecap:butt;stroke-linejoin:miter;stroke:rgb(0%,0%,0%);stroke-opacity:1;stroke-miterlimit:2;\" d=\"M 729.067708 557.5 L 729.067708 563.5 \" transform=\"matrix(0.75,0,0,0.75,0,0)\"/>\n",
       "<path style=\"fill:none;stroke-width:1;stroke-linecap:butt;stroke-linejoin:miter;stroke:rgb(0%,0%,0%);stroke-opacity:1;stroke-miterlimit:2;\" d=\"M 47.5 532.411458 L 41.5 532.411458 \" transform=\"matrix(0.75,0,0,0.75,0,0)\"/>\n",
       "<path style=\"fill:none;stroke-width:1;stroke-linecap:butt;stroke-linejoin:miter;stroke:rgb(0%,0%,0%);stroke-opacity:1;stroke-miterlimit:2;\" d=\"M 47.5 367.859375 L 41.5 367.859375 \" transform=\"matrix(0.75,0,0,0.75,0,0)\"/>\n",
       "<path style=\"fill:none;stroke-width:1;stroke-linecap:butt;stroke-linejoin:miter;stroke:rgb(0%,0%,0%);stroke-opacity:1;stroke-miterlimit:2;\" d=\"M 47.5 203.307292 L 41.5 203.307292 \" transform=\"matrix(0.75,0,0,0.75,0,0)\"/>\n",
       "<path style=\"fill:none;stroke-width:1;stroke-linecap:butt;stroke-linejoin:miter;stroke:rgb(0%,0%,0%);stroke-opacity:1;stroke-miterlimit:2;\" d=\"M 47.5 38.760417 L 41.5 38.760417 \" transform=\"matrix(0.75,0,0,0.75,0,0)\"/>\n",
       "<path style=\"fill:none;stroke-width:1;stroke-linecap:butt;stroke-linejoin:miter;stroke:rgb(0%,0%,0%);stroke-opacity:1;stroke-miterlimit:2;\" d=\"M 47.5 557 L 784.5 557 \" transform=\"matrix(0.75,0,0,0.75,0,0)\"/>\n",
       "<path style=\"fill:none;stroke-width:1;stroke-linecap:butt;stroke-linejoin:miter;stroke:rgb(0%,0%,0%);stroke-opacity:1;stroke-miterlimit:2;\" d=\"M 48 557.5 L 48 15.5 \" transform=\"matrix(0.75,0,0,0.75,0,0)\"/>\n",
       "<path style=\"fill:none;stroke-width:1;stroke-linecap:butt;stroke-linejoin:miter;stroke:rgb(0%,0%,0%);stroke-opacity:1;stroke-miterlimit:2;\" d=\"M 47.5 16 L 784.5 16 \" transform=\"matrix(0.75,0,0,0.75,0,0)\"/>\n",
       "<path style=\"fill:none;stroke-width:1;stroke-linecap:butt;stroke-linejoin:miter;stroke:rgb(0%,0%,0%);stroke-opacity:1;stroke-miterlimit:2;\" d=\"M 784 557.5 L 784 15.5 \" transform=\"matrix(0.75,0,0,0.75,0,0)\"/>\n",
       "</g>\n",
       "</svg>\n"
      ]
     },
     "metadata": {},
     "execution_count": 67
    }
   ],
   "cell_type": "code",
   "source": [
    "f(x) = pdf(g, x)\n",
    "\n",
    "xs = 0:0.1:4 # floats from 0 to 4 in steps of 0.1\n",
    "ys = f.(xs)  # apply f element-wise to xs\n",
    "\n",
    "fig = lines(xs, ys)\n",
    "hist!(samples, normalization=:pdf, bins=40, alpha=0.4)\n",
    "current_figure()"
   ],
   "metadata": {},
   "execution_count": 67
  },
  {
   "outputs": [
    {
     "output_type": "execute_result",
     "data": {
      "text/plain": "CairoScreen{Cairo.CairoSurfaceIOStream{UInt32}} with surface:\nCairo.CairoSurfaceIOStream{UInt32}(Ptr{Nothing} @0x00007f86d2390e40, 600.0, 450.0, IOBuffer(data=UInt8[...], readable=true, writable=true, seekable=true, append=false, size=0, maxsize=Inf, ptr=1, mark=-1))\n"
     },
     "metadata": {},
     "execution_count": 68
    }
   ],
   "cell_type": "code",
   "source": [
    "save(\"my_first_plot.svg\", fig)"
   ],
   "metadata": {},
   "execution_count": 68
  },
  {
   "cell_type": "markdown",
   "source": [
    "# Exercises"
   ],
   "metadata": {}
  },
  {
   "cell_type": "markdown",
   "source": [
    "## Exercise 1"
   ],
   "metadata": {}
  },
  {
   "cell_type": "markdown",
   "source": [
    "Write a function named `total` that adds the elements of its vector input."
   ],
   "metadata": {}
  },
  {
   "cell_type": "markdown",
   "source": [
    "## Exercise 2"
   ],
   "metadata": {}
  },
  {
   "cell_type": "markdown",
   "source": [
    "Generate a 1000 random samples from the standard normal\n",
    "distribution. Create a second such sample, and add the two samples\n",
    "point-wise.  Compute the (sample) mean and variance of the combined\n",
    "samples. In the same\n",
    "plot, show a frequency-normalized histogram of the combined samples\n",
    "and a plot of the pdf for normal distribution with zero mean and\n",
    "variance `2`."
   ],
   "metadata": {}
  },
  {
   "cell_type": "markdown",
   "source": [
    "You can use `std` to compute the standard deviation and `sqrt` to\n",
    "compute square roots."
   ],
   "metadata": {}
  },
  {
   "cell_type": "markdown",
   "source": [
    "## Exercise 3"
   ],
   "metadata": {}
  },
  {
   "cell_type": "markdown",
   "source": [
    "The following shows that named tuples share some behaviour with dictionaries:"
   ],
   "metadata": {}
  },
  {
   "outputs": [
    {
     "output_type": "execute_result",
     "data": {
      "text/plain": "(:x, :y, :z)"
     },
     "metadata": {},
     "execution_count": 69
    }
   ],
   "cell_type": "code",
   "source": [
    "t = (x = 1, y = \"cat\", z = 4.5)\n",
    "keys(t)"
   ],
   "metadata": {},
   "execution_count": 69
  },
  {
   "outputs": [
    {
     "output_type": "execute_result",
     "data": {
      "text/plain": "\"cat\""
     },
     "metadata": {},
     "execution_count": 70
    }
   ],
   "cell_type": "code",
   "source": [
    "t[:y]"
   ],
   "metadata": {},
   "execution_count": 70
  },
  {
   "cell_type": "markdown",
   "source": [
    "Write a function called `dict` that converts a named tuple to an\n",
    "actual dictionary. You can create an empty dictionary using `Dict()`."
   ],
   "metadata": {}
  },
  {
   "cell_type": "markdown",
   "source": [
    "---\n",
    "\n",
    "*This notebook was generated using [Literate.jl](https://github.com/fredrikekre/Literate.jl).*"
   ],
   "metadata": {}
  }
 ],
 "nbformat_minor": 3,
 "metadata": {
  "language_info": {
   "file_extension": ".jl",
   "mimetype": "application/julia",
   "name": "julia",
   "version": "1.7.3"
  },
  "kernelspec": {
   "name": "julia-1.7",
   "display_name": "Julia 1.7.3",
   "language": "julia"
  }
 },
 "nbformat": 4
}
