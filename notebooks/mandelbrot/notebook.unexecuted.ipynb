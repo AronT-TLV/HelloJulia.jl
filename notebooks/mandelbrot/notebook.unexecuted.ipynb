{
 "cells": [
  {
   "cell_type": "markdown",
   "source": [
    "# Generate a Mandelbrot set with Julia"
   ],
   "metadata": {}
  },
  {
   "cell_type": "markdown",
   "source": [
    "Notebook from [HelloJulia.jl](https://github.com/ablaom/HelloJulia.jl)"
   ],
   "metadata": {}
  },
  {
   "cell_type": "markdown",
   "source": [
    "Instantiate package environment:"
   ],
   "metadata": {}
  },
  {
   "outputs": [],
   "cell_type": "code",
   "source": [
    "using Pkg\n",
    "Pkg.activate(@__DIR__)\n",
    "Pkg.instantiate()"
   ],
   "metadata": {},
   "execution_count": null
  },
  {
   "outputs": [],
   "cell_type": "code",
   "source": [
    "using Plots\n",
    "plotly() # choose plotting backend"
   ],
   "metadata": {},
   "execution_count": null
  },
  {
   "outputs": [],
   "cell_type": "code",
   "source": [
    "function mandel(z)\n",
    "    c = z     # starting value and constant shift\n",
    "    max_iterations = 20\n",
    "    for n = 1:max_iterations\n",
    "        if abs(z) > 2\n",
    "            return n-1\n",
    "        end\n",
    "        z = z^2 + c\n",
    "    end\n",
    "    return max_iterations\n",
    "end"
   ],
   "metadata": {},
   "execution_count": null
  },
  {
   "outputs": [],
   "cell_type": "code",
   "source": [
    "xs = -2.5:0.005:0.75\n",
    "ys = -1.5:0.005:1.5\n",
    "z = [mandel(x + im*y) for y in ys, x in xs]\n",
    "heatmap(xs, ys, z)"
   ],
   "metadata": {},
   "execution_count": null
  },
  {
   "outputs": [],
   "cell_type": "code",
   "source": [
    "savefig(\"mandelbrot.html\")"
   ],
   "metadata": {},
   "execution_count": null
  },
  {
   "cell_type": "markdown",
   "source": [
    "---\n",
    "\n",
    "*This notebook was generated using [Literate.jl](https://github.com/fredrikekre/Literate.jl).*"
   ],
   "metadata": {}
  }
 ],
 "nbformat_minor": 3,
 "metadata": {
  "language_info": {
   "file_extension": ".jl",
   "mimetype": "application/julia",
   "name": "julia",
   "version": "1.6.5"
  },
  "kernelspec": {
   "name": "julia-1.6",
   "display_name": "Julia 1.6.5",
   "language": "julia"
  }
 },
 "nbformat": 4
}
