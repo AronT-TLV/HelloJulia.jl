{
 "cells": [
  {
   "cell_type": "markdown",
   "source": [
    "# Solutions to exercises"
   ],
   "metadata": {}
  },
  {
   "cell_type": "markdown",
   "source": [
    "## Setup"
   ],
   "metadata": {}
  },
  {
   "cell_type": "markdown",
   "source": [
    "Inspect Julia version:"
   ],
   "metadata": {}
  },
  {
   "outputs": [
    {
     "output_type": "execute_result",
     "data": {
      "text/plain": "v\"1.6.5\""
     },
     "metadata": {},
     "execution_count": 1
    }
   ],
   "cell_type": "code",
   "source": [
    "VERSION"
   ],
   "metadata": {},
   "execution_count": 1
  },
  {
   "cell_type": "markdown",
   "source": [
    "The following instantiates a package environment."
   ],
   "metadata": {}
  },
  {
   "cell_type": "markdown",
   "source": [
    "The package environment has been created using **Julia 1.6** and may not\n",
    "instantiate properly for other Julia versions."
   ],
   "metadata": {}
  },
  {
   "outputs": [
    {
     "name": "stdout",
     "output_type": "stream",
     "text": [
      "  Activating environment at `~/GoogleDrive/Julia/HelloJulia/notebooks/99_solutions_to_exercises/Project.toml`\n"
     ]
    }
   ],
   "cell_type": "code",
   "source": [
    "using Pkg\n",
    "Pkg.activate(@__DIR__)\n",
    "Pkg.instantiate()"
   ],
   "metadata": {},
   "execution_count": 2
  },
  {
   "cell_type": "markdown",
   "source": [
    "## Exercise 1"
   ],
   "metadata": {}
  },
  {
   "cell_type": "markdown",
   "source": [
    "Write a function named `total` that adds the elements of its vector input."
   ],
   "metadata": {}
  },
  {
   "cell_type": "markdown",
   "source": [
    "### Solution"
   ],
   "metadata": {}
  },
  {
   "outputs": [
    {
     "output_type": "execute_result",
     "data": {
      "text/plain": "total (generic function with 1 method)"
     },
     "metadata": {},
     "execution_count": 3
    }
   ],
   "cell_type": "code",
   "source": [
    "function total(v)\n",
    "    sum = 0.0 # better is zero(v)\n",
    "    for i in 1:length(v)\n",
    "        sum = sum + v[i]\n",
    "    end\n",
    "    return sum\n",
    "end"
   ],
   "metadata": {},
   "execution_count": 3
  },
  {
   "outputs": [
    {
     "output_type": "execute_result",
     "data": {
      "text/plain": "55.0"
     },
     "metadata": {},
     "execution_count": 4
    }
   ],
   "cell_type": "code",
   "source": [
    "total(1:10)"
   ],
   "metadata": {},
   "execution_count": 4
  },
  {
   "cell_type": "markdown",
   "source": [
    "The built-in function is called `sum`."
   ],
   "metadata": {}
  },
  {
   "cell_type": "markdown",
   "source": [
    "## Exercise 2"
   ],
   "metadata": {}
  },
  {
   "cell_type": "markdown",
   "source": [
    "Generate a 1000 random samples from the standard normal\n",
    "distribution. Create a second such sample, and add the two samples\n",
    "point-wise.  Compute the (sample) mean and variance of the combined\n",
    "samples. In the same plot, show a frequency-normalized histogram of\n",
    "the combined samples and a plot of the pdf for normal distribution\n",
    "with zero mean and variance `2`."
   ],
   "metadata": {}
  },
  {
   "cell_type": "markdown",
   "source": [
    "### Solution"
   ],
   "metadata": {}
  },
  {
   "outputs": [
    {
     "name": "stdout",
     "output_type": "stream",
     "text": [
      "mu = -0.08725947866354232\n",
      "var = 2.0773111910994384\n"
     ]
    },
    {
     "output_type": "execute_result",
     "data": {
      "text/plain": "2.0773111910994384"
     },
     "metadata": {},
     "execution_count": 5
    }
   ],
   "cell_type": "code",
   "source": [
    "using Distributions, Plots, Statistics\n",
    "\n",
    "samples1 = randn(1000); # or rand(Normal(), 1000)\n",
    "samples2 = randn(1000);\n",
    "\n",
    "samples = samples1 .+ samples2;\n",
    "\n",
    "mu = mean(samples)\n",
    "var = std(samples)^2\n",
    "\n",
    "@show mu var"
   ],
   "metadata": {},
   "execution_count": 5
  },
  {
   "outputs": [
    {
     "output_type": "execute_result",
     "data": {
      "text/plain": "Plot{Plots.GRBackend() n=2}",
      "image/png": "[encoded data removed]",
      "text/html": [
       "<?xml version=\"1.0\" encoding=\"utf-8\"?>\n",
       "<svg xmlns=\"http://www.w3.org/2000/svg\" xmlns:xlink=\"http://www.w3.org/1999/xlink\" width=\"600\" height=\"400\" viewBox=\"0 0 2400 1600\">\n",
       "<defs>\n",
       "  <clipPath id=\"clip560\">\n",
       "    <rect x=\"0\" y=\"0\" width=\"2400\" height=\"1600\"/>\n",
       "  </clipPath>\n",
       "</defs>\n",
       "<path clip-path=\"url(#clip560)\" d=\"\n",
       "M0 1600 L2400 1600 L2400 0 L0 0  Z\n",
       "  \" fill=\"#ffffff\" fill-rule=\"evenodd\" fill-opacity=\"1\"/>\n",
       "<defs>\n",
       "  <clipPath id=\"clip561\">\n",
       "    <rect x=\"480\" y=\"0\" width=\"1681\" height=\"1600\"/>\n",
       "  </clipPath>\n",
       "</defs>\n",
       "<path clip-path=\"url(#clip560)\" d=\"\n",
       "M186.274 1486.45 L2352.76 1486.45 L2352.76 47.2441 L186.274 47.2441  Z\n",
       "  \" fill=\"#ffffff\" fill-rule=\"evenodd\" fill-opacity=\"1\"/>\n",
       "<defs>\n",
       "  <clipPath id=\"clip562\">\n",
       "    <rect x=\"186\" y=\"47\" width=\"2167\" height=\"1440\"/>\n",
       "  </clipPath>\n",
       "</defs>\n",
       "<polyline clip-path=\"url(#clip562)\" style=\"stroke:#000000; stroke-linecap:butt; stroke-linejoin:round; stroke-width:2; stroke-opacity:0.1; fill:none\" points=\"\n",
       "  397.252,1486.45 397.252,47.2441 \n",
       "  \"/>\n",
       "<polyline clip-path=\"url(#clip562)\" style=\"stroke:#000000; stroke-linecap:butt; stroke-linejoin:round; stroke-width:2; stroke-opacity:0.1; fill:none\" points=\"\n",
       "  856.338,1486.45 856.338,47.2441 \n",
       "  \"/>\n",
       "<polyline clip-path=\"url(#clip562)\" style=\"stroke:#000000; stroke-linecap:butt; stroke-linejoin:round; stroke-width:2; stroke-opacity:0.1; fill:none\" points=\"\n",
       "  1315.42,1486.45 1315.42,47.2441 \n",
       "  \"/>\n",
       "<polyline clip-path=\"url(#clip562)\" style=\"stroke:#000000; stroke-linecap:butt; stroke-linejoin:round; stroke-width:2; stroke-opacity:0.1; fill:none\" points=\"\n",
       "  1774.51,1486.45 1774.51,47.2441 \n",
       "  \"/>\n",
       "<polyline clip-path=\"url(#clip562)\" style=\"stroke:#000000; stroke-linecap:butt; stroke-linejoin:round; stroke-width:2; stroke-opacity:0.1; fill:none\" points=\"\n",
       "  2233.6,1486.45 2233.6,47.2441 \n",
       "  \"/>\n",
       "<polyline clip-path=\"url(#clip560)\" style=\"stroke:#000000; stroke-linecap:butt; stroke-linejoin:round; stroke-width:4; stroke-opacity:1; fill:none\" points=\"\n",
       "  186.274,1486.45 2352.76,1486.45 \n",
       "  \"/>\n",
       "<polyline clip-path=\"url(#clip560)\" style=\"stroke:#000000; stroke-linecap:butt; stroke-linejoin:round; stroke-width:4; stroke-opacity:1; fill:none\" points=\"\n",
       "  397.252,1486.45 397.252,1467.55 \n",
       "  \"/>\n",
       "<polyline clip-path=\"url(#clip560)\" style=\"stroke:#000000; stroke-linecap:butt; stroke-linejoin:round; stroke-width:4; stroke-opacity:1; fill:none\" points=\"\n",
       "  856.338,1486.45 856.338,1467.55 \n",
       "  \"/>\n",
       "<polyline clip-path=\"url(#clip560)\" style=\"stroke:#000000; stroke-linecap:butt; stroke-linejoin:round; stroke-width:4; stroke-opacity:1; fill:none\" points=\"\n",
       "  1315.42,1486.45 1315.42,1467.55 \n",
       "  \"/>\n",
       "<polyline clip-path=\"url(#clip560)\" style=\"stroke:#000000; stroke-linecap:butt; stroke-linejoin:round; stroke-width:4; stroke-opacity:1; fill:none\" points=\"\n",
       "  1774.51,1486.45 1774.51,1467.55 \n",
       "  \"/>\n",
       "<polyline clip-path=\"url(#clip560)\" style=\"stroke:#000000; stroke-linecap:butt; stroke-linejoin:round; stroke-width:4; stroke-opacity:1; fill:none\" points=\"\n",
       "  2233.6,1486.45 2233.6,1467.55 \n",
       "  \"/>\n",
       "<path clip-path=\"url(#clip560)\" d=\"M343.78 1532.02 L373.455 1532.02 L373.455 1535.95 L343.78 1535.95 L343.78 1532.02 Z\" fill=\"#000000\" fill-rule=\"evenodd\" fill-opacity=\"1\" /><path clip-path=\"url(#clip560)\" d=\"M383.594 1514.29 L401.951 1514.29 L401.951 1518.22 L387.877 1518.22 L387.877 1526.7 Q388.895 1526.35 389.914 1526.19 Q390.932 1526 391.951 1526 Q397.738 1526 401.117 1529.17 Q404.497 1532.34 404.497 1537.76 Q404.497 1543.34 401.025 1546.44 Q397.552 1549.52 391.233 1549.52 Q389.057 1549.52 386.789 1549.15 Q384.543 1548.78 382.136 1548.04 L382.136 1543.34 Q384.219 1544.47 386.441 1545.03 Q388.664 1545.58 391.14 1545.58 Q395.145 1545.58 397.483 1543.48 Q399.821 1541.37 399.821 1537.76 Q399.821 1534.15 397.483 1532.04 Q395.145 1529.94 391.14 1529.94 Q389.265 1529.94 387.391 1530.35 Q385.539 1530.77 383.594 1531.65 L383.594 1514.29 Z\" fill=\"#000000\" fill-rule=\"evenodd\" fill-opacity=\"1\" /><path clip-path=\"url(#clip560)\" d=\"M413.71 1542.97 L418.594 1542.97 L418.594 1548.85 L413.71 1548.85 L413.71 1542.97 Z\" fill=\"#000000\" fill-rule=\"evenodd\" fill-opacity=\"1\" /><path clip-path=\"url(#clip560)\" d=\"M438.779 1517.37 Q435.168 1517.37 433.339 1520.93 Q431.534 1524.47 431.534 1531.6 Q431.534 1538.71 433.339 1542.27 Q435.168 1545.82 438.779 1545.82 Q442.413 1545.82 444.219 1542.27 Q446.048 1538.71 446.048 1531.6 Q446.048 1524.47 444.219 1520.93 Q442.413 1517.37 438.779 1517.37 M438.779 1513.66 Q444.589 1513.66 447.645 1518.27 Q450.723 1522.85 450.723 1531.6 Q450.723 1540.33 447.645 1544.94 Q444.589 1549.52 438.779 1549.52 Q432.969 1549.52 429.89 1544.94 Q426.835 1540.33 426.835 1531.6 Q426.835 1522.85 429.89 1518.27 Q432.969 1513.66 438.779 1513.66 Z\" fill=\"#000000\" fill-rule=\"evenodd\" fill-opacity=\"1\" /><path clip-path=\"url(#clip560)\" d=\"M803.363 1532.02 L833.039 1532.02 L833.039 1535.95 L803.363 1535.95 L803.363 1532.02 Z\" fill=\"#000000\" fill-rule=\"evenodd\" fill-opacity=\"1\" /><path clip-path=\"url(#clip560)\" d=\"M847.159 1544.91 L863.479 1544.91 L863.479 1548.85 L841.534 1548.85 L841.534 1544.91 Q844.196 1542.16 848.78 1537.53 Q853.386 1532.88 854.567 1531.53 Q856.812 1529.01 857.692 1527.27 Q858.594 1525.51 858.594 1523.82 Q858.594 1521.07 856.65 1519.33 Q854.729 1517.6 851.627 1517.6 Q849.428 1517.6 846.974 1518.36 Q844.544 1519.13 841.766 1520.68 L841.766 1515.95 Q844.59 1514.82 847.044 1514.24 Q849.497 1513.66 851.534 1513.66 Q856.905 1513.66 860.099 1516.35 Q863.294 1519.03 863.294 1523.52 Q863.294 1525.65 862.483 1527.57 Q861.696 1529.47 859.59 1532.07 Q859.011 1532.74 855.909 1535.95 Q852.807 1539.15 847.159 1544.91 Z\" fill=\"#000000\" fill-rule=\"evenodd\" fill-opacity=\"1\" /><path clip-path=\"url(#clip560)\" d=\"M873.293 1542.97 L878.178 1542.97 L878.178 1548.85 L873.293 1548.85 L873.293 1542.97 Z\" fill=\"#000000\" fill-rule=\"evenodd\" fill-opacity=\"1\" /><path clip-path=\"url(#clip560)\" d=\"M888.409 1514.29 L906.766 1514.29 L906.766 1518.22 L892.692 1518.22 L892.692 1526.7 Q893.71 1526.35 894.729 1526.19 Q895.747 1526 896.766 1526 Q902.553 1526 905.932 1529.17 Q909.312 1532.34 909.312 1537.76 Q909.312 1543.34 905.84 1546.44 Q902.367 1549.52 896.048 1549.52 Q893.872 1549.52 891.604 1549.15 Q889.358 1548.78 886.951 1548.04 L886.951 1543.34 Q889.034 1544.47 891.256 1545.03 Q893.479 1545.58 895.955 1545.58 Q899.96 1545.58 902.298 1543.48 Q904.636 1541.37 904.636 1537.76 Q904.636 1534.15 902.298 1532.04 Q899.96 1529.94 895.955 1529.94 Q894.08 1529.94 892.205 1530.35 Q890.354 1530.77 888.409 1531.65 L888.409 1514.29 Z\" fill=\"#000000\" fill-rule=\"evenodd\" fill-opacity=\"1\" /><path clip-path=\"url(#clip560)\" d=\"M1292.81 1517.37 Q1289.2 1517.37 1287.37 1520.93 Q1285.56 1524.47 1285.56 1531.6 Q1285.56 1538.71 1287.37 1542.27 Q1289.2 1545.82 1292.81 1545.82 Q1296.44 1545.82 1298.25 1542.27 Q1300.08 1538.71 1300.08 1531.6 Q1300.08 1524.47 1298.25 1520.93 Q1296.44 1517.37 1292.81 1517.37 M1292.81 1513.66 Q1298.62 1513.66 1301.67 1518.27 Q1304.75 1522.85 1304.75 1531.6 Q1304.75 1540.33 1301.67 1544.94 Q1298.62 1549.52 1292.81 1549.52 Q1287 1549.52 1283.92 1544.94 Q1280.86 1540.33 1280.86 1531.6 Q1280.86 1522.85 1283.92 1518.27 Q1287 1513.66 1292.81 1513.66 Z\" fill=\"#000000\" fill-rule=\"evenodd\" fill-opacity=\"1\" /><path clip-path=\"url(#clip560)\" d=\"M1312.97 1542.97 L1317.85 1542.97 L1317.85 1548.85 L1312.97 1548.85 L1312.97 1542.97 Z\" fill=\"#000000\" fill-rule=\"evenodd\" fill-opacity=\"1\" /><path clip-path=\"url(#clip560)\" d=\"M1338.04 1517.37 Q1334.43 1517.37 1332.6 1520.93 Q1330.79 1524.47 1330.79 1531.6 Q1330.79 1538.71 1332.6 1542.27 Q1334.43 1545.82 1338.04 1545.82 Q1341.67 1545.82 1343.48 1542.27 Q1345.31 1538.71 1345.31 1531.6 Q1345.31 1524.47 1343.48 1520.93 Q1341.67 1517.37 1338.04 1517.37 M1338.04 1513.66 Q1343.85 1513.66 1346.9 1518.27 Q1349.98 1522.85 1349.98 1531.6 Q1349.98 1540.33 1346.9 1544.94 Q1343.85 1549.52 1338.04 1549.52 Q1332.23 1549.52 1329.15 1544.94 Q1326.09 1540.33 1326.09 1531.6 Q1326.09 1522.85 1329.15 1518.27 Q1332.23 1513.66 1338.04 1513.66 Z\" fill=\"#000000\" fill-rule=\"evenodd\" fill-opacity=\"1\" /><path clip-path=\"url(#clip560)\" d=\"M1746.25 1544.91 L1762.57 1544.91 L1762.57 1548.85 L1740.62 1548.85 L1740.62 1544.91 Q1743.28 1542.16 1747.87 1537.53 Q1752.47 1532.88 1753.65 1531.53 Q1755.9 1529.01 1756.78 1527.27 Q1757.68 1525.51 1757.68 1523.82 Q1757.68 1521.07 1755.74 1519.33 Q1753.82 1517.6 1750.71 1517.6 Q1748.51 1517.6 1746.06 1518.36 Q1743.63 1519.13 1740.85 1520.68 L1740.85 1515.95 Q1743.68 1514.82 1746.13 1514.24 Q1748.58 1513.66 1750.62 1513.66 Q1755.99 1513.66 1759.19 1516.35 Q1762.38 1519.03 1762.38 1523.52 Q1762.38 1525.65 1761.57 1527.57 Q1760.78 1529.47 1758.68 1532.07 Q1758.1 1532.74 1755 1535.95 Q1751.89 1539.15 1746.25 1544.91 Z\" fill=\"#000000\" fill-rule=\"evenodd\" fill-opacity=\"1\" /><path clip-path=\"url(#clip560)\" d=\"M1772.38 1542.97 L1777.26 1542.97 L1777.26 1548.85 L1772.38 1548.85 L1772.38 1542.97 Z\" fill=\"#000000\" fill-rule=\"evenodd\" fill-opacity=\"1\" /><path clip-path=\"url(#clip560)\" d=\"M1787.5 1514.29 L1805.85 1514.29 L1805.85 1518.22 L1791.78 1518.22 L1791.78 1526.7 Q1792.8 1526.35 1793.82 1526.19 Q1794.83 1526 1795.85 1526 Q1801.64 1526 1805.02 1529.17 Q1808.4 1532.34 1808.4 1537.76 Q1808.4 1543.34 1804.93 1546.44 Q1801.45 1549.52 1795.13 1549.52 Q1792.96 1549.52 1790.69 1549.15 Q1788.44 1548.78 1786.04 1548.04 L1786.04 1543.34 Q1788.12 1544.47 1790.34 1545.03 Q1792.57 1545.58 1795.04 1545.58 Q1799.05 1545.58 1801.38 1543.48 Q1803.72 1541.37 1803.72 1537.76 Q1803.72 1534.15 1801.38 1532.04 Q1799.05 1529.94 1795.04 1529.94 Q1793.17 1529.94 1791.29 1530.35 Q1789.44 1530.77 1787.5 1531.65 L1787.5 1514.29 Z\" fill=\"#000000\" fill-rule=\"evenodd\" fill-opacity=\"1\" /><path clip-path=\"url(#clip560)\" d=\"M2200.76 1514.29 L2219.12 1514.29 L2219.12 1518.22 L2205.04 1518.22 L2205.04 1526.7 Q2206.06 1526.35 2207.08 1526.19 Q2208.1 1526 2209.12 1526 Q2214.9 1526 2218.28 1529.17 Q2221.66 1532.34 2221.66 1537.76 Q2221.66 1543.34 2218.19 1546.44 Q2214.72 1549.52 2208.4 1549.52 Q2206.22 1549.52 2203.95 1549.15 Q2201.71 1548.78 2199.3 1548.04 L2199.3 1543.34 Q2201.39 1544.47 2203.61 1545.03 Q2205.83 1545.58 2208.31 1545.58 Q2212.31 1545.58 2214.65 1543.48 Q2216.99 1541.37 2216.99 1537.76 Q2216.99 1534.15 2214.65 1532.04 Q2212.31 1529.94 2208.31 1529.94 Q2206.43 1529.94 2204.56 1530.35 Q2202.7 1530.77 2200.76 1531.65 L2200.76 1514.29 Z\" fill=\"#000000\" fill-rule=\"evenodd\" fill-opacity=\"1\" /><path clip-path=\"url(#clip560)\" d=\"M2230.88 1542.97 L2235.76 1542.97 L2235.76 1548.85 L2230.88 1548.85 L2230.88 1542.97 Z\" fill=\"#000000\" fill-rule=\"evenodd\" fill-opacity=\"1\" /><path clip-path=\"url(#clip560)\" d=\"M2255.94 1517.37 Q2252.33 1517.37 2250.51 1520.93 Q2248.7 1524.47 2248.7 1531.6 Q2248.7 1538.71 2250.51 1542.27 Q2252.33 1545.82 2255.94 1545.82 Q2259.58 1545.82 2261.38 1542.27 Q2263.21 1538.71 2263.21 1531.6 Q2263.21 1524.47 2261.38 1520.93 Q2259.58 1517.37 2255.94 1517.37 M2255.94 1513.66 Q2261.76 1513.66 2264.81 1518.27 Q2267.89 1522.85 2267.89 1531.6 Q2267.89 1540.33 2264.81 1544.94 Q2261.76 1549.52 2255.94 1549.52 Q2250.13 1549.52 2247.06 1544.94 Q2244 1540.33 2244 1531.6 Q2244 1522.85 2247.06 1518.27 Q2250.13 1513.66 2255.94 1513.66 Z\" fill=\"#000000\" fill-rule=\"evenodd\" fill-opacity=\"1\" /><polyline clip-path=\"url(#clip562)\" style=\"stroke:#000000; stroke-linecap:butt; stroke-linejoin:round; stroke-width:2; stroke-opacity:0.1; fill:none\" points=\"\n",
       "  186.274,1445.72 2352.76,1445.72 \n",
       "  \"/>\n",
       "<polyline clip-path=\"url(#clip562)\" style=\"stroke:#000000; stroke-linecap:butt; stroke-linejoin:round; stroke-width:2; stroke-opacity:0.1; fill:none\" points=\"\n",
       "  186.274,1211.62 2352.76,1211.62 \n",
       "  \"/>\n",
       "<polyline clip-path=\"url(#clip562)\" style=\"stroke:#000000; stroke-linecap:butt; stroke-linejoin:round; stroke-width:2; stroke-opacity:0.1; fill:none\" points=\"\n",
       "  186.274,977.53 2352.76,977.53 \n",
       "  \"/>\n",
       "<polyline clip-path=\"url(#clip562)\" style=\"stroke:#000000; stroke-linecap:butt; stroke-linejoin:round; stroke-width:2; stroke-opacity:0.1; fill:none\" points=\"\n",
       "  186.274,743.437 2352.76,743.437 \n",
       "  \"/>\n",
       "<polyline clip-path=\"url(#clip562)\" style=\"stroke:#000000; stroke-linecap:butt; stroke-linejoin:round; stroke-width:2; stroke-opacity:0.1; fill:none\" points=\"\n",
       "  186.274,509.344 2352.76,509.344 \n",
       "  \"/>\n",
       "<polyline clip-path=\"url(#clip562)\" style=\"stroke:#000000; stroke-linecap:butt; stroke-linejoin:round; stroke-width:2; stroke-opacity:0.1; fill:none\" points=\"\n",
       "  186.274,275.251 2352.76,275.251 \n",
       "  \"/>\n",
       "<polyline clip-path=\"url(#clip560)\" style=\"stroke:#000000; stroke-linecap:butt; stroke-linejoin:round; stroke-width:4; stroke-opacity:1; fill:none\" points=\"\n",
       "  186.274,1486.45 186.274,47.2441 \n",
       "  \"/>\n",
       "<polyline clip-path=\"url(#clip560)\" style=\"stroke:#000000; stroke-linecap:butt; stroke-linejoin:round; stroke-width:4; stroke-opacity:1; fill:none\" points=\"\n",
       "  186.274,1445.72 205.172,1445.72 \n",
       "  \"/>\n",
       "<polyline clip-path=\"url(#clip560)\" style=\"stroke:#000000; stroke-linecap:butt; stroke-linejoin:round; stroke-width:4; stroke-opacity:1; fill:none\" points=\"\n",
       "  186.274,1211.62 205.172,1211.62 \n",
       "  \"/>\n",
       "<polyline clip-path=\"url(#clip560)\" style=\"stroke:#000000; stroke-linecap:butt; stroke-linejoin:round; stroke-width:4; stroke-opacity:1; fill:none\" points=\"\n",
       "  186.274,977.53 205.172,977.53 \n",
       "  \"/>\n",
       "<polyline clip-path=\"url(#clip560)\" style=\"stroke:#000000; stroke-linecap:butt; stroke-linejoin:round; stroke-width:4; stroke-opacity:1; fill:none\" points=\"\n",
       "  186.274,743.437 205.172,743.437 \n",
       "  \"/>\n",
       "<polyline clip-path=\"url(#clip560)\" style=\"stroke:#000000; stroke-linecap:butt; stroke-linejoin:round; stroke-width:4; stroke-opacity:1; fill:none\" points=\"\n",
       "  186.274,509.344 205.172,509.344 \n",
       "  \"/>\n",
       "<polyline clip-path=\"url(#clip560)\" style=\"stroke:#000000; stroke-linecap:butt; stroke-linejoin:round; stroke-width:4; stroke-opacity:1; fill:none\" points=\"\n",
       "  186.274,275.251 205.172,275.251 \n",
       "  \"/>\n",
       "<path clip-path=\"url(#clip560)\" d=\"M62.9365 1431.51 Q59.3254 1431.51 57.4967 1435.08 Q55.6912 1438.62 55.6912 1445.75 Q55.6912 1452.86 57.4967 1456.42 Q59.3254 1459.96 62.9365 1459.96 Q66.5707 1459.96 68.3763 1456.42 Q70.205 1452.86 70.205 1445.75 Q70.205 1438.62 68.3763 1435.08 Q66.5707 1431.51 62.9365 1431.51 M62.9365 1427.81 Q68.7467 1427.81 71.8022 1432.42 Q74.8809 1437 74.8809 1445.75 Q74.8809 1454.48 71.8022 1459.08 Q68.7467 1463.67 62.9365 1463.67 Q57.1264 1463.67 54.0477 1459.08 Q50.9921 1454.48 50.9921 1445.75 Q50.9921 1437 54.0477 1432.42 Q57.1264 1427.81 62.9365 1427.81 Z\" fill=\"#000000\" fill-rule=\"evenodd\" fill-opacity=\"1\" /><path clip-path=\"url(#clip560)\" d=\"M83.0984 1457.12 L87.9827 1457.12 L87.9827 1463 L83.0984 1463 L83.0984 1457.12 Z\" fill=\"#000000\" fill-rule=\"evenodd\" fill-opacity=\"1\" /><path clip-path=\"url(#clip560)\" d=\"M108.168 1431.51 Q104.557 1431.51 102.728 1435.08 Q100.922 1438.62 100.922 1445.75 Q100.922 1452.86 102.728 1456.42 Q104.557 1459.96 108.168 1459.96 Q111.802 1459.96 113.608 1456.42 Q115.436 1452.86 115.436 1445.75 Q115.436 1438.62 113.608 1435.08 Q111.802 1431.51 108.168 1431.51 M108.168 1427.81 Q113.978 1427.81 117.033 1432.42 Q120.112 1437 120.112 1445.75 Q120.112 1454.48 117.033 1459.08 Q113.978 1463.67 108.168 1463.67 Q102.358 1463.67 99.2789 1459.08 Q96.2234 1454.48 96.2234 1445.75 Q96.2234 1437 99.2789 1432.42 Q102.358 1427.81 108.168 1427.81 Z\" fill=\"#000000\" fill-rule=\"evenodd\" fill-opacity=\"1\" /><path clip-path=\"url(#clip560)\" d=\"M138.33 1431.51 Q134.719 1431.51 132.89 1435.08 Q131.084 1438.62 131.084 1445.75 Q131.084 1452.86 132.89 1456.42 Q134.719 1459.96 138.33 1459.96 Q141.964 1459.96 143.769 1456.42 Q145.598 1452.86 145.598 1445.75 Q145.598 1438.62 143.769 1435.08 Q141.964 1431.51 138.33 1431.51 M138.33 1427.81 Q144.14 1427.81 147.195 1432.42 Q150.274 1437 150.274 1445.75 Q150.274 1454.48 147.195 1459.08 Q144.14 1463.67 138.33 1463.67 Q132.519 1463.67 129.441 1459.08 Q126.385 1454.48 126.385 1445.75 Q126.385 1437 129.441 1432.42 Q132.519 1427.81 138.33 1427.81 Z\" fill=\"#000000\" fill-rule=\"evenodd\" fill-opacity=\"1\" /><path clip-path=\"url(#clip560)\" d=\"M63.9319 1197.42 Q60.3208 1197.42 58.4921 1200.99 Q56.6865 1204.53 56.6865 1211.66 Q56.6865 1218.76 58.4921 1222.33 Q60.3208 1225.87 63.9319 1225.87 Q67.5661 1225.87 69.3717 1222.33 Q71.2004 1218.76 71.2004 1211.66 Q71.2004 1204.53 69.3717 1200.99 Q67.5661 1197.42 63.9319 1197.42 M63.9319 1193.72 Q69.742 1193.72 72.7976 1198.32 Q75.8763 1202.91 75.8763 1211.66 Q75.8763 1220.38 72.7976 1224.99 Q69.742 1229.57 63.9319 1229.57 Q58.1217 1229.57 55.043 1224.99 Q51.9875 1220.38 51.9875 1211.66 Q51.9875 1202.91 55.043 1198.32 Q58.1217 1193.72 63.9319 1193.72 Z\" fill=\"#000000\" fill-rule=\"evenodd\" fill-opacity=\"1\" /><path clip-path=\"url(#clip560)\" d=\"M84.0938 1223.02 L88.978 1223.02 L88.978 1228.9 L84.0938 1228.9 L84.0938 1223.02 Z\" fill=\"#000000\" fill-rule=\"evenodd\" fill-opacity=\"1\" /><path clip-path=\"url(#clip560)\" d=\"M109.163 1197.42 Q105.552 1197.42 103.723 1200.99 Q101.918 1204.53 101.918 1211.66 Q101.918 1218.76 103.723 1222.33 Q105.552 1225.87 109.163 1225.87 Q112.797 1225.87 114.603 1222.33 Q116.432 1218.76 116.432 1211.66 Q116.432 1204.53 114.603 1200.99 Q112.797 1197.42 109.163 1197.42 M109.163 1193.72 Q114.973 1193.72 118.029 1198.32 Q121.107 1202.91 121.107 1211.66 Q121.107 1220.38 118.029 1224.99 Q114.973 1229.57 109.163 1229.57 Q103.353 1229.57 100.274 1224.99 Q97.2187 1220.38 97.2187 1211.66 Q97.2187 1202.91 100.274 1198.32 Q103.353 1193.72 109.163 1193.72 Z\" fill=\"#000000\" fill-rule=\"evenodd\" fill-opacity=\"1\" /><path clip-path=\"url(#clip560)\" d=\"M129.371 1194.34 L147.728 1194.34 L147.728 1198.28 L133.654 1198.28 L133.654 1206.75 Q134.672 1206.4 135.691 1206.24 Q136.709 1206.06 137.728 1206.06 Q143.515 1206.06 146.894 1209.23 Q150.274 1212.4 150.274 1217.81 Q150.274 1223.39 146.802 1226.5 Q143.33 1229.57 137.01 1229.57 Q134.834 1229.57 132.566 1229.2 Q130.32 1228.83 127.913 1228.09 L127.913 1223.39 Q129.996 1224.53 132.219 1225.08 Q134.441 1225.64 136.918 1225.64 Q140.922 1225.64 143.26 1223.53 Q145.598 1221.43 145.598 1217.81 Q145.598 1214.2 143.26 1212.1 Q140.922 1209.99 136.918 1209.99 Q135.043 1209.99 133.168 1210.41 Q131.316 1210.82 129.371 1211.7 L129.371 1194.34 Z\" fill=\"#000000\" fill-rule=\"evenodd\" fill-opacity=\"1\" /><path clip-path=\"url(#clip560)\" d=\"M62.9365 963.328 Q59.3254 963.328 57.4967 966.893 Q55.6912 970.435 55.6912 977.564 Q55.6912 984.671 57.4967 988.236 Q59.3254 991.777 62.9365 991.777 Q66.5707 991.777 68.3763 988.236 Q70.205 984.671 70.205 977.564 Q70.205 970.435 68.3763 966.893 Q66.5707 963.328 62.9365 963.328 M62.9365 959.625 Q68.7467 959.625 71.8022 964.231 Q74.8809 968.814 74.8809 977.564 Q74.8809 986.291 71.8022 990.898 Q68.7467 995.481 62.9365 995.481 Q57.1264 995.481 54.0477 990.898 Q50.9921 986.291 50.9921 977.564 Q50.9921 968.814 54.0477 964.231 Q57.1264 959.625 62.9365 959.625 Z\" fill=\"#000000\" fill-rule=\"evenodd\" fill-opacity=\"1\" /><path clip-path=\"url(#clip560)\" d=\"M83.0984 988.93 L87.9827 988.93 L87.9827 994.81 L83.0984 994.81 L83.0984 988.93 Z\" fill=\"#000000\" fill-rule=\"evenodd\" fill-opacity=\"1\" /><path clip-path=\"url(#clip560)\" d=\"M98.978 990.875 L106.617 990.875 L106.617 964.509 L98.3067 966.176 L98.3067 961.916 L106.571 960.25 L111.246 960.25 L111.246 990.875 L118.885 990.875 L118.885 994.81 L98.978 994.81 L98.978 990.875 Z\" fill=\"#000000\" fill-rule=\"evenodd\" fill-opacity=\"1\" /><path clip-path=\"url(#clip560)\" d=\"M138.33 963.328 Q134.719 963.328 132.89 966.893 Q131.084 970.435 131.084 977.564 Q131.084 984.671 132.89 988.236 Q134.719 991.777 138.33 991.777 Q141.964 991.777 143.769 988.236 Q145.598 984.671 145.598 977.564 Q145.598 970.435 143.769 966.893 Q141.964 963.328 138.33 963.328 M138.33 959.625 Q144.14 959.625 147.195 964.231 Q150.274 968.814 150.274 977.564 Q150.274 986.291 147.195 990.898 Q144.14 995.481 138.33 995.481 Q132.519 995.481 129.441 990.898 Q126.385 986.291 126.385 977.564 Q126.385 968.814 129.441 964.231 Q132.519 959.625 138.33 959.625 Z\" fill=\"#000000\" fill-rule=\"evenodd\" fill-opacity=\"1\" /><path clip-path=\"url(#clip560)\" d=\"M63.9319 729.235 Q60.3208 729.235 58.4921 732.8 Q56.6865 736.342 56.6865 743.471 Q56.6865 750.578 58.4921 754.143 Q60.3208 757.684 63.9319 757.684 Q67.5661 757.684 69.3717 754.143 Q71.2004 750.578 71.2004 743.471 Q71.2004 736.342 69.3717 732.8 Q67.5661 729.235 63.9319 729.235 M63.9319 725.532 Q69.742 725.532 72.7976 730.138 Q75.8763 734.721 75.8763 743.471 Q75.8763 752.198 72.7976 756.805 Q69.742 761.388 63.9319 761.388 Q58.1217 761.388 55.043 756.805 Q51.9875 752.198 51.9875 743.471 Q51.9875 734.721 55.043 730.138 Q58.1217 725.532 63.9319 725.532 Z\" fill=\"#000000\" fill-rule=\"evenodd\" fill-opacity=\"1\" /><path clip-path=\"url(#clip560)\" d=\"M84.0938 754.837 L88.978 754.837 L88.978 760.717 L84.0938 760.717 L84.0938 754.837 Z\" fill=\"#000000\" fill-rule=\"evenodd\" fill-opacity=\"1\" /><path clip-path=\"url(#clip560)\" d=\"M99.9733 756.782 L107.612 756.782 L107.612 730.416 L99.3021 732.083 L99.3021 727.823 L107.566 726.157 L112.242 726.157 L112.242 756.782 L119.881 756.782 L119.881 760.717 L99.9733 760.717 L99.9733 756.782 Z\" fill=\"#000000\" fill-rule=\"evenodd\" fill-opacity=\"1\" /><path clip-path=\"url(#clip560)\" d=\"M129.371 726.157 L147.728 726.157 L147.728 730.092 L133.654 730.092 L133.654 738.564 Q134.672 738.217 135.691 738.055 Q136.709 737.87 137.728 737.87 Q143.515 737.87 146.894 741.041 Q150.274 744.212 150.274 749.629 Q150.274 755.207 146.802 758.309 Q143.33 761.388 137.01 761.388 Q134.834 761.388 132.566 761.018 Q130.32 760.647 127.913 759.907 L127.913 755.207 Q129.996 756.342 132.219 756.897 Q134.441 757.453 136.918 757.453 Q140.922 757.453 143.26 755.346 Q145.598 753.24 145.598 749.629 Q145.598 746.018 143.26 743.911 Q140.922 741.805 136.918 741.805 Q135.043 741.805 133.168 742.221 Q131.316 742.638 129.371 743.518 L129.371 726.157 Z\" fill=\"#000000\" fill-rule=\"evenodd\" fill-opacity=\"1\" /><path clip-path=\"url(#clip560)\" d=\"M62.9365 495.142 Q59.3254 495.142 57.4967 498.707 Q55.6912 502.249 55.6912 509.378 Q55.6912 516.485 57.4967 520.05 Q59.3254 523.591 62.9365 523.591 Q66.5707 523.591 68.3763 520.05 Q70.205 516.485 70.205 509.378 Q70.205 502.249 68.3763 498.707 Q66.5707 495.142 62.9365 495.142 M62.9365 491.439 Q68.7467 491.439 71.8022 496.045 Q74.8809 500.628 74.8809 509.378 Q74.8809 518.105 71.8022 522.712 Q68.7467 527.295 62.9365 527.295 Q57.1264 527.295 54.0477 522.712 Q50.9921 518.105 50.9921 509.378 Q50.9921 500.628 54.0477 496.045 Q57.1264 491.439 62.9365 491.439 Z\" fill=\"#000000\" fill-rule=\"evenodd\" fill-opacity=\"1\" /><path clip-path=\"url(#clip560)\" d=\"M83.0984 520.744 L87.9827 520.744 L87.9827 526.624 L83.0984 526.624 L83.0984 520.744 Z\" fill=\"#000000\" fill-rule=\"evenodd\" fill-opacity=\"1\" /><path clip-path=\"url(#clip560)\" d=\"M102.196 522.689 L118.515 522.689 L118.515 526.624 L96.5706 526.624 L96.5706 522.689 Q99.2326 519.934 103.816 515.304 Q108.422 510.652 109.603 509.309 Q111.848 506.786 112.728 505.05 Q113.631 503.29 113.631 501.601 Q113.631 498.846 111.686 497.11 Q109.765 495.374 106.663 495.374 Q104.464 495.374 102.01 496.138 Q99.5798 496.902 96.8021 498.453 L96.8021 493.73 Q99.6261 492.596 102.08 492.017 Q104.534 491.439 106.571 491.439 Q111.941 491.439 115.135 494.124 Q118.33 496.809 118.33 501.3 Q118.33 503.429 117.52 505.351 Q116.733 507.249 114.626 509.841 Q114.047 510.513 110.946 513.73 Q107.844 516.925 102.196 522.689 Z\" fill=\"#000000\" fill-rule=\"evenodd\" fill-opacity=\"1\" /><path clip-path=\"url(#clip560)\" d=\"M138.33 495.142 Q134.719 495.142 132.89 498.707 Q131.084 502.249 131.084 509.378 Q131.084 516.485 132.89 520.05 Q134.719 523.591 138.33 523.591 Q141.964 523.591 143.769 520.05 Q145.598 516.485 145.598 509.378 Q145.598 502.249 143.769 498.707 Q141.964 495.142 138.33 495.142 M138.33 491.439 Q144.14 491.439 147.195 496.045 Q150.274 500.628 150.274 509.378 Q150.274 518.105 147.195 522.712 Q144.14 527.295 138.33 527.295 Q132.519 527.295 129.441 522.712 Q126.385 518.105 126.385 509.378 Q126.385 500.628 129.441 496.045 Q132.519 491.439 138.33 491.439 Z\" fill=\"#000000\" fill-rule=\"evenodd\" fill-opacity=\"1\" /><path clip-path=\"url(#clip560)\" d=\"M63.9319 261.049 Q60.3208 261.049 58.4921 264.614 Q56.6865 268.156 56.6865 275.285 Q56.6865 282.392 58.4921 285.957 Q60.3208 289.498 63.9319 289.498 Q67.5661 289.498 69.3717 285.957 Q71.2004 282.392 71.2004 275.285 Q71.2004 268.156 69.3717 264.614 Q67.5661 261.049 63.9319 261.049 M63.9319 257.346 Q69.742 257.346 72.7976 261.952 Q75.8763 266.535 75.8763 275.285 Q75.8763 284.012 72.7976 288.619 Q69.742 293.202 63.9319 293.202 Q58.1217 293.202 55.043 288.619 Q51.9875 284.012 51.9875 275.285 Q51.9875 266.535 55.043 261.952 Q58.1217 257.346 63.9319 257.346 Z\" fill=\"#000000\" fill-rule=\"evenodd\" fill-opacity=\"1\" /><path clip-path=\"url(#clip560)\" d=\"M84.0938 286.651 L88.978 286.651 L88.978 292.531 L84.0938 292.531 L84.0938 286.651 Z\" fill=\"#000000\" fill-rule=\"evenodd\" fill-opacity=\"1\" /><path clip-path=\"url(#clip560)\" d=\"M103.191 288.596 L119.51 288.596 L119.51 292.531 L97.566 292.531 L97.566 288.596 Q100.228 285.841 104.811 281.211 Q109.418 276.559 110.598 275.216 Q112.844 272.693 113.723 270.957 Q114.626 269.197 114.626 267.508 Q114.626 264.753 112.682 263.017 Q110.76 261.281 107.658 261.281 Q105.459 261.281 103.006 262.045 Q100.575 262.809 97.7974 264.36 L97.7974 259.637 Q100.621 258.503 103.075 257.924 Q105.529 257.346 107.566 257.346 Q112.936 257.346 116.131 260.031 Q119.325 262.716 119.325 267.207 Q119.325 269.336 118.515 271.258 Q117.728 273.156 115.621 275.748 Q115.043 276.42 111.941 279.637 Q108.839 282.832 103.191 288.596 Z\" fill=\"#000000\" fill-rule=\"evenodd\" fill-opacity=\"1\" /><path clip-path=\"url(#clip560)\" d=\"M129.371 257.971 L147.728 257.971 L147.728 261.906 L133.654 261.906 L133.654 270.378 Q134.672 270.031 135.691 269.869 Q136.709 269.684 137.728 269.684 Q143.515 269.684 146.894 272.855 Q150.274 276.026 150.274 281.443 Q150.274 287.021 146.802 290.123 Q143.33 293.202 137.01 293.202 Q134.834 293.202 132.566 292.832 Q130.32 292.461 127.913 291.72 L127.913 287.021 Q129.996 288.156 132.219 288.711 Q134.441 289.267 136.918 289.267 Q140.922 289.267 143.26 287.16 Q145.598 285.054 145.598 281.443 Q145.598 277.832 143.26 275.725 Q140.922 273.619 136.918 273.619 Q135.043 273.619 133.168 274.035 Q131.316 274.452 129.371 275.332 L129.371 257.971 Z\" fill=\"#000000\" fill-rule=\"evenodd\" fill-opacity=\"1\" /><path clip-path=\"url(#clip562)\" d=\"\n",
       "M305.434 1436.35 L305.434 1445.72 L397.252 1445.72 L397.252 1436.35 L305.434 1436.35 L305.434 1436.35  Z\n",
       "  \" fill=\"#009af9\" fill-rule=\"evenodd\" fill-opacity=\"1\"/>\n",
       "<polyline clip-path=\"url(#clip562)\" style=\"stroke:#000000; stroke-linecap:butt; stroke-linejoin:round; stroke-width:4; stroke-opacity:1; fill:none\" points=\"\n",
       "  305.434,1436.35 305.434,1445.72 397.252,1445.72 397.252,1436.35 305.434,1436.35 \n",
       "  \"/>\n",
       "<path clip-path=\"url(#clip562)\" d=\"\n",
       "M397.252 1445.72 L397.252 1445.72 L489.069 1445.72 L489.069 1445.72 L397.252 1445.72 L397.252 1445.72  Z\n",
       "  \" fill=\"#009af9\" fill-rule=\"evenodd\" fill-opacity=\"1\"/>\n",
       "<polyline clip-path=\"url(#clip562)\" style=\"stroke:#000000; stroke-linecap:butt; stroke-linejoin:round; stroke-width:4; stroke-opacity:1; fill:none\" points=\"\n",
       "  397.252,1445.72 397.252,1445.72 489.069,1445.72 397.252,1445.72 \n",
       "  \"/>\n",
       "<path clip-path=\"url(#clip562)\" d=\"\n",
       "M489.069 1436.35 L489.069 1445.72 L580.886 1445.72 L580.886 1436.35 L489.069 1436.35 L489.069 1436.35  Z\n",
       "  \" fill=\"#009af9\" fill-rule=\"evenodd\" fill-opacity=\"1\"/>\n",
       "<polyline clip-path=\"url(#clip562)\" style=\"stroke:#000000; stroke-linecap:butt; stroke-linejoin:round; stroke-width:4; stroke-opacity:1; fill:none\" points=\"\n",
       "  489.069,1436.35 489.069,1445.72 580.886,1445.72 580.886,1436.35 489.069,1436.35 \n",
       "  \"/>\n",
       "<path clip-path=\"url(#clip562)\" d=\"\n",
       "M580.886 1370.81 L580.886 1445.72 L672.703 1445.72 L672.703 1370.81 L580.886 1370.81 L580.886 1370.81  Z\n",
       "  \" fill=\"#009af9\" fill-rule=\"evenodd\" fill-opacity=\"1\"/>\n",
       "<polyline clip-path=\"url(#clip562)\" style=\"stroke:#000000; stroke-linecap:butt; stroke-linejoin:round; stroke-width:4; stroke-opacity:1; fill:none\" points=\"\n",
       "  580.886,1370.81 580.886,1445.72 672.703,1445.72 672.703,1370.81 580.886,1370.81 \n",
       "  \"/>\n",
       "<path clip-path=\"url(#clip562)\" d=\"\n",
       "M672.703 1286.53 L672.703 1445.72 L764.52 1445.72 L764.52 1286.53 L672.703 1286.53 L672.703 1286.53  Z\n",
       "  \" fill=\"#009af9\" fill-rule=\"evenodd\" fill-opacity=\"1\"/>\n",
       "<polyline clip-path=\"url(#clip562)\" style=\"stroke:#000000; stroke-linecap:butt; stroke-linejoin:round; stroke-width:4; stroke-opacity:1; fill:none\" points=\"\n",
       "  672.703,1286.53 672.703,1445.72 764.52,1445.72 764.52,1286.53 672.703,1286.53 \n",
       "  \"/>\n",
       "<path clip-path=\"url(#clip562)\" d=\"\n",
       "M764.52 1230.35 L764.52 1445.72 L856.338 1445.72 L856.338 1230.35 L764.52 1230.35 L764.52 1230.35  Z\n",
       "  \" fill=\"#009af9\" fill-rule=\"evenodd\" fill-opacity=\"1\"/>\n",
       "<polyline clip-path=\"url(#clip562)\" style=\"stroke:#000000; stroke-linecap:butt; stroke-linejoin:round; stroke-width:4; stroke-opacity:1; fill:none\" points=\"\n",
       "  764.52,1230.35 764.52,1445.72 856.338,1445.72 856.338,1230.35 764.52,1230.35 \n",
       "  \"/>\n",
       "<path clip-path=\"url(#clip562)\" d=\"\n",
       "M856.338 1108.62 L856.338 1445.72 L948.155 1445.72 L948.155 1108.62 L856.338 1108.62 L856.338 1108.62  Z\n",
       "  \" fill=\"#009af9\" fill-rule=\"evenodd\" fill-opacity=\"1\"/>\n",
       "<polyline clip-path=\"url(#clip562)\" style=\"stroke:#000000; stroke-linecap:butt; stroke-linejoin:round; stroke-width:4; stroke-opacity:1; fill:none\" points=\"\n",
       "  856.338,1108.62 856.338,1445.72 948.155,1445.72 948.155,1108.62 856.338,1108.62 \n",
       "  \"/>\n",
       "<path clip-path=\"url(#clip562)\" d=\"\n",
       "M948.155 762.164 L948.155 1445.72 L1039.97 1445.72 L1039.97 762.164 L948.155 762.164 L948.155 762.164  Z\n",
       "  \" fill=\"#009af9\" fill-rule=\"evenodd\" fill-opacity=\"1\"/>\n",
       "<polyline clip-path=\"url(#clip562)\" style=\"stroke:#000000; stroke-linecap:butt; stroke-linejoin:round; stroke-width:4; stroke-opacity:1; fill:none\" points=\"\n",
       "  948.155,762.164 948.155,1445.72 1039.97,1445.72 1039.97,762.164 948.155,762.164 \n",
       "  \"/>\n",
       "<path clip-path=\"url(#clip562)\" d=\"\n",
       "M1039.97 396.979 L1039.97 1445.72 L1131.79 1445.72 L1131.79 396.979 L1039.97 396.979 L1039.97 396.979  Z\n",
       "  \" fill=\"#009af9\" fill-rule=\"evenodd\" fill-opacity=\"1\"/>\n",
       "<polyline clip-path=\"url(#clip562)\" style=\"stroke:#000000; stroke-linecap:butt; stroke-linejoin:round; stroke-width:4; stroke-opacity:1; fill:none\" points=\"\n",
       "  1039.97,396.979 1039.97,1445.72 1131.79,1445.72 1131.79,396.979 1039.97,396.979 \n",
       "  \"/>\n",
       "<path clip-path=\"url(#clip562)\" d=\"\n",
       "M1131.79 340.797 L1131.79 1445.72 L1223.61 1445.72 L1223.61 340.797 L1131.79 340.797 L1131.79 340.797  Z\n",
       "  \" fill=\"#009af9\" fill-rule=\"evenodd\" fill-opacity=\"1\"/>\n",
       "<polyline clip-path=\"url(#clip562)\" style=\"stroke:#000000; stroke-linecap:butt; stroke-linejoin:round; stroke-width:4; stroke-opacity:1; fill:none\" points=\"\n",
       "  1131.79,340.797 1131.79,1445.72 1223.61,1445.72 1223.61,340.797 1131.79,340.797 \n",
       "  \"/>\n",
       "<path clip-path=\"url(#clip562)\" d=\"\n",
       "M1223.61 228.432 L1223.61 1445.72 L1315.42 1445.72 L1315.42 228.432 L1223.61 228.432 L1223.61 228.432  Z\n",
       "  \" fill=\"#009af9\" fill-rule=\"evenodd\" fill-opacity=\"1\"/>\n",
       "<polyline clip-path=\"url(#clip562)\" style=\"stroke:#000000; stroke-linecap:butt; stroke-linejoin:round; stroke-width:4; stroke-opacity:1; fill:none\" points=\"\n",
       "  1223.61,228.432 1223.61,1445.72 1315.42,1445.72 1315.42,228.432 1223.61,228.432 \n",
       "  \"/>\n",
       "<path clip-path=\"url(#clip562)\" d=\"\n",
       "M1315.42 87.9763 L1315.42 1445.72 L1407.24 1445.72 L1407.24 87.9763 L1315.42 87.9763 L1315.42 87.9763  Z\n",
       "  \" fill=\"#009af9\" fill-rule=\"evenodd\" fill-opacity=\"1\"/>\n",
       "<polyline clip-path=\"url(#clip562)\" style=\"stroke:#000000; stroke-linecap:butt; stroke-linejoin:round; stroke-width:4; stroke-opacity:1; fill:none\" points=\"\n",
       "  1315.42,87.9763 1315.42,1445.72 1407.24,1445.72 1407.24,87.9763 1315.42,87.9763 \n",
       "  \"/>\n",
       "<path clip-path=\"url(#clip562)\" d=\"\n",
       "M1407.24 340.797 L1407.24 1445.72 L1499.06 1445.72 L1499.06 340.797 L1407.24 340.797 L1407.24 340.797  Z\n",
       "  \" fill=\"#009af9\" fill-rule=\"evenodd\" fill-opacity=\"1\"/>\n",
       "<polyline clip-path=\"url(#clip562)\" style=\"stroke:#000000; stroke-linecap:butt; stroke-linejoin:round; stroke-width:4; stroke-opacity:1; fill:none\" points=\"\n",
       "  1407.24,340.797 1407.24,1445.72 1499.06,1445.72 1499.06,340.797 1407.24,340.797 \n",
       "  \"/>\n",
       "<path clip-path=\"url(#clip562)\" d=\"\n",
       "M1499.06 640.436 L1499.06 1445.72 L1590.88 1445.72 L1590.88 640.436 L1499.06 640.436 L1499.06 640.436  Z\n",
       "  \" fill=\"#009af9\" fill-rule=\"evenodd\" fill-opacity=\"1\"/>\n",
       "<polyline clip-path=\"url(#clip562)\" style=\"stroke:#000000; stroke-linecap:butt; stroke-linejoin:round; stroke-width:4; stroke-opacity:1; fill:none\" points=\"\n",
       "  1499.06,640.436 1499.06,1445.72 1590.88,1445.72 1590.88,640.436 1499.06,640.436 \n",
       "  \"/>\n",
       "<path clip-path=\"url(#clip562)\" d=\"\n",
       "M1590.88 949.439 L1590.88 1445.72 L1682.69 1445.72 L1682.69 949.439 L1590.88 949.439 L1590.88 949.439  Z\n",
       "  \" fill=\"#009af9\" fill-rule=\"evenodd\" fill-opacity=\"1\"/>\n",
       "<polyline clip-path=\"url(#clip562)\" style=\"stroke:#000000; stroke-linecap:butt; stroke-linejoin:round; stroke-width:4; stroke-opacity:1; fill:none\" points=\"\n",
       "  1590.88,949.439 1590.88,1445.72 1682.69,1445.72 1682.69,949.439 1590.88,949.439 \n",
       "  \"/>\n",
       "<path clip-path=\"url(#clip562)\" d=\"\n",
       "M1682.69 1080.53 L1682.69 1445.72 L1774.51 1445.72 L1774.51 1080.53 L1682.69 1080.53 L1682.69 1080.53  Z\n",
       "  \" fill=\"#009af9\" fill-rule=\"evenodd\" fill-opacity=\"1\"/>\n",
       "<polyline clip-path=\"url(#clip562)\" style=\"stroke:#000000; stroke-linecap:butt; stroke-linejoin:round; stroke-width:4; stroke-opacity:1; fill:none\" points=\"\n",
       "  1682.69,1080.53 1682.69,1445.72 1774.51,1445.72 1774.51,1080.53 1682.69,1080.53 \n",
       "  \"/>\n",
       "<path clip-path=\"url(#clip562)\" d=\"\n",
       "M1774.51 1220.99 L1774.51 1445.72 L1866.33 1445.72 L1866.33 1220.99 L1774.51 1220.99 L1774.51 1220.99  Z\n",
       "  \" fill=\"#009af9\" fill-rule=\"evenodd\" fill-opacity=\"1\"/>\n",
       "<polyline clip-path=\"url(#clip562)\" style=\"stroke:#000000; stroke-linecap:butt; stroke-linejoin:round; stroke-width:4; stroke-opacity:1; fill:none\" points=\"\n",
       "  1774.51,1220.99 1774.51,1445.72 1866.33,1445.72 1866.33,1220.99 1774.51,1220.99 \n",
       "  \"/>\n",
       "<path clip-path=\"url(#clip562)\" d=\"\n",
       "M1866.33 1323.99 L1866.33 1445.72 L1958.14 1445.72 L1958.14 1323.99 L1866.33 1323.99 L1866.33 1323.99  Z\n",
       "  \" fill=\"#009af9\" fill-rule=\"evenodd\" fill-opacity=\"1\"/>\n",
       "<polyline clip-path=\"url(#clip562)\" style=\"stroke:#000000; stroke-linecap:butt; stroke-linejoin:round; stroke-width:4; stroke-opacity:1; fill:none\" points=\"\n",
       "  1866.33,1323.99 1866.33,1445.72 1958.14,1445.72 1958.14,1323.99 1866.33,1323.99 \n",
       "  \"/>\n",
       "<path clip-path=\"url(#clip562)\" d=\"\n",
       "M1958.14 1436.35 L1958.14 1445.72 L2049.96 1445.72 L2049.96 1436.35 L1958.14 1436.35 L1958.14 1436.35  Z\n",
       "  \" fill=\"#009af9\" fill-rule=\"evenodd\" fill-opacity=\"1\"/>\n",
       "<polyline clip-path=\"url(#clip562)\" style=\"stroke:#000000; stroke-linecap:butt; stroke-linejoin:round; stroke-width:4; stroke-opacity:1; fill:none\" points=\"\n",
       "  1958.14,1436.35 1958.14,1445.72 2049.96,1445.72 2049.96,1436.35 1958.14,1436.35 \n",
       "  \"/>\n",
       "<path clip-path=\"url(#clip562)\" d=\"\n",
       "M2049.96 1436.35 L2049.96 1445.72 L2141.78 1445.72 L2141.78 1436.35 L2049.96 1436.35 L2049.96 1436.35  Z\n",
       "  \" fill=\"#009af9\" fill-rule=\"evenodd\" fill-opacity=\"1\"/>\n",
       "<polyline clip-path=\"url(#clip562)\" style=\"stroke:#000000; stroke-linecap:butt; stroke-linejoin:round; stroke-width:4; stroke-opacity:1; fill:none\" points=\"\n",
       "  2049.96,1436.35 2049.96,1445.72 2141.78,1445.72 2141.78,1436.35 2049.96,1436.35 \n",
       "  \"/>\n",
       "<path clip-path=\"url(#clip562)\" d=\"\n",
       "M2141.78 1436.35 L2141.78 1445.72 L2233.6 1445.72 L2233.6 1436.35 L2141.78 1436.35 L2141.78 1436.35  Z\n",
       "  \" fill=\"#009af9\" fill-rule=\"evenodd\" fill-opacity=\"1\"/>\n",
       "<polyline clip-path=\"url(#clip562)\" style=\"stroke:#000000; stroke-linecap:butt; stroke-linejoin:round; stroke-width:4; stroke-opacity:1; fill:none\" points=\"\n",
       "  2141.78,1436.35 2141.78,1445.72 2233.6,1445.72 2233.6,1436.35 2141.78,1436.35 \n",
       "  \"/>\n",
       "<circle clip-path=\"url(#clip562)\" style=\"fill:#009af9; stroke:none; fill-opacity:0\" cx=\"351.343\" cy=\"1436.35\" r=\"2\"/>\n",
       "<circle clip-path=\"url(#clip562)\" style=\"fill:#009af9; stroke:none; fill-opacity:0\" cx=\"443.16\" cy=\"1445.72\" r=\"2\"/>\n",
       "<circle clip-path=\"url(#clip562)\" style=\"fill:#009af9; stroke:none; fill-opacity:0\" cx=\"534.977\" cy=\"1436.35\" r=\"2\"/>\n",
       "<circle clip-path=\"url(#clip562)\" style=\"fill:#009af9; stroke:none; fill-opacity:0\" cx=\"626.795\" cy=\"1370.81\" r=\"2\"/>\n",
       "<circle clip-path=\"url(#clip562)\" style=\"fill:#009af9; stroke:none; fill-opacity:0\" cx=\"718.612\" cy=\"1286.53\" r=\"2\"/>\n",
       "<circle clip-path=\"url(#clip562)\" style=\"fill:#009af9; stroke:none; fill-opacity:0\" cx=\"810.429\" cy=\"1230.35\" r=\"2\"/>\n",
       "<circle clip-path=\"url(#clip562)\" style=\"fill:#009af9; stroke:none; fill-opacity:0\" cx=\"902.246\" cy=\"1108.62\" r=\"2\"/>\n",
       "<circle clip-path=\"url(#clip562)\" style=\"fill:#009af9; stroke:none; fill-opacity:0\" cx=\"994.063\" cy=\"762.164\" r=\"2\"/>\n",
       "<circle clip-path=\"url(#clip562)\" style=\"fill:#009af9; stroke:none; fill-opacity:0\" cx=\"1085.88\" cy=\"396.979\" r=\"2\"/>\n",
       "<circle clip-path=\"url(#clip562)\" style=\"fill:#009af9; stroke:none; fill-opacity:0\" cx=\"1177.7\" cy=\"340.797\" r=\"2\"/>\n",
       "<circle clip-path=\"url(#clip562)\" style=\"fill:#009af9; stroke:none; fill-opacity:0\" cx=\"1269.51\" cy=\"228.432\" r=\"2\"/>\n",
       "<circle clip-path=\"url(#clip562)\" style=\"fill:#009af9; stroke:none; fill-opacity:0\" cx=\"1361.33\" cy=\"87.9763\" r=\"2\"/>\n",
       "<circle clip-path=\"url(#clip562)\" style=\"fill:#009af9; stroke:none; fill-opacity:0\" cx=\"1453.15\" cy=\"340.797\" r=\"2\"/>\n",
       "<circle clip-path=\"url(#clip562)\" style=\"fill:#009af9; stroke:none; fill-opacity:0\" cx=\"1544.97\" cy=\"640.436\" r=\"2\"/>\n",
       "<circle clip-path=\"url(#clip562)\" style=\"fill:#009af9; stroke:none; fill-opacity:0\" cx=\"1636.78\" cy=\"949.439\" r=\"2\"/>\n",
       "<circle clip-path=\"url(#clip562)\" style=\"fill:#009af9; stroke:none; fill-opacity:0\" cx=\"1728.6\" cy=\"1080.53\" r=\"2\"/>\n",
       "<circle clip-path=\"url(#clip562)\" style=\"fill:#009af9; stroke:none; fill-opacity:0\" cx=\"1820.42\" cy=\"1220.99\" r=\"2\"/>\n",
       "<circle clip-path=\"url(#clip562)\" style=\"fill:#009af9; stroke:none; fill-opacity:0\" cx=\"1912.24\" cy=\"1323.99\" r=\"2\"/>\n",
       "<circle clip-path=\"url(#clip562)\" style=\"fill:#009af9; stroke:none; fill-opacity:0\" cx=\"2004.05\" cy=\"1436.35\" r=\"2\"/>\n",
       "<circle clip-path=\"url(#clip562)\" style=\"fill:#009af9; stroke:none; fill-opacity:0\" cx=\"2095.87\" cy=\"1436.35\" r=\"2\"/>\n",
       "<circle clip-path=\"url(#clip562)\" style=\"fill:#009af9; stroke:none; fill-opacity:0\" cx=\"2187.69\" cy=\"1436.35\" r=\"2\"/>\n",
       "<polyline clip-path=\"url(#clip562)\" style=\"stroke:#e26f46; stroke-linecap:butt; stroke-linejoin:round; stroke-width:4; stroke-opacity:1; fill:none\" points=\"\n",
       "  397.252,1443.17 415.615,1442.45 433.978,1441.55 452.342,1440.44 470.705,1439.06 489.069,1437.36 507.432,1435.27 525.796,1432.74 544.159,1429.66 562.523,1425.96 \n",
       "  580.886,1421.53 599.249,1416.24 617.613,1409.99 635.976,1402.62 654.34,1393.99 672.703,1383.94 691.067,1372.31 709.43,1358.93 727.793,1343.62 746.157,1326.2 \n",
       "  764.52,1306.51 782.884,1284.39 801.247,1259.68 819.611,1232.26 837.974,1202.02 856.338,1168.88 874.701,1132.8 893.064,1093.78 911.428,1051.88 929.791,1007.18 \n",
       "  948.155,959.847 966.518,910.088 984.882,858.179 1003.25,804.453 1021.61,749.306 1039.97,693.187 1058.34,636.603 1076.7,580.102 1095.06,524.275 1113.43,469.739 \n",
       "  1131.79,417.131 1150.15,367.095 1168.52,320.265 1186.88,277.26 1205.24,238.661 1223.61,205.006 1241.97,176.774 1260.33,154.372 1278.7,138.129 1297.06,128.285 \n",
       "  1315.42,124.987 1333.79,128.285 1352.15,138.129 1370.51,154.372 1388.88,176.774 1407.24,205.006 1425.6,238.661 1443.97,277.26 1462.33,320.265 1480.69,367.095 \n",
       "  1499.06,417.131 1517.42,469.739 1535.78,524.275 1554.15,580.102 1572.51,636.603 1590.88,693.187 1609.24,749.306 1627.6,804.453 1645.97,858.179 1664.33,910.088 \n",
       "  1682.69,959.847 1701.06,1007.18 1719.42,1051.88 1737.78,1093.78 1756.15,1132.8 1774.51,1168.88 1792.87,1202.02 1811.24,1232.26 1829.6,1259.68 1847.96,1284.39 \n",
       "  1866.33,1306.51 1884.69,1326.2 1903.05,1343.62 1921.42,1358.93 1939.78,1372.31 1958.14,1383.94 1976.51,1393.99 1994.87,1402.62 2013.23,1409.99 2031.6,1416.24 \n",
       "  2049.96,1421.53 2068.32,1425.96 2086.69,1429.66 2105.05,1432.74 2123.41,1435.27 2141.78,1437.36 2160.14,1439.06 2178.51,1440.44 2196.87,1441.55 2215.23,1442.45 \n",
       "  2233.6,1443.17 \n",
       "  \"/>\n",
       "<path clip-path=\"url(#clip560)\" d=\"\n",
       "M1987.39 250.738 L2280.54 250.738 L2280.54 95.2176 L1987.39 95.2176  Z\n",
       "  \" fill=\"#ffffff\" fill-rule=\"evenodd\" fill-opacity=\"1\"/>\n",
       "<polyline clip-path=\"url(#clip560)\" style=\"stroke:#000000; stroke-linecap:butt; stroke-linejoin:round; stroke-width:4; stroke-opacity:1; fill:none\" points=\"\n",
       "  1987.39,250.738 2280.54,250.738 2280.54,95.2176 1987.39,95.2176 1987.39,250.738 \n",
       "  \"/>\n",
       "<path clip-path=\"url(#clip560)\" d=\"\n",
       "M2011.46 167.794 L2155.89 167.794 L2155.89 126.322 L2011.46 126.322 L2011.46 167.794  Z\n",
       "  \" fill=\"#009af9\" fill-rule=\"evenodd\" fill-opacity=\"1\"/>\n",
       "<polyline clip-path=\"url(#clip560)\" style=\"stroke:#000000; stroke-linecap:butt; stroke-linejoin:round; stroke-width:4; stroke-opacity:1; fill:none\" points=\"\n",
       "  2011.46,167.794 2155.89,167.794 2155.89,126.322 2011.46,126.322 2011.46,167.794 \n",
       "  \"/>\n",
       "<path clip-path=\"url(#clip560)\" d=\"M2193.81 166.745 Q2192 171.375 2190.29 172.787 Q2188.58 174.199 2185.71 174.199 L2182.3 174.199 L2182.3 170.634 L2184.8 170.634 Q2186.56 170.634 2187.53 169.8 Q2188.51 168.967 2189.69 165.865 L2190.45 163.921 L2179.97 138.412 L2184.48 138.412 L2192.58 158.689 L2200.68 138.412 L2205.2 138.412 L2193.81 166.745 Z\" fill=\"#000000\" fill-rule=\"evenodd\" fill-opacity=\"1\" /><path clip-path=\"url(#clip560)\" d=\"M2212.49 160.402 L2220.13 160.402 L2220.13 134.037 L2211.82 135.703 L2211.82 131.444 L2220.08 129.778 L2224.76 129.778 L2224.76 160.402 L2232.4 160.402 L2232.4 164.338 L2212.49 164.338 L2212.49 160.402 Z\" fill=\"#000000\" fill-rule=\"evenodd\" fill-opacity=\"1\" /><polyline clip-path=\"url(#clip560)\" style=\"stroke:#e26f46; stroke-linecap:butt; stroke-linejoin:round; stroke-width:4; stroke-opacity:1; fill:none\" points=\"\n",
       "  2011.46,198.898 2155.89,198.898 \n",
       "  \"/>\n",
       "<path clip-path=\"url(#clip560)\" d=\"M2193.81 218.585 Q2192 223.215 2190.29 224.627 Q2188.58 226.039 2185.71 226.039 L2182.3 226.039 L2182.3 222.474 L2184.8 222.474 Q2186.56 222.474 2187.53 221.64 Q2188.51 220.807 2189.69 217.705 L2190.45 215.761 L2179.97 190.252 L2184.48 190.252 L2192.58 210.529 L2200.68 190.252 L2205.2 190.252 L2193.81 218.585 Z\" fill=\"#000000\" fill-rule=\"evenodd\" fill-opacity=\"1\" /><path clip-path=\"url(#clip560)\" d=\"M2215.71 212.242 L2232.03 212.242 L2232.03 216.178 L2210.08 216.178 L2210.08 212.242 Q2212.74 209.488 2217.33 204.858 Q2221.93 200.205 2223.11 198.863 Q2225.36 196.34 2226.24 194.604 Q2227.14 192.844 2227.14 191.155 Q2227.14 188.4 2225.2 186.664 Q2223.28 184.928 2220.17 184.928 Q2217.97 184.928 2215.52 185.692 Q2213.09 186.455 2210.31 188.006 L2210.31 183.284 Q2213.14 182.15 2215.59 181.571 Q2218.04 180.993 2220.08 180.993 Q2225.45 180.993 2228.65 183.678 Q2231.84 186.363 2231.84 190.854 Q2231.84 192.983 2231.03 194.905 Q2230.24 196.803 2228.14 199.395 Q2227.56 200.067 2224.46 203.284 Q2221.35 206.479 2215.71 212.242 Z\" fill=\"#000000\" fill-rule=\"evenodd\" fill-opacity=\"1\" /></svg>\n"
      ],
      "image/svg+xml": [
       "<?xml version=\"1.0\" encoding=\"utf-8\"?>\n",
       "<svg xmlns=\"http://www.w3.org/2000/svg\" xmlns:xlink=\"http://www.w3.org/1999/xlink\" width=\"600\" height=\"400\" viewBox=\"0 0 2400 1600\">\n",
       "<defs>\n",
       "  <clipPath id=\"clip530\">\n",
       "    <rect x=\"0\" y=\"0\" width=\"2400\" height=\"1600\"/>\n",
       "  </clipPath>\n",
       "</defs>\n",
       "<path clip-path=\"url(#clip530)\" d=\"\n",
       "M0 1600 L2400 1600 L2400 0 L0 0  Z\n",
       "  \" fill=\"#ffffff\" fill-rule=\"evenodd\" fill-opacity=\"1\"/>\n",
       "<defs>\n",
       "  <clipPath id=\"clip531\">\n",
       "    <rect x=\"480\" y=\"0\" width=\"1681\" height=\"1600\"/>\n",
       "  </clipPath>\n",
       "</defs>\n",
       "<path clip-path=\"url(#clip530)\" d=\"\n",
       "M186.274 1486.45 L2352.76 1486.45 L2352.76 47.2441 L186.274 47.2441  Z\n",
       "  \" fill=\"#ffffff\" fill-rule=\"evenodd\" fill-opacity=\"1\"/>\n",
       "<defs>\n",
       "  <clipPath id=\"clip532\">\n",
       "    <rect x=\"186\" y=\"47\" width=\"2167\" height=\"1440\"/>\n",
       "  </clipPath>\n",
       "</defs>\n",
       "<polyline clip-path=\"url(#clip532)\" style=\"stroke:#000000; stroke-linecap:butt; stroke-linejoin:round; stroke-width:2; stroke-opacity:0.1; fill:none\" points=\"\n",
       "  397.252,1486.45 397.252,47.2441 \n",
       "  \"/>\n",
       "<polyline clip-path=\"url(#clip532)\" style=\"stroke:#000000; stroke-linecap:butt; stroke-linejoin:round; stroke-width:2; stroke-opacity:0.1; fill:none\" points=\"\n",
       "  856.338,1486.45 856.338,47.2441 \n",
       "  \"/>\n",
       "<polyline clip-path=\"url(#clip532)\" style=\"stroke:#000000; stroke-linecap:butt; stroke-linejoin:round; stroke-width:2; stroke-opacity:0.1; fill:none\" points=\"\n",
       "  1315.42,1486.45 1315.42,47.2441 \n",
       "  \"/>\n",
       "<polyline clip-path=\"url(#clip532)\" style=\"stroke:#000000; stroke-linecap:butt; stroke-linejoin:round; stroke-width:2; stroke-opacity:0.1; fill:none\" points=\"\n",
       "  1774.51,1486.45 1774.51,47.2441 \n",
       "  \"/>\n",
       "<polyline clip-path=\"url(#clip532)\" style=\"stroke:#000000; stroke-linecap:butt; stroke-linejoin:round; stroke-width:2; stroke-opacity:0.1; fill:none\" points=\"\n",
       "  2233.6,1486.45 2233.6,47.2441 \n",
       "  \"/>\n",
       "<polyline clip-path=\"url(#clip530)\" style=\"stroke:#000000; stroke-linecap:butt; stroke-linejoin:round; stroke-width:4; stroke-opacity:1; fill:none\" points=\"\n",
       "  186.274,1486.45 2352.76,1486.45 \n",
       "  \"/>\n",
       "<polyline clip-path=\"url(#clip530)\" style=\"stroke:#000000; stroke-linecap:butt; stroke-linejoin:round; stroke-width:4; stroke-opacity:1; fill:none\" points=\"\n",
       "  397.252,1486.45 397.252,1467.55 \n",
       "  \"/>\n",
       "<polyline clip-path=\"url(#clip530)\" style=\"stroke:#000000; stroke-linecap:butt; stroke-linejoin:round; stroke-width:4; stroke-opacity:1; fill:none\" points=\"\n",
       "  856.338,1486.45 856.338,1467.55 \n",
       "  \"/>\n",
       "<polyline clip-path=\"url(#clip530)\" style=\"stroke:#000000; stroke-linecap:butt; stroke-linejoin:round; stroke-width:4; stroke-opacity:1; fill:none\" points=\"\n",
       "  1315.42,1486.45 1315.42,1467.55 \n",
       "  \"/>\n",
       "<polyline clip-path=\"url(#clip530)\" style=\"stroke:#000000; stroke-linecap:butt; stroke-linejoin:round; stroke-width:4; stroke-opacity:1; fill:none\" points=\"\n",
       "  1774.51,1486.45 1774.51,1467.55 \n",
       "  \"/>\n",
       "<polyline clip-path=\"url(#clip530)\" style=\"stroke:#000000; stroke-linecap:butt; stroke-linejoin:round; stroke-width:4; stroke-opacity:1; fill:none\" points=\"\n",
       "  2233.6,1486.45 2233.6,1467.55 \n",
       "  \"/>\n",
       "<path clip-path=\"url(#clip530)\" d=\"M343.78 1532.02 L373.455 1532.02 L373.455 1535.95 L343.78 1535.95 L343.78 1532.02 Z\" fill=\"#000000\" fill-rule=\"evenodd\" fill-opacity=\"1\" /><path clip-path=\"url(#clip530)\" d=\"M383.594 1514.29 L401.951 1514.29 L401.951 1518.22 L387.877 1518.22 L387.877 1526.7 Q388.895 1526.35 389.914 1526.19 Q390.932 1526 391.951 1526 Q397.738 1526 401.117 1529.17 Q404.497 1532.34 404.497 1537.76 Q404.497 1543.34 401.025 1546.44 Q397.552 1549.52 391.233 1549.52 Q389.057 1549.52 386.789 1549.15 Q384.543 1548.78 382.136 1548.04 L382.136 1543.34 Q384.219 1544.47 386.441 1545.03 Q388.664 1545.58 391.14 1545.58 Q395.145 1545.58 397.483 1543.48 Q399.821 1541.37 399.821 1537.76 Q399.821 1534.15 397.483 1532.04 Q395.145 1529.94 391.14 1529.94 Q389.265 1529.94 387.391 1530.35 Q385.539 1530.77 383.594 1531.65 L383.594 1514.29 Z\" fill=\"#000000\" fill-rule=\"evenodd\" fill-opacity=\"1\" /><path clip-path=\"url(#clip530)\" d=\"M413.71 1542.97 L418.594 1542.97 L418.594 1548.85 L413.71 1548.85 L413.71 1542.97 Z\" fill=\"#000000\" fill-rule=\"evenodd\" fill-opacity=\"1\" /><path clip-path=\"url(#clip530)\" d=\"M438.779 1517.37 Q435.168 1517.37 433.339 1520.93 Q431.534 1524.47 431.534 1531.6 Q431.534 1538.71 433.339 1542.27 Q435.168 1545.82 438.779 1545.82 Q442.413 1545.82 444.219 1542.27 Q446.048 1538.71 446.048 1531.6 Q446.048 1524.47 444.219 1520.93 Q442.413 1517.37 438.779 1517.37 M438.779 1513.66 Q444.589 1513.66 447.645 1518.27 Q450.723 1522.85 450.723 1531.6 Q450.723 1540.33 447.645 1544.94 Q444.589 1549.52 438.779 1549.52 Q432.969 1549.52 429.89 1544.94 Q426.835 1540.33 426.835 1531.6 Q426.835 1522.85 429.89 1518.27 Q432.969 1513.66 438.779 1513.66 Z\" fill=\"#000000\" fill-rule=\"evenodd\" fill-opacity=\"1\" /><path clip-path=\"url(#clip530)\" d=\"M803.363 1532.02 L833.039 1532.02 L833.039 1535.95 L803.363 1535.95 L803.363 1532.02 Z\" fill=\"#000000\" fill-rule=\"evenodd\" fill-opacity=\"1\" /><path clip-path=\"url(#clip530)\" d=\"M847.159 1544.91 L863.479 1544.91 L863.479 1548.85 L841.534 1548.85 L841.534 1544.91 Q844.196 1542.16 848.78 1537.53 Q853.386 1532.88 854.567 1531.53 Q856.812 1529.01 857.692 1527.27 Q858.594 1525.51 858.594 1523.82 Q858.594 1521.07 856.65 1519.33 Q854.729 1517.6 851.627 1517.6 Q849.428 1517.6 846.974 1518.36 Q844.544 1519.13 841.766 1520.68 L841.766 1515.95 Q844.59 1514.82 847.044 1514.24 Q849.497 1513.66 851.534 1513.66 Q856.905 1513.66 860.099 1516.35 Q863.294 1519.03 863.294 1523.52 Q863.294 1525.65 862.483 1527.57 Q861.696 1529.47 859.59 1532.07 Q859.011 1532.74 855.909 1535.95 Q852.807 1539.15 847.159 1544.91 Z\" fill=\"#000000\" fill-rule=\"evenodd\" fill-opacity=\"1\" /><path clip-path=\"url(#clip530)\" d=\"M873.293 1542.97 L878.178 1542.97 L878.178 1548.85 L873.293 1548.85 L873.293 1542.97 Z\" fill=\"#000000\" fill-rule=\"evenodd\" fill-opacity=\"1\" /><path clip-path=\"url(#clip530)\" d=\"M888.409 1514.29 L906.766 1514.29 L906.766 1518.22 L892.692 1518.22 L892.692 1526.7 Q893.71 1526.35 894.729 1526.19 Q895.747 1526 896.766 1526 Q902.553 1526 905.932 1529.17 Q909.312 1532.34 909.312 1537.76 Q909.312 1543.34 905.84 1546.44 Q902.367 1549.52 896.048 1549.52 Q893.872 1549.52 891.604 1549.15 Q889.358 1548.78 886.951 1548.04 L886.951 1543.34 Q889.034 1544.47 891.256 1545.03 Q893.479 1545.58 895.955 1545.58 Q899.96 1545.58 902.298 1543.48 Q904.636 1541.37 904.636 1537.76 Q904.636 1534.15 902.298 1532.04 Q899.96 1529.94 895.955 1529.94 Q894.08 1529.94 892.205 1530.35 Q890.354 1530.77 888.409 1531.65 L888.409 1514.29 Z\" fill=\"#000000\" fill-rule=\"evenodd\" fill-opacity=\"1\" /><path clip-path=\"url(#clip530)\" d=\"M1292.81 1517.37 Q1289.2 1517.37 1287.37 1520.93 Q1285.56 1524.47 1285.56 1531.6 Q1285.56 1538.71 1287.37 1542.27 Q1289.2 1545.82 1292.81 1545.82 Q1296.44 1545.82 1298.25 1542.27 Q1300.08 1538.71 1300.08 1531.6 Q1300.08 1524.47 1298.25 1520.93 Q1296.44 1517.37 1292.81 1517.37 M1292.81 1513.66 Q1298.62 1513.66 1301.67 1518.27 Q1304.75 1522.85 1304.75 1531.6 Q1304.75 1540.33 1301.67 1544.94 Q1298.62 1549.52 1292.81 1549.52 Q1287 1549.52 1283.92 1544.94 Q1280.86 1540.33 1280.86 1531.6 Q1280.86 1522.85 1283.92 1518.27 Q1287 1513.66 1292.81 1513.66 Z\" fill=\"#000000\" fill-rule=\"evenodd\" fill-opacity=\"1\" /><path clip-path=\"url(#clip530)\" d=\"M1312.97 1542.97 L1317.85 1542.97 L1317.85 1548.85 L1312.97 1548.85 L1312.97 1542.97 Z\" fill=\"#000000\" fill-rule=\"evenodd\" fill-opacity=\"1\" /><path clip-path=\"url(#clip530)\" d=\"M1338.04 1517.37 Q1334.43 1517.37 1332.6 1520.93 Q1330.79 1524.47 1330.79 1531.6 Q1330.79 1538.71 1332.6 1542.27 Q1334.43 1545.82 1338.04 1545.82 Q1341.67 1545.82 1343.48 1542.27 Q1345.31 1538.71 1345.31 1531.6 Q1345.31 1524.47 1343.48 1520.93 Q1341.67 1517.37 1338.04 1517.37 M1338.04 1513.66 Q1343.85 1513.66 1346.9 1518.27 Q1349.98 1522.85 1349.98 1531.6 Q1349.98 1540.33 1346.9 1544.94 Q1343.85 1549.52 1338.04 1549.52 Q1332.23 1549.52 1329.15 1544.94 Q1326.09 1540.33 1326.09 1531.6 Q1326.09 1522.85 1329.15 1518.27 Q1332.23 1513.66 1338.04 1513.66 Z\" fill=\"#000000\" fill-rule=\"evenodd\" fill-opacity=\"1\" /><path clip-path=\"url(#clip530)\" d=\"M1746.25 1544.91 L1762.57 1544.91 L1762.57 1548.85 L1740.62 1548.85 L1740.62 1544.91 Q1743.28 1542.16 1747.87 1537.53 Q1752.47 1532.88 1753.65 1531.53 Q1755.9 1529.01 1756.78 1527.27 Q1757.68 1525.51 1757.68 1523.82 Q1757.68 1521.07 1755.74 1519.33 Q1753.82 1517.6 1750.71 1517.6 Q1748.51 1517.6 1746.06 1518.36 Q1743.63 1519.13 1740.85 1520.68 L1740.85 1515.95 Q1743.68 1514.82 1746.13 1514.24 Q1748.58 1513.66 1750.62 1513.66 Q1755.99 1513.66 1759.19 1516.35 Q1762.38 1519.03 1762.38 1523.52 Q1762.38 1525.65 1761.57 1527.57 Q1760.78 1529.47 1758.68 1532.07 Q1758.1 1532.74 1755 1535.95 Q1751.89 1539.15 1746.25 1544.91 Z\" fill=\"#000000\" fill-rule=\"evenodd\" fill-opacity=\"1\" /><path clip-path=\"url(#clip530)\" d=\"M1772.38 1542.97 L1777.26 1542.97 L1777.26 1548.85 L1772.38 1548.85 L1772.38 1542.97 Z\" fill=\"#000000\" fill-rule=\"evenodd\" fill-opacity=\"1\" /><path clip-path=\"url(#clip530)\" d=\"M1787.5 1514.29 L1805.85 1514.29 L1805.85 1518.22 L1791.78 1518.22 L1791.78 1526.7 Q1792.8 1526.35 1793.82 1526.19 Q1794.83 1526 1795.85 1526 Q1801.64 1526 1805.02 1529.17 Q1808.4 1532.34 1808.4 1537.76 Q1808.4 1543.34 1804.93 1546.44 Q1801.45 1549.52 1795.13 1549.52 Q1792.96 1549.52 1790.69 1549.15 Q1788.44 1548.78 1786.04 1548.04 L1786.04 1543.34 Q1788.12 1544.47 1790.34 1545.03 Q1792.57 1545.58 1795.04 1545.58 Q1799.05 1545.58 1801.38 1543.48 Q1803.72 1541.37 1803.72 1537.76 Q1803.72 1534.15 1801.38 1532.04 Q1799.05 1529.94 1795.04 1529.94 Q1793.17 1529.94 1791.29 1530.35 Q1789.44 1530.77 1787.5 1531.65 L1787.5 1514.29 Z\" fill=\"#000000\" fill-rule=\"evenodd\" fill-opacity=\"1\" /><path clip-path=\"url(#clip530)\" d=\"M2200.76 1514.29 L2219.12 1514.29 L2219.12 1518.22 L2205.04 1518.22 L2205.04 1526.7 Q2206.06 1526.35 2207.08 1526.19 Q2208.1 1526 2209.12 1526 Q2214.9 1526 2218.28 1529.17 Q2221.66 1532.34 2221.66 1537.76 Q2221.66 1543.34 2218.19 1546.44 Q2214.72 1549.52 2208.4 1549.52 Q2206.22 1549.52 2203.95 1549.15 Q2201.71 1548.78 2199.3 1548.04 L2199.3 1543.34 Q2201.39 1544.47 2203.61 1545.03 Q2205.83 1545.58 2208.31 1545.58 Q2212.31 1545.58 2214.65 1543.48 Q2216.99 1541.37 2216.99 1537.76 Q2216.99 1534.15 2214.65 1532.04 Q2212.31 1529.94 2208.31 1529.94 Q2206.43 1529.94 2204.56 1530.35 Q2202.7 1530.77 2200.76 1531.65 L2200.76 1514.29 Z\" fill=\"#000000\" fill-rule=\"evenodd\" fill-opacity=\"1\" /><path clip-path=\"url(#clip530)\" d=\"M2230.88 1542.97 L2235.76 1542.97 L2235.76 1548.85 L2230.88 1548.85 L2230.88 1542.97 Z\" fill=\"#000000\" fill-rule=\"evenodd\" fill-opacity=\"1\" /><path clip-path=\"url(#clip530)\" d=\"M2255.94 1517.37 Q2252.33 1517.37 2250.51 1520.93 Q2248.7 1524.47 2248.7 1531.6 Q2248.7 1538.71 2250.51 1542.27 Q2252.33 1545.82 2255.94 1545.82 Q2259.58 1545.82 2261.38 1542.27 Q2263.21 1538.71 2263.21 1531.6 Q2263.21 1524.47 2261.38 1520.93 Q2259.58 1517.37 2255.94 1517.37 M2255.94 1513.66 Q2261.76 1513.66 2264.81 1518.27 Q2267.89 1522.85 2267.89 1531.6 Q2267.89 1540.33 2264.81 1544.94 Q2261.76 1549.52 2255.94 1549.52 Q2250.13 1549.52 2247.06 1544.94 Q2244 1540.33 2244 1531.6 Q2244 1522.85 2247.06 1518.27 Q2250.13 1513.66 2255.94 1513.66 Z\" fill=\"#000000\" fill-rule=\"evenodd\" fill-opacity=\"1\" /><polyline clip-path=\"url(#clip532)\" style=\"stroke:#000000; stroke-linecap:butt; stroke-linejoin:round; stroke-width:2; stroke-opacity:0.1; fill:none\" points=\"\n",
       "  186.274,1445.72 2352.76,1445.72 \n",
       "  \"/>\n",
       "<polyline clip-path=\"url(#clip532)\" style=\"stroke:#000000; stroke-linecap:butt; stroke-linejoin:round; stroke-width:2; stroke-opacity:0.1; fill:none\" points=\"\n",
       "  186.274,1211.62 2352.76,1211.62 \n",
       "  \"/>\n",
       "<polyline clip-path=\"url(#clip532)\" style=\"stroke:#000000; stroke-linecap:butt; stroke-linejoin:round; stroke-width:2; stroke-opacity:0.1; fill:none\" points=\"\n",
       "  186.274,977.53 2352.76,977.53 \n",
       "  \"/>\n",
       "<polyline clip-path=\"url(#clip532)\" style=\"stroke:#000000; stroke-linecap:butt; stroke-linejoin:round; stroke-width:2; stroke-opacity:0.1; fill:none\" points=\"\n",
       "  186.274,743.437 2352.76,743.437 \n",
       "  \"/>\n",
       "<polyline clip-path=\"url(#clip532)\" style=\"stroke:#000000; stroke-linecap:butt; stroke-linejoin:round; stroke-width:2; stroke-opacity:0.1; fill:none\" points=\"\n",
       "  186.274,509.344 2352.76,509.344 \n",
       "  \"/>\n",
       "<polyline clip-path=\"url(#clip532)\" style=\"stroke:#000000; stroke-linecap:butt; stroke-linejoin:round; stroke-width:2; stroke-opacity:0.1; fill:none\" points=\"\n",
       "  186.274,275.251 2352.76,275.251 \n",
       "  \"/>\n",
       "<polyline clip-path=\"url(#clip530)\" style=\"stroke:#000000; stroke-linecap:butt; stroke-linejoin:round; stroke-width:4; stroke-opacity:1; fill:none\" points=\"\n",
       "  186.274,1486.45 186.274,47.2441 \n",
       "  \"/>\n",
       "<polyline clip-path=\"url(#clip530)\" style=\"stroke:#000000; stroke-linecap:butt; stroke-linejoin:round; stroke-width:4; stroke-opacity:1; fill:none\" points=\"\n",
       "  186.274,1445.72 205.172,1445.72 \n",
       "  \"/>\n",
       "<polyline clip-path=\"url(#clip530)\" style=\"stroke:#000000; stroke-linecap:butt; stroke-linejoin:round; stroke-width:4; stroke-opacity:1; fill:none\" points=\"\n",
       "  186.274,1211.62 205.172,1211.62 \n",
       "  \"/>\n",
       "<polyline clip-path=\"url(#clip530)\" style=\"stroke:#000000; stroke-linecap:butt; stroke-linejoin:round; stroke-width:4; stroke-opacity:1; fill:none\" points=\"\n",
       "  186.274,977.53 205.172,977.53 \n",
       "  \"/>\n",
       "<polyline clip-path=\"url(#clip530)\" style=\"stroke:#000000; stroke-linecap:butt; stroke-linejoin:round; stroke-width:4; stroke-opacity:1; fill:none\" points=\"\n",
       "  186.274,743.437 205.172,743.437 \n",
       "  \"/>\n",
       "<polyline clip-path=\"url(#clip530)\" style=\"stroke:#000000; stroke-linecap:butt; stroke-linejoin:round; stroke-width:4; stroke-opacity:1; fill:none\" points=\"\n",
       "  186.274,509.344 205.172,509.344 \n",
       "  \"/>\n",
       "<polyline clip-path=\"url(#clip530)\" style=\"stroke:#000000; stroke-linecap:butt; stroke-linejoin:round; stroke-width:4; stroke-opacity:1; fill:none\" points=\"\n",
       "  186.274,275.251 205.172,275.251 \n",
       "  \"/>\n",
       "<path clip-path=\"url(#clip530)\" d=\"M62.9365 1431.51 Q59.3254 1431.51 57.4967 1435.08 Q55.6912 1438.62 55.6912 1445.75 Q55.6912 1452.86 57.4967 1456.42 Q59.3254 1459.96 62.9365 1459.96 Q66.5707 1459.96 68.3763 1456.42 Q70.205 1452.86 70.205 1445.75 Q70.205 1438.62 68.3763 1435.08 Q66.5707 1431.51 62.9365 1431.51 M62.9365 1427.81 Q68.7467 1427.81 71.8022 1432.42 Q74.8809 1437 74.8809 1445.75 Q74.8809 1454.48 71.8022 1459.08 Q68.7467 1463.67 62.9365 1463.67 Q57.1264 1463.67 54.0477 1459.08 Q50.9921 1454.48 50.9921 1445.75 Q50.9921 1437 54.0477 1432.42 Q57.1264 1427.81 62.9365 1427.81 Z\" fill=\"#000000\" fill-rule=\"evenodd\" fill-opacity=\"1\" /><path clip-path=\"url(#clip530)\" d=\"M83.0984 1457.12 L87.9827 1457.12 L87.9827 1463 L83.0984 1463 L83.0984 1457.12 Z\" fill=\"#000000\" fill-rule=\"evenodd\" fill-opacity=\"1\" /><path clip-path=\"url(#clip530)\" d=\"M108.168 1431.51 Q104.557 1431.51 102.728 1435.08 Q100.922 1438.62 100.922 1445.75 Q100.922 1452.86 102.728 1456.42 Q104.557 1459.96 108.168 1459.96 Q111.802 1459.96 113.608 1456.42 Q115.436 1452.86 115.436 1445.75 Q115.436 1438.62 113.608 1435.08 Q111.802 1431.51 108.168 1431.51 M108.168 1427.81 Q113.978 1427.81 117.033 1432.42 Q120.112 1437 120.112 1445.75 Q120.112 1454.48 117.033 1459.08 Q113.978 1463.67 108.168 1463.67 Q102.358 1463.67 99.2789 1459.08 Q96.2234 1454.48 96.2234 1445.75 Q96.2234 1437 99.2789 1432.42 Q102.358 1427.81 108.168 1427.81 Z\" fill=\"#000000\" fill-rule=\"evenodd\" fill-opacity=\"1\" /><path clip-path=\"url(#clip530)\" d=\"M138.33 1431.51 Q134.719 1431.51 132.89 1435.08 Q131.084 1438.62 131.084 1445.75 Q131.084 1452.86 132.89 1456.42 Q134.719 1459.96 138.33 1459.96 Q141.964 1459.96 143.769 1456.42 Q145.598 1452.86 145.598 1445.75 Q145.598 1438.62 143.769 1435.08 Q141.964 1431.51 138.33 1431.51 M138.33 1427.81 Q144.14 1427.81 147.195 1432.42 Q150.274 1437 150.274 1445.75 Q150.274 1454.48 147.195 1459.08 Q144.14 1463.67 138.33 1463.67 Q132.519 1463.67 129.441 1459.08 Q126.385 1454.48 126.385 1445.75 Q126.385 1437 129.441 1432.42 Q132.519 1427.81 138.33 1427.81 Z\" fill=\"#000000\" fill-rule=\"evenodd\" fill-opacity=\"1\" /><path clip-path=\"url(#clip530)\" d=\"M63.9319 1197.42 Q60.3208 1197.42 58.4921 1200.99 Q56.6865 1204.53 56.6865 1211.66 Q56.6865 1218.76 58.4921 1222.33 Q60.3208 1225.87 63.9319 1225.87 Q67.5661 1225.87 69.3717 1222.33 Q71.2004 1218.76 71.2004 1211.66 Q71.2004 1204.53 69.3717 1200.99 Q67.5661 1197.42 63.9319 1197.42 M63.9319 1193.72 Q69.742 1193.72 72.7976 1198.32 Q75.8763 1202.91 75.8763 1211.66 Q75.8763 1220.38 72.7976 1224.99 Q69.742 1229.57 63.9319 1229.57 Q58.1217 1229.57 55.043 1224.99 Q51.9875 1220.38 51.9875 1211.66 Q51.9875 1202.91 55.043 1198.32 Q58.1217 1193.72 63.9319 1193.72 Z\" fill=\"#000000\" fill-rule=\"evenodd\" fill-opacity=\"1\" /><path clip-path=\"url(#clip530)\" d=\"M84.0938 1223.02 L88.978 1223.02 L88.978 1228.9 L84.0938 1228.9 L84.0938 1223.02 Z\" fill=\"#000000\" fill-rule=\"evenodd\" fill-opacity=\"1\" /><path clip-path=\"url(#clip530)\" d=\"M109.163 1197.42 Q105.552 1197.42 103.723 1200.99 Q101.918 1204.53 101.918 1211.66 Q101.918 1218.76 103.723 1222.33 Q105.552 1225.87 109.163 1225.87 Q112.797 1225.87 114.603 1222.33 Q116.432 1218.76 116.432 1211.66 Q116.432 1204.53 114.603 1200.99 Q112.797 1197.42 109.163 1197.42 M109.163 1193.72 Q114.973 1193.72 118.029 1198.32 Q121.107 1202.91 121.107 1211.66 Q121.107 1220.38 118.029 1224.99 Q114.973 1229.57 109.163 1229.57 Q103.353 1229.57 100.274 1224.99 Q97.2187 1220.38 97.2187 1211.66 Q97.2187 1202.91 100.274 1198.32 Q103.353 1193.72 109.163 1193.72 Z\" fill=\"#000000\" fill-rule=\"evenodd\" fill-opacity=\"1\" /><path clip-path=\"url(#clip530)\" d=\"M129.371 1194.34 L147.728 1194.34 L147.728 1198.28 L133.654 1198.28 L133.654 1206.75 Q134.672 1206.4 135.691 1206.24 Q136.709 1206.06 137.728 1206.06 Q143.515 1206.06 146.894 1209.23 Q150.274 1212.4 150.274 1217.81 Q150.274 1223.39 146.802 1226.5 Q143.33 1229.57 137.01 1229.57 Q134.834 1229.57 132.566 1229.2 Q130.32 1228.83 127.913 1228.09 L127.913 1223.39 Q129.996 1224.53 132.219 1225.08 Q134.441 1225.64 136.918 1225.64 Q140.922 1225.64 143.26 1223.53 Q145.598 1221.43 145.598 1217.81 Q145.598 1214.2 143.26 1212.1 Q140.922 1209.99 136.918 1209.99 Q135.043 1209.99 133.168 1210.41 Q131.316 1210.82 129.371 1211.7 L129.371 1194.34 Z\" fill=\"#000000\" fill-rule=\"evenodd\" fill-opacity=\"1\" /><path clip-path=\"url(#clip530)\" d=\"M62.9365 963.328 Q59.3254 963.328 57.4967 966.893 Q55.6912 970.435 55.6912 977.564 Q55.6912 984.671 57.4967 988.236 Q59.3254 991.777 62.9365 991.777 Q66.5707 991.777 68.3763 988.236 Q70.205 984.671 70.205 977.564 Q70.205 970.435 68.3763 966.893 Q66.5707 963.328 62.9365 963.328 M62.9365 959.625 Q68.7467 959.625 71.8022 964.231 Q74.8809 968.814 74.8809 977.564 Q74.8809 986.291 71.8022 990.898 Q68.7467 995.481 62.9365 995.481 Q57.1264 995.481 54.0477 990.898 Q50.9921 986.291 50.9921 977.564 Q50.9921 968.814 54.0477 964.231 Q57.1264 959.625 62.9365 959.625 Z\" fill=\"#000000\" fill-rule=\"evenodd\" fill-opacity=\"1\" /><path clip-path=\"url(#clip530)\" d=\"M83.0984 988.93 L87.9827 988.93 L87.9827 994.81 L83.0984 994.81 L83.0984 988.93 Z\" fill=\"#000000\" fill-rule=\"evenodd\" fill-opacity=\"1\" /><path clip-path=\"url(#clip530)\" d=\"M98.978 990.875 L106.617 990.875 L106.617 964.509 L98.3067 966.176 L98.3067 961.916 L106.571 960.25 L111.246 960.25 L111.246 990.875 L118.885 990.875 L118.885 994.81 L98.978 994.81 L98.978 990.875 Z\" fill=\"#000000\" fill-rule=\"evenodd\" fill-opacity=\"1\" /><path clip-path=\"url(#clip530)\" d=\"M138.33 963.328 Q134.719 963.328 132.89 966.893 Q131.084 970.435 131.084 977.564 Q131.084 984.671 132.89 988.236 Q134.719 991.777 138.33 991.777 Q141.964 991.777 143.769 988.236 Q145.598 984.671 145.598 977.564 Q145.598 970.435 143.769 966.893 Q141.964 963.328 138.33 963.328 M138.33 959.625 Q144.14 959.625 147.195 964.231 Q150.274 968.814 150.274 977.564 Q150.274 986.291 147.195 990.898 Q144.14 995.481 138.33 995.481 Q132.519 995.481 129.441 990.898 Q126.385 986.291 126.385 977.564 Q126.385 968.814 129.441 964.231 Q132.519 959.625 138.33 959.625 Z\" fill=\"#000000\" fill-rule=\"evenodd\" fill-opacity=\"1\" /><path clip-path=\"url(#clip530)\" d=\"M63.9319 729.235 Q60.3208 729.235 58.4921 732.8 Q56.6865 736.342 56.6865 743.471 Q56.6865 750.578 58.4921 754.143 Q60.3208 757.684 63.9319 757.684 Q67.5661 757.684 69.3717 754.143 Q71.2004 750.578 71.2004 743.471 Q71.2004 736.342 69.3717 732.8 Q67.5661 729.235 63.9319 729.235 M63.9319 725.532 Q69.742 725.532 72.7976 730.138 Q75.8763 734.721 75.8763 743.471 Q75.8763 752.198 72.7976 756.805 Q69.742 761.388 63.9319 761.388 Q58.1217 761.388 55.043 756.805 Q51.9875 752.198 51.9875 743.471 Q51.9875 734.721 55.043 730.138 Q58.1217 725.532 63.9319 725.532 Z\" fill=\"#000000\" fill-rule=\"evenodd\" fill-opacity=\"1\" /><path clip-path=\"url(#clip530)\" d=\"M84.0938 754.837 L88.978 754.837 L88.978 760.717 L84.0938 760.717 L84.0938 754.837 Z\" fill=\"#000000\" fill-rule=\"evenodd\" fill-opacity=\"1\" /><path clip-path=\"url(#clip530)\" d=\"M99.9733 756.782 L107.612 756.782 L107.612 730.416 L99.3021 732.083 L99.3021 727.823 L107.566 726.157 L112.242 726.157 L112.242 756.782 L119.881 756.782 L119.881 760.717 L99.9733 760.717 L99.9733 756.782 Z\" fill=\"#000000\" fill-rule=\"evenodd\" fill-opacity=\"1\" /><path clip-path=\"url(#clip530)\" d=\"M129.371 726.157 L147.728 726.157 L147.728 730.092 L133.654 730.092 L133.654 738.564 Q134.672 738.217 135.691 738.055 Q136.709 737.87 137.728 737.87 Q143.515 737.87 146.894 741.041 Q150.274 744.212 150.274 749.629 Q150.274 755.207 146.802 758.309 Q143.33 761.388 137.01 761.388 Q134.834 761.388 132.566 761.018 Q130.32 760.647 127.913 759.907 L127.913 755.207 Q129.996 756.342 132.219 756.897 Q134.441 757.453 136.918 757.453 Q140.922 757.453 143.26 755.346 Q145.598 753.24 145.598 749.629 Q145.598 746.018 143.26 743.911 Q140.922 741.805 136.918 741.805 Q135.043 741.805 133.168 742.221 Q131.316 742.638 129.371 743.518 L129.371 726.157 Z\" fill=\"#000000\" fill-rule=\"evenodd\" fill-opacity=\"1\" /><path clip-path=\"url(#clip530)\" d=\"M62.9365 495.142 Q59.3254 495.142 57.4967 498.707 Q55.6912 502.249 55.6912 509.378 Q55.6912 516.485 57.4967 520.05 Q59.3254 523.591 62.9365 523.591 Q66.5707 523.591 68.3763 520.05 Q70.205 516.485 70.205 509.378 Q70.205 502.249 68.3763 498.707 Q66.5707 495.142 62.9365 495.142 M62.9365 491.439 Q68.7467 491.439 71.8022 496.045 Q74.8809 500.628 74.8809 509.378 Q74.8809 518.105 71.8022 522.712 Q68.7467 527.295 62.9365 527.295 Q57.1264 527.295 54.0477 522.712 Q50.9921 518.105 50.9921 509.378 Q50.9921 500.628 54.0477 496.045 Q57.1264 491.439 62.9365 491.439 Z\" fill=\"#000000\" fill-rule=\"evenodd\" fill-opacity=\"1\" /><path clip-path=\"url(#clip530)\" d=\"M83.0984 520.744 L87.9827 520.744 L87.9827 526.624 L83.0984 526.624 L83.0984 520.744 Z\" fill=\"#000000\" fill-rule=\"evenodd\" fill-opacity=\"1\" /><path clip-path=\"url(#clip530)\" d=\"M102.196 522.689 L118.515 522.689 L118.515 526.624 L96.5706 526.624 L96.5706 522.689 Q99.2326 519.934 103.816 515.304 Q108.422 510.652 109.603 509.309 Q111.848 506.786 112.728 505.05 Q113.631 503.29 113.631 501.601 Q113.631 498.846 111.686 497.11 Q109.765 495.374 106.663 495.374 Q104.464 495.374 102.01 496.138 Q99.5798 496.902 96.8021 498.453 L96.8021 493.73 Q99.6261 492.596 102.08 492.017 Q104.534 491.439 106.571 491.439 Q111.941 491.439 115.135 494.124 Q118.33 496.809 118.33 501.3 Q118.33 503.429 117.52 505.351 Q116.733 507.249 114.626 509.841 Q114.047 510.513 110.946 513.73 Q107.844 516.925 102.196 522.689 Z\" fill=\"#000000\" fill-rule=\"evenodd\" fill-opacity=\"1\" /><path clip-path=\"url(#clip530)\" d=\"M138.33 495.142 Q134.719 495.142 132.89 498.707 Q131.084 502.249 131.084 509.378 Q131.084 516.485 132.89 520.05 Q134.719 523.591 138.33 523.591 Q141.964 523.591 143.769 520.05 Q145.598 516.485 145.598 509.378 Q145.598 502.249 143.769 498.707 Q141.964 495.142 138.33 495.142 M138.33 491.439 Q144.14 491.439 147.195 496.045 Q150.274 500.628 150.274 509.378 Q150.274 518.105 147.195 522.712 Q144.14 527.295 138.33 527.295 Q132.519 527.295 129.441 522.712 Q126.385 518.105 126.385 509.378 Q126.385 500.628 129.441 496.045 Q132.519 491.439 138.33 491.439 Z\" fill=\"#000000\" fill-rule=\"evenodd\" fill-opacity=\"1\" /><path clip-path=\"url(#clip530)\" d=\"M63.9319 261.049 Q60.3208 261.049 58.4921 264.614 Q56.6865 268.156 56.6865 275.285 Q56.6865 282.392 58.4921 285.957 Q60.3208 289.498 63.9319 289.498 Q67.5661 289.498 69.3717 285.957 Q71.2004 282.392 71.2004 275.285 Q71.2004 268.156 69.3717 264.614 Q67.5661 261.049 63.9319 261.049 M63.9319 257.346 Q69.742 257.346 72.7976 261.952 Q75.8763 266.535 75.8763 275.285 Q75.8763 284.012 72.7976 288.619 Q69.742 293.202 63.9319 293.202 Q58.1217 293.202 55.043 288.619 Q51.9875 284.012 51.9875 275.285 Q51.9875 266.535 55.043 261.952 Q58.1217 257.346 63.9319 257.346 Z\" fill=\"#000000\" fill-rule=\"evenodd\" fill-opacity=\"1\" /><path clip-path=\"url(#clip530)\" d=\"M84.0938 286.651 L88.978 286.651 L88.978 292.531 L84.0938 292.531 L84.0938 286.651 Z\" fill=\"#000000\" fill-rule=\"evenodd\" fill-opacity=\"1\" /><path clip-path=\"url(#clip530)\" d=\"M103.191 288.596 L119.51 288.596 L119.51 292.531 L97.566 292.531 L97.566 288.596 Q100.228 285.841 104.811 281.211 Q109.418 276.559 110.598 275.216 Q112.844 272.693 113.723 270.957 Q114.626 269.197 114.626 267.508 Q114.626 264.753 112.682 263.017 Q110.76 261.281 107.658 261.281 Q105.459 261.281 103.006 262.045 Q100.575 262.809 97.7974 264.36 L97.7974 259.637 Q100.621 258.503 103.075 257.924 Q105.529 257.346 107.566 257.346 Q112.936 257.346 116.131 260.031 Q119.325 262.716 119.325 267.207 Q119.325 269.336 118.515 271.258 Q117.728 273.156 115.621 275.748 Q115.043 276.42 111.941 279.637 Q108.839 282.832 103.191 288.596 Z\" fill=\"#000000\" fill-rule=\"evenodd\" fill-opacity=\"1\" /><path clip-path=\"url(#clip530)\" d=\"M129.371 257.971 L147.728 257.971 L147.728 261.906 L133.654 261.906 L133.654 270.378 Q134.672 270.031 135.691 269.869 Q136.709 269.684 137.728 269.684 Q143.515 269.684 146.894 272.855 Q150.274 276.026 150.274 281.443 Q150.274 287.021 146.802 290.123 Q143.33 293.202 137.01 293.202 Q134.834 293.202 132.566 292.832 Q130.32 292.461 127.913 291.72 L127.913 287.021 Q129.996 288.156 132.219 288.711 Q134.441 289.267 136.918 289.267 Q140.922 289.267 143.26 287.16 Q145.598 285.054 145.598 281.443 Q145.598 277.832 143.26 275.725 Q140.922 273.619 136.918 273.619 Q135.043 273.619 133.168 274.035 Q131.316 274.452 129.371 275.332 L129.371 257.971 Z\" fill=\"#000000\" fill-rule=\"evenodd\" fill-opacity=\"1\" /><path clip-path=\"url(#clip532)\" d=\"\n",
       "M305.434 1436.35 L305.434 1445.72 L397.252 1445.72 L397.252 1436.35 L305.434 1436.35 L305.434 1436.35  Z\n",
       "  \" fill=\"#009af9\" fill-rule=\"evenodd\" fill-opacity=\"1\"/>\n",
       "<polyline clip-path=\"url(#clip532)\" style=\"stroke:#000000; stroke-linecap:butt; stroke-linejoin:round; stroke-width:4; stroke-opacity:1; fill:none\" points=\"\n",
       "  305.434,1436.35 305.434,1445.72 397.252,1445.72 397.252,1436.35 305.434,1436.35 \n",
       "  \"/>\n",
       "<path clip-path=\"url(#clip532)\" d=\"\n",
       "M397.252 1445.72 L397.252 1445.72 L489.069 1445.72 L489.069 1445.72 L397.252 1445.72 L397.252 1445.72  Z\n",
       "  \" fill=\"#009af9\" fill-rule=\"evenodd\" fill-opacity=\"1\"/>\n",
       "<polyline clip-path=\"url(#clip532)\" style=\"stroke:#000000; stroke-linecap:butt; stroke-linejoin:round; stroke-width:4; stroke-opacity:1; fill:none\" points=\"\n",
       "  397.252,1445.72 397.252,1445.72 489.069,1445.72 397.252,1445.72 \n",
       "  \"/>\n",
       "<path clip-path=\"url(#clip532)\" d=\"\n",
       "M489.069 1436.35 L489.069 1445.72 L580.886 1445.72 L580.886 1436.35 L489.069 1436.35 L489.069 1436.35  Z\n",
       "  \" fill=\"#009af9\" fill-rule=\"evenodd\" fill-opacity=\"1\"/>\n",
       "<polyline clip-path=\"url(#clip532)\" style=\"stroke:#000000; stroke-linecap:butt; stroke-linejoin:round; stroke-width:4; stroke-opacity:1; fill:none\" points=\"\n",
       "  489.069,1436.35 489.069,1445.72 580.886,1445.72 580.886,1436.35 489.069,1436.35 \n",
       "  \"/>\n",
       "<path clip-path=\"url(#clip532)\" d=\"\n",
       "M580.886 1370.81 L580.886 1445.72 L672.703 1445.72 L672.703 1370.81 L580.886 1370.81 L580.886 1370.81  Z\n",
       "  \" fill=\"#009af9\" fill-rule=\"evenodd\" fill-opacity=\"1\"/>\n",
       "<polyline clip-path=\"url(#clip532)\" style=\"stroke:#000000; stroke-linecap:butt; stroke-linejoin:round; stroke-width:4; stroke-opacity:1; fill:none\" points=\"\n",
       "  580.886,1370.81 580.886,1445.72 672.703,1445.72 672.703,1370.81 580.886,1370.81 \n",
       "  \"/>\n",
       "<path clip-path=\"url(#clip532)\" d=\"\n",
       "M672.703 1286.53 L672.703 1445.72 L764.52 1445.72 L764.52 1286.53 L672.703 1286.53 L672.703 1286.53  Z\n",
       "  \" fill=\"#009af9\" fill-rule=\"evenodd\" fill-opacity=\"1\"/>\n",
       "<polyline clip-path=\"url(#clip532)\" style=\"stroke:#000000; stroke-linecap:butt; stroke-linejoin:round; stroke-width:4; stroke-opacity:1; fill:none\" points=\"\n",
       "  672.703,1286.53 672.703,1445.72 764.52,1445.72 764.52,1286.53 672.703,1286.53 \n",
       "  \"/>\n",
       "<path clip-path=\"url(#clip532)\" d=\"\n",
       "M764.52 1230.35 L764.52 1445.72 L856.338 1445.72 L856.338 1230.35 L764.52 1230.35 L764.52 1230.35  Z\n",
       "  \" fill=\"#009af9\" fill-rule=\"evenodd\" fill-opacity=\"1\"/>\n",
       "<polyline clip-path=\"url(#clip532)\" style=\"stroke:#000000; stroke-linecap:butt; stroke-linejoin:round; stroke-width:4; stroke-opacity:1; fill:none\" points=\"\n",
       "  764.52,1230.35 764.52,1445.72 856.338,1445.72 856.338,1230.35 764.52,1230.35 \n",
       "  \"/>\n",
       "<path clip-path=\"url(#clip532)\" d=\"\n",
       "M856.338 1108.62 L856.338 1445.72 L948.155 1445.72 L948.155 1108.62 L856.338 1108.62 L856.338 1108.62  Z\n",
       "  \" fill=\"#009af9\" fill-rule=\"evenodd\" fill-opacity=\"1\"/>\n",
       "<polyline clip-path=\"url(#clip532)\" style=\"stroke:#000000; stroke-linecap:butt; stroke-linejoin:round; stroke-width:4; stroke-opacity:1; fill:none\" points=\"\n",
       "  856.338,1108.62 856.338,1445.72 948.155,1445.72 948.155,1108.62 856.338,1108.62 \n",
       "  \"/>\n",
       "<path clip-path=\"url(#clip532)\" d=\"\n",
       "M948.155 762.164 L948.155 1445.72 L1039.97 1445.72 L1039.97 762.164 L948.155 762.164 L948.155 762.164  Z\n",
       "  \" fill=\"#009af9\" fill-rule=\"evenodd\" fill-opacity=\"1\"/>\n",
       "<polyline clip-path=\"url(#clip532)\" style=\"stroke:#000000; stroke-linecap:butt; stroke-linejoin:round; stroke-width:4; stroke-opacity:1; fill:none\" points=\"\n",
       "  948.155,762.164 948.155,1445.72 1039.97,1445.72 1039.97,762.164 948.155,762.164 \n",
       "  \"/>\n",
       "<path clip-path=\"url(#clip532)\" d=\"\n",
       "M1039.97 396.979 L1039.97 1445.72 L1131.79 1445.72 L1131.79 396.979 L1039.97 396.979 L1039.97 396.979  Z\n",
       "  \" fill=\"#009af9\" fill-rule=\"evenodd\" fill-opacity=\"1\"/>\n",
       "<polyline clip-path=\"url(#clip532)\" style=\"stroke:#000000; stroke-linecap:butt; stroke-linejoin:round; stroke-width:4; stroke-opacity:1; fill:none\" points=\"\n",
       "  1039.97,396.979 1039.97,1445.72 1131.79,1445.72 1131.79,396.979 1039.97,396.979 \n",
       "  \"/>\n",
       "<path clip-path=\"url(#clip532)\" d=\"\n",
       "M1131.79 340.797 L1131.79 1445.72 L1223.61 1445.72 L1223.61 340.797 L1131.79 340.797 L1131.79 340.797  Z\n",
       "  \" fill=\"#009af9\" fill-rule=\"evenodd\" fill-opacity=\"1\"/>\n",
       "<polyline clip-path=\"url(#clip532)\" style=\"stroke:#000000; stroke-linecap:butt; stroke-linejoin:round; stroke-width:4; stroke-opacity:1; fill:none\" points=\"\n",
       "  1131.79,340.797 1131.79,1445.72 1223.61,1445.72 1223.61,340.797 1131.79,340.797 \n",
       "  \"/>\n",
       "<path clip-path=\"url(#clip532)\" d=\"\n",
       "M1223.61 228.432 L1223.61 1445.72 L1315.42 1445.72 L1315.42 228.432 L1223.61 228.432 L1223.61 228.432  Z\n",
       "  \" fill=\"#009af9\" fill-rule=\"evenodd\" fill-opacity=\"1\"/>\n",
       "<polyline clip-path=\"url(#clip532)\" style=\"stroke:#000000; stroke-linecap:butt; stroke-linejoin:round; stroke-width:4; stroke-opacity:1; fill:none\" points=\"\n",
       "  1223.61,228.432 1223.61,1445.72 1315.42,1445.72 1315.42,228.432 1223.61,228.432 \n",
       "  \"/>\n",
       "<path clip-path=\"url(#clip532)\" d=\"\n",
       "M1315.42 87.9763 L1315.42 1445.72 L1407.24 1445.72 L1407.24 87.9763 L1315.42 87.9763 L1315.42 87.9763  Z\n",
       "  \" fill=\"#009af9\" fill-rule=\"evenodd\" fill-opacity=\"1\"/>\n",
       "<polyline clip-path=\"url(#clip532)\" style=\"stroke:#000000; stroke-linecap:butt; stroke-linejoin:round; stroke-width:4; stroke-opacity:1; fill:none\" points=\"\n",
       "  1315.42,87.9763 1315.42,1445.72 1407.24,1445.72 1407.24,87.9763 1315.42,87.9763 \n",
       "  \"/>\n",
       "<path clip-path=\"url(#clip532)\" d=\"\n",
       "M1407.24 340.797 L1407.24 1445.72 L1499.06 1445.72 L1499.06 340.797 L1407.24 340.797 L1407.24 340.797  Z\n",
       "  \" fill=\"#009af9\" fill-rule=\"evenodd\" fill-opacity=\"1\"/>\n",
       "<polyline clip-path=\"url(#clip532)\" style=\"stroke:#000000; stroke-linecap:butt; stroke-linejoin:round; stroke-width:4; stroke-opacity:1; fill:none\" points=\"\n",
       "  1407.24,340.797 1407.24,1445.72 1499.06,1445.72 1499.06,340.797 1407.24,340.797 \n",
       "  \"/>\n",
       "<path clip-path=\"url(#clip532)\" d=\"\n",
       "M1499.06 640.436 L1499.06 1445.72 L1590.88 1445.72 L1590.88 640.436 L1499.06 640.436 L1499.06 640.436  Z\n",
       "  \" fill=\"#009af9\" fill-rule=\"evenodd\" fill-opacity=\"1\"/>\n",
       "<polyline clip-path=\"url(#clip532)\" style=\"stroke:#000000; stroke-linecap:butt; stroke-linejoin:round; stroke-width:4; stroke-opacity:1; fill:none\" points=\"\n",
       "  1499.06,640.436 1499.06,1445.72 1590.88,1445.72 1590.88,640.436 1499.06,640.436 \n",
       "  \"/>\n",
       "<path clip-path=\"url(#clip532)\" d=\"\n",
       "M1590.88 949.439 L1590.88 1445.72 L1682.69 1445.72 L1682.69 949.439 L1590.88 949.439 L1590.88 949.439  Z\n",
       "  \" fill=\"#009af9\" fill-rule=\"evenodd\" fill-opacity=\"1\"/>\n",
       "<polyline clip-path=\"url(#clip532)\" style=\"stroke:#000000; stroke-linecap:butt; stroke-linejoin:round; stroke-width:4; stroke-opacity:1; fill:none\" points=\"\n",
       "  1590.88,949.439 1590.88,1445.72 1682.69,1445.72 1682.69,949.439 1590.88,949.439 \n",
       "  \"/>\n",
       "<path clip-path=\"url(#clip532)\" d=\"\n",
       "M1682.69 1080.53 L1682.69 1445.72 L1774.51 1445.72 L1774.51 1080.53 L1682.69 1080.53 L1682.69 1080.53  Z\n",
       "  \" fill=\"#009af9\" fill-rule=\"evenodd\" fill-opacity=\"1\"/>\n",
       "<polyline clip-path=\"url(#clip532)\" style=\"stroke:#000000; stroke-linecap:butt; stroke-linejoin:round; stroke-width:4; stroke-opacity:1; fill:none\" points=\"\n",
       "  1682.69,1080.53 1682.69,1445.72 1774.51,1445.72 1774.51,1080.53 1682.69,1080.53 \n",
       "  \"/>\n",
       "<path clip-path=\"url(#clip532)\" d=\"\n",
       "M1774.51 1220.99 L1774.51 1445.72 L1866.33 1445.72 L1866.33 1220.99 L1774.51 1220.99 L1774.51 1220.99  Z\n",
       "  \" fill=\"#009af9\" fill-rule=\"evenodd\" fill-opacity=\"1\"/>\n",
       "<polyline clip-path=\"url(#clip532)\" style=\"stroke:#000000; stroke-linecap:butt; stroke-linejoin:round; stroke-width:4; stroke-opacity:1; fill:none\" points=\"\n",
       "  1774.51,1220.99 1774.51,1445.72 1866.33,1445.72 1866.33,1220.99 1774.51,1220.99 \n",
       "  \"/>\n",
       "<path clip-path=\"url(#clip532)\" d=\"\n",
       "M1866.33 1323.99 L1866.33 1445.72 L1958.14 1445.72 L1958.14 1323.99 L1866.33 1323.99 L1866.33 1323.99  Z\n",
       "  \" fill=\"#009af9\" fill-rule=\"evenodd\" fill-opacity=\"1\"/>\n",
       "<polyline clip-path=\"url(#clip532)\" style=\"stroke:#000000; stroke-linecap:butt; stroke-linejoin:round; stroke-width:4; stroke-opacity:1; fill:none\" points=\"\n",
       "  1866.33,1323.99 1866.33,1445.72 1958.14,1445.72 1958.14,1323.99 1866.33,1323.99 \n",
       "  \"/>\n",
       "<path clip-path=\"url(#clip532)\" d=\"\n",
       "M1958.14 1436.35 L1958.14 1445.72 L2049.96 1445.72 L2049.96 1436.35 L1958.14 1436.35 L1958.14 1436.35  Z\n",
       "  \" fill=\"#009af9\" fill-rule=\"evenodd\" fill-opacity=\"1\"/>\n",
       "<polyline clip-path=\"url(#clip532)\" style=\"stroke:#000000; stroke-linecap:butt; stroke-linejoin:round; stroke-width:4; stroke-opacity:1; fill:none\" points=\"\n",
       "  1958.14,1436.35 1958.14,1445.72 2049.96,1445.72 2049.96,1436.35 1958.14,1436.35 \n",
       "  \"/>\n",
       "<path clip-path=\"url(#clip532)\" d=\"\n",
       "M2049.96 1436.35 L2049.96 1445.72 L2141.78 1445.72 L2141.78 1436.35 L2049.96 1436.35 L2049.96 1436.35  Z\n",
       "  \" fill=\"#009af9\" fill-rule=\"evenodd\" fill-opacity=\"1\"/>\n",
       "<polyline clip-path=\"url(#clip532)\" style=\"stroke:#000000; stroke-linecap:butt; stroke-linejoin:round; stroke-width:4; stroke-opacity:1; fill:none\" points=\"\n",
       "  2049.96,1436.35 2049.96,1445.72 2141.78,1445.72 2141.78,1436.35 2049.96,1436.35 \n",
       "  \"/>\n",
       "<path clip-path=\"url(#clip532)\" d=\"\n",
       "M2141.78 1436.35 L2141.78 1445.72 L2233.6 1445.72 L2233.6 1436.35 L2141.78 1436.35 L2141.78 1436.35  Z\n",
       "  \" fill=\"#009af9\" fill-rule=\"evenodd\" fill-opacity=\"1\"/>\n",
       "<polyline clip-path=\"url(#clip532)\" style=\"stroke:#000000; stroke-linecap:butt; stroke-linejoin:round; stroke-width:4; stroke-opacity:1; fill:none\" points=\"\n",
       "  2141.78,1436.35 2141.78,1445.72 2233.6,1445.72 2233.6,1436.35 2141.78,1436.35 \n",
       "  \"/>\n",
       "<circle clip-path=\"url(#clip532)\" style=\"fill:#009af9; stroke:none; fill-opacity:0\" cx=\"351.343\" cy=\"1436.35\" r=\"2\"/>\n",
       "<circle clip-path=\"url(#clip532)\" style=\"fill:#009af9; stroke:none; fill-opacity:0\" cx=\"443.16\" cy=\"1445.72\" r=\"2\"/>\n",
       "<circle clip-path=\"url(#clip532)\" style=\"fill:#009af9; stroke:none; fill-opacity:0\" cx=\"534.977\" cy=\"1436.35\" r=\"2\"/>\n",
       "<circle clip-path=\"url(#clip532)\" style=\"fill:#009af9; stroke:none; fill-opacity:0\" cx=\"626.795\" cy=\"1370.81\" r=\"2\"/>\n",
       "<circle clip-path=\"url(#clip532)\" style=\"fill:#009af9; stroke:none; fill-opacity:0\" cx=\"718.612\" cy=\"1286.53\" r=\"2\"/>\n",
       "<circle clip-path=\"url(#clip532)\" style=\"fill:#009af9; stroke:none; fill-opacity:0\" cx=\"810.429\" cy=\"1230.35\" r=\"2\"/>\n",
       "<circle clip-path=\"url(#clip532)\" style=\"fill:#009af9; stroke:none; fill-opacity:0\" cx=\"902.246\" cy=\"1108.62\" r=\"2\"/>\n",
       "<circle clip-path=\"url(#clip532)\" style=\"fill:#009af9; stroke:none; fill-opacity:0\" cx=\"994.063\" cy=\"762.164\" r=\"2\"/>\n",
       "<circle clip-path=\"url(#clip532)\" style=\"fill:#009af9; stroke:none; fill-opacity:0\" cx=\"1085.88\" cy=\"396.979\" r=\"2\"/>\n",
       "<circle clip-path=\"url(#clip532)\" style=\"fill:#009af9; stroke:none; fill-opacity:0\" cx=\"1177.7\" cy=\"340.797\" r=\"2\"/>\n",
       "<circle clip-path=\"url(#clip532)\" style=\"fill:#009af9; stroke:none; fill-opacity:0\" cx=\"1269.51\" cy=\"228.432\" r=\"2\"/>\n",
       "<circle clip-path=\"url(#clip532)\" style=\"fill:#009af9; stroke:none; fill-opacity:0\" cx=\"1361.33\" cy=\"87.9763\" r=\"2\"/>\n",
       "<circle clip-path=\"url(#clip532)\" style=\"fill:#009af9; stroke:none; fill-opacity:0\" cx=\"1453.15\" cy=\"340.797\" r=\"2\"/>\n",
       "<circle clip-path=\"url(#clip532)\" style=\"fill:#009af9; stroke:none; fill-opacity:0\" cx=\"1544.97\" cy=\"640.436\" r=\"2\"/>\n",
       "<circle clip-path=\"url(#clip532)\" style=\"fill:#009af9; stroke:none; fill-opacity:0\" cx=\"1636.78\" cy=\"949.439\" r=\"2\"/>\n",
       "<circle clip-path=\"url(#clip532)\" style=\"fill:#009af9; stroke:none; fill-opacity:0\" cx=\"1728.6\" cy=\"1080.53\" r=\"2\"/>\n",
       "<circle clip-path=\"url(#clip532)\" style=\"fill:#009af9; stroke:none; fill-opacity:0\" cx=\"1820.42\" cy=\"1220.99\" r=\"2\"/>\n",
       "<circle clip-path=\"url(#clip532)\" style=\"fill:#009af9; stroke:none; fill-opacity:0\" cx=\"1912.24\" cy=\"1323.99\" r=\"2\"/>\n",
       "<circle clip-path=\"url(#clip532)\" style=\"fill:#009af9; stroke:none; fill-opacity:0\" cx=\"2004.05\" cy=\"1436.35\" r=\"2\"/>\n",
       "<circle clip-path=\"url(#clip532)\" style=\"fill:#009af9; stroke:none; fill-opacity:0\" cx=\"2095.87\" cy=\"1436.35\" r=\"2\"/>\n",
       "<circle clip-path=\"url(#clip532)\" style=\"fill:#009af9; stroke:none; fill-opacity:0\" cx=\"2187.69\" cy=\"1436.35\" r=\"2\"/>\n",
       "<polyline clip-path=\"url(#clip532)\" style=\"stroke:#e26f46; stroke-linecap:butt; stroke-linejoin:round; stroke-width:4; stroke-opacity:1; fill:none\" points=\"\n",
       "  397.252,1443.17 415.615,1442.45 433.978,1441.55 452.342,1440.44 470.705,1439.06 489.069,1437.36 507.432,1435.27 525.796,1432.74 544.159,1429.66 562.523,1425.96 \n",
       "  580.886,1421.53 599.249,1416.24 617.613,1409.99 635.976,1402.62 654.34,1393.99 672.703,1383.94 691.067,1372.31 709.43,1358.93 727.793,1343.62 746.157,1326.2 \n",
       "  764.52,1306.51 782.884,1284.39 801.247,1259.68 819.611,1232.26 837.974,1202.02 856.338,1168.88 874.701,1132.8 893.064,1093.78 911.428,1051.88 929.791,1007.18 \n",
       "  948.155,959.847 966.518,910.088 984.882,858.179 1003.25,804.453 1021.61,749.306 1039.97,693.187 1058.34,636.603 1076.7,580.102 1095.06,524.275 1113.43,469.739 \n",
       "  1131.79,417.131 1150.15,367.095 1168.52,320.265 1186.88,277.26 1205.24,238.661 1223.61,205.006 1241.97,176.774 1260.33,154.372 1278.7,138.129 1297.06,128.285 \n",
       "  1315.42,124.987 1333.79,128.285 1352.15,138.129 1370.51,154.372 1388.88,176.774 1407.24,205.006 1425.6,238.661 1443.97,277.26 1462.33,320.265 1480.69,367.095 \n",
       "  1499.06,417.131 1517.42,469.739 1535.78,524.275 1554.15,580.102 1572.51,636.603 1590.88,693.187 1609.24,749.306 1627.6,804.453 1645.97,858.179 1664.33,910.088 \n",
       "  1682.69,959.847 1701.06,1007.18 1719.42,1051.88 1737.78,1093.78 1756.15,1132.8 1774.51,1168.88 1792.87,1202.02 1811.24,1232.26 1829.6,1259.68 1847.96,1284.39 \n",
       "  1866.33,1306.51 1884.69,1326.2 1903.05,1343.62 1921.42,1358.93 1939.78,1372.31 1958.14,1383.94 1976.51,1393.99 1994.87,1402.62 2013.23,1409.99 2031.6,1416.24 \n",
       "  2049.96,1421.53 2068.32,1425.96 2086.69,1429.66 2105.05,1432.74 2123.41,1435.27 2141.78,1437.36 2160.14,1439.06 2178.51,1440.44 2196.87,1441.55 2215.23,1442.45 \n",
       "  2233.6,1443.17 \n",
       "  \"/>\n",
       "<path clip-path=\"url(#clip530)\" d=\"\n",
       "M1987.39 250.738 L2280.54 250.738 L2280.54 95.2176 L1987.39 95.2176  Z\n",
       "  \" fill=\"#ffffff\" fill-rule=\"evenodd\" fill-opacity=\"1\"/>\n",
       "<polyline clip-path=\"url(#clip530)\" style=\"stroke:#000000; stroke-linecap:butt; stroke-linejoin:round; stroke-width:4; stroke-opacity:1; fill:none\" points=\"\n",
       "  1987.39,250.738 2280.54,250.738 2280.54,95.2176 1987.39,95.2176 1987.39,250.738 \n",
       "  \"/>\n",
       "<path clip-path=\"url(#clip530)\" d=\"\n",
       "M2011.46 167.794 L2155.89 167.794 L2155.89 126.322 L2011.46 126.322 L2011.46 167.794  Z\n",
       "  \" fill=\"#009af9\" fill-rule=\"evenodd\" fill-opacity=\"1\"/>\n",
       "<polyline clip-path=\"url(#clip530)\" style=\"stroke:#000000; stroke-linecap:butt; stroke-linejoin:round; stroke-width:4; stroke-opacity:1; fill:none\" points=\"\n",
       "  2011.46,167.794 2155.89,167.794 2155.89,126.322 2011.46,126.322 2011.46,167.794 \n",
       "  \"/>\n",
       "<path clip-path=\"url(#clip530)\" d=\"M2193.81 166.745 Q2192 171.375 2190.29 172.787 Q2188.58 174.199 2185.71 174.199 L2182.3 174.199 L2182.3 170.634 L2184.8 170.634 Q2186.56 170.634 2187.53 169.8 Q2188.51 168.967 2189.69 165.865 L2190.45 163.921 L2179.97 138.412 L2184.48 138.412 L2192.58 158.689 L2200.68 138.412 L2205.2 138.412 L2193.81 166.745 Z\" fill=\"#000000\" fill-rule=\"evenodd\" fill-opacity=\"1\" /><path clip-path=\"url(#clip530)\" d=\"M2212.49 160.402 L2220.13 160.402 L2220.13 134.037 L2211.82 135.703 L2211.82 131.444 L2220.08 129.778 L2224.76 129.778 L2224.76 160.402 L2232.4 160.402 L2232.4 164.338 L2212.49 164.338 L2212.49 160.402 Z\" fill=\"#000000\" fill-rule=\"evenodd\" fill-opacity=\"1\" /><polyline clip-path=\"url(#clip530)\" style=\"stroke:#e26f46; stroke-linecap:butt; stroke-linejoin:round; stroke-width:4; stroke-opacity:1; fill:none\" points=\"\n",
       "  2011.46,198.898 2155.89,198.898 \n",
       "  \"/>\n",
       "<path clip-path=\"url(#clip530)\" d=\"M2193.81 218.585 Q2192 223.215 2190.29 224.627 Q2188.58 226.039 2185.71 226.039 L2182.3 226.039 L2182.3 222.474 L2184.8 222.474 Q2186.56 222.474 2187.53 221.64 Q2188.51 220.807 2189.69 217.705 L2190.45 215.761 L2179.97 190.252 L2184.48 190.252 L2192.58 210.529 L2200.68 190.252 L2205.2 190.252 L2193.81 218.585 Z\" fill=\"#000000\" fill-rule=\"evenodd\" fill-opacity=\"1\" /><path clip-path=\"url(#clip530)\" d=\"M2215.71 212.242 L2232.03 212.242 L2232.03 216.178 L2210.08 216.178 L2210.08 212.242 Q2212.74 209.488 2217.33 204.858 Q2221.93 200.205 2223.11 198.863 Q2225.36 196.34 2226.24 194.604 Q2227.14 192.844 2227.14 191.155 Q2227.14 188.4 2225.2 186.664 Q2223.28 184.928 2220.17 184.928 Q2217.97 184.928 2215.52 185.692 Q2213.09 186.455 2210.31 188.006 L2210.31 183.284 Q2213.14 182.15 2215.59 181.571 Q2218.04 180.993 2220.08 180.993 Q2225.45 180.993 2228.65 183.678 Q2231.84 186.363 2231.84 190.854 Q2231.84 192.983 2231.03 194.905 Q2230.24 196.803 2228.14 199.395 Q2227.56 200.067 2224.46 203.284 Q2221.35 206.479 2215.71 212.242 Z\" fill=\"#000000\" fill-rule=\"evenodd\" fill-opacity=\"1\" /></svg>\n"
      ]
     },
     "metadata": {},
     "execution_count": 6
    }
   ],
   "cell_type": "code",
   "source": [
    "d = Normal(0, sqrt(2))\n",
    "f(x) = pdf(d, x)\n",
    "\n",
    "xs = -5:(0.1):5\n",
    "ys = f.(xs);\n",
    "\n",
    "using Plots\n",
    "\n",
    "plt = histogram(samples, normalize=true)\n",
    "plot!(xs, ys)\n",
    "plt"
   ],
   "metadata": {},
   "execution_count": 6
  },
  {
   "cell_type": "markdown",
   "source": [
    "## Exercise 3"
   ],
   "metadata": {}
  },
  {
   "cell_type": "markdown",
   "source": [
    "The following shows that named tuples share some behaviour with dictionaries:"
   ],
   "metadata": {}
  },
  {
   "outputs": [
    {
     "output_type": "execute_result",
     "data": {
      "text/plain": "(:x, :y, :z)"
     },
     "metadata": {},
     "execution_count": 7
    }
   ],
   "cell_type": "code",
   "source": [
    "t = (x = 1, y = \"cat\", z = 4.5)\n",
    "keys(t)"
   ],
   "metadata": {},
   "execution_count": 7
  },
  {
   "outputs": [
    {
     "output_type": "execute_result",
     "data": {
      "text/plain": "\"cat\""
     },
     "metadata": {},
     "execution_count": 8
    }
   ],
   "cell_type": "code",
   "source": [
    "t[:y]"
   ],
   "metadata": {},
   "execution_count": 8
  },
  {
   "cell_type": "markdown",
   "source": [
    "Write a function called `dict` that converts a named tuple to an\n",
    "actual dictionary. You can create an empty dictionary using `Dict()`."
   ],
   "metadata": {}
  },
  {
   "cell_type": "markdown",
   "source": [
    "### Solution"
   ],
   "metadata": {}
  },
  {
   "outputs": [
    {
     "output_type": "execute_result",
     "data": {
      "text/plain": "dict (generic function with 1 method)"
     },
     "metadata": {},
     "execution_count": 9
    }
   ],
   "cell_type": "code",
   "source": [
    "function dict(t)\n",
    "    d = Dict()\n",
    "    for k in keys(t)\n",
    "        d[k] = t[k]\n",
    "    end\n",
    "    return d\n",
    "end"
   ],
   "metadata": {},
   "execution_count": 9
  },
  {
   "outputs": [
    {
     "output_type": "execute_result",
     "data": {
      "text/plain": "Dict{Any, Any} with 3 entries:\n  :y => \"cat\"\n  :z => 4.5\n  :x => 1"
     },
     "metadata": {},
     "execution_count": 10
    }
   ],
   "cell_type": "code",
   "source": [
    "dict(t)"
   ],
   "metadata": {},
   "execution_count": 10
  },
  {
   "cell_type": "markdown",
   "source": [
    "Or alternatively:"
   ],
   "metadata": {}
  },
  {
   "outputs": [
    {
     "output_type": "execute_result",
     "data": {
      "text/plain": "dict (generic function with 1 method)"
     },
     "metadata": {},
     "execution_count": 11
    }
   ],
   "cell_type": "code",
   "source": [
    "dict(t) = Dict(k => t[k] for k in keys(t))"
   ],
   "metadata": {},
   "execution_count": 11
  },
  {
   "cell_type": "markdown",
   "source": [
    "---\n",
    "\n",
    "*This notebook was generated using [Literate.jl](https://github.com/fredrikekre/Literate.jl).*"
   ],
   "metadata": {}
  }
 ],
 "nbformat_minor": 3,
 "metadata": {
  "language_info": {
   "file_extension": ".jl",
   "mimetype": "application/julia",
   "name": "julia",
   "version": "1.6.5"
  },
  "kernelspec": {
   "name": "julia-1.6",
   "display_name": "Julia 1.6.5",
   "language": "julia"
  }
 },
 "nbformat": 4
}
