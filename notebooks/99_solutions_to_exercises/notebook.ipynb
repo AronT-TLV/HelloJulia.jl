{
 "cells": [
  {
   "cell_type": "markdown",
   "source": [
    "# Solutions to exercises"
   ],
   "metadata": {}
  },
  {
   "cell_type": "markdown",
   "source": [
    "## Setup"
   ],
   "metadata": {}
  },
  {
   "cell_type": "markdown",
   "source": [
    "Inspect Julia version:"
   ],
   "metadata": {}
  },
  {
   "outputs": [
    {
     "output_type": "execute_result",
     "data": {
      "text/plain": "v\"1.6.3\""
     },
     "metadata": {},
     "execution_count": 1
    }
   ],
   "cell_type": "code",
   "source": [
    "VERSION"
   ],
   "metadata": {},
   "execution_count": 1
  },
  {
   "cell_type": "markdown",
   "source": [
    "The following instantiates a package environment."
   ],
   "metadata": {}
  },
  {
   "cell_type": "markdown",
   "source": [
    "The package environment has been created using **Julia 1.6** and may not\n",
    "instantiate properly for other Julia versions."
   ],
   "metadata": {}
  },
  {
   "outputs": [
    {
     "name": "stdout",
     "output_type": "stream",
     "text": [
      "  Activating environment at `~/GoogleDrive/Julia/HelloJulia/notebooks/99_solutions_to_exercises/env/Project.toml`\n",
      "Precompiling project...\n",
      "\u001b[33m  ✓ \u001b[39m\u001b[90mGR_jll\u001b[39m\n",
      "\u001b[33m  ✓ \u001b[39m\u001b[90mLogExpFunctions\u001b[39m\n",
      "\u001b[33m  ✓ \u001b[39m\u001b[90mGR\u001b[39m\n",
      "\u001b[33m  ✓ \u001b[39m\u001b[90mStatsBase\u001b[39m\n",
      "\u001b[33m  ✓ \u001b[39m\u001b[90mSpecialFunctions\u001b[39m\n",
      "\u001b[33m  ✓ \u001b[39m\u001b[90mStatsFuns\u001b[39m\n",
      "\u001b[33m  ✓ \u001b[39mDistributions\n",
      "\u001b[33m  ✓ \u001b[39mPlots\n",
      "  8 dependencies successfully precompiled in 48 seconds (123 already precompiled)\n",
      "  \u001b[33m8\u001b[39m dependencies precompiled but different versions are currently loaded. Restart julia to access the new versions\n"
     ]
    }
   ],
   "cell_type": "code",
   "source": [
    "using Pkg\n",
    "Pkg.activate(\"env\")\n",
    "Pkg.instantiate()"
   ],
   "metadata": {},
   "execution_count": 2
  },
  {
   "cell_type": "markdown",
   "source": [
    "## Exercise 1"
   ],
   "metadata": {}
  },
  {
   "cell_type": "markdown",
   "source": [
    "Write a function named `total` that adds the elements of its vector input."
   ],
   "metadata": {}
  },
  {
   "cell_type": "markdown",
   "source": [
    "### Solution"
   ],
   "metadata": {}
  },
  {
   "outputs": [
    {
     "output_type": "execute_result",
     "data": {
      "text/plain": "total (generic function with 1 method)"
     },
     "metadata": {},
     "execution_count": 3
    }
   ],
   "cell_type": "code",
   "source": [
    "function total(v)\n",
    "    sum = 0.0 # better is zero(v)\n",
    "    for i in 1:length(v)\n",
    "        sum = sum + v[i]\n",
    "    end\n",
    "    return sum\n",
    "end"
   ],
   "metadata": {},
   "execution_count": 3
  },
  {
   "outputs": [
    {
     "output_type": "execute_result",
     "data": {
      "text/plain": "55.0"
     },
     "metadata": {},
     "execution_count": 4
    }
   ],
   "cell_type": "code",
   "source": [
    "total(1:10)"
   ],
   "metadata": {},
   "execution_count": 4
  },
  {
   "cell_type": "markdown",
   "source": [
    "The built-in function is called `sum`."
   ],
   "metadata": {}
  },
  {
   "cell_type": "markdown",
   "source": [
    "## Exercise 2"
   ],
   "metadata": {}
  },
  {
   "cell_type": "markdown",
   "source": [
    "Generate a 1000 random samples from the standard normal\n",
    "distribution. Create a second such sample, and add the two samples\n",
    "point-wise.  Compute the (sample) mean and variance of the combined\n",
    "samples. In the same plot, show a frequency-normalized histogram of\n",
    "the combined samples and a plot of the pdf for normal distribution\n",
    "with zero mean and variance `2`."
   ],
   "metadata": {}
  },
  {
   "cell_type": "markdown",
   "source": [
    "### Solution"
   ],
   "metadata": {}
  },
  {
   "outputs": [
    {
     "name": "stdout",
     "output_type": "stream",
     "text": [
      "mu = -0.0514827383993347\n",
      "var = 2.051593491822891\n"
     ]
    },
    {
     "output_type": "execute_result",
     "data": {
      "text/plain": "2.051593491822891"
     },
     "metadata": {},
     "execution_count": 5
    }
   ],
   "cell_type": "code",
   "source": [
    "using Distributions, Plots, Statistics\n",
    "\n",
    "samples1 = randn(1000); # or rand(Normal(), 1000)\n",
    "samples2 = randn(1000);\n",
    "\n",
    "samples = samples1 .+ samples2;\n",
    "\n",
    "mu = mean(samples)\n",
    "var = std(samples)^2\n",
    "\n",
    "@show mu var"
   ],
   "metadata": {},
   "execution_count": 5
  },
  {
   "outputs": [
    {
     "output_type": "execute_result",
     "data": {
      "text/plain": "Plot{Plots.GRBackend() n=2}",
      "image/png": "[encoded data removed]",
      "text/html": [
       "<?xml version=\"1.0\" encoding=\"utf-8\"?>\n",
       "<svg xmlns=\"http://www.w3.org/2000/svg\" xmlns:xlink=\"http://www.w3.org/1999/xlink\" width=\"600\" height=\"400\" viewBox=\"0 0 2400 1600\">\n",
       "<defs>\n",
       "  <clipPath id=\"clip560\">\n",
       "    <rect x=\"0\" y=\"0\" width=\"2400\" height=\"1600\"/>\n",
       "  </clipPath>\n",
       "</defs>\n",
       "<path clip-path=\"url(#clip560)\" d=\"\n",
       "M0 1600 L2400 1600 L2400 0 L0 0  Z\n",
       "  \" fill=\"#ffffff\" fill-rule=\"evenodd\" fill-opacity=\"1\"/>\n",
       "<defs>\n",
       "  <clipPath id=\"clip561\">\n",
       "    <rect x=\"480\" y=\"0\" width=\"1681\" height=\"1600\"/>\n",
       "  </clipPath>\n",
       "</defs>\n",
       "<path clip-path=\"url(#clip560)\" d=\"\n",
       "M156.112 1486.45 L2352.76 1486.45 L2352.76 47.2441 L156.112 47.2441  Z\n",
       "  \" fill=\"#ffffff\" fill-rule=\"evenodd\" fill-opacity=\"1\"/>\n",
       "<defs>\n",
       "  <clipPath id=\"clip562\">\n",
       "    <rect x=\"156\" y=\"47\" width=\"2198\" height=\"1440\"/>\n",
       "  </clipPath>\n",
       "</defs>\n",
       "<polyline clip-path=\"url(#clip562)\" style=\"stroke:#000000; stroke-linecap:butt; stroke-linejoin:round; stroke-width:2; stroke-opacity:0.1; fill:none\" points=\"\n",
       "  540.568,1486.45 540.568,47.2441 \n",
       "  \"/>\n",
       "<polyline clip-path=\"url(#clip562)\" style=\"stroke:#000000; stroke-linecap:butt; stroke-linejoin:round; stroke-width:2; stroke-opacity:0.1; fill:none\" points=\"\n",
       "  1024,1486.45 1024,47.2441 \n",
       "  \"/>\n",
       "<polyline clip-path=\"url(#clip562)\" style=\"stroke:#000000; stroke-linecap:butt; stroke-linejoin:round; stroke-width:2; stroke-opacity:0.1; fill:none\" points=\"\n",
       "  1507.43,1486.45 1507.43,47.2441 \n",
       "  \"/>\n",
       "<polyline clip-path=\"url(#clip562)\" style=\"stroke:#000000; stroke-linecap:butt; stroke-linejoin:round; stroke-width:2; stroke-opacity:0.1; fill:none\" points=\"\n",
       "  1990.86,1486.45 1990.86,47.2441 \n",
       "  \"/>\n",
       "<polyline clip-path=\"url(#clip560)\" style=\"stroke:#000000; stroke-linecap:butt; stroke-linejoin:round; stroke-width:4; stroke-opacity:1; fill:none\" points=\"\n",
       "  156.112,1486.45 2352.76,1486.45 \n",
       "  \"/>\n",
       "<polyline clip-path=\"url(#clip560)\" style=\"stroke:#000000; stroke-linecap:butt; stroke-linejoin:round; stroke-width:4; stroke-opacity:1; fill:none\" points=\"\n",
       "  540.568,1486.45 540.568,1467.55 \n",
       "  \"/>\n",
       "<polyline clip-path=\"url(#clip560)\" style=\"stroke:#000000; stroke-linecap:butt; stroke-linejoin:round; stroke-width:4; stroke-opacity:1; fill:none\" points=\"\n",
       "  1024,1486.45 1024,1467.55 \n",
       "  \"/>\n",
       "<polyline clip-path=\"url(#clip560)\" style=\"stroke:#000000; stroke-linecap:butt; stroke-linejoin:round; stroke-width:4; stroke-opacity:1; fill:none\" points=\"\n",
       "  1507.43,1486.45 1507.43,1467.55 \n",
       "  \"/>\n",
       "<polyline clip-path=\"url(#clip560)\" style=\"stroke:#000000; stroke-linecap:butt; stroke-linejoin:round; stroke-width:4; stroke-opacity:1; fill:none\" points=\"\n",
       "  1990.86,1486.45 1990.86,1467.55 \n",
       "  \"/>\n",
       "<path clip-path=\"url(#clip560)\" d=\"M510.036 1532.02 L539.712 1532.02 L539.712 1535.95 L510.036 1535.95 L510.036 1532.02 Z\" fill=\"#000000\" fill-rule=\"evenodd\" fill-opacity=\"1\" /><path clip-path=\"url(#clip560)\" d=\"M563.971 1530.21 Q567.327 1530.93 569.202 1533.2 Q571.101 1535.47 571.101 1538.8 Q571.101 1543.92 567.582 1546.72 Q564.064 1549.52 557.582 1549.52 Q555.406 1549.52 553.091 1549.08 Q550.8 1548.66 548.346 1547.81 L548.346 1543.29 Q550.29 1544.43 552.605 1545.01 Q554.92 1545.58 557.443 1545.58 Q561.841 1545.58 564.133 1543.85 Q566.448 1542.11 566.448 1538.8 Q566.448 1535.75 564.295 1534.03 Q562.165 1532.3 558.346 1532.3 L554.318 1532.3 L554.318 1528.45 L558.531 1528.45 Q561.98 1528.45 563.809 1527.09 Q565.638 1525.7 565.638 1523.11 Q565.638 1520.45 563.739 1519.03 Q561.864 1517.6 558.346 1517.6 Q556.425 1517.6 554.226 1518.01 Q552.027 1518.43 549.388 1519.31 L549.388 1515.14 Q552.05 1514.4 554.365 1514.03 Q556.702 1513.66 558.763 1513.66 Q564.087 1513.66 567.189 1516.09 Q570.29 1518.5 570.29 1522.62 Q570.29 1525.49 568.647 1527.48 Q567.003 1529.45 563.971 1530.21 Z\" fill=\"#000000\" fill-rule=\"evenodd\" fill-opacity=\"1\" /><path clip-path=\"url(#clip560)\" d=\"M1024 1517.37 Q1020.39 1517.37 1018.56 1520.93 Q1016.75 1524.47 1016.75 1531.6 Q1016.75 1538.71 1018.56 1542.27 Q1020.39 1545.82 1024 1545.82 Q1027.63 1545.82 1029.44 1542.27 Q1031.27 1538.71 1031.27 1531.6 Q1031.27 1524.47 1029.44 1520.93 Q1027.63 1517.37 1024 1517.37 M1024 1513.66 Q1029.81 1513.66 1032.86 1518.27 Q1035.94 1522.85 1035.94 1531.6 Q1035.94 1540.33 1032.86 1544.94 Q1029.81 1549.52 1024 1549.52 Q1018.19 1549.52 1015.11 1544.94 Q1012.05 1540.33 1012.05 1531.6 Q1012.05 1522.85 1015.11 1518.27 Q1018.19 1513.66 1024 1513.66 Z\" fill=\"#000000\" fill-rule=\"evenodd\" fill-opacity=\"1\" /><path clip-path=\"url(#clip560)\" d=\"M1511.68 1530.21 Q1515.03 1530.93 1516.91 1533.2 Q1518.81 1535.47 1518.81 1538.8 Q1518.81 1543.92 1515.29 1546.72 Q1511.77 1549.52 1505.29 1549.52 Q1503.11 1549.52 1500.8 1549.08 Q1498.51 1548.66 1496.05 1547.81 L1496.05 1543.29 Q1498 1544.43 1500.31 1545.01 Q1502.63 1545.58 1505.15 1545.58 Q1509.55 1545.58 1511.84 1543.85 Q1514.15 1542.11 1514.15 1538.8 Q1514.15 1535.75 1512 1534.03 Q1509.87 1532.3 1506.05 1532.3 L1502.02 1532.3 L1502.02 1528.45 L1506.24 1528.45 Q1509.69 1528.45 1511.51 1527.09 Q1513.34 1525.7 1513.34 1523.11 Q1513.34 1520.45 1511.45 1519.03 Q1509.57 1517.6 1506.05 1517.6 Q1504.13 1517.6 1501.93 1518.01 Q1499.73 1518.43 1497.09 1519.31 L1497.09 1515.14 Q1499.76 1514.4 1502.07 1514.03 Q1504.41 1513.66 1506.47 1513.66 Q1511.79 1513.66 1514.89 1516.09 Q1518 1518.5 1518 1522.62 Q1518 1525.49 1516.35 1527.48 Q1514.71 1529.45 1511.68 1530.21 Z\" fill=\"#000000\" fill-rule=\"evenodd\" fill-opacity=\"1\" /><path clip-path=\"url(#clip560)\" d=\"M1991.26 1529.7 Q1988.12 1529.7 1986.26 1531.86 Q1984.44 1534.01 1984.44 1537.76 Q1984.44 1541.49 1986.26 1543.66 Q1988.12 1545.82 1991.26 1545.82 Q1994.41 1545.82 1996.24 1543.66 Q1998.09 1541.49 1998.09 1537.76 Q1998.09 1534.01 1996.24 1531.86 Q1994.41 1529.7 1991.26 1529.7 M2000.55 1515.05 L2000.55 1519.31 Q1998.79 1518.48 1996.98 1518.04 Q1995.2 1517.6 1993.44 1517.6 Q1988.81 1517.6 1986.36 1520.72 Q1983.93 1523.85 1983.58 1530.17 Q1984.95 1528.15 1987.01 1527.09 Q1989.07 1526 1991.54 1526 Q1996.75 1526 1999.76 1529.17 Q2002.79 1532.32 2002.79 1537.76 Q2002.79 1543.08 1999.64 1546.3 Q1996.5 1549.52 1991.26 1549.52 Q1985.27 1549.52 1982.1 1544.94 Q1978.93 1540.33 1978.93 1531.6 Q1978.93 1523.41 1982.82 1518.55 Q1986.7 1513.66 1993.26 1513.66 Q1995.01 1513.66 1996.8 1514.01 Q1998.6 1514.36 2000.55 1515.05 Z\" fill=\"#000000\" fill-rule=\"evenodd\" fill-opacity=\"1\" /><polyline clip-path=\"url(#clip562)\" style=\"stroke:#000000; stroke-linecap:butt; stroke-linejoin:round; stroke-width:2; stroke-opacity:0.1; fill:none\" points=\"\n",
       "  156.112,1445.72 2352.76,1445.72 \n",
       "  \"/>\n",
       "<polyline clip-path=\"url(#clip562)\" style=\"stroke:#000000; stroke-linecap:butt; stroke-linejoin:round; stroke-width:2; stroke-opacity:0.1; fill:none\" points=\"\n",
       "  156.112,993.136 2352.76,993.136 \n",
       "  \"/>\n",
       "<polyline clip-path=\"url(#clip562)\" style=\"stroke:#000000; stroke-linecap:butt; stroke-linejoin:round; stroke-width:2; stroke-opacity:0.1; fill:none\" points=\"\n",
       "  156.112,540.556 2352.76,540.556 \n",
       "  \"/>\n",
       "<polyline clip-path=\"url(#clip562)\" style=\"stroke:#000000; stroke-linecap:butt; stroke-linejoin:round; stroke-width:2; stroke-opacity:0.1; fill:none\" points=\"\n",
       "  156.112,87.9763 2352.76,87.9763 \n",
       "  \"/>\n",
       "<polyline clip-path=\"url(#clip560)\" style=\"stroke:#000000; stroke-linecap:butt; stroke-linejoin:round; stroke-width:4; stroke-opacity:1; fill:none\" points=\"\n",
       "  156.112,1486.45 156.112,47.2441 \n",
       "  \"/>\n",
       "<polyline clip-path=\"url(#clip560)\" style=\"stroke:#000000; stroke-linecap:butt; stroke-linejoin:round; stroke-width:4; stroke-opacity:1; fill:none\" points=\"\n",
       "  156.112,1445.72 175.01,1445.72 \n",
       "  \"/>\n",
       "<polyline clip-path=\"url(#clip560)\" style=\"stroke:#000000; stroke-linecap:butt; stroke-linejoin:round; stroke-width:4; stroke-opacity:1; fill:none\" points=\"\n",
       "  156.112,993.136 175.01,993.136 \n",
       "  \"/>\n",
       "<polyline clip-path=\"url(#clip560)\" style=\"stroke:#000000; stroke-linecap:butt; stroke-linejoin:round; stroke-width:4; stroke-opacity:1; fill:none\" points=\"\n",
       "  156.112,540.556 175.01,540.556 \n",
       "  \"/>\n",
       "<polyline clip-path=\"url(#clip560)\" style=\"stroke:#000000; stroke-linecap:butt; stroke-linejoin:round; stroke-width:4; stroke-opacity:1; fill:none\" points=\"\n",
       "  156.112,87.9763 175.01,87.9763 \n",
       "  \"/>\n",
       "<path clip-path=\"url(#clip560)\" d=\"M62.9365 1431.51 Q59.3254 1431.51 57.4967 1435.08 Q55.6912 1438.62 55.6912 1445.75 Q55.6912 1452.86 57.4967 1456.42 Q59.3254 1459.96 62.9365 1459.96 Q66.5707 1459.96 68.3763 1456.42 Q70.205 1452.86 70.205 1445.75 Q70.205 1438.62 68.3763 1435.08 Q66.5707 1431.51 62.9365 1431.51 M62.9365 1427.81 Q68.7467 1427.81 71.8022 1432.42 Q74.8809 1437 74.8809 1445.75 Q74.8809 1454.48 71.8022 1459.08 Q68.7467 1463.67 62.9365 1463.67 Q57.1264 1463.67 54.0477 1459.08 Q50.9921 1454.48 50.9921 1445.75 Q50.9921 1437 54.0477 1432.42 Q57.1264 1427.81 62.9365 1427.81 Z\" fill=\"#000000\" fill-rule=\"evenodd\" fill-opacity=\"1\" /><path clip-path=\"url(#clip560)\" d=\"M83.0984 1457.12 L87.9827 1457.12 L87.9827 1463 L83.0984 1463 L83.0984 1457.12 Z\" fill=\"#000000\" fill-rule=\"evenodd\" fill-opacity=\"1\" /><path clip-path=\"url(#clip560)\" d=\"M108.168 1431.51 Q104.557 1431.51 102.728 1435.08 Q100.922 1438.62 100.922 1445.75 Q100.922 1452.86 102.728 1456.42 Q104.557 1459.96 108.168 1459.96 Q111.802 1459.96 113.608 1456.42 Q115.436 1452.86 115.436 1445.75 Q115.436 1438.62 113.608 1435.08 Q111.802 1431.51 108.168 1431.51 M108.168 1427.81 Q113.978 1427.81 117.033 1432.42 Q120.112 1437 120.112 1445.75 Q120.112 1454.48 117.033 1459.08 Q113.978 1463.67 108.168 1463.67 Q102.358 1463.67 99.2789 1459.08 Q96.2234 1454.48 96.2234 1445.75 Q96.2234 1437 99.2789 1432.42 Q102.358 1427.81 108.168 1427.81 Z\" fill=\"#000000\" fill-rule=\"evenodd\" fill-opacity=\"1\" /><path clip-path=\"url(#clip560)\" d=\"M64.1634 978.935 Q60.5523 978.935 58.7236 982.499 Q56.918 986.041 56.918 993.171 Q56.918 1000.28 58.7236 1003.84 Q60.5523 1007.38 64.1634 1007.38 Q67.7976 1007.38 69.6031 1003.84 Q71.4318 1000.28 71.4318 993.171 Q71.4318 986.041 69.6031 982.499 Q67.7976 978.935 64.1634 978.935 M64.1634 975.231 Q69.9735 975.231 73.029 979.837 Q76.1077 984.421 76.1077 993.171 Q76.1077 1001.9 73.029 1006.5 Q69.9735 1011.09 64.1634 1011.09 Q58.3532 1011.09 55.2745 1006.5 Q52.219 1001.9 52.219 993.171 Q52.219 984.421 55.2745 979.837 Q58.3532 975.231 64.1634 975.231 Z\" fill=\"#000000\" fill-rule=\"evenodd\" fill-opacity=\"1\" /><path clip-path=\"url(#clip560)\" d=\"M84.3253 1004.54 L89.2095 1004.54 L89.2095 1010.42 L84.3253 1010.42 L84.3253 1004.54 Z\" fill=\"#000000\" fill-rule=\"evenodd\" fill-opacity=\"1\" /><path clip-path=\"url(#clip560)\" d=\"M100.205 1006.48 L107.844 1006.48 L107.844 980.115 L99.5335 981.782 L99.5335 977.523 L107.797 975.856 L112.473 975.856 L112.473 1006.48 L120.112 1006.48 L120.112 1010.42 L100.205 1010.42 L100.205 1006.48 Z\" fill=\"#000000\" fill-rule=\"evenodd\" fill-opacity=\"1\" /><path clip-path=\"url(#clip560)\" d=\"M64.5337 526.355 Q60.9226 526.355 59.0939 529.92 Q57.2884 533.461 57.2884 540.591 Q57.2884 547.697 59.0939 551.262 Q60.9226 554.804 64.5337 554.804 Q68.168 554.804 69.9735 551.262 Q71.8022 547.697 71.8022 540.591 Q71.8022 533.461 69.9735 529.92 Q68.168 526.355 64.5337 526.355 M64.5337 522.651 Q70.3439 522.651 73.3994 527.258 Q76.4781 531.841 76.4781 540.591 Q76.4781 549.318 73.3994 553.924 Q70.3439 558.507 64.5337 558.507 Q58.7236 558.507 55.6449 553.924 Q52.5893 549.318 52.5893 540.591 Q52.5893 531.841 55.6449 527.258 Q58.7236 522.651 64.5337 522.651 Z\" fill=\"#000000\" fill-rule=\"evenodd\" fill-opacity=\"1\" /><path clip-path=\"url(#clip560)\" d=\"M84.6956 551.956 L89.5799 551.956 L89.5799 557.836 L84.6956 557.836 L84.6956 551.956 Z\" fill=\"#000000\" fill-rule=\"evenodd\" fill-opacity=\"1\" /><path clip-path=\"url(#clip560)\" d=\"M103.793 553.901 L120.112 553.901 L120.112 557.836 L98.1678 557.836 L98.1678 553.901 Q100.83 551.146 105.413 546.517 Q110.02 541.864 111.2 540.521 Q113.445 537.998 114.325 536.262 Q115.228 534.503 115.228 532.813 Q115.228 530.058 113.283 528.322 Q111.362 526.586 108.26 526.586 Q106.061 526.586 103.608 527.35 Q101.177 528.114 98.3993 529.665 L98.3993 524.943 Q101.223 523.808 103.677 523.23 Q106.131 522.651 108.168 522.651 Q113.538 522.651 116.733 525.336 Q119.927 528.021 119.927 532.512 Q119.927 534.642 119.117 536.563 Q118.33 538.461 116.223 541.054 Q115.645 541.725 112.543 544.943 Q109.441 548.137 103.793 553.901 Z\" fill=\"#000000\" fill-rule=\"evenodd\" fill-opacity=\"1\" /><path clip-path=\"url(#clip560)\" d=\"M63.5847 73.775 Q59.9736 73.775 58.1449 77.3398 Q56.3393 80.8814 56.3393 88.011 Q56.3393 95.1174 58.1449 98.6822 Q59.9736 102.224 63.5847 102.224 Q67.2189 102.224 69.0244 98.6822 Q70.8531 95.1174 70.8531 88.011 Q70.8531 80.8814 69.0244 77.3398 Q67.2189 73.775 63.5847 73.775 M63.5847 70.0713 Q69.3948 70.0713 72.4503 74.6777 Q75.529 79.261 75.529 88.011 Q75.529 96.7378 72.4503 101.344 Q69.3948 105.928 63.5847 105.928 Q57.7745 105.928 54.6958 101.344 Q51.6403 96.7378 51.6403 88.011 Q51.6403 79.261 54.6958 74.6777 Q57.7745 70.0713 63.5847 70.0713 Z\" fill=\"#000000\" fill-rule=\"evenodd\" fill-opacity=\"1\" /><path clip-path=\"url(#clip560)\" d=\"M83.7466 99.3767 L88.6308 99.3767 L88.6308 105.256 L83.7466 105.256 L83.7466 99.3767 Z\" fill=\"#000000\" fill-rule=\"evenodd\" fill-opacity=\"1\" /><path clip-path=\"url(#clip560)\" d=\"M112.983 86.6221 Q116.339 87.3397 118.214 89.6082 Q120.112 91.8767 120.112 95.21 Q120.112 100.326 116.594 103.127 Q113.075 105.928 106.594 105.928 Q104.418 105.928 102.103 105.488 Q99.8113 105.071 97.3576 104.215 L97.3576 99.7008 Q99.3021 100.835 101.617 101.414 Q103.932 101.992 106.455 101.992 Q110.853 101.992 113.145 100.256 Q115.459 98.5202 115.459 95.21 Q115.459 92.1545 113.307 90.4415 Q111.177 88.7054 107.358 88.7054 L103.33 88.7054 L103.33 84.8629 L107.543 84.8629 Q110.992 84.8629 112.82 83.4971 Q114.649 82.1083 114.649 79.5157 Q114.649 76.8537 112.751 75.4416 Q110.876 74.0064 107.358 74.0064 Q105.436 74.0064 103.237 74.4231 Q101.038 74.8398 98.3993 75.7194 L98.3993 71.5528 Q101.061 70.812 103.376 70.4416 Q105.714 70.0713 107.774 70.0713 Q113.098 70.0713 116.2 72.5018 Q119.302 74.9092 119.302 79.0296 Q119.302 81.8999 117.658 83.8907 Q116.015 85.8582 112.983 86.6221 Z\" fill=\"#000000\" fill-rule=\"evenodd\" fill-opacity=\"1\" /><path clip-path=\"url(#clip562)\" d=\"\n",
       "M298.853 1427.61 L298.853 1445.72 L379.425 1445.72 L379.425 1427.61 L298.853 1427.61 L298.853 1427.61  Z\n",
       "  \" fill=\"#009af9\" fill-rule=\"evenodd\" fill-opacity=\"1\"/>\n",
       "<polyline clip-path=\"url(#clip562)\" style=\"stroke:#000000; stroke-linecap:butt; stroke-linejoin:round; stroke-width:4; stroke-opacity:1; fill:none\" points=\"\n",
       "  298.853,1427.61 298.853,1445.72 379.425,1445.72 379.425,1427.61 298.853,1427.61 \n",
       "  \"/>\n",
       "<path clip-path=\"url(#clip562)\" d=\"\n",
       "M379.425 1382.35 L379.425 1445.72 L459.997 1445.72 L459.997 1382.35 L379.425 1382.35 L379.425 1382.35  Z\n",
       "  \" fill=\"#009af9\" fill-rule=\"evenodd\" fill-opacity=\"1\"/>\n",
       "<polyline clip-path=\"url(#clip562)\" style=\"stroke:#000000; stroke-linecap:butt; stroke-linejoin:round; stroke-width:4; stroke-opacity:1; fill:none\" points=\"\n",
       "  379.425,1382.35 379.425,1445.72 459.997,1445.72 459.997,1382.35 379.425,1382.35 \n",
       "  \"/>\n",
       "<path clip-path=\"url(#clip562)\" d=\"\n",
       "M459.997 1382.35 L459.997 1445.72 L540.568 1445.72 L540.568 1382.35 L459.997 1382.35 L459.997 1382.35  Z\n",
       "  \" fill=\"#009af9\" fill-rule=\"evenodd\" fill-opacity=\"1\"/>\n",
       "<polyline clip-path=\"url(#clip562)\" style=\"stroke:#000000; stroke-linecap:butt; stroke-linejoin:round; stroke-width:4; stroke-opacity:1; fill:none\" points=\"\n",
       "  459.997,1382.35 459.997,1445.72 540.568,1445.72 540.568,1382.35 459.997,1382.35 \n",
       "  \"/>\n",
       "<path clip-path=\"url(#clip562)\" d=\"\n",
       "M540.568 1237.53 L540.568 1445.72 L621.14 1445.72 L621.14 1237.53 L540.568 1237.53 L540.568 1237.53  Z\n",
       "  \" fill=\"#009af9\" fill-rule=\"evenodd\" fill-opacity=\"1\"/>\n",
       "<polyline clip-path=\"url(#clip562)\" style=\"stroke:#000000; stroke-linecap:butt; stroke-linejoin:round; stroke-width:4; stroke-opacity:1; fill:none\" points=\"\n",
       "  540.568,1237.53 540.568,1445.72 621.14,1445.72 621.14,1237.53 540.568,1237.53 \n",
       "  \"/>\n",
       "<path clip-path=\"url(#clip562)\" d=\"\n",
       "M621.14 1002.19 L621.14 1445.72 L701.712 1445.72 L701.712 1002.19 L621.14 1002.19 L621.14 1002.19  Z\n",
       "  \" fill=\"#009af9\" fill-rule=\"evenodd\" fill-opacity=\"1\"/>\n",
       "<polyline clip-path=\"url(#clip562)\" style=\"stroke:#000000; stroke-linecap:butt; stroke-linejoin:round; stroke-width:4; stroke-opacity:1; fill:none\" points=\"\n",
       "  621.14,1002.19 621.14,1445.72 701.712,1445.72 701.712,1002.19 621.14,1002.19 \n",
       "  \"/>\n",
       "<path clip-path=\"url(#clip562)\" d=\"\n",
       "M701.712 857.362 L701.712 1445.72 L782.284 1445.72 L782.284 857.362 L701.712 857.362 L701.712 857.362  Z\n",
       "  \" fill=\"#009af9\" fill-rule=\"evenodd\" fill-opacity=\"1\"/>\n",
       "<polyline clip-path=\"url(#clip562)\" style=\"stroke:#000000; stroke-linecap:butt; stroke-linejoin:round; stroke-width:4; stroke-opacity:1; fill:none\" points=\"\n",
       "  701.712,857.362 701.712,1445.72 782.284,1445.72 782.284,857.362 701.712,857.362 \n",
       "  \"/>\n",
       "<path clip-path=\"url(#clip562)\" d=\"\n",
       "M782.284 450.04 L782.284 1445.72 L862.855 1445.72 L862.855 450.04 L782.284 450.04 L782.284 450.04  Z\n",
       "  \" fill=\"#009af9\" fill-rule=\"evenodd\" fill-opacity=\"1\"/>\n",
       "<polyline clip-path=\"url(#clip562)\" style=\"stroke:#000000; stroke-linecap:butt; stroke-linejoin:round; stroke-width:4; stroke-opacity:1; fill:none\" points=\"\n",
       "  782.284,450.04 782.284,1445.72 862.855,1445.72 862.855,450.04 782.284,450.04 \n",
       "  \"/>\n",
       "<path clip-path=\"url(#clip562)\" d=\"\n",
       "M862.855 386.679 L862.855 1445.72 L943.427 1445.72 L943.427 386.679 L862.855 386.679 L862.855 386.679  Z\n",
       "  \" fill=\"#009af9\" fill-rule=\"evenodd\" fill-opacity=\"1\"/>\n",
       "<polyline clip-path=\"url(#clip562)\" style=\"stroke:#000000; stroke-linecap:butt; stroke-linejoin:round; stroke-width:4; stroke-opacity:1; fill:none\" points=\"\n",
       "  862.855,386.679 862.855,1445.72 943.427,1445.72 943.427,386.679 862.855,386.679 \n",
       "  \"/>\n",
       "<path clip-path=\"url(#clip562)\" d=\"\n",
       "M943.427 323.318 L943.427 1445.72 L1024 1445.72 L1024 323.318 L943.427 323.318 L943.427 323.318  Z\n",
       "  \" fill=\"#009af9\" fill-rule=\"evenodd\" fill-opacity=\"1\"/>\n",
       "<polyline clip-path=\"url(#clip562)\" style=\"stroke:#000000; stroke-linecap:butt; stroke-linejoin:round; stroke-width:4; stroke-opacity:1; fill:none\" points=\"\n",
       "  943.427,323.318 943.427,1445.72 1024,1445.72 1024,323.318 943.427,323.318 \n",
       "  \"/>\n",
       "<path clip-path=\"url(#clip562)\" d=\"\n",
       "M1024 87.9763 L1024 1445.72 L1104.57 1445.72 L1104.57 87.9763 L1024 87.9763 L1024 87.9763  Z\n",
       "  \" fill=\"#009af9\" fill-rule=\"evenodd\" fill-opacity=\"1\"/>\n",
       "<polyline clip-path=\"url(#clip562)\" style=\"stroke:#000000; stroke-linecap:butt; stroke-linejoin:round; stroke-width:4; stroke-opacity:1; fill:none\" points=\"\n",
       "  1024,87.9763 1024,1445.72 1104.57,1445.72 1104.57,87.9763 1024,87.9763 \n",
       "  \"/>\n",
       "<path clip-path=\"url(#clip562)\" d=\"\n",
       "M1104.57 431.937 L1104.57 1445.72 L1185.14 1445.72 L1185.14 431.937 L1104.57 431.937 L1104.57 431.937  Z\n",
       "  \" fill=\"#009af9\" fill-rule=\"evenodd\" fill-opacity=\"1\"/>\n",
       "<polyline clip-path=\"url(#clip562)\" style=\"stroke:#000000; stroke-linecap:butt; stroke-linejoin:round; stroke-width:4; stroke-opacity:1; fill:none\" points=\"\n",
       "  1104.57,431.937 1104.57,1445.72 1185.14,1445.72 1185.14,431.937 1104.57,431.937 \n",
       "  \"/>\n",
       "<path clip-path=\"url(#clip562)\" d=\"\n",
       "M1185.14 603.917 L1185.14 1445.72 L1265.71 1445.72 L1265.71 603.917 L1185.14 603.917 L1185.14 603.917  Z\n",
       "  \" fill=\"#009af9\" fill-rule=\"evenodd\" fill-opacity=\"1\"/>\n",
       "<polyline clip-path=\"url(#clip562)\" style=\"stroke:#000000; stroke-linecap:butt; stroke-linejoin:round; stroke-width:4; stroke-opacity:1; fill:none\" points=\"\n",
       "  1185.14,603.917 1185.14,1445.72 1265.71,1445.72 1265.71,603.917 1185.14,603.917 \n",
       "  \"/>\n",
       "<path clip-path=\"url(#clip562)\" d=\"\n",
       "M1265.71 821.156 L1265.71 1445.72 L1346.29 1445.72 L1346.29 821.156 L1265.71 821.156 L1265.71 821.156  Z\n",
       "  \" fill=\"#009af9\" fill-rule=\"evenodd\" fill-opacity=\"1\"/>\n",
       "<polyline clip-path=\"url(#clip562)\" style=\"stroke:#000000; stroke-linecap:butt; stroke-linejoin:round; stroke-width:4; stroke-opacity:1; fill:none\" points=\"\n",
       "  1265.71,821.156 1265.71,1445.72 1346.29,1445.72 1346.29,821.156 1265.71,821.156 \n",
       "  \"/>\n",
       "<path clip-path=\"url(#clip562)\" d=\"\n",
       "M1346.29 1128.91 L1346.29 1445.72 L1426.86 1445.72 L1426.86 1128.91 L1346.29 1128.91 L1346.29 1128.91  Z\n",
       "  \" fill=\"#009af9\" fill-rule=\"evenodd\" fill-opacity=\"1\"/>\n",
       "<polyline clip-path=\"url(#clip562)\" style=\"stroke:#000000; stroke-linecap:butt; stroke-linejoin:round; stroke-width:4; stroke-opacity:1; fill:none\" points=\"\n",
       "  1346.29,1128.91 1346.29,1445.72 1426.86,1445.72 1426.86,1128.91 1346.29,1128.91 \n",
       "  \"/>\n",
       "<path clip-path=\"url(#clip562)\" d=\"\n",
       "M1426.86 1255.63 L1426.86 1445.72 L1507.43 1445.72 L1507.43 1255.63 L1426.86 1255.63 L1426.86 1255.63  Z\n",
       "  \" fill=\"#009af9\" fill-rule=\"evenodd\" fill-opacity=\"1\"/>\n",
       "<polyline clip-path=\"url(#clip562)\" style=\"stroke:#000000; stroke-linecap:butt; stroke-linejoin:round; stroke-width:4; stroke-opacity:1; fill:none\" points=\"\n",
       "  1426.86,1255.63 1426.86,1445.72 1507.43,1445.72 1507.43,1255.63 1426.86,1255.63 \n",
       "  \"/>\n",
       "<path clip-path=\"url(#clip562)\" d=\"\n",
       "M1507.43 1346.15 L1507.43 1445.72 L1588 1445.72 L1588 1346.15 L1507.43 1346.15 L1507.43 1346.15  Z\n",
       "  \" fill=\"#009af9\" fill-rule=\"evenodd\" fill-opacity=\"1\"/>\n",
       "<polyline clip-path=\"url(#clip562)\" style=\"stroke:#000000; stroke-linecap:butt; stroke-linejoin:round; stroke-width:4; stroke-opacity:1; fill:none\" points=\"\n",
       "  1507.43,1346.15 1507.43,1445.72 1588,1445.72 1588,1346.15 1507.43,1346.15 \n",
       "  \"/>\n",
       "<path clip-path=\"url(#clip562)\" d=\"\n",
       "M1588 1427.61 L1588 1445.72 L1668.57 1445.72 L1668.57 1427.61 L1588 1427.61 L1588 1427.61  Z\n",
       "  \" fill=\"#009af9\" fill-rule=\"evenodd\" fill-opacity=\"1\"/>\n",
       "<polyline clip-path=\"url(#clip562)\" style=\"stroke:#000000; stroke-linecap:butt; stroke-linejoin:round; stroke-width:4; stroke-opacity:1; fill:none\" points=\"\n",
       "  1588,1427.61 1588,1445.72 1668.57,1445.72 1668.57,1427.61 1588,1427.61 \n",
       "  \"/>\n",
       "<path clip-path=\"url(#clip562)\" d=\"\n",
       "M1668.57 1436.66 L1668.57 1445.72 L1749.14 1445.72 L1749.14 1436.66 L1668.57 1436.66 L1668.57 1436.66  Z\n",
       "  \" fill=\"#009af9\" fill-rule=\"evenodd\" fill-opacity=\"1\"/>\n",
       "<polyline clip-path=\"url(#clip562)\" style=\"stroke:#000000; stroke-linecap:butt; stroke-linejoin:round; stroke-width:4; stroke-opacity:1; fill:none\" points=\"\n",
       "  1668.57,1436.66 1668.57,1445.72 1749.14,1445.72 1749.14,1436.66 1668.57,1436.66 \n",
       "  \"/>\n",
       "<path clip-path=\"url(#clip562)\" d=\"\n",
       "M1749.14 1445.72 L1749.14 1445.72 L1829.72 1445.72 L1829.72 1445.72 L1749.14 1445.72 L1749.14 1445.72  Z\n",
       "  \" fill=\"#009af9\" fill-rule=\"evenodd\" fill-opacity=\"1\"/>\n",
       "<polyline clip-path=\"url(#clip562)\" style=\"stroke:#000000; stroke-linecap:butt; stroke-linejoin:round; stroke-width:4; stroke-opacity:1; fill:none\" points=\"\n",
       "  1749.14,1445.72 1749.14,1445.72 1829.72,1445.72 1749.14,1445.72 \n",
       "  \"/>\n",
       "<path clip-path=\"url(#clip562)\" d=\"\n",
       "M1829.72 1436.66 L1829.72 1445.72 L1910.29 1445.72 L1910.29 1436.66 L1829.72 1436.66 L1829.72 1436.66  Z\n",
       "  \" fill=\"#009af9\" fill-rule=\"evenodd\" fill-opacity=\"1\"/>\n",
       "<polyline clip-path=\"url(#clip562)\" style=\"stroke:#000000; stroke-linecap:butt; stroke-linejoin:round; stroke-width:4; stroke-opacity:1; fill:none\" points=\"\n",
       "  1829.72,1436.66 1829.72,1445.72 1910.29,1445.72 1910.29,1436.66 1829.72,1436.66 \n",
       "  \"/>\n",
       "<path clip-path=\"url(#clip562)\" d=\"\n",
       "M1910.29 1445.72 L1910.29 1445.72 L1990.86 1445.72 L1990.86 1445.72 L1910.29 1445.72 L1910.29 1445.72  Z\n",
       "  \" fill=\"#009af9\" fill-rule=\"evenodd\" fill-opacity=\"1\"/>\n",
       "<polyline clip-path=\"url(#clip562)\" style=\"stroke:#000000; stroke-linecap:butt; stroke-linejoin:round; stroke-width:4; stroke-opacity:1; fill:none\" points=\"\n",
       "  1910.29,1445.72 1910.29,1445.72 1990.86,1445.72 1910.29,1445.72 \n",
       "  \"/>\n",
       "<path clip-path=\"url(#clip562)\" d=\"\n",
       "M1990.86 1445.72 L1990.86 1445.72 L2071.43 1445.72 L2071.43 1445.72 L1990.86 1445.72 L1990.86 1445.72  Z\n",
       "  \" fill=\"#009af9\" fill-rule=\"evenodd\" fill-opacity=\"1\"/>\n",
       "<polyline clip-path=\"url(#clip562)\" style=\"stroke:#000000; stroke-linecap:butt; stroke-linejoin:round; stroke-width:4; stroke-opacity:1; fill:none\" points=\"\n",
       "  1990.86,1445.72 1990.86,1445.72 2071.43,1445.72 1990.86,1445.72 \n",
       "  \"/>\n",
       "<path clip-path=\"url(#clip562)\" d=\"\n",
       "M2071.43 1445.72 L2071.43 1445.72 L2152 1445.72 L2152 1445.72 L2071.43 1445.72 L2071.43 1445.72  Z\n",
       "  \" fill=\"#009af9\" fill-rule=\"evenodd\" fill-opacity=\"1\"/>\n",
       "<polyline clip-path=\"url(#clip562)\" style=\"stroke:#000000; stroke-linecap:butt; stroke-linejoin:round; stroke-width:4; stroke-opacity:1; fill:none\" points=\"\n",
       "  2071.43,1445.72 2071.43,1445.72 2152,1445.72 2071.43,1445.72 \n",
       "  \"/>\n",
       "<path clip-path=\"url(#clip562)\" d=\"\n",
       "M2152 1436.66 L2152 1445.72 L2232.58 1445.72 L2232.58 1436.66 L2152 1436.66 L2152 1436.66  Z\n",
       "  \" fill=\"#009af9\" fill-rule=\"evenodd\" fill-opacity=\"1\"/>\n",
       "<polyline clip-path=\"url(#clip562)\" style=\"stroke:#000000; stroke-linecap:butt; stroke-linejoin:round; stroke-width:4; stroke-opacity:1; fill:none\" points=\"\n",
       "  2152,1436.66 2152,1445.72 2232.58,1445.72 2232.58,1436.66 2152,1436.66 \n",
       "  \"/>\n",
       "<circle clip-path=\"url(#clip562)\" style=\"fill:#009af9; stroke:none; fill-opacity:0\" cx=\"339.139\" cy=\"1427.61\" r=\"2\"/>\n",
       "<circle clip-path=\"url(#clip562)\" style=\"fill:#009af9; stroke:none; fill-opacity:0\" cx=\"419.711\" cy=\"1382.35\" r=\"2\"/>\n",
       "<circle clip-path=\"url(#clip562)\" style=\"fill:#009af9; stroke:none; fill-opacity:0\" cx=\"500.282\" cy=\"1382.35\" r=\"2\"/>\n",
       "<circle clip-path=\"url(#clip562)\" style=\"fill:#009af9; stroke:none; fill-opacity:0\" cx=\"580.854\" cy=\"1237.53\" r=\"2\"/>\n",
       "<circle clip-path=\"url(#clip562)\" style=\"fill:#009af9; stroke:none; fill-opacity:0\" cx=\"661.426\" cy=\"1002.19\" r=\"2\"/>\n",
       "<circle clip-path=\"url(#clip562)\" style=\"fill:#009af9; stroke:none; fill-opacity:0\" cx=\"741.998\" cy=\"857.362\" r=\"2\"/>\n",
       "<circle clip-path=\"url(#clip562)\" style=\"fill:#009af9; stroke:none; fill-opacity:0\" cx=\"822.569\" cy=\"450.04\" r=\"2\"/>\n",
       "<circle clip-path=\"url(#clip562)\" style=\"fill:#009af9; stroke:none; fill-opacity:0\" cx=\"903.141\" cy=\"386.679\" r=\"2\"/>\n",
       "<circle clip-path=\"url(#clip562)\" style=\"fill:#009af9; stroke:none; fill-opacity:0\" cx=\"983.713\" cy=\"323.318\" r=\"2\"/>\n",
       "<circle clip-path=\"url(#clip562)\" style=\"fill:#009af9; stroke:none; fill-opacity:0\" cx=\"1064.28\" cy=\"87.9763\" r=\"2\"/>\n",
       "<circle clip-path=\"url(#clip562)\" style=\"fill:#009af9; stroke:none; fill-opacity:0\" cx=\"1144.86\" cy=\"431.937\" r=\"2\"/>\n",
       "<circle clip-path=\"url(#clip562)\" style=\"fill:#009af9; stroke:none; fill-opacity:0\" cx=\"1225.43\" cy=\"603.917\" r=\"2\"/>\n",
       "<circle clip-path=\"url(#clip562)\" style=\"fill:#009af9; stroke:none; fill-opacity:0\" cx=\"1306\" cy=\"821.156\" r=\"2\"/>\n",
       "<circle clip-path=\"url(#clip562)\" style=\"fill:#009af9; stroke:none; fill-opacity:0\" cx=\"1386.57\" cy=\"1128.91\" r=\"2\"/>\n",
       "<circle clip-path=\"url(#clip562)\" style=\"fill:#009af9; stroke:none; fill-opacity:0\" cx=\"1467.14\" cy=\"1255.63\" r=\"2\"/>\n",
       "<circle clip-path=\"url(#clip562)\" style=\"fill:#009af9; stroke:none; fill-opacity:0\" cx=\"1547.72\" cy=\"1346.15\" r=\"2\"/>\n",
       "<circle clip-path=\"url(#clip562)\" style=\"fill:#009af9; stroke:none; fill-opacity:0\" cx=\"1628.29\" cy=\"1427.61\" r=\"2\"/>\n",
       "<circle clip-path=\"url(#clip562)\" style=\"fill:#009af9; stroke:none; fill-opacity:0\" cx=\"1708.86\" cy=\"1436.66\" r=\"2\"/>\n",
       "<circle clip-path=\"url(#clip562)\" style=\"fill:#009af9; stroke:none; fill-opacity:0\" cx=\"1789.43\" cy=\"1445.72\" r=\"2\"/>\n",
       "<circle clip-path=\"url(#clip562)\" style=\"fill:#009af9; stroke:none; fill-opacity:0\" cx=\"1870\" cy=\"1436.66\" r=\"2\"/>\n",
       "<circle clip-path=\"url(#clip562)\" style=\"fill:#009af9; stroke:none; fill-opacity:0\" cx=\"1950.57\" cy=\"1445.72\" r=\"2\"/>\n",
       "<circle clip-path=\"url(#clip562)\" style=\"fill:#009af9; stroke:none; fill-opacity:0\" cx=\"2031.15\" cy=\"1445.72\" r=\"2\"/>\n",
       "<circle clip-path=\"url(#clip562)\" style=\"fill:#009af9; stroke:none; fill-opacity:0\" cx=\"2111.72\" cy=\"1445.72\" r=\"2\"/>\n",
       "<circle clip-path=\"url(#clip562)\" style=\"fill:#009af9; stroke:none; fill-opacity:0\" cx=\"2192.29\" cy=\"1436.66\" r=\"2\"/>\n",
       "<polyline clip-path=\"url(#clip562)\" style=\"stroke:#e26f46; stroke-linecap:butt; stroke-linejoin:round; stroke-width:4; stroke-opacity:1; fill:none\" points=\"\n",
       "  218.281,1443.25 234.396,1442.56 250.51,1441.69 266.624,1440.61 282.739,1439.28 298.853,1437.63 314.967,1435.62 331.082,1433.17 347.196,1430.2 363.31,1426.62 \n",
       "  379.425,1422.33 395.539,1417.23 411.653,1411.18 427.768,1404.06 443.882,1395.71 459.997,1386 476.111,1374.76 492.225,1361.82 508.34,1347.02 524.454,1330.18 \n",
       "  540.568,1311.15 556.683,1289.77 572.797,1265.88 588.911,1239.37 605.026,1210.14 621.14,1178.1 637.254,1143.23 653.369,1105.51 669.483,1065.01 685.597,1021.8 \n",
       "  701.712,976.043 717.826,927.943 733.941,877.764 750.055,825.829 766.169,772.519 782.284,718.272 798.398,663.573 814.512,608.956 830.627,554.989 846.741,502.272 \n",
       "  862.855,451.418 878.97,403.049 895.084,357.78 911.198,316.208 927.313,278.896 943.427,246.363 959.541,219.072 975.656,197.417 991.77,181.715 1007.88,172.199 \n",
       "  1024,169.012 1040.11,172.199 1056.23,181.715 1072.34,197.417 1088.46,219.072 1104.57,246.363 1120.68,278.896 1136.8,316.208 1152.91,357.78 1169.03,403.049 \n",
       "  1185.14,451.418 1201.26,502.272 1217.37,554.989 1233.49,608.956 1249.6,663.573 1265.71,718.272 1281.83,772.519 1297.94,825.829 1314.06,877.764 1330.17,927.943 \n",
       "  1346.29,976.043 1362.4,1021.8 1378.51,1065.01 1394.63,1105.51 1410.74,1143.23 1426.86,1178.1 1442.97,1210.14 1459.09,1239.37 1475.2,1265.88 1491.31,1289.77 \n",
       "  1507.43,1311.15 1523.54,1330.18 1539.66,1347.02 1555.77,1361.82 1571.89,1374.76 1588,1386 1604.12,1395.71 1620.23,1404.06 1636.34,1411.18 1652.46,1417.23 \n",
       "  1668.57,1422.33 1684.69,1426.62 1700.8,1430.2 1716.92,1433.17 1733.03,1435.62 1749.14,1437.63 1765.26,1439.28 1781.37,1440.61 1797.49,1441.69 1813.6,1442.56 \n",
       "  1829.72,1443.25 \n",
       "  \"/>\n",
       "<path clip-path=\"url(#clip560)\" d=\"\n",
       "M1983.03 250.738 L2279.53 250.738 L2279.53 95.2176 L1983.03 95.2176  Z\n",
       "  \" fill=\"#ffffff\" fill-rule=\"evenodd\" fill-opacity=\"1\"/>\n",
       "<polyline clip-path=\"url(#clip560)\" style=\"stroke:#000000; stroke-linecap:butt; stroke-linejoin:round; stroke-width:4; stroke-opacity:1; fill:none\" points=\"\n",
       "  1983.03,250.738 2279.53,250.738 2279.53,95.2176 1983.03,95.2176 1983.03,250.738 \n",
       "  \"/>\n",
       "<path clip-path=\"url(#clip560)\" d=\"\n",
       "M2007.44 167.794 L2153.88 167.794 L2153.88 126.322 L2007.44 126.322 L2007.44 167.794  Z\n",
       "  \" fill=\"#009af9\" fill-rule=\"evenodd\" fill-opacity=\"1\"/>\n",
       "<polyline clip-path=\"url(#clip560)\" style=\"stroke:#000000; stroke-linecap:butt; stroke-linejoin:round; stroke-width:4; stroke-opacity:1; fill:none\" points=\"\n",
       "  2007.44,167.794 2153.88,167.794 2153.88,126.322 2007.44,126.322 2007.44,167.794 \n",
       "  \"/>\n",
       "<path clip-path=\"url(#clip560)\" d=\"M2192.13 166.745 Q2190.33 171.375 2188.61 172.787 Q2186.9 174.199 2184.03 174.199 L2180.63 174.199 L2180.63 170.634 L2183.13 170.634 Q2184.89 170.634 2185.86 169.8 Q2186.83 168.967 2188.01 165.865 L2188.78 163.921 L2178.29 138.412 L2182.8 138.412 L2190.91 158.689 L2199.01 138.412 L2203.52 138.412 L2192.13 166.745 Z\" fill=\"#000000\" fill-rule=\"evenodd\" fill-opacity=\"1\" /><path clip-path=\"url(#clip560)\" d=\"M2210.81 160.402 L2218.45 160.402 L2218.45 134.037 L2210.14 135.703 L2210.14 131.444 L2218.41 129.778 L2223.08 129.778 L2223.08 160.402 L2230.72 160.402 L2230.72 164.338 L2210.81 164.338 L2210.81 160.402 Z\" fill=\"#000000\" fill-rule=\"evenodd\" fill-opacity=\"1\" /><polyline clip-path=\"url(#clip560)\" style=\"stroke:#e26f46; stroke-linecap:butt; stroke-linejoin:round; stroke-width:4; stroke-opacity:1; fill:none\" points=\"\n",
       "  2007.44,198.898 2153.88,198.898 \n",
       "  \"/>\n",
       "<path clip-path=\"url(#clip560)\" d=\"M2192.13 218.585 Q2190.33 223.215 2188.61 224.627 Q2186.9 226.039 2184.03 226.039 L2180.63 226.039 L2180.63 222.474 L2183.13 222.474 Q2184.89 222.474 2185.86 221.64 Q2186.83 220.807 2188.01 217.705 L2188.78 215.761 L2178.29 190.252 L2182.8 190.252 L2190.91 210.529 L2199.01 190.252 L2203.52 190.252 L2192.13 218.585 Z\" fill=\"#000000\" fill-rule=\"evenodd\" fill-opacity=\"1\" /><path clip-path=\"url(#clip560)\" d=\"M2214.03 212.242 L2230.35 212.242 L2230.35 216.178 L2208.41 216.178 L2208.41 212.242 Q2211.07 209.488 2215.65 204.858 Q2220.26 200.205 2221.44 198.863 Q2223.68 196.34 2224.56 194.604 Q2225.47 192.844 2225.47 191.155 Q2225.47 188.4 2223.52 186.664 Q2221.6 184.928 2218.5 184.928 Q2216.3 184.928 2213.85 185.692 Q2211.41 186.455 2208.64 188.006 L2208.64 183.284 Q2211.46 182.15 2213.91 181.571 Q2216.37 180.993 2218.41 180.993 Q2223.78 180.993 2226.97 183.678 Q2230.16 186.363 2230.16 190.854 Q2230.16 192.983 2229.35 194.905 Q2228.57 196.803 2226.46 199.395 Q2225.88 200.067 2222.78 203.284 Q2219.68 206.479 2214.03 212.242 Z\" fill=\"#000000\" fill-rule=\"evenodd\" fill-opacity=\"1\" /></svg>\n"
      ],
      "image/svg+xml": [
       "<?xml version=\"1.0\" encoding=\"utf-8\"?>\n",
       "<svg xmlns=\"http://www.w3.org/2000/svg\" xmlns:xlink=\"http://www.w3.org/1999/xlink\" width=\"600\" height=\"400\" viewBox=\"0 0 2400 1600\">\n",
       "<defs>\n",
       "  <clipPath id=\"clip530\">\n",
       "    <rect x=\"0\" y=\"0\" width=\"2400\" height=\"1600\"/>\n",
       "  </clipPath>\n",
       "</defs>\n",
       "<path clip-path=\"url(#clip530)\" d=\"\n",
       "M0 1600 L2400 1600 L2400 0 L0 0  Z\n",
       "  \" fill=\"#ffffff\" fill-rule=\"evenodd\" fill-opacity=\"1\"/>\n",
       "<defs>\n",
       "  <clipPath id=\"clip531\">\n",
       "    <rect x=\"480\" y=\"0\" width=\"1681\" height=\"1600\"/>\n",
       "  </clipPath>\n",
       "</defs>\n",
       "<path clip-path=\"url(#clip530)\" d=\"\n",
       "M156.112 1486.45 L2352.76 1486.45 L2352.76 47.2441 L156.112 47.2441  Z\n",
       "  \" fill=\"#ffffff\" fill-rule=\"evenodd\" fill-opacity=\"1\"/>\n",
       "<defs>\n",
       "  <clipPath id=\"clip532\">\n",
       "    <rect x=\"156\" y=\"47\" width=\"2198\" height=\"1440\"/>\n",
       "  </clipPath>\n",
       "</defs>\n",
       "<polyline clip-path=\"url(#clip532)\" style=\"stroke:#000000; stroke-linecap:butt; stroke-linejoin:round; stroke-width:2; stroke-opacity:0.1; fill:none\" points=\"\n",
       "  540.568,1486.45 540.568,47.2441 \n",
       "  \"/>\n",
       "<polyline clip-path=\"url(#clip532)\" style=\"stroke:#000000; stroke-linecap:butt; stroke-linejoin:round; stroke-width:2; stroke-opacity:0.1; fill:none\" points=\"\n",
       "  1024,1486.45 1024,47.2441 \n",
       "  \"/>\n",
       "<polyline clip-path=\"url(#clip532)\" style=\"stroke:#000000; stroke-linecap:butt; stroke-linejoin:round; stroke-width:2; stroke-opacity:0.1; fill:none\" points=\"\n",
       "  1507.43,1486.45 1507.43,47.2441 \n",
       "  \"/>\n",
       "<polyline clip-path=\"url(#clip532)\" style=\"stroke:#000000; stroke-linecap:butt; stroke-linejoin:round; stroke-width:2; stroke-opacity:0.1; fill:none\" points=\"\n",
       "  1990.86,1486.45 1990.86,47.2441 \n",
       "  \"/>\n",
       "<polyline clip-path=\"url(#clip530)\" style=\"stroke:#000000; stroke-linecap:butt; stroke-linejoin:round; stroke-width:4; stroke-opacity:1; fill:none\" points=\"\n",
       "  156.112,1486.45 2352.76,1486.45 \n",
       "  \"/>\n",
       "<polyline clip-path=\"url(#clip530)\" style=\"stroke:#000000; stroke-linecap:butt; stroke-linejoin:round; stroke-width:4; stroke-opacity:1; fill:none\" points=\"\n",
       "  540.568,1486.45 540.568,1467.55 \n",
       "  \"/>\n",
       "<polyline clip-path=\"url(#clip530)\" style=\"stroke:#000000; stroke-linecap:butt; stroke-linejoin:round; stroke-width:4; stroke-opacity:1; fill:none\" points=\"\n",
       "  1024,1486.45 1024,1467.55 \n",
       "  \"/>\n",
       "<polyline clip-path=\"url(#clip530)\" style=\"stroke:#000000; stroke-linecap:butt; stroke-linejoin:round; stroke-width:4; stroke-opacity:1; fill:none\" points=\"\n",
       "  1507.43,1486.45 1507.43,1467.55 \n",
       "  \"/>\n",
       "<polyline clip-path=\"url(#clip530)\" style=\"stroke:#000000; stroke-linecap:butt; stroke-linejoin:round; stroke-width:4; stroke-opacity:1; fill:none\" points=\"\n",
       "  1990.86,1486.45 1990.86,1467.55 \n",
       "  \"/>\n",
       "<path clip-path=\"url(#clip530)\" d=\"M510.036 1532.02 L539.712 1532.02 L539.712 1535.95 L510.036 1535.95 L510.036 1532.02 Z\" fill=\"#000000\" fill-rule=\"evenodd\" fill-opacity=\"1\" /><path clip-path=\"url(#clip530)\" d=\"M563.971 1530.21 Q567.327 1530.93 569.202 1533.2 Q571.101 1535.47 571.101 1538.8 Q571.101 1543.92 567.582 1546.72 Q564.064 1549.52 557.582 1549.52 Q555.406 1549.52 553.091 1549.08 Q550.8 1548.66 548.346 1547.81 L548.346 1543.29 Q550.29 1544.43 552.605 1545.01 Q554.92 1545.58 557.443 1545.58 Q561.841 1545.58 564.133 1543.85 Q566.448 1542.11 566.448 1538.8 Q566.448 1535.75 564.295 1534.03 Q562.165 1532.3 558.346 1532.3 L554.318 1532.3 L554.318 1528.45 L558.531 1528.45 Q561.98 1528.45 563.809 1527.09 Q565.638 1525.7 565.638 1523.11 Q565.638 1520.45 563.739 1519.03 Q561.864 1517.6 558.346 1517.6 Q556.425 1517.6 554.226 1518.01 Q552.027 1518.43 549.388 1519.31 L549.388 1515.14 Q552.05 1514.4 554.365 1514.03 Q556.702 1513.66 558.763 1513.66 Q564.087 1513.66 567.189 1516.09 Q570.29 1518.5 570.29 1522.62 Q570.29 1525.49 568.647 1527.48 Q567.003 1529.45 563.971 1530.21 Z\" fill=\"#000000\" fill-rule=\"evenodd\" fill-opacity=\"1\" /><path clip-path=\"url(#clip530)\" d=\"M1024 1517.37 Q1020.39 1517.37 1018.56 1520.93 Q1016.75 1524.47 1016.75 1531.6 Q1016.75 1538.71 1018.56 1542.27 Q1020.39 1545.82 1024 1545.82 Q1027.63 1545.82 1029.44 1542.27 Q1031.27 1538.71 1031.27 1531.6 Q1031.27 1524.47 1029.44 1520.93 Q1027.63 1517.37 1024 1517.37 M1024 1513.66 Q1029.81 1513.66 1032.86 1518.27 Q1035.94 1522.85 1035.94 1531.6 Q1035.94 1540.33 1032.86 1544.94 Q1029.81 1549.52 1024 1549.52 Q1018.19 1549.52 1015.11 1544.94 Q1012.05 1540.33 1012.05 1531.6 Q1012.05 1522.85 1015.11 1518.27 Q1018.19 1513.66 1024 1513.66 Z\" fill=\"#000000\" fill-rule=\"evenodd\" fill-opacity=\"1\" /><path clip-path=\"url(#clip530)\" d=\"M1511.68 1530.21 Q1515.03 1530.93 1516.91 1533.2 Q1518.81 1535.47 1518.81 1538.8 Q1518.81 1543.92 1515.29 1546.72 Q1511.77 1549.52 1505.29 1549.52 Q1503.11 1549.52 1500.8 1549.08 Q1498.51 1548.66 1496.05 1547.81 L1496.05 1543.29 Q1498 1544.43 1500.31 1545.01 Q1502.63 1545.58 1505.15 1545.58 Q1509.55 1545.58 1511.84 1543.85 Q1514.15 1542.11 1514.15 1538.8 Q1514.15 1535.75 1512 1534.03 Q1509.87 1532.3 1506.05 1532.3 L1502.02 1532.3 L1502.02 1528.45 L1506.24 1528.45 Q1509.69 1528.45 1511.51 1527.09 Q1513.34 1525.7 1513.34 1523.11 Q1513.34 1520.45 1511.45 1519.03 Q1509.57 1517.6 1506.05 1517.6 Q1504.13 1517.6 1501.93 1518.01 Q1499.73 1518.43 1497.09 1519.31 L1497.09 1515.14 Q1499.76 1514.4 1502.07 1514.03 Q1504.41 1513.66 1506.47 1513.66 Q1511.79 1513.66 1514.89 1516.09 Q1518 1518.5 1518 1522.62 Q1518 1525.49 1516.35 1527.48 Q1514.71 1529.45 1511.68 1530.21 Z\" fill=\"#000000\" fill-rule=\"evenodd\" fill-opacity=\"1\" /><path clip-path=\"url(#clip530)\" d=\"M1991.26 1529.7 Q1988.12 1529.7 1986.26 1531.86 Q1984.44 1534.01 1984.44 1537.76 Q1984.44 1541.49 1986.26 1543.66 Q1988.12 1545.82 1991.26 1545.82 Q1994.41 1545.82 1996.24 1543.66 Q1998.09 1541.49 1998.09 1537.76 Q1998.09 1534.01 1996.24 1531.86 Q1994.41 1529.7 1991.26 1529.7 M2000.55 1515.05 L2000.55 1519.31 Q1998.79 1518.48 1996.98 1518.04 Q1995.2 1517.6 1993.44 1517.6 Q1988.81 1517.6 1986.36 1520.72 Q1983.93 1523.85 1983.58 1530.17 Q1984.95 1528.15 1987.01 1527.09 Q1989.07 1526 1991.54 1526 Q1996.75 1526 1999.76 1529.17 Q2002.79 1532.32 2002.79 1537.76 Q2002.79 1543.08 1999.64 1546.3 Q1996.5 1549.52 1991.26 1549.52 Q1985.27 1549.52 1982.1 1544.94 Q1978.93 1540.33 1978.93 1531.6 Q1978.93 1523.41 1982.82 1518.55 Q1986.7 1513.66 1993.26 1513.66 Q1995.01 1513.66 1996.8 1514.01 Q1998.6 1514.36 2000.55 1515.05 Z\" fill=\"#000000\" fill-rule=\"evenodd\" fill-opacity=\"1\" /><polyline clip-path=\"url(#clip532)\" style=\"stroke:#000000; stroke-linecap:butt; stroke-linejoin:round; stroke-width:2; stroke-opacity:0.1; fill:none\" points=\"\n",
       "  156.112,1445.72 2352.76,1445.72 \n",
       "  \"/>\n",
       "<polyline clip-path=\"url(#clip532)\" style=\"stroke:#000000; stroke-linecap:butt; stroke-linejoin:round; stroke-width:2; stroke-opacity:0.1; fill:none\" points=\"\n",
       "  156.112,993.136 2352.76,993.136 \n",
       "  \"/>\n",
       "<polyline clip-path=\"url(#clip532)\" style=\"stroke:#000000; stroke-linecap:butt; stroke-linejoin:round; stroke-width:2; stroke-opacity:0.1; fill:none\" points=\"\n",
       "  156.112,540.556 2352.76,540.556 \n",
       "  \"/>\n",
       "<polyline clip-path=\"url(#clip532)\" style=\"stroke:#000000; stroke-linecap:butt; stroke-linejoin:round; stroke-width:2; stroke-opacity:0.1; fill:none\" points=\"\n",
       "  156.112,87.9763 2352.76,87.9763 \n",
       "  \"/>\n",
       "<polyline clip-path=\"url(#clip530)\" style=\"stroke:#000000; stroke-linecap:butt; stroke-linejoin:round; stroke-width:4; stroke-opacity:1; fill:none\" points=\"\n",
       "  156.112,1486.45 156.112,47.2441 \n",
       "  \"/>\n",
       "<polyline clip-path=\"url(#clip530)\" style=\"stroke:#000000; stroke-linecap:butt; stroke-linejoin:round; stroke-width:4; stroke-opacity:1; fill:none\" points=\"\n",
       "  156.112,1445.72 175.01,1445.72 \n",
       "  \"/>\n",
       "<polyline clip-path=\"url(#clip530)\" style=\"stroke:#000000; stroke-linecap:butt; stroke-linejoin:round; stroke-width:4; stroke-opacity:1; fill:none\" points=\"\n",
       "  156.112,993.136 175.01,993.136 \n",
       "  \"/>\n",
       "<polyline clip-path=\"url(#clip530)\" style=\"stroke:#000000; stroke-linecap:butt; stroke-linejoin:round; stroke-width:4; stroke-opacity:1; fill:none\" points=\"\n",
       "  156.112,540.556 175.01,540.556 \n",
       "  \"/>\n",
       "<polyline clip-path=\"url(#clip530)\" style=\"stroke:#000000; stroke-linecap:butt; stroke-linejoin:round; stroke-width:4; stroke-opacity:1; fill:none\" points=\"\n",
       "  156.112,87.9763 175.01,87.9763 \n",
       "  \"/>\n",
       "<path clip-path=\"url(#clip530)\" d=\"M62.9365 1431.51 Q59.3254 1431.51 57.4967 1435.08 Q55.6912 1438.62 55.6912 1445.75 Q55.6912 1452.86 57.4967 1456.42 Q59.3254 1459.96 62.9365 1459.96 Q66.5707 1459.96 68.3763 1456.42 Q70.205 1452.86 70.205 1445.75 Q70.205 1438.62 68.3763 1435.08 Q66.5707 1431.51 62.9365 1431.51 M62.9365 1427.81 Q68.7467 1427.81 71.8022 1432.42 Q74.8809 1437 74.8809 1445.75 Q74.8809 1454.48 71.8022 1459.08 Q68.7467 1463.67 62.9365 1463.67 Q57.1264 1463.67 54.0477 1459.08 Q50.9921 1454.48 50.9921 1445.75 Q50.9921 1437 54.0477 1432.42 Q57.1264 1427.81 62.9365 1427.81 Z\" fill=\"#000000\" fill-rule=\"evenodd\" fill-opacity=\"1\" /><path clip-path=\"url(#clip530)\" d=\"M83.0984 1457.12 L87.9827 1457.12 L87.9827 1463 L83.0984 1463 L83.0984 1457.12 Z\" fill=\"#000000\" fill-rule=\"evenodd\" fill-opacity=\"1\" /><path clip-path=\"url(#clip530)\" d=\"M108.168 1431.51 Q104.557 1431.51 102.728 1435.08 Q100.922 1438.62 100.922 1445.75 Q100.922 1452.86 102.728 1456.42 Q104.557 1459.96 108.168 1459.96 Q111.802 1459.96 113.608 1456.42 Q115.436 1452.86 115.436 1445.75 Q115.436 1438.62 113.608 1435.08 Q111.802 1431.51 108.168 1431.51 M108.168 1427.81 Q113.978 1427.81 117.033 1432.42 Q120.112 1437 120.112 1445.75 Q120.112 1454.48 117.033 1459.08 Q113.978 1463.67 108.168 1463.67 Q102.358 1463.67 99.2789 1459.08 Q96.2234 1454.48 96.2234 1445.75 Q96.2234 1437 99.2789 1432.42 Q102.358 1427.81 108.168 1427.81 Z\" fill=\"#000000\" fill-rule=\"evenodd\" fill-opacity=\"1\" /><path clip-path=\"url(#clip530)\" d=\"M64.1634 978.935 Q60.5523 978.935 58.7236 982.499 Q56.918 986.041 56.918 993.171 Q56.918 1000.28 58.7236 1003.84 Q60.5523 1007.38 64.1634 1007.38 Q67.7976 1007.38 69.6031 1003.84 Q71.4318 1000.28 71.4318 993.171 Q71.4318 986.041 69.6031 982.499 Q67.7976 978.935 64.1634 978.935 M64.1634 975.231 Q69.9735 975.231 73.029 979.837 Q76.1077 984.421 76.1077 993.171 Q76.1077 1001.9 73.029 1006.5 Q69.9735 1011.09 64.1634 1011.09 Q58.3532 1011.09 55.2745 1006.5 Q52.219 1001.9 52.219 993.171 Q52.219 984.421 55.2745 979.837 Q58.3532 975.231 64.1634 975.231 Z\" fill=\"#000000\" fill-rule=\"evenodd\" fill-opacity=\"1\" /><path clip-path=\"url(#clip530)\" d=\"M84.3253 1004.54 L89.2095 1004.54 L89.2095 1010.42 L84.3253 1010.42 L84.3253 1004.54 Z\" fill=\"#000000\" fill-rule=\"evenodd\" fill-opacity=\"1\" /><path clip-path=\"url(#clip530)\" d=\"M100.205 1006.48 L107.844 1006.48 L107.844 980.115 L99.5335 981.782 L99.5335 977.523 L107.797 975.856 L112.473 975.856 L112.473 1006.48 L120.112 1006.48 L120.112 1010.42 L100.205 1010.42 L100.205 1006.48 Z\" fill=\"#000000\" fill-rule=\"evenodd\" fill-opacity=\"1\" /><path clip-path=\"url(#clip530)\" d=\"M64.5337 526.355 Q60.9226 526.355 59.0939 529.92 Q57.2884 533.461 57.2884 540.591 Q57.2884 547.697 59.0939 551.262 Q60.9226 554.804 64.5337 554.804 Q68.168 554.804 69.9735 551.262 Q71.8022 547.697 71.8022 540.591 Q71.8022 533.461 69.9735 529.92 Q68.168 526.355 64.5337 526.355 M64.5337 522.651 Q70.3439 522.651 73.3994 527.258 Q76.4781 531.841 76.4781 540.591 Q76.4781 549.318 73.3994 553.924 Q70.3439 558.507 64.5337 558.507 Q58.7236 558.507 55.6449 553.924 Q52.5893 549.318 52.5893 540.591 Q52.5893 531.841 55.6449 527.258 Q58.7236 522.651 64.5337 522.651 Z\" fill=\"#000000\" fill-rule=\"evenodd\" fill-opacity=\"1\" /><path clip-path=\"url(#clip530)\" d=\"M84.6956 551.956 L89.5799 551.956 L89.5799 557.836 L84.6956 557.836 L84.6956 551.956 Z\" fill=\"#000000\" fill-rule=\"evenodd\" fill-opacity=\"1\" /><path clip-path=\"url(#clip530)\" d=\"M103.793 553.901 L120.112 553.901 L120.112 557.836 L98.1678 557.836 L98.1678 553.901 Q100.83 551.146 105.413 546.517 Q110.02 541.864 111.2 540.521 Q113.445 537.998 114.325 536.262 Q115.228 534.503 115.228 532.813 Q115.228 530.058 113.283 528.322 Q111.362 526.586 108.26 526.586 Q106.061 526.586 103.608 527.35 Q101.177 528.114 98.3993 529.665 L98.3993 524.943 Q101.223 523.808 103.677 523.23 Q106.131 522.651 108.168 522.651 Q113.538 522.651 116.733 525.336 Q119.927 528.021 119.927 532.512 Q119.927 534.642 119.117 536.563 Q118.33 538.461 116.223 541.054 Q115.645 541.725 112.543 544.943 Q109.441 548.137 103.793 553.901 Z\" fill=\"#000000\" fill-rule=\"evenodd\" fill-opacity=\"1\" /><path clip-path=\"url(#clip530)\" d=\"M63.5847 73.775 Q59.9736 73.775 58.1449 77.3398 Q56.3393 80.8814 56.3393 88.011 Q56.3393 95.1174 58.1449 98.6822 Q59.9736 102.224 63.5847 102.224 Q67.2189 102.224 69.0244 98.6822 Q70.8531 95.1174 70.8531 88.011 Q70.8531 80.8814 69.0244 77.3398 Q67.2189 73.775 63.5847 73.775 M63.5847 70.0713 Q69.3948 70.0713 72.4503 74.6777 Q75.529 79.261 75.529 88.011 Q75.529 96.7378 72.4503 101.344 Q69.3948 105.928 63.5847 105.928 Q57.7745 105.928 54.6958 101.344 Q51.6403 96.7378 51.6403 88.011 Q51.6403 79.261 54.6958 74.6777 Q57.7745 70.0713 63.5847 70.0713 Z\" fill=\"#000000\" fill-rule=\"evenodd\" fill-opacity=\"1\" /><path clip-path=\"url(#clip530)\" d=\"M83.7466 99.3767 L88.6308 99.3767 L88.6308 105.256 L83.7466 105.256 L83.7466 99.3767 Z\" fill=\"#000000\" fill-rule=\"evenodd\" fill-opacity=\"1\" /><path clip-path=\"url(#clip530)\" d=\"M112.983 86.6221 Q116.339 87.3397 118.214 89.6082 Q120.112 91.8767 120.112 95.21 Q120.112 100.326 116.594 103.127 Q113.075 105.928 106.594 105.928 Q104.418 105.928 102.103 105.488 Q99.8113 105.071 97.3576 104.215 L97.3576 99.7008 Q99.3021 100.835 101.617 101.414 Q103.932 101.992 106.455 101.992 Q110.853 101.992 113.145 100.256 Q115.459 98.5202 115.459 95.21 Q115.459 92.1545 113.307 90.4415 Q111.177 88.7054 107.358 88.7054 L103.33 88.7054 L103.33 84.8629 L107.543 84.8629 Q110.992 84.8629 112.82 83.4971 Q114.649 82.1083 114.649 79.5157 Q114.649 76.8537 112.751 75.4416 Q110.876 74.0064 107.358 74.0064 Q105.436 74.0064 103.237 74.4231 Q101.038 74.8398 98.3993 75.7194 L98.3993 71.5528 Q101.061 70.812 103.376 70.4416 Q105.714 70.0713 107.774 70.0713 Q113.098 70.0713 116.2 72.5018 Q119.302 74.9092 119.302 79.0296 Q119.302 81.8999 117.658 83.8907 Q116.015 85.8582 112.983 86.6221 Z\" fill=\"#000000\" fill-rule=\"evenodd\" fill-opacity=\"1\" /><path clip-path=\"url(#clip532)\" d=\"\n",
       "M298.853 1427.61 L298.853 1445.72 L379.425 1445.72 L379.425 1427.61 L298.853 1427.61 L298.853 1427.61  Z\n",
       "  \" fill=\"#009af9\" fill-rule=\"evenodd\" fill-opacity=\"1\"/>\n",
       "<polyline clip-path=\"url(#clip532)\" style=\"stroke:#000000; stroke-linecap:butt; stroke-linejoin:round; stroke-width:4; stroke-opacity:1; fill:none\" points=\"\n",
       "  298.853,1427.61 298.853,1445.72 379.425,1445.72 379.425,1427.61 298.853,1427.61 \n",
       "  \"/>\n",
       "<path clip-path=\"url(#clip532)\" d=\"\n",
       "M379.425 1382.35 L379.425 1445.72 L459.997 1445.72 L459.997 1382.35 L379.425 1382.35 L379.425 1382.35  Z\n",
       "  \" fill=\"#009af9\" fill-rule=\"evenodd\" fill-opacity=\"1\"/>\n",
       "<polyline clip-path=\"url(#clip532)\" style=\"stroke:#000000; stroke-linecap:butt; stroke-linejoin:round; stroke-width:4; stroke-opacity:1; fill:none\" points=\"\n",
       "  379.425,1382.35 379.425,1445.72 459.997,1445.72 459.997,1382.35 379.425,1382.35 \n",
       "  \"/>\n",
       "<path clip-path=\"url(#clip532)\" d=\"\n",
       "M459.997 1382.35 L459.997 1445.72 L540.568 1445.72 L540.568 1382.35 L459.997 1382.35 L459.997 1382.35  Z\n",
       "  \" fill=\"#009af9\" fill-rule=\"evenodd\" fill-opacity=\"1\"/>\n",
       "<polyline clip-path=\"url(#clip532)\" style=\"stroke:#000000; stroke-linecap:butt; stroke-linejoin:round; stroke-width:4; stroke-opacity:1; fill:none\" points=\"\n",
       "  459.997,1382.35 459.997,1445.72 540.568,1445.72 540.568,1382.35 459.997,1382.35 \n",
       "  \"/>\n",
       "<path clip-path=\"url(#clip532)\" d=\"\n",
       "M540.568 1237.53 L540.568 1445.72 L621.14 1445.72 L621.14 1237.53 L540.568 1237.53 L540.568 1237.53  Z\n",
       "  \" fill=\"#009af9\" fill-rule=\"evenodd\" fill-opacity=\"1\"/>\n",
       "<polyline clip-path=\"url(#clip532)\" style=\"stroke:#000000; stroke-linecap:butt; stroke-linejoin:round; stroke-width:4; stroke-opacity:1; fill:none\" points=\"\n",
       "  540.568,1237.53 540.568,1445.72 621.14,1445.72 621.14,1237.53 540.568,1237.53 \n",
       "  \"/>\n",
       "<path clip-path=\"url(#clip532)\" d=\"\n",
       "M621.14 1002.19 L621.14 1445.72 L701.712 1445.72 L701.712 1002.19 L621.14 1002.19 L621.14 1002.19  Z\n",
       "  \" fill=\"#009af9\" fill-rule=\"evenodd\" fill-opacity=\"1\"/>\n",
       "<polyline clip-path=\"url(#clip532)\" style=\"stroke:#000000; stroke-linecap:butt; stroke-linejoin:round; stroke-width:4; stroke-opacity:1; fill:none\" points=\"\n",
       "  621.14,1002.19 621.14,1445.72 701.712,1445.72 701.712,1002.19 621.14,1002.19 \n",
       "  \"/>\n",
       "<path clip-path=\"url(#clip532)\" d=\"\n",
       "M701.712 857.362 L701.712 1445.72 L782.284 1445.72 L782.284 857.362 L701.712 857.362 L701.712 857.362  Z\n",
       "  \" fill=\"#009af9\" fill-rule=\"evenodd\" fill-opacity=\"1\"/>\n",
       "<polyline clip-path=\"url(#clip532)\" style=\"stroke:#000000; stroke-linecap:butt; stroke-linejoin:round; stroke-width:4; stroke-opacity:1; fill:none\" points=\"\n",
       "  701.712,857.362 701.712,1445.72 782.284,1445.72 782.284,857.362 701.712,857.362 \n",
       "  \"/>\n",
       "<path clip-path=\"url(#clip532)\" d=\"\n",
       "M782.284 450.04 L782.284 1445.72 L862.855 1445.72 L862.855 450.04 L782.284 450.04 L782.284 450.04  Z\n",
       "  \" fill=\"#009af9\" fill-rule=\"evenodd\" fill-opacity=\"1\"/>\n",
       "<polyline clip-path=\"url(#clip532)\" style=\"stroke:#000000; stroke-linecap:butt; stroke-linejoin:round; stroke-width:4; stroke-opacity:1; fill:none\" points=\"\n",
       "  782.284,450.04 782.284,1445.72 862.855,1445.72 862.855,450.04 782.284,450.04 \n",
       "  \"/>\n",
       "<path clip-path=\"url(#clip532)\" d=\"\n",
       "M862.855 386.679 L862.855 1445.72 L943.427 1445.72 L943.427 386.679 L862.855 386.679 L862.855 386.679  Z\n",
       "  \" fill=\"#009af9\" fill-rule=\"evenodd\" fill-opacity=\"1\"/>\n",
       "<polyline clip-path=\"url(#clip532)\" style=\"stroke:#000000; stroke-linecap:butt; stroke-linejoin:round; stroke-width:4; stroke-opacity:1; fill:none\" points=\"\n",
       "  862.855,386.679 862.855,1445.72 943.427,1445.72 943.427,386.679 862.855,386.679 \n",
       "  \"/>\n",
       "<path clip-path=\"url(#clip532)\" d=\"\n",
       "M943.427 323.318 L943.427 1445.72 L1024 1445.72 L1024 323.318 L943.427 323.318 L943.427 323.318  Z\n",
       "  \" fill=\"#009af9\" fill-rule=\"evenodd\" fill-opacity=\"1\"/>\n",
       "<polyline clip-path=\"url(#clip532)\" style=\"stroke:#000000; stroke-linecap:butt; stroke-linejoin:round; stroke-width:4; stroke-opacity:1; fill:none\" points=\"\n",
       "  943.427,323.318 943.427,1445.72 1024,1445.72 1024,323.318 943.427,323.318 \n",
       "  \"/>\n",
       "<path clip-path=\"url(#clip532)\" d=\"\n",
       "M1024 87.9763 L1024 1445.72 L1104.57 1445.72 L1104.57 87.9763 L1024 87.9763 L1024 87.9763  Z\n",
       "  \" fill=\"#009af9\" fill-rule=\"evenodd\" fill-opacity=\"1\"/>\n",
       "<polyline clip-path=\"url(#clip532)\" style=\"stroke:#000000; stroke-linecap:butt; stroke-linejoin:round; stroke-width:4; stroke-opacity:1; fill:none\" points=\"\n",
       "  1024,87.9763 1024,1445.72 1104.57,1445.72 1104.57,87.9763 1024,87.9763 \n",
       "  \"/>\n",
       "<path clip-path=\"url(#clip532)\" d=\"\n",
       "M1104.57 431.937 L1104.57 1445.72 L1185.14 1445.72 L1185.14 431.937 L1104.57 431.937 L1104.57 431.937  Z\n",
       "  \" fill=\"#009af9\" fill-rule=\"evenodd\" fill-opacity=\"1\"/>\n",
       "<polyline clip-path=\"url(#clip532)\" style=\"stroke:#000000; stroke-linecap:butt; stroke-linejoin:round; stroke-width:4; stroke-opacity:1; fill:none\" points=\"\n",
       "  1104.57,431.937 1104.57,1445.72 1185.14,1445.72 1185.14,431.937 1104.57,431.937 \n",
       "  \"/>\n",
       "<path clip-path=\"url(#clip532)\" d=\"\n",
       "M1185.14 603.917 L1185.14 1445.72 L1265.71 1445.72 L1265.71 603.917 L1185.14 603.917 L1185.14 603.917  Z\n",
       "  \" fill=\"#009af9\" fill-rule=\"evenodd\" fill-opacity=\"1\"/>\n",
       "<polyline clip-path=\"url(#clip532)\" style=\"stroke:#000000; stroke-linecap:butt; stroke-linejoin:round; stroke-width:4; stroke-opacity:1; fill:none\" points=\"\n",
       "  1185.14,603.917 1185.14,1445.72 1265.71,1445.72 1265.71,603.917 1185.14,603.917 \n",
       "  \"/>\n",
       "<path clip-path=\"url(#clip532)\" d=\"\n",
       "M1265.71 821.156 L1265.71 1445.72 L1346.29 1445.72 L1346.29 821.156 L1265.71 821.156 L1265.71 821.156  Z\n",
       "  \" fill=\"#009af9\" fill-rule=\"evenodd\" fill-opacity=\"1\"/>\n",
       "<polyline clip-path=\"url(#clip532)\" style=\"stroke:#000000; stroke-linecap:butt; stroke-linejoin:round; stroke-width:4; stroke-opacity:1; fill:none\" points=\"\n",
       "  1265.71,821.156 1265.71,1445.72 1346.29,1445.72 1346.29,821.156 1265.71,821.156 \n",
       "  \"/>\n",
       "<path clip-path=\"url(#clip532)\" d=\"\n",
       "M1346.29 1128.91 L1346.29 1445.72 L1426.86 1445.72 L1426.86 1128.91 L1346.29 1128.91 L1346.29 1128.91  Z\n",
       "  \" fill=\"#009af9\" fill-rule=\"evenodd\" fill-opacity=\"1\"/>\n",
       "<polyline clip-path=\"url(#clip532)\" style=\"stroke:#000000; stroke-linecap:butt; stroke-linejoin:round; stroke-width:4; stroke-opacity:1; fill:none\" points=\"\n",
       "  1346.29,1128.91 1346.29,1445.72 1426.86,1445.72 1426.86,1128.91 1346.29,1128.91 \n",
       "  \"/>\n",
       "<path clip-path=\"url(#clip532)\" d=\"\n",
       "M1426.86 1255.63 L1426.86 1445.72 L1507.43 1445.72 L1507.43 1255.63 L1426.86 1255.63 L1426.86 1255.63  Z\n",
       "  \" fill=\"#009af9\" fill-rule=\"evenodd\" fill-opacity=\"1\"/>\n",
       "<polyline clip-path=\"url(#clip532)\" style=\"stroke:#000000; stroke-linecap:butt; stroke-linejoin:round; stroke-width:4; stroke-opacity:1; fill:none\" points=\"\n",
       "  1426.86,1255.63 1426.86,1445.72 1507.43,1445.72 1507.43,1255.63 1426.86,1255.63 \n",
       "  \"/>\n",
       "<path clip-path=\"url(#clip532)\" d=\"\n",
       "M1507.43 1346.15 L1507.43 1445.72 L1588 1445.72 L1588 1346.15 L1507.43 1346.15 L1507.43 1346.15  Z\n",
       "  \" fill=\"#009af9\" fill-rule=\"evenodd\" fill-opacity=\"1\"/>\n",
       "<polyline clip-path=\"url(#clip532)\" style=\"stroke:#000000; stroke-linecap:butt; stroke-linejoin:round; stroke-width:4; stroke-opacity:1; fill:none\" points=\"\n",
       "  1507.43,1346.15 1507.43,1445.72 1588,1445.72 1588,1346.15 1507.43,1346.15 \n",
       "  \"/>\n",
       "<path clip-path=\"url(#clip532)\" d=\"\n",
       "M1588 1427.61 L1588 1445.72 L1668.57 1445.72 L1668.57 1427.61 L1588 1427.61 L1588 1427.61  Z\n",
       "  \" fill=\"#009af9\" fill-rule=\"evenodd\" fill-opacity=\"1\"/>\n",
       "<polyline clip-path=\"url(#clip532)\" style=\"stroke:#000000; stroke-linecap:butt; stroke-linejoin:round; stroke-width:4; stroke-opacity:1; fill:none\" points=\"\n",
       "  1588,1427.61 1588,1445.72 1668.57,1445.72 1668.57,1427.61 1588,1427.61 \n",
       "  \"/>\n",
       "<path clip-path=\"url(#clip532)\" d=\"\n",
       "M1668.57 1436.66 L1668.57 1445.72 L1749.14 1445.72 L1749.14 1436.66 L1668.57 1436.66 L1668.57 1436.66  Z\n",
       "  \" fill=\"#009af9\" fill-rule=\"evenodd\" fill-opacity=\"1\"/>\n",
       "<polyline clip-path=\"url(#clip532)\" style=\"stroke:#000000; stroke-linecap:butt; stroke-linejoin:round; stroke-width:4; stroke-opacity:1; fill:none\" points=\"\n",
       "  1668.57,1436.66 1668.57,1445.72 1749.14,1445.72 1749.14,1436.66 1668.57,1436.66 \n",
       "  \"/>\n",
       "<path clip-path=\"url(#clip532)\" d=\"\n",
       "M1749.14 1445.72 L1749.14 1445.72 L1829.72 1445.72 L1829.72 1445.72 L1749.14 1445.72 L1749.14 1445.72  Z\n",
       "  \" fill=\"#009af9\" fill-rule=\"evenodd\" fill-opacity=\"1\"/>\n",
       "<polyline clip-path=\"url(#clip532)\" style=\"stroke:#000000; stroke-linecap:butt; stroke-linejoin:round; stroke-width:4; stroke-opacity:1; fill:none\" points=\"\n",
       "  1749.14,1445.72 1749.14,1445.72 1829.72,1445.72 1749.14,1445.72 \n",
       "  \"/>\n",
       "<path clip-path=\"url(#clip532)\" d=\"\n",
       "M1829.72 1436.66 L1829.72 1445.72 L1910.29 1445.72 L1910.29 1436.66 L1829.72 1436.66 L1829.72 1436.66  Z\n",
       "  \" fill=\"#009af9\" fill-rule=\"evenodd\" fill-opacity=\"1\"/>\n",
       "<polyline clip-path=\"url(#clip532)\" style=\"stroke:#000000; stroke-linecap:butt; stroke-linejoin:round; stroke-width:4; stroke-opacity:1; fill:none\" points=\"\n",
       "  1829.72,1436.66 1829.72,1445.72 1910.29,1445.72 1910.29,1436.66 1829.72,1436.66 \n",
       "  \"/>\n",
       "<path clip-path=\"url(#clip532)\" d=\"\n",
       "M1910.29 1445.72 L1910.29 1445.72 L1990.86 1445.72 L1990.86 1445.72 L1910.29 1445.72 L1910.29 1445.72  Z\n",
       "  \" fill=\"#009af9\" fill-rule=\"evenodd\" fill-opacity=\"1\"/>\n",
       "<polyline clip-path=\"url(#clip532)\" style=\"stroke:#000000; stroke-linecap:butt; stroke-linejoin:round; stroke-width:4; stroke-opacity:1; fill:none\" points=\"\n",
       "  1910.29,1445.72 1910.29,1445.72 1990.86,1445.72 1910.29,1445.72 \n",
       "  \"/>\n",
       "<path clip-path=\"url(#clip532)\" d=\"\n",
       "M1990.86 1445.72 L1990.86 1445.72 L2071.43 1445.72 L2071.43 1445.72 L1990.86 1445.72 L1990.86 1445.72  Z\n",
       "  \" fill=\"#009af9\" fill-rule=\"evenodd\" fill-opacity=\"1\"/>\n",
       "<polyline clip-path=\"url(#clip532)\" style=\"stroke:#000000; stroke-linecap:butt; stroke-linejoin:round; stroke-width:4; stroke-opacity:1; fill:none\" points=\"\n",
       "  1990.86,1445.72 1990.86,1445.72 2071.43,1445.72 1990.86,1445.72 \n",
       "  \"/>\n",
       "<path clip-path=\"url(#clip532)\" d=\"\n",
       "M2071.43 1445.72 L2071.43 1445.72 L2152 1445.72 L2152 1445.72 L2071.43 1445.72 L2071.43 1445.72  Z\n",
       "  \" fill=\"#009af9\" fill-rule=\"evenodd\" fill-opacity=\"1\"/>\n",
       "<polyline clip-path=\"url(#clip532)\" style=\"stroke:#000000; stroke-linecap:butt; stroke-linejoin:round; stroke-width:4; stroke-opacity:1; fill:none\" points=\"\n",
       "  2071.43,1445.72 2071.43,1445.72 2152,1445.72 2071.43,1445.72 \n",
       "  \"/>\n",
       "<path clip-path=\"url(#clip532)\" d=\"\n",
       "M2152 1436.66 L2152 1445.72 L2232.58 1445.72 L2232.58 1436.66 L2152 1436.66 L2152 1436.66  Z\n",
       "  \" fill=\"#009af9\" fill-rule=\"evenodd\" fill-opacity=\"1\"/>\n",
       "<polyline clip-path=\"url(#clip532)\" style=\"stroke:#000000; stroke-linecap:butt; stroke-linejoin:round; stroke-width:4; stroke-opacity:1; fill:none\" points=\"\n",
       "  2152,1436.66 2152,1445.72 2232.58,1445.72 2232.58,1436.66 2152,1436.66 \n",
       "  \"/>\n",
       "<circle clip-path=\"url(#clip532)\" style=\"fill:#009af9; stroke:none; fill-opacity:0\" cx=\"339.139\" cy=\"1427.61\" r=\"2\"/>\n",
       "<circle clip-path=\"url(#clip532)\" style=\"fill:#009af9; stroke:none; fill-opacity:0\" cx=\"419.711\" cy=\"1382.35\" r=\"2\"/>\n",
       "<circle clip-path=\"url(#clip532)\" style=\"fill:#009af9; stroke:none; fill-opacity:0\" cx=\"500.282\" cy=\"1382.35\" r=\"2\"/>\n",
       "<circle clip-path=\"url(#clip532)\" style=\"fill:#009af9; stroke:none; fill-opacity:0\" cx=\"580.854\" cy=\"1237.53\" r=\"2\"/>\n",
       "<circle clip-path=\"url(#clip532)\" style=\"fill:#009af9; stroke:none; fill-opacity:0\" cx=\"661.426\" cy=\"1002.19\" r=\"2\"/>\n",
       "<circle clip-path=\"url(#clip532)\" style=\"fill:#009af9; stroke:none; fill-opacity:0\" cx=\"741.998\" cy=\"857.362\" r=\"2\"/>\n",
       "<circle clip-path=\"url(#clip532)\" style=\"fill:#009af9; stroke:none; fill-opacity:0\" cx=\"822.569\" cy=\"450.04\" r=\"2\"/>\n",
       "<circle clip-path=\"url(#clip532)\" style=\"fill:#009af9; stroke:none; fill-opacity:0\" cx=\"903.141\" cy=\"386.679\" r=\"2\"/>\n",
       "<circle clip-path=\"url(#clip532)\" style=\"fill:#009af9; stroke:none; fill-opacity:0\" cx=\"983.713\" cy=\"323.318\" r=\"2\"/>\n",
       "<circle clip-path=\"url(#clip532)\" style=\"fill:#009af9; stroke:none; fill-opacity:0\" cx=\"1064.28\" cy=\"87.9763\" r=\"2\"/>\n",
       "<circle clip-path=\"url(#clip532)\" style=\"fill:#009af9; stroke:none; fill-opacity:0\" cx=\"1144.86\" cy=\"431.937\" r=\"2\"/>\n",
       "<circle clip-path=\"url(#clip532)\" style=\"fill:#009af9; stroke:none; fill-opacity:0\" cx=\"1225.43\" cy=\"603.917\" r=\"2\"/>\n",
       "<circle clip-path=\"url(#clip532)\" style=\"fill:#009af9; stroke:none; fill-opacity:0\" cx=\"1306\" cy=\"821.156\" r=\"2\"/>\n",
       "<circle clip-path=\"url(#clip532)\" style=\"fill:#009af9; stroke:none; fill-opacity:0\" cx=\"1386.57\" cy=\"1128.91\" r=\"2\"/>\n",
       "<circle clip-path=\"url(#clip532)\" style=\"fill:#009af9; stroke:none; fill-opacity:0\" cx=\"1467.14\" cy=\"1255.63\" r=\"2\"/>\n",
       "<circle clip-path=\"url(#clip532)\" style=\"fill:#009af9; stroke:none; fill-opacity:0\" cx=\"1547.72\" cy=\"1346.15\" r=\"2\"/>\n",
       "<circle clip-path=\"url(#clip532)\" style=\"fill:#009af9; stroke:none; fill-opacity:0\" cx=\"1628.29\" cy=\"1427.61\" r=\"2\"/>\n",
       "<circle clip-path=\"url(#clip532)\" style=\"fill:#009af9; stroke:none; fill-opacity:0\" cx=\"1708.86\" cy=\"1436.66\" r=\"2\"/>\n",
       "<circle clip-path=\"url(#clip532)\" style=\"fill:#009af9; stroke:none; fill-opacity:0\" cx=\"1789.43\" cy=\"1445.72\" r=\"2\"/>\n",
       "<circle clip-path=\"url(#clip532)\" style=\"fill:#009af9; stroke:none; fill-opacity:0\" cx=\"1870\" cy=\"1436.66\" r=\"2\"/>\n",
       "<circle clip-path=\"url(#clip532)\" style=\"fill:#009af9; stroke:none; fill-opacity:0\" cx=\"1950.57\" cy=\"1445.72\" r=\"2\"/>\n",
       "<circle clip-path=\"url(#clip532)\" style=\"fill:#009af9; stroke:none; fill-opacity:0\" cx=\"2031.15\" cy=\"1445.72\" r=\"2\"/>\n",
       "<circle clip-path=\"url(#clip532)\" style=\"fill:#009af9; stroke:none; fill-opacity:0\" cx=\"2111.72\" cy=\"1445.72\" r=\"2\"/>\n",
       "<circle clip-path=\"url(#clip532)\" style=\"fill:#009af9; stroke:none; fill-opacity:0\" cx=\"2192.29\" cy=\"1436.66\" r=\"2\"/>\n",
       "<polyline clip-path=\"url(#clip532)\" style=\"stroke:#e26f46; stroke-linecap:butt; stroke-linejoin:round; stroke-width:4; stroke-opacity:1; fill:none\" points=\"\n",
       "  218.281,1443.25 234.396,1442.56 250.51,1441.69 266.624,1440.61 282.739,1439.28 298.853,1437.63 314.967,1435.62 331.082,1433.17 347.196,1430.2 363.31,1426.62 \n",
       "  379.425,1422.33 395.539,1417.23 411.653,1411.18 427.768,1404.06 443.882,1395.71 459.997,1386 476.111,1374.76 492.225,1361.82 508.34,1347.02 524.454,1330.18 \n",
       "  540.568,1311.15 556.683,1289.77 572.797,1265.88 588.911,1239.37 605.026,1210.14 621.14,1178.1 637.254,1143.23 653.369,1105.51 669.483,1065.01 685.597,1021.8 \n",
       "  701.712,976.043 717.826,927.943 733.941,877.764 750.055,825.829 766.169,772.519 782.284,718.272 798.398,663.573 814.512,608.956 830.627,554.989 846.741,502.272 \n",
       "  862.855,451.418 878.97,403.049 895.084,357.78 911.198,316.208 927.313,278.896 943.427,246.363 959.541,219.072 975.656,197.417 991.77,181.715 1007.88,172.199 \n",
       "  1024,169.012 1040.11,172.199 1056.23,181.715 1072.34,197.417 1088.46,219.072 1104.57,246.363 1120.68,278.896 1136.8,316.208 1152.91,357.78 1169.03,403.049 \n",
       "  1185.14,451.418 1201.26,502.272 1217.37,554.989 1233.49,608.956 1249.6,663.573 1265.71,718.272 1281.83,772.519 1297.94,825.829 1314.06,877.764 1330.17,927.943 \n",
       "  1346.29,976.043 1362.4,1021.8 1378.51,1065.01 1394.63,1105.51 1410.74,1143.23 1426.86,1178.1 1442.97,1210.14 1459.09,1239.37 1475.2,1265.88 1491.31,1289.77 \n",
       "  1507.43,1311.15 1523.54,1330.18 1539.66,1347.02 1555.77,1361.82 1571.89,1374.76 1588,1386 1604.12,1395.71 1620.23,1404.06 1636.34,1411.18 1652.46,1417.23 \n",
       "  1668.57,1422.33 1684.69,1426.62 1700.8,1430.2 1716.92,1433.17 1733.03,1435.62 1749.14,1437.63 1765.26,1439.28 1781.37,1440.61 1797.49,1441.69 1813.6,1442.56 \n",
       "  1829.72,1443.25 \n",
       "  \"/>\n",
       "<path clip-path=\"url(#clip530)\" d=\"\n",
       "M1983.03 250.738 L2279.53 250.738 L2279.53 95.2176 L1983.03 95.2176  Z\n",
       "  \" fill=\"#ffffff\" fill-rule=\"evenodd\" fill-opacity=\"1\"/>\n",
       "<polyline clip-path=\"url(#clip530)\" style=\"stroke:#000000; stroke-linecap:butt; stroke-linejoin:round; stroke-width:4; stroke-opacity:1; fill:none\" points=\"\n",
       "  1983.03,250.738 2279.53,250.738 2279.53,95.2176 1983.03,95.2176 1983.03,250.738 \n",
       "  \"/>\n",
       "<path clip-path=\"url(#clip530)\" d=\"\n",
       "M2007.44 167.794 L2153.88 167.794 L2153.88 126.322 L2007.44 126.322 L2007.44 167.794  Z\n",
       "  \" fill=\"#009af9\" fill-rule=\"evenodd\" fill-opacity=\"1\"/>\n",
       "<polyline clip-path=\"url(#clip530)\" style=\"stroke:#000000; stroke-linecap:butt; stroke-linejoin:round; stroke-width:4; stroke-opacity:1; fill:none\" points=\"\n",
       "  2007.44,167.794 2153.88,167.794 2153.88,126.322 2007.44,126.322 2007.44,167.794 \n",
       "  \"/>\n",
       "<path clip-path=\"url(#clip530)\" d=\"M2192.13 166.745 Q2190.33 171.375 2188.61 172.787 Q2186.9 174.199 2184.03 174.199 L2180.63 174.199 L2180.63 170.634 L2183.13 170.634 Q2184.89 170.634 2185.86 169.8 Q2186.83 168.967 2188.01 165.865 L2188.78 163.921 L2178.29 138.412 L2182.8 138.412 L2190.91 158.689 L2199.01 138.412 L2203.52 138.412 L2192.13 166.745 Z\" fill=\"#000000\" fill-rule=\"evenodd\" fill-opacity=\"1\" /><path clip-path=\"url(#clip530)\" d=\"M2210.81 160.402 L2218.45 160.402 L2218.45 134.037 L2210.14 135.703 L2210.14 131.444 L2218.41 129.778 L2223.08 129.778 L2223.08 160.402 L2230.72 160.402 L2230.72 164.338 L2210.81 164.338 L2210.81 160.402 Z\" fill=\"#000000\" fill-rule=\"evenodd\" fill-opacity=\"1\" /><polyline clip-path=\"url(#clip530)\" style=\"stroke:#e26f46; stroke-linecap:butt; stroke-linejoin:round; stroke-width:4; stroke-opacity:1; fill:none\" points=\"\n",
       "  2007.44,198.898 2153.88,198.898 \n",
       "  \"/>\n",
       "<path clip-path=\"url(#clip530)\" d=\"M2192.13 218.585 Q2190.33 223.215 2188.61 224.627 Q2186.9 226.039 2184.03 226.039 L2180.63 226.039 L2180.63 222.474 L2183.13 222.474 Q2184.89 222.474 2185.86 221.64 Q2186.83 220.807 2188.01 217.705 L2188.78 215.761 L2178.29 190.252 L2182.8 190.252 L2190.91 210.529 L2199.01 190.252 L2203.52 190.252 L2192.13 218.585 Z\" fill=\"#000000\" fill-rule=\"evenodd\" fill-opacity=\"1\" /><path clip-path=\"url(#clip530)\" d=\"M2214.03 212.242 L2230.35 212.242 L2230.35 216.178 L2208.41 216.178 L2208.41 212.242 Q2211.07 209.488 2215.65 204.858 Q2220.26 200.205 2221.44 198.863 Q2223.68 196.34 2224.56 194.604 Q2225.47 192.844 2225.47 191.155 Q2225.47 188.4 2223.52 186.664 Q2221.6 184.928 2218.5 184.928 Q2216.3 184.928 2213.85 185.692 Q2211.41 186.455 2208.64 188.006 L2208.64 183.284 Q2211.46 182.15 2213.91 181.571 Q2216.37 180.993 2218.41 180.993 Q2223.78 180.993 2226.97 183.678 Q2230.16 186.363 2230.16 190.854 Q2230.16 192.983 2229.35 194.905 Q2228.57 196.803 2226.46 199.395 Q2225.88 200.067 2222.78 203.284 Q2219.68 206.479 2214.03 212.242 Z\" fill=\"#000000\" fill-rule=\"evenodd\" fill-opacity=\"1\" /></svg>\n"
      ]
     },
     "metadata": {},
     "execution_count": 6
    }
   ],
   "cell_type": "code",
   "source": [
    "d = Normal(0, sqrt(2))\n",
    "f(x) = pdf(d, x)\n",
    "\n",
    "xs = -5:(0.1):5\n",
    "ys = f.(xs);\n",
    "\n",
    "using Plots\n",
    "\n",
    "plt = histogram(samples, normalize=true)\n",
    "plot!(xs, ys)\n",
    "plt"
   ],
   "metadata": {},
   "execution_count": 6
  },
  {
   "cell_type": "markdown",
   "source": [
    "## Exercise 3"
   ],
   "metadata": {}
  },
  {
   "cell_type": "markdown",
   "source": [
    "The following shows that named tuples share some behaviour with dictionaries:"
   ],
   "metadata": {}
  },
  {
   "outputs": [
    {
     "output_type": "execute_result",
     "data": {
      "text/plain": "(:x, :y, :z)"
     },
     "metadata": {},
     "execution_count": 7
    }
   ],
   "cell_type": "code",
   "source": [
    "t = (x = 1, y = \"cat\", z = 4.5)\n",
    "keys(t)"
   ],
   "metadata": {},
   "execution_count": 7
  },
  {
   "outputs": [
    {
     "output_type": "execute_result",
     "data": {
      "text/plain": "\"cat\""
     },
     "metadata": {},
     "execution_count": 8
    }
   ],
   "cell_type": "code",
   "source": [
    "t[:y]"
   ],
   "metadata": {},
   "execution_count": 8
  },
  {
   "cell_type": "markdown",
   "source": [
    "Write a function called `dict` that converts a named tuple to an\n",
    "actual dictionary. You can create an empty dictionary using `Dict()`."
   ],
   "metadata": {}
  },
  {
   "cell_type": "markdown",
   "source": [
    "### Solution"
   ],
   "metadata": {}
  },
  {
   "outputs": [
    {
     "output_type": "execute_result",
     "data": {
      "text/plain": "dict (generic function with 1 method)"
     },
     "metadata": {},
     "execution_count": 9
    }
   ],
   "cell_type": "code",
   "source": [
    "function dict(t)\n",
    "    d = Dict()\n",
    "    for k in keys(t)\n",
    "        d[k] = t[k]\n",
    "    end\n",
    "    return d\n",
    "end"
   ],
   "metadata": {},
   "execution_count": 9
  },
  {
   "outputs": [
    {
     "output_type": "execute_result",
     "data": {
      "text/plain": "Dict{Any, Any} with 3 entries:\n  :y => \"cat\"\n  :z => 4.5\n  :x => 1"
     },
     "metadata": {},
     "execution_count": 10
    }
   ],
   "cell_type": "code",
   "source": [
    "dict(t)"
   ],
   "metadata": {},
   "execution_count": 10
  },
  {
   "cell_type": "markdown",
   "source": [
    "Or alternatively:"
   ],
   "metadata": {}
  },
  {
   "outputs": [
    {
     "output_type": "execute_result",
     "data": {
      "text/plain": "dict (generic function with 1 method)"
     },
     "metadata": {},
     "execution_count": 11
    }
   ],
   "cell_type": "code",
   "source": [
    "dict(t) = Dict(k => t[k] for k in keys(t))"
   ],
   "metadata": {},
   "execution_count": 11
  },
  {
   "cell_type": "markdown",
   "source": [
    "---\n",
    "\n",
    "*This notebook was generated using [Literate.jl](https://github.com/fredrikekre/Literate.jl).*"
   ],
   "metadata": {}
  }
 ],
 "nbformat_minor": 3,
 "metadata": {
  "language_info": {
   "file_extension": ".jl",
   "mimetype": "application/julia",
   "name": "julia",
   "version": "1.6.3"
  },
  "kernelspec": {
   "name": "julia-1.6",
   "display_name": "Julia 1.6.3",
   "language": "julia"
  }
 },
 "nbformat": 4
}
