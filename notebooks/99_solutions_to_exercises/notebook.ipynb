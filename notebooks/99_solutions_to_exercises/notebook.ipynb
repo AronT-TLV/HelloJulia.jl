{
 "cells": [
  {
   "cell_type": "markdown",
   "source": [
    "# Solutions to exercises"
   ],
   "metadata": {}
  },
  {
   "cell_type": "markdown",
   "source": [
    "## Setup"
   ],
   "metadata": {}
  },
  {
   "cell_type": "markdown",
   "source": [
    "The following instantiates a package environment."
   ],
   "metadata": {}
  },
  {
   "outputs": [
    {
     "name": "stdout",
     "output_type": "stream",
     "text": [
      "  Activating project at `~/GoogleDrive/Julia/HelloJulia`\n"
     ]
    }
   ],
   "cell_type": "code",
   "source": [
    "using Pkg\n",
    "Pkg.activate(joinpath(@__DIR__, \"..\", \"..\"))\n",
    "Pkg.instantiate()"
   ],
   "metadata": {},
   "execution_count": 1
  },
  {
   "cell_type": "markdown",
   "source": [
    "## Exercise 1"
   ],
   "metadata": {}
  },
  {
   "cell_type": "markdown",
   "source": [
    "Write a function named `total` that adds the elements of its vector input."
   ],
   "metadata": {}
  },
  {
   "cell_type": "markdown",
   "source": [
    "### Solution"
   ],
   "metadata": {}
  },
  {
   "outputs": [
    {
     "output_type": "execute_result",
     "data": {
      "text/plain": "total (generic function with 1 method)"
     },
     "metadata": {},
     "execution_count": 2
    }
   ],
   "cell_type": "code",
   "source": [
    "function total(v)\n",
    "    sum = 0.0 # better is zero(v)\n",
    "    for i in 1:length(v)\n",
    "        sum = sum + v[i]\n",
    "    end\n",
    "    return sum\n",
    "end"
   ],
   "metadata": {},
   "execution_count": 2
  },
  {
   "outputs": [
    {
     "output_type": "execute_result",
     "data": {
      "text/plain": "55.0"
     },
     "metadata": {},
     "execution_count": 3
    }
   ],
   "cell_type": "code",
   "source": [
    "total(1:10)"
   ],
   "metadata": {},
   "execution_count": 3
  },
  {
   "cell_type": "markdown",
   "source": [
    "The built-in function is called `sum`."
   ],
   "metadata": {}
  },
  {
   "cell_type": "markdown",
   "source": [
    "## Exercise 2"
   ],
   "metadata": {}
  },
  {
   "cell_type": "markdown",
   "source": [
    "Generate a 1000 random samples from the standard normal\n",
    "distribution. Create a second such sample, and add the two samples\n",
    "point-wise.  Compute the (sample) mean and variance of the combined\n",
    "samples. In the same plot, show a frequency-normalized histogram of\n",
    "the combined samples and a plot of the pdf for normal distribution\n",
    "with zero mean and variance `2`."
   ],
   "metadata": {}
  },
  {
   "cell_type": "markdown",
   "source": [
    "### Solution"
   ],
   "metadata": {}
  },
  {
   "outputs": [
    {
     "name": "stdout",
     "output_type": "stream",
     "text": [
      "mu = 0.021833037431767437\n",
      "var = 2.081799451271838\n"
     ]
    },
    {
     "output_type": "execute_result",
     "data": {
      "text/plain": "2.081799451271838"
     },
     "metadata": {},
     "execution_count": 4
    }
   ],
   "cell_type": "code",
   "source": [
    "using Distributions, Statistics\n",
    "\n",
    "samples1 = randn(1000); # or rand(Normal(), 1000)\n",
    "samples2 = randn(1000);\n",
    "\n",
    "samples = samples1 .+ samples2;\n",
    "\n",
    "mu = mean(samples)\n",
    "var = std(samples)^2\n",
    "\n",
    "@show mu var"
   ],
   "metadata": {},
   "execution_count": 4
  },
  {
   "outputs": [
    {
     "output_type": "execute_result",
     "data": {
      "text/plain": "Figure()",
      "image/svg+xml": [
       "<?xml version=\"1.0\" encoding=\"UTF-8\"?>\n",
       "<svg xmlns=\"http://www.w3.org/2000/svg\" xmlns:xlink=\"http://www.w3.org/1999/xlink\" width=\"600pt\" height=\"450pt\" viewBox=\"0 0 600 450\" version=\"1.1\">\n",
       "<defs>\n",
       "<g>\n",
       "<symbol overflow=\"visible\" id=\"glyph0-0-WJRoqkln\">\n",
       "<path style=\"stroke:none;\" d=\"M 0.234375 -8.75 C 0.234375 -8.75 0.234375 0 0.234375 0 C 0.234375 0 5.640625 0 5.640625 0 C 5.640625 0 5.640625 -8.75 5.640625 -8.75 C 5.640625 -8.75 0.234375 -8.75 0.234375 -8.75 Z M 0.859375 -0.625 C 0.859375 -0.625 0.859375 -8.125 0.859375 -8.125 C 0.859375 -8.125 5.015625 -8.125 5.015625 -8.125 C 5.015625 -8.125 5.015625 -0.625 5.015625 -0.625 C 5.015625 -0.625 0.859375 -0.625 0.859375 -0.625 Z M 0.859375 -0.625 \"/>\n",
       "</symbol>\n",
       "<symbol overflow=\"visible\" id=\"glyph0-1-WJRoqkln\">\n",
       "<path style=\"stroke:none;\" d=\"M 3.40625 -2.875 C 3.40625 -2.875 0.546875 -2.875 0.546875 -2.875 C 0.546875 -2.875 0.546875 -3.75 0.546875 -3.75 C 0.546875 -3.75 3.40625 -3.75 3.40625 -3.75 C 3.40625 -3.75 3.40625 -2.875 3.40625 -2.875 Z M 3.40625 -2.875 \"/>\n",
       "</symbol>\n",
       "<symbol overflow=\"visible\" id=\"glyph0-2-WJRoqkln\">\n",
       "<path style=\"stroke:none;\" d=\"M 6.078125 -2.46875 C 6.078125 -0.859375 4.9375 0.1875 3.1875 0.1875 C 1.453125 0.1875 0.515625 -0.671875 0.390625 -2.5625 C 0.390625 -2.5625 1.4375 -2.5625 1.4375 -2.5625 C 1.515625 -1.328125 2.078125 -0.75 3.234375 -0.75 C 4.328125 -0.75 4.984375 -1.390625 4.984375 -2.453125 C 4.984375 -3.40625 4.390625 -3.953125 3.234375 -3.953125 C 3.234375 -3.953125 2.65625 -3.953125 2.65625 -3.953125 C 2.65625 -3.953125 2.65625 -4.84375 2.65625 -4.84375 C 4.34375 -4.84375 4.734375 -5.21875 4.734375 -6.125 C 4.734375 -7.03125 4.171875 -7.578125 3.234375 -7.578125 C 2.15625 -7.578125 1.640625 -7.015625 1.625 -5.765625 C 1.625 -5.765625 0.5625 -5.765625 0.5625 -5.765625 C 0.59375 -7.578125 1.515625 -8.515625 3.234375 -8.515625 C 4.84375 -8.515625 5.8125 -7.625 5.8125 -6.171875 C 5.8125 -5.3125 5.421875 -4.765625 4.625 -4.453125 C 5.65625 -4.109375 6.078125 -3.5 6.078125 -2.46875 Z M 6.078125 -2.46875 \"/>\n",
       "</symbol>\n",
       "<symbol overflow=\"visible\" id=\"glyph1-0-WJRoqkln\">\n",
       "<path style=\"stroke:none;\" d=\"M 0.234375 -8.75 C 0.234375 -8.75 0.234375 0 0.234375 0 C 0.234375 0 5.640625 0 5.640625 0 C 5.640625 0 5.640625 -8.75 5.640625 -8.75 C 5.640625 -8.75 0.234375 -8.75 0.234375 -8.75 Z M 0.859375 -0.625 C 0.859375 -0.625 0.859375 -8.125 0.859375 -8.125 C 0.859375 -8.125 5.015625 -8.125 5.015625 -8.125 C 5.015625 -8.125 5.015625 -0.625 5.015625 -0.625 C 5.015625 -0.625 0.859375 -0.625 0.859375 -0.625 Z M 0.859375 -0.625 \"/>\n",
       "</symbol>\n",
       "<symbol overflow=\"visible\" id=\"glyph1-1-WJRoqkln\">\n",
       "<path style=\"stroke:none;\" d=\"M 6.078125 -2.46875 C 6.078125 -0.859375 4.9375 0.1875 3.1875 0.1875 C 1.453125 0.1875 0.515625 -0.671875 0.390625 -2.5625 C 0.390625 -2.5625 1.4375 -2.5625 1.4375 -2.5625 C 1.515625 -1.328125 2.078125 -0.75 3.234375 -0.75 C 4.328125 -0.75 4.984375 -1.390625 4.984375 -2.453125 C 4.984375 -3.40625 4.390625 -3.953125 3.234375 -3.953125 C 3.234375 -3.953125 2.65625 -3.953125 2.65625 -3.953125 C 2.65625 -3.953125 2.65625 -4.84375 2.65625 -4.84375 C 4.34375 -4.84375 4.734375 -5.21875 4.734375 -6.125 C 4.734375 -7.03125 4.171875 -7.578125 3.234375 -7.578125 C 2.15625 -7.578125 1.640625 -7.015625 1.625 -5.765625 C 1.625 -5.765625 0.5625 -5.765625 0.5625 -5.765625 C 0.59375 -7.578125 1.515625 -8.515625 3.234375 -8.515625 C 4.84375 -8.515625 5.8125 -7.625 5.8125 -6.171875 C 5.8125 -5.3125 5.421875 -4.765625 4.625 -4.453125 C 5.65625 -4.109375 6.078125 -3.5 6.078125 -2.46875 Z M 6.078125 -2.46875 \"/>\n",
       "</symbol>\n",
       "<symbol overflow=\"visible\" id=\"glyph2-0-WJRoqkln\">\n",
       "<path style=\"stroke:none;\" d=\"M 0.234375 -8.75 C 0.234375 -8.75 0.234375 0 0.234375 0 C 0.234375 0 5.640625 0 5.640625 0 C 5.640625 0 5.640625 -8.75 5.640625 -8.75 C 5.640625 -8.75 0.234375 -8.75 0.234375 -8.75 Z M 0.859375 -0.625 C 0.859375 -0.625 0.859375 -8.125 0.859375 -8.125 C 0.859375 -8.125 5.015625 -8.125 5.015625 -8.125 C 5.015625 -8.125 5.015625 -0.625 5.015625 -0.625 C 5.015625 -0.625 0.859375 -0.625 0.859375 -0.625 Z M 0.859375 -0.625 \"/>\n",
       "</symbol>\n",
       "<symbol overflow=\"visible\" id=\"glyph2-1-WJRoqkln\">\n",
       "<path style=\"stroke:none;\" d=\"M 6.078125 -4.09375 C 6.078125 -1.296875 5.09375 0.1875 3.296875 0.1875 C 1.46875 0.1875 0.515625 -1.296875 0.515625 -4.15625 C 0.515625 -7.015625 1.46875 -8.515625 3.296875 -8.515625 C 5.140625 -8.515625 6.078125 -7.046875 6.078125 -4.09375 Z M 5 -4.1875 C 5 -6.46875 4.4375 -7.578125 3.296875 -7.578125 C 2.15625 -7.578125 1.59375 -6.484375 1.59375 -4.15625 C 1.59375 -1.828125 2.15625 -0.703125 3.28125 -0.703125 C 4.453125 -0.703125 5 -1.78125 5 -4.1875 Z M 5 -4.1875 \"/>\n",
       "</symbol>\n",
       "<symbol overflow=\"visible\" id=\"glyph3-0-WJRoqkln\">\n",
       "<path style=\"stroke:none;\" d=\"M 0.234375 -8.75 C 0.234375 -8.75 0.234375 0 0.234375 0 C 0.234375 0 5.640625 0 5.640625 0 C 5.640625 0 5.640625 -8.75 5.640625 -8.75 C 5.640625 -8.75 0.234375 -8.75 0.234375 -8.75 Z M 0.859375 -0.625 C 0.859375 -0.625 0.859375 -8.125 0.859375 -8.125 C 0.859375 -8.125 5.015625 -8.125 5.015625 -8.125 C 5.015625 -8.125 5.015625 -0.625 5.015625 -0.625 C 5.015625 -0.625 0.859375 -0.625 0.859375 -0.625 Z M 0.859375 -0.625 \"/>\n",
       "</symbol>\n",
       "<symbol overflow=\"visible\" id=\"glyph3-1-WJRoqkln\">\n",
       "<path style=\"stroke:none;\" d=\"M 6.078125 -4.09375 C 6.078125 -1.296875 5.09375 0.1875 3.296875 0.1875 C 1.46875 0.1875 0.515625 -1.296875 0.515625 -4.15625 C 0.515625 -7.015625 1.46875 -8.515625 3.296875 -8.515625 C 5.140625 -8.515625 6.078125 -7.046875 6.078125 -4.09375 Z M 5 -4.1875 C 5 -6.46875 4.4375 -7.578125 3.296875 -7.578125 C 2.15625 -7.578125 1.59375 -6.484375 1.59375 -4.15625 C 1.59375 -1.828125 2.15625 -0.703125 3.28125 -0.703125 C 4.453125 -0.703125 5 -1.78125 5 -4.1875 Z M 5 -4.1875 \"/>\n",
       "</symbol>\n",
       "<symbol overflow=\"visible\" id=\"glyph4-0-WJRoqkln\">\n",
       "<path style=\"stroke:none;\" d=\"M 0.234375 -8.75 C 0.234375 -8.75 0.234375 0 0.234375 0 C 0.234375 0 5.640625 0 5.640625 0 C 5.640625 0 5.640625 -8.75 5.640625 -8.75 C 5.640625 -8.75 0.234375 -8.75 0.234375 -8.75 Z M 0.859375 -0.625 C 0.859375 -0.625 0.859375 -8.125 0.859375 -8.125 C 0.859375 -8.125 5.015625 -8.125 5.015625 -8.125 C 5.015625 -8.125 5.015625 -0.625 5.015625 -0.625 C 5.015625 -0.625 0.859375 -0.625 0.859375 -0.625 Z M 0.859375 -0.625 \"/>\n",
       "</symbol>\n",
       "<symbol overflow=\"visible\" id=\"glyph4-1-WJRoqkln\">\n",
       "<path style=\"stroke:none;\" d=\"M 2.296875 0 C 2.296875 0 1.046875 0 1.046875 0 C 1.046875 0 1.046875 -1.25 1.046875 -1.25 C 1.046875 -1.25 2.296875 -1.25 2.296875 -1.25 C 2.296875 -1.25 2.296875 0 2.296875 0 Z M 2.296875 0 \"/>\n",
       "</symbol>\n",
       "<symbol overflow=\"visible\" id=\"glyph5-0-WJRoqkln\">\n",
       "<path style=\"stroke:none;\" d=\"M 0.234375 -8.75 C 0.234375 -8.75 0.234375 0 0.234375 0 C 0.234375 0 5.640625 0 5.640625 0 C 5.640625 0 5.640625 -8.75 5.640625 -8.75 C 5.640625 -8.75 0.234375 -8.75 0.234375 -8.75 Z M 0.859375 -0.625 C 0.859375 -0.625 0.859375 -8.125 0.859375 -8.125 C 0.859375 -8.125 5.015625 -8.125 5.015625 -8.125 C 5.015625 -8.125 5.015625 -0.625 5.015625 -0.625 C 5.015625 -0.625 0.859375 -0.625 0.859375 -0.625 Z M 0.859375 -0.625 \"/>\n",
       "</symbol>\n",
       "<symbol overflow=\"visible\" id=\"glyph5-1-WJRoqkln\">\n",
       "<path style=\"stroke:none;\" d=\"M 6.078125 -4.09375 C 6.078125 -1.296875 5.09375 0.1875 3.296875 0.1875 C 1.46875 0.1875 0.515625 -1.296875 0.515625 -4.15625 C 0.515625 -7.015625 1.46875 -8.515625 3.296875 -8.515625 C 5.140625 -8.515625 6.078125 -7.046875 6.078125 -4.09375 Z M 5 -4.1875 C 5 -6.46875 4.4375 -7.578125 3.296875 -7.578125 C 2.15625 -7.578125 1.59375 -6.484375 1.59375 -4.15625 C 1.59375 -1.828125 2.15625 -0.703125 3.28125 -0.703125 C 4.453125 -0.703125 5 -1.78125 5 -4.1875 Z M 5 -4.1875 \"/>\n",
       "</symbol>\n",
       "<symbol overflow=\"visible\" id=\"glyph5-2-WJRoqkln\">\n",
       "<path style=\"stroke:none;\" d=\"M 4.15625 0 C 4.15625 0 3.109375 0 3.109375 0 C 3.109375 0 3.109375 -6.0625 3.109375 -6.0625 C 3.109375 -6.0625 1.21875 -6.0625 1.21875 -6.0625 C 1.21875 -6.0625 1.21875 -6.8125 1.21875 -6.8125 C 2.859375 -7.015625 3.09375 -7.203125 3.46875 -8.515625 C 3.46875 -8.515625 4.15625 -8.515625 4.15625 -8.515625 C 4.15625 -8.515625 4.15625 0 4.15625 0 Z M 4.15625 0 \"/>\n",
       "</symbol>\n",
       "<symbol overflow=\"visible\" id=\"glyph6-0-WJRoqkln\">\n",
       "<path style=\"stroke:none;\" d=\"M 0.234375 -8.75 C 0.234375 -8.75 0.234375 0 0.234375 0 C 0.234375 0 5.640625 0 5.640625 0 C 5.640625 0 5.640625 -8.75 5.640625 -8.75 C 5.640625 -8.75 0.234375 -8.75 0.234375 -8.75 Z M 0.859375 -0.625 C 0.859375 -0.625 0.859375 -8.125 0.859375 -8.125 C 0.859375 -8.125 5.015625 -8.125 5.015625 -8.125 C 5.015625 -8.125 5.015625 -0.625 5.015625 -0.625 C 5.015625 -0.625 0.859375 -0.625 0.859375 -0.625 Z M 0.859375 -0.625 \"/>\n",
       "</symbol>\n",
       "<symbol overflow=\"visible\" id=\"glyph6-1-WJRoqkln\">\n",
       "<path style=\"stroke:none;\" d=\"M 2.296875 0 C 2.296875 0 1.046875 0 1.046875 0 C 1.046875 0 1.046875 -1.25 1.046875 -1.25 C 1.046875 -1.25 2.296875 -1.25 2.296875 -1.25 C 2.296875 -1.25 2.296875 0 2.296875 0 Z M 2.296875 0 \"/>\n",
       "</symbol>\n",
       "<symbol overflow=\"visible\" id=\"glyph7-0-WJRoqkln\">\n",
       "<path style=\"stroke:none;\" d=\"M 0.234375 -8.75 C 0.234375 -8.75 0.234375 0 0.234375 0 C 0.234375 0 5.640625 0 5.640625 0 C 5.640625 0 5.640625 -8.75 5.640625 -8.75 C 5.640625 -8.75 0.234375 -8.75 0.234375 -8.75 Z M 0.859375 -0.625 C 0.859375 -0.625 0.859375 -8.125 0.859375 -8.125 C 0.859375 -8.125 5.015625 -8.125 5.015625 -8.125 C 5.015625 -8.125 5.015625 -0.625 5.015625 -0.625 C 5.015625 -0.625 0.859375 -0.625 0.859375 -0.625 Z M 0.859375 -0.625 \"/>\n",
       "</symbol>\n",
       "<symbol overflow=\"visible\" id=\"glyph7-1-WJRoqkln\">\n",
       "<path style=\"stroke:none;\" d=\"M 6.078125 -4.09375 C 6.078125 -1.296875 5.09375 0.1875 3.296875 0.1875 C 1.46875 0.1875 0.515625 -1.296875 0.515625 -4.15625 C 0.515625 -7.015625 1.46875 -8.515625 3.296875 -8.515625 C 5.140625 -8.515625 6.078125 -7.046875 6.078125 -4.09375 Z M 5 -4.1875 C 5 -6.46875 4.4375 -7.578125 3.296875 -7.578125 C 2.15625 -7.578125 1.59375 -6.484375 1.59375 -4.15625 C 1.59375 -1.828125 2.15625 -0.703125 3.28125 -0.703125 C 4.453125 -0.703125 5 -1.78125 5 -4.1875 Z M 5 -4.1875 \"/>\n",
       "</symbol>\n",
       "<symbol overflow=\"visible\" id=\"glyph7-2-WJRoqkln\">\n",
       "<path style=\"stroke:none;\" d=\"M 6.125 -6.015625 C 6.125 -4.96875 5.515625 -4.078125 4.328125 -3.4375 C 4.328125 -3.4375 3.125 -2.796875 3.125 -2.796875 C 2.09375 -2.1875 1.703125 -1.734375 1.59375 -1.046875 C 1.59375 -1.046875 6.078125 -1.046875 6.078125 -1.046875 C 6.078125 -1.046875 6.078125 0 6.078125 0 C 6.078125 0 0.40625 0 0.40625 0 C 0.5 -1.875 1.015625 -2.671875 2.796875 -3.6875 C 2.796875 -3.6875 3.90625 -4.3125 3.90625 -4.3125 C 4.65625 -4.734375 5.046875 -5.3125 5.046875 -5.984375 C 5.046875 -6.90625 4.328125 -7.578125 3.375 -7.578125 C 2.328125 -7.578125 1.734375 -6.984375 1.65625 -5.5625 C 1.65625 -5.5625 0.59375 -5.5625 0.59375 -5.5625 C 0.65625 -7.625 1.671875 -8.515625 3.40625 -8.515625 C 5.015625 -8.515625 6.125 -7.453125 6.125 -6.015625 Z M 6.125 -6.015625 \"/>\n",
       "</symbol>\n",
       "<symbol overflow=\"visible\" id=\"glyph8-0-WJRoqkln\">\n",
       "<path style=\"stroke:none;\" d=\"M 0.234375 -8.75 C 0.234375 -8.75 0.234375 0 0.234375 0 C 0.234375 0 5.640625 0 5.640625 0 C 5.640625 0 5.640625 -8.75 5.640625 -8.75 C 5.640625 -8.75 0.234375 -8.75 0.234375 -8.75 Z M 0.859375 -0.625 C 0.859375 -0.625 0.859375 -8.125 0.859375 -8.125 C 0.859375 -8.125 5.015625 -8.125 5.015625 -8.125 C 5.015625 -8.125 5.015625 -0.625 5.015625 -0.625 C 5.015625 -0.625 0.859375 -0.625 0.859375 -0.625 Z M 0.859375 -0.625 \"/>\n",
       "</symbol>\n",
       "<symbol overflow=\"visible\" id=\"glyph8-1-WJRoqkln\">\n",
       "<path style=\"stroke:none;\" d=\"M 2.296875 0 C 2.296875 0 1.046875 0 1.046875 0 C 1.046875 0 1.046875 -1.25 1.046875 -1.25 C 1.046875 -1.25 2.296875 -1.25 2.296875 -1.25 C 2.296875 -1.25 2.296875 0 2.296875 0 Z M 2.296875 0 \"/>\n",
       "</symbol>\n",
       "</g>\n",
       "</defs>\n",
       "<g id=\"surface1-WJRoqkln\">\n",
       "<rect x=\"0\" y=\"0\" width=\"600\" height=\"450\" style=\"fill:rgb(100%,100%,100%);fill-opacity:1;stroke:none;\"/>\n",
       "<path style=\" stroke:none;fill-rule:nonzero;fill:rgb(100%,100%,100%);fill-opacity:1;\" d=\"M 36 417.75 L 588 417.75 L 588 12 L 36 12 Z M 36 417.75 \"/>\n",
       "<path style=\"fill:none;stroke-width:1;stroke-linecap:butt;stroke-linejoin:miter;stroke:rgb(0%,0%,0%);stroke-opacity:0.12;stroke-miterlimit:2;\" d=\"M 215.270833 557 L 215.270833 16 \" transform=\"matrix(0.75,0,0,0.75,0,0)\"/>\n",
       "<path style=\"fill:none;stroke-width:1;stroke-linecap:butt;stroke-linejoin:miter;stroke:rgb(0%,0%,0%);stroke-opacity:0.12;stroke-miterlimit:2;\" d=\"M 416 557 L 416 16 \" transform=\"matrix(0.75,0,0,0.75,0,0)\"/>\n",
       "<path style=\"fill:none;stroke-width:1;stroke-linecap:butt;stroke-linejoin:miter;stroke:rgb(0%,0%,0%);stroke-opacity:0.12;stroke-miterlimit:2;\" d=\"M 616.729167 557 L 616.729167 16 \" transform=\"matrix(0.75,0,0,0.75,0,0)\"/>\n",
       "<path style=\"fill:none;stroke-width:1;stroke-linecap:butt;stroke-linejoin:miter;stroke:rgb(0%,0%,0%);stroke-opacity:0.12;stroke-miterlimit:2;\" d=\"M 48 532.411458 L 784 532.411458 \" transform=\"matrix(0.75,0,0,0.75,0,0)\"/>\n",
       "<path style=\"fill:none;stroke-width:1;stroke-linecap:butt;stroke-linejoin:miter;stroke:rgb(0%,0%,0%);stroke-opacity:0.12;stroke-miterlimit:2;\" d=\"M 48 358.0625 L 784 358.0625 \" transform=\"matrix(0.75,0,0,0.75,0,0)\"/>\n",
       "<path style=\"fill:none;stroke-width:1;stroke-linecap:butt;stroke-linejoin:miter;stroke:rgb(0%,0%,0%);stroke-opacity:0.12;stroke-miterlimit:2;\" d=\"M 48 183.71875 L 784 183.71875 \" transform=\"matrix(0.75,0,0,0.75,0,0)\"/>\n",
       "<g style=\"fill:rgb(0%,0%,0%);fill-opacity:1;\">\n",
       "  <use xlink:href=\"#glyph0-1-WJRoqkln\" x=\"156.121094\" y=\"435.863281\"/>\n",
       "</g>\n",
       "<g style=\"fill:rgb(0%,0%,0%);fill-opacity:1;\">\n",
       "  <use xlink:href=\"#glyph1-1-WJRoqkln\" x=\"160.117188\" y=\"435.863281\"/>\n",
       "</g>\n",
       "<g style=\"fill:rgb(0%,0%,0%);fill-opacity:1;\">\n",
       "  <use xlink:href=\"#glyph2-1-WJRoqkln\" x=\"308.664062\" y=\"435.863281\"/>\n",
       "</g>\n",
       "<g style=\"fill:rgb(0%,0%,0%);fill-opacity:1;\">\n",
       "  <use xlink:href=\"#glyph0-2-WJRoqkln\" x=\"459.210938\" y=\"435.863281\"/>\n",
       "</g>\n",
       "<g style=\"fill:rgb(0%,0%,0%);fill-opacity:1;\">\n",
       "  <use xlink:href=\"#glyph3-1-WJRoqkln\" x=\"11.070312\" y=\"403.679687\"/>\n",
       "</g>\n",
       "<g style=\"fill:rgb(0%,0%,0%);fill-opacity:1;\">\n",
       "  <use xlink:href=\"#glyph4-1-WJRoqkln\" x=\"17.742188\" y=\"403.679687\"/>\n",
       "</g>\n",
       "<g style=\"fill:rgb(0%,0%,0%);fill-opacity:1;\">\n",
       "  <use xlink:href=\"#glyph3-1-WJRoqkln\" x=\"21.078125\" y=\"403.679687\"/>\n",
       "</g>\n",
       "<g style=\"fill:rgb(0%,0%,0%);fill-opacity:1;\">\n",
       "  <use xlink:href=\"#glyph5-1-WJRoqkln\" x=\"11.070312\" y=\"272.921875\"/>\n",
       "</g>\n",
       "<g style=\"fill:rgb(0%,0%,0%);fill-opacity:1;\">\n",
       "  <use xlink:href=\"#glyph6-1-WJRoqkln\" x=\"17.742188\" y=\"272.921875\"/>\n",
       "</g>\n",
       "<g style=\"fill:rgb(0%,0%,0%);fill-opacity:1;\">\n",
       "  <use xlink:href=\"#glyph5-2-WJRoqkln\" x=\"21.078125\" y=\"272.921875\"/>\n",
       "</g>\n",
       "<g style=\"fill:rgb(0%,0%,0%);fill-opacity:1;\">\n",
       "  <use xlink:href=\"#glyph7-1-WJRoqkln\" x=\"11.070312\" y=\"142.164062\"/>\n",
       "</g>\n",
       "<g style=\"fill:rgb(0%,0%,0%);fill-opacity:1;\">\n",
       "  <use xlink:href=\"#glyph8-1-WJRoqkln\" x=\"17.742188\" y=\"142.164062\"/>\n",
       "</g>\n",
       "<g style=\"fill:rgb(0%,0%,0%);fill-opacity:1;\">\n",
       "  <use xlink:href=\"#glyph7-2-WJRoqkln\" x=\"21.078125\" y=\"142.164062\"/>\n",
       "</g>\n",
       "<path style=\" stroke:none;fill-rule:nonzero;fill:rgb(0%,44.705883%,69.803923%);fill-opacity:0.8;\" d=\"M 65.222656 399.308594 L 98.027344 399.308594 L 98.027344 397.308594 L 65.222656 397.308594 Z M 65.222656 399.308594 \"/>\n",
       "<path style=\" stroke:none;fill-rule:nonzero;fill:rgb(0%,44.705883%,69.803923%);fill-opacity:0.8;\" d=\"M 98.027344 399.308594 L 130.832031 399.308594 L 130.832031 391.308594 L 98.027344 391.308594 Z M 98.027344 399.308594 \"/>\n",
       "<path style=\" stroke:none;fill-rule:nonzero;fill:rgb(0%,44.705883%,69.803923%);fill-opacity:0.8;\" d=\"M 130.832031 399.308594 L 163.636719 399.308594 L 163.636719 389.308594 L 130.832031 389.308594 Z M 130.832031 399.308594 \"/>\n",
       "<path style=\" stroke:none;fill-rule:nonzero;fill:rgb(0%,44.705883%,69.803923%);fill-opacity:0.8;\" d=\"M 163.640625 399.308594 L 196.445312 399.308594 L 196.445312 307.300781 L 163.640625 307.300781 Z M 163.640625 399.308594 \"/>\n",
       "<path style=\" stroke:none;fill-rule:nonzero;fill:rgb(0%,44.705883%,69.803923%);fill-opacity:0.8;\" d=\"M 196.445312 399.308594 L 229.25 399.308594 L 229.25 227.296875 L 196.445312 227.296875 Z M 196.445312 399.308594 \"/>\n",
       "<path style=\" stroke:none;fill-rule:nonzero;fill:rgb(0%,44.705883%,69.803923%);fill-opacity:0.8;\" d=\"M 229.253906 399.308594 L 262.058594 399.308594 L 262.058594 195.292969 L 229.253906 195.292969 Z M 229.253906 399.308594 \"/>\n",
       "<path style=\" stroke:none;fill-rule:nonzero;fill:rgb(0%,44.705883%,69.803923%);fill-opacity:0.8;\" d=\"M 262.058594 399.308594 L 294.863281 399.308594 L 294.863281 75.285156 L 262.058594 75.285156 Z M 262.058594 399.308594 \"/>\n",
       "<path style=\" stroke:none;fill-rule:nonzero;fill:rgb(0%,44.705883%,69.803923%);fill-opacity:0.8;\" d=\"M 294.867188 399.308594 L 327.671875 399.308594 L 327.671875 63.285156 L 294.867188 63.285156 Z M 294.867188 399.308594 \"/>\n",
       "<path style=\" stroke:none;fill-rule:nonzero;fill:rgb(0%,44.705883%,69.803923%);fill-opacity:0.8;\" d=\"M 327.671875 399.308594 L 360.476562 399.308594 L 360.476562 83.285156 L 327.671875 83.285156 Z M 327.671875 399.308594 \"/>\n",
       "<path style=\" stroke:none;fill-rule:nonzero;fill:rgb(0%,44.705883%,69.803923%);fill-opacity:0.8;\" d=\"M 360.476562 399.308594 L 393.28125 399.308594 L 393.28125 137.289062 L 360.476562 137.289062 Z M 360.476562 399.308594 \"/>\n",
       "<path style=\" stroke:none;fill-rule:nonzero;fill:rgb(0%,44.705883%,69.803923%);fill-opacity:0.8;\" d=\"M 393.285156 399.308594 L 426.089844 399.308594 L 426.089844 241.296875 L 393.285156 241.296875 Z M 393.285156 399.308594 \"/>\n",
       "<path style=\" stroke:none;fill-rule:nonzero;fill:rgb(0%,44.705883%,69.803923%);fill-opacity:0.8;\" d=\"M 426.089844 399.308594 L 458.894531 399.308594 L 458.894531 313.300781 L 426.089844 313.300781 Z M 426.089844 399.308594 \"/>\n",
       "<path style=\" stroke:none;fill-rule:nonzero;fill:rgb(0%,44.705883%,69.803923%);fill-opacity:0.8;\" d=\"M 458.898438 399.308594 L 491.703125 399.308594 L 491.703125 379.308594 L 458.898438 379.308594 Z M 458.898438 399.308594 \"/>\n",
       "<path style=\" stroke:none;fill-rule:nonzero;fill:rgb(0%,44.705883%,69.803923%);fill-opacity:0.8;\" d=\"M 491.703125 399.308594 L 524.507812 399.308594 L 524.507812 391.308594 L 491.703125 391.308594 Z M 491.703125 399.308594 \"/>\n",
       "<path style=\" stroke:none;fill-rule:nonzero;fill:rgb(0%,44.705883%,69.803923%);fill-opacity:0.8;\" d=\"M 524.507812 399.308594 L 557.3125 399.308594 L 557.3125 397.308594 L 524.507812 397.308594 Z M 524.507812 399.308594 \"/>\n",
       "<path style=\"fill:none;stroke-width:1.5;stroke-linecap:butt;stroke-linejoin:miter;stroke:rgb(0%,44.705883%,69.803923%);stroke-opacity:1;stroke-miterlimit:2;\" d=\"M 81.453125 531.458333 L 88.145833 531.192708 L 94.838542 530.859375 L 101.526042 530.442708 L 108.21875 529.927083 L 114.911458 529.296875 L 121.598958 528.520833 L 128.291667 527.572917 L 134.984375 526.432292 L 141.671875 525.052083 L 148.364583 523.401042 L 155.052083 521.432292 L 161.744792 519.104167 L 168.4375 516.359375 L 175.125 513.145833 L 181.817708 509.40625 L 188.510417 505.078125 L 195.197917 500.09375 L 201.890625 494.390625 L 208.583333 487.90625 L 215.270833 480.572917 L 221.963542 472.333333 L 228.65625 463.130208 L 235.34375 452.921875 L 242.036458 441.661458 L 248.729167 429.317708 L 255.416667 415.885417 L 262.109375 401.354167 L 268.802083 385.75 L 275.489583 369.104167 L 282.182292 351.479167 L 288.875 332.947917 L 295.5625 313.619792 L 302.255208 293.614583 L 308.947917 273.078125 L 315.635417 252.177083 L 322.328125 231.109375 L 329.015625 210.067708 L 335.708333 189.28125 L 342.401042 168.96875 L 349.088542 149.380208 L 355.78125 130.75 L 362.473958 113.307292 L 369.161458 97.296875 L 375.854167 82.921875 L 382.546875 70.390625 L 389.234375 59.875 L 395.927083 51.53125 L 402.619792 45.484375 L 409.307292 41.817708 L 416 40.588542 L 422.692708 41.817708 L 429.380208 45.484375 L 436.072917 51.53125 L 442.765625 59.875 L 449.453125 70.390625 L 456.145833 82.921875 L 462.838542 97.296875 L 469.526042 113.307292 L 476.21875 130.75 L 482.911458 149.380208 L 489.598958 168.96875 L 496.291667 189.28125 L 502.984375 210.067708 L 509.671875 231.109375 L 516.364583 252.177083 L 523.052083 273.078125 L 529.744792 293.614583 L 536.4375 313.619792 L 543.125 332.947917 L 549.817708 351.479167 L 556.510417 369.104167 L 563.197917 385.75 L 569.890625 401.354167 L 576.583333 415.885417 L 583.270833 429.317708 L 589.963542 441.661458 L 596.65625 452.921875 L 603.34375 463.130208 L 610.036458 472.333333 L 616.729167 480.572917 L 623.416667 487.90625 L 630.109375 494.390625 L 636.802083 500.09375 L 643.489583 505.078125 L 650.182292 509.40625 L 656.875 513.145833 L 663.5625 516.359375 L 670.255208 519.104167 L 676.947917 521.432292 L 683.635417 523.401042 L 690.328125 525.052083 L 697.015625 526.432292 L 703.708333 527.572917 L 710.401042 528.520833 L 717.088542 529.296875 L 723.78125 529.927083 L 730.473958 530.442708 L 737.161458 530.859375 L 743.854167 531.192708 L 750.546875 531.458333 \" transform=\"matrix(0.75,0,0,0.75,0,0)\"/>\n",
       "<path style=\"fill:none;stroke-width:1;stroke-linecap:butt;stroke-linejoin:miter;stroke:rgb(0%,0%,0%);stroke-opacity:1;stroke-miterlimit:2;\" d=\"M 215.270833 557.5 L 215.270833 563.5 \" transform=\"matrix(0.75,0,0,0.75,0,0)\"/>\n",
       "<path style=\"fill:none;stroke-width:1;stroke-linecap:butt;stroke-linejoin:miter;stroke:rgb(0%,0%,0%);stroke-opacity:1;stroke-miterlimit:2;\" d=\"M 416 557.5 L 416 563.5 \" transform=\"matrix(0.75,0,0,0.75,0,0)\"/>\n",
       "<path style=\"fill:none;stroke-width:1;stroke-linecap:butt;stroke-linejoin:miter;stroke:rgb(0%,0%,0%);stroke-opacity:1;stroke-miterlimit:2;\" d=\"M 616.729167 557.5 L 616.729167 563.5 \" transform=\"matrix(0.75,0,0,0.75,0,0)\"/>\n",
       "<path style=\"fill:none;stroke-width:1;stroke-linecap:butt;stroke-linejoin:miter;stroke:rgb(0%,0%,0%);stroke-opacity:1;stroke-miterlimit:2;\" d=\"M 47.5 532.411458 L 41.5 532.411458 \" transform=\"matrix(0.75,0,0,0.75,0,0)\"/>\n",
       "<path style=\"fill:none;stroke-width:1;stroke-linecap:butt;stroke-linejoin:miter;stroke:rgb(0%,0%,0%);stroke-opacity:1;stroke-miterlimit:2;\" d=\"M 47.5 358.0625 L 41.5 358.0625 \" transform=\"matrix(0.75,0,0,0.75,0,0)\"/>\n",
       "<path style=\"fill:none;stroke-width:1;stroke-linecap:butt;stroke-linejoin:miter;stroke:rgb(0%,0%,0%);stroke-opacity:1;stroke-miterlimit:2;\" d=\"M 47.5 183.71875 L 41.5 183.71875 \" transform=\"matrix(0.75,0,0,0.75,0,0)\"/>\n",
       "<path style=\"fill:none;stroke-width:1;stroke-linecap:butt;stroke-linejoin:miter;stroke:rgb(0%,0%,0%);stroke-opacity:1;stroke-miterlimit:2;\" d=\"M 47.5 557 L 784.5 557 \" transform=\"matrix(0.75,0,0,0.75,0,0)\"/>\n",
       "<path style=\"fill:none;stroke-width:1;stroke-linecap:butt;stroke-linejoin:miter;stroke:rgb(0%,0%,0%);stroke-opacity:1;stroke-miterlimit:2;\" d=\"M 48 557.5 L 48 15.5 \" transform=\"matrix(0.75,0,0,0.75,0,0)\"/>\n",
       "<path style=\"fill:none;stroke-width:1;stroke-linecap:butt;stroke-linejoin:miter;stroke:rgb(0%,0%,0%);stroke-opacity:1;stroke-miterlimit:2;\" d=\"M 47.5 16 L 784.5 16 \" transform=\"matrix(0.75,0,0,0.75,0,0)\"/>\n",
       "<path style=\"fill:none;stroke-width:1;stroke-linecap:butt;stroke-linejoin:miter;stroke:rgb(0%,0%,0%);stroke-opacity:1;stroke-miterlimit:2;\" d=\"M 784 557.5 L 784 15.5 \" transform=\"matrix(0.75,0,0,0.75,0,0)\"/>\n",
       "</g>\n",
       "</svg>\n"
      ]
     },
     "metadata": {},
     "execution_count": 5
    }
   ],
   "cell_type": "code",
   "source": [
    "d = Normal(0, sqrt(2))\n",
    "f(x) = pdf(d, x)\n",
    "\n",
    "xs = -5:(0.1):5\n",
    "ys = f.(xs);\n",
    "\n",
    "using CairoMakie\n",
    "CairoMakie.activate!(type = \"svg\")\n",
    "\n",
    "fig = hist(samples, normalization=:pdf)\n",
    "lines!(xs, ys)\n",
    "current_figure()"
   ],
   "metadata": {},
   "execution_count": 5
  },
  {
   "cell_type": "markdown",
   "source": [
    "## Exercise 3"
   ],
   "metadata": {}
  },
  {
   "cell_type": "markdown",
   "source": [
    "The following shows that named tuples share some behaviour with dictionaries:"
   ],
   "metadata": {}
  },
  {
   "outputs": [
    {
     "output_type": "execute_result",
     "data": {
      "text/plain": "(:x, :y, :z)"
     },
     "metadata": {},
     "execution_count": 6
    }
   ],
   "cell_type": "code",
   "source": [
    "t = (x = 1, y = \"cat\", z = 4.5)\n",
    "keys(t)"
   ],
   "metadata": {},
   "execution_count": 6
  },
  {
   "outputs": [
    {
     "output_type": "execute_result",
     "data": {
      "text/plain": "\"cat\""
     },
     "metadata": {},
     "execution_count": 7
    }
   ],
   "cell_type": "code",
   "source": [
    "t[:y]"
   ],
   "metadata": {},
   "execution_count": 7
  },
  {
   "cell_type": "markdown",
   "source": [
    "Write a function called `dict` that converts a named tuple to an\n",
    "actual dictionary. You can create an empty dictionary using `Dict()`."
   ],
   "metadata": {}
  },
  {
   "cell_type": "markdown",
   "source": [
    "### Solution"
   ],
   "metadata": {}
  },
  {
   "outputs": [
    {
     "output_type": "execute_result",
     "data": {
      "text/plain": "dict (generic function with 1 method)"
     },
     "metadata": {},
     "execution_count": 8
    }
   ],
   "cell_type": "code",
   "source": [
    "function dict(t)\n",
    "    d = Dict()\n",
    "    for k in keys(t)\n",
    "        d[k] = t[k]\n",
    "    end\n",
    "    return d\n",
    "end"
   ],
   "metadata": {},
   "execution_count": 8
  },
  {
   "outputs": [
    {
     "output_type": "execute_result",
     "data": {
      "text/plain": "Dict{Any, Any} with 3 entries:\n  :y => \"cat\"\n  :z => 4.5\n  :x => 1"
     },
     "metadata": {},
     "execution_count": 9
    }
   ],
   "cell_type": "code",
   "source": [
    "dict(t)"
   ],
   "metadata": {},
   "execution_count": 9
  },
  {
   "cell_type": "markdown",
   "source": [
    "A slicker way to do the same thing is:"
   ],
   "metadata": {}
  },
  {
   "outputs": [
    {
     "output_type": "execute_result",
     "data": {
      "text/plain": "dict2 (generic function with 1 method)"
     },
     "metadata": {},
     "execution_count": 10
    }
   ],
   "cell_type": "code",
   "source": [
    "dict2(t) = Dict(k => t[k] for k in keys(t))"
   ],
   "metadata": {},
   "execution_count": 10
  },
  {
   "cell_type": "markdown",
   "source": [
    "---\n",
    "\n",
    "*This notebook was generated using [Literate.jl](https://github.com/fredrikekre/Literate.jl).*"
   ],
   "metadata": {}
  }
 ],
 "nbformat_minor": 3,
 "metadata": {
  "language_info": {
   "file_extension": ".jl",
   "mimetype": "application/julia",
   "name": "julia",
   "version": "1.8.2"
  },
  "kernelspec": {
   "name": "julia-1.8",
   "display_name": "Julia 1.8.2",
   "language": "julia"
  }
 },
 "nbformat": 4
}
