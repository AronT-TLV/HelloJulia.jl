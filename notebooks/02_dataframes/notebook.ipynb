{
 "cells": [
  {
   "cell_type": "markdown",
   "source": [
    "# Introduction to DataFrames.jl"
   ],
   "metadata": {}
  },
  {
   "cell_type": "markdown",
   "source": [
    "Loosely based on [this\n",
    "tutorial](https://juliaai.github.io/DataScienceTutorials.jl/data/dataframe/)\n",
    "from Data Science Tutorials."
   ],
   "metadata": {}
  },
  {
   "cell_type": "markdown",
   "source": [
    "DataFrames.jl **cheatsheets**:\n",
    "[english](https://www.ahsmart.com/assets/pages/data-wrangling-with-data-frames-jl-cheat-sheet/DataFramesCheatSheet_v1.x_rev1.pdf),\n",
    "[chinese](https://www.ahsmart.com/assets/pages/data-wrangling-with-data-frames-jl-cheat-sheet/DataFramesCheatSheet_v1.x_rev1_zh.pdf)"
   ],
   "metadata": {}
  },
  {
   "cell_type": "markdown",
   "source": [
    "## Setup"
   ],
   "metadata": {}
  },
  {
   "cell_type": "markdown",
   "source": [
    "Inspect Julia version:"
   ],
   "metadata": {}
  },
  {
   "outputs": [
    {
     "output_type": "execute_result",
     "data": {
      "text/plain": "v\"1.6.3\""
     },
     "metadata": {},
     "execution_count": 1
    }
   ],
   "cell_type": "code",
   "source": [
    "VERSION"
   ],
   "metadata": {},
   "execution_count": 1
  },
  {
   "cell_type": "markdown",
   "source": [
    "The following instantiates a package environment."
   ],
   "metadata": {}
  },
  {
   "cell_type": "markdown",
   "source": [
    "The package environment has been created using **Julia 1.6** and may not\n",
    "instantiate properly for other Julia versions."
   ],
   "metadata": {}
  },
  {
   "outputs": [
    {
     "name": "stdout",
     "output_type": "stream",
     "text": [
      "  Activating environment at `~/GoogleDrive/Julia/HelloJulia/notebooks/02_dataframes/env/Project.toml`\n"
     ]
    }
   ],
   "cell_type": "code",
   "source": [
    "using Pkg\n",
    "Pkg.activate(\"env\")\n",
    "Pkg.instantiate()"
   ],
   "metadata": {},
   "execution_count": 2
  },
  {
   "cell_type": "markdown",
   "source": [
    "## Loading some demonstration data"
   ],
   "metadata": {}
  },
  {
   "cell_type": "markdown",
   "source": [
    "We'll be using [OpenML](https://www.openml.org/home) to grab datasets."
   ],
   "metadata": {}
  },
  {
   "outputs": [
    {
     "output_type": "execute_result",
     "data": {
      "text/plain": "Tables.DictColumnTable"
     },
     "metadata": {},
     "execution_count": 3
    }
   ],
   "cell_type": "code",
   "source": [
    "using OpenML\n",
    "using DataFrames\n",
    "\n",
    "table = OpenML.load(42638); # Titanic data set\n",
    "typeof(table)"
   ],
   "metadata": {},
   "execution_count": 3
  },
  {
   "cell_type": "markdown",
   "source": [
    "This is not a `DataFrame`. However, like\n",
    "[many](https://github.com/JuliaData/Tables.jl/blob/main/INTEGRATIONS.md)\n",
    "other tabular data containers in Julia, it can be converted to one in the\n",
    "obvious way:"
   ],
   "metadata": {}
  },
  {
   "outputs": [],
   "cell_type": "code",
   "source": [
    "df = DataFrame(table);"
   ],
   "metadata": {},
   "execution_count": 4
  },
  {
   "cell_type": "markdown",
   "source": [
    "A `DataFrame` is essentially just a wrapper around a number of\n",
    "vectors with names, conceptualized as a table with the vectors as\n",
    "columns."
   ],
   "metadata": {}
  },
  {
   "cell_type": "markdown",
   "source": [
    "Lets' look the first few rows (observations) of `df`:"
   ],
   "metadata": {}
  },
  {
   "outputs": [
    {
     "output_type": "execute_result",
     "data": {
      "text/plain": "\u001b[1m4×8 DataFrame\u001b[0m\n\u001b[1m Row \u001b[0m│\u001b[1m pclass \u001b[0m\u001b[1m sex    \u001b[0m\u001b[1m age     \u001b[0m\u001b[1m sibsp   \u001b[0m\u001b[1m fare    \u001b[0m\u001b[1m cabin   \u001b[0m\u001b[1m embarked \u001b[0m\u001b[1m survived \u001b[0m\n\u001b[1m     \u001b[0m│\u001b[90m Cat…   \u001b[0m\u001b[90m Cat…   \u001b[0m\u001b[90m Float64 \u001b[0m\u001b[90m Float64 \u001b[0m\u001b[90m Float64 \u001b[0m\u001b[90m Cat…?   \u001b[0m\u001b[90m Cat…?    \u001b[0m\u001b[90m Cat…     \u001b[0m\n─────┼────────────────────────────────────────────────────────────────────────\n   1 │ 3       male       22.0      1.0   7.25   \u001b[90m missing \u001b[0m S         0\n   2 │ 1       female     38.0      1.0  71.2833  C85      C         1\n   3 │ 3       female     26.0      0.0   7.925  \u001b[90m missing \u001b[0m S         1\n   4 │ 1       female     35.0      1.0  53.1     C123     S         1",
      "text/html": [
       "<div class=\"data-frame\"><p>4 rows × 8 columns</p><table class=\"data-frame\"><thead><tr><th></th><th>pclass</th><th>sex</th><th>age</th><th>sibsp</th><th>fare</th><th>cabin</th><th>embarked</th><th>survived</th></tr><tr><th></th><th title=\"CategoricalArrays.CategoricalValue{String, UInt32}\">Cat…</th><th title=\"CategoricalArrays.CategoricalValue{String, UInt32}\">Cat…</th><th title=\"Float64\">Float64</th><th title=\"Float64\">Float64</th><th title=\"Float64\">Float64</th><th title=\"Union{Missing, CategoricalArrays.CategoricalValue{String, UInt32}}\">Cat…?</th><th title=\"Union{Missing, CategoricalArrays.CategoricalValue{String, UInt32}}\">Cat…?</th><th title=\"CategoricalArrays.CategoricalValue{String, UInt32}\">Cat…</th></tr></thead><tbody><tr><th>1</th><td>3</td><td>male</td><td>22.0</td><td>1.0</td><td>7.25</td><td><em>missing</em></td><td>S</td><td>0</td></tr><tr><th>2</th><td>1</td><td>female</td><td>38.0</td><td>1.0</td><td>71.2833</td><td>C85</td><td>C</td><td>1</td></tr><tr><th>3</th><td>3</td><td>female</td><td>26.0</td><td>0.0</td><td>7.925</td><td><em>missing</em></td><td>S</td><td>1</td></tr><tr><th>4</th><td>1</td><td>female</td><td>35.0</td><td>1.0</td><td>53.1</td><td>C123</td><td>S</td><td>1</td></tr></tbody></table></div>"
      ]
     },
     "metadata": {},
     "execution_count": 5
    }
   ],
   "cell_type": "code",
   "source": [
    "first(df, 4)"
   ],
   "metadata": {},
   "execution_count": 5
  },
  {
   "cell_type": "markdown",
   "source": [
    "Here's a summary of stats for each column:"
   ],
   "metadata": {}
  },
  {
   "outputs": [
    {
     "output_type": "execute_result",
     "data": {
      "text/plain": "\u001b[1m8×7 DataFrame\u001b[0m\n\u001b[1m Row \u001b[0m│\u001b[1m variable \u001b[0m\u001b[1m mean     \u001b[0m\u001b[1m min    \u001b[0m\u001b[1m median  \u001b[0m\u001b[1m max     \u001b[0m\u001b[1m nmissing \u001b[0m\u001b[1m eltype                            \u001b[0m\n\u001b[1m     \u001b[0m│\u001b[90m Symbol   \u001b[0m\u001b[90m Union…   \u001b[0m\u001b[90m Any    \u001b[0m\u001b[90m Union…  \u001b[0m\u001b[90m Any     \u001b[0m\u001b[90m Int64    \u001b[0m\u001b[90m Type                              \u001b[0m\n─────┼───────────────────────────────────────────────────────────────────────────────────────────\n   1 │ pclass   \u001b[90m          \u001b[0m 1      \u001b[90m         \u001b[0m 3               0  CategoricalValue{String, UInt32}\n   2 │ sex      \u001b[90m          \u001b[0m female \u001b[90m         \u001b[0m male            0  CategoricalValue{String, UInt32}\n   3 │ age       29.7589   0.42    30.0     80.0            0  Float64\n   4 │ sibsp     0.523008  0.0     0.0      8.0             0  Float64\n   5 │ fare      32.2042   0.0     14.4542  512.329         0  Float64\n   6 │ cabin    \u001b[90m          \u001b[0m E31    \u001b[90m         \u001b[0m C148          687  Union{Missing, CategoricalValue{…\n   7 │ embarked \u001b[90m          \u001b[0m C      \u001b[90m         \u001b[0m S               2  Union{Missing, CategoricalValue{…\n   8 │ survived \u001b[90m          \u001b[0m 0      \u001b[90m         \u001b[0m 1               0  CategoricalValue{String, UInt32}",
      "text/html": [
       "<div class=\"data-frame\"><p>8 rows × 7 columns</p><table class=\"data-frame\"><thead><tr><th></th><th>variable</th><th>mean</th><th>min</th><th>median</th><th>max</th><th>nmissing</th><th>eltype</th></tr><tr><th></th><th title=\"Symbol\">Symbol</th><th title=\"Union{Nothing, Float64}\">Union…</th><th title=\"Any\">Any</th><th title=\"Union{Nothing, Float64}\">Union…</th><th title=\"Any\">Any</th><th title=\"Int64\">Int64</th><th title=\"Type\">Type</th></tr></thead><tbody><tr><th>1</th><td>pclass</td><td></td><td>1</td><td></td><td>3</td><td>0</td><td>CategoricalValue{String, UInt32}</td></tr><tr><th>2</th><td>sex</td><td></td><td>female</td><td></td><td>male</td><td>0</td><td>CategoricalValue{String, UInt32}</td></tr><tr><th>3</th><td>age</td><td>29.7589</td><td>0.42</td><td>30.0</td><td>80.0</td><td>0</td><td>Float64</td></tr><tr><th>4</th><td>sibsp</td><td>0.523008</td><td>0.0</td><td>0.0</td><td>8.0</td><td>0</td><td>Float64</td></tr><tr><th>5</th><td>fare</td><td>32.2042</td><td>0.0</td><td>14.4542</td><td>512.329</td><td>0</td><td>Float64</td></tr><tr><th>6</th><td>cabin</td><td></td><td>E31</td><td></td><td>C148</td><td>687</td><td>Union{Missing, CategoricalValue{String, UInt32}}</td></tr><tr><th>7</th><td>embarked</td><td></td><td>C</td><td></td><td>S</td><td>2</td><td>Union{Missing, CategoricalValue{String, UInt32}}</td></tr><tr><th>8</th><td>survived</td><td></td><td>0</td><td></td><td>1</td><td>0</td><td>CategoricalValue{String, UInt32}</td></tr></tbody></table></div>"
      ]
     },
     "metadata": {},
     "execution_count": 6
    }
   ],
   "cell_type": "code",
   "source": [
    "describe(df)"
   ],
   "metadata": {},
   "execution_count": 6
  },
  {
   "cell_type": "markdown",
   "source": [
    "To get just the column names, use `names(df)`."
   ],
   "metadata": {}
  },
  {
   "cell_type": "markdown",
   "source": [
    "## Selecting a single entry:"
   ],
   "metadata": {}
  },
  {
   "outputs": [
    {
     "output_type": "execute_result",
     "data": {
      "text/plain": "35.0"
     },
     "metadata": {},
     "execution_count": 7
    }
   ],
   "cell_type": "code",
   "source": [
    "number = df[5, :age]   # or df[5, 4]"
   ],
   "metadata": {},
   "execution_count": 7
  },
  {
   "cell_type": "markdown",
   "source": [
    "## Selecting a single row:"
   ],
   "metadata": {}
  },
  {
   "cell_type": "markdown",
   "source": [
    "We use the wild-card `:`"
   ],
   "metadata": {}
  },
  {
   "outputs": [
    {
     "output_type": "execute_result",
     "data": {
      "text/plain": "\u001b[1mDataFrameRow\u001b[0m\n\u001b[1m Row \u001b[0m│\u001b[1m pclass \u001b[0m\u001b[1m sex  \u001b[0m\u001b[1m age     \u001b[0m\u001b[1m sibsp   \u001b[0m\u001b[1m fare    \u001b[0m\u001b[1m cabin   \u001b[0m\u001b[1m embarked \u001b[0m\u001b[1m survived \u001b[0m\n\u001b[1m     \u001b[0m│\u001b[90m Cat…   \u001b[0m\u001b[90m Cat… \u001b[0m\u001b[90m Float64 \u001b[0m\u001b[90m Float64 \u001b[0m\u001b[90m Float64 \u001b[0m\u001b[90m Cat…?   \u001b[0m\u001b[90m Cat…?    \u001b[0m\u001b[90m Cat…     \u001b[0m\n─────┼──────────────────────────────────────────────────────────────────────\n   5 │ 3       male     35.0      0.0     8.05 \u001b[90m missing \u001b[0m S         0",
      "text/html": [
       "<p>DataFrameRow (8 columns)</p><div class=\"data-frame\"><table class=\"data-frame\"><thead><tr><th></th><th>pclass</th><th>sex</th><th>age</th><th>sibsp</th><th>fare</th><th>cabin</th><th>embarked</th><th>survived</th></tr><tr><th></th><th title=\"CategoricalArrays.CategoricalValue{String, UInt32}\">Cat…</th><th title=\"CategoricalArrays.CategoricalValue{String, UInt32}\">Cat…</th><th title=\"Float64\">Float64</th><th title=\"Float64\">Float64</th><th title=\"Float64\">Float64</th><th title=\"Union{Missing, CategoricalArrays.CategoricalValue{String, UInt32}}\">Cat…?</th><th title=\"Union{Missing, CategoricalArrays.CategoricalValue{String, UInt32}}\">Cat…?</th><th title=\"CategoricalArrays.CategoricalValue{String, UInt32}\">Cat…</th></tr></thead><tbody><tr><th>5</th><td>3</td><td>male</td><td>35.0</td><td>0.0</td><td>8.05</td><td><em>missing</em></td><td>S</td><td>0</td></tr></tbody></table></div>"
      ]
     },
     "metadata": {},
     "execution_count": 8
    }
   ],
   "cell_type": "code",
   "source": [
    "row = df[5, :]"
   ],
   "metadata": {},
   "execution_count": 8
  },
  {
   "outputs": [
    {
     "output_type": "execute_result",
     "data": {
      "text/plain": "35.0"
     },
     "metadata": {},
     "execution_count": 9
    }
   ],
   "cell_type": "code",
   "source": [
    "number = row.age"
   ],
   "metadata": {},
   "execution_count": 9
  },
  {
   "cell_type": "markdown",
   "source": [
    "## Selecting multiple rows"
   ],
   "metadata": {}
  },
  {
   "cell_type": "markdown",
   "source": [
    "By index:"
   ],
   "metadata": {}
  },
  {
   "outputs": [
    {
     "output_type": "execute_result",
     "data": {
      "text/plain": "\u001b[1m5×8 DataFrame\u001b[0m\n\u001b[1m Row \u001b[0m│\u001b[1m pclass \u001b[0m\u001b[1m sex    \u001b[0m\u001b[1m age     \u001b[0m\u001b[1m sibsp   \u001b[0m\u001b[1m fare    \u001b[0m\u001b[1m cabin   \u001b[0m\u001b[1m embarked \u001b[0m\u001b[1m survived \u001b[0m\n\u001b[1m     \u001b[0m│\u001b[90m Cat…   \u001b[0m\u001b[90m Cat…   \u001b[0m\u001b[90m Float64 \u001b[0m\u001b[90m Float64 \u001b[0m\u001b[90m Float64 \u001b[0m\u001b[90m Cat…?   \u001b[0m\u001b[90m Cat…?    \u001b[0m\u001b[90m Cat…     \u001b[0m\n─────┼────────────────────────────────────────────────────────────────────────\n   1 │ 3       female     26.0      0.0   7.925  \u001b[90m missing \u001b[0m S         1\n   2 │ 1       female     35.0      1.0  53.1     C123     S         1\n   3 │ 3       male       35.0      0.0   8.05   \u001b[90m missing \u001b[0m S         0\n   4 │ 3       male       30.0      0.0   8.4583 \u001b[90m missing \u001b[0m Q         0\n   5 │ 1       male       54.0      0.0  51.8625  E46      S         0",
      "text/html": [
       "<div class=\"data-frame\"><p>5 rows × 8 columns</p><table class=\"data-frame\"><thead><tr><th></th><th>pclass</th><th>sex</th><th>age</th><th>sibsp</th><th>fare</th><th>cabin</th><th>embarked</th><th>survived</th></tr><tr><th></th><th title=\"CategoricalArrays.CategoricalValue{String, UInt32}\">Cat…</th><th title=\"CategoricalArrays.CategoricalValue{String, UInt32}\">Cat…</th><th title=\"Float64\">Float64</th><th title=\"Float64\">Float64</th><th title=\"Float64\">Float64</th><th title=\"Union{Missing, CategoricalArrays.CategoricalValue{String, UInt32}}\">Cat…?</th><th title=\"Union{Missing, CategoricalArrays.CategoricalValue{String, UInt32}}\">Cat…?</th><th title=\"CategoricalArrays.CategoricalValue{String, UInt32}\">Cat…</th></tr></thead><tbody><tr><th>1</th><td>3</td><td>female</td><td>26.0</td><td>0.0</td><td>7.925</td><td><em>missing</em></td><td>S</td><td>1</td></tr><tr><th>2</th><td>1</td><td>female</td><td>35.0</td><td>1.0</td><td>53.1</td><td>C123</td><td>S</td><td>1</td></tr><tr><th>3</th><td>3</td><td>male</td><td>35.0</td><td>0.0</td><td>8.05</td><td><em>missing</em></td><td>S</td><td>0</td></tr><tr><th>4</th><td>3</td><td>male</td><td>30.0</td><td>0.0</td><td>8.4583</td><td><em>missing</em></td><td>Q</td><td>0</td></tr><tr><th>5</th><td>1</td><td>male</td><td>54.0</td><td>0.0</td><td>51.8625</td><td>E46</td><td>S</td><td>0</td></tr></tbody></table></div>"
      ]
     },
     "metadata": {},
     "execution_count": 10
    }
   ],
   "cell_type": "code",
   "source": [
    "small_df = df[3:7, :]"
   ],
   "metadata": {},
   "execution_count": 10
  },
  {
   "cell_type": "markdown",
   "source": [
    "By applying some criterion:"
   ],
   "metadata": {}
  },
  {
   "outputs": [
    {
     "output_type": "execute_result",
     "data": {
      "text/plain": "\u001b[1m5×8 DataFrame\u001b[0m\n\u001b[1m Row \u001b[0m│\u001b[1m pclass \u001b[0m\u001b[1m sex    \u001b[0m\u001b[1m age     \u001b[0m\u001b[1m sibsp   \u001b[0m\u001b[1m fare    \u001b[0m\u001b[1m cabin   \u001b[0m\u001b[1m embarked \u001b[0m\u001b[1m survived \u001b[0m\n\u001b[1m     \u001b[0m│\u001b[90m Cat…   \u001b[0m\u001b[90m Cat…   \u001b[0m\u001b[90m Float64 \u001b[0m\u001b[90m Float64 \u001b[0m\u001b[90m Float64 \u001b[0m\u001b[90m Cat…?   \u001b[0m\u001b[90m Cat…?    \u001b[0m\u001b[90m Cat…     \u001b[0m\n─────┼────────────────────────────────────────────────────────────────────────\n   1 │ 1       female     63.0      1.0  77.9583  D7       S         1\n   2 │ 3       female     63.0      0.0   9.5875 \u001b[90m missing \u001b[0m S         1\n   3 │ 2       male       62.0      0.0  10.5    \u001b[90m missing \u001b[0m S         1\n   4 │ 1       male       80.0      0.0  30.0     A23      S         1\n   5 │ 1       female     62.0      0.0  80.0     B28     \u001b[90m missing  \u001b[0m 1",
      "text/html": [
       "<div class=\"data-frame\"><p>5 rows × 8 columns</p><table class=\"data-frame\"><thead><tr><th></th><th>pclass</th><th>sex</th><th>age</th><th>sibsp</th><th>fare</th><th>cabin</th><th>embarked</th><th>survived</th></tr><tr><th></th><th title=\"CategoricalArrays.CategoricalValue{String, UInt32}\">Cat…</th><th title=\"CategoricalArrays.CategoricalValue{String, UInt32}\">Cat…</th><th title=\"Float64\">Float64</th><th title=\"Float64\">Float64</th><th title=\"Float64\">Float64</th><th title=\"Union{Missing, CategoricalArrays.CategoricalValue{String, UInt32}}\">Cat…?</th><th title=\"Union{Missing, CategoricalArrays.CategoricalValue{String, UInt32}}\">Cat…?</th><th title=\"CategoricalArrays.CategoricalValue{String, UInt32}\">Cat…</th></tr></thead><tbody><tr><th>1</th><td>1</td><td>female</td><td>63.0</td><td>1.0</td><td>77.9583</td><td>D7</td><td>S</td><td>1</td></tr><tr><th>2</th><td>3</td><td>female</td><td>63.0</td><td>0.0</td><td>9.5875</td><td><em>missing</em></td><td>S</td><td>1</td></tr><tr><th>3</th><td>2</td><td>male</td><td>62.0</td><td>0.0</td><td>10.5</td><td><em>missing</em></td><td>S</td><td>1</td></tr><tr><th>4</th><td>1</td><td>male</td><td>80.0</td><td>0.0</td><td>30.0</td><td>A23</td><td>S</td><td>1</td></tr><tr><th>5</th><td>1</td><td>female</td><td>62.0</td><td>0.0</td><td>80.0</td><td>B28</td><td><em>missing</em></td><td>1</td></tr></tbody></table></div>"
      ]
     },
     "metadata": {},
     "execution_count": 11
    }
   ],
   "cell_type": "code",
   "source": [
    "df2 = filter(df) do row\n",
    "    row.age > 60 && row.survived == \"1\"\n",
    "end"
   ],
   "metadata": {},
   "execution_count": 11
  },
  {
   "cell_type": "markdown",
   "source": [
    "(Alternatively, one can use `subset` or Boolean indexing; see the\n",
    "[cheatsheet](https://www.ahsmart.com/assets/pages/data-wrangling-with-data-frames-jl-cheat-sheet/DataFramesCheatSheet_v1.x_rev1.pdf).)"
   ],
   "metadata": {}
  },
  {
   "cell_type": "markdown",
   "source": [
    "## Selecting a single column"
   ],
   "metadata": {}
  },
  {
   "cell_type": "markdown",
   "source": [
    "Here's how I get the column named \"Age\":"
   ],
   "metadata": {}
  },
  {
   "outputs": [
    {
     "output_type": "execute_result",
     "data": {
      "text/plain": "5-element Vector{Float64}:\n 63.0\n 63.0\n 62.0\n 80.0\n 62.0"
     },
     "metadata": {},
     "execution_count": 12
    }
   ],
   "cell_type": "code",
   "source": [
    "df2.age"
   ],
   "metadata": {},
   "execution_count": 12
  },
  {
   "cell_type": "markdown",
   "source": [
    "Since this is just a vector, I can restrict the rows as usual:"
   ],
   "metadata": {}
  },
  {
   "outputs": [
    {
     "output_type": "execute_result",
     "data": {
      "text/plain": "4-element Vector{Float64}:\n 63.0\n 62.0\n 80.0\n 62.0"
     },
     "metadata": {},
     "execution_count": 13
    }
   ],
   "cell_type": "code",
   "source": [
    "df2.age[2:5]  # but same as df2[2:5, :Age]"
   ],
   "metadata": {},
   "execution_count": 13
  },
  {
   "cell_type": "markdown",
   "source": [
    "## Selecting multiple columns - `select`"
   ],
   "metadata": {}
  },
  {
   "cell_type": "markdown",
   "source": [
    "The following wraps `df.age` as a single-column `DataFrame`:"
   ],
   "metadata": {}
  },
  {
   "outputs": [
    {
     "output_type": "execute_result",
     "data": {
      "text/plain": "\u001b[1m5×1 DataFrame\u001b[0m\n\u001b[1m Row \u001b[0m│\u001b[1m age     \u001b[0m\n\u001b[1m     \u001b[0m│\u001b[90m Float64 \u001b[0m\n─────┼─────────\n   1 │    63.0\n   2 │    63.0\n   3 │    62.0\n   4 │    80.0\n   5 │    62.0",
      "text/html": [
       "<div class=\"data-frame\"><p>5 rows × 1 columns</p><table class=\"data-frame\"><thead><tr><th></th><th>age</th></tr><tr><th></th><th title=\"Float64\">Float64</th></tr></thead><tbody><tr><th>1</th><td>63.0</td></tr><tr><th>2</th><td>63.0</td></tr><tr><th>3</th><td>62.0</td></tr><tr><th>4</th><td>80.0</td></tr><tr><th>5</th><td>62.0</td></tr></tbody></table></div>"
      ]
     },
     "metadata": {},
     "execution_count": 14
    }
   ],
   "cell_type": "code",
   "source": [
    "select(df2, :age)"
   ],
   "metadata": {},
   "execution_count": 14
  },
  {
   "cell_type": "markdown",
   "source": [
    "... which generalizes to multiple columns:"
   ],
   "metadata": {}
  },
  {
   "outputs": [
    {
     "output_type": "execute_result",
     "data": {
      "text/plain": "\u001b[1m5×2 DataFrame\u001b[0m\n\u001b[1m Row \u001b[0m│\u001b[1m age     \u001b[0m\u001b[1m sex    \u001b[0m\n\u001b[1m     \u001b[0m│\u001b[90m Float64 \u001b[0m\u001b[90m Cat…   \u001b[0m\n─────┼─────────────────\n   1 │    63.0  female\n   2 │    63.0  female\n   3 │    62.0  male\n   4 │    80.0  male\n   5 │    62.0  female",
      "text/html": [
       "<div class=\"data-frame\"><p>5 rows × 2 columns</p><table class=\"data-frame\"><thead><tr><th></th><th>age</th><th>sex</th></tr><tr><th></th><th title=\"Float64\">Float64</th><th title=\"CategoricalArrays.CategoricalValue{String, UInt32}\">Cat…</th></tr></thead><tbody><tr><th>1</th><td>63.0</td><td>female</td></tr><tr><th>2</th><td>63.0</td><td>female</td></tr><tr><th>3</th><td>62.0</td><td>male</td></tr><tr><th>4</th><td>80.0</td><td>male</td></tr><tr><th>5</th><td>62.0</td><td>female</td></tr></tbody></table></div>"
      ]
     },
     "metadata": {},
     "execution_count": 15
    }
   ],
   "cell_type": "code",
   "source": [
    "select(df2, [:age, :sex])"
   ],
   "metadata": {},
   "execution_count": 15
  },
  {
   "outputs": [
    {
     "output_type": "execute_result",
     "data": {
      "text/plain": "\u001b[1m5×7 DataFrame\u001b[0m\n\u001b[1m Row \u001b[0m│\u001b[1m pclass \u001b[0m\u001b[1m sex    \u001b[0m\u001b[1m sibsp   \u001b[0m\u001b[1m fare    \u001b[0m\u001b[1m cabin   \u001b[0m\u001b[1m embarked \u001b[0m\u001b[1m survived \u001b[0m\n\u001b[1m     \u001b[0m│\u001b[90m Cat…   \u001b[0m\u001b[90m Cat…   \u001b[0m\u001b[90m Float64 \u001b[0m\u001b[90m Float64 \u001b[0m\u001b[90m Cat…?   \u001b[0m\u001b[90m Cat…?    \u001b[0m\u001b[90m Cat…     \u001b[0m\n─────┼───────────────────────────────────────────────────────────────\n   1 │ 1       female      1.0  77.9583  D7       S         1\n   2 │ 3       female      0.0   9.5875 \u001b[90m missing \u001b[0m S         1\n   3 │ 2       male        0.0  10.5    \u001b[90m missing \u001b[0m S         1\n   4 │ 1       male        0.0  30.0     A23      S         1\n   5 │ 1       female      0.0  80.0     B28     \u001b[90m missing  \u001b[0m 1",
      "text/html": [
       "<div class=\"data-frame\"><p>5 rows × 7 columns</p><table class=\"data-frame\"><thead><tr><th></th><th>pclass</th><th>sex</th><th>sibsp</th><th>fare</th><th>cabin</th><th>embarked</th><th>survived</th></tr><tr><th></th><th title=\"CategoricalArrays.CategoricalValue{String, UInt32}\">Cat…</th><th title=\"CategoricalArrays.CategoricalValue{String, UInt32}\">Cat…</th><th title=\"Float64\">Float64</th><th title=\"Float64\">Float64</th><th title=\"Union{Missing, CategoricalArrays.CategoricalValue{String, UInt32}}\">Cat…?</th><th title=\"Union{Missing, CategoricalArrays.CategoricalValue{String, UInt32}}\">Cat…?</th><th title=\"CategoricalArrays.CategoricalValue{String, UInt32}\">Cat…</th></tr></thead><tbody><tr><th>1</th><td>1</td><td>female</td><td>1.0</td><td>77.9583</td><td>D7</td><td>S</td><td>1</td></tr><tr><th>2</th><td>3</td><td>female</td><td>0.0</td><td>9.5875</td><td><em>missing</em></td><td>S</td><td>1</td></tr><tr><th>3</th><td>2</td><td>male</td><td>0.0</td><td>10.5</td><td><em>missing</em></td><td>S</td><td>1</td></tr><tr><th>4</th><td>1</td><td>male</td><td>0.0</td><td>30.0</td><td>A23</td><td>S</td><td>1</td></tr><tr><th>5</th><td>1</td><td>female</td><td>0.0</td><td>80.0</td><td>B28</td><td><em>missing</em></td><td>1</td></tr></tbody></table></div>"
      ]
     },
     "metadata": {},
     "execution_count": 16
    }
   ],
   "cell_type": "code",
   "source": [
    "select(df2, Not(:age))"
   ],
   "metadata": {},
   "execution_count": 16
  },
  {
   "outputs": [
    {
     "output_type": "execute_result",
     "data": {
      "text/plain": "\u001b[1m5×4 DataFrame\u001b[0m\n\u001b[1m Row \u001b[0m│\u001b[1m sex    \u001b[0m\u001b[1m age     \u001b[0m\u001b[1m sibsp   \u001b[0m\u001b[1m fare    \u001b[0m\n\u001b[1m     \u001b[0m│\u001b[90m Cat…   \u001b[0m\u001b[90m Float64 \u001b[0m\u001b[90m Float64 \u001b[0m\u001b[90m Float64 \u001b[0m\n─────┼───────────────────────────────────\n   1 │ female     63.0      1.0  77.9583\n   2 │ female     63.0      0.0   9.5875\n   3 │ male       62.0      0.0  10.5\n   4 │ male       80.0      0.0  30.0\n   5 │ female     62.0      0.0  80.0",
      "text/html": [
       "<div class=\"data-frame\"><p>5 rows × 4 columns</p><table class=\"data-frame\"><thead><tr><th></th><th>sex</th><th>age</th><th>sibsp</th><th>fare</th></tr><tr><th></th><th title=\"CategoricalArrays.CategoricalValue{String, UInt32}\">Cat…</th><th title=\"Float64\">Float64</th><th title=\"Float64\">Float64</th><th title=\"Float64\">Float64</th></tr></thead><tbody><tr><th>1</th><td>female</td><td>63.0</td><td>1.0</td><td>77.9583</td></tr><tr><th>2</th><td>female</td><td>63.0</td><td>0.0</td><td>9.5875</td></tr><tr><th>3</th><td>male</td><td>62.0</td><td>0.0</td><td>10.5</td></tr><tr><th>4</th><td>male</td><td>80.0</td><td>0.0</td><td>30.0</td></tr><tr><th>5</th><td>female</td><td>62.0</td><td>0.0</td><td>80.0</td></tr></tbody></table></div>"
      ]
     },
     "metadata": {},
     "execution_count": 17
    }
   ],
   "cell_type": "code",
   "source": [
    "select(df2, Between(:sex, :fare))"
   ],
   "metadata": {},
   "execution_count": 17
  },
  {
   "cell_type": "markdown",
   "source": [
    "## Copies or views of the data?"
   ],
   "metadata": {}
  },
  {
   "cell_type": "markdown",
   "source": [
    "So far, all the selection mechanisms discussed so far return a new\n",
    "`DataFrame` object, with these exceptions:"
   ],
   "metadata": {}
  },
  {
   "cell_type": "markdown",
   "source": [
    "* selecting a single row, as in `df[3,:]` - this returns a `DataFrameRow`.\n",
    "* selecting a single column as a vector, as in `df.age` - this returns a vector"
   ],
   "metadata": {}
  },
  {
   "cell_type": "markdown",
   "source": [
    "These exceptions are *views* of the original `DataFrame`, in the\n",
    "sense that no data is copied and mutating the view mutates the\n",
    "original `DataFrame`:"
   ],
   "metadata": {}
  },
  {
   "outputs": [
    {
     "output_type": "execute_result",
     "data": {
      "text/plain": "1000.0"
     },
     "metadata": {},
     "execution_count": 18
    }
   ],
   "cell_type": "code",
   "source": [
    "v = df.age;\n",
    "v[1] = 1000\n",
    "df[1, :age]"
   ],
   "metadata": {},
   "execution_count": 18
  },
  {
   "cell_type": "markdown",
   "source": [
    "Mutating the output of all the other selection mechanisms will not\n",
    "touch the original `DataFrame`, as data is copied in those cases."
   ],
   "metadata": {}
  },
  {
   "cell_type": "markdown",
   "source": [
    "Use `select!` to make \"in-place\" column selections which mutate the\n",
    "original `DataFrame`. For example, the following permanently drops a\n",
    "column from `df`:"
   ],
   "metadata": {}
  },
  {
   "outputs": [
    {
     "output_type": "execute_result",
     "data": {
      "text/plain": "\u001b[1m2×7 DataFrame\u001b[0m\n\u001b[1m Row \u001b[0m│\u001b[1m pclass \u001b[0m\u001b[1m sex    \u001b[0m\u001b[1m age     \u001b[0m\u001b[1m sibsp   \u001b[0m\u001b[1m fare    \u001b[0m\u001b[1m embarked \u001b[0m\u001b[1m survived \u001b[0m\n\u001b[1m     \u001b[0m│\u001b[90m Cat…   \u001b[0m\u001b[90m Cat…   \u001b[0m\u001b[90m Float64 \u001b[0m\u001b[90m Float64 \u001b[0m\u001b[90m Float64 \u001b[0m\u001b[90m Cat…?    \u001b[0m\u001b[90m Cat…     \u001b[0m\n─────┼───────────────────────────────────────────────────────────────\n   1 │ 3       male     1000.0      1.0   7.25    S         0\n   2 │ 1       female     38.0      1.0  71.2833  C         1",
      "text/html": [
       "<div class=\"data-frame\"><p>2 rows × 7 columns</p><table class=\"data-frame\"><thead><tr><th></th><th>pclass</th><th>sex</th><th>age</th><th>sibsp</th><th>fare</th><th>embarked</th><th>survived</th></tr><tr><th></th><th title=\"CategoricalArrays.CategoricalValue{String, UInt32}\">Cat…</th><th title=\"CategoricalArrays.CategoricalValue{String, UInt32}\">Cat…</th><th title=\"Float64\">Float64</th><th title=\"Float64\">Float64</th><th title=\"Float64\">Float64</th><th title=\"Union{Missing, CategoricalArrays.CategoricalValue{String, UInt32}}\">Cat…?</th><th title=\"CategoricalArrays.CategoricalValue{String, UInt32}\">Cat…</th></tr></thead><tbody><tr><th>1</th><td>3</td><td>male</td><td>1000.0</td><td>1.0</td><td>7.25</td><td>S</td><td>0</td></tr><tr><th>2</th><td>1</td><td>female</td><td>38.0</td><td>1.0</td><td>71.2833</td><td>C</td><td>1</td></tr></tbody></table></div>"
      ]
     },
     "metadata": {},
     "execution_count": 19
    }
   ],
   "cell_type": "code",
   "source": [
    "select!(df, Not(:cabin));\n",
    "first(df, 2)"
   ],
   "metadata": {},
   "execution_count": 19
  },
  {
   "cell_type": "markdown",
   "source": [
    "In addition to row and column views of a `DataFrame` we can construct\n",
    "larger views, of type `SubDataFrame`, which share most of the\n",
    "behviour of an ordinary `DataFrame`, except they only *point* to\n",
    "data in the parent `DataFrame`, rather than duplicate it:"
   ],
   "metadata": {}
  },
  {
   "outputs": [
    {
     "output_type": "execute_result",
     "data": {
      "text/plain": "\u001b[1m3×2 SubDataFrame\u001b[0m\n\u001b[1m Row \u001b[0m│\u001b[1m fare    \u001b[0m\u001b[1m age     \u001b[0m\n\u001b[1m     \u001b[0m│\u001b[90m Float64 \u001b[0m\u001b[90m Float64 \u001b[0m\n─────┼──────────────────\n   1 │  7.25     1000.0\n   2 │ 71.2833     38.0\n   3 │  7.925      26.0",
      "text/html": [
       "<div class=\"data-frame\"><p>3 rows × 2 columns</p><table class=\"data-frame\"><thead><tr><th></th><th>fare</th><th>age</th></tr><tr><th></th><th title=\"Float64\">Float64</th><th title=\"Float64\">Float64</th></tr></thead><tbody><tr><th>1</th><td>7.25</td><td>1000.0</td></tr><tr><th>2</th><td>71.2833</td><td>38.0</td></tr><tr><th>3</th><td>7.925</td><td>26.0</td></tr></tbody></table></div>"
      ]
     },
     "metadata": {},
     "execution_count": 20
    }
   ],
   "cell_type": "code",
   "source": [
    "df_copy = df[1:3, [:fare, :age]]       # this is copy\n",
    "df_view = @view df[1:3, [:fare, :age]] # this is a view"
   ],
   "metadata": {},
   "execution_count": 20
  },
  {
   "outputs": [
    {
     "output_type": "execute_result",
     "data": {
      "text/plain": "4000.0"
     },
     "metadata": {},
     "execution_count": 21
    }
   ],
   "cell_type": "code",
   "source": [
    "df_view[1, :age] = 4000\n",
    "df[1, :age]"
   ],
   "metadata": {},
   "execution_count": 21
  },
  {
   "outputs": [
    {
     "output_type": "execute_result",
     "data": {
      "text/plain": "1000.0"
     },
     "metadata": {},
     "execution_count": 22
    }
   ],
   "cell_type": "code",
   "source": [
    "df_copy[1, :age]"
   ],
   "metadata": {},
   "execution_count": 22
  },
  {
   "cell_type": "markdown",
   "source": [
    "## Describing the data"
   ],
   "metadata": {}
  },
  {
   "cell_type": "markdown",
   "source": [
    "To broaden the summary provided by `describe(df)` we can pass a\n",
    "number of symbols to indicate the statistics we are after:"
   ],
   "metadata": {}
  },
  {
   "outputs": [
    {
     "output_type": "execute_result",
     "data": {
      "text/plain": "\u001b[1m7×6 DataFrame\u001b[0m\n\u001b[1m Row \u001b[0m│\u001b[1m variable \u001b[0m\u001b[1m min    \u001b[0m\u001b[1m max     \u001b[0m\u001b[1m mean     \u001b[0m\u001b[1m median  \u001b[0m\u001b[1m std     \u001b[0m\n\u001b[1m     \u001b[0m│\u001b[90m Symbol   \u001b[0m\u001b[90m Any    \u001b[0m\u001b[90m Any     \u001b[0m\u001b[90m Union…   \u001b[0m\u001b[90m Union…  \u001b[0m\u001b[90m Union…  \u001b[0m\n─────┼───────────────────────────────────────────────────────\n   1 │ pclass    1       3       \u001b[90m          \u001b[0m\u001b[90m         \u001b[0m\u001b[90m         \u001b[0m\n   2 │ sex       female  male    \u001b[90m          \u001b[0m\u001b[90m         \u001b[0m\u001b[90m         \u001b[0m\n   3 │ age       0.42    4000.0   34.2235   30.0     133.642\n   4 │ sibsp     0.0     8.0      0.523008  0.0      1.10274\n   5 │ fare      0.0     512.329  32.2042   14.4542  49.6934\n   6 │ embarked  C       S       \u001b[90m          \u001b[0m\u001b[90m         \u001b[0m\u001b[90m         \u001b[0m\n   7 │ survived  0       1       \u001b[90m          \u001b[0m\u001b[90m         \u001b[0m\u001b[90m         \u001b[0m",
      "text/html": [
       "<div class=\"data-frame\"><p>7 rows × 6 columns</p><table class=\"data-frame\"><thead><tr><th></th><th>variable</th><th>min</th><th>max</th><th>mean</th><th>median</th><th>std</th></tr><tr><th></th><th title=\"Symbol\">Symbol</th><th title=\"Any\">Any</th><th title=\"Any\">Any</th><th title=\"Union{Nothing, Float64}\">Union…</th><th title=\"Union{Nothing, Float64}\">Union…</th><th title=\"Union{Nothing, Float64}\">Union…</th></tr></thead><tbody><tr><th>1</th><td>pclass</td><td>1</td><td>3</td><td></td><td></td><td></td></tr><tr><th>2</th><td>sex</td><td>female</td><td>male</td><td></td><td></td><td></td></tr><tr><th>3</th><td>age</td><td>0.42</td><td>4000.0</td><td>34.2235</td><td>30.0</td><td>133.642</td></tr><tr><th>4</th><td>sibsp</td><td>0.0</td><td>8.0</td><td>0.523008</td><td>0.0</td><td>1.10274</td></tr><tr><th>5</th><td>fare</td><td>0.0</td><td>512.329</td><td>32.2042</td><td>14.4542</td><td>49.6934</td></tr><tr><th>6</th><td>embarked</td><td>C</td><td>S</td><td></td><td></td><td></td></tr><tr><th>7</th><td>survived</td><td>0</td><td>1</td><td></td><td></td><td></td></tr></tbody></table></div>"
      ]
     },
     "metadata": {},
     "execution_count": 23
    }
   ],
   "cell_type": "code",
   "source": [
    "describe(df, :min, :max, :mean, :median, :std)"
   ],
   "metadata": {},
   "execution_count": 23
  },
  {
   "cell_type": "markdown",
   "source": [
    "The following are all supported:\n",
    "* `mean`, `std`, `min`, `max`, `median`, `first`, `last` are all fairly self explanatory\n",
    "* `q25`, `q75` are respectively for the 25th and 75th percentile,\n",
    "* `eltype`, `nunique`, `nmissing` can also be used"
   ],
   "metadata": {}
  },
  {
   "cell_type": "markdown",
   "source": [
    "You can also pass your custom function with a pair `function =>\n",
    ":name` for instance:"
   ],
   "metadata": {}
  },
  {
   "outputs": [
    {
     "output_type": "execute_result",
     "data": {
      "text/plain": "\u001b[1m3×4 DataFrame\u001b[0m\n\u001b[1m Row \u001b[0m│\u001b[1m variable \u001b[0m\u001b[1m mean    \u001b[0m\u001b[1m median \u001b[0m\u001b[1m mae     \u001b[0m\n\u001b[1m     \u001b[0m│\u001b[90m Symbol   \u001b[0m\u001b[90m Union…  \u001b[0m\u001b[90m Union… \u001b[0m\u001b[90m Union…  \u001b[0m\n─────┼────────────────────────────────────\n   1 │ pclass   \u001b[90m         \u001b[0m\u001b[90m        \u001b[0m\u001b[90m         \u001b[0m\n   2 │ sex      \u001b[90m         \u001b[0m\u001b[90m        \u001b[0m\u001b[90m         \u001b[0m\n   3 │ age       34.2235  30.0    34.2235",
      "text/html": [
       "<div class=\"data-frame\"><p>3 rows × 4 columns</p><table class=\"data-frame\"><thead><tr><th></th><th>variable</th><th>mean</th><th>median</th><th>mae</th></tr><tr><th></th><th title=\"Symbol\">Symbol</th><th title=\"Union{Nothing, Float64}\">Union…</th><th title=\"Union{Nothing, Float64}\">Union…</th><th title=\"Union{Nothing, Float64}\">Union…</th></tr></thead><tbody><tr><th>1</th><td>pclass</td><td></td><td></td><td></td></tr><tr><th>2</th><td>sex</td><td></td><td></td><td></td></tr><tr><th>3</th><td>age</td><td>34.2235</td><td>30.0</td><td>34.2235</td></tr></tbody></table></div>"
      ]
     },
     "metadata": {},
     "execution_count": 24
    }
   ],
   "cell_type": "code",
   "source": [
    "using Statistics # to get functions like `mean` and `std`\n",
    "foo(v) = mean(abs.(v))\n",
    "d = describe(df, :mean, :median, foo => :mae)\n",
    "first(d, 3)"
   ],
   "metadata": {},
   "execution_count": 24
  },
  {
   "cell_type": "markdown",
   "source": [
    "Note that the object returned by `describe` is itself a `DataFrame`:"
   ],
   "metadata": {}
  },
  {
   "outputs": [
    {
     "output_type": "execute_result",
     "data": {
      "text/plain": "\u001b[1m7×2 DataFrame\u001b[0m\n\u001b[1m Row \u001b[0m│\u001b[1m variable \u001b[0m\u001b[1m mean     \u001b[0m\n\u001b[1m     \u001b[0m│\u001b[90m Symbol   \u001b[0m\u001b[90m Union…   \u001b[0m\n─────┼────────────────────\n   1 │ pclass   \u001b[90m          \u001b[0m\n   2 │ sex      \u001b[90m          \u001b[0m\n   3 │ age       34.2235\n   4 │ sibsp     0.523008\n   5 │ fare      32.2042\n   6 │ embarked \u001b[90m          \u001b[0m\n   7 │ survived \u001b[90m          \u001b[0m",
      "text/html": [
       "<div class=\"data-frame\"><p>7 rows × 2 columns</p><table class=\"data-frame\"><thead><tr><th></th><th>variable</th><th>mean</th></tr><tr><th></th><th title=\"Symbol\">Symbol</th><th title=\"Union{Nothing, Float64}\">Union…</th></tr></thead><tbody><tr><th>1</th><td>pclass</td><td></td></tr><tr><th>2</th><td>sex</td><td></td></tr><tr><th>3</th><td>age</td><td>34.2235</td></tr><tr><th>4</th><td>sibsp</td><td>0.523008</td></tr><tr><th>5</th><td>fare</td><td>32.2042</td></tr><tr><th>6</th><td>embarked</td><td></td></tr><tr><th>7</th><td>survived</td><td></td></tr></tbody></table></div>"
      ]
     },
     "metadata": {},
     "execution_count": 25
    }
   ],
   "cell_type": "code",
   "source": [
    "select(d, [:variable, :mean])"
   ],
   "metadata": {},
   "execution_count": 25
  },
  {
   "cell_type": "markdown",
   "source": [
    "## Materializing as a matrix\n",
    "\n",
    "To convert the content of the dataframe as one big matrix do this:\n",
    "use `convert`:"
   ],
   "metadata": {}
  },
  {
   "outputs": [
    {
     "output_type": "execute_result",
     "data": {
      "text/plain": "3×3 Matrix{Any}:\n \"3\"  \"male\"    4000.0\n \"1\"  \"female\"    38.0\n \"3\"  \"female\"    26.0"
     },
     "metadata": {},
     "execution_count": 26
    }
   ],
   "cell_type": "code",
   "source": [
    "mat = Matrix(df)\n",
    "mat[1:3, 1:3]"
   ],
   "metadata": {},
   "execution_count": 26
  },
  {
   "cell_type": "markdown",
   "source": [
    "## Adding columns"
   ],
   "metadata": {}
  },
  {
   "cell_type": "markdown",
   "source": [
    "Adding a column to a dataframe is very easy:"
   ],
   "metadata": {}
  },
  {
   "outputs": [
    {
     "output_type": "execute_result",
     "data": {
      "text/plain": "\u001b[1m3×8 DataFrame\u001b[0m\n\u001b[1m Row \u001b[0m│\u001b[1m pclass \u001b[0m\u001b[1m sex    \u001b[0m\u001b[1m age     \u001b[0m\u001b[1m sibsp   \u001b[0m\u001b[1m fare    \u001b[0m\u001b[1m embarked \u001b[0m\u001b[1m survived \u001b[0m\u001b[1m weird     \u001b[0m\n\u001b[1m     \u001b[0m│\u001b[90m Cat…   \u001b[0m\u001b[90m Cat…   \u001b[0m\u001b[90m Float64 \u001b[0m\u001b[90m Float64 \u001b[0m\u001b[90m Float64 \u001b[0m\u001b[90m Cat…?    \u001b[0m\u001b[90m Cat…     \u001b[0m\u001b[90m Float64   \u001b[0m\n─────┼──────────────────────────────────────────────────────────────────────────\n   1 │ 3       male     4000.0      1.0   7.25    S         0         0.0018125\n   2 │ 1       female     38.0      1.0  71.2833  C         1         1.87588\n   3 │ 3       female     26.0      0.0   7.925   S         1         0.304808",
      "text/html": [
       "<div class=\"data-frame\"><p>3 rows × 8 columns</p><table class=\"data-frame\"><thead><tr><th></th><th>pclass</th><th>sex</th><th>age</th><th>sibsp</th><th>fare</th><th>embarked</th><th>survived</th><th>weird</th></tr><tr><th></th><th title=\"CategoricalArrays.CategoricalValue{String, UInt32}\">Cat…</th><th title=\"CategoricalArrays.CategoricalValue{String, UInt32}\">Cat…</th><th title=\"Float64\">Float64</th><th title=\"Float64\">Float64</th><th title=\"Float64\">Float64</th><th title=\"Union{Missing, CategoricalArrays.CategoricalValue{String, UInt32}}\">Cat…?</th><th title=\"CategoricalArrays.CategoricalValue{String, UInt32}\">Cat…</th><th title=\"Float64\">Float64</th></tr></thead><tbody><tr><th>1</th><td>3</td><td>male</td><td>4000.0</td><td>1.0</td><td>7.25</td><td>S</td><td>0</td><td>0.0018125</td></tr><tr><th>2</th><td>1</td><td>female</td><td>38.0</td><td>1.0</td><td>71.2833</td><td>C</td><td>1</td><td>1.87588</td></tr><tr><th>3</th><td>3</td><td>female</td><td>26.0</td><td>0.0</td><td>7.925</td><td>S</td><td>1</td><td>0.304808</td></tr></tbody></table></div>"
      ]
     },
     "metadata": {},
     "execution_count": 27
    }
   ],
   "cell_type": "code",
   "source": [
    "df.weird = df.fare ./ df.age;\n",
    "first(df, 3)"
   ],
   "metadata": {},
   "execution_count": 27
  },
  {
   "cell_type": "markdown",
   "source": [
    "That's it! Remember also that you can drop columns or make\n",
    "subselections with `select` and `select!`."
   ],
   "metadata": {}
  },
  {
   "cell_type": "markdown",
   "source": [
    "The remainder of this tutorial is an abbreviated version of a\n",
    "[DataFrames.jl\n",
    "tutorial](http://juliadata.github.io/DataFrames.jl/latest/man/split_apply_combine/)."
   ],
   "metadata": {}
  },
  {
   "outputs": [
    {
     "output_type": "execute_result",
     "data": {
      "text/plain": "\u001b[1m3×5 DataFrame\u001b[0m\n\u001b[1m Row \u001b[0m│\u001b[1m sepallength \u001b[0m\u001b[1m sepalwidth \u001b[0m\u001b[1m petallength \u001b[0m\u001b[1m petalwidth \u001b[0m\u001b[1m class       \u001b[0m\n\u001b[1m     \u001b[0m│\u001b[90m Float64     \u001b[0m\u001b[90m Float64    \u001b[0m\u001b[90m Float64     \u001b[0m\u001b[90m Float64    \u001b[0m\u001b[90m Cat…        \u001b[0m\n─────┼───────────────────────────────────────────────────────────────\n   1 │         5.1         3.5          1.4         0.2  Iris-setosa\n   2 │         4.9         3.0          1.4         0.2  Iris-setosa\n   3 │         4.7         3.2          1.3         0.2  Iris-setosa",
      "text/html": [
       "<div class=\"data-frame\"><p>3 rows × 5 columns</p><table class=\"data-frame\"><thead><tr><th></th><th>sepallength</th><th>sepalwidth</th><th>petallength</th><th>petalwidth</th><th>class</th></tr><tr><th></th><th title=\"Float64\">Float64</th><th title=\"Float64\">Float64</th><th title=\"Float64\">Float64</th><th title=\"Float64\">Float64</th><th title=\"CategoricalArrays.CategoricalValue{String, UInt32}\">Cat…</th></tr></thead><tbody><tr><th>1</th><td>5.1</td><td>3.5</td><td>1.4</td><td>0.2</td><td>Iris-setosa</td></tr><tr><th>2</th><td>4.9</td><td>3.0</td><td>1.4</td><td>0.2</td><td>Iris-setosa</td></tr><tr><th>3</th><td>4.7</td><td>3.2</td><td>1.3</td><td>0.2</td><td>Iris-setosa</td></tr></tbody></table></div>"
      ]
     },
     "metadata": {},
     "execution_count": 28
    }
   ],
   "cell_type": "code",
   "source": [
    "iris = OpenML.load(61) |> DataFrame;\n",
    "first(iris, 3)"
   ],
   "metadata": {},
   "execution_count": 28
  },
  {
   "cell_type": "markdown",
   "source": [
    "## `groupby`\n",
    "\n",
    "The `groupby` function allows to form \"sub-dataframes\" corresponding\n",
    "to groups of rows.  This can be very convenient to run specific\n",
    "analyses for specific groups without copying the data."
   ],
   "metadata": {}
  },
  {
   "cell_type": "markdown",
   "source": [
    "The basic usage is `groupby(df, cols)` where `cols` specifies one or\n",
    "several columns to use for the grouping."
   ],
   "metadata": {}
  },
  {
   "cell_type": "markdown",
   "source": [
    "Consider a simple example: in `iris` there is a `Species` column\n",
    "with 3 species:"
   ],
   "metadata": {}
  },
  {
   "outputs": [
    {
     "output_type": "execute_result",
     "data": {
      "text/plain": "3-element Vector{String}:\n \"Iris-setosa\"\n \"Iris-versicolor\"\n \"Iris-virginica\""
     },
     "metadata": {},
     "execution_count": 29
    }
   ],
   "cell_type": "code",
   "source": [
    "unique(iris.class)"
   ],
   "metadata": {},
   "execution_count": 29
  },
  {
   "cell_type": "markdown",
   "source": [
    "We can form views for each of these:"
   ],
   "metadata": {}
  },
  {
   "outputs": [],
   "cell_type": "code",
   "source": [
    "gdf = groupby(iris, :class);"
   ],
   "metadata": {},
   "execution_count": 30
  },
  {
   "cell_type": "markdown",
   "source": [
    "The `gdf` object now corresponds to **views** of the original\n",
    "dataframe for each of the 3 species; the first species\n",
    "is `\"Iris-setosa\"` with:"
   ],
   "metadata": {}
  },
  {
   "outputs": [
    {
     "output_type": "execute_result",
     "data": {
      "text/plain": "SubDataFrame{DataFrame, DataFrames.Index, Vector{Int64}}"
     },
     "metadata": {},
     "execution_count": 31
    }
   ],
   "cell_type": "code",
   "source": [
    "subdf_setosa = gdf[1];\n",
    "typeof(subdf_setosa)"
   ],
   "metadata": {},
   "execution_count": 31
  },
  {
   "outputs": [
    {
     "output_type": "execute_result",
     "data": {
      "text/plain": "\u001b[1m5×4 DataFrame\u001b[0m\n\u001b[1m Row \u001b[0m│\u001b[1m variable    \u001b[0m\u001b[1m min         \u001b[0m\u001b[1m mean   \u001b[0m\u001b[1m max         \u001b[0m\n\u001b[1m     \u001b[0m│\u001b[90m Symbol      \u001b[0m\u001b[90m Any         \u001b[0m\u001b[90m Union… \u001b[0m\u001b[90m Any         \u001b[0m\n─────┼───────────────────────────────────────────────\n   1 │ sepallength  4.3          5.006   5.8\n   2 │ sepalwidth   2.3          3.418   4.4\n   3 │ petallength  1.0          1.464   1.9\n   4 │ petalwidth   0.1          0.244   0.6\n   5 │ class        Iris-setosa \u001b[90m        \u001b[0m Iris-setosa",
      "text/html": [
       "<div class=\"data-frame\"><p>5 rows × 4 columns</p><table class=\"data-frame\"><thead><tr><th></th><th>variable</th><th>min</th><th>mean</th><th>max</th></tr><tr><th></th><th title=\"Symbol\">Symbol</th><th title=\"Any\">Any</th><th title=\"Union{Nothing, Float64}\">Union…</th><th title=\"Any\">Any</th></tr></thead><tbody><tr><th>1</th><td>sepallength</td><td>4.3</td><td>5.006</td><td>5.8</td></tr><tr><th>2</th><td>sepalwidth</td><td>2.3</td><td>3.418</td><td>4.4</td></tr><tr><th>3</th><td>petallength</td><td>1.0</td><td>1.464</td><td>1.9</td></tr><tr><th>4</th><td>petalwidth</td><td>0.1</td><td>0.244</td><td>0.6</td></tr><tr><th>5</th><td>class</td><td>Iris-setosa</td><td></td><td>Iris-setosa</td></tr></tbody></table></div>"
      ]
     },
     "metadata": {},
     "execution_count": 32
    }
   ],
   "cell_type": "code",
   "source": [
    "describe(subdf_setosa, :min, :mean, :max)"
   ],
   "metadata": {},
   "execution_count": 32
  },
  {
   "cell_type": "markdown",
   "source": [
    "Recall that this means modifying `subdf_setosa` also modifies its\n",
    "parent `iris`."
   ],
   "metadata": {}
  },
  {
   "cell_type": "markdown",
   "source": [
    "Do `?groupby` for more information."
   ],
   "metadata": {}
  },
  {
   "cell_type": "markdown",
   "source": [
    "## `combine`"
   ],
   "metadata": {}
  },
  {
   "cell_type": "markdown",
   "source": [
    "The `combine` function allows to derive a new dataframe out of\n",
    "transformations of an existing one.  Here's an example taken from\n",
    "the official doc (see `?combine`):"
   ],
   "metadata": {}
  },
  {
   "outputs": [
    {
     "output_type": "execute_result",
     "data": {
      "text/plain": "\u001b[1m3×2 DataFrame\u001b[0m\n\u001b[1m Row \u001b[0m│\u001b[1m a     \u001b[0m\u001b[1m b     \u001b[0m\n\u001b[1m     \u001b[0m│\u001b[90m Int64 \u001b[0m\u001b[90m Int64 \u001b[0m\n─────┼──────────────\n   1 │     1      4\n   2 │     2      5\n   3 │     3      6",
      "text/html": [
       "<div class=\"data-frame\"><p>3 rows × 2 columns</p><table class=\"data-frame\"><thead><tr><th></th><th>a</th><th>b</th></tr><tr><th></th><th title=\"Int64\">Int64</th><th title=\"Int64\">Int64</th></tr></thead><tbody><tr><th>1</th><td>1</td><td>4</td></tr><tr><th>2</th><td>2</td><td>5</td></tr><tr><th>3</th><td>3</td><td>6</td></tr></tbody></table></div>"
      ]
     },
     "metadata": {},
     "execution_count": 33
    }
   ],
   "cell_type": "code",
   "source": [
    "df = DataFrame(a=1:3, b=4:6)"
   ],
   "metadata": {},
   "execution_count": 33
  },
  {
   "outputs": [
    {
     "output_type": "execute_result",
     "data": {
      "text/plain": "\u001b[1m1×2 DataFrame\u001b[0m\n\u001b[1m Row \u001b[0m│\u001b[1m a_sum \u001b[0m\u001b[1m nrow  \u001b[0m\n\u001b[1m     \u001b[0m│\u001b[90m Int64 \u001b[0m\u001b[90m Int64 \u001b[0m\n─────┼──────────────\n   1 │     6      3",
      "text/html": [
       "<div class=\"data-frame\"><p>1 rows × 2 columns</p><table class=\"data-frame\"><thead><tr><th></th><th>a_sum</th><th>nrow</th></tr><tr><th></th><th title=\"Int64\">Int64</th><th title=\"Int64\">Int64</th></tr></thead><tbody><tr><th>1</th><td>6</td><td>3</td></tr></tbody></table></div>"
      ]
     },
     "metadata": {},
     "execution_count": 34
    }
   ],
   "cell_type": "code",
   "source": [
    "combine(df, :a => sum, nrow)"
   ],
   "metadata": {},
   "execution_count": 34
  },
  {
   "cell_type": "markdown",
   "source": [
    "What happened here is that the derived DataFrame has two columns\n",
    "obtained respectively by (1) computing the sum of the first column\n",
    "and (2) applying the `nrow` function on the `df`.\n",
    "\n",
    "The transformation can produce one or several values, and `combine` will\n",
    "try to accomodate this with appropriate packing:"
   ],
   "metadata": {}
  },
  {
   "outputs": [
    {
     "output_type": "execute_result",
     "data": {
      "text/plain": "\u001b[1m2×2 DataFrame\u001b[0m\n\u001b[1m Row \u001b[0m│\u001b[1m a_maximum \u001b[0m\u001b[1m b_foo \u001b[0m\n\u001b[1m     \u001b[0m│\u001b[90m Int64     \u001b[0m\u001b[90m Int64 \u001b[0m\n─────┼──────────────────\n   1 │         3      4\n   2 │         3      5",
      "text/html": [
       "<div class=\"data-frame\"><p>2 rows × 2 columns</p><table class=\"data-frame\"><thead><tr><th></th><th>a_maximum</th><th>b_foo</th></tr><tr><th></th><th title=\"Int64\">Int64</th><th title=\"Int64\">Int64</th></tr></thead><tbody><tr><th>1</th><td>3</td><td>4</td></tr><tr><th>2</th><td>3</td><td>5</td></tr></tbody></table></div>"
      ]
     },
     "metadata": {},
     "execution_count": 35
    }
   ],
   "cell_type": "code",
   "source": [
    "foo(v) = v[1:2]\n",
    "combine(df, :a => maximum, :b => foo)"
   ],
   "metadata": {},
   "execution_count": 35
  },
  {
   "cell_type": "markdown",
   "source": [
    "Here the maximum value of `a` is copied twice so that the two\n",
    "columns have the same number of rows."
   ],
   "metadata": {}
  },
  {
   "outputs": [
    {
     "output_type": "execute_result",
     "data": {
      "text/plain": "\u001b[1m2×2 DataFrame\u001b[0m\n\u001b[1m Row \u001b[0m│\u001b[1m a_foo \u001b[0m\u001b[1m b_bar \u001b[0m\n\u001b[1m     \u001b[0m│\u001b[90m Int64 \u001b[0m\u001b[90m Int64 \u001b[0m\n─────┼──────────────\n   1 │     1      5\n   2 │     2      6",
      "text/html": [
       "<div class=\"data-frame\"><p>2 rows × 2 columns</p><table class=\"data-frame\"><thead><tr><th></th><th>a_foo</th><th>b_bar</th></tr><tr><th></th><th title=\"Int64\">Int64</th><th title=\"Int64\">Int64</th></tr></thead><tbody><tr><th>1</th><td>1</td><td>5</td></tr><tr><th>2</th><td>2</td><td>6</td></tr></tbody></table></div>"
      ]
     },
     "metadata": {},
     "execution_count": 36
    }
   ],
   "cell_type": "code",
   "source": [
    "bar(v) = v[end-1:end]\n",
    "combine(df, :a => foo, :b => bar)"
   ],
   "metadata": {},
   "execution_count": 36
  },
  {
   "cell_type": "markdown",
   "source": [
    "## `combine` with `groupby`\n",
    "\n",
    "Combining `groupby` with `combine` is very useful.  For instance you\n",
    "might want to compute statistics across groups for different\n",
    "variables:"
   ],
   "metadata": {}
  },
  {
   "outputs": [
    {
     "output_type": "execute_result",
     "data": {
      "text/plain": "\u001b[1m3×2 DataFrame\u001b[0m\n\u001b[1m Row \u001b[0m│\u001b[1m class           \u001b[0m\u001b[1m petallength_mean \u001b[0m\n\u001b[1m     \u001b[0m│\u001b[90m Cat…            \u001b[0m\u001b[90m Float64          \u001b[0m\n─────┼───────────────────────────────────\n   1 │ Iris-setosa                 1.464\n   2 │ Iris-versicolor             4.26\n   3 │ Iris-virginica              5.552",
      "text/html": [
       "<div class=\"data-frame\"><p>3 rows × 2 columns</p><table class=\"data-frame\"><thead><tr><th></th><th>class</th><th>petallength_mean</th></tr><tr><th></th><th title=\"CategoricalArrays.CategoricalValue{String, UInt32}\">Cat…</th><th title=\"Float64\">Float64</th></tr></thead><tbody><tr><th>1</th><td>Iris-setosa</td><td>1.464</td></tr><tr><th>2</th><td>Iris-versicolor</td><td>4.26</td></tr><tr><th>3</th><td>Iris-virginica</td><td>5.552</td></tr></tbody></table></div>"
      ]
     },
     "metadata": {},
     "execution_count": 37
    }
   ],
   "cell_type": "code",
   "source": [
    "combine(groupby(iris, :class), :petallength => mean)"
   ],
   "metadata": {},
   "execution_count": 37
  },
  {
   "cell_type": "markdown",
   "source": [
    "Let's break this operatioin down:\n",
    "\n",
    "1. The `groupby(iris, :class)` creates groups using the `:class` column (which has values `Iris-setosa`, `Iris-versicolor`, `Iris-virginica`)\n",
    "2. The `combine` creates a derived dataframe by applying the `mean` function to the `:petallength` column\n",
    "3. Since there are three groups, we get one column (mean of `petallength`) and three rows (one per group).\n",
    "\n",
    "\n",
    "You can do this for several columns/statistics at the time and give\n",
    "new column names to the results:"
   ],
   "metadata": {}
  },
  {
   "outputs": [
    {
     "output_type": "execute_result",
     "data": {
      "text/plain": "\u001b[1m3×3 DataFrame\u001b[0m\n\u001b[1m Row \u001b[0m│\u001b[1m class           \u001b[0m\u001b[1m MPL     \u001b[0m\u001b[1m SPL      \u001b[0m\n\u001b[1m     \u001b[0m│\u001b[90m Cat…            \u001b[0m\u001b[90m Float64 \u001b[0m\u001b[90m Float64  \u001b[0m\n─────┼────────────────────────────────────\n   1 │ Iris-setosa        1.464  0.173511\n   2 │ Iris-versicolor    4.26   0.469911\n   3 │ Iris-virginica     5.552  0.551895",
      "text/html": [
       "<div class=\"data-frame\"><p>3 rows × 3 columns</p><table class=\"data-frame\"><thead><tr><th></th><th>class</th><th>MPL</th><th>SPL</th></tr><tr><th></th><th title=\"CategoricalArrays.CategoricalValue{String, UInt32}\">Cat…</th><th title=\"Float64\">Float64</th><th title=\"Float64\">Float64</th></tr></thead><tbody><tr><th>1</th><td>Iris-setosa</td><td>1.464</td><td>0.173511</td></tr><tr><th>2</th><td>Iris-versicolor</td><td>4.26</td><td>0.469911</td></tr><tr><th>3</th><td>Iris-virginica</td><td>5.552</td><td>0.551895</td></tr></tbody></table></div>"
      ]
     },
     "metadata": {},
     "execution_count": 38
    }
   ],
   "cell_type": "code",
   "source": [
    "gdf = groupby(iris, :class)\n",
    "combine(gdf, :petallength => mean => :MPL, :petallength => std => :SPL)"
   ],
   "metadata": {},
   "execution_count": 38
  },
  {
   "cell_type": "markdown",
   "source": [
    "So here we assign the names `:MPL` and `:SPL` to the derived\n",
    "columns.  If you want to apply something on all columns apart from\n",
    "the grouping one, using `names` and `Not` comes in handy:"
   ],
   "metadata": {}
  },
  {
   "outputs": [
    {
     "output_type": "execute_result",
     "data": {
      "text/plain": "\u001b[1m3×5 DataFrame\u001b[0m\n\u001b[1m Row \u001b[0m│\u001b[1m class           \u001b[0m\u001b[1m sepallength_std \u001b[0m\u001b[1m sepalwidth_std \u001b[0m\u001b[1m petallength_std \u001b[0m\u001b[1m petalwidth_std \u001b[0m\n\u001b[1m     \u001b[0m│\u001b[90m Cat…            \u001b[0m\u001b[90m Float64         \u001b[0m\u001b[90m Float64        \u001b[0m\u001b[90m Float64         \u001b[0m\u001b[90m Float64        \u001b[0m\n─────┼───────────────────────────────────────────────────────────────────────────────────\n   1 │ Iris-setosa             0.35249         0.381024         0.173511        0.10721\n   2 │ Iris-versicolor         0.516171        0.313798         0.469911        0.197753\n   3 │ Iris-virginica          0.63588         0.322497         0.551895        0.27465",
      "text/html": [
       "<div class=\"data-frame\"><p>3 rows × 5 columns</p><table class=\"data-frame\"><thead><tr><th></th><th>class</th><th>sepallength_std</th><th>sepalwidth_std</th><th>petallength_std</th><th>petalwidth_std</th></tr><tr><th></th><th title=\"CategoricalArrays.CategoricalValue{String, UInt32}\">Cat…</th><th title=\"Float64\">Float64</th><th title=\"Float64\">Float64</th><th title=\"Float64\">Float64</th><th title=\"Float64\">Float64</th></tr></thead><tbody><tr><th>1</th><td>Iris-setosa</td><td>0.35249</td><td>0.381024</td><td>0.173511</td><td>0.10721</td></tr><tr><th>2</th><td>Iris-versicolor</td><td>0.516171</td><td>0.313798</td><td>0.469911</td><td>0.197753</td></tr><tr><th>3</th><td>Iris-virginica</td><td>0.63588</td><td>0.322497</td><td>0.551895</td><td>0.27465</td></tr></tbody></table></div>"
      ]
     },
     "metadata": {},
     "execution_count": 39
    }
   ],
   "cell_type": "code",
   "source": [
    "combine(gdf, names(iris, Not(:class)) .=> std)"
   ],
   "metadata": {},
   "execution_count": 39
  },
  {
   "cell_type": "markdown",
   "source": [
    "where"
   ],
   "metadata": {}
  },
  {
   "outputs": [
    {
     "output_type": "execute_result",
     "data": {
      "text/plain": "4-element Vector{String}:\n \"sepallength\"\n \"sepalwidth\"\n \"petallength\"\n \"petalwidth\""
     },
     "metadata": {},
     "execution_count": 40
    }
   ],
   "cell_type": "code",
   "source": [
    "names(iris, Not(:class))"
   ],
   "metadata": {},
   "execution_count": 40
  },
  {
   "cell_type": "markdown",
   "source": [
    "and note the use of `.` in `.=>` to indicate that we broadcast the\n",
    "function over each column."
   ],
   "metadata": {}
  },
  {
   "cell_type": "markdown",
   "source": [
    "---\n",
    "\n",
    "*This notebook was generated using [Literate.jl](https://github.com/fredrikekre/Literate.jl).*"
   ],
   "metadata": {}
  }
 ],
 "nbformat_minor": 3,
 "metadata": {
  "language_info": {
   "file_extension": ".jl",
   "mimetype": "application/julia",
   "name": "julia",
   "version": "1.6.3"
  },
  "kernelspec": {
   "name": "julia-1.6",
   "display_name": "Julia 1.6.3",
   "language": "julia"
  }
 },
 "nbformat": 4
}
