{
 "cells": [
  {
   "cell_type": "markdown",
   "metadata": {},
   "source": [
    "# Introduction to DataFrames.jl"
   ]
  },
  {
   "cell_type": "markdown",
   "metadata": {},
   "source": [
    "Loosely based on [this\n",
    "tutorial](https://juliaai.github.io/DataScienceTutorials.jl/data/dataframe/)\n",
    "from Data Science Tutorials."
   ]
  },
  {
   "cell_type": "markdown",
   "metadata": {},
   "source": [
    "DataFrames.jl **cheatsheets**:\n",
    "[english](https://www.ahsmart.com/assets/pages/data-wrangling-with-data-frames-jl-cheat-sheet/DataFramesCheatSheet_v1.x_rev1.pdf),\n",
    "[chinese](https://www.ahsmart.com/assets/pages/data-wrangling-with-data-frames-jl-cheat-sheet/DataFramesCheatSheet_v1.x_rev1_zh.pdf)"
   ]
  },
  {
   "cell_type": "markdown",
   "metadata": {},
   "source": [
    "## Setup"
   ]
  },
  {
   "cell_type": "markdown",
   "metadata": {},
   "source": [
    "Inspect Julia version:"
   ]
  },
  {
   "cell_type": "code",
   "execution_count": 1,
   "metadata": {},
   "outputs": [
    {
     "data": {
      "text/plain": [
       "v\"1.6.5\""
      ]
     },
     "execution_count": 1,
     "metadata": {},
     "output_type": "execute_result"
    }
   ],
   "source": [
    "VERSION"
   ]
  },
  {
   "cell_type": "markdown",
   "metadata": {},
   "source": [
    "The following instantiates a package environment."
   ]
  },
  {
   "cell_type": "markdown",
   "metadata": {},
   "source": [
    "The package environment has been created using **Julia 1.6** and may not\n",
    "instantiate properly for other Julia versions."
   ]
  },
  {
   "cell_type": "code",
   "execution_count": 2,
   "metadata": {},
   "outputs": [
    {
     "name": "stderr",
     "output_type": "stream",
     "text": [
      "\u001b[32m\u001b[1m  Activating\u001b[22m\u001b[39m environment at `~/GoogleDrive/Julia/HelloJulia/notebooks/02_dataframes/Project.toml`\n",
      "\u001b[32m\u001b[1mPrecompiling\u001b[22m\u001b[39m project...\n",
      "\u001b[32m  ✓ \u001b[39m\u001b[90mSpecialFunctions\u001b[39m\n",
      "\u001b[32m  ✓ \u001b[39m\u001b[90mStatsFuns\u001b[39m\n",
      "\u001b[32m  ✓ \u001b[39m\u001b[90mDistributions\u001b[39m\n",
      "\u001b[32m  ✓ \u001b[39m\u001b[90mScientificTypes\u001b[39m\n",
      "\u001b[32m  ✓ \u001b[39mOpenML\n",
      "  5 dependencies successfully precompiled in 19 seconds (52 already precompiled)\n"
     ]
    }
   ],
   "source": [
    "using Pkg\n",
    "Pkg.activate(@__DIR__)\n",
    "Pkg.instantiate()"
   ]
  },
  {
   "cell_type": "markdown",
   "metadata": {},
   "source": [
    "## Loading some demonstration data"
   ]
  },
  {
   "cell_type": "markdown",
   "metadata": {},
   "source": [
    "We'll be using [OpenML](https://www.openml.org/home) to grab datasets."
   ]
  },
  {
   "cell_type": "code",
   "execution_count": 3,
   "metadata": {},
   "outputs": [
    {
     "name": "stderr",
     "output_type": "stream",
     "text": [
      "┌ Info: Precompiling OpenML [8b6db2d4-7670-4922-a472-f9537c81ab66]\n",
      "└ @ Base loading.jl:1342\n"
     ]
    },
    {
     "data": {
      "text/plain": [
       "Tables.DictColumnTable"
      ]
     },
     "execution_count": 3,
     "metadata": {},
     "output_type": "execute_result"
    }
   ],
   "source": [
    "using OpenML\n",
    "using DataFrames\n",
    "\n",
    "table = OpenML.load(42638); # Titanic data set\n",
    "typeof(table)"
   ]
  },
  {
   "cell_type": "markdown",
   "metadata": {},
   "source": [
    "This is not a `DataFrame`. However, like\n",
    "[many](https://github.com/JuliaData/Tables.jl/blob/main/INTEGRATIONS.md)\n",
    "other tabular data containers in Julia, it can be converted to one in the\n",
    "obvious way:"
   ]
  },
  {
   "cell_type": "code",
   "execution_count": 4,
   "metadata": {},
   "outputs": [],
   "source": [
    "df = DataFrame(table);"
   ]
  },
  {
   "cell_type": "markdown",
   "metadata": {},
   "source": [
    "A `DataFrame` is essentially just a wrapper around a number of\n",
    "vectors with names, conceptualized as a table with the vectors as\n",
    "columns."
   ]
  },
  {
   "cell_type": "markdown",
   "metadata": {},
   "source": [
    "Lets' look the first few rows (observations) of `df`:"
   ]
  },
  {
   "cell_type": "code",
   "execution_count": 5,
   "metadata": {},
   "outputs": [
    {
     "data": {
      "text/html": [
       "<div class=\"data-frame\"><p>4 rows × 8 columns</p><table class=\"data-frame\"><thead><tr><th></th><th>pclass</th><th>sex</th><th>age</th><th>sibsp</th><th>fare</th><th>cabin</th><th>embarked</th><th>survived</th></tr><tr><th></th><th title=\"CategoricalArrays.CategoricalValue{String, UInt32}\">Cat…</th><th title=\"CategoricalArrays.CategoricalValue{String, UInt32}\">Cat…</th><th title=\"Float64\">Float64</th><th title=\"Float64\">Float64</th><th title=\"Float64\">Float64</th><th title=\"Union{Missing, CategoricalArrays.CategoricalValue{String, UInt32}}\">Cat…?</th><th title=\"Union{Missing, CategoricalArrays.CategoricalValue{String, UInt32}}\">Cat…?</th><th title=\"CategoricalArrays.CategoricalValue{String, UInt32}\">Cat…</th></tr></thead><tbody><tr><th>1</th><td>3</td><td>male</td><td>22.0</td><td>1.0</td><td>7.25</td><td><em>missing</em></td><td>S</td><td>0</td></tr><tr><th>2</th><td>1</td><td>female</td><td>38.0</td><td>1.0</td><td>71.2833</td><td>C85</td><td>C</td><td>1</td></tr><tr><th>3</th><td>3</td><td>female</td><td>26.0</td><td>0.0</td><td>7.925</td><td><em>missing</em></td><td>S</td><td>1</td></tr><tr><th>4</th><td>1</td><td>female</td><td>35.0</td><td>1.0</td><td>53.1</td><td>C123</td><td>S</td><td>1</td></tr></tbody></table></div>"
      ],
      "text/latex": [
       "\\begin{tabular}{r|cccccccc}\n",
       "\t& pclass & sex & age & sibsp & fare & cabin & embarked & survived\\\\\n",
       "\t\\hline\n",
       "\t& Cat… & Cat… & Float64 & Float64 & Float64 & Cat…? & Cat…? & Cat…\\\\\n",
       "\t\\hline\n",
       "\t1 & 3 & male & 22.0 & 1.0 & 7.25 & \\emph{missing} & S & 0 \\\\\n",
       "\t2 & 1 & female & 38.0 & 1.0 & 71.2833 & C85 & C & 1 \\\\\n",
       "\t3 & 3 & female & 26.0 & 0.0 & 7.925 & \\emph{missing} & S & 1 \\\\\n",
       "\t4 & 1 & female & 35.0 & 1.0 & 53.1 & C123 & S & 1 \\\\\n",
       "\\end{tabular}\n"
      ],
      "text/plain": [
       "\u001b[1m4×8 DataFrame\u001b[0m\n",
       "\u001b[1m Row \u001b[0m│\u001b[1m pclass \u001b[0m\u001b[1m sex    \u001b[0m\u001b[1m age     \u001b[0m\u001b[1m sibsp   \u001b[0m\u001b[1m fare    \u001b[0m\u001b[1m cabin   \u001b[0m\u001b[1m embarked \u001b[0m\u001b[1m survived \u001b[0m\n",
       "\u001b[1m     \u001b[0m│\u001b[90m Cat…   \u001b[0m\u001b[90m Cat…   \u001b[0m\u001b[90m Float64 \u001b[0m\u001b[90m Float64 \u001b[0m\u001b[90m Float64 \u001b[0m\u001b[90m Cat…?   \u001b[0m\u001b[90m Cat…?    \u001b[0m\u001b[90m Cat…     \u001b[0m\n",
       "─────┼────────────────────────────────────────────────────────────────────────\n",
       "   1 │ 3       male       22.0      1.0   7.25   \u001b[90m missing \u001b[0m S         0\n",
       "   2 │ 1       female     38.0      1.0  71.2833  C85      C         1\n",
       "   3 │ 3       female     26.0      0.0   7.925  \u001b[90m missing \u001b[0m S         1\n",
       "   4 │ 1       female     35.0      1.0  53.1     C123     S         1"
      ]
     },
     "execution_count": 5,
     "metadata": {},
     "output_type": "execute_result"
    }
   ],
   "source": [
    "first(df, 4)"
   ]
  },
  {
   "cell_type": "markdown",
   "metadata": {},
   "source": [
    "Here's a summary of stats for each column:"
   ]
  },
  {
   "cell_type": "code",
   "execution_count": 6,
   "metadata": {},
   "outputs": [
    {
     "data": {
      "text/html": [
       "<div class=\"data-frame\"><p>8 rows × 7 columns</p><table class=\"data-frame\"><thead><tr><th></th><th>variable</th><th>mean</th><th>min</th><th>median</th><th>max</th><th>nmissing</th><th>eltype</th></tr><tr><th></th><th title=\"Symbol\">Symbol</th><th title=\"Union{Nothing, Float64}\">Union…</th><th title=\"Any\">Any</th><th title=\"Union{Nothing, Float64}\">Union…</th><th title=\"Any\">Any</th><th title=\"Int64\">Int64</th><th title=\"Type\">Type</th></tr></thead><tbody><tr><th>1</th><td>pclass</td><td></td><td>1</td><td></td><td>3</td><td>0</td><td>CategoricalValue{String, UInt32}</td></tr><tr><th>2</th><td>sex</td><td></td><td>female</td><td></td><td>male</td><td>0</td><td>CategoricalValue{String, UInt32}</td></tr><tr><th>3</th><td>age</td><td>29.7589</td><td>0.42</td><td>30.0</td><td>80.0</td><td>0</td><td>Float64</td></tr><tr><th>4</th><td>sibsp</td><td>0.523008</td><td>0.0</td><td>0.0</td><td>8.0</td><td>0</td><td>Float64</td></tr><tr><th>5</th><td>fare</td><td>32.2042</td><td>0.0</td><td>14.4542</td><td>512.329</td><td>0</td><td>Float64</td></tr><tr><th>6</th><td>cabin</td><td></td><td>E31</td><td></td><td>C148</td><td>687</td><td>Union{Missing, CategoricalValue{String, UInt32}}</td></tr><tr><th>7</th><td>embarked</td><td></td><td>C</td><td></td><td>S</td><td>2</td><td>Union{Missing, CategoricalValue{String, UInt32}}</td></tr><tr><th>8</th><td>survived</td><td></td><td>0</td><td></td><td>1</td><td>0</td><td>CategoricalValue{String, UInt32}</td></tr></tbody></table></div>"
      ],
      "text/latex": [
       "\\begin{tabular}{r|ccccccc}\n",
       "\t& variable & mean & min & median & max & nmissing & eltype\\\\\n",
       "\t\\hline\n",
       "\t& Symbol & Union… & Any & Union… & Any & Int64 & Type\\\\\n",
       "\t\\hline\n",
       "\t1 & pclass &  & 1 &  & 3 & 0 & CategoricalValue\\{String, UInt32\\} \\\\\n",
       "\t2 & sex &  & female &  & male & 0 & CategoricalValue\\{String, UInt32\\} \\\\\n",
       "\t3 & age & 29.7589 & 0.42 & 30.0 & 80.0 & 0 & Float64 \\\\\n",
       "\t4 & sibsp & 0.523008 & 0.0 & 0.0 & 8.0 & 0 & Float64 \\\\\n",
       "\t5 & fare & 32.2042 & 0.0 & 14.4542 & 512.329 & 0 & Float64 \\\\\n",
       "\t6 & cabin &  & E31 &  & C148 & 687 & Union\\{Missing, CategoricalValue\\{String, UInt32\\}\\} \\\\\n",
       "\t7 & embarked &  & C &  & S & 2 & Union\\{Missing, CategoricalValue\\{String, UInt32\\}\\} \\\\\n",
       "\t8 & survived &  & 0 &  & 1 & 0 & CategoricalValue\\{String, UInt32\\} \\\\\n",
       "\\end{tabular}\n"
      ],
      "text/plain": [
       "\u001b[1m8×7 DataFrame\u001b[0m\n",
       "\u001b[1m Row \u001b[0m│\u001b[1m variable \u001b[0m\u001b[1m mean     \u001b[0m\u001b[1m min    \u001b[0m\u001b[1m median  \u001b[0m\u001b[1m max     \u001b[0m\u001b[1m nmissing \u001b[0m\u001b[1m eltype         \u001b[0m ⋯\n",
       "\u001b[1m     \u001b[0m│\u001b[90m Symbol   \u001b[0m\u001b[90m Union…   \u001b[0m\u001b[90m Any    \u001b[0m\u001b[90m Union…  \u001b[0m\u001b[90m Any     \u001b[0m\u001b[90m Int64    \u001b[0m\u001b[90m Type           \u001b[0m ⋯\n",
       "─────┼──────────────────────────────────────────────────────────────────────────\n",
       "   1 │ pclass   \u001b[90m          \u001b[0m 1      \u001b[90m         \u001b[0m 3               0  CategoricalValu ⋯\n",
       "   2 │ sex      \u001b[90m          \u001b[0m female \u001b[90m         \u001b[0m male            0  CategoricalValu\n",
       "   3 │ age       29.7589   0.42    30.0     80.0            0  Float64\n",
       "   4 │ sibsp     0.523008  0.0     0.0      8.0             0  Float64\n",
       "   5 │ fare      32.2042   0.0     14.4542  512.329         0  Float64         ⋯\n",
       "   6 │ cabin    \u001b[90m          \u001b[0m E31    \u001b[90m         \u001b[0m C148          687  Union{Missing,\n",
       "   7 │ embarked \u001b[90m          \u001b[0m C      \u001b[90m         \u001b[0m S               2  Union{Missing,\n",
       "   8 │ survived \u001b[90m          \u001b[0m 0      \u001b[90m         \u001b[0m 1               0  CategoricalValu\n",
       "\u001b[36m                                                                1 column omitted\u001b[0m"
      ]
     },
     "execution_count": 6,
     "metadata": {},
     "output_type": "execute_result"
    }
   ],
   "source": [
    "describe(df)"
   ]
  },
  {
   "cell_type": "markdown",
   "metadata": {},
   "source": [
    "To get just the column names, use `names(df)`."
   ]
  },
  {
   "cell_type": "markdown",
   "metadata": {},
   "source": [
    "## Selecting a single entry:"
   ]
  },
  {
   "cell_type": "code",
   "execution_count": 7,
   "metadata": {},
   "outputs": [
    {
     "data": {
      "text/plain": [
       "35.0"
      ]
     },
     "execution_count": 7,
     "metadata": {},
     "output_type": "execute_result"
    }
   ],
   "source": [
    "number = df[5, :age]   # or df[5, 4]"
   ]
  },
  {
   "cell_type": "markdown",
   "metadata": {},
   "source": [
    "## Selecting a single row:"
   ]
  },
  {
   "cell_type": "markdown",
   "metadata": {},
   "source": [
    "We use the wild-card `:`"
   ]
  },
  {
   "cell_type": "code",
   "execution_count": null,
   "metadata": {},
   "outputs": [],
   "source": [
    "row = df[5, :]"
   ]
  },
  {
   "cell_type": "code",
   "execution_count": null,
   "metadata": {},
   "outputs": [],
   "source": [
    "number = row.age"
   ]
  },
  {
   "cell_type": "markdown",
   "metadata": {},
   "source": [
    "## Selecting multiple rows"
   ]
  },
  {
   "cell_type": "markdown",
   "metadata": {},
   "source": [
    "By index:"
   ]
  },
  {
   "cell_type": "code",
   "execution_count": null,
   "metadata": {},
   "outputs": [],
   "source": [
    "small_df = df[3:7, :]"
   ]
  },
  {
   "cell_type": "markdown",
   "metadata": {},
   "source": [
    "By applying some criterion:"
   ]
  },
  {
   "cell_type": "code",
   "execution_count": null,
   "metadata": {},
   "outputs": [],
   "source": [
    "df2 = filter(df) do row\n",
    "    row.age > 60 && row.survived == \"1\"\n",
    "end"
   ]
  },
  {
   "cell_type": "markdown",
   "metadata": {},
   "source": [
    "(Alternatively, one can use `subset` or Boolean indexing; see the\n",
    "[cheatsheet](https://www.ahsmart.com/assets/pages/data-wrangling-with-data-frames-jl-cheat-sheet/DataFramesCheatSheet_v1.x_rev1.pdf).)"
   ]
  },
  {
   "cell_type": "markdown",
   "metadata": {},
   "source": [
    "## Selecting a single column"
   ]
  },
  {
   "cell_type": "markdown",
   "metadata": {},
   "source": [
    "Here's how I get the column named \"Age\":"
   ]
  },
  {
   "cell_type": "code",
   "execution_count": null,
   "metadata": {},
   "outputs": [],
   "source": [
    "df2.age"
   ]
  },
  {
   "cell_type": "markdown",
   "metadata": {},
   "source": [
    "Since this is just a vector, I can restrict the rows as usual:"
   ]
  },
  {
   "cell_type": "code",
   "execution_count": null,
   "metadata": {},
   "outputs": [],
   "source": [
    "df2.age[2:5]  # but same as df2[2:5, :Age]"
   ]
  },
  {
   "cell_type": "markdown",
   "metadata": {},
   "source": [
    "## Selecting multiple columns - `select`"
   ]
  },
  {
   "cell_type": "markdown",
   "metadata": {},
   "source": [
    "The following wraps `df.age` as a single-column `DataFrame`:"
   ]
  },
  {
   "cell_type": "code",
   "execution_count": null,
   "metadata": {},
   "outputs": [],
   "source": [
    "select(df2, :age)"
   ]
  },
  {
   "cell_type": "markdown",
   "metadata": {},
   "source": [
    "... which generalizes to multiple columns:"
   ]
  },
  {
   "cell_type": "code",
   "execution_count": null,
   "metadata": {},
   "outputs": [],
   "source": [
    "select(df2, [:age, :sex])"
   ]
  },
  {
   "cell_type": "code",
   "execution_count": null,
   "metadata": {},
   "outputs": [],
   "source": [
    "select(df2, Not(:age))"
   ]
  },
  {
   "cell_type": "code",
   "execution_count": null,
   "metadata": {},
   "outputs": [],
   "source": [
    "select(df2, Between(:sex, :fare))"
   ]
  },
  {
   "cell_type": "markdown",
   "metadata": {},
   "source": [
    "## Copies or views of the data?"
   ]
  },
  {
   "cell_type": "markdown",
   "metadata": {},
   "source": [
    "So far, all the selection mechanisms discussed so far return a new\n",
    "`DataFrame` object, with these exceptions:"
   ]
  },
  {
   "cell_type": "markdown",
   "metadata": {},
   "source": [
    "* selecting a single row, as in `df[3,:]` - this returns a `DataFrameRow`.\n",
    "* selecting a single column as a vector, as in `df.age` - this returns a vector"
   ]
  },
  {
   "cell_type": "markdown",
   "metadata": {},
   "source": [
    "These exceptions are *views* of the original `DataFrame`, in the\n",
    "sense that no data is copied and mutating the view mutates the\n",
    "original `DataFrame`:"
   ]
  },
  {
   "cell_type": "code",
   "execution_count": null,
   "metadata": {},
   "outputs": [],
   "source": [
    "v = df.age;\n",
    "v[1] = 1000\n",
    "df[1, :age]"
   ]
  },
  {
   "cell_type": "markdown",
   "metadata": {},
   "source": [
    "Mutating the output of all the other selection mechanisms will not\n",
    "touch the original `DataFrame`, as data is copied in those cases."
   ]
  },
  {
   "cell_type": "markdown",
   "metadata": {},
   "source": [
    "Use `select!` to make \"in-place\" column selections which mutate the\n",
    "original `DataFrame`. For example, the following permanently drops a\n",
    "column from `df`:"
   ]
  },
  {
   "cell_type": "code",
   "execution_count": null,
   "metadata": {},
   "outputs": [],
   "source": [
    "select!(df, Not(:cabin));\n",
    "first(df, 2)"
   ]
  },
  {
   "cell_type": "markdown",
   "metadata": {},
   "source": [
    "In addition to row and column views of a `DataFrame` we can construct\n",
    "larger views, of type `SubDataFrame`, which share most of the\n",
    "behviour of an ordinary `DataFrame`, except they only *point* to\n",
    "data in the parent `DataFrame`, rather than duplicate it:"
   ]
  },
  {
   "cell_type": "code",
   "execution_count": null,
   "metadata": {},
   "outputs": [],
   "source": [
    "df_copy = df[1:3, [:fare, :age]]       # this is copy\n",
    "df_view = @view df[1:3, [:fare, :age]] # this is a view"
   ]
  },
  {
   "cell_type": "code",
   "execution_count": null,
   "metadata": {},
   "outputs": [],
   "source": [
    "df_view[1, :age] = 4000\n",
    "df[1, :age]"
   ]
  },
  {
   "cell_type": "code",
   "execution_count": null,
   "metadata": {},
   "outputs": [],
   "source": [
    "df_copy[1, :age]"
   ]
  },
  {
   "cell_type": "markdown",
   "metadata": {},
   "source": [
    "## Describing the data"
   ]
  },
  {
   "cell_type": "markdown",
   "metadata": {},
   "source": [
    "To broaden the summary provided by `describe(df)` we can pass a\n",
    "number of symbols to indicate the statistics we are after:"
   ]
  },
  {
   "cell_type": "code",
   "execution_count": null,
   "metadata": {},
   "outputs": [],
   "source": [
    "describe(df, :min, :max, :mean, :median, :std)"
   ]
  },
  {
   "cell_type": "markdown",
   "metadata": {},
   "source": [
    "The following are all supported:\n",
    "* `mean`, `std`, `min`, `max`, `median`, `first`, `last` are all fairly self explanatory\n",
    "* `q25`, `q75` are respectively for the 25th and 75th percentile,\n",
    "* `eltype`, `nunique`, `nmissing` can also be used"
   ]
  },
  {
   "cell_type": "markdown",
   "metadata": {},
   "source": [
    "You can also pass your custom function with a pair `function =>\n",
    ":name` for instance:"
   ]
  },
  {
   "cell_type": "code",
   "execution_count": null,
   "metadata": {},
   "outputs": [],
   "source": [
    "using Statistics # to get functions like `mean` and `std`\n",
    "foo(v) = mean(abs.(v))\n",
    "d = describe(df, :mean, :median, foo => :mae)\n",
    "first(d, 3)"
   ]
  },
  {
   "cell_type": "markdown",
   "metadata": {},
   "source": [
    "Note that the object returned by `describe` is itself a `DataFrame`:"
   ]
  },
  {
   "cell_type": "code",
   "execution_count": null,
   "metadata": {},
   "outputs": [],
   "source": [
    "select(d, [:variable, :mean])"
   ]
  },
  {
   "cell_type": "markdown",
   "metadata": {},
   "source": [
    "## Materializing as a matrix\n",
    "\n",
    "To convert the content of the dataframe as one big matrix do this:\n",
    "use `convert`:"
   ]
  },
  {
   "cell_type": "code",
   "execution_count": null,
   "metadata": {},
   "outputs": [],
   "source": [
    "mat = Matrix(df)\n",
    "mat[1:3, 1:3]"
   ]
  },
  {
   "cell_type": "markdown",
   "metadata": {},
   "source": [
    "## Adding columns"
   ]
  },
  {
   "cell_type": "markdown",
   "metadata": {},
   "source": [
    "Adding a column to a dataframe is very easy:"
   ]
  },
  {
   "cell_type": "code",
   "execution_count": null,
   "metadata": {},
   "outputs": [],
   "source": [
    "df.weird = df.fare ./ df.age;\n",
    "first(df, 3)"
   ]
  },
  {
   "cell_type": "markdown",
   "metadata": {},
   "source": [
    "That's it! Remember also that you can drop columns or make\n",
    "subselections with `select` and `select!`."
   ]
  },
  {
   "cell_type": "markdown",
   "metadata": {},
   "source": [
    "The remainder of this tutorial is an abbreviated version of a\n",
    "[DataFrames.jl\n",
    "tutorial](http://juliadata.github.io/DataFrames.jl/latest/man/split_apply_combine/)."
   ]
  },
  {
   "cell_type": "code",
   "execution_count": null,
   "metadata": {},
   "outputs": [],
   "source": [
    "iris = OpenML.load(61) |> DataFrame;\n",
    "first(iris, 3)"
   ]
  },
  {
   "cell_type": "markdown",
   "metadata": {},
   "source": [
    "## `groupby`\n",
    "\n",
    "The `groupby` function allows to form \"sub-dataframes\" corresponding\n",
    "to groups of rows.  This can be very convenient to run specific\n",
    "analyses for specific groups without copying the data."
   ]
  },
  {
   "cell_type": "markdown",
   "metadata": {},
   "source": [
    "The basic usage is `groupby(df, cols)` where `cols` specifies one or\n",
    "several columns to use for the grouping."
   ]
  },
  {
   "cell_type": "markdown",
   "metadata": {},
   "source": [
    "Consider a simple example: in `iris` there is a `Species` column\n",
    "with 3 species:"
   ]
  },
  {
   "cell_type": "code",
   "execution_count": null,
   "metadata": {},
   "outputs": [],
   "source": [
    "unique(iris.class)"
   ]
  },
  {
   "cell_type": "markdown",
   "metadata": {},
   "source": [
    "We can form views for each of these:"
   ]
  },
  {
   "cell_type": "code",
   "execution_count": null,
   "metadata": {},
   "outputs": [],
   "source": [
    "gdf = groupby(iris, :class);"
   ]
  },
  {
   "cell_type": "markdown",
   "metadata": {},
   "source": [
    "The `gdf` object now corresponds to **views** of the original\n",
    "dataframe for each of the 3 species; the first species\n",
    "is `\"Iris-setosa\"` with:"
   ]
  },
  {
   "cell_type": "code",
   "execution_count": null,
   "metadata": {},
   "outputs": [],
   "source": [
    "subdf_setosa = gdf[1];\n",
    "typeof(subdf_setosa)"
   ]
  },
  {
   "cell_type": "code",
   "execution_count": null,
   "metadata": {},
   "outputs": [],
   "source": [
    "describe(subdf_setosa, :min, :mean, :max)"
   ]
  },
  {
   "cell_type": "markdown",
   "metadata": {},
   "source": [
    "Recall that this means modifying `subdf_setosa` also modifies its\n",
    "parent `iris`."
   ]
  },
  {
   "cell_type": "markdown",
   "metadata": {},
   "source": [
    "Do `?groupby` for more information."
   ]
  },
  {
   "cell_type": "markdown",
   "metadata": {},
   "source": [
    "## `combine`"
   ]
  },
  {
   "cell_type": "markdown",
   "metadata": {},
   "source": [
    "The `combine` function allows to derive a new dataframe out of\n",
    "transformations of an existing one.  Here's an example taken from\n",
    "the official doc (see `?combine`):"
   ]
  },
  {
   "cell_type": "code",
   "execution_count": null,
   "metadata": {},
   "outputs": [],
   "source": [
    "df = DataFrame(a=1:3, b=4:6)"
   ]
  },
  {
   "cell_type": "code",
   "execution_count": null,
   "metadata": {},
   "outputs": [],
   "source": [
    "combine(df, :a => sum, nrow)"
   ]
  },
  {
   "cell_type": "markdown",
   "metadata": {},
   "source": [
    "What happened here is that the derived DataFrame has two columns\n",
    "obtained respectively by (1) computing the sum of the first column\n",
    "and (2) applying the `nrow` function on the `df`.\n",
    "\n",
    "The transformation can produce one or several values, and `combine` will\n",
    "try to accomodate this with appropriate packing:"
   ]
  },
  {
   "cell_type": "code",
   "execution_count": null,
   "metadata": {},
   "outputs": [],
   "source": [
    "foo(v) = v[1:2]\n",
    "combine(df, :a => maximum, :b => foo)"
   ]
  },
  {
   "cell_type": "markdown",
   "metadata": {},
   "source": [
    "Here the maximum value of `a` is copied twice so that the two\n",
    "columns have the same number of rows."
   ]
  },
  {
   "cell_type": "code",
   "execution_count": null,
   "metadata": {},
   "outputs": [],
   "source": [
    "bar(v) = v[end-1:end]\n",
    "combine(df, :a => foo, :b => bar)"
   ]
  },
  {
   "cell_type": "markdown",
   "metadata": {},
   "source": [
    "## `combine` with `groupby`\n",
    "\n",
    "Combining `groupby` with `combine` is very useful.  For instance you\n",
    "might want to compute statistics across groups for different\n",
    "variables:"
   ]
  },
  {
   "cell_type": "code",
   "execution_count": null,
   "metadata": {},
   "outputs": [],
   "source": [
    "combine(groupby(iris, :class), :petallength => mean)"
   ]
  },
  {
   "cell_type": "markdown",
   "metadata": {},
   "source": [
    "Let's break this operatioin down:\n",
    "\n",
    "1. The `groupby(iris, :class)` creates groups using the `:class` column (which has values `Iris-setosa`, `Iris-versicolor`, `Iris-virginica`)\n",
    "2. The `combine` creates a derived dataframe by applying the `mean` function to the `:petallength` column\n",
    "3. Since there are three groups, we get one column (mean of `petallength`) and three rows (one per group).\n",
    "\n",
    "\n",
    "You can do this for several columns/statistics at the time and give\n",
    "new column names to the results:"
   ]
  },
  {
   "cell_type": "code",
   "execution_count": null,
   "metadata": {},
   "outputs": [],
   "source": [
    "gdf = groupby(iris, :class)\n",
    "combine(gdf, :petallength => mean => :MPL, :petallength => std => :SPL)"
   ]
  },
  {
   "cell_type": "markdown",
   "metadata": {},
   "source": [
    "So here we assign the names `:MPL` and `:SPL` to the derived\n",
    "columns.  If you want to apply something on all columns apart from\n",
    "the grouping one, using `names` and `Not` comes in handy:"
   ]
  },
  {
   "cell_type": "code",
   "execution_count": null,
   "metadata": {},
   "outputs": [],
   "source": [
    "combine(gdf, names(iris, Not(:class)) .=> std)"
   ]
  },
  {
   "cell_type": "markdown",
   "metadata": {},
   "source": [
    "where"
   ]
  },
  {
   "cell_type": "code",
   "execution_count": null,
   "metadata": {},
   "outputs": [],
   "source": [
    "names(iris, Not(:class))"
   ]
  },
  {
   "cell_type": "markdown",
   "metadata": {},
   "source": [
    "and note the use of `.` in `.=>` to indicate that we broadcast the\n",
    "function over each column."
   ]
  },
  {
   "cell_type": "markdown",
   "metadata": {},
   "source": [
    "---\n",
    "\n",
    "*This notebook was generated using [Literate.jl](https://github.com/fredrikekre/Literate.jl).*"
   ]
  }
 ],
 "metadata": {
  "kernelspec": {
   "display_name": "Julia 1.6.3",
   "language": "julia",
   "name": "julia-1.6"
  },
  "language_info": {
   "file_extension": ".jl",
   "mimetype": "application/julia",
   "name": "julia",
   "version": "1.6.5"
  }
 },
 "nbformat": 4,
 "nbformat_minor": 3
}
