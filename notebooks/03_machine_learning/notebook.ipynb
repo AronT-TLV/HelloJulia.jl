{
 "cells": [
  {
   "cell_type": "markdown",
   "source": [
    "# Tutorial 3"
   ],
   "metadata": {}
  },
  {
   "cell_type": "markdown",
   "source": [
    "An introduction to machine learning using MLJ and the Titanic\n",
    "dataset. Explains how to train a simple decision tree model and\n",
    "evaluate it's performance on a holdout set."
   ],
   "metadata": {}
  },
  {
   "cell_type": "markdown",
   "source": [
    "MLJ is a *multi-paradigm* machine learning toolbox (i.e., not just\n",
    "deep-learning)."
   ],
   "metadata": {}
  },
  {
   "cell_type": "markdown",
   "source": [
    "For other MLJ learning resources see the [Learning\n",
    "MLJ](https://alan-turing-institute.github.io/MLJ.jl/dev/learning_mlj/)\n",
    "section of the\n",
    "[manual](https://alan-turing-institute.github.io/MLJ.jl/dev/)."
   ],
   "metadata": {}
  },
  {
   "cell_type": "markdown",
   "source": [
    "## Activate package environment"
   ],
   "metadata": {}
  },
  {
   "outputs": [
    {
     "name": "stdout",
     "output_type": "stream",
     "text": [
      "  Activating project at `C:\\Users\\OKON SAMUEL\\Documents\\JuliaCon Lecture\\HelloJulia.jl`\n"
     ]
    }
   ],
   "cell_type": "code",
   "source": [
    "using Pkg\n",
    "Pkg.activate(joinpath(@__DIR__, \"..\", \"..\"))\n",
    "Pkg.instantiate()"
   ],
   "metadata": {},
   "execution_count": 1
  },
  {
   "cell_type": "markdown",
   "source": [
    "## Establishing correct data representation"
   ],
   "metadata": {}
  },
  {
   "outputs": [
    {
     "name": "stdout",
     "output_type": "stream",
     "text": [
      "[ Info: Precompiling MLJ [add582a8-e3ab-11e8-2d5e-e98b27df1bc7]\n"
     ]
    }
   ],
   "cell_type": "code",
   "source": [
    "using MLJ\n",
    "import DataFrames"
   ],
   "metadata": {},
   "execution_count": 2
  },
  {
   "cell_type": "markdown",
   "source": [
    "A [\"scientific\n",
    "type\"](https://juliaai.github.io/ScientificTypes.jl/dev/) or\n",
    "*scitype* indicates how MLJ will *interpret* data (as opposed to how\n",
    "it is represented on your machine). For example, while we have"
   ],
   "metadata": {}
  },
  {
   "outputs": [
    {
     "output_type": "execute_result",
     "data": {
      "text/plain": "Float64"
     },
     "metadata": {},
     "execution_count": 3
    }
   ],
   "cell_type": "code",
   "source": [
    "typeof(3.14)"
   ],
   "metadata": {},
   "execution_count": 3
  },
  {
   "cell_type": "markdown",
   "source": [
    "we have"
   ],
   "metadata": {}
  },
  {
   "outputs": [
    {
     "output_type": "execute_result",
     "data": {
      "text/plain": "ScientificTypesBase.Continuous"
     },
     "metadata": {},
     "execution_count": 4
    }
   ],
   "cell_type": "code",
   "source": [
    "scitype(3.14)"
   ],
   "metadata": {},
   "execution_count": 4
  },
  {
   "cell_type": "markdown",
   "source": [
    "and also"
   ],
   "metadata": {}
  },
  {
   "outputs": [
    {
     "output_type": "execute_result",
     "data": {
      "text/plain": "ScientificTypesBase.Continuous"
     },
     "metadata": {},
     "execution_count": 5
    }
   ],
   "cell_type": "code",
   "source": [
    "scitype(3.143f0)"
   ],
   "metadata": {},
   "execution_count": 5
  },
  {
   "cell_type": "markdown",
   "source": [
    "In MLJ, model data requirements are articulated using scitypes."
   ],
   "metadata": {}
  },
  {
   "cell_type": "markdown",
   "source": [
    "Here are common \"scalar\" scitypes:"
   ],
   "metadata": {}
  },
  {
   "outputs": [
    {
     "output_type": "execute_result",
     "data": {
      "text/plain": "HTML{String}(\"<div style=\\\"text-align: left\\\";>\\n\\t<img src=\\\"https://github.com/ablaom/MLJTutorial.jl/blob/dev/notebooks/01_data_representation/scitypes.png?raw=true\\\">\\n</div>\\n\")",
      "text/html": [
       "<div style=\"text-align: left\";>\n",
       "\t<img src=\"https://github.com/ablaom/MLJTutorial.jl/blob/dev/notebooks/01_data_representation/scitypes.png?raw=true\">\n",
       "</div>\n"
      ]
     },
     "metadata": {},
     "execution_count": 6
    }
   ],
   "cell_type": "code",
   "source": [
    "html\"\"\"\n",
    "<div style=\"text-align: left\";>\n",
    "\t<img src=\"https://github.com/ablaom/MLJTutorial.jl/blob/dev/notebooks/01_data_representation/scitypes.png?raw=true\">\n",
    "</div>\n",
    "\"\"\""
   ],
   "metadata": {},
   "execution_count": 6
  },
  {
   "cell_type": "markdown",
   "source": [
    "There are also container scitypes. For example, the scitype of any\n",
    "vector is `AbstractVector{S}`, where `S` is the scitype of its\n",
    "elements:"
   ],
   "metadata": {}
  },
  {
   "outputs": [
    {
     "output_type": "execute_result",
     "data": {
      "text/plain": "AbstractVector{Textual} (alias for AbstractArray{ScientificTypesBase.Textual, 1})"
     },
     "metadata": {},
     "execution_count": 7
    }
   ],
   "cell_type": "code",
   "source": [
    "scitype([\"cat\", \"mouse\", \"dog\"])"
   ],
   "metadata": {},
   "execution_count": 7
  },
  {
   "cell_type": "markdown",
   "source": [
    "We'll be using [OpenML](https://www.openml.org/home) to grab the\n",
    "Titanic dataset:"
   ],
   "metadata": {}
  },
  {
   "outputs": [
    {
     "output_type": "execute_result",
     "data": {
      "text/plain": "\u001b[1m8×7 DataFrame\u001b[0m\n\u001b[1m Row \u001b[0m│\u001b[1m variable \u001b[0m\u001b[1m mean     \u001b[0m\u001b[1m min    \u001b[0m\u001b[1m median  \u001b[0m\u001b[1m max     \u001b[0m\u001b[1m nmissing \u001b[0m\u001b[1m eltype         \u001b[0m ⋯\n\u001b[1m     \u001b[0m│\u001b[90m Symbol   \u001b[0m\u001b[90m Union…   \u001b[0m\u001b[90m Any    \u001b[0m\u001b[90m Union…  \u001b[0m\u001b[90m Any     \u001b[0m\u001b[90m Int64    \u001b[0m\u001b[90m Type           \u001b[0m ⋯\n─────┼──────────────────────────────────────────────────────────────────────────\n   1 │ pclass   \u001b[90m          \u001b[0m 1      \u001b[90m         \u001b[0m 3               0  CategoricalValu ⋯\n   2 │ sex      \u001b[90m          \u001b[0m female \u001b[90m         \u001b[0m male            0  CategoricalValu\n   3 │ age       29.7589   0.42    30.0     80.0            0  Float64\n   4 │ sibsp     0.523008  0.0     0.0      8.0             0  Float64\n   5 │ fare      32.2042   0.0     14.4542  512.329         0  Float64         ⋯\n   6 │ cabin    \u001b[90m          \u001b[0m E31    \u001b[90m         \u001b[0m C148          687  Union{Missing,\n   7 │ embarked \u001b[90m          \u001b[0m C      \u001b[90m         \u001b[0m S               2  Union{Missing,\n   8 │ survived \u001b[90m          \u001b[0m 0      \u001b[90m         \u001b[0m 1               0  CategoricalValu\n\u001b[36m                                                                1 column omitted\u001b[0m",
      "text/html": [
       "<div class=\"data-frame\"><p>8 rows × 7 columns</p><table class=\"data-frame\"><thead><tr><th></th><th>variable</th><th>mean</th><th>min</th><th>median</th><th>max</th><th>nmissing</th><th>eltype</th></tr><tr><th></th><th title=\"Symbol\">Symbol</th><th title=\"Union{Nothing, Float64}\">Union…</th><th title=\"Any\">Any</th><th title=\"Union{Nothing, Float64}\">Union…</th><th title=\"Any\">Any</th><th title=\"Int64\">Int64</th><th title=\"Type\">Type</th></tr></thead><tbody><tr><th>1</th><td>pclass</td><td></td><td>1</td><td></td><td>3</td><td>0</td><td>CategoricalValue{String, UInt32}</td></tr><tr><th>2</th><td>sex</td><td></td><td>female</td><td></td><td>male</td><td>0</td><td>CategoricalValue{String, UInt32}</td></tr><tr><th>3</th><td>age</td><td>29.7589</td><td>0.42</td><td>30.0</td><td>80.0</td><td>0</td><td>Float64</td></tr><tr><th>4</th><td>sibsp</td><td>0.523008</td><td>0.0</td><td>0.0</td><td>8.0</td><td>0</td><td>Float64</td></tr><tr><th>5</th><td>fare</td><td>32.2042</td><td>0.0</td><td>14.4542</td><td>512.329</td><td>0</td><td>Float64</td></tr><tr><th>6</th><td>cabin</td><td></td><td>E31</td><td></td><td>C148</td><td>687</td><td>Union{Missing, CategoricalValue{String, UInt32}}</td></tr><tr><th>7</th><td>embarked</td><td></td><td>C</td><td></td><td>S</td><td>2</td><td>Union{Missing, CategoricalValue{String, UInt32}}</td></tr><tr><th>8</th><td>survived</td><td></td><td>0</td><td></td><td>1</td><td>0</td><td>CategoricalValue{String, UInt32}</td></tr></tbody></table></div>"
      ]
     },
     "metadata": {},
     "execution_count": 8
    }
   ],
   "cell_type": "code",
   "source": [
    "table = OpenML.load(42638)\n",
    "df0 = DataFrames.DataFrame(table)\n",
    "DataFrames.describe(df0)"
   ],
   "metadata": {},
   "execution_count": 8
  },
  {
   "cell_type": "markdown",
   "source": [
    "The `schema` operator summarizes the column scitypes of a table:"
   ],
   "metadata": {}
  },
  {
   "outputs": [
    {
     "output_type": "execute_result",
     "data": {
      "text/plain": "┌──────────┬─────────────────────────────────┬──────────────────────────────────\n│\u001b[22m names    \u001b[0m│\u001b[22m scitypes                        \u001b[0m│\u001b[22m types                          \u001b[0m ⋯\n├──────────┼─────────────────────────────────┼──────────────────────────────────\n│ pclass   │ Multiclass{3}                   │ CategoricalValue{String, UInt32 ⋯\n│ sex      │ Multiclass{2}                   │ CategoricalValue{String, UInt32 ⋯\n│ age      │ Continuous                      │ Float64                         ⋯\n│ sibsp    │ Continuous                      │ Float64                         ⋯\n│ fare     │ Continuous                      │ Float64                         ⋯\n│ cabin    │ Union{Missing, Multiclass{186}} │ Union{Missing, CategoricalValue ⋯\n│ embarked │ Union{Missing, Multiclass{3}}   │ Union{Missing, CategoricalValue ⋯\n│ survived │ Multiclass{2}                   │ CategoricalValue{String, UInt32 ⋯\n└──────────┴─────────────────────────────────┴──────────────────────────────────\n\u001b[36m                                                                1 column omitted\u001b[0m\n"
     },
     "metadata": {},
     "execution_count": 9
    }
   ],
   "cell_type": "code",
   "source": [
    "schema(df0)"
   ],
   "metadata": {},
   "execution_count": 9
  },
  {
   "cell_type": "markdown",
   "source": [
    "Looks like we need to fix `:sibsp`, the number of siblings/spouses:"
   ],
   "metadata": {}
  },
  {
   "outputs": [
    {
     "output_type": "execute_result",
     "data": {
      "text/plain": "┌──────────┬─────────────────────────────────┬──────────────────────────────────\n│\u001b[22m names    \u001b[0m│\u001b[22m scitypes                        \u001b[0m│\u001b[22m types                          \u001b[0m ⋯\n├──────────┼─────────────────────────────────┼──────────────────────────────────\n│ pclass   │ Multiclass{3}                   │ CategoricalValue{String, UInt32 ⋯\n│ sex      │ Multiclass{2}                   │ CategoricalValue{String, UInt32 ⋯\n│ age      │ Continuous                      │ Float64                         ⋯\n│ sibsp    │ Count                           │ Int64                           ⋯\n│ fare     │ Continuous                      │ Float64                         ⋯\n│ cabin    │ Union{Missing, Multiclass{186}} │ Union{Missing, CategoricalValue ⋯\n│ embarked │ Union{Missing, Multiclass{3}}   │ Union{Missing, CategoricalValue ⋯\n│ survived │ Multiclass{2}                   │ CategoricalValue{String, UInt32 ⋯\n└──────────┴─────────────────────────────────┴──────────────────────────────────\n\u001b[36m                                                                1 column omitted\u001b[0m\n"
     },
     "metadata": {},
     "execution_count": 10
    }
   ],
   "cell_type": "code",
   "source": [
    "df1 = coerce(df0, :sibsp => Count)\n",
    "schema(df1)"
   ],
   "metadata": {},
   "execution_count": 10
  },
  {
   "cell_type": "markdown",
   "source": [
    "Lets take a closer look at our target column :survived. Here a value\n",
    "`0`` means that the individual didn't survive while a value of `1`` indicates\n",
    "an individual survived."
   ],
   "metadata": {}
  },
  {
   "outputs": [
    {
     "output_type": "execute_result",
     "data": {
      "text/plain": "2-element Vector{String}:\n \"0\"\n \"1\""
     },
     "metadata": {},
     "execution_count": 11
    }
   ],
   "cell_type": "code",
   "source": [
    "levels(df1.survived)"
   ],
   "metadata": {},
   "execution_count": 11
  },
  {
   "cell_type": "markdown",
   "source": [
    "The `:cabin` feature has a lot of missing values, and low frequency\n",
    "for other classes:"
   ],
   "metadata": {}
  },
  {
   "outputs": [
    {
     "output_type": "execute_result",
     "data": {
      "text/plain": "Dict{Union{Missing, CategoricalArrays.CategoricalValue{String, UInt32}}, Int64} with 148 entries:\n  \"C104\"    => 1\n  \"E50\"     => 1\n  \"D20\"     => 2\n  \"E58\"     => 1\n  \"C46\"     => 1\n  \"D37\"     => 1\n  \"B96 B98\" => 4\n  \"C86\"     => 1\n  \"C106\"    => 1\n  \"A5\"      => 1\n  \"C52\"     => 2\n  \"B19\"     => 1\n  \"C65\"     => 2\n  \"C30\"     => 1\n  \"D48\"     => 1\n  \"B42\"     => 1\n  \"C128\"    => 1\n  \"E38\"     => 1\n  \"E10\"     => 1\n  ⋮         => ⋮"
     },
     "metadata": {},
     "execution_count": 12
    }
   ],
   "cell_type": "code",
   "source": [
    "import StatsBase\n",
    "StatsBase.countmap(df0.cabin)"
   ],
   "metadata": {},
   "execution_count": 12
  },
  {
   "cell_type": "markdown",
   "source": [
    "We'll make `missing` into a bona fide class and group all the other\n",
    "classes into one:"
   ],
   "metadata": {}
  },
  {
   "outputs": [
    {
     "output_type": "execute_result",
     "data": {
      "text/plain": "class (generic function with 1 method)"
     },
     "metadata": {},
     "execution_count": 13
    }
   ],
   "cell_type": "code",
   "source": [
    "function class(c)\n",
    "    if ismissing(c)\n",
    "        return \"without cabin\"\n",
    "    else\n",
    "        return \"has cabin\"\n",
    "    end\n",
    "end"
   ],
   "metadata": {},
   "execution_count": 13
  },
  {
   "cell_type": "markdown",
   "source": [
    "Shorthand syntax would be `class(c) = ismissing(c) ? \"without cabin\" :\n",
    "\"has cabin\"`. Now to transform the whole column:"
   ],
   "metadata": {}
  },
  {
   "outputs": [
    {
     "output_type": "execute_result",
     "data": {
      "text/plain": "┌──────────┬───────────────────────────────┬────────────────────────────────────\n│\u001b[22m names    \u001b[0m│\u001b[22m scitypes                      \u001b[0m│\u001b[22m types                            \u001b[0m ⋯\n├──────────┼───────────────────────────────┼────────────────────────────────────\n│ pclass   │ Multiclass{3}                 │ CategoricalValue{String, UInt32}  ⋯\n│ sex      │ Multiclass{2}                 │ CategoricalValue{String, UInt32}  ⋯\n│ age      │ Continuous                    │ Float64                           ⋯\n│ sibsp    │ Count                         │ Int64                             ⋯\n│ fare     │ Continuous                    │ Float64                           ⋯\n│ cabin    │ Textual                       │ String                            ⋯\n│ embarked │ Union{Missing, Multiclass{3}} │ Union{Missing, CategoricalValue{S ⋯\n│ survived │ Multiclass{2}                 │ CategoricalValue{String, UInt32}  ⋯\n└──────────┴───────────────────────────────┴────────────────────────────────────\n\u001b[36m                                                                1 column omitted\u001b[0m\n"
     },
     "metadata": {},
     "execution_count": 14
    }
   ],
   "cell_type": "code",
   "source": [
    "df2 = DataFrames.transform(\n",
    "    df1, :cabin => DataFrames.ByRow(class) => :cabin\n",
    ") # now a `Textual` scitype\n",
    "coerce!(df2, :class => Multiclass)\n",
    "schema(df2)"
   ],
   "metadata": {},
   "execution_count": 14
  },
  {
   "cell_type": "markdown",
   "source": [
    "## Splitting into train and test sets\n",
    "Here we split off 30% of our observations into a\n",
    "lock-and-throw-away-the-key holdout set, called `df_test`:"
   ],
   "metadata": {}
  },
  {
   "outputs": [
    {
     "output_type": "execute_result",
     "data": {
      "text/plain": "624"
     },
     "metadata": {},
     "execution_count": 15
    }
   ],
   "cell_type": "code",
   "source": [
    "df, df_test = partition(df2, 0.7, rng=123)\n",
    "DataFrames.nrow(df)"
   ],
   "metadata": {},
   "execution_count": 15
  },
  {
   "outputs": [
    {
     "output_type": "execute_result",
     "data": {
      "text/plain": "267"
     },
     "metadata": {},
     "execution_count": 16
    }
   ],
   "cell_type": "code",
   "source": [
    "DataFrames.nrow(df_test)"
   ],
   "metadata": {},
   "execution_count": 16
  },
  {
   "cell_type": "markdown",
   "source": [
    "## Cleaning the data"
   ],
   "metadata": {}
  },
  {
   "cell_type": "markdown",
   "source": [
    "Let's constructor an MLJ model to impute missing data using default hyper-parameters:"
   ],
   "metadata": {}
  },
  {
   "outputs": [
    {
     "output_type": "execute_result",
     "data": {
      "text/plain": "FillImputer(\n  features = Symbol[], \n  continuous_fill = MLJModels._median, \n  count_fill = MLJModels._round_median, \n  finite_fill = MLJModels._mode)"
     },
     "metadata": {},
     "execution_count": 17
    }
   ],
   "cell_type": "code",
   "source": [
    "cleaner = FillImputer()"
   ],
   "metadata": {},
   "execution_count": 17
  },
  {
   "cell_type": "markdown",
   "source": [
    "In MLJ a *model* is just a container for hyper-parameters associated\n",
    "with some ML algorithm. It does not store learned parameters (unlike\n",
    "scikit-learn \"estimators\")."
   ],
   "metadata": {}
  },
  {
   "cell_type": "markdown",
   "source": [
    "We now bind the model with training data in a *machine*:"
   ],
   "metadata": {}
  },
  {
   "outputs": [
    {
     "output_type": "execute_result",
     "data": {
      "text/plain": "Machine trained 0 times; caches data\n  model: FillImputer(features = Symbol[], …)\n  args: \n    1:\tSource @779 ⏎ `ScientificTypesBase.Table{Union{AbstractVector{Union{Missing, ScientificTypesBase.Multiclass{3}}}, AbstractVector{ScientificTypesBase.Continuous}, AbstractVector{ScientificTypesBase.Count}, AbstractVector{ScientificTypesBase.Multiclass{2}}, AbstractVector{ScientificTypesBase.Multiclass{3}}, AbstractVector{ScientificTypesBase.Textual}}}`\n"
     },
     "metadata": {},
     "execution_count": 18
    }
   ],
   "cell_type": "code",
   "source": [
    "machc = machine(cleaner, df)"
   ],
   "metadata": {},
   "execution_count": 18
  },
  {
   "cell_type": "markdown",
   "source": [
    "And train the machine to store learned parameters there (the column\n",
    "modes and medians to be used to impute missings):"
   ],
   "metadata": {}
  },
  {
   "outputs": [
    {
     "name": "stdout",
     "output_type": "stream",
     "text": [
      "[ Info: Training machine(FillImputer(features = Symbol[], …), …).\n"
     ]
    }
   ],
   "cell_type": "code",
   "source": [
    "fit!(machc);"
   ],
   "metadata": {},
   "execution_count": 19
  },
  {
   "cell_type": "markdown",
   "source": [
    "We can inspect the learned parameters if we want:"
   ],
   "metadata": {}
  },
  {
   "outputs": [
    {
     "output_type": "execute_result",
     "data": {
      "text/plain": "Dict{Symbol, Any} with 7 entries:\n  :sibsp    => 0\n  :pclass   => \"3\"\n  :survived => \"0\"\n  :sex      => \"male\"\n  :age      => 30.0\n  :fare     => 14.5\n  :embarked => \"S\""
     },
     "metadata": {},
     "execution_count": 20
    }
   ],
   "cell_type": "code",
   "source": [
    "fitted_params(machc).filler_given_feature"
   ],
   "metadata": {},
   "execution_count": 20
  },
  {
   "cell_type": "markdown",
   "source": [
    "Next, we apply the learned transformation on our data:"
   ],
   "metadata": {}
  },
  {
   "outputs": [
    {
     "output_type": "execute_result",
     "data": {
      "text/plain": "┌──────────┬───────────────┬──────────────────────────────────┐\n│\u001b[22m names    \u001b[0m│\u001b[22m scitypes      \u001b[0m│\u001b[22m types                            \u001b[0m│\n├──────────┼───────────────┼──────────────────────────────────┤\n│ pclass   │ Multiclass{3} │ CategoricalValue{String, UInt32} │\n│ sex      │ Multiclass{2} │ CategoricalValue{String, UInt32} │\n│ age      │ Continuous    │ Float64                          │\n│ sibsp    │ Count         │ Int64                            │\n│ fare     │ Continuous    │ Float64                          │\n│ cabin    │ Textual       │ String                           │\n│ embarked │ Multiclass{3} │ CategoricalValue{String, UInt32} │\n│ survived │ Multiclass{2} │ CategoricalValue{String, UInt32} │\n└──────────┴───────────────┴──────────────────────────────────┘\n"
     },
     "metadata": {},
     "execution_count": 21
    }
   ],
   "cell_type": "code",
   "source": [
    "dfc     =  transform(machc, df)\n",
    "dfc_test = transform(machc, df_test)\n",
    "schema(dfc)"
   ],
   "metadata": {},
   "execution_count": 21
  },
  {
   "cell_type": "markdown",
   "source": [
    "## Split the data into input features and target"
   ],
   "metadata": {}
  },
  {
   "cell_type": "markdown",
   "source": [
    "The following method puts the column with name equal to `:survived`\n",
    "into the vector `y`, and everything else into a table (`DataFrame`)\n",
    "called `X`."
   ],
   "metadata": {}
  },
  {
   "outputs": [
    {
     "output_type": "execute_result",
     "data": {
      "text/plain": "AbstractVector{Multiclass{2}} (alias for AbstractArray{ScientificTypesBase.Multiclass{2}, 1})"
     },
     "metadata": {},
     "execution_count": 22
    }
   ],
   "cell_type": "code",
   "source": [
    "y, X = unpack(dfc, ==(:survived));\n",
    "scitype(y)"
   ],
   "metadata": {},
   "execution_count": 22
  },
  {
   "cell_type": "markdown",
   "source": [
    "While we're here, we'll do the same for the holdout test set:"
   ],
   "metadata": {}
  },
  {
   "outputs": [],
   "cell_type": "code",
   "source": [
    "y_test, X_test = unpack(dfc_test, ==(:survived));"
   ],
   "metadata": {},
   "execution_count": 23
  },
  {
   "cell_type": "markdown",
   "source": [
    "## Choosing an supervised model:"
   ],
   "metadata": {}
  },
  {
   "cell_type": "markdown",
   "source": [
    "There are not many models that can directly handle a mixture of\n",
    "scitypes, as we have here:"
   ],
   "metadata": {}
  },
  {
   "outputs": [
    {
     "output_type": "execute_result",
     "data": {
      "text/plain": "4-element Vector{NamedTuple{(:name, :package_name, :is_supervised, :abstract_type, :deep_properties, :docstring, :fit_data_scitype, :human_name, :hyperparameter_ranges, :hyperparameter_types, :hyperparameters, :implemented_methods, :inverse_transform_scitype, :is_pure_julia, :is_wrapper, :iteration_parameter, :load_path, :package_license, :package_url, :package_uuid, :predict_scitype, :prediction_type, :supports_class_weights, :supports_online, :supports_training_losses, :supports_weights, :transform_scitype, :input_scitype, :target_scitype, :output_scitype)}}:\n (name = ConstantClassifier, package_name = MLJModels, ... )\n (name = DecisionTreeClassifier, package_name = BetaML, ... )\n (name = DeterministicConstantClassifier, package_name = MLJModels, ... )\n (name = RandomForestClassifier, package_name = BetaML, ... )"
     },
     "metadata": {},
     "execution_count": 24
    }
   ],
   "cell_type": "code",
   "source": [
    "models(matching(X, y))"
   ],
   "metadata": {},
   "execution_count": 24
  },
  {
   "cell_type": "markdown",
   "source": [
    "This can be mitigated with further pre-processing (such as one-hot\n",
    "encoding) but we'll settle for one the above models here:"
   ],
   "metadata": {}
  },
  {
   "outputs": [
    {
     "output_type": "execute_result",
     "data": {
      "text/plain": "  A simple Decision Tree for classification with support for Missing data,\n  from the Beta Machine Learning Toolkit (BetaML).",
      "text/markdown": "A simple Decision Tree for classification with support for Missing data, from the Beta Machine Learning Toolkit (BetaML).\n"
     },
     "metadata": {},
     "execution_count": 25
    }
   ],
   "cell_type": "code",
   "source": [
    "doc(\"DecisionTreeClassifier\", pkg=\"BetaML\")"
   ],
   "metadata": {},
   "execution_count": 25
  },
  {
   "outputs": [
    {
     "name": "stdout",
     "output_type": "stream",
     "text": [
      "[ Info: For silent loading, specify `verbosity=0`. \n",
      "import BetaML ✔\n"
     ]
    },
    {
     "output_type": "execute_result",
     "data": {
      "text/plain": "DecisionTreeClassifier(\n  maxDepth = 0, \n  minGain = 0.0, \n  minRecords = 2, \n  maxFeatures = 0, \n  splittingCriterion = BetaML.Utils.gini, \n  rng = Random._GLOBAL_RNG())"
     },
     "metadata": {},
     "execution_count": 26
    }
   ],
   "cell_type": "code",
   "source": [
    "Tree = @load DecisionTreeClassifier pkg=BetaML  # model type\n",
    "tree = Tree()                                   # default instance"
   ],
   "metadata": {},
   "execution_count": 26
  },
  {
   "cell_type": "markdown",
   "source": [
    "Notice that by calling `Tree` with no arguments we get default\n",
    "values for the various hyperparameters that control how the tree is\n",
    "trained. We specify keyword arguments to overide these defaults. For example:"
   ],
   "metadata": {}
  },
  {
   "outputs": [
    {
     "output_type": "execute_result",
     "data": {
      "text/plain": "DecisionTreeClassifier(\n  maxDepth = 3, \n  minGain = 0.0, \n  minRecords = 2, \n  maxFeatures = 0, \n  splittingCriterion = BetaML.Utils.gini, \n  rng = Random._GLOBAL_RNG())"
     },
     "metadata": {},
     "execution_count": 27
    }
   ],
   "cell_type": "code",
   "source": [
    "small_tree = Tree(maxDepth=3)"
   ],
   "metadata": {},
   "execution_count": 27
  },
  {
   "cell_type": "markdown",
   "source": [
    "A decision tree is frequently not the best performing model, but it\n",
    "is easy to interpret (and the algorithm is relatively easy to\n",
    "explain). For example, here's an diagramatic representation of a\n",
    "tree trained on (some part of) the Titanic data set, which suggests\n",
    "how prediction works:"
   ],
   "metadata": {}
  },
  {
   "outputs": [
    {
     "output_type": "execute_result",
     "data": {
      "text/plain": "HTML{String}(\"<div style=\\\"text-align: left\\\";>\\n\\t<img src=\\\"https://upload.wikimedia.org/wikipedia/commons/5/58/Decision_Tree_-_survival_of_passengers_on_the_Titanic.jpg\\\">\\n</div>\\n\")",
      "text/html": [
       "<div style=\"text-align: left\";>\n",
       "\t<img src=\"https://upload.wikimedia.org/wikipedia/commons/5/58/Decision_Tree_-_survival_of_passengers_on_the_Titanic.jpg\">\n",
       "</div>\n"
      ]
     },
     "metadata": {},
     "execution_count": 28
    }
   ],
   "cell_type": "code",
   "source": [
    "html\"\"\"\n",
    "<div style=\"text-align: left\";>\n",
    "\t<img src=\"https://upload.wikimedia.org/wikipedia/commons/5/58/Decision_Tree_-_survival_of_passengers_on_the_Titanic.jpg\">\n",
    "</div>\n",
    "\"\"\""
   ],
   "metadata": {},
   "execution_count": 28
  },
  {
   "cell_type": "markdown",
   "source": [
    "## The fit/predict worflow"
   ],
   "metadata": {}
  },
  {
   "cell_type": "markdown",
   "source": [
    "We now the bind data to used for training and evaluation to the model\n",
    "in a machine, just like we did for missing value imputation. In this\n",
    "case, however, we also need to specify the training target `y`:"
   ],
   "metadata": {}
  },
  {
   "outputs": [
    {
     "output_type": "execute_result",
     "data": {
      "text/plain": "Machine trained 0 times; caches data\n  model: DecisionTreeClassifier(maxDepth = 0, …)\n  args: \n    1:\tSource @864 ⏎ `ScientificTypesBase.Table{Union{AbstractVector{ScientificTypesBase.Continuous}, AbstractVector{ScientificTypesBase.Count}, AbstractVector{ScientificTypesBase.Multiclass{2}}, AbstractVector{ScientificTypesBase.Multiclass{3}}, AbstractVector{ScientificTypesBase.Textual}}}`\n    2:\tSource @738 ⏎ `AbstractVector{ScientificTypesBase.Multiclass{2}}`\n"
     },
     "metadata": {},
     "execution_count": 29
    }
   ],
   "cell_type": "code",
   "source": [
    "macht = machine(tree, X, y)"
   ],
   "metadata": {},
   "execution_count": 29
  },
  {
   "cell_type": "markdown",
   "source": [
    "To train using *all* the bound data:"
   ],
   "metadata": {}
  },
  {
   "outputs": [
    {
     "name": "stdout",
     "output_type": "stream",
     "text": [
      "[ Info: Training machine(DecisionTreeClassifier(maxDepth = 0, …), …).\n"
     ]
    },
    {
     "output_type": "execute_result",
     "data": {
      "text/plain": "Machine trained 1 time; caches data\n  model: DecisionTreeClassifier(maxDepth = 0, …)\n  args: \n    1:\tSource @864 ⏎ `ScientificTypesBase.Table{Union{AbstractVector{ScientificTypesBase.Continuous}, AbstractVector{ScientificTypesBase.Count}, AbstractVector{ScientificTypesBase.Multiclass{2}}, AbstractVector{ScientificTypesBase.Multiclass{3}}, AbstractVector{ScientificTypesBase.Textual}}}`\n    2:\tSource @738 ⏎ `AbstractVector{ScientificTypesBase.Multiclass{2}}`\n"
     },
     "metadata": {},
     "execution_count": 30
    }
   ],
   "cell_type": "code",
   "source": [
    "fit!(macht)"
   ],
   "metadata": {},
   "execution_count": 30
  },
  {
   "cell_type": "markdown",
   "source": [
    "And get predictions on the holdout set:"
   ],
   "metadata": {}
  },
  {
   "outputs": [],
   "cell_type": "code",
   "source": [
    "p = predict(macht, X_test);"
   ],
   "metadata": {},
   "execution_count": 31
  },
  {
   "cell_type": "markdown",
   "source": [
    "These are *probabilistic* predictions:"
   ],
   "metadata": {}
  },
  {
   "outputs": [
    {
     "output_type": "execute_result",
     "data": {
      "text/plain": "     \u001b[97;1mUnivariateFinite{ScientificTypesBase.Multiclass{2}}\u001b[0m \n     \u001b[38;5;8m┌                                        ┐\u001b[0m \n   0 \u001b[38;5;8m┤\u001b[0m\u001b[38;5;2m■■■■■■■■■\u001b[0m 0.2                           \u001b[38;5;8m \u001b[0m \u001b[38;5;8m\u001b[0m\n   1 \u001b[38;5;8m┤\u001b[0m\u001b[38;5;2m■■■■■■■■■■■■■■■■■■■■■■■■■■■■■■■■■■■\u001b[0m 0.8 \u001b[38;5;8m \u001b[0m \u001b[38;5;8m\u001b[0m\n     \u001b[38;5;8m└                                        ┘\u001b[0m "
     },
     "metadata": {},
     "execution_count": 32
    }
   ],
   "cell_type": "code",
   "source": [
    "p[3]"
   ],
   "metadata": {},
   "execution_count": 32
  },
  {
   "outputs": [
    {
     "output_type": "execute_result",
     "data": {
      "text/plain": "0.2"
     },
     "metadata": {},
     "execution_count": 33
    }
   ],
   "cell_type": "code",
   "source": [
    "pdf(p[3], \"0\")"
   ],
   "metadata": {},
   "execution_count": 33
  },
  {
   "cell_type": "markdown",
   "source": [
    "We can also get \"point\" predictions:"
   ],
   "metadata": {}
  },
  {
   "outputs": [
    {
     "output_type": "execute_result",
     "data": {
      "text/plain": "267-element CategoricalArrays.CategoricalArray{String,1,UInt32}:\n \"1\"\n \"1\"\n \"1\"\n \"0\"\n \"0\"\n \"0\"\n \"1\"\n \"0\"\n \"0\"\n \"0\"\n ⋮\n \"0\"\n \"0\"\n \"0\"\n \"0\"\n \"1\"\n \"0\"\n \"1\"\n \"0\"\n \"0\""
     },
     "metadata": {},
     "execution_count": 34
    }
   ],
   "cell_type": "code",
   "source": [
    "yhat = mode.(p)"
   ],
   "metadata": {},
   "execution_count": 34
  },
  {
   "cell_type": "markdown",
   "source": [
    "We can evaluate performance using a probabilistic measure, as in"
   ],
   "metadata": {}
  },
  {
   "outputs": [
    {
     "output_type": "execute_result",
     "data": {
      "text/plain": "8.307615579043436"
     },
     "metadata": {},
     "execution_count": 35
    }
   ],
   "cell_type": "code",
   "source": [
    "log_loss(p, y_test) |> mean"
   ],
   "metadata": {},
   "execution_count": 35
  },
  {
   "cell_type": "markdown",
   "source": [
    "Or using a deterministic measure:"
   ],
   "metadata": {}
  },
  {
   "outputs": [
    {
     "output_type": "execute_result",
     "data": {
      "text/plain": "0.7265917602996255"
     },
     "metadata": {},
     "execution_count": 36
    }
   ],
   "cell_type": "code",
   "source": [
    "accuracy(yhat, y_test)"
   ],
   "metadata": {},
   "execution_count": 36
  },
  {
   "cell_type": "markdown",
   "source": [
    "List all performance measures with `measures()`. Naturally, MLJ\n",
    "includes functions to automate this kind of performance evaluation,\n",
    "but this is beyond the scope of this tutorial. See, eg,\n",
    "[here](https://alan-turing-institute.github.io/MLJ.jl/dev/getting_started/#Getting-Started)."
   ],
   "metadata": {}
  },
  {
   "cell_type": "markdown",
   "source": [
    "## Learning more"
   ],
   "metadata": {}
  },
  {
   "cell_type": "markdown",
   "source": [
    "Some suggestions for next steps are\n",
    "[here](https://alan-turing-institute.github.io/MLJ.jl/dev/getting_started/#Getting-Started)."
   ],
   "metadata": {}
  },
  {
   "cell_type": "markdown",
   "source": [
    "---\n",
    "\n",
    "*This notebook was generated using [Literate.jl](https://github.com/fredrikekre/Literate.jl).*"
   ],
   "metadata": {}
  }
 ],
 "nbformat_minor": 3,
 "metadata": {
  "language_info": {
   "file_extension": ".jl",
   "mimetype": "application/julia",
   "name": "julia",
   "version": "1.7.1"
  },
  "kernelspec": {
   "name": "julia-1.7",
   "display_name": "Julia 1.7.1",
   "language": "julia"
  }
 },
 "nbformat": 4
}
