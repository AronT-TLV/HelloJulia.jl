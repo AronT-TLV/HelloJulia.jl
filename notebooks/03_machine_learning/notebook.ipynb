{
 "cells": [
  {
   "cell_type": "markdown",
   "metadata": {},
   "source": [
    "# Tutorial 3"
   ]
  },
  {
   "cell_type": "markdown",
   "metadata": {},
   "source": [
    "An introduction to machine learning using MLJ and the Titanic\n",
    "dataset. Explains how to train a simple decision tree model and\n",
    "evaluate it's performance on a holdout set."
   ]
  },
  {
   "cell_type": "markdown",
   "metadata": {},
   "source": [
    "MLJ is a *multi-paradigm* machine learning toolbox (i.e., not just\n",
    "deep-learning)."
   ]
  },
  {
   "cell_type": "markdown",
   "metadata": {},
   "source": [
    "For other MLJ learning resources see the [Learning\n",
    "MLJ](https://alan-turing-institute.github.io/MLJ.jl/dev/learning_mlj/)\n",
    "section of the\n",
    "[manual](https://alan-turing-institute.github.io/MLJ.jl/dev/)."
   ]
  },
  {
   "cell_type": "markdown",
   "metadata": {},
   "source": [
    "## Activate package environment"
   ]
  },
  {
   "cell_type": "code",
   "execution_count": 1,
   "metadata": {},
   "outputs": [
    {
     "name": "stdout",
     "output_type": "stream",
     "text": [
      "  Activating project at `~/GoogleDrive/Julia/HelloJulia`\n"
     ]
    }
   ],
   "source": [
    "using Pkg\n",
    "Pkg.activate(joinpath(@__DIR__, \"..\", \"..\"))\n",
    "Pkg.instantiate()"
   ]
  },
  {
   "cell_type": "markdown",
   "metadata": {},
   "source": [
    "## Establishing correct data representation"
   ]
  },
  {
   "cell_type": "code",
   "execution_count": 2,
   "metadata": {},
   "outputs": [],
   "source": [
    "using MLJ\n",
    "import DataFrames"
   ]
  },
  {
   "cell_type": "markdown",
   "metadata": {},
   "source": [
    "A [\"scientific\n",
    "type\"](https://juliaai.github.io/ScientificTypes.jl/dev/) or\n",
    "*scitype* indicates how MLJ will *interpret* data (as opposed to how\n",
    "it is represented on your machine). For example, while we have"
   ]
  },
  {
   "cell_type": "code",
   "execution_count": 3,
   "metadata": {},
   "outputs": [
    {
     "data": {
      "text/plain": [
       "Float64"
      ]
     },
     "execution_count": 3,
     "metadata": {},
     "output_type": "execute_result"
    }
   ],
   "source": [
    "typeof(3.14)"
   ]
  },
  {
   "cell_type": "markdown",
   "metadata": {},
   "source": [
    "we have"
   ]
  },
  {
   "cell_type": "code",
   "execution_count": 4,
   "metadata": {},
   "outputs": [
    {
     "data": {
      "text/plain": [
       "Continuous"
      ]
     },
     "execution_count": 4,
     "metadata": {},
     "output_type": "execute_result"
    }
   ],
   "source": [
    "scitype(3.14)"
   ]
  },
  {
   "cell_type": "markdown",
   "metadata": {},
   "source": [
    "and also"
   ]
  },
  {
   "cell_type": "code",
   "execution_count": 5,
   "metadata": {},
   "outputs": [
    {
     "data": {
      "text/plain": [
       "Continuous"
      ]
     },
     "execution_count": 5,
     "metadata": {},
     "output_type": "execute_result"
    }
   ],
   "source": [
    "scitype(3.143f0)"
   ]
  },
  {
   "cell_type": "markdown",
   "metadata": {},
   "source": [
    "In MLJ, model data requirements are articulated using scitypes."
   ]
  },
  {
   "cell_type": "markdown",
   "metadata": {},
   "source": [
    "Here are common \"scalar\" scitypes:"
   ]
  },
  {
   "cell_type": "markdown",
   "metadata": {},
   "source": [
    "![](assets/scitypes.png)"
   ]
  },
  {
   "cell_type": "markdown",
   "metadata": {},
   "source": [
    "There are also container scitypes. For example, the scitype of any\n",
    "vector is `AbstractVector{S}`, where `S` is the scitype of its\n",
    "elements:"
   ]
  },
  {
   "cell_type": "code",
   "execution_count": 6,
   "metadata": {},
   "outputs": [
    {
     "data": {
      "text/plain": [
       "AbstractVector{Textual} (alias for AbstractArray{Textual, 1})"
      ]
     },
     "execution_count": 6,
     "metadata": {},
     "output_type": "execute_result"
    }
   ],
   "source": [
    "scitype([\"cat\", \"mouse\", \"dog\"])"
   ]
  },
  {
   "cell_type": "markdown",
   "metadata": {},
   "source": [
    "We'll be using [OpenML](https://www.openml.org/home) to grab the\n",
    "Titanic dataset:"
   ]
  },
  {
   "cell_type": "code",
   "execution_count": 7,
   "metadata": {},
   "outputs": [
    {
     "data": {
      "text/html": [
       "<div class=\"data-frame\"><p>8 rows × 7 columns</p><table class=\"data-frame\"><thead><tr><th></th><th>variable</th><th>mean</th><th>min</th><th>median</th><th>max</th><th>nmissing</th><th>eltype</th></tr><tr><th></th><th title=\"Symbol\">Symbol</th><th title=\"Union{Nothing, Float64}\">Union…</th><th title=\"Any\">Any</th><th title=\"Union{Nothing, Float64}\">Union…</th><th title=\"Any\">Any</th><th title=\"Int64\">Int64</th><th title=\"Type\">Type</th></tr></thead><tbody><tr><th>1</th><td>pclass</td><td></td><td>1</td><td></td><td>3</td><td>0</td><td>CategoricalValue{String, UInt32}</td></tr><tr><th>2</th><td>sex</td><td></td><td>female</td><td></td><td>male</td><td>0</td><td>CategoricalValue{String, UInt32}</td></tr><tr><th>3</th><td>age</td><td>29.7589</td><td>0.42</td><td>30.0</td><td>80.0</td><td>0</td><td>Float64</td></tr><tr><th>4</th><td>sibsp</td><td>0.523008</td><td>0.0</td><td>0.0</td><td>8.0</td><td>0</td><td>Float64</td></tr><tr><th>5</th><td>fare</td><td>32.2042</td><td>0.0</td><td>14.4542</td><td>512.329</td><td>0</td><td>Float64</td></tr><tr><th>6</th><td>cabin</td><td></td><td>E31</td><td></td><td>C148</td><td>687</td><td>Union{Missing, CategoricalValue{String, UInt32}}</td></tr><tr><th>7</th><td>embarked</td><td></td><td>C</td><td></td><td>S</td><td>2</td><td>Union{Missing, CategoricalValue{String, UInt32}}</td></tr><tr><th>8</th><td>survived</td><td></td><td>0</td><td></td><td>1</td><td>0</td><td>CategoricalValue{String, UInt32}</td></tr></tbody></table></div>"
      ],
      "text/plain": [
       "\u001b[1m8×7 DataFrame\u001b[0m\n",
       "\u001b[1m Row \u001b[0m│\u001b[1m variable \u001b[0m\u001b[1m mean     \u001b[0m\u001b[1m min    \u001b[0m\u001b[1m median  \u001b[0m\u001b[1m max     \u001b[0m\u001b[1m nmissing \u001b[0m\u001b[1m eltype                     \u001b[0m ⋯\n",
       "\u001b[1m     \u001b[0m│\u001b[90m Symbol   \u001b[0m\u001b[90m Union…   \u001b[0m\u001b[90m Any    \u001b[0m\u001b[90m Union…  \u001b[0m\u001b[90m Any     \u001b[0m\u001b[90m Int64    \u001b[0m\u001b[90m Type                       \u001b[0m ⋯\n",
       "─────┼──────────────────────────────────────────────────────────────────────────────────────\n",
       "   1 │ pclass   \u001b[90m          \u001b[0m 1      \u001b[90m         \u001b[0m 3               0  CategoricalValue{String, UI ⋯\n",
       "   2 │ sex      \u001b[90m          \u001b[0m female \u001b[90m         \u001b[0m male            0  CategoricalValue{String, UI\n",
       "   3 │ age       29.7589   0.42    30.0     80.0            0  Float64\n",
       "   4 │ sibsp     0.523008  0.0     0.0      8.0             0  Float64\n",
       "   5 │ fare      32.2042   0.0     14.4542  512.329         0  Float64                     ⋯\n",
       "   6 │ cabin    \u001b[90m          \u001b[0m E31    \u001b[90m         \u001b[0m C148          687  Union{Missing, CategoricalV\n",
       "   7 │ embarked \u001b[90m          \u001b[0m C      \u001b[90m         \u001b[0m S               2  Union{Missing, CategoricalV\n",
       "   8 │ survived \u001b[90m          \u001b[0m 0      \u001b[90m         \u001b[0m 1               0  CategoricalValue{String, UI\n",
       "\u001b[36m                                                                            1 column omitted\u001b[0m"
      ]
     },
     "execution_count": 7,
     "metadata": {},
     "output_type": "execute_result"
    }
   ],
   "source": [
    "table = OpenML.load(42638)\n",
    "df0 = DataFrames.DataFrame(table)\n",
    "DataFrames.describe(df0)"
   ]
  },
  {
   "cell_type": "markdown",
   "metadata": {},
   "source": [
    "The `schema` operator summarizes the column scitypes of a table:"
   ]
  },
  {
   "cell_type": "code",
   "execution_count": 8,
   "metadata": {},
   "outputs": [
    {
     "data": {
      "text/html": [
       "<div class=\"data-frame\"><p>8 rows × 3 columns</p><table class=\"data-frame\"><thead><tr><th></th><th>names</th><th>scitypes</th><th>types</th></tr><tr><th></th><th title=\"Symbol\">Symbol</th><th title=\"Type\">Type</th><th title=\"Type\">Type</th></tr></thead><tbody><tr><th>1</th><td>pclass</td><td>Multiclass{3}</td><td>CategoricalValue{String, UInt32}</td></tr><tr><th>2</th><td>sex</td><td>Multiclass{2}</td><td>CategoricalValue{String, UInt32}</td></tr><tr><th>3</th><td>age</td><td>Continuous</td><td>Float64</td></tr><tr><th>4</th><td>sibsp</td><td>Continuous</td><td>Float64</td></tr><tr><th>5</th><td>fare</td><td>Continuous</td><td>Float64</td></tr><tr><th>6</th><td>cabin</td><td>Union{Missing, Multiclass{186}}</td><td>Union{Missing, CategoricalValue{String, UInt32}}</td></tr><tr><th>7</th><td>embarked</td><td>Union{Missing, Multiclass{3}}</td><td>Union{Missing, CategoricalValue{String, UInt32}}</td></tr><tr><th>8</th><td>survived</td><td>Multiclass{2}</td><td>CategoricalValue{String, UInt32}</td></tr></tbody></table></div>"
      ],
      "text/plain": [
       "\u001b[1m8×3 DataFrame\u001b[0m\n",
       "\u001b[1m Row \u001b[0m│\u001b[1m names    \u001b[0m\u001b[1m scitypes                        \u001b[0m\u001b[1m types                             \u001b[0m\n",
       "\u001b[1m     \u001b[0m│\u001b[90m Symbol   \u001b[0m\u001b[90m Type                            \u001b[0m\u001b[90m Type                              \u001b[0m\n",
       "─────┼──────────────────────────────────────────────────────────────────────────────\n",
       "   1 │ pclass    Multiclass{3}                    CategoricalValue{String, UInt32}\n",
       "   2 │ sex       Multiclass{2}                    CategoricalValue{String, UInt32}\n",
       "   3 │ age       Continuous                       Float64\n",
       "   4 │ sibsp     Continuous                       Float64\n",
       "   5 │ fare      Continuous                       Float64\n",
       "   6 │ cabin     Union{Missing, Multiclass{186}}  Union{Missing, CategoricalValue{…\n",
       "   7 │ embarked  Union{Missing, Multiclass{3}}    Union{Missing, CategoricalValue{…\n",
       "   8 │ survived  Multiclass{2}                    CategoricalValue{String, UInt32}"
      ]
     },
     "execution_count": 8,
     "metadata": {},
     "output_type": "execute_result"
    }
   ],
   "source": [
    "schema(df0) |> DataFrames.DataFrame  # converted to DataFrame for better display"
   ]
  },
  {
   "cell_type": "markdown",
   "metadata": {},
   "source": [
    "Looks like we need to fix `:sibsp`, the number of siblings/spouses:"
   ]
  },
  {
   "cell_type": "code",
   "execution_count": 9,
   "metadata": {},
   "outputs": [],
   "source": [
    "coerce!(df0, :sibsp => Count);"
   ]
  },
  {
   "cell_type": "markdown",
   "metadata": {},
   "source": [
    "And we'll regard `:survived`, our target variable, as ordered (the\n",
    "first level is then considered the \"false\" class)"
   ]
  },
  {
   "cell_type": "code",
   "execution_count": 10,
   "metadata": {},
   "outputs": [
    {
     "data": {
      "text/plain": [
       "2-element Vector{String}:\n",
       " \"0\"\n",
       " \"1\""
      ]
     },
     "execution_count": 10,
     "metadata": {},
     "output_type": "execute_result"
    }
   ],
   "source": [
    "coerce!(df0, :survived => OrderedFactor)\n",
    "levels(df0.survived)"
   ]
  },
  {
   "cell_type": "markdown",
   "metadata": {},
   "source": [
    "The `:cabin` feature has a lot of missing values, and low frequency\n",
    "for other classes:"
   ]
  },
  {
   "cell_type": "code",
   "execution_count": 11,
   "metadata": {},
   "outputs": [
    {
     "data": {
      "text/plain": [
       "Dict{Union{Missing, CategoricalArrays.CategoricalValue{String, UInt32}}, Int64} with 148 entries:\n",
       "  \"C104\"    => 1\n",
       "  \"E50\"     => 1\n",
       "  \"D20\"     => 2\n",
       "  \"E58\"     => 1\n",
       "  \"C46\"     => 1\n",
       "  \"D37\"     => 1\n",
       "  \"B96 B98\" => 4\n",
       "  \"C86\"     => 1\n",
       "  \"C106\"    => 1\n",
       "  \"A5\"      => 1\n",
       "  \"C52\"     => 2\n",
       "  \"B19\"     => 1\n",
       "  \"C65\"     => 2\n",
       "  \"C30\"     => 1\n",
       "  \"D48\"     => 1\n",
       "  \"B42\"     => 1\n",
       "  \"C128\"    => 1\n",
       "  \"E38\"     => 1\n",
       "  \"E10\"     => 1\n",
       "  \"C124\"    => 2\n",
       "  \"D21\"     => 1\n",
       "  \"C95\"     => 1\n",
       "  \"F4\"      => 2\n",
       "  \"C45\"     => 1\n",
       "  \"A7\"      => 1\n",
       "  \"D45\"     => 1\n",
       "  \"F G73\"   => 2\n",
       "  \"D6\"      => 1\n",
       "  \"B77\"     => 2\n",
       "  \"C103\"    => 1\n",
       "  \"C7\"      => 1\n",
       "  \"D19\"     => 1\n",
       "  \"E40\"     => 1\n",
       "  \"C126\"    => 2\n",
       "  \"D36\"     => 2\n",
       "  missing   => 687\n",
       "  \"B58 B60\" => 2\n",
       "  \"B5\"      => 2\n",
       "  \"F E69\"   => 1\n",
       "  \"D33\"     => 2\n",
       "  \"A19\"     => 1\n",
       "  \"E25\"     => 2\n",
       "  \"C2\"      => 2\n",
       "  \"D9\"      => 1\n",
       "  \"D15\"     => 1\n",
       "  \"C50\"     => 1\n",
       "  \"C101\"    => 1\n",
       "  \"C68\"     => 2\n",
       "  \"B41\"     => 1\n",
       "  \"D26\"     => 2\n",
       "  \"D49\"     => 1\n",
       "  \"C54\"     => 1\n",
       "  ⋮         => ⋮"
      ]
     },
     "execution_count": 11,
     "metadata": {},
     "output_type": "execute_result"
    }
   ],
   "source": [
    "import StatsBase\n",
    "StatsBase.countmap(df0.cabin)"
   ]
  },
  {
   "cell_type": "markdown",
   "metadata": {},
   "source": [
    "We'll make `missing` into a bona fide class and group all the other\n",
    "classes into one:"
   ]
  },
  {
   "cell_type": "code",
   "execution_count": 12,
   "metadata": {},
   "outputs": [
    {
     "data": {
      "text/plain": [
       "class (generic function with 1 method)"
      ]
     },
     "execution_count": 12,
     "metadata": {},
     "output_type": "execute_result"
    }
   ],
   "source": [
    "function class(c)\n",
    "    if ismissing(c)\n",
    "        return \"without cabin\"\n",
    "    else\n",
    "        return \"has cabin\"\n",
    "    end\n",
    "end"
   ]
  },
  {
   "cell_type": "markdown",
   "metadata": {},
   "source": [
    "Shorthand syntax would be `class(c) = ismissing(c) ? \"without cabin\" :\n",
    "\"has cabin\"`. Now to transform the whole column:"
   ]
  },
  {
   "cell_type": "code",
   "execution_count": 13,
   "metadata": {},
   "outputs": [
    {
     "data": {
      "text/plain": [
       "┌──────────┬───────────────────────────────┬────────────────────────────────────────────────\n",
       "│\u001b[22m names    \u001b[0m│\u001b[22m scitypes                      \u001b[0m│\u001b[22m types                                        \u001b[0m ⋯\n",
       "├──────────┼───────────────────────────────┼────────────────────────────────────────────────\n",
       "│ pclass   │ Multiclass{3}                 │ CategoricalValue{String, UInt32}              ⋯\n",
       "│ sex      │ Multiclass{2}                 │ CategoricalValue{String, UInt32}              ⋯\n",
       "│ age      │ Continuous                    │ Float64                                       ⋯\n",
       "│ sibsp    │ Count                         │ Int64                                         ⋯\n",
       "│ fare     │ Continuous                    │ Float64                                       ⋯\n",
       "│ cabin    │ Textual                       │ String                                        ⋯\n",
       "│ embarked │ Union{Missing, Multiclass{3}} │ Union{Missing, CategoricalValue{String, UInt3 ⋯\n",
       "│ survived │ OrderedFactor{2}              │ CategoricalValue{String, UInt32}              ⋯\n",
       "└──────────┴───────────────────────────────┴────────────────────────────────────────────────\n",
       "\u001b[36m                                                                            1 column omitted\u001b[0m\n"
      ]
     },
     "execution_count": 13,
     "metadata": {},
     "output_type": "execute_result"
    }
   ],
   "source": [
    "df0.cabin = map(class, df0.cabin)          # now a `Textual` scitype\n",
    "coerce!(df0, :class => Multiclass)\n",
    "schema(df0)"
   ]
  },
  {
   "cell_type": "markdown",
   "metadata": {},
   "source": [
    "## Splitting into train and test sets"
   ]
  },
  {
   "cell_type": "markdown",
   "metadata": {},
   "source": [
    "Here we split off 30% of our observations into a\n",
    "lock-and-throw-away-the-key holdout set, called `df_test`:"
   ]
  },
  {
   "cell_type": "code",
   "execution_count": 14,
   "metadata": {},
   "outputs": [
    {
     "data": {
      "text/plain": [
       "624"
      ]
     },
     "execution_count": 14,
     "metadata": {},
     "output_type": "execute_result"
    }
   ],
   "source": [
    "df, df_test = partition(df0, 0.7, rng=123)\n",
    "DataFrames.nrow(df)"
   ]
  },
  {
   "cell_type": "code",
   "execution_count": 15,
   "metadata": {},
   "outputs": [
    {
     "data": {
      "text/plain": [
       "267"
      ]
     },
     "execution_count": 15,
     "metadata": {},
     "output_type": "execute_result"
    }
   ],
   "source": [
    "DataFrames.nrow(df_test)"
   ]
  },
  {
   "cell_type": "markdown",
   "metadata": {},
   "source": [
    "## Cleaning the data"
   ]
  },
  {
   "cell_type": "markdown",
   "metadata": {},
   "source": [
    "Let's constructor an MLJ model to impute missing data using default hyper-parameters:"
   ]
  },
  {
   "cell_type": "code",
   "execution_count": 16,
   "metadata": {},
   "outputs": [
    {
     "data": {
      "text/plain": [
       "FillImputer(\n",
       "  features = Symbol[], \n",
       "  continuous_fill = MLJModels._median, \n",
       "  count_fill = MLJModels._round_median, \n",
       "  finite_fill = MLJModels._mode)"
      ]
     },
     "execution_count": 16,
     "metadata": {},
     "output_type": "execute_result"
    }
   ],
   "source": [
    "cleaner = FillImputer()"
   ]
  },
  {
   "cell_type": "markdown",
   "metadata": {},
   "source": [
    "In MLJ a *model* is just a container for hyper-parameters associated\n",
    "with some ML algorithm. It does not store learned parameters (unlike\n",
    "scikit-learn \"estimators\")."
   ]
  },
  {
   "cell_type": "markdown",
   "metadata": {},
   "source": [
    "We now bind the model with training data in a *machine*:"
   ]
  },
  {
   "cell_type": "code",
   "execution_count": 17,
   "metadata": {},
   "outputs": [
    {
     "data": {
      "text/plain": [
       "Machine trained 0 times; caches data\n",
       "  model: FillImputer(features = Symbol[], …)\n",
       "  args: \n",
       "    1:\tSource @607 ⏎ `Table{Union{AbstractVector{Continuous}, AbstractVector{Count}, AbstractVector{Multiclass{3}}, AbstractVector{Multiclass{2}}, AbstractVector{Union{Missing, Multiclass{3}}}, AbstractVector{OrderedFactor{2}}, AbstractVector{Textual}}}`\n"
      ]
     },
     "execution_count": 17,
     "metadata": {},
     "output_type": "execute_result"
    }
   ],
   "source": [
    "machc = machine(cleaner, df)"
   ]
  },
  {
   "cell_type": "markdown",
   "metadata": {},
   "source": [
    "And train the machine to store learned parameters there (the column\n",
    "modes and medians to be used to impute missings):"
   ]
  },
  {
   "cell_type": "code",
   "execution_count": 18,
   "metadata": {},
   "outputs": [
    {
     "name": "stdout",
     "output_type": "stream",
     "text": [
      "[ Info: Training machine(FillImputer(features = Symbol[], …), …).\n"
     ]
    }
   ],
   "source": [
    "fit!(machc);"
   ]
  },
  {
   "cell_type": "markdown",
   "metadata": {},
   "source": [
    "We can inspect the learned parameters if we want:"
   ]
  },
  {
   "cell_type": "code",
   "execution_count": 19,
   "metadata": {},
   "outputs": [
    {
     "data": {
      "text/plain": [
       "Dict{Symbol, Any} with 7 entries:\n",
       "  :sibsp    => 0\n",
       "  :pclass   => \"3\"\n",
       "  :survived => \"0\"\n",
       "  :sex      => \"male\"\n",
       "  :age      => 30.0\n",
       "  :fare     => 14.5\n",
       "  :embarked => \"S\""
      ]
     },
     "execution_count": 19,
     "metadata": {},
     "output_type": "execute_result"
    }
   ],
   "source": [
    "fitted_params(machc).filler_given_feature"
   ]
  },
  {
   "cell_type": "markdown",
   "metadata": {},
   "source": [
    "Next, we apply the learned transformation on our data:"
   ]
  },
  {
   "cell_type": "code",
   "execution_count": 20,
   "metadata": {},
   "outputs": [
    {
     "data": {
      "text/plain": [
       "┌──────────┬──────────────────┬──────────────────────────────────┐\n",
       "│\u001b[22m names    \u001b[0m│\u001b[22m scitypes         \u001b[0m│\u001b[22m types                            \u001b[0m│\n",
       "├──────────┼──────────────────┼──────────────────────────────────┤\n",
       "│ pclass   │ Multiclass{3}    │ CategoricalValue{String, UInt32} │\n",
       "│ sex      │ Multiclass{2}    │ CategoricalValue{String, UInt32} │\n",
       "│ age      │ Continuous       │ Float64                          │\n",
       "│ sibsp    │ Count            │ Int64                            │\n",
       "│ fare     │ Continuous       │ Float64                          │\n",
       "│ cabin    │ Textual          │ String                           │\n",
       "│ embarked │ Multiclass{3}    │ CategoricalValue{String, UInt32} │\n",
       "│ survived │ OrderedFactor{2} │ CategoricalValue{String, UInt32} │\n",
       "└──────────┴──────────────────┴──────────────────────────────────┘\n"
      ]
     },
     "execution_count": 20,
     "metadata": {},
     "output_type": "execute_result"
    }
   ],
   "source": [
    "dfc     =  transform(machc, df)\n",
    "dfc_test = transform(machc, df_test)\n",
    "schema(dfc)"
   ]
  },
  {
   "cell_type": "markdown",
   "metadata": {},
   "source": [
    "## Split the data into input features and target"
   ]
  },
  {
   "cell_type": "markdown",
   "metadata": {},
   "source": [
    "The following method puts the column with name equal to `:survived`\n",
    "into the vector `y`, and everything else into a table (`DataFrame`)\n",
    "called `X`."
   ]
  },
  {
   "cell_type": "code",
   "execution_count": 21,
   "metadata": {},
   "outputs": [
    {
     "data": {
      "text/plain": [
       "AbstractVector{OrderedFactor{2}} (alias for AbstractArray{OrderedFactor{2}, 1})"
      ]
     },
     "execution_count": 21,
     "metadata": {},
     "output_type": "execute_result"
    }
   ],
   "source": [
    "y, X = unpack(dfc, ==(:survived));\n",
    "scitype(y)"
   ]
  },
  {
   "cell_type": "markdown",
   "metadata": {},
   "source": [
    "While we're here, we'll do the same for the holdout test set:"
   ]
  },
  {
   "cell_type": "code",
   "execution_count": 22,
   "metadata": {},
   "outputs": [],
   "source": [
    "y_test, X_test = unpack(dfc_test, ==(:survived));"
   ]
  },
  {
   "cell_type": "markdown",
   "metadata": {},
   "source": [
    "## Choosing an supervised model:"
   ]
  },
  {
   "cell_type": "markdown",
   "metadata": {},
   "source": [
    "There are not many models that can directly handle a mixture of\n",
    "scitypes, as we have here:"
   ]
  },
  {
   "cell_type": "code",
   "execution_count": 23,
   "metadata": {},
   "outputs": [
    {
     "data": {
      "text/plain": [
       "4-element Vector{NamedTuple{(:name, :package_name, :is_supervised, :abstract_type, :deep_properties, :docstring, :fit_data_scitype, :human_name, :hyperparameter_ranges, :hyperparameter_types, :hyperparameters, :implemented_methods, :inverse_transform_scitype, :is_pure_julia, :is_wrapper, :iteration_parameter, :load_path, :package_license, :package_url, :package_uuid, :predict_scitype, :prediction_type, :supports_class_weights, :supports_online, :supports_training_losses, :supports_weights, :transform_scitype, :input_scitype, :target_scitype, :output_scitype)}}:\n",
       " (name = ConstantClassifier, package_name = MLJModels, ... )\n",
       " (name = DecisionTreeClassifier, package_name = BetaML, ... )\n",
       " (name = DeterministicConstantClassifier, package_name = MLJModels, ... )\n",
       " (name = RandomForestClassifier, package_name = BetaML, ... )"
      ]
     },
     "execution_count": 23,
     "metadata": {},
     "output_type": "execute_result"
    }
   ],
   "source": [
    "models(matching(X, y))"
   ]
  },
  {
   "cell_type": "markdown",
   "metadata": {},
   "source": [
    "This can be mitigated with further pre-processing (such as one-hot\n",
    "encoding) but we'll settle for one the above models here:"
   ]
  },
  {
   "cell_type": "code",
   "execution_count": 24,
   "metadata": {},
   "outputs": [
    {
     "data": {
      "text/markdown": [
       "A simple Decision Tree for classification with support for Missing data, from the Beta Machine Learning Toolkit (BetaML).\n"
      ],
      "text/plain": [
       "  A simple Decision Tree for classification with support for Missing data, from the Beta\n",
       "  Machine Learning Toolkit (BetaML)."
      ]
     },
     "execution_count": 24,
     "metadata": {},
     "output_type": "execute_result"
    }
   ],
   "source": [
    "doc(\"DecisionTreeClassifier\", pkg=\"BetaML\")"
   ]
  },
  {
   "cell_type": "code",
   "execution_count": 25,
   "metadata": {},
   "outputs": [
    {
     "name": "stdout",
     "output_type": "stream",
     "text": [
      "[ Info: For silent loading, specify `verbosity=0`. \n",
      "import BetaML ✔\n"
     ]
    },
    {
     "data": {
      "text/plain": [
       "DecisionTreeClassifier(\n",
       "  maxDepth = 0, \n",
       "  minGain = 0.0, \n",
       "  minRecords = 2, \n",
       "  maxFeatures = 0, \n",
       "  splittingCriterion = BetaML.Utils.gini, \n",
       "  rng = Random._GLOBAL_RNG())"
      ]
     },
     "execution_count": 25,
     "metadata": {},
     "output_type": "execute_result"
    }
   ],
   "source": [
    "Tree = @load DecisionTreeClassifier pkg=BetaML  # model type\n",
    "tree = Tree()                                   # default instance"
   ]
  },
  {
   "cell_type": "markdown",
   "metadata": {},
   "source": [
    "Notice that by calling `Tree` with no arguments we get default\n",
    "values for the various hyperparameters that control how the tree is\n",
    "trained. We specify keyword arguments to overide these defaults. For example:"
   ]
  },
  {
   "cell_type": "code",
   "execution_count": 26,
   "metadata": {},
   "outputs": [
    {
     "data": {
      "text/plain": [
       "DecisionTreeClassifier(\n",
       "  maxDepth = 3, \n",
       "  minGain = 0.0, \n",
       "  minRecords = 2, \n",
       "  maxFeatures = 0, \n",
       "  splittingCriterion = BetaML.Utils.gini, \n",
       "  rng = Random._GLOBAL_RNG())"
      ]
     },
     "execution_count": 26,
     "metadata": {},
     "output_type": "execute_result"
    }
   ],
   "source": [
    "small_tree = Tree(maxDepth=3)"
   ]
  },
  {
   "cell_type": "markdown",
   "metadata": {},
   "source": [
    "A decision tree is frequently not the best performing model, but it\n",
    "is easy to interpret (and the algorithm is relatively easy to\n",
    "explain). For example, here's an diagramatic representation of a\n",
    "tree trained on (some part of) the Titanic data set, which suggests\n",
    "how prediction works:"
   ]
  },
  {
   "cell_type": "markdown",
   "metadata": {},
   "source": [
    "![](assets/tree.png)"
   ]
  },
  {
   "cell_type": "markdown",
   "metadata": {},
   "source": [
    "## The fit/predict worflow"
   ]
  },
  {
   "cell_type": "markdown",
   "metadata": {},
   "source": [
    "We now the bind data to used for training and evaluation to the model\n",
    "in a machine, just like we did for missing value imputation. In this\n",
    "case, however, we also need to specify the training target `y`:"
   ]
  },
  {
   "cell_type": "code",
   "execution_count": 27,
   "metadata": {},
   "outputs": [
    {
     "data": {
      "text/plain": [
       "Machine trained 0 times; caches data\n",
       "  model: DecisionTreeClassifier(maxDepth = 0, …)\n",
       "  args: \n",
       "    1:\tSource @300 ⏎ `Table{Union{AbstractVector{Continuous}, AbstractVector{Count}, AbstractVector{Multiclass{2}}, AbstractVector{Multiclass{3}}, AbstractVector{Textual}}}`\n",
       "    2:\tSource @648 ⏎ `AbstractVector{OrderedFactor{2}}`\n"
      ]
     },
     "execution_count": 27,
     "metadata": {},
     "output_type": "execute_result"
    }
   ],
   "source": [
    "macht = machine(tree, X, y)"
   ]
  },
  {
   "cell_type": "markdown",
   "metadata": {},
   "source": [
    "To train using *all* the bound data:"
   ]
  },
  {
   "cell_type": "code",
   "execution_count": 28,
   "metadata": {},
   "outputs": [
    {
     "name": "stdout",
     "output_type": "stream",
     "text": [
      "[ Info: Training machine(DecisionTreeClassifier(maxDepth = 0, …), …).\n"
     ]
    },
    {
     "data": {
      "text/plain": [
       "Machine trained 1 time; caches data\n",
       "  model: DecisionTreeClassifier(maxDepth = 0, …)\n",
       "  args: \n",
       "    1:\tSource @300 ⏎ `Table{Union{AbstractVector{Continuous}, AbstractVector{Count}, AbstractVector{Multiclass{2}}, AbstractVector{Multiclass{3}}, AbstractVector{Textual}}}`\n",
       "    2:\tSource @648 ⏎ `AbstractVector{OrderedFactor{2}}`\n"
      ]
     },
     "execution_count": 28,
     "metadata": {},
     "output_type": "execute_result"
    }
   ],
   "source": [
    "fit!(macht)"
   ]
  },
  {
   "cell_type": "markdown",
   "metadata": {},
   "source": [
    "And get predictions on the holdout set:"
   ]
  },
  {
   "cell_type": "code",
   "execution_count": 29,
   "metadata": {},
   "outputs": [],
   "source": [
    "p = predict(macht, X_test);"
   ]
  },
  {
   "cell_type": "markdown",
   "metadata": {},
   "source": [
    "These are *probabilistic* predictions:"
   ]
  },
  {
   "cell_type": "code",
   "execution_count": 30,
   "metadata": {},
   "outputs": [
    {
     "data": {
      "text/plain": [
       "         \u001b[97;1mUnivariateFinite{OrderedFactor{2}}\u001b[0m     \n",
       "     \u001b[38;5;8m┌                                        ┐\u001b[0m \n",
       "   0 \u001b[38;5;8m┤\u001b[0m\u001b[38;5;2m■■■■■■■■■\u001b[0m 0.2                           \u001b[38;5;8m \u001b[0m \u001b[38;5;8m\u001b[0m\n",
       "   1 \u001b[38;5;8m┤\u001b[0m\u001b[38;5;2m■■■■■■■■■■■■■■■■■■■■■■■■■■■■■■■■■■■\u001b[0m 0.8 \u001b[38;5;8m \u001b[0m \u001b[38;5;8m\u001b[0m\n",
       "     \u001b[38;5;8m└                                        ┘\u001b[0m "
      ]
     },
     "execution_count": 30,
     "metadata": {},
     "output_type": "execute_result"
    }
   ],
   "source": [
    "p[3]"
   ]
  },
  {
   "cell_type": "code",
   "execution_count": 31,
   "metadata": {},
   "outputs": [
    {
     "data": {
      "text/plain": [
       "0.2"
      ]
     },
     "execution_count": 31,
     "metadata": {},
     "output_type": "execute_result"
    }
   ],
   "source": [
    "pdf(p[3], \"0\")"
   ]
  },
  {
   "cell_type": "markdown",
   "metadata": {},
   "source": [
    "We can also get \"point\" predictions:"
   ]
  },
  {
   "cell_type": "code",
   "execution_count": 32,
   "metadata": {},
   "outputs": [
    {
     "data": {
      "text/plain": [
       "267-element CategoricalArrays.CategoricalArray{String,1,UInt32}:\n",
       " \"1\"\n",
       " \"1\"\n",
       " \"1\"\n",
       " \"0\"\n",
       " \"0\"\n",
       " \"0\"\n",
       " \"1\"\n",
       " \"0\"\n",
       " \"0\"\n",
       " \"0\"\n",
       " \"1\"\n",
       " \"1\"\n",
       " \"1\"\n",
       " \"1\"\n",
       " \"1\"\n",
       " \"0\"\n",
       " \"0\"\n",
       " \"0\"\n",
       " \"1\"\n",
       " \"1\"\n",
       " \"1\"\n",
       " \"0\"\n",
       " \"1\"\n",
       " \"1\"\n",
       " \"0\"\n",
       " \"0\"\n",
       " ⋮\n",
       " \"0\"\n",
       " \"1\"\n",
       " \"1\"\n",
       " \"0\"\n",
       " \"1\"\n",
       " \"0\"\n",
       " \"1\"\n",
       " \"1\"\n",
       " \"1\"\n",
       " \"0\"\n",
       " \"0\"\n",
       " \"1\"\n",
       " \"0\"\n",
       " \"1\"\n",
       " \"0\"\n",
       " \"1\"\n",
       " \"0\"\n",
       " \"0\"\n",
       " \"0\"\n",
       " \"0\"\n",
       " \"0\"\n",
       " \"1\"\n",
       " \"0\"\n",
       " \"1\"\n",
       " \"0\"\n",
       " \"0\""
      ]
     },
     "execution_count": 32,
     "metadata": {},
     "output_type": "execute_result"
    }
   ],
   "source": [
    "yhat = mode.(p)"
   ]
  },
  {
   "cell_type": "markdown",
   "metadata": {},
   "source": [
    "We can evaluate performance using a probabilistic measure, as in"
   ]
  },
  {
   "cell_type": "code",
   "execution_count": 33,
   "metadata": {},
   "outputs": [
    {
     "data": {
      "text/plain": [
       "8.307615579043436"
      ]
     },
     "execution_count": 33,
     "metadata": {},
     "output_type": "execute_result"
    }
   ],
   "source": [
    "log_loss(p, y_test) |> mean"
   ]
  },
  {
   "cell_type": "markdown",
   "metadata": {},
   "source": [
    "Or using a deterministic measure:"
   ]
  },
  {
   "cell_type": "code",
   "execution_count": 34,
   "metadata": {},
   "outputs": [
    {
     "data": {
      "text/plain": [
       "0.7265917602996255"
      ]
     },
     "execution_count": 34,
     "metadata": {},
     "output_type": "execute_result"
    }
   ],
   "source": [
    "accuracy(yhat, y_test)"
   ]
  },
  {
   "cell_type": "markdown",
   "metadata": {},
   "source": [
    "List all performance measures with `measures()`. Naturally, MLJ\n",
    "includes functions to automate this kind of performance evaluation,\n",
    "but this is beyond the scope of this tutorial. See, eg,\n",
    "[here](https://alan-turing-institute.github.io/MLJ.jl/dev/getting_started/#Getting-Started)."
   ]
  },
  {
   "cell_type": "markdown",
   "metadata": {},
   "source": [
    "## Learning more"
   ]
  },
  {
   "cell_type": "markdown",
   "metadata": {},
   "source": [
    "Some suggestions for next steps are\n",
    "[here](https://alan-turing-institute.github.io/MLJ.jl/dev/getting_started/#Getting-Started)."
   ]
  },
  {
   "cell_type": "markdown",
   "metadata": {},
   "source": [
    "---\n",
    "\n",
    "*This notebook was generated using [Literate.jl](https://github.com/fredrikekre/Literate.jl).*"
   ]
  }
 ],
 "metadata": {
  "kernelspec": {
   "display_name": "Julia 1.7.1",
   "language": "julia",
   "name": "julia-1.7"
  },
  "language_info": {
   "file_extension": ".jl",
   "mimetype": "application/julia",
   "name": "julia",
   "version": "1.7.3"
  }
 },
 "nbformat": 4,
 "nbformat_minor": 3
}
