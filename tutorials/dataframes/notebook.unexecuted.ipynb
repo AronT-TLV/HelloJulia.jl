{
 "cells": [
  {
   "cell_type": "markdown",
   "source": [
    "Introduction to DataFrames.jl"
   ],
   "metadata": {}
  },
  {
   "cell_type": "markdown",
   "source": [
    "Based on [this\n",
    "tutorial](https://juliaai.github.io/DataScienceTutorials.jl/data/dataframe/)\n",
    "from Data Science Tutorials."
   ],
   "metadata": {}
  },
  {
   "cell_type": "markdown",
   "source": [
    "## Setup"
   ],
   "metadata": {}
  },
  {
   "cell_type": "markdown",
   "source": [
    "Inspect Julia version:"
   ],
   "metadata": {}
  },
  {
   "outputs": [],
   "cell_type": "code",
   "source": [
    "VERSION"
   ],
   "metadata": {},
   "execution_count": null
  },
  {
   "cell_type": "markdown",
   "source": [
    "The following instantiates a package environment."
   ],
   "metadata": {}
  },
  {
   "cell_type": "markdown",
   "source": [
    "The package environment has been created using **Julia 1.6** and may not\n",
    "instantiate properly for other Julia versions."
   ],
   "metadata": {}
  },
  {
   "outputs": [],
   "cell_type": "code",
   "source": [
    "using Pkg\n",
    "Pkg.activate(\"env\")\n",
    "Pkg.instantiate()"
   ],
   "metadata": {},
   "execution_count": null
  },
  {
   "cell_type": "markdown",
   "source": [
    "## Basics"
   ],
   "metadata": {}
  },
  {
   "cell_type": "markdown",
   "source": [
    "To start with, we will use the `Boston` dataset which is very simple."
   ],
   "metadata": {}
  },
  {
   "outputs": [],
   "cell_type": "code",
   "source": [
    "using RDatasets\n",
    "using DataFrames\n",
    "\n",
    "boston = dataset(\"MASS\", \"Boston\");"
   ],
   "metadata": {},
   "execution_count": null
  },
  {
   "cell_type": "markdown",
   "source": [
    "The `dataset` function returns a `DataFrame` object:"
   ],
   "metadata": {}
  },
  {
   "outputs": [],
   "cell_type": "code",
   "source": [
    "typeof(boston)"
   ],
   "metadata": {},
   "execution_count": null
  },
  {
   "cell_type": "markdown",
   "source": [
    "### Accessing data\n",
    "\n",
    "Intuitively a DataFrame is just a wrapper around a number of\n",
    "columns, each of which is a `Vector` of some type with a name\""
   ],
   "metadata": {}
  },
  {
   "outputs": [],
   "cell_type": "code",
   "source": [
    "names(boston)"
   ],
   "metadata": {},
   "execution_count": null
  },
  {
   "cell_type": "markdown",
   "source": [
    "You can view the first few rows using `first` and specifying a number of rows:"
   ],
   "metadata": {}
  },
  {
   "outputs": [],
   "cell_type": "code",
   "source": [
    "first(boston, 4)"
   ],
   "metadata": {},
   "execution_count": null
  },
  {
   "cell_type": "markdown",
   "source": [
    "You can access one of those columns easily using `.colname`, this returns a vector that you can access like any Julia vector:"
   ],
   "metadata": {}
  },
  {
   "outputs": [],
   "cell_type": "code",
   "source": [
    "boston.Crim[1:5]"
   ],
   "metadata": {},
   "execution_count": null
  },
  {
   "cell_type": "markdown",
   "source": [
    "You can also just access the dataframe as you would a big matrix:"
   ],
   "metadata": {}
  },
  {
   "outputs": [],
   "cell_type": "code",
   "source": [
    "boston[3, 5]"
   ],
   "metadata": {},
   "execution_count": null
  },
  {
   "cell_type": "markdown",
   "source": [
    "or specifying a range of rows/columns:"
   ],
   "metadata": {}
  },
  {
   "outputs": [],
   "cell_type": "code",
   "source": [
    "boston[1:5, [:Crim, :Zn]]"
   ],
   "metadata": {},
   "execution_count": null
  },
  {
   "cell_type": "markdown",
   "source": [
    "or, similarly,"
   ],
   "metadata": {}
  },
  {
   "outputs": [],
   "cell_type": "code",
   "source": [
    "boston[1:5, 1:2]"
   ],
   "metadata": {},
   "execution_count": null
  },
  {
   "cell_type": "markdown",
   "source": [
    "The `select` function is very convenient to get sub dataframes of interest:"
   ],
   "metadata": {}
  },
  {
   "outputs": [],
   "cell_type": "code",
   "source": [
    "b1 = select(boston, [:Crim, :Zn, :Indus])\n",
    "first(b1, 2)"
   ],
   "metadata": {},
   "execution_count": null
  },
  {
   "cell_type": "markdown",
   "source": [
    "The `Not` syntax is  also very  useful:"
   ],
   "metadata": {}
  },
  {
   "outputs": [],
   "cell_type": "code",
   "source": [
    "b2 = select(boston, Not(:NOx))\n",
    "first(b2, 2)"
   ],
   "metadata": {},
   "execution_count": null
  },
  {
   "cell_type": "markdown",
   "source": [
    "Finally, if you would like to drop columns, you can use `select!`\n",
    "which will mutate the dataframe in place:"
   ],
   "metadata": {}
  },
  {
   "outputs": [],
   "cell_type": "code",
   "source": [
    "select!(b1, Not(:Crim))\n",
    "first(b1, 2)"
   ],
   "metadata": {},
   "execution_count": null
  },
  {
   "cell_type": "markdown",
   "source": [
    "### Describing the data"
   ],
   "metadata": {}
  },
  {
   "cell_type": "markdown",
   "source": [
    "`StatsBase.jl` offers a convenient `describe` function which you can\n",
    "use on a DataFrame to get an overview of the data:"
   ],
   "metadata": {}
  },
  {
   "outputs": [],
   "cell_type": "code",
   "source": [
    "using StatsBase\n",
    "describe(boston, :min, :max, :mean, :median, :std)"
   ],
   "metadata": {},
   "execution_count": null
  },
  {
   "cell_type": "markdown",
   "source": [
    "You can pass a number of symbols to the `describe` function to\n",
    "indicate which statistics to compute for each feature:\n",
    "\n",
    "* `mean`, `std`, `min`, `max`, `median`, `first`, `last` are all fairly self explanatory\n",
    "* `q25`, `q75` are respectively for the 25th and 75th percentile,\n",
    "* `eltype`, `nunique`, `nmissing` can also be used\n",
    "\n",
    "You can also  pass your custom function with a pair `name => function` for instance:"
   ],
   "metadata": {}
  },
  {
   "outputs": [],
   "cell_type": "code",
   "source": [
    "foo(x) = sum(abs.(x)) / length(x)\n",
    "d = describe(boston, :mean, :median, foo => :foo)\n",
    "first(d, 3)"
   ],
   "metadata": {},
   "execution_count": null
  },
  {
   "cell_type": "markdown",
   "source": [
    "The `describe` function returns a derived object with one row per\n",
    "feature and one column per required statistic.\n",
    "\n",
    "Further to `StatsBase`, `Statistics` offers a range of useful\n",
    "functions for data analysis."
   ],
   "metadata": {}
  },
  {
   "outputs": [],
   "cell_type": "code",
   "source": [
    "using Statistics"
   ],
   "metadata": {},
   "execution_count": null
  },
  {
   "cell_type": "markdown",
   "source": [
    "### Converting the data\n",
    "\n",
    "If you want to get the content of the dataframe as one big matrix,\n",
    "use `convert`:"
   ],
   "metadata": {}
  },
  {
   "outputs": [],
   "cell_type": "code",
   "source": [
    "mat = Matrix(boston)\n",
    "mat[1:3, 1:3]"
   ],
   "metadata": {},
   "execution_count": null
  },
  {
   "cell_type": "markdown",
   "source": [
    "### Adding columns"
   ],
   "metadata": {}
  },
  {
   "cell_type": "markdown",
   "source": [
    "Adding a column to a dataframe is very easy:"
   ],
   "metadata": {}
  },
  {
   "outputs": [],
   "cell_type": "code",
   "source": [
    "boston.Crim_x_Zn = boston.Crim .* boston.Zn;"
   ],
   "metadata": {},
   "execution_count": null
  },
  {
   "cell_type": "markdown",
   "source": [
    "that's it! Remember also that you can drop columns or make\n",
    "subselections with `select` and `select!`."
   ],
   "metadata": {}
  },
  {
   "cell_type": "markdown",
   "source": [
    "### Missing values\n",
    "\n",
    "Let's load a dataset with missing values"
   ],
   "metadata": {}
  },
  {
   "outputs": [],
   "cell_type": "code",
   "source": [
    "mao = dataset(\"gap\", \"mao\")\n",
    "describe(mao, :nmissing)"
   ],
   "metadata": {},
   "execution_count": null
  },
  {
   "cell_type": "markdown",
   "source": [
    "Lots of missing values...  If you wanted to compute simple functions\n",
    "on columns, they may just return `missing`:"
   ],
   "metadata": {}
  },
  {
   "outputs": [],
   "cell_type": "code",
   "source": [
    "std(mao.Age)"
   ],
   "metadata": {},
   "execution_count": null
  },
  {
   "cell_type": "markdown",
   "source": [
    "The `skipmissing` function can help counter this  easily:"
   ],
   "metadata": {}
  },
  {
   "outputs": [],
   "cell_type": "code",
   "source": [
    "std(skipmissing(mao.Age))"
   ],
   "metadata": {},
   "execution_count": null
  },
  {
   "cell_type": "markdown",
   "source": [
    "## Split-Apply-Combine\n",
    "\n",
    "This is a shorter version of the [DataFrames.jl\n",
    "tutorial](http://juliadata.github.io/DataFrames.jl/latest/man/split_apply_combine/)."
   ],
   "metadata": {}
  },
  {
   "outputs": [],
   "cell_type": "code",
   "source": [
    "iris = dataset(\"datasets\", \"iris\")\n",
    "first(iris, 3)"
   ],
   "metadata": {},
   "execution_count": null
  },
  {
   "cell_type": "markdown",
   "source": [
    "### `groupby`\n",
    "\n",
    "The `groupby` function allows to form \"sub-dataframes\" corresponding\n",
    "to groups of rows.  This can be very convenient to run specific\n",
    "analyses for specific groups without copying the data.\n",
    "\n",
    "The basic usage is `groupby(df, cols)` where `cols` specifies one or\n",
    "several columns to use for the grouping.\n",
    "\n",
    "Consider a simple example: in `iris` there is a `Species` column\n",
    "with 3 species:"
   ],
   "metadata": {}
  },
  {
   "outputs": [],
   "cell_type": "code",
   "source": [
    "unique(iris.Species)"
   ],
   "metadata": {},
   "execution_count": null
  },
  {
   "cell_type": "markdown",
   "source": [
    "We can form views for each of these:"
   ],
   "metadata": {}
  },
  {
   "outputs": [],
   "cell_type": "code",
   "source": [
    "gdf = groupby(iris, :Species);"
   ],
   "metadata": {},
   "execution_count": null
  },
  {
   "cell_type": "markdown",
   "source": [
    "The `gdf` object now corresponds to **views** of the original\n",
    "dataframe for each of the 3 species; the first species is `\"setosa\"`\n",
    "with:"
   ],
   "metadata": {}
  },
  {
   "outputs": [],
   "cell_type": "code",
   "source": [
    "subdf_setosa = gdf[1]\n",
    "describe(subdf_setosa, :min, :mean, :max)"
   ],
   "metadata": {},
   "execution_count": null
  },
  {
   "cell_type": "markdown",
   "source": [
    "Note that `subdf_setosa` is a `SubDataFrame` meaning that it is just\n",
    "a view of the parent dataframe `iris`; if you modify that parent\n",
    "dataframe then the sub dataframe is also modified.\n",
    "\n",
    "See `?groupby` for more information.\n",
    "\n",
    "### `combine`\n",
    "\n",
    "The `combine` function allows to derive a new dataframe out of\n",
    "transformations of an existing one.  Here's an example taken from\n",
    "the official doc (see `?combine`):"
   ],
   "metadata": {}
  },
  {
   "outputs": [],
   "cell_type": "code",
   "source": [
    "df = DataFrame(a=1:3, b=4:6)\n",
    "combine(df, :a => sum, nrow)"
   ],
   "metadata": {},
   "execution_count": null
  },
  {
   "cell_type": "markdown",
   "source": [
    "what happened here is that the derived DataFrame has two columns\n",
    "obtained respectively by (1) computing the sum of the first column\n",
    "and (2) applying the `nrow` function on the `df`.\n",
    "\n",
    "The transformation can produce one or several values, `combine` will\n",
    "try to concatenate these columns as it can, for instance:"
   ],
   "metadata": {}
  },
  {
   "outputs": [],
   "cell_type": "code",
   "source": [
    "foo(v) = v[1:2]\n",
    "combine(df, :a => maximum, :b => foo)"
   ],
   "metadata": {},
   "execution_count": null
  },
  {
   "cell_type": "markdown",
   "source": [
    "here the maximum value of `a` is copied twice so that the two\n",
    "columns have the same number of rows."
   ],
   "metadata": {}
  },
  {
   "outputs": [],
   "cell_type": "code",
   "source": [
    "bar(v) = v[end-1:end]\n",
    "combine(df, :a => foo, :b => bar)"
   ],
   "metadata": {},
   "execution_count": null
  },
  {
   "cell_type": "markdown",
   "source": [
    "### `combine` with `groupby`\n",
    "\n",
    "Combining `groupby` with `combine` is very useful.  For instance you\n",
    "might want to compute statistics across groups for different\n",
    "variables:"
   ],
   "metadata": {}
  },
  {
   "outputs": [],
   "cell_type": "code",
   "source": [
    "combine(groupby(iris, :Species), :PetalLength => mean)"
   ],
   "metadata": {},
   "execution_count": null
  },
  {
   "cell_type": "markdown",
   "source": [
    "let's decompose that:\n",
    "\n",
    "1. the `groupby(iris, :Species)` creates groups using the `:Species` column (which has values `setosa`, `versicolor`, `virginica`)\n",
    "2. the `combine` creates a derived dataframe by applying the `mean` function to the `:PetalLength` column\n",
    "3. since there are three groups, we get one column (mean of `PetalLength`) and three rows (one per group).\n",
    "\n",
    "\n",
    "You can do this for several columns/statistics at the time and give\n",
    "new column names to the results:"
   ],
   "metadata": {}
  },
  {
   "outputs": [],
   "cell_type": "code",
   "source": [
    "gdf = groupby(iris, :Species)\n",
    "combine(gdf, :PetalLength => mean => :MPL, :PetalLength => std => :SPL)"
   ],
   "metadata": {},
   "execution_count": null
  },
  {
   "cell_type": "markdown",
   "source": [
    "so here we assign the names `:MPL` and `:SPL` to the derived\n",
    "columns.  If you want to apply something on all columns apart from\n",
    "the grouping one, using `names` and `Not` comes in handy:"
   ],
   "metadata": {}
  },
  {
   "outputs": [],
   "cell_type": "code",
   "source": [
    "combine(gdf, names(iris, Not(:Species)) .=> std)"
   ],
   "metadata": {},
   "execution_count": null
  },
  {
   "cell_type": "markdown",
   "source": [
    "where"
   ],
   "metadata": {}
  },
  {
   "outputs": [],
   "cell_type": "code",
   "source": [
    "names(iris, Not(:Species))"
   ],
   "metadata": {},
   "execution_count": null
  },
  {
   "cell_type": "markdown",
   "source": [
    "and note the use of `.` in `.=>` to indicate that we broadcast the\n",
    "function over each column."
   ],
   "metadata": {}
  },
  {
   "cell_type": "markdown",
   "source": [
    "---\n",
    "\n",
    "*This notebook was generated using [Literate.jl](https://github.com/fredrikekre/Literate.jl).*"
   ],
   "metadata": {}
  }
 ],
 "nbformat_minor": 3,
 "metadata": {
  "language_info": {
   "file_extension": ".jl",
   "mimetype": "application/julia",
   "name": "julia",
   "version": "1.6.3"
  },
  "kernelspec": {
   "name": "julia-1.6",
   "display_name": "Julia 1.6.3",
   "language": "julia"
  }
 },
 "nbformat": 4
}
