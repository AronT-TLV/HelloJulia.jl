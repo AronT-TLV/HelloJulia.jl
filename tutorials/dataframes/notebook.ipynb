{
 "cells": [
  {
   "cell_type": "markdown",
   "source": [
    "Introduction to DataFrames.jl"
   ],
   "metadata": {}
  },
  {
   "cell_type": "markdown",
   "source": [
    "Based on [this\n",
    "tutorial](https://juliaai.github.io/DataScienceTutorials.jl/data/dataframe/)\n",
    "from Data Science Tutorials."
   ],
   "metadata": {}
  },
  {
   "cell_type": "markdown",
   "source": [
    "## Setup"
   ],
   "metadata": {}
  },
  {
   "cell_type": "markdown",
   "source": [
    "Inspect Julia version:"
   ],
   "metadata": {}
  },
  {
   "outputs": [
    {
     "output_type": "execute_result",
     "data": {
      "text/plain": "v\"1.6.3\""
     },
     "metadata": {},
     "execution_count": 1
    }
   ],
   "cell_type": "code",
   "source": [
    "VERSION"
   ],
   "metadata": {},
   "execution_count": 1
  },
  {
   "cell_type": "markdown",
   "source": [
    "The following instantiates a package environment."
   ],
   "metadata": {}
  },
  {
   "cell_type": "markdown",
   "source": [
    "The package environment has been created using **Julia 1.6** and may not\n",
    "instantiate properly for other Julia versions."
   ],
   "metadata": {}
  },
  {
   "outputs": [
    {
     "name": "stdout",
     "output_type": "stream",
     "text": [
      "  Activating environment at `~/GoogleDrive/Julia/HelloJulia/tutorials/dataframes/env/Project.toml`\n",
      "Precompiling project...\n",
      "\u001b[33m  ✓ \u001b[39m\u001b[90mMissings\u001b[39m\n",
      "\u001b[33m  ✓ \u001b[39m\u001b[90mMocking\u001b[39m\n",
      "\u001b[33m  ✓ \u001b[39m\u001b[90mPooledArrays\u001b[39m\n",
      "\u001b[32m  ✓ \u001b[39m\u001b[90mInlineStrings\u001b[39m\n",
      "\u001b[33m  ✓ \u001b[39m\u001b[90mTables\u001b[39m\n",
      "\u001b[32m  ✓ \u001b[39m\u001b[90mChainRulesCore\u001b[39m\n",
      "\u001b[33m  ✓ \u001b[39m\u001b[90mCategoricalArrays\u001b[39m\n",
      "\u001b[32m  ✓ \u001b[39m\u001b[90mWeakRefStrings\u001b[39m\n",
      "\u001b[32m  ✓ \u001b[39m\u001b[90mLogExpFunctions\u001b[39m\n",
      "\u001b[33m  ✓ \u001b[39m\u001b[90mTimeZones\u001b[39m\n",
      "\u001b[32m  ✓ \u001b[39mStatsBase\n",
      "\u001b[33m  ✓ \u001b[39m\u001b[90mPrettyTables\u001b[39m\n",
      "\u001b[33m  ✓ \u001b[39m\u001b[90mCSV\u001b[39m\n",
      "\u001b[33m  ✓ \u001b[39mDataFrames\n",
      "\u001b[33m  ✓ \u001b[39m\u001b[90mRData\u001b[39m\n",
      "\u001b[33m  ✓ \u001b[39mRDatasets\n",
      "  16 dependencies successfully precompiled in 38 seconds (29 already precompiled)\n",
      "  \u001b[33m11\u001b[39m dependencies precompiled but different versions are currently loaded. Restart julia to access the new versions\n"
     ]
    }
   ],
   "cell_type": "code",
   "source": [
    "using Pkg\n",
    "Pkg.activate(\"env\")\n",
    "Pkg.instantiate()"
   ],
   "metadata": {},
   "execution_count": 2
  },
  {
   "cell_type": "markdown",
   "source": [
    "## Basics"
   ],
   "metadata": {}
  },
  {
   "cell_type": "markdown",
   "source": [
    "To start with, we will use the `Boston` dataset which is very simple."
   ],
   "metadata": {}
  },
  {
   "outputs": [],
   "cell_type": "code",
   "source": [
    "using RDatasets\n",
    "using DataFrames\n",
    "\n",
    "boston = dataset(\"MASS\", \"Boston\");"
   ],
   "metadata": {},
   "execution_count": 3
  },
  {
   "cell_type": "markdown",
   "source": [
    "The `dataset` function returns a `DataFrame` object:"
   ],
   "metadata": {}
  },
  {
   "outputs": [
    {
     "output_type": "execute_result",
     "data": {
      "text/plain": "DataFrame"
     },
     "metadata": {},
     "execution_count": 4
    }
   ],
   "cell_type": "code",
   "source": [
    "typeof(boston)"
   ],
   "metadata": {},
   "execution_count": 4
  },
  {
   "cell_type": "markdown",
   "source": [
    "### Accessing data\n",
    "\n",
    "Intuitively a DataFrame is just a wrapper around a number of\n",
    "columns, each of which is a `Vector` of some type with a name\""
   ],
   "metadata": {}
  },
  {
   "outputs": [
    {
     "output_type": "execute_result",
     "data": {
      "text/plain": "14-element Vector{String}:\n \"Crim\"\n \"Zn\"\n \"Indus\"\n \"Chas\"\n \"NOx\"\n \"Rm\"\n \"Age\"\n \"Dis\"\n \"Rad\"\n \"Tax\"\n \"PTRatio\"\n \"Black\"\n \"LStat\"\n \"MedV\""
     },
     "metadata": {},
     "execution_count": 5
    }
   ],
   "cell_type": "code",
   "source": [
    "names(boston)"
   ],
   "metadata": {},
   "execution_count": 5
  },
  {
   "cell_type": "markdown",
   "source": [
    "You can view the first few rows using `first` and specifying a number of rows:"
   ],
   "metadata": {}
  },
  {
   "outputs": [
    {
     "output_type": "execute_result",
     "data": {
      "text/plain": "\u001b[1m4×14 DataFrame\u001b[0m\n\u001b[1m Row \u001b[0m│\u001b[1m Crim    \u001b[0m\u001b[1m Zn      \u001b[0m\u001b[1m Indus   \u001b[0m\u001b[1m Chas  \u001b[0m\u001b[1m NOx     \u001b[0m\u001b[1m Rm      \u001b[0m\u001b[1m Age     \u001b[0m\u001b[1m Dis     \u001b[0m\u001b[1m Rad   \u001b[0m\u001b[1m Tax   \u001b[0m\u001b[1m\u001b[0m ⋯\n\u001b[1m     \u001b[0m│\u001b[90m Float64 \u001b[0m\u001b[90m Float64 \u001b[0m\u001b[90m Float64 \u001b[0m\u001b[90m Int64 \u001b[0m\u001b[90m Float64 \u001b[0m\u001b[90m Float64 \u001b[0m\u001b[90m Float64 \u001b[0m\u001b[90m Float64 \u001b[0m\u001b[90m Int64 \u001b[0m\u001b[90m Int64 \u001b[0m\u001b[90m\u001b[0m ⋯\n─────┼──────────────────────────────────────────────────────────────────────────────────────\n   1 │ 0.00632     18.0     2.31      0    0.538    6.575     65.2   4.09        1    296  ⋯\n   2 │ 0.02731      0.0     7.07      0    0.469    6.421     78.9   4.9671      2    242\n   3 │ 0.02729      0.0     7.07      0    0.469    7.185     61.1   4.9671      2    242\n   4 │ 0.03237      0.0     2.18      0    0.458    6.998     45.8   6.0622      3    222\n\u001b[36m                                                                           4 columns omitted\u001b[0m",
      "text/html": [
       "<div class=\"data-frame\"><p>4 rows × 14 columns (omitted printing of 3 columns)</p><table class=\"data-frame\"><thead><tr><th></th><th>Crim</th><th>Zn</th><th>Indus</th><th>Chas</th><th>NOx</th><th>Rm</th><th>Age</th><th>Dis</th><th>Rad</th><th>Tax</th><th>PTRatio</th></tr><tr><th></th><th title=\"Float64\">Float64</th><th title=\"Float64\">Float64</th><th title=\"Float64\">Float64</th><th title=\"Int64\">Int64</th><th title=\"Float64\">Float64</th><th title=\"Float64\">Float64</th><th title=\"Float64\">Float64</th><th title=\"Float64\">Float64</th><th title=\"Int64\">Int64</th><th title=\"Int64\">Int64</th><th title=\"Float64\">Float64</th></tr></thead><tbody><tr><th>1</th><td>0.00632</td><td>18.0</td><td>2.31</td><td>0</td><td>0.538</td><td>6.575</td><td>65.2</td><td>4.09</td><td>1</td><td>296</td><td>15.3</td></tr><tr><th>2</th><td>0.02731</td><td>0.0</td><td>7.07</td><td>0</td><td>0.469</td><td>6.421</td><td>78.9</td><td>4.9671</td><td>2</td><td>242</td><td>17.8</td></tr><tr><th>3</th><td>0.02729</td><td>0.0</td><td>7.07</td><td>0</td><td>0.469</td><td>7.185</td><td>61.1</td><td>4.9671</td><td>2</td><td>242</td><td>17.8</td></tr><tr><th>4</th><td>0.03237</td><td>0.0</td><td>2.18</td><td>0</td><td>0.458</td><td>6.998</td><td>45.8</td><td>6.0622</td><td>3</td><td>222</td><td>18.7</td></tr></tbody></table></div>"
      ]
     },
     "metadata": {},
     "execution_count": 6
    }
   ],
   "cell_type": "code",
   "source": [
    "first(boston, 4)"
   ],
   "metadata": {},
   "execution_count": 6
  },
  {
   "cell_type": "markdown",
   "source": [
    "You can access one of those columns easily using `.colname`, this returns a vector that you can access like any Julia vector:"
   ],
   "metadata": {}
  },
  {
   "outputs": [
    {
     "output_type": "execute_result",
     "data": {
      "text/plain": "5-element Vector{Float64}:\n 0.00632\n 0.02731\n 0.02729\n 0.03237\n 0.06905"
     },
     "metadata": {},
     "execution_count": 7
    }
   ],
   "cell_type": "code",
   "source": [
    "boston.Crim[1:5]"
   ],
   "metadata": {},
   "execution_count": 7
  },
  {
   "cell_type": "markdown",
   "source": [
    "You can also just access the dataframe as you would a big matrix:"
   ],
   "metadata": {}
  },
  {
   "outputs": [
    {
     "output_type": "execute_result",
     "data": {
      "text/plain": "0.469"
     },
     "metadata": {},
     "execution_count": 8
    }
   ],
   "cell_type": "code",
   "source": [
    "boston[3, 5]"
   ],
   "metadata": {},
   "execution_count": 8
  },
  {
   "cell_type": "markdown",
   "source": [
    "or specifying a range of rows/columns:"
   ],
   "metadata": {}
  },
  {
   "outputs": [
    {
     "output_type": "execute_result",
     "data": {
      "text/plain": "\u001b[1m5×2 DataFrame\u001b[0m\n\u001b[1m Row \u001b[0m│\u001b[1m Crim    \u001b[0m\u001b[1m Zn      \u001b[0m\n\u001b[1m     \u001b[0m│\u001b[90m Float64 \u001b[0m\u001b[90m Float64 \u001b[0m\n─────┼──────────────────\n   1 │ 0.00632     18.0\n   2 │ 0.02731      0.0\n   3 │ 0.02729      0.0\n   4 │ 0.03237      0.0\n   5 │ 0.06905      0.0",
      "text/html": [
       "<div class=\"data-frame\"><p>5 rows × 2 columns</p><table class=\"data-frame\"><thead><tr><th></th><th>Crim</th><th>Zn</th></tr><tr><th></th><th title=\"Float64\">Float64</th><th title=\"Float64\">Float64</th></tr></thead><tbody><tr><th>1</th><td>0.00632</td><td>18.0</td></tr><tr><th>2</th><td>0.02731</td><td>0.0</td></tr><tr><th>3</th><td>0.02729</td><td>0.0</td></tr><tr><th>4</th><td>0.03237</td><td>0.0</td></tr><tr><th>5</th><td>0.06905</td><td>0.0</td></tr></tbody></table></div>"
      ]
     },
     "metadata": {},
     "execution_count": 9
    }
   ],
   "cell_type": "code",
   "source": [
    "boston[1:5, [:Crim, :Zn]]"
   ],
   "metadata": {},
   "execution_count": 9
  },
  {
   "cell_type": "markdown",
   "source": [
    "or, similarly,"
   ],
   "metadata": {}
  },
  {
   "outputs": [
    {
     "output_type": "execute_result",
     "data": {
      "text/plain": "\u001b[1m5×2 DataFrame\u001b[0m\n\u001b[1m Row \u001b[0m│\u001b[1m Crim    \u001b[0m\u001b[1m Zn      \u001b[0m\n\u001b[1m     \u001b[0m│\u001b[90m Float64 \u001b[0m\u001b[90m Float64 \u001b[0m\n─────┼──────────────────\n   1 │ 0.00632     18.0\n   2 │ 0.02731      0.0\n   3 │ 0.02729      0.0\n   4 │ 0.03237      0.0\n   5 │ 0.06905      0.0",
      "text/html": [
       "<div class=\"data-frame\"><p>5 rows × 2 columns</p><table class=\"data-frame\"><thead><tr><th></th><th>Crim</th><th>Zn</th></tr><tr><th></th><th title=\"Float64\">Float64</th><th title=\"Float64\">Float64</th></tr></thead><tbody><tr><th>1</th><td>0.00632</td><td>18.0</td></tr><tr><th>2</th><td>0.02731</td><td>0.0</td></tr><tr><th>3</th><td>0.02729</td><td>0.0</td></tr><tr><th>4</th><td>0.03237</td><td>0.0</td></tr><tr><th>5</th><td>0.06905</td><td>0.0</td></tr></tbody></table></div>"
      ]
     },
     "metadata": {},
     "execution_count": 10
    }
   ],
   "cell_type": "code",
   "source": [
    "boston[1:5, 1:2]"
   ],
   "metadata": {},
   "execution_count": 10
  },
  {
   "cell_type": "markdown",
   "source": [
    "The `select` function is very convenient to get sub dataframes of interest:"
   ],
   "metadata": {}
  },
  {
   "outputs": [
    {
     "output_type": "execute_result",
     "data": {
      "text/plain": "\u001b[1m2×3 DataFrame\u001b[0m\n\u001b[1m Row \u001b[0m│\u001b[1m Crim    \u001b[0m\u001b[1m Zn      \u001b[0m\u001b[1m Indus   \u001b[0m\n\u001b[1m     \u001b[0m│\u001b[90m Float64 \u001b[0m\u001b[90m Float64 \u001b[0m\u001b[90m Float64 \u001b[0m\n─────┼───────────────────────────\n   1 │ 0.00632     18.0     2.31\n   2 │ 0.02731      0.0     7.07",
      "text/html": [
       "<div class=\"data-frame\"><p>2 rows × 3 columns</p><table class=\"data-frame\"><thead><tr><th></th><th>Crim</th><th>Zn</th><th>Indus</th></tr><tr><th></th><th title=\"Float64\">Float64</th><th title=\"Float64\">Float64</th><th title=\"Float64\">Float64</th></tr></thead><tbody><tr><th>1</th><td>0.00632</td><td>18.0</td><td>2.31</td></tr><tr><th>2</th><td>0.02731</td><td>0.0</td><td>7.07</td></tr></tbody></table></div>"
      ]
     },
     "metadata": {},
     "execution_count": 11
    }
   ],
   "cell_type": "code",
   "source": [
    "b1 = select(boston, [:Crim, :Zn, :Indus])\n",
    "first(b1, 2)"
   ],
   "metadata": {},
   "execution_count": 11
  },
  {
   "cell_type": "markdown",
   "source": [
    "The `Not` syntax is  also very  useful:"
   ],
   "metadata": {}
  },
  {
   "outputs": [
    {
     "output_type": "execute_result",
     "data": {
      "text/plain": "\u001b[1m2×13 DataFrame\u001b[0m\n\u001b[1m Row \u001b[0m│\u001b[1m Crim    \u001b[0m\u001b[1m Zn      \u001b[0m\u001b[1m Indus   \u001b[0m\u001b[1m Chas  \u001b[0m\u001b[1m Rm      \u001b[0m\u001b[1m Age     \u001b[0m\u001b[1m Dis     \u001b[0m\u001b[1m Rad   \u001b[0m\u001b[1m Tax   \u001b[0m\u001b[1m PTRatio \u001b[0m\u001b[1m\u001b[0m ⋯\n\u001b[1m     \u001b[0m│\u001b[90m Float64 \u001b[0m\u001b[90m Float64 \u001b[0m\u001b[90m Float64 \u001b[0m\u001b[90m Int64 \u001b[0m\u001b[90m Float64 \u001b[0m\u001b[90m Float64 \u001b[0m\u001b[90m Float64 \u001b[0m\u001b[90m Int64 \u001b[0m\u001b[90m Int64 \u001b[0m\u001b[90m Float64 \u001b[0m\u001b[90m\u001b[0m ⋯\n─────┼──────────────────────────────────────────────────────────────────────────────────────\n   1 │ 0.00632     18.0     2.31      0    6.575     65.2   4.09        1    296     15.3  ⋯\n   2 │ 0.02731      0.0     7.07      0    6.421     78.9   4.9671      2    242     17.8\n\u001b[36m                                                                           3 columns omitted\u001b[0m",
      "text/html": [
       "<div class=\"data-frame\"><p>2 rows × 13 columns (omitted printing of 2 columns)</p><table class=\"data-frame\"><thead><tr><th></th><th>Crim</th><th>Zn</th><th>Indus</th><th>Chas</th><th>Rm</th><th>Age</th><th>Dis</th><th>Rad</th><th>Tax</th><th>PTRatio</th><th>Black</th></tr><tr><th></th><th title=\"Float64\">Float64</th><th title=\"Float64\">Float64</th><th title=\"Float64\">Float64</th><th title=\"Int64\">Int64</th><th title=\"Float64\">Float64</th><th title=\"Float64\">Float64</th><th title=\"Float64\">Float64</th><th title=\"Int64\">Int64</th><th title=\"Int64\">Int64</th><th title=\"Float64\">Float64</th><th title=\"Float64\">Float64</th></tr></thead><tbody><tr><th>1</th><td>0.00632</td><td>18.0</td><td>2.31</td><td>0</td><td>6.575</td><td>65.2</td><td>4.09</td><td>1</td><td>296</td><td>15.3</td><td>396.9</td></tr><tr><th>2</th><td>0.02731</td><td>0.0</td><td>7.07</td><td>0</td><td>6.421</td><td>78.9</td><td>4.9671</td><td>2</td><td>242</td><td>17.8</td><td>396.9</td></tr></tbody></table></div>"
      ]
     },
     "metadata": {},
     "execution_count": 12
    }
   ],
   "cell_type": "code",
   "source": [
    "b2 = select(boston, Not(:NOx))\n",
    "first(b2, 2)"
   ],
   "metadata": {},
   "execution_count": 12
  },
  {
   "cell_type": "markdown",
   "source": [
    "Finally, if you would like to drop columns, you can use `select!`\n",
    "which will mutate the dataframe in place:"
   ],
   "metadata": {}
  },
  {
   "outputs": [
    {
     "output_type": "execute_result",
     "data": {
      "text/plain": "\u001b[1m2×2 DataFrame\u001b[0m\n\u001b[1m Row \u001b[0m│\u001b[1m Zn      \u001b[0m\u001b[1m Indus   \u001b[0m\n\u001b[1m     \u001b[0m│\u001b[90m Float64 \u001b[0m\u001b[90m Float64 \u001b[0m\n─────┼──────────────────\n   1 │    18.0     2.31\n   2 │     0.0     7.07",
      "text/html": [
       "<div class=\"data-frame\"><p>2 rows × 2 columns</p><table class=\"data-frame\"><thead><tr><th></th><th>Zn</th><th>Indus</th></tr><tr><th></th><th title=\"Float64\">Float64</th><th title=\"Float64\">Float64</th></tr></thead><tbody><tr><th>1</th><td>18.0</td><td>2.31</td></tr><tr><th>2</th><td>0.0</td><td>7.07</td></tr></tbody></table></div>"
      ]
     },
     "metadata": {},
     "execution_count": 13
    }
   ],
   "cell_type": "code",
   "source": [
    "select!(b1, Not(:Crim))\n",
    "first(b1, 2)"
   ],
   "metadata": {},
   "execution_count": 13
  },
  {
   "cell_type": "markdown",
   "source": [
    "### Describing the data"
   ],
   "metadata": {}
  },
  {
   "cell_type": "markdown",
   "source": [
    "`StatsBase.jl` offers a convenient `describe` function which you can\n",
    "use on a DataFrame to get an overview of the data:"
   ],
   "metadata": {}
  },
  {
   "outputs": [
    {
     "name": "stdout",
     "output_type": "stream",
     "text": [
      "[ Info: Precompiling StatsBase [2913bbd2-ae8a-5f71-8c99-4fb6c76f3a91]\n"
     ]
    },
    {
     "output_type": "execute_result",
     "data": {
      "text/plain": "\u001b[1m14×6 DataFrame\u001b[0m\n\u001b[1m Row \u001b[0m│\u001b[1m variable \u001b[0m\u001b[1m min       \u001b[0m\u001b[1m max      \u001b[0m\u001b[1m mean       \u001b[0m\u001b[1m median    \u001b[0m\u001b[1m std        \u001b[0m\n\u001b[1m     \u001b[0m│\u001b[90m Symbol   \u001b[0m\u001b[90m Real      \u001b[0m\u001b[90m Real     \u001b[0m\u001b[90m Float64    \u001b[0m\u001b[90m Float64   \u001b[0m\u001b[90m Float64    \u001b[0m\n─────┼──────────────────────────────────────────────────────────────────\n   1 │ Crim        0.00632   88.9762    3.61352     0.25651    8.60155\n   2 │ Zn          0.0      100.0      11.3636      0.0       23.3225\n   3 │ Indus       0.46      27.74     11.1368      9.69       6.86035\n   4 │ Chas        0          1         0.06917     0.0        0.253994\n   5 │ NOx         0.385      0.871     0.554695    0.538      0.115878\n   6 │ Rm          3.561      8.78      6.28463     6.2085     0.702617\n   7 │ Age         2.9      100.0      68.5749     77.5       28.1489\n   8 │ Dis         1.1296    12.1265    3.79504     3.20745    2.10571\n   9 │ Rad         1         24         9.54941     5.0        8.70726\n  10 │ Tax       187        711       408.237     330.0      168.537\n  11 │ PTRatio    12.6       22.0      18.4555     19.05       2.16495\n  12 │ Black       0.32     396.9     356.674     391.44      91.2949\n  13 │ LStat       1.73      37.97     12.6531     11.36       7.14106\n  14 │ MedV        5.0       50.0      22.5328     21.2        9.1971",
      "text/html": [
       "<div class=\"data-frame\"><p>14 rows × 6 columns</p><table class=\"data-frame\"><thead><tr><th></th><th>variable</th><th>min</th><th>max</th><th>mean</th><th>median</th><th>std</th></tr><tr><th></th><th title=\"Symbol\">Symbol</th><th title=\"Real\">Real</th><th title=\"Real\">Real</th><th title=\"Float64\">Float64</th><th title=\"Float64\">Float64</th><th title=\"Float64\">Float64</th></tr></thead><tbody><tr><th>1</th><td>Crim</td><td>0.00632</td><td>88.9762</td><td>3.61352</td><td>0.25651</td><td>8.60155</td></tr><tr><th>2</th><td>Zn</td><td>0.0</td><td>100.0</td><td>11.3636</td><td>0.0</td><td>23.3225</td></tr><tr><th>3</th><td>Indus</td><td>0.46</td><td>27.74</td><td>11.1368</td><td>9.69</td><td>6.86035</td></tr><tr><th>4</th><td>Chas</td><td>0</td><td>1</td><td>0.06917</td><td>0.0</td><td>0.253994</td></tr><tr><th>5</th><td>NOx</td><td>0.385</td><td>0.871</td><td>0.554695</td><td>0.538</td><td>0.115878</td></tr><tr><th>6</th><td>Rm</td><td>3.561</td><td>8.78</td><td>6.28463</td><td>6.2085</td><td>0.702617</td></tr><tr><th>7</th><td>Age</td><td>2.9</td><td>100.0</td><td>68.5749</td><td>77.5</td><td>28.1489</td></tr><tr><th>8</th><td>Dis</td><td>1.1296</td><td>12.1265</td><td>3.79504</td><td>3.20745</td><td>2.10571</td></tr><tr><th>9</th><td>Rad</td><td>1</td><td>24</td><td>9.54941</td><td>5.0</td><td>8.70726</td></tr><tr><th>10</th><td>Tax</td><td>187</td><td>711</td><td>408.237</td><td>330.0</td><td>168.537</td></tr><tr><th>11</th><td>PTRatio</td><td>12.6</td><td>22.0</td><td>18.4555</td><td>19.05</td><td>2.16495</td></tr><tr><th>12</th><td>Black</td><td>0.32</td><td>396.9</td><td>356.674</td><td>391.44</td><td>91.2949</td></tr><tr><th>13</th><td>LStat</td><td>1.73</td><td>37.97</td><td>12.6531</td><td>11.36</td><td>7.14106</td></tr><tr><th>14</th><td>MedV</td><td>5.0</td><td>50.0</td><td>22.5328</td><td>21.2</td><td>9.1971</td></tr></tbody></table></div>"
      ]
     },
     "metadata": {},
     "execution_count": 14
    }
   ],
   "cell_type": "code",
   "source": [
    "using StatsBase\n",
    "describe(boston, :min, :max, :mean, :median, :std)"
   ],
   "metadata": {},
   "execution_count": 14
  },
  {
   "cell_type": "markdown",
   "source": [
    "You can pass a number of symbols to the `describe` function to\n",
    "indicate which statistics to compute for each feature:\n",
    "\n",
    "* `mean`, `std`, `min`, `max`, `median`, `first`, `last` are all fairly self explanatory\n",
    "* `q25`, `q75` are respectively for the 25th and 75th percentile,\n",
    "* `eltype`, `nunique`, `nmissing` can also be used\n",
    "\n",
    "You can also  pass your custom function with a pair `name => function` for instance:"
   ],
   "metadata": {}
  },
  {
   "outputs": [
    {
     "output_type": "execute_result",
     "data": {
      "text/plain": "\u001b[1m3×4 DataFrame\u001b[0m\n\u001b[1m Row \u001b[0m│\u001b[1m variable \u001b[0m\u001b[1m mean     \u001b[0m\u001b[1m median  \u001b[0m\u001b[1m foo      \u001b[0m\n\u001b[1m     \u001b[0m│\u001b[90m Symbol   \u001b[0m\u001b[90m Float64  \u001b[0m\u001b[90m Float64 \u001b[0m\u001b[90m Float64  \u001b[0m\n─────┼───────────────────────────────────────\n   1 │ Crim       3.61352  0.25651   3.61352\n   2 │ Zn        11.3636   0.0      11.3636\n   3 │ Indus     11.1368   9.69     11.1368",
      "text/html": [
       "<div class=\"data-frame\"><p>3 rows × 4 columns</p><table class=\"data-frame\"><thead><tr><th></th><th>variable</th><th>mean</th><th>median</th><th>foo</th></tr><tr><th></th><th title=\"Symbol\">Symbol</th><th title=\"Float64\">Float64</th><th title=\"Float64\">Float64</th><th title=\"Float64\">Float64</th></tr></thead><tbody><tr><th>1</th><td>Crim</td><td>3.61352</td><td>0.25651</td><td>3.61352</td></tr><tr><th>2</th><td>Zn</td><td>11.3636</td><td>0.0</td><td>11.3636</td></tr><tr><th>3</th><td>Indus</td><td>11.1368</td><td>9.69</td><td>11.1368</td></tr></tbody></table></div>"
      ]
     },
     "metadata": {},
     "execution_count": 15
    }
   ],
   "cell_type": "code",
   "source": [
    "foo(x) = sum(abs.(x)) / length(x)\n",
    "d = describe(boston, :mean, :median, foo => :foo)\n",
    "first(d, 3)"
   ],
   "metadata": {},
   "execution_count": 15
  },
  {
   "cell_type": "markdown",
   "source": [
    "The `describe` function returns a derived object with one row per\n",
    "feature and one column per required statistic.\n",
    "\n",
    "Further to `StatsBase`, `Statistics` offers a range of useful\n",
    "functions for data analysis."
   ],
   "metadata": {}
  },
  {
   "outputs": [],
   "cell_type": "code",
   "source": [
    "using Statistics"
   ],
   "metadata": {},
   "execution_count": 16
  },
  {
   "cell_type": "markdown",
   "source": [
    "### Converting the data\n",
    "\n",
    "If you want to get the content of the dataframe as one big matrix,\n",
    "use `convert`:"
   ],
   "metadata": {}
  },
  {
   "outputs": [
    {
     "output_type": "execute_result",
     "data": {
      "text/plain": "3×3 Matrix{Float64}:\n 0.00632  18.0  2.31\n 0.02731   0.0  7.07\n 0.02729   0.0  7.07"
     },
     "metadata": {},
     "execution_count": 17
    }
   ],
   "cell_type": "code",
   "source": [
    "mat = Matrix(boston)\n",
    "mat[1:3, 1:3]"
   ],
   "metadata": {},
   "execution_count": 17
  },
  {
   "cell_type": "markdown",
   "source": [
    "### Adding columns"
   ],
   "metadata": {}
  },
  {
   "cell_type": "markdown",
   "source": [
    "Adding a column to a dataframe is very easy:"
   ],
   "metadata": {}
  },
  {
   "outputs": [],
   "cell_type": "code",
   "source": [
    "boston.Crim_x_Zn = boston.Crim .* boston.Zn;"
   ],
   "metadata": {},
   "execution_count": 18
  },
  {
   "cell_type": "markdown",
   "source": [
    "that's it! Remember also that you can drop columns or make\n",
    "subselections with `select` and `select!`."
   ],
   "metadata": {}
  },
  {
   "cell_type": "markdown",
   "source": [
    "### Missing values\n",
    "\n",
    "Let's load a dataset with missing values"
   ],
   "metadata": {}
  },
  {
   "outputs": [
    {
     "output_type": "execute_result",
     "data": {
      "text/plain": "\u001b[1m19×2 DataFrame\u001b[0m\n\u001b[1m Row \u001b[0m│\u001b[1m variable \u001b[0m\u001b[1m nmissing \u001b[0m\n\u001b[1m     \u001b[0m│\u001b[90m Symbol   \u001b[0m\u001b[90m Int64    \u001b[0m\n─────┼────────────────────\n   1 │ ID               0\n   2 │ Type             0\n   3 │ Gender           0\n   4 │ Age            188\n   5 │ AAO            296\n   6 │ AAD            295\n   7 │ UPDRS          301\n   8 │ MAOAI2           0\n   9 │ AI2Code          0\n  10 │ MAOBI2           0\n  11 │ BI2Code          0\n  12 │ GTBEX3           0\n  13 │ BEX3Code         0\n  14 │ MAOAVNTR        46\n  15 │ VNTRCode        46\n  16 │ VNTRCod2        46\n  17 │ MAOA31          36\n  18 │ MAO31COD        36\n  19 │ MAO31CO2        36",
      "text/html": [
       "<div class=\"data-frame\"><p>19 rows × 2 columns</p><table class=\"data-frame\"><thead><tr><th></th><th>variable</th><th>nmissing</th></tr><tr><th></th><th title=\"Symbol\">Symbol</th><th title=\"Int64\">Int64</th></tr></thead><tbody><tr><th>1</th><td>ID</td><td>0</td></tr><tr><th>2</th><td>Type</td><td>0</td></tr><tr><th>3</th><td>Gender</td><td>0</td></tr><tr><th>4</th><td>Age</td><td>188</td></tr><tr><th>5</th><td>AAO</td><td>296</td></tr><tr><th>6</th><td>AAD</td><td>295</td></tr><tr><th>7</th><td>UPDRS</td><td>301</td></tr><tr><th>8</th><td>MAOAI2</td><td>0</td></tr><tr><th>9</th><td>AI2Code</td><td>0</td></tr><tr><th>10</th><td>MAOBI2</td><td>0</td></tr><tr><th>11</th><td>BI2Code</td><td>0</td></tr><tr><th>12</th><td>GTBEX3</td><td>0</td></tr><tr><th>13</th><td>BEX3Code</td><td>0</td></tr><tr><th>14</th><td>MAOAVNTR</td><td>46</td></tr><tr><th>15</th><td>VNTRCode</td><td>46</td></tr><tr><th>16</th><td>VNTRCod2</td><td>46</td></tr><tr><th>17</th><td>MAOA31</td><td>36</td></tr><tr><th>18</th><td>MAO31COD</td><td>36</td></tr><tr><th>19</th><td>MAO31CO2</td><td>36</td></tr></tbody></table></div>"
      ]
     },
     "metadata": {},
     "execution_count": 19
    }
   ],
   "cell_type": "code",
   "source": [
    "mao = dataset(\"gap\", \"mao\")\n",
    "describe(mao, :nmissing)"
   ],
   "metadata": {},
   "execution_count": 19
  },
  {
   "cell_type": "markdown",
   "source": [
    "Lots of missing values...  If you wanted to compute simple functions\n",
    "on columns, they may just return `missing`:"
   ],
   "metadata": {}
  },
  {
   "outputs": [
    {
     "output_type": "execute_result",
     "data": {
      "text/plain": "missing"
     },
     "metadata": {},
     "execution_count": 20
    }
   ],
   "cell_type": "code",
   "source": [
    "std(mao.Age)"
   ],
   "metadata": {},
   "execution_count": 20
  },
  {
   "cell_type": "markdown",
   "source": [
    "The `skipmissing` function can help counter this  easily:"
   ],
   "metadata": {}
  },
  {
   "outputs": [
    {
     "output_type": "execute_result",
     "data": {
      "text/plain": "11.551715894987558"
     },
     "metadata": {},
     "execution_count": 21
    }
   ],
   "cell_type": "code",
   "source": [
    "std(skipmissing(mao.Age))"
   ],
   "metadata": {},
   "execution_count": 21
  },
  {
   "cell_type": "markdown",
   "source": [
    "## Split-Apply-Combine\n",
    "\n",
    "This is a shorter version of the [DataFrames.jl\n",
    "tutorial](http://juliadata.github.io/DataFrames.jl/latest/man/split_apply_combine/)."
   ],
   "metadata": {}
  },
  {
   "outputs": [
    {
     "output_type": "execute_result",
     "data": {
      "text/plain": "\u001b[1m3×5 DataFrame\u001b[0m\n\u001b[1m Row \u001b[0m│\u001b[1m SepalLength \u001b[0m\u001b[1m SepalWidth \u001b[0m\u001b[1m PetalLength \u001b[0m\u001b[1m PetalWidth \u001b[0m\u001b[1m Species \u001b[0m\n\u001b[1m     \u001b[0m│\u001b[90m Float64     \u001b[0m\u001b[90m Float64    \u001b[0m\u001b[90m Float64     \u001b[0m\u001b[90m Float64    \u001b[0m\u001b[90m Cat…    \u001b[0m\n─────┼───────────────────────────────────────────────────────────\n   1 │         5.1         3.5          1.4         0.2  setosa\n   2 │         4.9         3.0          1.4         0.2  setosa\n   3 │         4.7         3.2          1.3         0.2  setosa",
      "text/html": [
       "<div class=\"data-frame\"><p>3 rows × 5 columns</p><table class=\"data-frame\"><thead><tr><th></th><th>SepalLength</th><th>SepalWidth</th><th>PetalLength</th><th>PetalWidth</th><th>Species</th></tr><tr><th></th><th title=\"Float64\">Float64</th><th title=\"Float64\">Float64</th><th title=\"Float64\">Float64</th><th title=\"Float64\">Float64</th><th title=\"CategoricalArrays.CategoricalValue{String, UInt8}\">Cat…</th></tr></thead><tbody><tr><th>1</th><td>5.1</td><td>3.5</td><td>1.4</td><td>0.2</td><td>setosa</td></tr><tr><th>2</th><td>4.9</td><td>3.0</td><td>1.4</td><td>0.2</td><td>setosa</td></tr><tr><th>3</th><td>4.7</td><td>3.2</td><td>1.3</td><td>0.2</td><td>setosa</td></tr></tbody></table></div>"
      ]
     },
     "metadata": {},
     "execution_count": 22
    }
   ],
   "cell_type": "code",
   "source": [
    "iris = dataset(\"datasets\", \"iris\")\n",
    "first(iris, 3)"
   ],
   "metadata": {},
   "execution_count": 22
  },
  {
   "cell_type": "markdown",
   "source": [
    "### `groupby`\n",
    "\n",
    "The `groupby` function allows to form \"sub-dataframes\" corresponding\n",
    "to groups of rows.  This can be very convenient to run specific\n",
    "analyses for specific groups without copying the data.\n",
    "\n",
    "The basic usage is `groupby(df, cols)` where `cols` specifies one or\n",
    "several columns to use for the grouping.\n",
    "\n",
    "Consider a simple example: in `iris` there is a `Species` column\n",
    "with 3 species:"
   ],
   "metadata": {}
  },
  {
   "outputs": [
    {
     "output_type": "execute_result",
     "data": {
      "text/plain": "3-element Vector{String}:\n \"setosa\"\n \"versicolor\"\n \"virginica\""
     },
     "metadata": {},
     "execution_count": 23
    }
   ],
   "cell_type": "code",
   "source": [
    "unique(iris.Species)"
   ],
   "metadata": {},
   "execution_count": 23
  },
  {
   "cell_type": "markdown",
   "source": [
    "We can form views for each of these:"
   ],
   "metadata": {}
  },
  {
   "outputs": [],
   "cell_type": "code",
   "source": [
    "gdf = groupby(iris, :Species);"
   ],
   "metadata": {},
   "execution_count": 24
  },
  {
   "cell_type": "markdown",
   "source": [
    "The `gdf` object now corresponds to **views** of the original\n",
    "dataframe for each of the 3 species; the first species is `\"setosa\"`\n",
    "with:"
   ],
   "metadata": {}
  },
  {
   "outputs": [
    {
     "output_type": "execute_result",
     "data": {
      "text/plain": "\u001b[1m5×4 DataFrame\u001b[0m\n\u001b[1m Row \u001b[0m│\u001b[1m variable    \u001b[0m\u001b[1m min    \u001b[0m\u001b[1m mean   \u001b[0m\u001b[1m max    \u001b[0m\n\u001b[1m     \u001b[0m│\u001b[90m Symbol      \u001b[0m\u001b[90m Any    \u001b[0m\u001b[90m Union… \u001b[0m\u001b[90m Any    \u001b[0m\n─────┼─────────────────────────────────────\n   1 │ SepalLength  4.3     5.006   5.8\n   2 │ SepalWidth   2.3     3.428   4.4\n   3 │ PetalLength  1.0     1.462   1.9\n   4 │ PetalWidth   0.1     0.246   0.6\n   5 │ Species      setosa \u001b[90m        \u001b[0m setosa",
      "text/html": [
       "<div class=\"data-frame\"><p>5 rows × 4 columns</p><table class=\"data-frame\"><thead><tr><th></th><th>variable</th><th>min</th><th>mean</th><th>max</th></tr><tr><th></th><th title=\"Symbol\">Symbol</th><th title=\"Any\">Any</th><th title=\"Union{Nothing, Float64}\">Union…</th><th title=\"Any\">Any</th></tr></thead><tbody><tr><th>1</th><td>SepalLength</td><td>4.3</td><td>5.006</td><td>5.8</td></tr><tr><th>2</th><td>SepalWidth</td><td>2.3</td><td>3.428</td><td>4.4</td></tr><tr><th>3</th><td>PetalLength</td><td>1.0</td><td>1.462</td><td>1.9</td></tr><tr><th>4</th><td>PetalWidth</td><td>0.1</td><td>0.246</td><td>0.6</td></tr><tr><th>5</th><td>Species</td><td>setosa</td><td></td><td>setosa</td></tr></tbody></table></div>"
      ]
     },
     "metadata": {},
     "execution_count": 25
    }
   ],
   "cell_type": "code",
   "source": [
    "subdf_setosa = gdf[1]\n",
    "describe(subdf_setosa, :min, :mean, :max)"
   ],
   "metadata": {},
   "execution_count": 25
  },
  {
   "cell_type": "markdown",
   "source": [
    "Note that `subdf_setosa` is a `SubDataFrame` meaning that it is just\n",
    "a view of the parent dataframe `iris`; if you modify that parent\n",
    "dataframe then the sub dataframe is also modified.\n",
    "\n",
    "See `?groupby` for more information.\n",
    "\n",
    "### `combine`\n",
    "\n",
    "The `combine` function allows to derive a new dataframe out of\n",
    "transformations of an existing one.  Here's an example taken from\n",
    "the official doc (see `?combine`):"
   ],
   "metadata": {}
  },
  {
   "outputs": [
    {
     "output_type": "execute_result",
     "data": {
      "text/plain": "\u001b[1m1×2 DataFrame\u001b[0m\n\u001b[1m Row \u001b[0m│\u001b[1m a_sum \u001b[0m\u001b[1m nrow  \u001b[0m\n\u001b[1m     \u001b[0m│\u001b[90m Int64 \u001b[0m\u001b[90m Int64 \u001b[0m\n─────┼──────────────\n   1 │     6      3",
      "text/html": [
       "<div class=\"data-frame\"><p>1 rows × 2 columns</p><table class=\"data-frame\"><thead><tr><th></th><th>a_sum</th><th>nrow</th></tr><tr><th></th><th title=\"Int64\">Int64</th><th title=\"Int64\">Int64</th></tr></thead><tbody><tr><th>1</th><td>6</td><td>3</td></tr></tbody></table></div>"
      ]
     },
     "metadata": {},
     "execution_count": 26
    }
   ],
   "cell_type": "code",
   "source": [
    "df = DataFrame(a=1:3, b=4:6)\n",
    "combine(df, :a => sum, nrow)"
   ],
   "metadata": {},
   "execution_count": 26
  },
  {
   "cell_type": "markdown",
   "source": [
    "what happened here is that the derived DataFrame has two columns\n",
    "obtained respectively by (1) computing the sum of the first column\n",
    "and (2) applying the `nrow` function on the `df`.\n",
    "\n",
    "The transformation can produce one or several values, `combine` will\n",
    "try to concatenate these columns as it can, for instance:"
   ],
   "metadata": {}
  },
  {
   "outputs": [
    {
     "output_type": "execute_result",
     "data": {
      "text/plain": "\u001b[1m2×2 DataFrame\u001b[0m\n\u001b[1m Row \u001b[0m│\u001b[1m a_maximum \u001b[0m\u001b[1m b_foo \u001b[0m\n\u001b[1m     \u001b[0m│\u001b[90m Int64     \u001b[0m\u001b[90m Int64 \u001b[0m\n─────┼──────────────────\n   1 │         3      4\n   2 │         3      5",
      "text/html": [
       "<div class=\"data-frame\"><p>2 rows × 2 columns</p><table class=\"data-frame\"><thead><tr><th></th><th>a_maximum</th><th>b_foo</th></tr><tr><th></th><th title=\"Int64\">Int64</th><th title=\"Int64\">Int64</th></tr></thead><tbody><tr><th>1</th><td>3</td><td>4</td></tr><tr><th>2</th><td>3</td><td>5</td></tr></tbody></table></div>"
      ]
     },
     "metadata": {},
     "execution_count": 27
    }
   ],
   "cell_type": "code",
   "source": [
    "foo(v) = v[1:2]\n",
    "combine(df, :a => maximum, :b => foo)"
   ],
   "metadata": {},
   "execution_count": 27
  },
  {
   "cell_type": "markdown",
   "source": [
    "here the maximum value of `a` is copied twice so that the two\n",
    "columns have the same number of rows."
   ],
   "metadata": {}
  },
  {
   "outputs": [
    {
     "output_type": "execute_result",
     "data": {
      "text/plain": "\u001b[1m2×2 DataFrame\u001b[0m\n\u001b[1m Row \u001b[0m│\u001b[1m a_foo \u001b[0m\u001b[1m b_bar \u001b[0m\n\u001b[1m     \u001b[0m│\u001b[90m Int64 \u001b[0m\u001b[90m Int64 \u001b[0m\n─────┼──────────────\n   1 │     1      5\n   2 │     2      6",
      "text/html": [
       "<div class=\"data-frame\"><p>2 rows × 2 columns</p><table class=\"data-frame\"><thead><tr><th></th><th>a_foo</th><th>b_bar</th></tr><tr><th></th><th title=\"Int64\">Int64</th><th title=\"Int64\">Int64</th></tr></thead><tbody><tr><th>1</th><td>1</td><td>5</td></tr><tr><th>2</th><td>2</td><td>6</td></tr></tbody></table></div>"
      ]
     },
     "metadata": {},
     "execution_count": 28
    }
   ],
   "cell_type": "code",
   "source": [
    "bar(v) = v[end-1:end]\n",
    "combine(df, :a => foo, :b => bar)"
   ],
   "metadata": {},
   "execution_count": 28
  },
  {
   "cell_type": "markdown",
   "source": [
    "### `combine` with `groupby`\n",
    "\n",
    "Combining `groupby` with `combine` is very useful.  For instance you\n",
    "might want to compute statistics across groups for different\n",
    "variables:"
   ],
   "metadata": {}
  },
  {
   "outputs": [
    {
     "output_type": "execute_result",
     "data": {
      "text/plain": "\u001b[1m3×2 DataFrame\u001b[0m\n\u001b[1m Row \u001b[0m│\u001b[1m Species    \u001b[0m\u001b[1m PetalLength_mean \u001b[0m\n\u001b[1m     \u001b[0m│\u001b[90m Cat…       \u001b[0m\u001b[90m Float64          \u001b[0m\n─────┼──────────────────────────────\n   1 │ setosa                 1.462\n   2 │ versicolor             4.26\n   3 │ virginica              5.552",
      "text/html": [
       "<div class=\"data-frame\"><p>3 rows × 2 columns</p><table class=\"data-frame\"><thead><tr><th></th><th>Species</th><th>PetalLength_mean</th></tr><tr><th></th><th title=\"CategoricalArrays.CategoricalValue{String, UInt8}\">Cat…</th><th title=\"Float64\">Float64</th></tr></thead><tbody><tr><th>1</th><td>setosa</td><td>1.462</td></tr><tr><th>2</th><td>versicolor</td><td>4.26</td></tr><tr><th>3</th><td>virginica</td><td>5.552</td></tr></tbody></table></div>"
      ]
     },
     "metadata": {},
     "execution_count": 29
    }
   ],
   "cell_type": "code",
   "source": [
    "combine(groupby(iris, :Species), :PetalLength => mean)"
   ],
   "metadata": {},
   "execution_count": 29
  },
  {
   "cell_type": "markdown",
   "source": [
    "let's decompose that:\n",
    "\n",
    "1. the `groupby(iris, :Species)` creates groups using the `:Species` column (which has values `setosa`, `versicolor`, `virginica`)\n",
    "2. the `combine` creates a derived dataframe by applying the `mean` function to the `:PetalLength` column\n",
    "3. since there are three groups, we get one column (mean of `PetalLength`) and three rows (one per group).\n",
    "\n",
    "\n",
    "You can do this for several columns/statistics at the time and give\n",
    "new column names to the results:"
   ],
   "metadata": {}
  },
  {
   "outputs": [
    {
     "output_type": "execute_result",
     "data": {
      "text/plain": "\u001b[1m3×3 DataFrame\u001b[0m\n\u001b[1m Row \u001b[0m│\u001b[1m Species    \u001b[0m\u001b[1m MPL     \u001b[0m\u001b[1m SPL      \u001b[0m\n\u001b[1m     \u001b[0m│\u001b[90m Cat…       \u001b[0m\u001b[90m Float64 \u001b[0m\u001b[90m Float64  \u001b[0m\n─────┼───────────────────────────────\n   1 │ setosa        1.462  0.173664\n   2 │ versicolor    4.26   0.469911\n   3 │ virginica     5.552  0.551895",
      "text/html": [
       "<div class=\"data-frame\"><p>3 rows × 3 columns</p><table class=\"data-frame\"><thead><tr><th></th><th>Species</th><th>MPL</th><th>SPL</th></tr><tr><th></th><th title=\"CategoricalArrays.CategoricalValue{String, UInt8}\">Cat…</th><th title=\"Float64\">Float64</th><th title=\"Float64\">Float64</th></tr></thead><tbody><tr><th>1</th><td>setosa</td><td>1.462</td><td>0.173664</td></tr><tr><th>2</th><td>versicolor</td><td>4.26</td><td>0.469911</td></tr><tr><th>3</th><td>virginica</td><td>5.552</td><td>0.551895</td></tr></tbody></table></div>"
      ]
     },
     "metadata": {},
     "execution_count": 30
    }
   ],
   "cell_type": "code",
   "source": [
    "gdf = groupby(iris, :Species)\n",
    "combine(gdf, :PetalLength => mean => :MPL, :PetalLength => std => :SPL)"
   ],
   "metadata": {},
   "execution_count": 30
  },
  {
   "cell_type": "markdown",
   "source": [
    "so here we assign the names `:MPL` and `:SPL` to the derived\n",
    "columns.  If you want to apply something on all columns apart from\n",
    "the grouping one, using `names` and `Not` comes in handy:"
   ],
   "metadata": {}
  },
  {
   "outputs": [
    {
     "output_type": "execute_result",
     "data": {
      "text/plain": "\u001b[1m3×5 DataFrame\u001b[0m\n\u001b[1m Row \u001b[0m│\u001b[1m Species    \u001b[0m\u001b[1m SepalLength_std \u001b[0m\u001b[1m SepalWidth_std \u001b[0m\u001b[1m PetalLength_std \u001b[0m\u001b[1m PetalWidth_std \u001b[0m\n\u001b[1m     \u001b[0m│\u001b[90m Cat…       \u001b[0m\u001b[90m Float64         \u001b[0m\u001b[90m Float64        \u001b[0m\u001b[90m Float64         \u001b[0m\u001b[90m Float64        \u001b[0m\n─────┼──────────────────────────────────────────────────────────────────────────────\n   1 │ setosa             0.35249         0.379064         0.173664        0.105386\n   2 │ versicolor         0.516171        0.313798         0.469911        0.197753\n   3 │ virginica          0.63588         0.322497         0.551895        0.27465",
      "text/html": [
       "<div class=\"data-frame\"><p>3 rows × 5 columns</p><table class=\"data-frame\"><thead><tr><th></th><th>Species</th><th>SepalLength_std</th><th>SepalWidth_std</th><th>PetalLength_std</th><th>PetalWidth_std</th></tr><tr><th></th><th title=\"CategoricalArrays.CategoricalValue{String, UInt8}\">Cat…</th><th title=\"Float64\">Float64</th><th title=\"Float64\">Float64</th><th title=\"Float64\">Float64</th><th title=\"Float64\">Float64</th></tr></thead><tbody><tr><th>1</th><td>setosa</td><td>0.35249</td><td>0.379064</td><td>0.173664</td><td>0.105386</td></tr><tr><th>2</th><td>versicolor</td><td>0.516171</td><td>0.313798</td><td>0.469911</td><td>0.197753</td></tr><tr><th>3</th><td>virginica</td><td>0.63588</td><td>0.322497</td><td>0.551895</td><td>0.27465</td></tr></tbody></table></div>"
      ]
     },
     "metadata": {},
     "execution_count": 31
    }
   ],
   "cell_type": "code",
   "source": [
    "combine(gdf, names(iris, Not(:Species)) .=> std)"
   ],
   "metadata": {},
   "execution_count": 31
  },
  {
   "cell_type": "markdown",
   "source": [
    "where"
   ],
   "metadata": {}
  },
  {
   "outputs": [
    {
     "output_type": "execute_result",
     "data": {
      "text/plain": "4-element Vector{String}:\n \"SepalLength\"\n \"SepalWidth\"\n \"PetalLength\"\n \"PetalWidth\""
     },
     "metadata": {},
     "execution_count": 32
    }
   ],
   "cell_type": "code",
   "source": [
    "names(iris, Not(:Species))"
   ],
   "metadata": {},
   "execution_count": 32
  },
  {
   "cell_type": "markdown",
   "source": [
    "and note the use of `.` in `.=>` to indicate that we broadcast the\n",
    "function over each column."
   ],
   "metadata": {}
  },
  {
   "cell_type": "markdown",
   "source": [
    "---\n",
    "\n",
    "*This notebook was generated using [Literate.jl](https://github.com/fredrikekre/Literate.jl).*"
   ],
   "metadata": {}
  }
 ],
 "nbformat_minor": 3,
 "metadata": {
  "language_info": {
   "file_extension": ".jl",
   "mimetype": "application/julia",
   "name": "julia",
   "version": "1.6.3"
  },
  "kernelspec": {
   "name": "julia-1.6",
   "display_name": "Julia 1.6.3",
   "language": "julia"
  }
 },
 "nbformat": 4
}
