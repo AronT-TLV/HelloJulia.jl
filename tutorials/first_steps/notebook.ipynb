{
 "cells": [
  {
   "cell_type": "markdown",
   "source": [
    "# Tutorial 1"
   ],
   "metadata": {}
  },
  {
   "cell_type": "markdown",
   "source": [
    "Crash course in Julia basics:"
   ],
   "metadata": {}
  },
  {
   "cell_type": "markdown",
   "source": [
    "Arithmetic, arrays, tuples, strings, dictionaries, functions,\n",
    "iteration, random numbers, package loading, plotting"
   ],
   "metadata": {}
  },
  {
   "cell_type": "markdown",
   "source": [
    "(40 min)"
   ],
   "metadata": {}
  },
  {
   "cell_type": "markdown",
   "source": [
    "## Julia is a calculator:"
   ],
   "metadata": {}
  },
  {
   "outputs": [
    {
     "output_type": "execute_result",
     "data": {
      "text/plain": "9"
     },
     "metadata": {},
     "execution_count": 1
    }
   ],
   "cell_type": "code",
   "source": [
    "1 + 2^3"
   ],
   "metadata": {},
   "execution_count": 1
  },
  {
   "outputs": [
    {
     "output_type": "execute_result",
     "data": {
      "text/plain": "3.0"
     },
     "metadata": {},
     "execution_count": 2
    }
   ],
   "cell_type": "code",
   "source": [
    "sqrt(1 + 2^3) # do `sqrt(ans)` in REPL"
   ],
   "metadata": {},
   "execution_count": 2
  },
  {
   "outputs": [
    {
     "output_type": "execute_result",
     "data": {
      "text/plain": "1.2246467991473532e-16"
     },
     "metadata": {},
     "execution_count": 3
    }
   ],
   "cell_type": "code",
   "source": [
    "sin(pi)"
   ],
   "metadata": {},
   "execution_count": 3
  },
  {
   "outputs": [
    {
     "output_type": "execute_result",
     "data": {
      "text/plain": "0.30760364953071123 + 1.8641615441578825im"
     },
     "metadata": {},
     "execution_count": 4
    }
   ],
   "cell_type": "code",
   "source": [
    "asin(1 + 3*im)"
   ],
   "metadata": {},
   "execution_count": 4
  },
  {
   "cell_type": "markdown",
   "source": [
    "## Arrays"
   ],
   "metadata": {}
  },
  {
   "cell_type": "markdown",
   "source": [
    "One dimensional vectors:"
   ],
   "metadata": {}
  },
  {
   "outputs": [
    {
     "output_type": "execute_result",
     "data": {
      "text/plain": "3-element Vector{Int64}:\n 3\n 5\n 7"
     },
     "metadata": {},
     "execution_count": 5
    }
   ],
   "cell_type": "code",
   "source": [
    "v = [3, 5, 7]"
   ],
   "metadata": {},
   "execution_count": 5
  },
  {
   "cell_type": "markdown",
   "source": [
    "A \"row vector\" is a 1 x n array:"
   ],
   "metadata": {}
  },
  {
   "outputs": [
    {
     "output_type": "execute_result",
     "data": {
      "text/plain": "1×3 Matrix{Int64}:\n 3  5  7"
     },
     "metadata": {},
     "execution_count": 6
    }
   ],
   "cell_type": "code",
   "source": [
    "row = [3 5 7]"
   ],
   "metadata": {},
   "execution_count": 6
  },
  {
   "cell_type": "markdown",
   "source": [
    "Multiple row vectors separated by semicolons or new lines define matrices:"
   ],
   "metadata": {}
  },
  {
   "outputs": [
    {
     "output_type": "execute_result",
     "data": {
      "text/plain": "3×3 Matrix{Int64}:\n 3  5  7\n 2  4  6\n 1  3  5"
     },
     "metadata": {},
     "execution_count": 7
    }
   ],
   "cell_type": "code",
   "source": [
    "A = [3 5 7\n",
    "     2 4 6\n",
    "     1 3 5]"
   ],
   "metadata": {},
   "execution_count": 7
  },
  {
   "outputs": [
    {
     "output_type": "execute_result",
     "data": {
      "text/plain": "(3, 3)"
     },
     "metadata": {},
     "execution_count": 8
    }
   ],
   "cell_type": "code",
   "source": [
    "size(A)"
   ],
   "metadata": {},
   "execution_count": 8
  },
  {
   "cell_type": "markdown",
   "source": [
    "Accessing elements (Julia indices start at 1 not 0):"
   ],
   "metadata": {}
  },
  {
   "outputs": [
    {
     "output_type": "execute_result",
     "data": {
      "text/plain": "5"
     },
     "metadata": {},
     "execution_count": 9
    }
   ],
   "cell_type": "code",
   "source": [
    "A[1, 2]"
   ],
   "metadata": {},
   "execution_count": 9
  },
  {
   "outputs": [
    {
     "output_type": "execute_result",
     "data": {
      "text/plain": "false"
     },
     "metadata": {},
     "execution_count": 10
    }
   ],
   "cell_type": "code",
   "source": [
    "A[1, 2] == A[2]"
   ],
   "metadata": {},
   "execution_count": 10
  },
  {
   "outputs": [
    {
     "output_type": "execute_result",
     "data": {
      "text/plain": "3-element Vector{Int64}:\n 5\n 4\n 3"
     },
     "metadata": {},
     "execution_count": 11
    }
   ],
   "cell_type": "code",
   "source": [
    "A[:, 2] # 2nd column"
   ],
   "metadata": {},
   "execution_count": 11
  },
  {
   "cell_type": "markdown",
   "source": [
    "Changing elements:"
   ],
   "metadata": {}
  },
  {
   "outputs": [
    {
     "output_type": "execute_result",
     "data": {
      "text/plain": "42"
     },
     "metadata": {},
     "execution_count": 12
    }
   ],
   "cell_type": "code",
   "source": [
    "A[1, 1] = 42"
   ],
   "metadata": {},
   "execution_count": 12
  },
  {
   "outputs": [
    {
     "output_type": "execute_result",
     "data": {
      "text/plain": "3×3 Matrix{Float64}:\n  0.025641   -0.0512821   0.025641\n -0.0512821   2.60256    -3.05128\n  0.025641   -1.55128     2.02564"
     },
     "metadata": {},
     "execution_count": 13
    }
   ],
   "cell_type": "code",
   "source": [
    "inv(A) # inverse"
   ],
   "metadata": {},
   "execution_count": 13
  },
  {
   "outputs": [
    {
     "output_type": "execute_result",
     "data": {
      "text/plain": "true"
     },
     "metadata": {},
     "execution_count": 14
    }
   ],
   "cell_type": "code",
   "source": [
    "isapprox(inv(A)*v, A\\v) # but RHS more efficient"
   ],
   "metadata": {},
   "execution_count": 14
  },
  {
   "cell_type": "markdown",
   "source": [
    "## \"Variables\" in Julia *point* to objects"
   ],
   "metadata": {}
  },
  {
   "cell_type": "markdown",
   "source": [
    "Corollary: all passing of function arguments is pass by reference"
   ],
   "metadata": {}
  },
  {
   "cell_type": "markdown",
   "source": [
    "Like Python; Unlike R, C or FORTRAN."
   ],
   "metadata": {}
  },
  {
   "outputs": [
    {
     "output_type": "execute_result",
     "data": {
      "text/plain": "3-element Vector{Int64}:\n 3\n 5\n 7"
     },
     "metadata": {},
     "execution_count": 15
    }
   ],
   "cell_type": "code",
   "source": [
    "w = v\n",
    "\n",
    "w"
   ],
   "metadata": {},
   "execution_count": 15
  },
  {
   "outputs": [
    {
     "output_type": "execute_result",
     "data": {
      "text/plain": "42"
     },
     "metadata": {},
     "execution_count": 16
    }
   ],
   "cell_type": "code",
   "source": [
    "v[1] = 42"
   ],
   "metadata": {},
   "execution_count": 16
  },
  {
   "outputs": [
    {
     "output_type": "execute_result",
     "data": {
      "text/plain": "3-element Vector{Int64}:\n 42\n  5\n  7"
     },
     "metadata": {},
     "execution_count": 17
    }
   ],
   "cell_type": "code",
   "source": [
    "v"
   ],
   "metadata": {},
   "execution_count": 17
  },
  {
   "outputs": [
    {
     "output_type": "execute_result",
     "data": {
      "text/plain": "3-element Vector{Int64}:\n 42\n  5\n  7"
     },
     "metadata": {},
     "execution_count": 18
    }
   ],
   "cell_type": "code",
   "source": [
    "w"
   ],
   "metadata": {},
   "execution_count": 18
  },
  {
   "cell_type": "markdown",
   "source": [
    "## Tuples"
   ],
   "metadata": {}
  },
  {
   "cell_type": "markdown",
   "source": [
    "Similar to vectors but of fixed length and immutable (cannot be changed)"
   ],
   "metadata": {}
  },
  {
   "outputs": [
    {
     "output_type": "execute_result",
     "data": {
      "text/plain": "Tuple{Int64, Float64, String}"
     },
     "metadata": {},
     "execution_count": 19
    }
   ],
   "cell_type": "code",
   "source": [
    "t = (1, 2.0, \"cat\")\n",
    "typeof(t)"
   ],
   "metadata": {},
   "execution_count": 19
  },
  {
   "outputs": [
    {
     "output_type": "execute_result",
     "data": {
      "text/plain": "\"cat\""
     },
     "metadata": {},
     "execution_count": 20
    }
   ],
   "cell_type": "code",
   "source": [
    "t[3]"
   ],
   "metadata": {},
   "execution_count": 20
  },
  {
   "cell_type": "markdown",
   "source": [
    "## Strings and relatives"
   ],
   "metadata": {}
  },
  {
   "outputs": [
    {
     "output_type": "execute_result",
     "data": {
      "text/plain": ":t"
     },
     "metadata": {},
     "execution_count": 21
    }
   ],
   "cell_type": "code",
   "source": [
    "a_string = \"the cat\"\n",
    "a_character = 't'\n",
    "a_symbol = :t"
   ],
   "metadata": {},
   "execution_count": 21
  },
  {
   "outputs": [
    {
     "output_type": "execute_result",
     "data": {
      "text/plain": "true"
     },
     "metadata": {},
     "execution_count": 22
    }
   ],
   "cell_type": "code",
   "source": [
    "a_string[1] == a_character"
   ],
   "metadata": {},
   "execution_count": 22
  },
  {
   "cell_type": "markdown",
   "source": [
    "A `Symbol` is string-like but\n",
    "[interned](https://en.wikipedia.org/wiki/String_interning). Generally\n",
    "use `String` for ordinary textual data, but use `Symbol` for\n",
    "language reflection (metaprogramming). For example:"
   ],
   "metadata": {}
  },
  {
   "outputs": [
    {
     "output_type": "execute_result",
     "data": {
      "text/plain": "false"
     },
     "metadata": {},
     "execution_count": 23
    }
   ],
   "cell_type": "code",
   "source": [
    "isdefined(Main, :z)"
   ],
   "metadata": {},
   "execution_count": 23
  },
  {
   "outputs": [
    {
     "output_type": "execute_result",
     "data": {
      "text/plain": "false"
     },
     "metadata": {},
     "execution_count": 24
    }
   ],
   "cell_type": "code",
   "source": [
    "z = 1 + 2im\n",
    "isdefined(Main, :z)"
   ],
   "metadata": {},
   "execution_count": 24
  },
  {
   "outputs": [
    {
     "output_type": "execute_result",
     "data": {
      "text/plain": "2"
     },
     "metadata": {},
     "execution_count": 25
    }
   ],
   "cell_type": "code",
   "source": [
    "z.im"
   ],
   "metadata": {},
   "execution_count": 25
  },
  {
   "outputs": [
    {
     "output_type": "execute_result",
     "data": {
      "text/plain": "(:re, :im)"
     },
     "metadata": {},
     "execution_count": 26
    }
   ],
   "cell_type": "code",
   "source": [
    "fieldnames(typeof(z))"
   ],
   "metadata": {},
   "execution_count": 26
  },
  {
   "cell_type": "markdown",
   "source": [
    "Symbols are generalized by *expressions*:"
   ],
   "metadata": {}
  },
  {
   "outputs": [
    {
     "output_type": "execute_result",
     "data": {
      "text/plain": "false"
     },
     "metadata": {},
     "execution_count": 27
    }
   ],
   "cell_type": "code",
   "source": [
    "ex = :(z == 3)\n",
    "eval(ex)"
   ],
   "metadata": {},
   "execution_count": 27
  },
  {
   "cell_type": "markdown",
   "source": [
    "If this is confusing, forget it for now."
   ],
   "metadata": {}
  },
  {
   "cell_type": "markdown",
   "source": [
    "## Dictionaries"
   ],
   "metadata": {}
  },
  {
   "outputs": [
    {
     "output_type": "execute_result",
     "data": {
      "text/plain": "Dict{Char, String} with 2 entries:\n  'a' => \"ant\"\n  'z' => \"zebra\""
     },
     "metadata": {},
     "execution_count": 28
    }
   ],
   "cell_type": "code",
   "source": [
    "d = Dict('a' => \"ant\", 'z' => \"zebra\")"
   ],
   "metadata": {},
   "execution_count": 28
  },
  {
   "outputs": [
    {
     "output_type": "execute_result",
     "data": {
      "text/plain": "\"ant\""
     },
     "metadata": {},
     "execution_count": 29
    }
   ],
   "cell_type": "code",
   "source": [
    "d['a']"
   ],
   "metadata": {},
   "execution_count": 29
  },
  {
   "outputs": [
    {
     "output_type": "execute_result",
     "data": {
      "text/plain": "Dict{Char, String} with 3 entries:\n  'a' => \"ant\"\n  'z' => \"zebra\"\n  'b' => \"bat\""
     },
     "metadata": {},
     "execution_count": 30
    }
   ],
   "cell_type": "code",
   "source": [
    "d['b'] = \"bat\"\n",
    "d"
   ],
   "metadata": {},
   "execution_count": 30
  },
  {
   "outputs": [
    {
     "output_type": "execute_result",
     "data": {
      "text/plain": "KeySet for a Dict{Char, String} with 3 entries. Keys:\n  'a'\n  'z'\n  'b'"
     },
     "metadata": {},
     "execution_count": 31
    }
   ],
   "cell_type": "code",
   "source": [
    "keys(d)"
   ],
   "metadata": {},
   "execution_count": 31
  },
  {
   "cell_type": "markdown",
   "source": [
    "The expression 'a' => \"ant\" is itself a stand-alone object:"
   ],
   "metadata": {}
  },
  {
   "outputs": [
    {
     "output_type": "execute_result",
     "data": {
      "text/plain": "'a': ASCII/Unicode U+0061 (category Ll: Letter, lowercase)"
     },
     "metadata": {},
     "execution_count": 32
    }
   ],
   "cell_type": "code",
   "source": [
    "pair = 'a' => \"ant\"\n",
    "\n",
    "first(pair)"
   ],
   "metadata": {},
   "execution_count": 32
  },
  {
   "cell_type": "markdown",
   "source": [
    "## Functions"
   ],
   "metadata": {}
  },
  {
   "cell_type": "markdown",
   "source": [
    "Three ways to define a generic function:"
   ],
   "metadata": {}
  },
  {
   "outputs": [
    {
     "output_type": "execute_result",
     "data": {
      "text/plain": "9"
     },
     "metadata": {},
     "execution_count": 33
    }
   ],
   "cell_type": "code",
   "source": [
    "foo(x) = x^2 # METHOD 1 (inline)\n",
    "foo(3)"
   ],
   "metadata": {},
   "execution_count": 33
  },
  {
   "cell_type": "markdown",
   "source": [
    "or"
   ],
   "metadata": {}
  },
  {
   "outputs": [
    {
     "output_type": "execute_result",
     "data": {
      "text/plain": "9"
     },
     "metadata": {},
     "execution_count": 34
    }
   ],
   "cell_type": "code",
   "source": [
    "3 |> foo"
   ],
   "metadata": {},
   "execution_count": 34
  },
  {
   "cell_type": "markdown",
   "source": [
    "or"
   ],
   "metadata": {}
  },
  {
   "outputs": [
    {
     "output_type": "execute_result",
     "data": {
      "text/plain": "9"
     },
     "metadata": {},
     "execution_count": 35
    }
   ],
   "cell_type": "code",
   "source": [
    "3 |> x -> x^2 # METHOD 2 (anonymous)"
   ],
   "metadata": {},
   "execution_count": 35
  },
  {
   "cell_type": "markdown",
   "source": [
    "or"
   ],
   "metadata": {}
  },
  {
   "outputs": [
    {
     "output_type": "execute_result",
     "data": {
      "text/plain": "9"
     },
     "metadata": {},
     "execution_count": 36
    }
   ],
   "cell_type": "code",
   "source": [
    "function foo2(x) # METHOD 3 (verbose)\n",
    "    y = x\n",
    "    z = y\n",
    "    w = z\n",
    "    return w^2\n",
    "end\n",
    "\n",
    "foo2(3)"
   ],
   "metadata": {},
   "execution_count": 36
  },
  {
   "cell_type": "markdown",
   "source": [
    "## Basic iteration"
   ],
   "metadata": {}
  },
  {
   "cell_type": "markdown",
   "source": [
    "Here are three ways to square the integers from 1 to 10."
   ],
   "metadata": {}
  },
  {
   "cell_type": "markdown",
   "source": [
    "METHOD 1 (explicit loop):"
   ],
   "metadata": {}
  },
  {
   "outputs": [
    {
     "output_type": "execute_result",
     "data": {
      "text/plain": "10-element Vector{Any}:\n   1\n   4\n   9\n  16\n  25\n  36\n  49\n  64\n  81\n 100"
     },
     "metadata": {},
     "execution_count": 37
    }
   ],
   "cell_type": "code",
   "source": [
    "squares = [] # or Int[] if performance matters\n",
    "for x in 1:10\n",
    "    push!(squares, x^2)\n",
    "end\n",
    "\n",
    "squares"
   ],
   "metadata": {},
   "execution_count": 37
  },
  {
   "cell_type": "markdown",
   "source": [
    "METHOD 2 (comprehension):"
   ],
   "metadata": {}
  },
  {
   "outputs": [
    {
     "output_type": "execute_result",
     "data": {
      "text/plain": "10-element Vector{Int64}:\n   1\n   4\n   9\n  16\n  25\n  36\n  49\n  64\n  81\n 100"
     },
     "metadata": {},
     "execution_count": 38
    }
   ],
   "cell_type": "code",
   "source": [
    "[x^2 for x in 1:10]"
   ],
   "metadata": {},
   "execution_count": 38
  },
  {
   "cell_type": "markdown",
   "source": [
    "METHOD 3 (map):"
   ],
   "metadata": {}
  },
  {
   "outputs": [
    {
     "output_type": "execute_result",
     "data": {
      "text/plain": "10-element Vector{Int64}:\n   1\n   4\n   9\n  16\n  25\n  36\n  49\n  64\n  81\n 100"
     },
     "metadata": {},
     "execution_count": 39
    }
   ],
   "cell_type": "code",
   "source": [
    "map(x -> x^2, 1:10)"
   ],
   "metadata": {},
   "execution_count": 39
  },
  {
   "cell_type": "markdown",
   "source": [
    "METHOD 4 (broadcasting with dot syntax):"
   ],
   "metadata": {}
  },
  {
   "outputs": [
    {
     "output_type": "execute_result",
     "data": {
      "text/plain": "10-element Vector{Int64}:\n   1\n   4\n   9\n  16\n  25\n  36\n  49\n  64\n  81\n 100"
     },
     "metadata": {},
     "execution_count": 40
    }
   ],
   "cell_type": "code",
   "source": [
    "(1:10) .^ 2"
   ],
   "metadata": {},
   "execution_count": 40
  },
  {
   "cell_type": "markdown",
   "source": [
    "## Random numbers"
   ],
   "metadata": {}
  },
  {
   "outputs": [
    {
     "output_type": "execute_result",
     "data": {
      "text/plain": "Int64"
     },
     "metadata": {},
     "execution_count": 41
    }
   ],
   "cell_type": "code",
   "source": [
    "typeof(2)"
   ],
   "metadata": {},
   "execution_count": 41
  },
  {
   "outputs": [
    {
     "output_type": "execute_result",
     "data": {
      "text/plain": "0.2942058599019415"
     },
     "metadata": {},
     "execution_count": 42
    }
   ],
   "cell_type": "code",
   "source": [
    "rand() # sample a Float64 uniformly from interval [0, 1]"
   ],
   "metadata": {},
   "execution_count": 42
  },
  {
   "outputs": [
    {
     "output_type": "execute_result",
     "data": {
      "text/plain": "3×4 Matrix{Float64}:\n 0.41587   0.364472  0.697993  0.19155\n 0.451996  0.272839  0.468691  0.555668\n 0.998659  0.867393  0.745044  0.0337354"
     },
     "metadata": {},
     "execution_count": 43
    }
   ],
   "cell_type": "code",
   "source": [
    "rand(3, 4) # do that 12 times and put in a 3 x 4 array"
   ],
   "metadata": {},
   "execution_count": 43
  },
  {
   "outputs": [
    {
     "output_type": "execute_result",
     "data": {
      "text/plain": "3×4 Matrix{Float64}:\n -0.724603  -0.709558  -1.2942    -0.858531\n  1.64411   -0.336565  -0.121323  -0.347482\n  0.503513   0.771523   0.309276   0.284981"
     },
     "metadata": {},
     "execution_count": 44
    }
   ],
   "cell_type": "code",
   "source": [
    "randn(3, 4) # use normal distribution instead"
   ],
   "metadata": {},
   "execution_count": 44
  },
  {
   "outputs": [
    {
     "output_type": "execute_result",
     "data": {
      "text/plain": "64"
     },
     "metadata": {},
     "execution_count": 45
    }
   ],
   "cell_type": "code",
   "source": [
    "rand(Int8) # random elment of type Int8"
   ],
   "metadata": {},
   "execution_count": 45
  },
  {
   "outputs": [
    {
     "output_type": "execute_result",
     "data": {
      "text/plain": "10-element Vector{Char}:\n 'a': ASCII/Unicode U+0061 (category Ll: Letter, lowercase)\n 'b': ASCII/Unicode U+0062 (category Ll: Letter, lowercase)\n 'b': ASCII/Unicode U+0062 (category Ll: Letter, lowercase)\n 'b': ASCII/Unicode U+0062 (category Ll: Letter, lowercase)\n 'c': ASCII/Unicode U+0063 (category Ll: Letter, lowercase)\n 'c': ASCII/Unicode U+0063 (category Ll: Letter, lowercase)\n 'a': ASCII/Unicode U+0061 (category Ll: Letter, lowercase)\n 'a': ASCII/Unicode U+0061 (category Ll: Letter, lowercase)\n 'a': ASCII/Unicode U+0061 (category Ll: Letter, lowercase)\n 'c': ASCII/Unicode U+0063 (category Ll: Letter, lowercase)"
     },
     "metadata": {},
     "execution_count": 46
    }
   ],
   "cell_type": "code",
   "source": [
    "rand(['a', 'b', 'c'], 10) # 10 random elements from a vector"
   ],
   "metadata": {},
   "execution_count": 46
  },
  {
   "cell_type": "markdown",
   "source": [
    "Some standard libraries are needed to do more, for example:"
   ],
   "metadata": {}
  },
  {
   "outputs": [],
   "cell_type": "code",
   "source": [
    "using Random"
   ],
   "metadata": {},
   "execution_count": 47
  },
  {
   "outputs": [
    {
     "output_type": "execute_result",
     "data": {
      "text/plain": "\"xCIVtSbl0JG78UYabFw2WlW0rflyKT\""
     },
     "metadata": {},
     "execution_count": 48
    }
   ],
   "cell_type": "code",
   "source": [
    "randstring(30)"
   ],
   "metadata": {},
   "execution_count": 48
  },
  {
   "outputs": [],
   "cell_type": "code",
   "source": [
    "using Statistics"
   ],
   "metadata": {},
   "execution_count": 49
  },
  {
   "outputs": [
    {
     "name": "stdout",
     "output_type": "stream",
     "text": [
      "mean(y) = 0.5518572174012978\n",
      "quantile(y, 0.75) = 0.7939908581467234\n"
     ]
    }
   ],
   "cell_type": "code",
   "source": [
    "y = rand(30)\n",
    "@show mean(y) quantile(y, 0.75);"
   ],
   "metadata": {},
   "execution_count": 50
  },
  {
   "cell_type": "markdown",
   "source": [
    "(Use the macro @show before stuff you want printed prefixed by\n",
    "*what* it is that is being printed.)"
   ],
   "metadata": {}
  },
  {
   "cell_type": "markdown",
   "source": [
    "For sampling from more general distributions we need\n",
    "Distributions.jl package which is not part of the standard library."
   ],
   "metadata": {}
  },
  {
   "cell_type": "markdown",
   "source": [
    "## Loading packages"
   ],
   "metadata": {}
  },
  {
   "cell_type": "markdown",
   "source": [
    "If not in the REPL:"
   ],
   "metadata": {}
  },
  {
   "outputs": [
    {
     "name": "stdout",
     "output_type": "stream",
     "text": [
      "  Activating environment at `~/.julia/environments/env/Project.toml`\n"
     ]
    }
   ],
   "cell_type": "code",
   "source": [
    "using Pkg                        # built-in package manager\n",
    "Pkg.activate(\"env\", shared=true) # create a new pkg env"
   ],
   "metadata": {},
   "execution_count": 51
  },
  {
   "cell_type": "markdown",
   "source": [
    "Add some packages to your enviroment (latest compatible versions\n",
    "added by default):"
   ],
   "metadata": {}
  },
  {
   "outputs": [
    {
     "name": "stdout",
     "output_type": "stream",
     "text": [
      "   Resolving package versions...\n",
      "  No Changes to `~/.julia/environments/env/Project.toml`\n",
      "  No Changes to `~/.julia/environments/env/Manifest.toml`\n",
      "   Resolving package versions...\n",
      "  No Changes to `~/.julia/environments/env/Project.toml`\n",
      "  No Changes to `~/.julia/environments/env/Manifest.toml`\n"
     ]
    }
   ],
   "cell_type": "code",
   "source": [
    "Pkg.add(\"Distributions\")\n",
    "Pkg.add(\"Plots\")"
   ],
   "metadata": {},
   "execution_count": 52
  },
  {
   "cell_type": "markdown",
   "source": [
    "To load the code for use:"
   ],
   "metadata": {}
  },
  {
   "outputs": [],
   "cell_type": "code",
   "source": [
    "using Distributions\n",
    "using Plots\n",
    "\n",
    "N = 1000\n",
    "samples = rand(Normal(), N);   # equivalent to Julia's built-in `randn(d)`\n",
    "samples = (samples).^2;        # square element-wise"
   ],
   "metadata": {},
   "execution_count": 53
  },
  {
   "outputs": [
    {
     "output_type": "execute_result",
     "data": {
      "text/plain": "Distributions.Gamma{Float64}(α=0.49070158712590883, θ=2.0078849675668526)"
     },
     "metadata": {},
     "execution_count": 54
    }
   ],
   "cell_type": "code",
   "source": [
    "g = fit(Gamma, samples)"
   ],
   "metadata": {},
   "execution_count": 54
  },
  {
   "outputs": [
    {
     "name": "stdout",
     "output_type": "stream",
     "text": [
      "mean(g) = 0.9852723403513086\n",
      "median(g) = 0.44075422130865327\n",
      "pdf(g, 1) = 0.23908556262089647\n"
     ]
    },
    {
     "output_type": "execute_result",
     "data": {
      "text/plain": "0.23908556262089647"
     },
     "metadata": {},
     "execution_count": 55
    }
   ],
   "cell_type": "code",
   "source": [
    "@show mean(g) median(g) pdf(g, 1)"
   ],
   "metadata": {},
   "execution_count": 55
  },
  {
   "cell_type": "markdown",
   "source": [
    "## Plotting"
   ],
   "metadata": {}
  },
  {
   "outputs": [
    {
     "output_type": "execute_result",
     "data": {
      "text/plain": "Plot{Plots.GRBackend() n=2}",
      "image/png": "[encoded data removed]",
      "text/html": [
       "<?xml version=\"1.0\" encoding=\"utf-8\"?>\n",
       "<svg xmlns=\"http://www.w3.org/2000/svg\" xmlns:xlink=\"http://www.w3.org/1999/xlink\" width=\"600\" height=\"400\" viewBox=\"0 0 2400 1600\">\n",
       "<defs>\n",
       "  <clipPath id=\"clip060\">\n",
       "    <rect x=\"0\" y=\"0\" width=\"2400\" height=\"1600\"/>\n",
       "  </clipPath>\n",
       "</defs>\n",
       "<path clip-path=\"url(#clip060)\" d=\"\n",
       "M0 1600 L2400 1600 L2400 0 L0 0  Z\n",
       "  \" fill=\"#ffffff\" fill-rule=\"evenodd\" fill-opacity=\"1\"/>\n",
       "<defs>\n",
       "  <clipPath id=\"clip061\">\n",
       "    <rect x=\"480\" y=\"0\" width=\"1681\" height=\"1600\"/>\n",
       "  </clipPath>\n",
       "</defs>\n",
       "<path clip-path=\"url(#clip060)\" d=\"\n",
       "M186.274 1486.45 L2352.76 1486.45 L2352.76 47.2441 L186.274 47.2441  Z\n",
       "  \" fill=\"#ffffff\" fill-rule=\"evenodd\" fill-opacity=\"1\"/>\n",
       "<defs>\n",
       "  <clipPath id=\"clip062\">\n",
       "    <rect x=\"186\" y=\"47\" width=\"2167\" height=\"1440\"/>\n",
       "  </clipPath>\n",
       "</defs>\n",
       "<polyline clip-path=\"url(#clip062)\" style=\"stroke:#000000; stroke-linecap:butt; stroke-linejoin:round; stroke-width:2; stroke-opacity:0.1; fill:none\" points=\"\n",
       "  186.274,1486.45 186.274,47.2441 \n",
       "  \"/>\n",
       "<polyline clip-path=\"url(#clip062)\" style=\"stroke:#000000; stroke-linecap:butt; stroke-linejoin:round; stroke-width:2; stroke-opacity:0.1; fill:none\" points=\"\n",
       "  727.894,1486.45 727.894,47.2441 \n",
       "  \"/>\n",
       "<polyline clip-path=\"url(#clip062)\" style=\"stroke:#000000; stroke-linecap:butt; stroke-linejoin:round; stroke-width:2; stroke-opacity:0.1; fill:none\" points=\"\n",
       "  1269.51,1486.45 1269.51,47.2441 \n",
       "  \"/>\n",
       "<polyline clip-path=\"url(#clip062)\" style=\"stroke:#000000; stroke-linecap:butt; stroke-linejoin:round; stroke-width:2; stroke-opacity:0.1; fill:none\" points=\"\n",
       "  1811.14,1486.45 1811.14,47.2441 \n",
       "  \"/>\n",
       "<polyline clip-path=\"url(#clip062)\" style=\"stroke:#000000; stroke-linecap:butt; stroke-linejoin:round; stroke-width:2; stroke-opacity:0.1; fill:none\" points=\"\n",
       "  2352.76,1486.45 2352.76,47.2441 \n",
       "  \"/>\n",
       "<polyline clip-path=\"url(#clip060)\" style=\"stroke:#000000; stroke-linecap:butt; stroke-linejoin:round; stroke-width:4; stroke-opacity:1; fill:none\" points=\"\n",
       "  186.274,1486.45 2352.76,1486.45 \n",
       "  \"/>\n",
       "<polyline clip-path=\"url(#clip060)\" style=\"stroke:#000000; stroke-linecap:butt; stroke-linejoin:round; stroke-width:4; stroke-opacity:1; fill:none\" points=\"\n",
       "  186.274,1486.45 186.274,1467.55 \n",
       "  \"/>\n",
       "<polyline clip-path=\"url(#clip060)\" style=\"stroke:#000000; stroke-linecap:butt; stroke-linejoin:round; stroke-width:4; stroke-opacity:1; fill:none\" points=\"\n",
       "  727.894,1486.45 727.894,1467.55 \n",
       "  \"/>\n",
       "<polyline clip-path=\"url(#clip060)\" style=\"stroke:#000000; stroke-linecap:butt; stroke-linejoin:round; stroke-width:4; stroke-opacity:1; fill:none\" points=\"\n",
       "  1269.51,1486.45 1269.51,1467.55 \n",
       "  \"/>\n",
       "<polyline clip-path=\"url(#clip060)\" style=\"stroke:#000000; stroke-linecap:butt; stroke-linejoin:round; stroke-width:4; stroke-opacity:1; fill:none\" points=\"\n",
       "  1811.14,1486.45 1811.14,1467.55 \n",
       "  \"/>\n",
       "<polyline clip-path=\"url(#clip060)\" style=\"stroke:#000000; stroke-linecap:butt; stroke-linejoin:round; stroke-width:4; stroke-opacity:1; fill:none\" points=\"\n",
       "  2352.76,1486.45 2352.76,1467.55 \n",
       "  \"/>\n",
       "<path clip-path=\"url(#clip060)\" d=\"M186.274 1517.37 Q182.663 1517.37 180.834 1520.93 Q179.029 1524.47 179.029 1531.6 Q179.029 1538.71 180.834 1542.27 Q182.663 1545.82 186.274 1545.82 Q189.908 1545.82 191.714 1542.27 Q193.542 1538.71 193.542 1531.6 Q193.542 1524.47 191.714 1520.93 Q189.908 1517.37 186.274 1517.37 M186.274 1513.66 Q192.084 1513.66 195.14 1518.27 Q198.218 1522.85 198.218 1531.6 Q198.218 1540.33 195.14 1544.94 Q192.084 1549.52 186.274 1549.52 Q180.464 1549.52 177.385 1544.94 Q174.33 1540.33 174.33 1531.6 Q174.33 1522.85 177.385 1518.27 Q180.464 1513.66 186.274 1513.66 Z\" fill=\"#000000\" fill-rule=\"evenodd\" fill-opacity=\"1\" /><path clip-path=\"url(#clip060)\" d=\"M718.276 1544.91 L725.915 1544.91 L725.915 1518.55 L717.605 1520.21 L717.605 1515.95 L725.869 1514.29 L730.545 1514.29 L730.545 1544.91 L738.184 1544.91 L738.184 1548.85 L718.276 1548.85 L718.276 1544.91 Z\" fill=\"#000000\" fill-rule=\"evenodd\" fill-opacity=\"1\" /><path clip-path=\"url(#clip060)\" d=\"M1264.17 1544.91 L1280.49 1544.91 L1280.49 1548.85 L1258.54 1548.85 L1258.54 1544.91 Q1261.2 1542.16 1265.79 1537.53 Q1270.39 1532.88 1271.58 1531.53 Q1273.82 1529.01 1274.7 1527.27 Q1275.6 1525.51 1275.6 1523.82 Q1275.6 1521.07 1273.66 1519.33 Q1271.74 1517.6 1268.64 1517.6 Q1266.44 1517.6 1263.98 1518.36 Q1261.55 1519.13 1258.77 1520.68 L1258.77 1515.95 Q1261.6 1514.82 1264.05 1514.24 Q1266.51 1513.66 1268.54 1513.66 Q1273.91 1513.66 1277.11 1516.35 Q1280.3 1519.03 1280.3 1523.52 Q1280.3 1525.65 1279.49 1527.57 Q1278.7 1529.47 1276.6 1532.07 Q1276.02 1532.74 1272.92 1535.95 Q1269.82 1539.15 1264.17 1544.91 Z\" fill=\"#000000\" fill-rule=\"evenodd\" fill-opacity=\"1\" /><path clip-path=\"url(#clip060)\" d=\"M1815.38 1530.21 Q1818.74 1530.93 1820.61 1533.2 Q1822.51 1535.47 1822.51 1538.8 Q1822.51 1543.92 1818.99 1546.72 Q1815.48 1549.52 1808.99 1549.52 Q1806.82 1549.52 1804.5 1549.08 Q1802.21 1548.66 1799.76 1547.81 L1799.76 1543.29 Q1801.7 1544.43 1804.02 1545.01 Q1806.33 1545.58 1808.86 1545.58 Q1813.25 1545.58 1815.55 1543.85 Q1817.86 1542.11 1817.86 1538.8 Q1817.86 1535.75 1815.71 1534.03 Q1813.58 1532.3 1809.76 1532.3 L1805.73 1532.3 L1805.73 1528.45 L1809.94 1528.45 Q1813.39 1528.45 1815.22 1527.09 Q1817.05 1525.7 1817.05 1523.11 Q1817.05 1520.45 1815.15 1519.03 Q1813.28 1517.6 1809.76 1517.6 Q1807.84 1517.6 1805.64 1518.01 Q1803.44 1518.43 1800.8 1519.31 L1800.8 1515.14 Q1803.46 1514.4 1805.78 1514.03 Q1808.11 1513.66 1810.17 1513.66 Q1815.5 1513.66 1818.6 1516.09 Q1821.7 1518.5 1821.7 1522.62 Q1821.7 1525.49 1820.06 1527.48 Q1818.42 1529.45 1815.38 1530.21 Z\" fill=\"#000000\" fill-rule=\"evenodd\" fill-opacity=\"1\" /><path clip-path=\"url(#clip060)\" d=\"M2355.77 1518.36 L2343.96 1536.81 L2355.77 1536.81 L2355.77 1518.36 M2354.54 1514.29 L2360.42 1514.29 L2360.42 1536.81 L2365.35 1536.81 L2365.35 1540.7 L2360.42 1540.7 L2360.42 1548.85 L2355.77 1548.85 L2355.77 1540.7 L2340.16 1540.7 L2340.16 1536.19 L2354.54 1514.29 Z\" fill=\"#000000\" fill-rule=\"evenodd\" fill-opacity=\"1\" /><polyline clip-path=\"url(#clip062)\" style=\"stroke:#000000; stroke-linecap:butt; stroke-linejoin:round; stroke-width:2; stroke-opacity:0.1; fill:none\" points=\"\n",
       "  186.274,1486.45 2352.76,1486.45 \n",
       "  \"/>\n",
       "<polyline clip-path=\"url(#clip062)\" style=\"stroke:#000000; stroke-linecap:butt; stroke-linejoin:round; stroke-width:2; stroke-opacity:0.1; fill:none\" points=\"\n",
       "  186.274,1126.65 2352.76,1126.65 \n",
       "  \"/>\n",
       "<polyline clip-path=\"url(#clip062)\" style=\"stroke:#000000; stroke-linecap:butt; stroke-linejoin:round; stroke-width:2; stroke-opacity:0.1; fill:none\" points=\"\n",
       "  186.274,766.846 2352.76,766.846 \n",
       "  \"/>\n",
       "<polyline clip-path=\"url(#clip062)\" style=\"stroke:#000000; stroke-linecap:butt; stroke-linejoin:round; stroke-width:2; stroke-opacity:0.1; fill:none\" points=\"\n",
       "  186.274,407.045 2352.76,407.045 \n",
       "  \"/>\n",
       "<polyline clip-path=\"url(#clip062)\" style=\"stroke:#000000; stroke-linecap:butt; stroke-linejoin:round; stroke-width:2; stroke-opacity:0.1; fill:none\" points=\"\n",
       "  186.274,47.2441 2352.76,47.2441 \n",
       "  \"/>\n",
       "<polyline clip-path=\"url(#clip060)\" style=\"stroke:#000000; stroke-linecap:butt; stroke-linejoin:round; stroke-width:4; stroke-opacity:1; fill:none\" points=\"\n",
       "  186.274,1486.45 186.274,47.2441 \n",
       "  \"/>\n",
       "<polyline clip-path=\"url(#clip060)\" style=\"stroke:#000000; stroke-linecap:butt; stroke-linejoin:round; stroke-width:4; stroke-opacity:1; fill:none\" points=\"\n",
       "  186.274,1486.45 205.172,1486.45 \n",
       "  \"/>\n",
       "<polyline clip-path=\"url(#clip060)\" style=\"stroke:#000000; stroke-linecap:butt; stroke-linejoin:round; stroke-width:4; stroke-opacity:1; fill:none\" points=\"\n",
       "  186.274,1126.65 205.172,1126.65 \n",
       "  \"/>\n",
       "<polyline clip-path=\"url(#clip060)\" style=\"stroke:#000000; stroke-linecap:butt; stroke-linejoin:round; stroke-width:4; stroke-opacity:1; fill:none\" points=\"\n",
       "  186.274,766.846 205.172,766.846 \n",
       "  \"/>\n",
       "<polyline clip-path=\"url(#clip060)\" style=\"stroke:#000000; stroke-linecap:butt; stroke-linejoin:round; stroke-width:4; stroke-opacity:1; fill:none\" points=\"\n",
       "  186.274,407.045 205.172,407.045 \n",
       "  \"/>\n",
       "<polyline clip-path=\"url(#clip060)\" style=\"stroke:#000000; stroke-linecap:butt; stroke-linejoin:round; stroke-width:4; stroke-opacity:1; fill:none\" points=\"\n",
       "  186.274,47.2441 205.172,47.2441 \n",
       "  \"/>\n",
       "<path clip-path=\"url(#clip060)\" d=\"M62.9365 1472.25 Q59.3254 1472.25 57.4967 1475.81 Q55.6912 1479.35 55.6912 1486.48 Q55.6912 1493.59 57.4967 1497.15 Q59.3254 1500.7 62.9365 1500.7 Q66.5707 1500.7 68.3763 1497.15 Q70.205 1493.59 70.205 1486.48 Q70.205 1479.35 68.3763 1475.81 Q66.5707 1472.25 62.9365 1472.25 M62.9365 1468.54 Q68.7467 1468.54 71.8022 1473.15 Q74.8809 1477.73 74.8809 1486.48 Q74.8809 1495.21 71.8022 1499.82 Q68.7467 1504.4 62.9365 1504.4 Q57.1264 1504.4 54.0477 1499.82 Q50.9921 1495.21 50.9921 1486.48 Q50.9921 1477.73 54.0477 1473.15 Q57.1264 1468.54 62.9365 1468.54 Z\" fill=\"#000000\" fill-rule=\"evenodd\" fill-opacity=\"1\" /><path clip-path=\"url(#clip060)\" d=\"M83.0984 1497.85 L87.9827 1497.85 L87.9827 1503.73 L83.0984 1503.73 L83.0984 1497.85 Z\" fill=\"#000000\" fill-rule=\"evenodd\" fill-opacity=\"1\" /><path clip-path=\"url(#clip060)\" d=\"M108.168 1472.25 Q104.557 1472.25 102.728 1475.81 Q100.922 1479.35 100.922 1486.48 Q100.922 1493.59 102.728 1497.15 Q104.557 1500.7 108.168 1500.7 Q111.802 1500.7 113.608 1497.15 Q115.436 1493.59 115.436 1486.48 Q115.436 1479.35 113.608 1475.81 Q111.802 1472.25 108.168 1472.25 M108.168 1468.54 Q113.978 1468.54 117.033 1473.15 Q120.112 1477.73 120.112 1486.48 Q120.112 1495.21 117.033 1499.82 Q113.978 1504.4 108.168 1504.4 Q102.358 1504.4 99.2789 1499.82 Q96.2234 1495.21 96.2234 1486.48 Q96.2234 1477.73 99.2789 1473.15 Q102.358 1468.54 108.168 1468.54 Z\" fill=\"#000000\" fill-rule=\"evenodd\" fill-opacity=\"1\" /><path clip-path=\"url(#clip060)\" d=\"M138.33 1472.25 Q134.719 1472.25 132.89 1475.81 Q131.084 1479.35 131.084 1486.48 Q131.084 1493.59 132.89 1497.15 Q134.719 1500.7 138.33 1500.7 Q141.964 1500.7 143.769 1497.15 Q145.598 1493.59 145.598 1486.48 Q145.598 1479.35 143.769 1475.81 Q141.964 1472.25 138.33 1472.25 M138.33 1468.54 Q144.14 1468.54 147.195 1473.15 Q150.274 1477.73 150.274 1486.48 Q150.274 1495.21 147.195 1499.82 Q144.14 1504.4 138.33 1504.4 Q132.519 1504.4 129.441 1499.82 Q126.385 1495.21 126.385 1486.48 Q126.385 1477.73 129.441 1473.15 Q132.519 1468.54 138.33 1468.54 Z\" fill=\"#000000\" fill-rule=\"evenodd\" fill-opacity=\"1\" /><path clip-path=\"url(#clip060)\" d=\"M63.9319 1112.45 Q60.3208 1112.45 58.4921 1116.01 Q56.6865 1119.55 56.6865 1126.68 Q56.6865 1133.79 58.4921 1137.35 Q60.3208 1140.89 63.9319 1140.89 Q67.5661 1140.89 69.3717 1137.35 Q71.2004 1133.79 71.2004 1126.68 Q71.2004 1119.55 69.3717 1116.01 Q67.5661 1112.45 63.9319 1112.45 M63.9319 1108.74 Q69.742 1108.74 72.7976 1113.35 Q75.8763 1117.93 75.8763 1126.68 Q75.8763 1135.41 72.7976 1140.01 Q69.742 1144.6 63.9319 1144.6 Q58.1217 1144.6 55.043 1140.01 Q51.9875 1135.41 51.9875 1126.68 Q51.9875 1117.93 55.043 1113.35 Q58.1217 1108.74 63.9319 1108.74 Z\" fill=\"#000000\" fill-rule=\"evenodd\" fill-opacity=\"1\" /><path clip-path=\"url(#clip060)\" d=\"M84.0938 1138.05 L88.978 1138.05 L88.978 1143.93 L84.0938 1143.93 L84.0938 1138.05 Z\" fill=\"#000000\" fill-rule=\"evenodd\" fill-opacity=\"1\" /><path clip-path=\"url(#clip060)\" d=\"M109.163 1112.45 Q105.552 1112.45 103.723 1116.01 Q101.918 1119.55 101.918 1126.68 Q101.918 1133.79 103.723 1137.35 Q105.552 1140.89 109.163 1140.89 Q112.797 1140.89 114.603 1137.35 Q116.432 1133.79 116.432 1126.68 Q116.432 1119.55 114.603 1116.01 Q112.797 1112.45 109.163 1112.45 M109.163 1108.74 Q114.973 1108.74 118.029 1113.35 Q121.107 1117.93 121.107 1126.68 Q121.107 1135.41 118.029 1140.01 Q114.973 1144.6 109.163 1144.6 Q103.353 1144.6 100.274 1140.01 Q97.2187 1135.41 97.2187 1126.68 Q97.2187 1117.93 100.274 1113.35 Q103.353 1108.74 109.163 1108.74 Z\" fill=\"#000000\" fill-rule=\"evenodd\" fill-opacity=\"1\" /><path clip-path=\"url(#clip060)\" d=\"M129.371 1109.37 L147.728 1109.37 L147.728 1113.3 L133.654 1113.3 L133.654 1121.77 Q134.672 1121.43 135.691 1121.27 Q136.709 1121.08 137.728 1121.08 Q143.515 1121.08 146.894 1124.25 Q150.274 1127.42 150.274 1132.84 Q150.274 1138.42 146.802 1141.52 Q143.33 1144.6 137.01 1144.6 Q134.834 1144.6 132.566 1144.23 Q130.32 1143.86 127.913 1143.12 L127.913 1138.42 Q129.996 1139.55 132.219 1140.11 Q134.441 1140.66 136.918 1140.66 Q140.922 1140.66 143.26 1138.56 Q145.598 1136.45 145.598 1132.84 Q145.598 1129.23 143.26 1127.12 Q140.922 1125.01 136.918 1125.01 Q135.043 1125.01 133.168 1125.43 Q131.316 1125.85 129.371 1126.73 L129.371 1109.37 Z\" fill=\"#000000\" fill-rule=\"evenodd\" fill-opacity=\"1\" /><path clip-path=\"url(#clip060)\" d=\"M62.9365 752.645 Q59.3254 752.645 57.4967 756.209 Q55.6912 759.751 55.6912 766.881 Q55.6912 773.987 57.4967 777.552 Q59.3254 781.094 62.9365 781.094 Q66.5707 781.094 68.3763 777.552 Q70.205 773.987 70.205 766.881 Q70.205 759.751 68.3763 756.209 Q66.5707 752.645 62.9365 752.645 M62.9365 748.941 Q68.7467 748.941 71.8022 753.547 Q74.8809 758.131 74.8809 766.881 Q74.8809 775.608 71.8022 780.214 Q68.7467 784.797 62.9365 784.797 Q57.1264 784.797 54.0477 780.214 Q50.9921 775.608 50.9921 766.881 Q50.9921 758.131 54.0477 753.547 Q57.1264 748.941 62.9365 748.941 Z\" fill=\"#000000\" fill-rule=\"evenodd\" fill-opacity=\"1\" /><path clip-path=\"url(#clip060)\" d=\"M83.0984 778.246 L87.9827 778.246 L87.9827 784.126 L83.0984 784.126 L83.0984 778.246 Z\" fill=\"#000000\" fill-rule=\"evenodd\" fill-opacity=\"1\" /><path clip-path=\"url(#clip060)\" d=\"M98.978 780.191 L106.617 780.191 L106.617 753.825 L98.3067 755.492 L98.3067 751.233 L106.571 749.566 L111.246 749.566 L111.246 780.191 L118.885 780.191 L118.885 784.126 L98.978 784.126 L98.978 780.191 Z\" fill=\"#000000\" fill-rule=\"evenodd\" fill-opacity=\"1\" /><path clip-path=\"url(#clip060)\" d=\"M138.33 752.645 Q134.719 752.645 132.89 756.209 Q131.084 759.751 131.084 766.881 Q131.084 773.987 132.89 777.552 Q134.719 781.094 138.33 781.094 Q141.964 781.094 143.769 777.552 Q145.598 773.987 145.598 766.881 Q145.598 759.751 143.769 756.209 Q141.964 752.645 138.33 752.645 M138.33 748.941 Q144.14 748.941 147.195 753.547 Q150.274 758.131 150.274 766.881 Q150.274 775.608 147.195 780.214 Q144.14 784.797 138.33 784.797 Q132.519 784.797 129.441 780.214 Q126.385 775.608 126.385 766.881 Q126.385 758.131 129.441 753.547 Q132.519 748.941 138.33 748.941 Z\" fill=\"#000000\" fill-rule=\"evenodd\" fill-opacity=\"1\" /><path clip-path=\"url(#clip060)\" d=\"M63.9319 392.844 Q60.3208 392.844 58.4921 396.409 Q56.6865 399.95 56.6865 407.08 Q56.6865 414.186 58.4921 417.751 Q60.3208 421.293 63.9319 421.293 Q67.5661 421.293 69.3717 417.751 Q71.2004 414.186 71.2004 407.08 Q71.2004 399.95 69.3717 396.409 Q67.5661 392.844 63.9319 392.844 M63.9319 389.14 Q69.742 389.14 72.7976 393.746 Q75.8763 398.33 75.8763 407.08 Q75.8763 415.807 72.7976 420.413 Q69.742 424.996 63.9319 424.996 Q58.1217 424.996 55.043 420.413 Q51.9875 415.807 51.9875 407.08 Q51.9875 398.33 55.043 393.746 Q58.1217 389.14 63.9319 389.14 Z\" fill=\"#000000\" fill-rule=\"evenodd\" fill-opacity=\"1\" /><path clip-path=\"url(#clip060)\" d=\"M84.0938 418.445 L88.978 418.445 L88.978 424.325 L84.0938 424.325 L84.0938 418.445 Z\" fill=\"#000000\" fill-rule=\"evenodd\" fill-opacity=\"1\" /><path clip-path=\"url(#clip060)\" d=\"M99.9733 420.39 L107.612 420.39 L107.612 394.024 L99.3021 395.691 L99.3021 391.432 L107.566 389.765 L112.242 389.765 L112.242 420.39 L119.881 420.39 L119.881 424.325 L99.9733 424.325 L99.9733 420.39 Z\" fill=\"#000000\" fill-rule=\"evenodd\" fill-opacity=\"1\" /><path clip-path=\"url(#clip060)\" d=\"M129.371 389.765 L147.728 389.765 L147.728 393.7 L133.654 393.7 L133.654 402.172 Q134.672 401.825 135.691 401.663 Q136.709 401.478 137.728 401.478 Q143.515 401.478 146.894 404.649 Q150.274 407.82 150.274 413.237 Q150.274 418.816 146.802 421.918 Q143.33 424.996 137.01 424.996 Q134.834 424.996 132.566 424.626 Q130.32 424.256 127.913 423.515 L127.913 418.816 Q129.996 419.95 132.219 420.506 Q134.441 421.061 136.918 421.061 Q140.922 421.061 143.26 418.955 Q145.598 416.848 145.598 413.237 Q145.598 409.626 143.26 407.52 Q140.922 405.413 136.918 405.413 Q135.043 405.413 133.168 405.83 Q131.316 406.246 129.371 407.126 L129.371 389.765 Z\" fill=\"#000000\" fill-rule=\"evenodd\" fill-opacity=\"1\" /><path clip-path=\"url(#clip060)\" d=\"M62.9365 33.0428 Q59.3254 33.0428 57.4967 36.6076 Q55.6912 40.1492 55.6912 47.2788 Q55.6912 54.3853 57.4967 57.9501 Q59.3254 61.4917 62.9365 61.4917 Q66.5707 61.4917 68.3763 57.9501 Q70.205 54.3853 70.205 47.2788 Q70.205 40.1492 68.3763 36.6076 Q66.5707 33.0428 62.9365 33.0428 M62.9365 29.3391 Q68.7467 29.3391 71.8022 33.9456 Q74.8809 38.5289 74.8809 47.2788 Q74.8809 56.0056 71.8022 60.6121 Q68.7467 65.1954 62.9365 65.1954 Q57.1264 65.1954 54.0477 60.6121 Q50.9921 56.0056 50.9921 47.2788 Q50.9921 38.5289 54.0477 33.9456 Q57.1264 29.3391 62.9365 29.3391 Z\" fill=\"#000000\" fill-rule=\"evenodd\" fill-opacity=\"1\" /><path clip-path=\"url(#clip060)\" d=\"M83.0984 58.6445 L87.9827 58.6445 L87.9827 64.5241 L83.0984 64.5241 L83.0984 58.6445 Z\" fill=\"#000000\" fill-rule=\"evenodd\" fill-opacity=\"1\" /><path clip-path=\"url(#clip060)\" d=\"M102.196 60.5889 L118.515 60.5889 L118.515 64.5241 L96.5706 64.5241 L96.5706 60.5889 Q99.2326 57.8343 103.816 53.2047 Q108.422 48.552 109.603 47.2094 Q111.848 44.6862 112.728 42.9501 Q113.631 41.1909 113.631 39.5011 Q113.631 36.7465 111.686 35.0104 Q109.765 33.2743 106.663 33.2743 Q104.464 33.2743 102.01 34.0381 Q99.5798 34.802 96.8021 36.3529 L96.8021 31.6308 Q99.6261 30.4965 102.08 29.9178 Q104.534 29.3391 106.571 29.3391 Q111.941 29.3391 115.135 32.0243 Q118.33 34.7094 118.33 39.2002 Q118.33 41.3298 117.52 43.2511 Q116.733 45.1492 114.626 47.7418 Q114.047 48.4131 110.946 51.6306 Q107.844 54.8251 102.196 60.5889 Z\" fill=\"#000000\" fill-rule=\"evenodd\" fill-opacity=\"1\" /><path clip-path=\"url(#clip060)\" d=\"M138.33 33.0428 Q134.719 33.0428 132.89 36.6076 Q131.084 40.1492 131.084 47.2788 Q131.084 54.3853 132.89 57.9501 Q134.719 61.4917 138.33 61.4917 Q141.964 61.4917 143.769 57.9501 Q145.598 54.3853 145.598 47.2788 Q145.598 40.1492 143.769 36.6076 Q141.964 33.0428 138.33 33.0428 M138.33 29.3391 Q144.14 29.3391 147.195 33.9456 Q150.274 38.5289 150.274 47.2788 Q150.274 56.0056 147.195 60.6121 Q144.14 65.1954 138.33 65.1954 Q132.519 65.1954 129.441 60.6121 Q126.385 56.0056 126.385 47.2788 Q126.385 38.5289 129.441 33.9456 Q132.519 29.3391 138.33 29.3391 Z\" fill=\"#000000\" fill-rule=\"evenodd\" fill-opacity=\"1\" /><polyline clip-path=\"url(#clip062)\" style=\"stroke:#009af9; stroke-linecap:butt; stroke-linejoin:round; stroke-width:4; stroke-opacity:1; fill:none\" points=\"\n",
       "  240.436,-7215.35 294.598,-4330.1 348.76,-3015.01 402.922,-2212.62 457.084,-1654.83 511.246,-1237.2 565.408,-909.213 619.57,-642.969 673.732,-421.556 727.894,-234.016 \n",
       "  782.057,-72.8711 836.219,67.1947 890.381,190.086 944.543,298.752 998.705,395.471 1052.87,482.038 1107.03,559.891 1161.19,630.199 1215.35,693.925 1269.51,751.871 \n",
       "  1323.68,804.712 1377.84,853.02 1432,897.285 1486.16,937.928 1540.33,975.315 1594.49,1009.77 1648.65,1041.56 1702.81,1070.94 1756.97,1098.13 1811.14,1123.32 \n",
       "  1865.3,1146.68 1919.46,1168.38 1973.62,1188.53 2027.78,1207.29 2081.95,1224.74 2136.11,1241 2190.27,1256.16 2244.43,1270.31 2298.59,1283.51 2352.76,1295.84 \n",
       "  \n",
       "  \"/>\n",
       "<path clip-path=\"url(#clip062)\" d=\"\n",
       "M186.274 -5911.06 L186.274 1486.45 L457.084 1486.45 L457.084 -5911.06 L186.274 -5911.06 L186.274 -5911.06  Z\n",
       "  \" fill=\"#e26f46\" fill-rule=\"evenodd\" fill-opacity=\"0.4\"/>\n",
       "<polyline clip-path=\"url(#clip062)\" style=\"stroke:#000000; stroke-linecap:butt; stroke-linejoin:round; stroke-width:4; stroke-opacity:0.4; fill:none\" points=\"\n",
       "  186.274,-5911.06 186.274,1486.45 457.084,1486.45 457.084,-5911.06 186.274,-5911.06 \n",
       "  \"/>\n",
       "<path clip-path=\"url(#clip062)\" d=\"\n",
       "M457.084 -1046.55 L457.084 1486.45 L727.894 1486.45 L727.894 -1046.55 L457.084 -1046.55 L457.084 -1046.55  Z\n",
       "  \" fill=\"#e26f46\" fill-rule=\"evenodd\" fill-opacity=\"0.4\"/>\n",
       "<polyline clip-path=\"url(#clip062)\" style=\"stroke:#000000; stroke-linecap:butt; stroke-linejoin:round; stroke-width:4; stroke-opacity:0.4; fill:none\" points=\"\n",
       "  457.084,-1046.55 457.084,1486.45 727.894,1486.45 727.894,-1046.55 457.084,-1046.55 \n",
       "  \"/>\n",
       "<path clip-path=\"url(#clip062)\" d=\"\n",
       "M727.894 263.125 L727.894 1486.45 L998.705 1486.45 L998.705 263.125 L727.894 263.125 L727.894 263.125  Z\n",
       "  \" fill=\"#e26f46\" fill-rule=\"evenodd\" fill-opacity=\"0.4\"/>\n",
       "<polyline clip-path=\"url(#clip062)\" style=\"stroke:#000000; stroke-linecap:butt; stroke-linejoin:round; stroke-width:4; stroke-opacity:0.4; fill:none\" points=\"\n",
       "  727.894,263.125 727.894,1486.45 998.705,1486.45 998.705,263.125 727.894,263.125 \n",
       "  \"/>\n",
       "<path clip-path=\"url(#clip062)\" d=\"\n",
       "M998.705 522.181 L998.705 1486.45 L1269.51 1486.45 L1269.51 522.181 L998.705 522.181 L998.705 522.181  Z\n",
       "  \" fill=\"#e26f46\" fill-rule=\"evenodd\" fill-opacity=\"0.4\"/>\n",
       "<polyline clip-path=\"url(#clip062)\" style=\"stroke:#000000; stroke-linecap:butt; stroke-linejoin:round; stroke-width:4; stroke-opacity:0.4; fill:none\" points=\"\n",
       "  998.705,522.181 998.705,1486.45 1269.51,1486.45 1269.51,522.181 998.705,522.181 \n",
       "  \"/>\n",
       "<path clip-path=\"url(#clip062)\" d=\"\n",
       "M1269.51 752.454 L1269.51 1486.45 L1540.33 1486.45 L1540.33 752.454 L1269.51 752.454 L1269.51 752.454  Z\n",
       "  \" fill=\"#e26f46\" fill-rule=\"evenodd\" fill-opacity=\"0.4\"/>\n",
       "<polyline clip-path=\"url(#clip062)\" style=\"stroke:#000000; stroke-linecap:butt; stroke-linejoin:round; stroke-width:4; stroke-opacity:0.4; fill:none\" points=\"\n",
       "  1269.51,752.454 1269.51,1486.45 1540.33,1486.45 1540.33,752.454 1269.51,752.454 \n",
       "  \"/>\n",
       "<path clip-path=\"url(#clip062)\" d=\"\n",
       "M1540.33 1054.69 L1540.33 1486.45 L1811.14 1486.45 L1811.14 1054.69 L1540.33 1054.69 L1540.33 1054.69  Z\n",
       "  \" fill=\"#e26f46\" fill-rule=\"evenodd\" fill-opacity=\"0.4\"/>\n",
       "<polyline clip-path=\"url(#clip062)\" style=\"stroke:#000000; stroke-linecap:butt; stroke-linejoin:round; stroke-width:4; stroke-opacity:0.4; fill:none\" points=\"\n",
       "  1540.33,1054.69 1540.33,1486.45 1811.14,1486.45 1811.14,1054.69 1540.33,1054.69 \n",
       "  \"/>\n",
       "<path clip-path=\"url(#clip062)\" d=\"\n",
       "M1811.14 1169.82 L1811.14 1486.45 L2081.95 1486.45 L2081.95 1169.82 L1811.14 1169.82 L1811.14 1169.82  Z\n",
       "  \" fill=\"#e26f46\" fill-rule=\"evenodd\" fill-opacity=\"0.4\"/>\n",
       "<polyline clip-path=\"url(#clip062)\" style=\"stroke:#000000; stroke-linecap:butt; stroke-linejoin:round; stroke-width:4; stroke-opacity:0.4; fill:none\" points=\"\n",
       "  1811.14,1169.82 1811.14,1486.45 2081.95,1486.45 2081.95,1169.82 1811.14,1169.82 \n",
       "  \"/>\n",
       "<path clip-path=\"url(#clip062)\" d=\"\n",
       "M2081.95 1141.04 L2081.95 1486.45 L2352.76 1486.45 L2352.76 1141.04 L2081.95 1141.04 L2081.95 1141.04  Z\n",
       "  \" fill=\"#e26f46\" fill-rule=\"evenodd\" fill-opacity=\"0.4\"/>\n",
       "<polyline clip-path=\"url(#clip062)\" style=\"stroke:#000000; stroke-linecap:butt; stroke-linejoin:round; stroke-width:4; stroke-opacity:0.4; fill:none\" points=\"\n",
       "  2081.95,1141.04 2081.95,1486.45 2352.76,1486.45 2352.76,1141.04 2081.95,1141.04 \n",
       "  \"/>\n",
       "<path clip-path=\"url(#clip062)\" d=\"\n",
       "M2352.76 1385.7 L2352.76 1486.45 L2623.57 1486.45 L2623.57 1385.7 L2352.76 1385.7 L2352.76 1385.7  Z\n",
       "  \" fill=\"#e26f46\" fill-rule=\"evenodd\" fill-opacity=\"0.4\"/>\n",
       "<polyline clip-path=\"url(#clip062)\" style=\"stroke:#000000; stroke-linecap:butt; stroke-linejoin:round; stroke-width:4; stroke-opacity:0.4; fill:none\" points=\"\n",
       "  2352.76,1385.7 2352.76,1486.45 2623.57,1486.45 2623.57,1385.7 2352.76,1385.7 \n",
       "  \"/>\n",
       "<path clip-path=\"url(#clip062)\" d=\"\n",
       "M2623.57 1385.7 L2623.57 1486.45 L2894.38 1486.45 L2894.38 1385.7 L2623.57 1385.7 L2623.57 1385.7  Z\n",
       "  \" fill=\"#e26f46\" fill-rule=\"evenodd\" fill-opacity=\"0.4\"/>\n",
       "<polyline clip-path=\"url(#clip062)\" style=\"stroke:#000000; stroke-linecap:butt; stroke-linejoin:round; stroke-width:4; stroke-opacity:0.4; fill:none\" points=\"\n",
       "  2623.57,1385.7 2623.57,1486.45 2894.38,1486.45 2894.38,1385.7 2623.57,1385.7 \n",
       "  \"/>\n",
       "<path clip-path=\"url(#clip062)\" d=\"\n",
       "M2894.38 1457.66 L2894.38 1486.45 L3165.19 1486.45 L3165.19 1457.66 L2894.38 1457.66 L2894.38 1457.66  Z\n",
       "  \" fill=\"#e26f46\" fill-rule=\"evenodd\" fill-opacity=\"0.4\"/>\n",
       "<polyline clip-path=\"url(#clip062)\" style=\"stroke:#000000; stroke-linecap:butt; stroke-linejoin:round; stroke-width:4; stroke-opacity:0.4; fill:none\" points=\"\n",
       "  2894.38,1457.66 2894.38,1486.45 3165.19,1486.45 3165.19,1457.66 2894.38,1457.66 \n",
       "  \"/>\n",
       "<path clip-path=\"url(#clip062)\" d=\"\n",
       "M3165.19 1472.06 L3165.19 1486.45 L3436 1486.45 L3436 1472.06 L3165.19 1472.06 L3165.19 1472.06  Z\n",
       "  \" fill=\"#e26f46\" fill-rule=\"evenodd\" fill-opacity=\"0.4\"/>\n",
       "<polyline clip-path=\"url(#clip062)\" style=\"stroke:#000000; stroke-linecap:butt; stroke-linejoin:round; stroke-width:4; stroke-opacity:0.4; fill:none\" points=\"\n",
       "  3165.19,1472.06 3165.19,1486.45 3436,1486.45 3436,1472.06 3165.19,1472.06 \n",
       "  \"/>\n",
       "<path clip-path=\"url(#clip062)\" d=\"\n",
       "M3436 1457.66 L3436 1486.45 L3706.81 1486.45 L3706.81 1457.66 L3436 1457.66 L3436 1457.66  Z\n",
       "  \" fill=\"#e26f46\" fill-rule=\"evenodd\" fill-opacity=\"0.4\"/>\n",
       "<polyline clip-path=\"url(#clip062)\" style=\"stroke:#000000; stroke-linecap:butt; stroke-linejoin:round; stroke-width:4; stroke-opacity:0.4; fill:none\" points=\"\n",
       "  3436,1457.66 3436,1486.45 3706.81,1486.45 3706.81,1457.66 3436,1457.66 \n",
       "  \"/>\n",
       "<path clip-path=\"url(#clip062)\" d=\"\n",
       "M3706.81 1443.27 L3706.81 1486.45 L3977.62 1486.45 L3977.62 1443.27 L3706.81 1443.27 L3706.81 1443.27  Z\n",
       "  \" fill=\"#e26f46\" fill-rule=\"evenodd\" fill-opacity=\"0.4\"/>\n",
       "<polyline clip-path=\"url(#clip062)\" style=\"stroke:#000000; stroke-linecap:butt; stroke-linejoin:round; stroke-width:4; stroke-opacity:0.4; fill:none\" points=\"\n",
       "  3706.81,1443.27 3706.81,1486.45 3977.62,1486.45 3977.62,1443.27 3706.81,1443.27 \n",
       "  \"/>\n",
       "<path clip-path=\"url(#clip062)\" d=\"\n",
       "M3977.62 1457.66 L3977.62 1486.45 L4248.43 1486.45 L4248.43 1457.66 L3977.62 1457.66 L3977.62 1457.66  Z\n",
       "  \" fill=\"#e26f46\" fill-rule=\"evenodd\" fill-opacity=\"0.4\"/>\n",
       "<polyline clip-path=\"url(#clip062)\" style=\"stroke:#000000; stroke-linecap:butt; stroke-linejoin:round; stroke-width:4; stroke-opacity:0.4; fill:none\" points=\"\n",
       "  3977.62,1457.66 3977.62,1486.45 4248.43,1486.45 4248.43,1457.66 3977.62,1457.66 \n",
       "  \"/>\n",
       "<path clip-path=\"url(#clip062)\" d=\"\n",
       "M4248.43 1486.45 L4248.43 1486.45 L4519.24 1486.45 L4519.24 1486.45 L4248.43 1486.45 L4248.43 1486.45  Z\n",
       "  \" fill=\"#e26f46\" fill-rule=\"evenodd\" fill-opacity=\"0.4\"/>\n",
       "<polyline clip-path=\"url(#clip062)\" style=\"stroke:#000000; stroke-linecap:butt; stroke-linejoin:round; stroke-width:4; stroke-opacity:0.4; fill:none\" points=\"\n",
       "  4248.43,1486.45 4248.43,1486.45 4519.24,1486.45 4248.43,1486.45 \n",
       "  \"/>\n",
       "<path clip-path=\"url(#clip062)\" d=\"\n",
       "M4519.24 1472.06 L4519.24 1486.45 L4790.05 1486.45 L4790.05 1472.06 L4519.24 1472.06 L4519.24 1472.06  Z\n",
       "  \" fill=\"#e26f46\" fill-rule=\"evenodd\" fill-opacity=\"0.4\"/>\n",
       "<polyline clip-path=\"url(#clip062)\" style=\"stroke:#000000; stroke-linecap:butt; stroke-linejoin:round; stroke-width:4; stroke-opacity:0.4; fill:none\" points=\"\n",
       "  4519.24,1472.06 4519.24,1486.45 4790.05,1486.45 4790.05,1472.06 4519.24,1472.06 \n",
       "  \"/>\n",
       "<path clip-path=\"url(#clip062)\" d=\"\n",
       "M4790.05 1428.88 L4790.05 1486.45 L5060.86 1486.45 L5060.86 1428.88 L4790.05 1428.88 L4790.05 1428.88  Z\n",
       "  \" fill=\"#e26f46\" fill-rule=\"evenodd\" fill-opacity=\"0.4\"/>\n",
       "<polyline clip-path=\"url(#clip062)\" style=\"stroke:#000000; stroke-linecap:butt; stroke-linejoin:round; stroke-width:4; stroke-opacity:0.4; fill:none\" points=\"\n",
       "  4790.05,1428.88 4790.05,1486.45 5060.86,1486.45 5060.86,1428.88 4790.05,1428.88 \n",
       "  \"/>\n",
       "<path clip-path=\"url(#clip062)\" d=\"\n",
       "M5060.86 1472.06 L5060.86 1486.45 L5331.67 1486.45 L5331.67 1472.06 L5060.86 1472.06 L5060.86 1472.06  Z\n",
       "  \" fill=\"#e26f46\" fill-rule=\"evenodd\" fill-opacity=\"0.4\"/>\n",
       "<polyline clip-path=\"url(#clip062)\" style=\"stroke:#000000; stroke-linecap:butt; stroke-linejoin:round; stroke-width:4; stroke-opacity:0.4; fill:none\" points=\"\n",
       "  5060.86,1472.06 5060.86,1486.45 5331.67,1486.45 5331.67,1472.06 5060.86,1472.06 \n",
       "  \"/>\n",
       "<path clip-path=\"url(#clip062)\" d=\"\n",
       "M5331.67 1486.45 L5331.67 1486.45 L5602.48 1486.45 L5602.48 1486.45 L5331.67 1486.45 L5331.67 1486.45  Z\n",
       "  \" fill=\"#e26f46\" fill-rule=\"evenodd\" fill-opacity=\"0.4\"/>\n",
       "<polyline clip-path=\"url(#clip062)\" style=\"stroke:#000000; stroke-linecap:butt; stroke-linejoin:round; stroke-width:4; stroke-opacity:0.4; fill:none\" points=\"\n",
       "  5331.67,1486.45 5331.67,1486.45 5602.48,1486.45 5331.67,1486.45 \n",
       "  \"/>\n",
       "<path clip-path=\"url(#clip062)\" d=\"\n",
       "M5602.48 1486.45 L5602.48 1486.45 L5873.29 1486.45 L5873.29 1486.45 L5602.48 1486.45 L5602.48 1486.45  Z\n",
       "  \" fill=\"#e26f46\" fill-rule=\"evenodd\" fill-opacity=\"0.4\"/>\n",
       "<polyline clip-path=\"url(#clip062)\" style=\"stroke:#000000; stroke-linecap:butt; stroke-linejoin:round; stroke-width:4; stroke-opacity:0.4; fill:none\" points=\"\n",
       "  5602.48,1486.45 5602.48,1486.45 5873.29,1486.45 5602.48,1486.45 \n",
       "  \"/>\n",
       "<path clip-path=\"url(#clip062)\" d=\"\n",
       "M5873.29 1486.45 L5873.29 1486.45 L6144.1 1486.45 L6144.1 1486.45 L5873.29 1486.45 L5873.29 1486.45  Z\n",
       "  \" fill=\"#e26f46\" fill-rule=\"evenodd\" fill-opacity=\"0.4\"/>\n",
       "<polyline clip-path=\"url(#clip062)\" style=\"stroke:#000000; stroke-linecap:butt; stroke-linejoin:round; stroke-width:4; stroke-opacity:0.4; fill:none\" points=\"\n",
       "  5873.29,1486.45 5873.29,1486.45 6144.1,1486.45 5873.29,1486.45 \n",
       "  \"/>\n",
       "<path clip-path=\"url(#clip062)\" d=\"\n",
       "M6144.1 1486.45 L6144.1 1486.45 L6414.91 1486.45 L6414.91 1486.45 L6144.1 1486.45 L6144.1 1486.45  Z\n",
       "  \" fill=\"#e26f46\" fill-rule=\"evenodd\" fill-opacity=\"0.4\"/>\n",
       "<polyline clip-path=\"url(#clip062)\" style=\"stroke:#000000; stroke-linecap:butt; stroke-linejoin:round; stroke-width:4; stroke-opacity:0.4; fill:none\" points=\"\n",
       "  6144.1,1486.45 6144.1,1486.45 6414.91,1486.45 6144.1,1486.45 \n",
       "  \"/>\n",
       "<path clip-path=\"url(#clip062)\" d=\"\n",
       "M6414.91 1486.45 L6414.91 1486.45 L6685.72 1486.45 L6685.72 1486.45 L6414.91 1486.45 L6414.91 1486.45  Z\n",
       "  \" fill=\"#e26f46\" fill-rule=\"evenodd\" fill-opacity=\"0.4\"/>\n",
       "<polyline clip-path=\"url(#clip062)\" style=\"stroke:#000000; stroke-linecap:butt; stroke-linejoin:round; stroke-width:4; stroke-opacity:0.4; fill:none\" points=\"\n",
       "  6414.91,1486.45 6414.91,1486.45 6685.72,1486.45 6414.91,1486.45 \n",
       "  \"/>\n",
       "<path clip-path=\"url(#clip062)\" d=\"\n",
       "M6685.72 1486.45 L6685.72 1486.45 L6956.53 1486.45 L6956.53 1486.45 L6685.72 1486.45 L6685.72 1486.45  Z\n",
       "  \" fill=\"#e26f46\" fill-rule=\"evenodd\" fill-opacity=\"0.4\"/>\n",
       "<polyline clip-path=\"url(#clip062)\" style=\"stroke:#000000; stroke-linecap:butt; stroke-linejoin:round; stroke-width:4; stroke-opacity:0.4; fill:none\" points=\"\n",
       "  6685.72,1486.45 6685.72,1486.45 6956.53,1486.45 6685.72,1486.45 \n",
       "  \"/>\n",
       "<path clip-path=\"url(#clip062)\" d=\"\n",
       "M6956.53 1486.45 L6956.53 1486.45 L7227.34 1486.45 L7227.34 1486.45 L6956.53 1486.45 L6956.53 1486.45  Z\n",
       "  \" fill=\"#e26f46\" fill-rule=\"evenodd\" fill-opacity=\"0.4\"/>\n",
       "<polyline clip-path=\"url(#clip062)\" style=\"stroke:#000000; stroke-linecap:butt; stroke-linejoin:round; stroke-width:4; stroke-opacity:0.4; fill:none\" points=\"\n",
       "  6956.53,1486.45 6956.53,1486.45 7227.34,1486.45 6956.53,1486.45 \n",
       "  \"/>\n",
       "<path clip-path=\"url(#clip062)\" d=\"\n",
       "M7227.34 1486.45 L7227.34 1486.45 L7498.15 1486.45 L7498.15 1486.45 L7227.34 1486.45 L7227.34 1486.45  Z\n",
       "  \" fill=\"#e26f46\" fill-rule=\"evenodd\" fill-opacity=\"0.4\"/>\n",
       "<polyline clip-path=\"url(#clip062)\" style=\"stroke:#000000; stroke-linecap:butt; stroke-linejoin:round; stroke-width:4; stroke-opacity:0.4; fill:none\" points=\"\n",
       "  7227.34,1486.45 7227.34,1486.45 7498.15,1486.45 7227.34,1486.45 \n",
       "  \"/>\n",
       "<path clip-path=\"url(#clip062)\" d=\"\n",
       "M7498.15 1486.45 L7498.15 1486.45 L7768.96 1486.45 L7768.96 1486.45 L7498.15 1486.45 L7498.15 1486.45  Z\n",
       "  \" fill=\"#e26f46\" fill-rule=\"evenodd\" fill-opacity=\"0.4\"/>\n",
       "<polyline clip-path=\"url(#clip062)\" style=\"stroke:#000000; stroke-linecap:butt; stroke-linejoin:round; stroke-width:4; stroke-opacity:0.4; fill:none\" points=\"\n",
       "  7498.15,1486.45 7498.15,1486.45 7768.96,1486.45 7498.15,1486.45 \n",
       "  \"/>\n",
       "<path clip-path=\"url(#clip062)\" d=\"\n",
       "M7768.96 1486.45 L7768.96 1486.45 L8039.77 1486.45 L8039.77 1486.45 L7768.96 1486.45 L7768.96 1486.45  Z\n",
       "  \" fill=\"#e26f46\" fill-rule=\"evenodd\" fill-opacity=\"0.4\"/>\n",
       "<polyline clip-path=\"url(#clip062)\" style=\"stroke:#000000; stroke-linecap:butt; stroke-linejoin:round; stroke-width:4; stroke-opacity:0.4; fill:none\" points=\"\n",
       "  7768.96,1486.45 7768.96,1486.45 8039.77,1486.45 7768.96,1486.45 \n",
       "  \"/>\n",
       "<path clip-path=\"url(#clip062)\" d=\"\n",
       "M8039.77 1486.45 L8039.77 1486.45 L8310.58 1486.45 L8310.58 1486.45 L8039.77 1486.45 L8039.77 1486.45  Z\n",
       "  \" fill=\"#e26f46\" fill-rule=\"evenodd\" fill-opacity=\"0.4\"/>\n",
       "<polyline clip-path=\"url(#clip062)\" style=\"stroke:#000000; stroke-linecap:butt; stroke-linejoin:round; stroke-width:4; stroke-opacity:0.4; fill:none\" points=\"\n",
       "  8039.77,1486.45 8039.77,1486.45 8310.58,1486.45 8039.77,1486.45 \n",
       "  \"/>\n",
       "<path clip-path=\"url(#clip062)\" d=\"\n",
       "M8310.58 1486.45 L8310.58 1486.45 L8581.39 1486.45 L8581.39 1486.45 L8310.58 1486.45 L8310.58 1486.45  Z\n",
       "  \" fill=\"#e26f46\" fill-rule=\"evenodd\" fill-opacity=\"0.4\"/>\n",
       "<polyline clip-path=\"url(#clip062)\" style=\"stroke:#000000; stroke-linecap:butt; stroke-linejoin:round; stroke-width:4; stroke-opacity:0.4; fill:none\" points=\"\n",
       "  8310.58,1486.45 8310.58,1486.45 8581.39,1486.45 8310.58,1486.45 \n",
       "  \"/>\n",
       "<path clip-path=\"url(#clip062)\" d=\"\n",
       "M8581.39 1486.45 L8581.39 1486.45 L8852.2 1486.45 L8852.2 1486.45 L8581.39 1486.45 L8581.39 1486.45  Z\n",
       "  \" fill=\"#e26f46\" fill-rule=\"evenodd\" fill-opacity=\"0.4\"/>\n",
       "<polyline clip-path=\"url(#clip062)\" style=\"stroke:#000000; stroke-linecap:butt; stroke-linejoin:round; stroke-width:4; stroke-opacity:0.4; fill:none\" points=\"\n",
       "  8581.39,1486.45 8581.39,1486.45 8852.2,1486.45 8581.39,1486.45 \n",
       "  \"/>\n",
       "<path clip-path=\"url(#clip062)\" d=\"\n",
       "M8852.2 1486.45 L8852.2 1486.45 L9123.01 1486.45 L9123.01 1486.45 L8852.2 1486.45 L8852.2 1486.45  Z\n",
       "  \" fill=\"#e26f46\" fill-rule=\"evenodd\" fill-opacity=\"0.4\"/>\n",
       "<polyline clip-path=\"url(#clip062)\" style=\"stroke:#000000; stroke-linecap:butt; stroke-linejoin:round; stroke-width:4; stroke-opacity:0.4; fill:none\" points=\"\n",
       "  8852.2,1486.45 8852.2,1486.45 9123.01,1486.45 8852.2,1486.45 \n",
       "  \"/>\n",
       "<path clip-path=\"url(#clip062)\" d=\"\n",
       "M9123.01 1486.45 L9123.01 1486.45 L9393.82 1486.45 L9393.82 1486.45 L9123.01 1486.45 L9123.01 1486.45  Z\n",
       "  \" fill=\"#e26f46\" fill-rule=\"evenodd\" fill-opacity=\"0.4\"/>\n",
       "<polyline clip-path=\"url(#clip062)\" style=\"stroke:#000000; stroke-linecap:butt; stroke-linejoin:round; stroke-width:4; stroke-opacity:0.4; fill:none\" points=\"\n",
       "  9123.01,1486.45 9123.01,1486.45 9393.82,1486.45 9123.01,1486.45 \n",
       "  \"/>\n",
       "<path clip-path=\"url(#clip062)\" d=\"\n",
       "M9393.82 1486.45 L9393.82 1486.45 L9664.63 1486.45 L9664.63 1486.45 L9393.82 1486.45 L9393.82 1486.45  Z\n",
       "  \" fill=\"#e26f46\" fill-rule=\"evenodd\" fill-opacity=\"0.4\"/>\n",
       "<polyline clip-path=\"url(#clip062)\" style=\"stroke:#000000; stroke-linecap:butt; stroke-linejoin:round; stroke-width:4; stroke-opacity:0.4; fill:none\" points=\"\n",
       "  9393.82,1486.45 9393.82,1486.45 9664.63,1486.45 9393.82,1486.45 \n",
       "  \"/>\n",
       "<path clip-path=\"url(#clip062)\" d=\"\n",
       "M9664.63 1486.45 L9664.63 1486.45 L9935.44 1486.45 L9935.44 1486.45 L9664.63 1486.45 L9664.63 1486.45  Z\n",
       "  \" fill=\"#e26f46\" fill-rule=\"evenodd\" fill-opacity=\"0.4\"/>\n",
       "<polyline clip-path=\"url(#clip062)\" style=\"stroke:#000000; stroke-linecap:butt; stroke-linejoin:round; stroke-width:4; stroke-opacity:0.4; fill:none\" points=\"\n",
       "  9664.63,1486.45 9664.63,1486.45 9935.44,1486.45 9664.63,1486.45 \n",
       "  \"/>\n",
       "<path clip-path=\"url(#clip062)\" d=\"\n",
       "M9935.44 1486.45 L9935.44 1486.45 L10206.3 1486.45 L10206.3 1486.45 L9935.44 1486.45 L9935.44 1486.45  Z\n",
       "  \" fill=\"#e26f46\" fill-rule=\"evenodd\" fill-opacity=\"0.4\"/>\n",
       "<polyline clip-path=\"url(#clip062)\" style=\"stroke:#000000; stroke-linecap:butt; stroke-linejoin:round; stroke-width:4; stroke-opacity:0.4; fill:none\" points=\"\n",
       "  9935.44,1486.45 9935.44,1486.45 10206.3,1486.45 9935.44,1486.45 \n",
       "  \"/>\n",
       "<path clip-path=\"url(#clip062)\" d=\"\n",
       "M10206.3 1486.45 L10206.3 1486.45 L10477.1 1486.45 L10477.1 1486.45 L10206.3 1486.45 L10206.3 1486.45  Z\n",
       "  \" fill=\"#e26f46\" fill-rule=\"evenodd\" fill-opacity=\"0.4\"/>\n",
       "<polyline clip-path=\"url(#clip062)\" style=\"stroke:#000000; stroke-linecap:butt; stroke-linejoin:round; stroke-width:4; stroke-opacity:0.4; fill:none\" points=\"\n",
       "  10206.3,1486.45 10206.3,1486.45 10477.1,1486.45 10206.3,1486.45 \n",
       "  \"/>\n",
       "<path clip-path=\"url(#clip062)\" d=\"\n",
       "M10477.1 1486.45 L10477.1 1486.45 L10747.9 1486.45 L10747.9 1486.45 L10477.1 1486.45 L10477.1 1486.45  Z\n",
       "  \" fill=\"#e26f46\" fill-rule=\"evenodd\" fill-opacity=\"0.4\"/>\n",
       "<polyline clip-path=\"url(#clip062)\" style=\"stroke:#000000; stroke-linecap:butt; stroke-linejoin:round; stroke-width:4; stroke-opacity:0.4; fill:none\" points=\"\n",
       "  10477.1,1486.45 10477.1,1486.45 10747.9,1486.45 10477.1,1486.45 \n",
       "  \"/>\n",
       "<path clip-path=\"url(#clip062)\" d=\"\n",
       "M10747.9 1486.45 L10747.9 1486.45 L11018.7 1486.45 L11018.7 1486.45 L10747.9 1486.45 L10747.9 1486.45  Z\n",
       "  \" fill=\"#e26f46\" fill-rule=\"evenodd\" fill-opacity=\"0.4\"/>\n",
       "<polyline clip-path=\"url(#clip062)\" style=\"stroke:#000000; stroke-linecap:butt; stroke-linejoin:round; stroke-width:4; stroke-opacity:0.4; fill:none\" points=\"\n",
       "  10747.9,1486.45 10747.9,1486.45 11018.7,1486.45 10747.9,1486.45 \n",
       "  \"/>\n",
       "<path clip-path=\"url(#clip062)\" d=\"\n",
       "M11018.7 1486.45 L11018.7 1486.45 L11289.5 1486.45 L11289.5 1486.45 L11018.7 1486.45 L11018.7 1486.45  Z\n",
       "  \" fill=\"#e26f46\" fill-rule=\"evenodd\" fill-opacity=\"0.4\"/>\n",
       "<polyline clip-path=\"url(#clip062)\" style=\"stroke:#000000; stroke-linecap:butt; stroke-linejoin:round; stroke-width:4; stroke-opacity:0.4; fill:none\" points=\"\n",
       "  11018.7,1486.45 11018.7,1486.45 11289.5,1486.45 11018.7,1486.45 \n",
       "  \"/>\n",
       "<path clip-path=\"url(#clip062)\" d=\"\n",
       "M11289.5 1472.06 L11289.5 1486.45 L11560.3 1486.45 L11560.3 1472.06 L11289.5 1472.06 L11289.5 1472.06  Z\n",
       "  \" fill=\"#e26f46\" fill-rule=\"evenodd\" fill-opacity=\"0.4\"/>\n",
       "<polyline clip-path=\"url(#clip062)\" style=\"stroke:#000000; stroke-linecap:butt; stroke-linejoin:round; stroke-width:4; stroke-opacity:0.4; fill:none\" points=\"\n",
       "  11289.5,1472.06 11289.5,1486.45 11560.3,1486.45 11560.3,1472.06 11289.5,1472.06 \n",
       "  \"/>\n",
       "<circle clip-path=\"url(#clip062)\" style=\"fill:#e26f46; stroke:none; fill-opacity:0\" cx=\"863.3\" cy=\"263.125\" r=\"2\"/>\n",
       "<circle clip-path=\"url(#clip062)\" style=\"fill:#e26f46; stroke:none; fill-opacity:0\" cx=\"1134.11\" cy=\"522.181\" r=\"2\"/>\n",
       "<circle clip-path=\"url(#clip062)\" style=\"fill:#e26f46; stroke:none; fill-opacity:0\" cx=\"1404.92\" cy=\"752.454\" r=\"2\"/>\n",
       "<circle clip-path=\"url(#clip062)\" style=\"fill:#e26f46; stroke:none; fill-opacity:0\" cx=\"1675.73\" cy=\"1054.69\" r=\"2\"/>\n",
       "<circle clip-path=\"url(#clip062)\" style=\"fill:#e26f46; stroke:none; fill-opacity:0\" cx=\"1946.54\" cy=\"1169.82\" r=\"2\"/>\n",
       "<circle clip-path=\"url(#clip062)\" style=\"fill:#e26f46; stroke:none; fill-opacity:0\" cx=\"2217.35\" cy=\"1141.04\" r=\"2\"/>\n",
       "<path clip-path=\"url(#clip060)\" d=\"\n",
       "M1987.39 250.738 L2280.54 250.738 L2280.54 95.2176 L1987.39 95.2176  Z\n",
       "  \" fill=\"#ffffff\" fill-rule=\"evenodd\" fill-opacity=\"1\"/>\n",
       "<polyline clip-path=\"url(#clip060)\" style=\"stroke:#000000; stroke-linecap:butt; stroke-linejoin:round; stroke-width:4; stroke-opacity:1; fill:none\" points=\"\n",
       "  1987.39,250.738 2280.54,250.738 2280.54,95.2176 1987.39,95.2176 1987.39,250.738 \n",
       "  \"/>\n",
       "<polyline clip-path=\"url(#clip060)\" style=\"stroke:#009af9; stroke-linecap:butt; stroke-linejoin:round; stroke-width:4; stroke-opacity:1; fill:none\" points=\"\n",
       "  2011.46,147.058 2155.89,147.058 \n",
       "  \"/>\n",
       "<path clip-path=\"url(#clip060)\" d=\"M2193.81 166.745 Q2192 171.375 2190.29 172.787 Q2188.58 174.199 2185.71 174.199 L2182.3 174.199 L2182.3 170.634 L2184.8 170.634 Q2186.56 170.634 2187.53 169.8 Q2188.51 168.967 2189.69 165.865 L2190.45 163.921 L2179.97 138.412 L2184.48 138.412 L2192.58 158.689 L2200.68 138.412 L2205.2 138.412 L2193.81 166.745 Z\" fill=\"#000000\" fill-rule=\"evenodd\" fill-opacity=\"1\" /><path clip-path=\"url(#clip060)\" d=\"M2212.49 160.402 L2220.13 160.402 L2220.13 134.037 L2211.82 135.703 L2211.82 131.444 L2220.08 129.778 L2224.76 129.778 L2224.76 160.402 L2232.4 160.402 L2232.4 164.338 L2212.49 164.338 L2212.49 160.402 Z\" fill=\"#000000\" fill-rule=\"evenodd\" fill-opacity=\"1\" /><path clip-path=\"url(#clip060)\" d=\"\n",
       "M2011.46 219.634 L2155.89 219.634 L2155.89 178.162 L2011.46 178.162 L2011.46 219.634  Z\n",
       "  \" fill=\"#e26f46\" fill-rule=\"evenodd\" fill-opacity=\"0.4\"/>\n",
       "<polyline clip-path=\"url(#clip060)\" style=\"stroke:#000000; stroke-linecap:butt; stroke-linejoin:round; stroke-width:4; stroke-opacity:1; fill:none\" points=\"\n",
       "  2011.46,219.634 2155.89,219.634 2155.89,178.162 2011.46,178.162 2011.46,219.634 \n",
       "  \"/>\n",
       "<path clip-path=\"url(#clip060)\" d=\"M2193.81 218.585 Q2192 223.215 2190.29 224.627 Q2188.58 226.039 2185.71 226.039 L2182.3 226.039 L2182.3 222.474 L2184.8 222.474 Q2186.56 222.474 2187.53 221.64 Q2188.51 220.807 2189.69 217.705 L2190.45 215.761 L2179.97 190.252 L2184.48 190.252 L2192.58 210.529 L2200.68 190.252 L2205.2 190.252 L2193.81 218.585 Z\" fill=\"#000000\" fill-rule=\"evenodd\" fill-opacity=\"1\" /><path clip-path=\"url(#clip060)\" d=\"M2215.71 212.242 L2232.03 212.242 L2232.03 216.178 L2210.08 216.178 L2210.08 212.242 Q2212.74 209.488 2217.33 204.858 Q2221.93 200.205 2223.11 198.863 Q2225.36 196.34 2226.24 194.604 Q2227.14 192.844 2227.14 191.155 Q2227.14 188.4 2225.2 186.664 Q2223.28 184.928 2220.17 184.928 Q2217.97 184.928 2215.52 185.692 Q2213.09 186.455 2210.31 188.006 L2210.31 183.284 Q2213.14 182.15 2215.59 181.571 Q2218.04 180.993 2220.08 180.993 Q2225.45 180.993 2228.65 183.678 Q2231.84 186.363 2231.84 190.854 Q2231.84 192.983 2231.03 194.905 Q2230.24 196.803 2228.14 199.395 Q2227.56 200.067 2224.46 203.284 Q2221.35 206.479 2215.71 212.242 Z\" fill=\"#000000\" fill-rule=\"evenodd\" fill-opacity=\"1\" /></svg>\n"
      ],
      "image/svg+xml": [
       "<?xml version=\"1.0\" encoding=\"utf-8\"?>\n",
       "<svg xmlns=\"http://www.w3.org/2000/svg\" xmlns:xlink=\"http://www.w3.org/1999/xlink\" width=\"600\" height=\"400\" viewBox=\"0 0 2400 1600\">\n",
       "<defs>\n",
       "  <clipPath id=\"clip030\">\n",
       "    <rect x=\"0\" y=\"0\" width=\"2400\" height=\"1600\"/>\n",
       "  </clipPath>\n",
       "</defs>\n",
       "<path clip-path=\"url(#clip030)\" d=\"\n",
       "M0 1600 L2400 1600 L2400 0 L0 0  Z\n",
       "  \" fill=\"#ffffff\" fill-rule=\"evenodd\" fill-opacity=\"1\"/>\n",
       "<defs>\n",
       "  <clipPath id=\"clip031\">\n",
       "    <rect x=\"480\" y=\"0\" width=\"1681\" height=\"1600\"/>\n",
       "  </clipPath>\n",
       "</defs>\n",
       "<path clip-path=\"url(#clip030)\" d=\"\n",
       "M186.274 1486.45 L2352.76 1486.45 L2352.76 47.2441 L186.274 47.2441  Z\n",
       "  \" fill=\"#ffffff\" fill-rule=\"evenodd\" fill-opacity=\"1\"/>\n",
       "<defs>\n",
       "  <clipPath id=\"clip032\">\n",
       "    <rect x=\"186\" y=\"47\" width=\"2167\" height=\"1440\"/>\n",
       "  </clipPath>\n",
       "</defs>\n",
       "<polyline clip-path=\"url(#clip032)\" style=\"stroke:#000000; stroke-linecap:butt; stroke-linejoin:round; stroke-width:2; stroke-opacity:0.1; fill:none\" points=\"\n",
       "  186.274,1486.45 186.274,47.2441 \n",
       "  \"/>\n",
       "<polyline clip-path=\"url(#clip032)\" style=\"stroke:#000000; stroke-linecap:butt; stroke-linejoin:round; stroke-width:2; stroke-opacity:0.1; fill:none\" points=\"\n",
       "  727.894,1486.45 727.894,47.2441 \n",
       "  \"/>\n",
       "<polyline clip-path=\"url(#clip032)\" style=\"stroke:#000000; stroke-linecap:butt; stroke-linejoin:round; stroke-width:2; stroke-opacity:0.1; fill:none\" points=\"\n",
       "  1269.51,1486.45 1269.51,47.2441 \n",
       "  \"/>\n",
       "<polyline clip-path=\"url(#clip032)\" style=\"stroke:#000000; stroke-linecap:butt; stroke-linejoin:round; stroke-width:2; stroke-opacity:0.1; fill:none\" points=\"\n",
       "  1811.14,1486.45 1811.14,47.2441 \n",
       "  \"/>\n",
       "<polyline clip-path=\"url(#clip032)\" style=\"stroke:#000000; stroke-linecap:butt; stroke-linejoin:round; stroke-width:2; stroke-opacity:0.1; fill:none\" points=\"\n",
       "  2352.76,1486.45 2352.76,47.2441 \n",
       "  \"/>\n",
       "<polyline clip-path=\"url(#clip030)\" style=\"stroke:#000000; stroke-linecap:butt; stroke-linejoin:round; stroke-width:4; stroke-opacity:1; fill:none\" points=\"\n",
       "  186.274,1486.45 2352.76,1486.45 \n",
       "  \"/>\n",
       "<polyline clip-path=\"url(#clip030)\" style=\"stroke:#000000; stroke-linecap:butt; stroke-linejoin:round; stroke-width:4; stroke-opacity:1; fill:none\" points=\"\n",
       "  186.274,1486.45 186.274,1467.55 \n",
       "  \"/>\n",
       "<polyline clip-path=\"url(#clip030)\" style=\"stroke:#000000; stroke-linecap:butt; stroke-linejoin:round; stroke-width:4; stroke-opacity:1; fill:none\" points=\"\n",
       "  727.894,1486.45 727.894,1467.55 \n",
       "  \"/>\n",
       "<polyline clip-path=\"url(#clip030)\" style=\"stroke:#000000; stroke-linecap:butt; stroke-linejoin:round; stroke-width:4; stroke-opacity:1; fill:none\" points=\"\n",
       "  1269.51,1486.45 1269.51,1467.55 \n",
       "  \"/>\n",
       "<polyline clip-path=\"url(#clip030)\" style=\"stroke:#000000; stroke-linecap:butt; stroke-linejoin:round; stroke-width:4; stroke-opacity:1; fill:none\" points=\"\n",
       "  1811.14,1486.45 1811.14,1467.55 \n",
       "  \"/>\n",
       "<polyline clip-path=\"url(#clip030)\" style=\"stroke:#000000; stroke-linecap:butt; stroke-linejoin:round; stroke-width:4; stroke-opacity:1; fill:none\" points=\"\n",
       "  2352.76,1486.45 2352.76,1467.55 \n",
       "  \"/>\n",
       "<path clip-path=\"url(#clip030)\" d=\"M186.274 1517.37 Q182.663 1517.37 180.834 1520.93 Q179.029 1524.47 179.029 1531.6 Q179.029 1538.71 180.834 1542.27 Q182.663 1545.82 186.274 1545.82 Q189.908 1545.82 191.714 1542.27 Q193.542 1538.71 193.542 1531.6 Q193.542 1524.47 191.714 1520.93 Q189.908 1517.37 186.274 1517.37 M186.274 1513.66 Q192.084 1513.66 195.14 1518.27 Q198.218 1522.85 198.218 1531.6 Q198.218 1540.33 195.14 1544.94 Q192.084 1549.52 186.274 1549.52 Q180.464 1549.52 177.385 1544.94 Q174.33 1540.33 174.33 1531.6 Q174.33 1522.85 177.385 1518.27 Q180.464 1513.66 186.274 1513.66 Z\" fill=\"#000000\" fill-rule=\"evenodd\" fill-opacity=\"1\" /><path clip-path=\"url(#clip030)\" d=\"M718.276 1544.91 L725.915 1544.91 L725.915 1518.55 L717.605 1520.21 L717.605 1515.95 L725.869 1514.29 L730.545 1514.29 L730.545 1544.91 L738.184 1544.91 L738.184 1548.85 L718.276 1548.85 L718.276 1544.91 Z\" fill=\"#000000\" fill-rule=\"evenodd\" fill-opacity=\"1\" /><path clip-path=\"url(#clip030)\" d=\"M1264.17 1544.91 L1280.49 1544.91 L1280.49 1548.85 L1258.54 1548.85 L1258.54 1544.91 Q1261.2 1542.16 1265.79 1537.53 Q1270.39 1532.88 1271.58 1531.53 Q1273.82 1529.01 1274.7 1527.27 Q1275.6 1525.51 1275.6 1523.82 Q1275.6 1521.07 1273.66 1519.33 Q1271.74 1517.6 1268.64 1517.6 Q1266.44 1517.6 1263.98 1518.36 Q1261.55 1519.13 1258.77 1520.68 L1258.77 1515.95 Q1261.6 1514.82 1264.05 1514.24 Q1266.51 1513.66 1268.54 1513.66 Q1273.91 1513.66 1277.11 1516.35 Q1280.3 1519.03 1280.3 1523.52 Q1280.3 1525.65 1279.49 1527.57 Q1278.7 1529.47 1276.6 1532.07 Q1276.02 1532.74 1272.92 1535.95 Q1269.82 1539.15 1264.17 1544.91 Z\" fill=\"#000000\" fill-rule=\"evenodd\" fill-opacity=\"1\" /><path clip-path=\"url(#clip030)\" d=\"M1815.38 1530.21 Q1818.74 1530.93 1820.61 1533.2 Q1822.51 1535.47 1822.51 1538.8 Q1822.51 1543.92 1818.99 1546.72 Q1815.48 1549.52 1808.99 1549.52 Q1806.82 1549.52 1804.5 1549.08 Q1802.21 1548.66 1799.76 1547.81 L1799.76 1543.29 Q1801.7 1544.43 1804.02 1545.01 Q1806.33 1545.58 1808.86 1545.58 Q1813.25 1545.58 1815.55 1543.85 Q1817.86 1542.11 1817.86 1538.8 Q1817.86 1535.75 1815.71 1534.03 Q1813.58 1532.3 1809.76 1532.3 L1805.73 1532.3 L1805.73 1528.45 L1809.94 1528.45 Q1813.39 1528.45 1815.22 1527.09 Q1817.05 1525.7 1817.05 1523.11 Q1817.05 1520.45 1815.15 1519.03 Q1813.28 1517.6 1809.76 1517.6 Q1807.84 1517.6 1805.64 1518.01 Q1803.44 1518.43 1800.8 1519.31 L1800.8 1515.14 Q1803.46 1514.4 1805.78 1514.03 Q1808.11 1513.66 1810.17 1513.66 Q1815.5 1513.66 1818.6 1516.09 Q1821.7 1518.5 1821.7 1522.62 Q1821.7 1525.49 1820.06 1527.48 Q1818.42 1529.45 1815.38 1530.21 Z\" fill=\"#000000\" fill-rule=\"evenodd\" fill-opacity=\"1\" /><path clip-path=\"url(#clip030)\" d=\"M2355.77 1518.36 L2343.96 1536.81 L2355.77 1536.81 L2355.77 1518.36 M2354.54 1514.29 L2360.42 1514.29 L2360.42 1536.81 L2365.35 1536.81 L2365.35 1540.7 L2360.42 1540.7 L2360.42 1548.85 L2355.77 1548.85 L2355.77 1540.7 L2340.16 1540.7 L2340.16 1536.19 L2354.54 1514.29 Z\" fill=\"#000000\" fill-rule=\"evenodd\" fill-opacity=\"1\" /><polyline clip-path=\"url(#clip032)\" style=\"stroke:#000000; stroke-linecap:butt; stroke-linejoin:round; stroke-width:2; stroke-opacity:0.1; fill:none\" points=\"\n",
       "  186.274,1486.45 2352.76,1486.45 \n",
       "  \"/>\n",
       "<polyline clip-path=\"url(#clip032)\" style=\"stroke:#000000; stroke-linecap:butt; stroke-linejoin:round; stroke-width:2; stroke-opacity:0.1; fill:none\" points=\"\n",
       "  186.274,1126.65 2352.76,1126.65 \n",
       "  \"/>\n",
       "<polyline clip-path=\"url(#clip032)\" style=\"stroke:#000000; stroke-linecap:butt; stroke-linejoin:round; stroke-width:2; stroke-opacity:0.1; fill:none\" points=\"\n",
       "  186.274,766.846 2352.76,766.846 \n",
       "  \"/>\n",
       "<polyline clip-path=\"url(#clip032)\" style=\"stroke:#000000; stroke-linecap:butt; stroke-linejoin:round; stroke-width:2; stroke-opacity:0.1; fill:none\" points=\"\n",
       "  186.274,407.045 2352.76,407.045 \n",
       "  \"/>\n",
       "<polyline clip-path=\"url(#clip032)\" style=\"stroke:#000000; stroke-linecap:butt; stroke-linejoin:round; stroke-width:2; stroke-opacity:0.1; fill:none\" points=\"\n",
       "  186.274,47.2441 2352.76,47.2441 \n",
       "  \"/>\n",
       "<polyline clip-path=\"url(#clip030)\" style=\"stroke:#000000; stroke-linecap:butt; stroke-linejoin:round; stroke-width:4; stroke-opacity:1; fill:none\" points=\"\n",
       "  186.274,1486.45 186.274,47.2441 \n",
       "  \"/>\n",
       "<polyline clip-path=\"url(#clip030)\" style=\"stroke:#000000; stroke-linecap:butt; stroke-linejoin:round; stroke-width:4; stroke-opacity:1; fill:none\" points=\"\n",
       "  186.274,1486.45 205.172,1486.45 \n",
       "  \"/>\n",
       "<polyline clip-path=\"url(#clip030)\" style=\"stroke:#000000; stroke-linecap:butt; stroke-linejoin:round; stroke-width:4; stroke-opacity:1; fill:none\" points=\"\n",
       "  186.274,1126.65 205.172,1126.65 \n",
       "  \"/>\n",
       "<polyline clip-path=\"url(#clip030)\" style=\"stroke:#000000; stroke-linecap:butt; stroke-linejoin:round; stroke-width:4; stroke-opacity:1; fill:none\" points=\"\n",
       "  186.274,766.846 205.172,766.846 \n",
       "  \"/>\n",
       "<polyline clip-path=\"url(#clip030)\" style=\"stroke:#000000; stroke-linecap:butt; stroke-linejoin:round; stroke-width:4; stroke-opacity:1; fill:none\" points=\"\n",
       "  186.274,407.045 205.172,407.045 \n",
       "  \"/>\n",
       "<polyline clip-path=\"url(#clip030)\" style=\"stroke:#000000; stroke-linecap:butt; stroke-linejoin:round; stroke-width:4; stroke-opacity:1; fill:none\" points=\"\n",
       "  186.274,47.2441 205.172,47.2441 \n",
       "  \"/>\n",
       "<path clip-path=\"url(#clip030)\" d=\"M62.9365 1472.25 Q59.3254 1472.25 57.4967 1475.81 Q55.6912 1479.35 55.6912 1486.48 Q55.6912 1493.59 57.4967 1497.15 Q59.3254 1500.7 62.9365 1500.7 Q66.5707 1500.7 68.3763 1497.15 Q70.205 1493.59 70.205 1486.48 Q70.205 1479.35 68.3763 1475.81 Q66.5707 1472.25 62.9365 1472.25 M62.9365 1468.54 Q68.7467 1468.54 71.8022 1473.15 Q74.8809 1477.73 74.8809 1486.48 Q74.8809 1495.21 71.8022 1499.82 Q68.7467 1504.4 62.9365 1504.4 Q57.1264 1504.4 54.0477 1499.82 Q50.9921 1495.21 50.9921 1486.48 Q50.9921 1477.73 54.0477 1473.15 Q57.1264 1468.54 62.9365 1468.54 Z\" fill=\"#000000\" fill-rule=\"evenodd\" fill-opacity=\"1\" /><path clip-path=\"url(#clip030)\" d=\"M83.0984 1497.85 L87.9827 1497.85 L87.9827 1503.73 L83.0984 1503.73 L83.0984 1497.85 Z\" fill=\"#000000\" fill-rule=\"evenodd\" fill-opacity=\"1\" /><path clip-path=\"url(#clip030)\" d=\"M108.168 1472.25 Q104.557 1472.25 102.728 1475.81 Q100.922 1479.35 100.922 1486.48 Q100.922 1493.59 102.728 1497.15 Q104.557 1500.7 108.168 1500.7 Q111.802 1500.7 113.608 1497.15 Q115.436 1493.59 115.436 1486.48 Q115.436 1479.35 113.608 1475.81 Q111.802 1472.25 108.168 1472.25 M108.168 1468.54 Q113.978 1468.54 117.033 1473.15 Q120.112 1477.73 120.112 1486.48 Q120.112 1495.21 117.033 1499.82 Q113.978 1504.4 108.168 1504.4 Q102.358 1504.4 99.2789 1499.82 Q96.2234 1495.21 96.2234 1486.48 Q96.2234 1477.73 99.2789 1473.15 Q102.358 1468.54 108.168 1468.54 Z\" fill=\"#000000\" fill-rule=\"evenodd\" fill-opacity=\"1\" /><path clip-path=\"url(#clip030)\" d=\"M138.33 1472.25 Q134.719 1472.25 132.89 1475.81 Q131.084 1479.35 131.084 1486.48 Q131.084 1493.59 132.89 1497.15 Q134.719 1500.7 138.33 1500.7 Q141.964 1500.7 143.769 1497.15 Q145.598 1493.59 145.598 1486.48 Q145.598 1479.35 143.769 1475.81 Q141.964 1472.25 138.33 1472.25 M138.33 1468.54 Q144.14 1468.54 147.195 1473.15 Q150.274 1477.73 150.274 1486.48 Q150.274 1495.21 147.195 1499.82 Q144.14 1504.4 138.33 1504.4 Q132.519 1504.4 129.441 1499.82 Q126.385 1495.21 126.385 1486.48 Q126.385 1477.73 129.441 1473.15 Q132.519 1468.54 138.33 1468.54 Z\" fill=\"#000000\" fill-rule=\"evenodd\" fill-opacity=\"1\" /><path clip-path=\"url(#clip030)\" d=\"M63.9319 1112.45 Q60.3208 1112.45 58.4921 1116.01 Q56.6865 1119.55 56.6865 1126.68 Q56.6865 1133.79 58.4921 1137.35 Q60.3208 1140.89 63.9319 1140.89 Q67.5661 1140.89 69.3717 1137.35 Q71.2004 1133.79 71.2004 1126.68 Q71.2004 1119.55 69.3717 1116.01 Q67.5661 1112.45 63.9319 1112.45 M63.9319 1108.74 Q69.742 1108.74 72.7976 1113.35 Q75.8763 1117.93 75.8763 1126.68 Q75.8763 1135.41 72.7976 1140.01 Q69.742 1144.6 63.9319 1144.6 Q58.1217 1144.6 55.043 1140.01 Q51.9875 1135.41 51.9875 1126.68 Q51.9875 1117.93 55.043 1113.35 Q58.1217 1108.74 63.9319 1108.74 Z\" fill=\"#000000\" fill-rule=\"evenodd\" fill-opacity=\"1\" /><path clip-path=\"url(#clip030)\" d=\"M84.0938 1138.05 L88.978 1138.05 L88.978 1143.93 L84.0938 1143.93 L84.0938 1138.05 Z\" fill=\"#000000\" fill-rule=\"evenodd\" fill-opacity=\"1\" /><path clip-path=\"url(#clip030)\" d=\"M109.163 1112.45 Q105.552 1112.45 103.723 1116.01 Q101.918 1119.55 101.918 1126.68 Q101.918 1133.79 103.723 1137.35 Q105.552 1140.89 109.163 1140.89 Q112.797 1140.89 114.603 1137.35 Q116.432 1133.79 116.432 1126.68 Q116.432 1119.55 114.603 1116.01 Q112.797 1112.45 109.163 1112.45 M109.163 1108.74 Q114.973 1108.74 118.029 1113.35 Q121.107 1117.93 121.107 1126.68 Q121.107 1135.41 118.029 1140.01 Q114.973 1144.6 109.163 1144.6 Q103.353 1144.6 100.274 1140.01 Q97.2187 1135.41 97.2187 1126.68 Q97.2187 1117.93 100.274 1113.35 Q103.353 1108.74 109.163 1108.74 Z\" fill=\"#000000\" fill-rule=\"evenodd\" fill-opacity=\"1\" /><path clip-path=\"url(#clip030)\" d=\"M129.371 1109.37 L147.728 1109.37 L147.728 1113.3 L133.654 1113.3 L133.654 1121.77 Q134.672 1121.43 135.691 1121.27 Q136.709 1121.08 137.728 1121.08 Q143.515 1121.08 146.894 1124.25 Q150.274 1127.42 150.274 1132.84 Q150.274 1138.42 146.802 1141.52 Q143.33 1144.6 137.01 1144.6 Q134.834 1144.6 132.566 1144.23 Q130.32 1143.86 127.913 1143.12 L127.913 1138.42 Q129.996 1139.55 132.219 1140.11 Q134.441 1140.66 136.918 1140.66 Q140.922 1140.66 143.26 1138.56 Q145.598 1136.45 145.598 1132.84 Q145.598 1129.23 143.26 1127.12 Q140.922 1125.01 136.918 1125.01 Q135.043 1125.01 133.168 1125.43 Q131.316 1125.85 129.371 1126.73 L129.371 1109.37 Z\" fill=\"#000000\" fill-rule=\"evenodd\" fill-opacity=\"1\" /><path clip-path=\"url(#clip030)\" d=\"M62.9365 752.645 Q59.3254 752.645 57.4967 756.209 Q55.6912 759.751 55.6912 766.881 Q55.6912 773.987 57.4967 777.552 Q59.3254 781.094 62.9365 781.094 Q66.5707 781.094 68.3763 777.552 Q70.205 773.987 70.205 766.881 Q70.205 759.751 68.3763 756.209 Q66.5707 752.645 62.9365 752.645 M62.9365 748.941 Q68.7467 748.941 71.8022 753.547 Q74.8809 758.131 74.8809 766.881 Q74.8809 775.608 71.8022 780.214 Q68.7467 784.797 62.9365 784.797 Q57.1264 784.797 54.0477 780.214 Q50.9921 775.608 50.9921 766.881 Q50.9921 758.131 54.0477 753.547 Q57.1264 748.941 62.9365 748.941 Z\" fill=\"#000000\" fill-rule=\"evenodd\" fill-opacity=\"1\" /><path clip-path=\"url(#clip030)\" d=\"M83.0984 778.246 L87.9827 778.246 L87.9827 784.126 L83.0984 784.126 L83.0984 778.246 Z\" fill=\"#000000\" fill-rule=\"evenodd\" fill-opacity=\"1\" /><path clip-path=\"url(#clip030)\" d=\"M98.978 780.191 L106.617 780.191 L106.617 753.825 L98.3067 755.492 L98.3067 751.233 L106.571 749.566 L111.246 749.566 L111.246 780.191 L118.885 780.191 L118.885 784.126 L98.978 784.126 L98.978 780.191 Z\" fill=\"#000000\" fill-rule=\"evenodd\" fill-opacity=\"1\" /><path clip-path=\"url(#clip030)\" d=\"M138.33 752.645 Q134.719 752.645 132.89 756.209 Q131.084 759.751 131.084 766.881 Q131.084 773.987 132.89 777.552 Q134.719 781.094 138.33 781.094 Q141.964 781.094 143.769 777.552 Q145.598 773.987 145.598 766.881 Q145.598 759.751 143.769 756.209 Q141.964 752.645 138.33 752.645 M138.33 748.941 Q144.14 748.941 147.195 753.547 Q150.274 758.131 150.274 766.881 Q150.274 775.608 147.195 780.214 Q144.14 784.797 138.33 784.797 Q132.519 784.797 129.441 780.214 Q126.385 775.608 126.385 766.881 Q126.385 758.131 129.441 753.547 Q132.519 748.941 138.33 748.941 Z\" fill=\"#000000\" fill-rule=\"evenodd\" fill-opacity=\"1\" /><path clip-path=\"url(#clip030)\" d=\"M63.9319 392.844 Q60.3208 392.844 58.4921 396.409 Q56.6865 399.95 56.6865 407.08 Q56.6865 414.186 58.4921 417.751 Q60.3208 421.293 63.9319 421.293 Q67.5661 421.293 69.3717 417.751 Q71.2004 414.186 71.2004 407.08 Q71.2004 399.95 69.3717 396.409 Q67.5661 392.844 63.9319 392.844 M63.9319 389.14 Q69.742 389.14 72.7976 393.746 Q75.8763 398.33 75.8763 407.08 Q75.8763 415.807 72.7976 420.413 Q69.742 424.996 63.9319 424.996 Q58.1217 424.996 55.043 420.413 Q51.9875 415.807 51.9875 407.08 Q51.9875 398.33 55.043 393.746 Q58.1217 389.14 63.9319 389.14 Z\" fill=\"#000000\" fill-rule=\"evenodd\" fill-opacity=\"1\" /><path clip-path=\"url(#clip030)\" d=\"M84.0938 418.445 L88.978 418.445 L88.978 424.325 L84.0938 424.325 L84.0938 418.445 Z\" fill=\"#000000\" fill-rule=\"evenodd\" fill-opacity=\"1\" /><path clip-path=\"url(#clip030)\" d=\"M99.9733 420.39 L107.612 420.39 L107.612 394.024 L99.3021 395.691 L99.3021 391.432 L107.566 389.765 L112.242 389.765 L112.242 420.39 L119.881 420.39 L119.881 424.325 L99.9733 424.325 L99.9733 420.39 Z\" fill=\"#000000\" fill-rule=\"evenodd\" fill-opacity=\"1\" /><path clip-path=\"url(#clip030)\" d=\"M129.371 389.765 L147.728 389.765 L147.728 393.7 L133.654 393.7 L133.654 402.172 Q134.672 401.825 135.691 401.663 Q136.709 401.478 137.728 401.478 Q143.515 401.478 146.894 404.649 Q150.274 407.82 150.274 413.237 Q150.274 418.816 146.802 421.918 Q143.33 424.996 137.01 424.996 Q134.834 424.996 132.566 424.626 Q130.32 424.256 127.913 423.515 L127.913 418.816 Q129.996 419.95 132.219 420.506 Q134.441 421.061 136.918 421.061 Q140.922 421.061 143.26 418.955 Q145.598 416.848 145.598 413.237 Q145.598 409.626 143.26 407.52 Q140.922 405.413 136.918 405.413 Q135.043 405.413 133.168 405.83 Q131.316 406.246 129.371 407.126 L129.371 389.765 Z\" fill=\"#000000\" fill-rule=\"evenodd\" fill-opacity=\"1\" /><path clip-path=\"url(#clip030)\" d=\"M62.9365 33.0428 Q59.3254 33.0428 57.4967 36.6076 Q55.6912 40.1492 55.6912 47.2788 Q55.6912 54.3853 57.4967 57.9501 Q59.3254 61.4917 62.9365 61.4917 Q66.5707 61.4917 68.3763 57.9501 Q70.205 54.3853 70.205 47.2788 Q70.205 40.1492 68.3763 36.6076 Q66.5707 33.0428 62.9365 33.0428 M62.9365 29.3391 Q68.7467 29.3391 71.8022 33.9456 Q74.8809 38.5289 74.8809 47.2788 Q74.8809 56.0056 71.8022 60.6121 Q68.7467 65.1954 62.9365 65.1954 Q57.1264 65.1954 54.0477 60.6121 Q50.9921 56.0056 50.9921 47.2788 Q50.9921 38.5289 54.0477 33.9456 Q57.1264 29.3391 62.9365 29.3391 Z\" fill=\"#000000\" fill-rule=\"evenodd\" fill-opacity=\"1\" /><path clip-path=\"url(#clip030)\" d=\"M83.0984 58.6445 L87.9827 58.6445 L87.9827 64.5241 L83.0984 64.5241 L83.0984 58.6445 Z\" fill=\"#000000\" fill-rule=\"evenodd\" fill-opacity=\"1\" /><path clip-path=\"url(#clip030)\" d=\"M102.196 60.5889 L118.515 60.5889 L118.515 64.5241 L96.5706 64.5241 L96.5706 60.5889 Q99.2326 57.8343 103.816 53.2047 Q108.422 48.552 109.603 47.2094 Q111.848 44.6862 112.728 42.9501 Q113.631 41.1909 113.631 39.5011 Q113.631 36.7465 111.686 35.0104 Q109.765 33.2743 106.663 33.2743 Q104.464 33.2743 102.01 34.0381 Q99.5798 34.802 96.8021 36.3529 L96.8021 31.6308 Q99.6261 30.4965 102.08 29.9178 Q104.534 29.3391 106.571 29.3391 Q111.941 29.3391 115.135 32.0243 Q118.33 34.7094 118.33 39.2002 Q118.33 41.3298 117.52 43.2511 Q116.733 45.1492 114.626 47.7418 Q114.047 48.4131 110.946 51.6306 Q107.844 54.8251 102.196 60.5889 Z\" fill=\"#000000\" fill-rule=\"evenodd\" fill-opacity=\"1\" /><path clip-path=\"url(#clip030)\" d=\"M138.33 33.0428 Q134.719 33.0428 132.89 36.6076 Q131.084 40.1492 131.084 47.2788 Q131.084 54.3853 132.89 57.9501 Q134.719 61.4917 138.33 61.4917 Q141.964 61.4917 143.769 57.9501 Q145.598 54.3853 145.598 47.2788 Q145.598 40.1492 143.769 36.6076 Q141.964 33.0428 138.33 33.0428 M138.33 29.3391 Q144.14 29.3391 147.195 33.9456 Q150.274 38.5289 150.274 47.2788 Q150.274 56.0056 147.195 60.6121 Q144.14 65.1954 138.33 65.1954 Q132.519 65.1954 129.441 60.6121 Q126.385 56.0056 126.385 47.2788 Q126.385 38.5289 129.441 33.9456 Q132.519 29.3391 138.33 29.3391 Z\" fill=\"#000000\" fill-rule=\"evenodd\" fill-opacity=\"1\" /><polyline clip-path=\"url(#clip032)\" style=\"stroke:#009af9; stroke-linecap:butt; stroke-linejoin:round; stroke-width:4; stroke-opacity:1; fill:none\" points=\"\n",
       "  240.436,-7215.35 294.598,-4330.1 348.76,-3015.01 402.922,-2212.62 457.084,-1654.83 511.246,-1237.2 565.408,-909.213 619.57,-642.969 673.732,-421.556 727.894,-234.016 \n",
       "  782.057,-72.8711 836.219,67.1947 890.381,190.086 944.543,298.752 998.705,395.471 1052.87,482.038 1107.03,559.891 1161.19,630.199 1215.35,693.925 1269.51,751.871 \n",
       "  1323.68,804.712 1377.84,853.02 1432,897.285 1486.16,937.928 1540.33,975.315 1594.49,1009.77 1648.65,1041.56 1702.81,1070.94 1756.97,1098.13 1811.14,1123.32 \n",
       "  1865.3,1146.68 1919.46,1168.38 1973.62,1188.53 2027.78,1207.29 2081.95,1224.74 2136.11,1241 2190.27,1256.16 2244.43,1270.31 2298.59,1283.51 2352.76,1295.84 \n",
       "  \n",
       "  \"/>\n",
       "<path clip-path=\"url(#clip032)\" d=\"\n",
       "M186.274 -5911.06 L186.274 1486.45 L457.084 1486.45 L457.084 -5911.06 L186.274 -5911.06 L186.274 -5911.06  Z\n",
       "  \" fill=\"#e26f46\" fill-rule=\"evenodd\" fill-opacity=\"0.4\"/>\n",
       "<polyline clip-path=\"url(#clip032)\" style=\"stroke:#000000; stroke-linecap:butt; stroke-linejoin:round; stroke-width:4; stroke-opacity:0.4; fill:none\" points=\"\n",
       "  186.274,-5911.06 186.274,1486.45 457.084,1486.45 457.084,-5911.06 186.274,-5911.06 \n",
       "  \"/>\n",
       "<path clip-path=\"url(#clip032)\" d=\"\n",
       "M457.084 -1046.55 L457.084 1486.45 L727.894 1486.45 L727.894 -1046.55 L457.084 -1046.55 L457.084 -1046.55  Z\n",
       "  \" fill=\"#e26f46\" fill-rule=\"evenodd\" fill-opacity=\"0.4\"/>\n",
       "<polyline clip-path=\"url(#clip032)\" style=\"stroke:#000000; stroke-linecap:butt; stroke-linejoin:round; stroke-width:4; stroke-opacity:0.4; fill:none\" points=\"\n",
       "  457.084,-1046.55 457.084,1486.45 727.894,1486.45 727.894,-1046.55 457.084,-1046.55 \n",
       "  \"/>\n",
       "<path clip-path=\"url(#clip032)\" d=\"\n",
       "M727.894 263.125 L727.894 1486.45 L998.705 1486.45 L998.705 263.125 L727.894 263.125 L727.894 263.125  Z\n",
       "  \" fill=\"#e26f46\" fill-rule=\"evenodd\" fill-opacity=\"0.4\"/>\n",
       "<polyline clip-path=\"url(#clip032)\" style=\"stroke:#000000; stroke-linecap:butt; stroke-linejoin:round; stroke-width:4; stroke-opacity:0.4; fill:none\" points=\"\n",
       "  727.894,263.125 727.894,1486.45 998.705,1486.45 998.705,263.125 727.894,263.125 \n",
       "  \"/>\n",
       "<path clip-path=\"url(#clip032)\" d=\"\n",
       "M998.705 522.181 L998.705 1486.45 L1269.51 1486.45 L1269.51 522.181 L998.705 522.181 L998.705 522.181  Z\n",
       "  \" fill=\"#e26f46\" fill-rule=\"evenodd\" fill-opacity=\"0.4\"/>\n",
       "<polyline clip-path=\"url(#clip032)\" style=\"stroke:#000000; stroke-linecap:butt; stroke-linejoin:round; stroke-width:4; stroke-opacity:0.4; fill:none\" points=\"\n",
       "  998.705,522.181 998.705,1486.45 1269.51,1486.45 1269.51,522.181 998.705,522.181 \n",
       "  \"/>\n",
       "<path clip-path=\"url(#clip032)\" d=\"\n",
       "M1269.51 752.454 L1269.51 1486.45 L1540.33 1486.45 L1540.33 752.454 L1269.51 752.454 L1269.51 752.454  Z\n",
       "  \" fill=\"#e26f46\" fill-rule=\"evenodd\" fill-opacity=\"0.4\"/>\n",
       "<polyline clip-path=\"url(#clip032)\" style=\"stroke:#000000; stroke-linecap:butt; stroke-linejoin:round; stroke-width:4; stroke-opacity:0.4; fill:none\" points=\"\n",
       "  1269.51,752.454 1269.51,1486.45 1540.33,1486.45 1540.33,752.454 1269.51,752.454 \n",
       "  \"/>\n",
       "<path clip-path=\"url(#clip032)\" d=\"\n",
       "M1540.33 1054.69 L1540.33 1486.45 L1811.14 1486.45 L1811.14 1054.69 L1540.33 1054.69 L1540.33 1054.69  Z\n",
       "  \" fill=\"#e26f46\" fill-rule=\"evenodd\" fill-opacity=\"0.4\"/>\n",
       "<polyline clip-path=\"url(#clip032)\" style=\"stroke:#000000; stroke-linecap:butt; stroke-linejoin:round; stroke-width:4; stroke-opacity:0.4; fill:none\" points=\"\n",
       "  1540.33,1054.69 1540.33,1486.45 1811.14,1486.45 1811.14,1054.69 1540.33,1054.69 \n",
       "  \"/>\n",
       "<path clip-path=\"url(#clip032)\" d=\"\n",
       "M1811.14 1169.82 L1811.14 1486.45 L2081.95 1486.45 L2081.95 1169.82 L1811.14 1169.82 L1811.14 1169.82  Z\n",
       "  \" fill=\"#e26f46\" fill-rule=\"evenodd\" fill-opacity=\"0.4\"/>\n",
       "<polyline clip-path=\"url(#clip032)\" style=\"stroke:#000000; stroke-linecap:butt; stroke-linejoin:round; stroke-width:4; stroke-opacity:0.4; fill:none\" points=\"\n",
       "  1811.14,1169.82 1811.14,1486.45 2081.95,1486.45 2081.95,1169.82 1811.14,1169.82 \n",
       "  \"/>\n",
       "<path clip-path=\"url(#clip032)\" d=\"\n",
       "M2081.95 1141.04 L2081.95 1486.45 L2352.76 1486.45 L2352.76 1141.04 L2081.95 1141.04 L2081.95 1141.04  Z\n",
       "  \" fill=\"#e26f46\" fill-rule=\"evenodd\" fill-opacity=\"0.4\"/>\n",
       "<polyline clip-path=\"url(#clip032)\" style=\"stroke:#000000; stroke-linecap:butt; stroke-linejoin:round; stroke-width:4; stroke-opacity:0.4; fill:none\" points=\"\n",
       "  2081.95,1141.04 2081.95,1486.45 2352.76,1486.45 2352.76,1141.04 2081.95,1141.04 \n",
       "  \"/>\n",
       "<path clip-path=\"url(#clip032)\" d=\"\n",
       "M2352.76 1385.7 L2352.76 1486.45 L2623.57 1486.45 L2623.57 1385.7 L2352.76 1385.7 L2352.76 1385.7  Z\n",
       "  \" fill=\"#e26f46\" fill-rule=\"evenodd\" fill-opacity=\"0.4\"/>\n",
       "<polyline clip-path=\"url(#clip032)\" style=\"stroke:#000000; stroke-linecap:butt; stroke-linejoin:round; stroke-width:4; stroke-opacity:0.4; fill:none\" points=\"\n",
       "  2352.76,1385.7 2352.76,1486.45 2623.57,1486.45 2623.57,1385.7 2352.76,1385.7 \n",
       "  \"/>\n",
       "<path clip-path=\"url(#clip032)\" d=\"\n",
       "M2623.57 1385.7 L2623.57 1486.45 L2894.38 1486.45 L2894.38 1385.7 L2623.57 1385.7 L2623.57 1385.7  Z\n",
       "  \" fill=\"#e26f46\" fill-rule=\"evenodd\" fill-opacity=\"0.4\"/>\n",
       "<polyline clip-path=\"url(#clip032)\" style=\"stroke:#000000; stroke-linecap:butt; stroke-linejoin:round; stroke-width:4; stroke-opacity:0.4; fill:none\" points=\"\n",
       "  2623.57,1385.7 2623.57,1486.45 2894.38,1486.45 2894.38,1385.7 2623.57,1385.7 \n",
       "  \"/>\n",
       "<path clip-path=\"url(#clip032)\" d=\"\n",
       "M2894.38 1457.66 L2894.38 1486.45 L3165.19 1486.45 L3165.19 1457.66 L2894.38 1457.66 L2894.38 1457.66  Z\n",
       "  \" fill=\"#e26f46\" fill-rule=\"evenodd\" fill-opacity=\"0.4\"/>\n",
       "<polyline clip-path=\"url(#clip032)\" style=\"stroke:#000000; stroke-linecap:butt; stroke-linejoin:round; stroke-width:4; stroke-opacity:0.4; fill:none\" points=\"\n",
       "  2894.38,1457.66 2894.38,1486.45 3165.19,1486.45 3165.19,1457.66 2894.38,1457.66 \n",
       "  \"/>\n",
       "<path clip-path=\"url(#clip032)\" d=\"\n",
       "M3165.19 1472.06 L3165.19 1486.45 L3436 1486.45 L3436 1472.06 L3165.19 1472.06 L3165.19 1472.06  Z\n",
       "  \" fill=\"#e26f46\" fill-rule=\"evenodd\" fill-opacity=\"0.4\"/>\n",
       "<polyline clip-path=\"url(#clip032)\" style=\"stroke:#000000; stroke-linecap:butt; stroke-linejoin:round; stroke-width:4; stroke-opacity:0.4; fill:none\" points=\"\n",
       "  3165.19,1472.06 3165.19,1486.45 3436,1486.45 3436,1472.06 3165.19,1472.06 \n",
       "  \"/>\n",
       "<path clip-path=\"url(#clip032)\" d=\"\n",
       "M3436 1457.66 L3436 1486.45 L3706.81 1486.45 L3706.81 1457.66 L3436 1457.66 L3436 1457.66  Z\n",
       "  \" fill=\"#e26f46\" fill-rule=\"evenodd\" fill-opacity=\"0.4\"/>\n",
       "<polyline clip-path=\"url(#clip032)\" style=\"stroke:#000000; stroke-linecap:butt; stroke-linejoin:round; stroke-width:4; stroke-opacity:0.4; fill:none\" points=\"\n",
       "  3436,1457.66 3436,1486.45 3706.81,1486.45 3706.81,1457.66 3436,1457.66 \n",
       "  \"/>\n",
       "<path clip-path=\"url(#clip032)\" d=\"\n",
       "M3706.81 1443.27 L3706.81 1486.45 L3977.62 1486.45 L3977.62 1443.27 L3706.81 1443.27 L3706.81 1443.27  Z\n",
       "  \" fill=\"#e26f46\" fill-rule=\"evenodd\" fill-opacity=\"0.4\"/>\n",
       "<polyline clip-path=\"url(#clip032)\" style=\"stroke:#000000; stroke-linecap:butt; stroke-linejoin:round; stroke-width:4; stroke-opacity:0.4; fill:none\" points=\"\n",
       "  3706.81,1443.27 3706.81,1486.45 3977.62,1486.45 3977.62,1443.27 3706.81,1443.27 \n",
       "  \"/>\n",
       "<path clip-path=\"url(#clip032)\" d=\"\n",
       "M3977.62 1457.66 L3977.62 1486.45 L4248.43 1486.45 L4248.43 1457.66 L3977.62 1457.66 L3977.62 1457.66  Z\n",
       "  \" fill=\"#e26f46\" fill-rule=\"evenodd\" fill-opacity=\"0.4\"/>\n",
       "<polyline clip-path=\"url(#clip032)\" style=\"stroke:#000000; stroke-linecap:butt; stroke-linejoin:round; stroke-width:4; stroke-opacity:0.4; fill:none\" points=\"\n",
       "  3977.62,1457.66 3977.62,1486.45 4248.43,1486.45 4248.43,1457.66 3977.62,1457.66 \n",
       "  \"/>\n",
       "<path clip-path=\"url(#clip032)\" d=\"\n",
       "M4248.43 1486.45 L4248.43 1486.45 L4519.24 1486.45 L4519.24 1486.45 L4248.43 1486.45 L4248.43 1486.45  Z\n",
       "  \" fill=\"#e26f46\" fill-rule=\"evenodd\" fill-opacity=\"0.4\"/>\n",
       "<polyline clip-path=\"url(#clip032)\" style=\"stroke:#000000; stroke-linecap:butt; stroke-linejoin:round; stroke-width:4; stroke-opacity:0.4; fill:none\" points=\"\n",
       "  4248.43,1486.45 4248.43,1486.45 4519.24,1486.45 4248.43,1486.45 \n",
       "  \"/>\n",
       "<path clip-path=\"url(#clip032)\" d=\"\n",
       "M4519.24 1472.06 L4519.24 1486.45 L4790.05 1486.45 L4790.05 1472.06 L4519.24 1472.06 L4519.24 1472.06  Z\n",
       "  \" fill=\"#e26f46\" fill-rule=\"evenodd\" fill-opacity=\"0.4\"/>\n",
       "<polyline clip-path=\"url(#clip032)\" style=\"stroke:#000000; stroke-linecap:butt; stroke-linejoin:round; stroke-width:4; stroke-opacity:0.4; fill:none\" points=\"\n",
       "  4519.24,1472.06 4519.24,1486.45 4790.05,1486.45 4790.05,1472.06 4519.24,1472.06 \n",
       "  \"/>\n",
       "<path clip-path=\"url(#clip032)\" d=\"\n",
       "M4790.05 1428.88 L4790.05 1486.45 L5060.86 1486.45 L5060.86 1428.88 L4790.05 1428.88 L4790.05 1428.88  Z\n",
       "  \" fill=\"#e26f46\" fill-rule=\"evenodd\" fill-opacity=\"0.4\"/>\n",
       "<polyline clip-path=\"url(#clip032)\" style=\"stroke:#000000; stroke-linecap:butt; stroke-linejoin:round; stroke-width:4; stroke-opacity:0.4; fill:none\" points=\"\n",
       "  4790.05,1428.88 4790.05,1486.45 5060.86,1486.45 5060.86,1428.88 4790.05,1428.88 \n",
       "  \"/>\n",
       "<path clip-path=\"url(#clip032)\" d=\"\n",
       "M5060.86 1472.06 L5060.86 1486.45 L5331.67 1486.45 L5331.67 1472.06 L5060.86 1472.06 L5060.86 1472.06  Z\n",
       "  \" fill=\"#e26f46\" fill-rule=\"evenodd\" fill-opacity=\"0.4\"/>\n",
       "<polyline clip-path=\"url(#clip032)\" style=\"stroke:#000000; stroke-linecap:butt; stroke-linejoin:round; stroke-width:4; stroke-opacity:0.4; fill:none\" points=\"\n",
       "  5060.86,1472.06 5060.86,1486.45 5331.67,1486.45 5331.67,1472.06 5060.86,1472.06 \n",
       "  \"/>\n",
       "<path clip-path=\"url(#clip032)\" d=\"\n",
       "M5331.67 1486.45 L5331.67 1486.45 L5602.48 1486.45 L5602.48 1486.45 L5331.67 1486.45 L5331.67 1486.45  Z\n",
       "  \" fill=\"#e26f46\" fill-rule=\"evenodd\" fill-opacity=\"0.4\"/>\n",
       "<polyline clip-path=\"url(#clip032)\" style=\"stroke:#000000; stroke-linecap:butt; stroke-linejoin:round; stroke-width:4; stroke-opacity:0.4; fill:none\" points=\"\n",
       "  5331.67,1486.45 5331.67,1486.45 5602.48,1486.45 5331.67,1486.45 \n",
       "  \"/>\n",
       "<path clip-path=\"url(#clip032)\" d=\"\n",
       "M5602.48 1486.45 L5602.48 1486.45 L5873.29 1486.45 L5873.29 1486.45 L5602.48 1486.45 L5602.48 1486.45  Z\n",
       "  \" fill=\"#e26f46\" fill-rule=\"evenodd\" fill-opacity=\"0.4\"/>\n",
       "<polyline clip-path=\"url(#clip032)\" style=\"stroke:#000000; stroke-linecap:butt; stroke-linejoin:round; stroke-width:4; stroke-opacity:0.4; fill:none\" points=\"\n",
       "  5602.48,1486.45 5602.48,1486.45 5873.29,1486.45 5602.48,1486.45 \n",
       "  \"/>\n",
       "<path clip-path=\"url(#clip032)\" d=\"\n",
       "M5873.29 1486.45 L5873.29 1486.45 L6144.1 1486.45 L6144.1 1486.45 L5873.29 1486.45 L5873.29 1486.45  Z\n",
       "  \" fill=\"#e26f46\" fill-rule=\"evenodd\" fill-opacity=\"0.4\"/>\n",
       "<polyline clip-path=\"url(#clip032)\" style=\"stroke:#000000; stroke-linecap:butt; stroke-linejoin:round; stroke-width:4; stroke-opacity:0.4; fill:none\" points=\"\n",
       "  5873.29,1486.45 5873.29,1486.45 6144.1,1486.45 5873.29,1486.45 \n",
       "  \"/>\n",
       "<path clip-path=\"url(#clip032)\" d=\"\n",
       "M6144.1 1486.45 L6144.1 1486.45 L6414.91 1486.45 L6414.91 1486.45 L6144.1 1486.45 L6144.1 1486.45  Z\n",
       "  \" fill=\"#e26f46\" fill-rule=\"evenodd\" fill-opacity=\"0.4\"/>\n",
       "<polyline clip-path=\"url(#clip032)\" style=\"stroke:#000000; stroke-linecap:butt; stroke-linejoin:round; stroke-width:4; stroke-opacity:0.4; fill:none\" points=\"\n",
       "  6144.1,1486.45 6144.1,1486.45 6414.91,1486.45 6144.1,1486.45 \n",
       "  \"/>\n",
       "<path clip-path=\"url(#clip032)\" d=\"\n",
       "M6414.91 1486.45 L6414.91 1486.45 L6685.72 1486.45 L6685.72 1486.45 L6414.91 1486.45 L6414.91 1486.45  Z\n",
       "  \" fill=\"#e26f46\" fill-rule=\"evenodd\" fill-opacity=\"0.4\"/>\n",
       "<polyline clip-path=\"url(#clip032)\" style=\"stroke:#000000; stroke-linecap:butt; stroke-linejoin:round; stroke-width:4; stroke-opacity:0.4; fill:none\" points=\"\n",
       "  6414.91,1486.45 6414.91,1486.45 6685.72,1486.45 6414.91,1486.45 \n",
       "  \"/>\n",
       "<path clip-path=\"url(#clip032)\" d=\"\n",
       "M6685.72 1486.45 L6685.72 1486.45 L6956.53 1486.45 L6956.53 1486.45 L6685.72 1486.45 L6685.72 1486.45  Z\n",
       "  \" fill=\"#e26f46\" fill-rule=\"evenodd\" fill-opacity=\"0.4\"/>\n",
       "<polyline clip-path=\"url(#clip032)\" style=\"stroke:#000000; stroke-linecap:butt; stroke-linejoin:round; stroke-width:4; stroke-opacity:0.4; fill:none\" points=\"\n",
       "  6685.72,1486.45 6685.72,1486.45 6956.53,1486.45 6685.72,1486.45 \n",
       "  \"/>\n",
       "<path clip-path=\"url(#clip032)\" d=\"\n",
       "M6956.53 1486.45 L6956.53 1486.45 L7227.34 1486.45 L7227.34 1486.45 L6956.53 1486.45 L6956.53 1486.45  Z\n",
       "  \" fill=\"#e26f46\" fill-rule=\"evenodd\" fill-opacity=\"0.4\"/>\n",
       "<polyline clip-path=\"url(#clip032)\" style=\"stroke:#000000; stroke-linecap:butt; stroke-linejoin:round; stroke-width:4; stroke-opacity:0.4; fill:none\" points=\"\n",
       "  6956.53,1486.45 6956.53,1486.45 7227.34,1486.45 6956.53,1486.45 \n",
       "  \"/>\n",
       "<path clip-path=\"url(#clip032)\" d=\"\n",
       "M7227.34 1486.45 L7227.34 1486.45 L7498.15 1486.45 L7498.15 1486.45 L7227.34 1486.45 L7227.34 1486.45  Z\n",
       "  \" fill=\"#e26f46\" fill-rule=\"evenodd\" fill-opacity=\"0.4\"/>\n",
       "<polyline clip-path=\"url(#clip032)\" style=\"stroke:#000000; stroke-linecap:butt; stroke-linejoin:round; stroke-width:4; stroke-opacity:0.4; fill:none\" points=\"\n",
       "  7227.34,1486.45 7227.34,1486.45 7498.15,1486.45 7227.34,1486.45 \n",
       "  \"/>\n",
       "<path clip-path=\"url(#clip032)\" d=\"\n",
       "M7498.15 1486.45 L7498.15 1486.45 L7768.96 1486.45 L7768.96 1486.45 L7498.15 1486.45 L7498.15 1486.45  Z\n",
       "  \" fill=\"#e26f46\" fill-rule=\"evenodd\" fill-opacity=\"0.4\"/>\n",
       "<polyline clip-path=\"url(#clip032)\" style=\"stroke:#000000; stroke-linecap:butt; stroke-linejoin:round; stroke-width:4; stroke-opacity:0.4; fill:none\" points=\"\n",
       "  7498.15,1486.45 7498.15,1486.45 7768.96,1486.45 7498.15,1486.45 \n",
       "  \"/>\n",
       "<path clip-path=\"url(#clip032)\" d=\"\n",
       "M7768.96 1486.45 L7768.96 1486.45 L8039.77 1486.45 L8039.77 1486.45 L7768.96 1486.45 L7768.96 1486.45  Z\n",
       "  \" fill=\"#e26f46\" fill-rule=\"evenodd\" fill-opacity=\"0.4\"/>\n",
       "<polyline clip-path=\"url(#clip032)\" style=\"stroke:#000000; stroke-linecap:butt; stroke-linejoin:round; stroke-width:4; stroke-opacity:0.4; fill:none\" points=\"\n",
       "  7768.96,1486.45 7768.96,1486.45 8039.77,1486.45 7768.96,1486.45 \n",
       "  \"/>\n",
       "<path clip-path=\"url(#clip032)\" d=\"\n",
       "M8039.77 1486.45 L8039.77 1486.45 L8310.58 1486.45 L8310.58 1486.45 L8039.77 1486.45 L8039.77 1486.45  Z\n",
       "  \" fill=\"#e26f46\" fill-rule=\"evenodd\" fill-opacity=\"0.4\"/>\n",
       "<polyline clip-path=\"url(#clip032)\" style=\"stroke:#000000; stroke-linecap:butt; stroke-linejoin:round; stroke-width:4; stroke-opacity:0.4; fill:none\" points=\"\n",
       "  8039.77,1486.45 8039.77,1486.45 8310.58,1486.45 8039.77,1486.45 \n",
       "  \"/>\n",
       "<path clip-path=\"url(#clip032)\" d=\"\n",
       "M8310.58 1486.45 L8310.58 1486.45 L8581.39 1486.45 L8581.39 1486.45 L8310.58 1486.45 L8310.58 1486.45  Z\n",
       "  \" fill=\"#e26f46\" fill-rule=\"evenodd\" fill-opacity=\"0.4\"/>\n",
       "<polyline clip-path=\"url(#clip032)\" style=\"stroke:#000000; stroke-linecap:butt; stroke-linejoin:round; stroke-width:4; stroke-opacity:0.4; fill:none\" points=\"\n",
       "  8310.58,1486.45 8310.58,1486.45 8581.39,1486.45 8310.58,1486.45 \n",
       "  \"/>\n",
       "<path clip-path=\"url(#clip032)\" d=\"\n",
       "M8581.39 1486.45 L8581.39 1486.45 L8852.2 1486.45 L8852.2 1486.45 L8581.39 1486.45 L8581.39 1486.45  Z\n",
       "  \" fill=\"#e26f46\" fill-rule=\"evenodd\" fill-opacity=\"0.4\"/>\n",
       "<polyline clip-path=\"url(#clip032)\" style=\"stroke:#000000; stroke-linecap:butt; stroke-linejoin:round; stroke-width:4; stroke-opacity:0.4; fill:none\" points=\"\n",
       "  8581.39,1486.45 8581.39,1486.45 8852.2,1486.45 8581.39,1486.45 \n",
       "  \"/>\n",
       "<path clip-path=\"url(#clip032)\" d=\"\n",
       "M8852.2 1486.45 L8852.2 1486.45 L9123.01 1486.45 L9123.01 1486.45 L8852.2 1486.45 L8852.2 1486.45  Z\n",
       "  \" fill=\"#e26f46\" fill-rule=\"evenodd\" fill-opacity=\"0.4\"/>\n",
       "<polyline clip-path=\"url(#clip032)\" style=\"stroke:#000000; stroke-linecap:butt; stroke-linejoin:round; stroke-width:4; stroke-opacity:0.4; fill:none\" points=\"\n",
       "  8852.2,1486.45 8852.2,1486.45 9123.01,1486.45 8852.2,1486.45 \n",
       "  \"/>\n",
       "<path clip-path=\"url(#clip032)\" d=\"\n",
       "M9123.01 1486.45 L9123.01 1486.45 L9393.82 1486.45 L9393.82 1486.45 L9123.01 1486.45 L9123.01 1486.45  Z\n",
       "  \" fill=\"#e26f46\" fill-rule=\"evenodd\" fill-opacity=\"0.4\"/>\n",
       "<polyline clip-path=\"url(#clip032)\" style=\"stroke:#000000; stroke-linecap:butt; stroke-linejoin:round; stroke-width:4; stroke-opacity:0.4; fill:none\" points=\"\n",
       "  9123.01,1486.45 9123.01,1486.45 9393.82,1486.45 9123.01,1486.45 \n",
       "  \"/>\n",
       "<path clip-path=\"url(#clip032)\" d=\"\n",
       "M9393.82 1486.45 L9393.82 1486.45 L9664.63 1486.45 L9664.63 1486.45 L9393.82 1486.45 L9393.82 1486.45  Z\n",
       "  \" fill=\"#e26f46\" fill-rule=\"evenodd\" fill-opacity=\"0.4\"/>\n",
       "<polyline clip-path=\"url(#clip032)\" style=\"stroke:#000000; stroke-linecap:butt; stroke-linejoin:round; stroke-width:4; stroke-opacity:0.4; fill:none\" points=\"\n",
       "  9393.82,1486.45 9393.82,1486.45 9664.63,1486.45 9393.82,1486.45 \n",
       "  \"/>\n",
       "<path clip-path=\"url(#clip032)\" d=\"\n",
       "M9664.63 1486.45 L9664.63 1486.45 L9935.44 1486.45 L9935.44 1486.45 L9664.63 1486.45 L9664.63 1486.45  Z\n",
       "  \" fill=\"#e26f46\" fill-rule=\"evenodd\" fill-opacity=\"0.4\"/>\n",
       "<polyline clip-path=\"url(#clip032)\" style=\"stroke:#000000; stroke-linecap:butt; stroke-linejoin:round; stroke-width:4; stroke-opacity:0.4; fill:none\" points=\"\n",
       "  9664.63,1486.45 9664.63,1486.45 9935.44,1486.45 9664.63,1486.45 \n",
       "  \"/>\n",
       "<path clip-path=\"url(#clip032)\" d=\"\n",
       "M9935.44 1486.45 L9935.44 1486.45 L10206.3 1486.45 L10206.3 1486.45 L9935.44 1486.45 L9935.44 1486.45  Z\n",
       "  \" fill=\"#e26f46\" fill-rule=\"evenodd\" fill-opacity=\"0.4\"/>\n",
       "<polyline clip-path=\"url(#clip032)\" style=\"stroke:#000000; stroke-linecap:butt; stroke-linejoin:round; stroke-width:4; stroke-opacity:0.4; fill:none\" points=\"\n",
       "  9935.44,1486.45 9935.44,1486.45 10206.3,1486.45 9935.44,1486.45 \n",
       "  \"/>\n",
       "<path clip-path=\"url(#clip032)\" d=\"\n",
       "M10206.3 1486.45 L10206.3 1486.45 L10477.1 1486.45 L10477.1 1486.45 L10206.3 1486.45 L10206.3 1486.45  Z\n",
       "  \" fill=\"#e26f46\" fill-rule=\"evenodd\" fill-opacity=\"0.4\"/>\n",
       "<polyline clip-path=\"url(#clip032)\" style=\"stroke:#000000; stroke-linecap:butt; stroke-linejoin:round; stroke-width:4; stroke-opacity:0.4; fill:none\" points=\"\n",
       "  10206.3,1486.45 10206.3,1486.45 10477.1,1486.45 10206.3,1486.45 \n",
       "  \"/>\n",
       "<path clip-path=\"url(#clip032)\" d=\"\n",
       "M10477.1 1486.45 L10477.1 1486.45 L10747.9 1486.45 L10747.9 1486.45 L10477.1 1486.45 L10477.1 1486.45  Z\n",
       "  \" fill=\"#e26f46\" fill-rule=\"evenodd\" fill-opacity=\"0.4\"/>\n",
       "<polyline clip-path=\"url(#clip032)\" style=\"stroke:#000000; stroke-linecap:butt; stroke-linejoin:round; stroke-width:4; stroke-opacity:0.4; fill:none\" points=\"\n",
       "  10477.1,1486.45 10477.1,1486.45 10747.9,1486.45 10477.1,1486.45 \n",
       "  \"/>\n",
       "<path clip-path=\"url(#clip032)\" d=\"\n",
       "M10747.9 1486.45 L10747.9 1486.45 L11018.7 1486.45 L11018.7 1486.45 L10747.9 1486.45 L10747.9 1486.45  Z\n",
       "  \" fill=\"#e26f46\" fill-rule=\"evenodd\" fill-opacity=\"0.4\"/>\n",
       "<polyline clip-path=\"url(#clip032)\" style=\"stroke:#000000; stroke-linecap:butt; stroke-linejoin:round; stroke-width:4; stroke-opacity:0.4; fill:none\" points=\"\n",
       "  10747.9,1486.45 10747.9,1486.45 11018.7,1486.45 10747.9,1486.45 \n",
       "  \"/>\n",
       "<path clip-path=\"url(#clip032)\" d=\"\n",
       "M11018.7 1486.45 L11018.7 1486.45 L11289.5 1486.45 L11289.5 1486.45 L11018.7 1486.45 L11018.7 1486.45  Z\n",
       "  \" fill=\"#e26f46\" fill-rule=\"evenodd\" fill-opacity=\"0.4\"/>\n",
       "<polyline clip-path=\"url(#clip032)\" style=\"stroke:#000000; stroke-linecap:butt; stroke-linejoin:round; stroke-width:4; stroke-opacity:0.4; fill:none\" points=\"\n",
       "  11018.7,1486.45 11018.7,1486.45 11289.5,1486.45 11018.7,1486.45 \n",
       "  \"/>\n",
       "<path clip-path=\"url(#clip032)\" d=\"\n",
       "M11289.5 1472.06 L11289.5 1486.45 L11560.3 1486.45 L11560.3 1472.06 L11289.5 1472.06 L11289.5 1472.06  Z\n",
       "  \" fill=\"#e26f46\" fill-rule=\"evenodd\" fill-opacity=\"0.4\"/>\n",
       "<polyline clip-path=\"url(#clip032)\" style=\"stroke:#000000; stroke-linecap:butt; stroke-linejoin:round; stroke-width:4; stroke-opacity:0.4; fill:none\" points=\"\n",
       "  11289.5,1472.06 11289.5,1486.45 11560.3,1486.45 11560.3,1472.06 11289.5,1472.06 \n",
       "  \"/>\n",
       "<circle clip-path=\"url(#clip032)\" style=\"fill:#e26f46; stroke:none; fill-opacity:0\" cx=\"863.3\" cy=\"263.125\" r=\"2\"/>\n",
       "<circle clip-path=\"url(#clip032)\" style=\"fill:#e26f46; stroke:none; fill-opacity:0\" cx=\"1134.11\" cy=\"522.181\" r=\"2\"/>\n",
       "<circle clip-path=\"url(#clip032)\" style=\"fill:#e26f46; stroke:none; fill-opacity:0\" cx=\"1404.92\" cy=\"752.454\" r=\"2\"/>\n",
       "<circle clip-path=\"url(#clip032)\" style=\"fill:#e26f46; stroke:none; fill-opacity:0\" cx=\"1675.73\" cy=\"1054.69\" r=\"2\"/>\n",
       "<circle clip-path=\"url(#clip032)\" style=\"fill:#e26f46; stroke:none; fill-opacity:0\" cx=\"1946.54\" cy=\"1169.82\" r=\"2\"/>\n",
       "<circle clip-path=\"url(#clip032)\" style=\"fill:#e26f46; stroke:none; fill-opacity:0\" cx=\"2217.35\" cy=\"1141.04\" r=\"2\"/>\n",
       "<path clip-path=\"url(#clip030)\" d=\"\n",
       "M1987.39 250.738 L2280.54 250.738 L2280.54 95.2176 L1987.39 95.2176  Z\n",
       "  \" fill=\"#ffffff\" fill-rule=\"evenodd\" fill-opacity=\"1\"/>\n",
       "<polyline clip-path=\"url(#clip030)\" style=\"stroke:#000000; stroke-linecap:butt; stroke-linejoin:round; stroke-width:4; stroke-opacity:1; fill:none\" points=\"\n",
       "  1987.39,250.738 2280.54,250.738 2280.54,95.2176 1987.39,95.2176 1987.39,250.738 \n",
       "  \"/>\n",
       "<polyline clip-path=\"url(#clip030)\" style=\"stroke:#009af9; stroke-linecap:butt; stroke-linejoin:round; stroke-width:4; stroke-opacity:1; fill:none\" points=\"\n",
       "  2011.46,147.058 2155.89,147.058 \n",
       "  \"/>\n",
       "<path clip-path=\"url(#clip030)\" d=\"M2193.81 166.745 Q2192 171.375 2190.29 172.787 Q2188.58 174.199 2185.71 174.199 L2182.3 174.199 L2182.3 170.634 L2184.8 170.634 Q2186.56 170.634 2187.53 169.8 Q2188.51 168.967 2189.69 165.865 L2190.45 163.921 L2179.97 138.412 L2184.48 138.412 L2192.58 158.689 L2200.68 138.412 L2205.2 138.412 L2193.81 166.745 Z\" fill=\"#000000\" fill-rule=\"evenodd\" fill-opacity=\"1\" /><path clip-path=\"url(#clip030)\" d=\"M2212.49 160.402 L2220.13 160.402 L2220.13 134.037 L2211.82 135.703 L2211.82 131.444 L2220.08 129.778 L2224.76 129.778 L2224.76 160.402 L2232.4 160.402 L2232.4 164.338 L2212.49 164.338 L2212.49 160.402 Z\" fill=\"#000000\" fill-rule=\"evenodd\" fill-opacity=\"1\" /><path clip-path=\"url(#clip030)\" d=\"\n",
       "M2011.46 219.634 L2155.89 219.634 L2155.89 178.162 L2011.46 178.162 L2011.46 219.634  Z\n",
       "  \" fill=\"#e26f46\" fill-rule=\"evenodd\" fill-opacity=\"0.4\"/>\n",
       "<polyline clip-path=\"url(#clip030)\" style=\"stroke:#000000; stroke-linecap:butt; stroke-linejoin:round; stroke-width:4; stroke-opacity:1; fill:none\" points=\"\n",
       "  2011.46,219.634 2155.89,219.634 2155.89,178.162 2011.46,178.162 2011.46,219.634 \n",
       "  \"/>\n",
       "<path clip-path=\"url(#clip030)\" d=\"M2193.81 218.585 Q2192 223.215 2190.29 224.627 Q2188.58 226.039 2185.71 226.039 L2182.3 226.039 L2182.3 222.474 L2184.8 222.474 Q2186.56 222.474 2187.53 221.64 Q2188.51 220.807 2189.69 217.705 L2190.45 215.761 L2179.97 190.252 L2184.48 190.252 L2192.58 210.529 L2200.68 190.252 L2205.2 190.252 L2193.81 218.585 Z\" fill=\"#000000\" fill-rule=\"evenodd\" fill-opacity=\"1\" /><path clip-path=\"url(#clip030)\" d=\"M2215.71 212.242 L2232.03 212.242 L2232.03 216.178 L2210.08 216.178 L2210.08 212.242 Q2212.74 209.488 2217.33 204.858 Q2221.93 200.205 2223.11 198.863 Q2225.36 196.34 2226.24 194.604 Q2227.14 192.844 2227.14 191.155 Q2227.14 188.4 2225.2 186.664 Q2223.28 184.928 2220.17 184.928 Q2217.97 184.928 2215.52 185.692 Q2213.09 186.455 2210.31 188.006 L2210.31 183.284 Q2213.14 182.15 2215.59 181.571 Q2218.04 180.993 2220.08 180.993 Q2225.45 180.993 2228.65 183.678 Q2231.84 186.363 2231.84 190.854 Q2231.84 192.983 2231.03 194.905 Q2230.24 196.803 2228.14 199.395 Q2227.56 200.067 2224.46 203.284 Q2221.35 206.479 2215.71 212.242 Z\" fill=\"#000000\" fill-rule=\"evenodd\" fill-opacity=\"1\" /></svg>\n"
      ]
     },
     "metadata": {},
     "execution_count": 56
    }
   ],
   "cell_type": "code",
   "source": [
    "f(x) = pdf(g, x)\n",
    "\n",
    "x = 0:0.1:4 # floats from 0 to 4 in steps of 0.1\n",
    "y = f.(x)   # apply f element-wise to x\n",
    "\n",
    "plot(x, y, xrange=(0,4), yrange=(0,0.2))\n",
    "histogram!(samples , normalize=true, alpha=0.4)"
   ],
   "metadata": {},
   "execution_count": 56
  },
  {
   "outputs": [],
   "cell_type": "code",
   "source": [
    "savefig(\"my_first_plot.png\")\n",
    "\n",
    "\n",
    "# Exercises\n",
    "\n",
    "### Exercise 1"
   ],
   "metadata": {},
   "execution_count": 57
  },
  {
   "cell_type": "markdown",
   "source": [
    "Write a function with one argument `v`, which may assume is a\n",
    "vector, that returns"
   ],
   "metadata": {}
  },
  {
   "cell_type": "markdown",
   "source": [
    "---\n",
    "\n",
    "*This notebook was generated using [Literate.jl](https://github.com/fredrikekre/Literate.jl).*"
   ],
   "metadata": {}
  }
 ],
 "nbformat_minor": 3,
 "metadata": {
  "language_info": {
   "file_extension": ".jl",
   "mimetype": "application/julia",
   "name": "julia",
   "version": "1.6.3"
  },
  "kernelspec": {
   "name": "julia-1.6",
   "display_name": "Julia 1.6.3",
   "language": "julia"
  }
 },
 "nbformat": 4
}
